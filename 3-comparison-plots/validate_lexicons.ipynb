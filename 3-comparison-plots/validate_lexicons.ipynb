{
 "cells": [
  {
   "cell_type": "code",
   "execution_count": 1,
   "metadata": {},
   "outputs": [],
   "source": [
    "from collections import defaultdict\n",
    "from datetime import datetime\n",
    "import dill\n",
    "from itertools import permutations, combinations\n",
    "import json\n",
    "from operator import itemgetter\n",
    "import os\n",
    "import pickle\n",
    "import random\n",
    "import re\n",
    "import time\n",
    "\n",
    "import numpy as np\n",
    "import pandas as pd\n",
    "from sklearn.cluster import KMeans\n",
    "\n",
    "%matplotlib inline\n",
    "import matplotlib.pyplot as plt\n",
    "import seaborn as sns\n",
    "from adjustText import adjust_text\n",
    "sns.set(style='ticks', font_scale=1.2)\n",
    "import matplotlib\n",
    "matplotlib.rcParams['pdf.fonttype'] = 42\n",
    "matplotlib.rcParams['ps.fonttype'] = 42\n",
    "\n",
    "import little_mallet_wrapper as lmw"
   ]
  },
  {
   "cell_type": "code",
   "execution_count": 2,
   "metadata": {},
   "outputs": [],
   "source": [
    "data_directory_path   = '/Users/maria/Documents/data/birth-control'\n",
    "output_directory_path = '/Users/maria/Documents/output/birth-control'"
   ]
  },
  {
   "cell_type": "markdown",
   "metadata": {},
   "source": [
    "<br><br>\n",
    "\n",
    "# Load datasets (Reddit, WebMD, Twitter)"
   ]
  },
  {
   "cell_type": "code",
   "execution_count": 3,
   "metadata": {},
   "outputs": [
    {
     "name": "stderr",
     "output_type": "stream",
     "text": [
      "/var/folders/n8/40phkcv97hj6ltnvb_9y7njh0000gn/T/ipykernel_64289/1744876062.py:1: DtypeWarning: Columns (2,5,8,9,13,14,23) have mixed types. Specify dtype option on import or set low_memory=False.\n",
      "  combined_df = pd.read_csv(data_directory_path + '/combined_df.side_effects.csv')\n"
     ]
    }
   ],
   "source": [
    "combined_df = pd.read_csv(data_directory_path + '/combined_df.side_effects.csv')"
   ]
  },
  {
   "cell_type": "code",
   "execution_count": 4,
   "metadata": {},
   "outputs": [
    {
     "data": {
      "text/plain": [
       "1063672"
      ]
     },
     "execution_count": 4,
     "metadata": {},
     "output_type": "execute_result"
    }
   ],
   "source": [
    "len(combined_df.index)"
   ]
  },
  {
   "cell_type": "code",
   "execution_count": 5,
   "metadata": {},
   "outputs": [
    {
     "data": {
      "text/plain": [
       "twitter-posts      499796\n",
       "reddit-comments    264912\n",
       "twitter-replies    211896\n",
       "reddit-posts        68958\n",
       "webmd-reviews       18110\n",
       "Name: source, dtype: int64"
      ]
     },
     "execution_count": 5,
     "metadata": {},
     "output_type": "execute_result"
    }
   ],
   "source": [
    "combined_df['source'].value_counts()"
   ]
  },
  {
   "cell_type": "code",
   "execution_count": 6,
   "metadata": {},
   "outputs": [
    {
     "data": {
      "text/plain": [
       "Index(['Unnamed: 0.2', 'Unnamed: 0', 'id', 'created_utc', 'text', 'title',\n",
       "       'year', 'month', 'url', 'link_flair_text', 'tokens_text', 'text_type',\n",
       "       'source', 'parent_id', 'date', 'conversation_id', 'retweet_count',\n",
       "       'reply_count', 'like_count', 'quote_count', 'num_tokens',\n",
       "       'Unnamed: 0.1', 'Unnamed: 0.1.1', 'name', 'any side effect', 'libido',\n",
       "       'appetite', 'mood', 'pms', 'no period', 'dryness', 'cramps', 'bloating',\n",
       "       'felt strings', 'dizziness', 'breasts', 'stroke', 'weight gain', 'pain',\n",
       "       'general', 'headache', 'hair loss', 'fatigue', 'nausea', 'discharge',\n",
       "       'heart attack', 'infection', 'blood pressure', 'skin', 'bleeding'],\n",
       "      dtype='object')"
      ]
     },
     "execution_count": 6,
     "metadata": {},
     "output_type": "execute_result"
    }
   ],
   "source": [
    "combined_df.columns"
   ]
  },
  {
   "attachments": {},
   "cell_type": "markdown",
   "metadata": {},
   "source": [
    "<br><br>\n",
    "\n",
    "# **Get data for method labeling**"
   ]
  },
  {
   "cell_type": "code",
   "execution_count": 60,
   "metadata": {},
   "outputs": [],
   "source": [
    "df_to_label = combined_df.groupby(['text_type', 'source']).sample(50) "
   ]
  },
  {
   "cell_type": "code",
   "execution_count": 61,
   "metadata": {},
   "outputs": [
    {
     "data": {
      "text/plain": [
       "750"
      ]
     },
     "execution_count": 61,
     "metadata": {},
     "output_type": "execute_result"
    }
   ],
   "source": [
    "len(df_to_label.index)"
   ]
  },
  {
   "cell_type": "code",
   "execution_count": 62,
   "metadata": {},
   "outputs": [],
   "source": [
    "df_to_label = df_to_label[['id', 'text', 'title', 'text_type', 'source']]"
   ]
  },
  {
   "cell_type": "code",
   "execution_count": 63,
   "metadata": {},
   "outputs": [
    {
     "data": {
      "text/html": [
       "<div>\n",
       "<style scoped>\n",
       "    .dataframe tbody tr th:only-of-type {\n",
       "        vertical-align: middle;\n",
       "    }\n",
       "\n",
       "    .dataframe tbody tr th {\n",
       "        vertical-align: top;\n",
       "    }\n",
       "\n",
       "    .dataframe thead th {\n",
       "        text-align: right;\n",
       "    }\n",
       "</style>\n",
       "<table border=\"1\" class=\"dataframe\">\n",
       "  <thead>\n",
       "    <tr style=\"text-align: right;\">\n",
       "      <th></th>\n",
       "      <th>id</th>\n",
       "      <th>text</th>\n",
       "      <th>title</th>\n",
       "      <th>text_type</th>\n",
       "      <th>source</th>\n",
       "    </tr>\n",
       "  </thead>\n",
       "  <tbody>\n",
       "    <tr>\n",
       "      <th>209783</th>\n",
       "      <td>e6414z8</td>\n",
       "      <td>Yes yes you’re not alone... I’ve been bleeding...</td>\n",
       "      <td>NaN</td>\n",
       "      <td>implant</td>\n",
       "      <td>reddit-comments</td>\n",
       "    </tr>\n",
       "    <tr>\n",
       "      <th>186543</th>\n",
       "      <td>duk95hn</td>\n",
       "      <td>That article is referring to Implanon which is...</td>\n",
       "      <td>NaN</td>\n",
       "      <td>implant</td>\n",
       "      <td>reddit-comments</td>\n",
       "    </tr>\n",
       "    <tr>\n",
       "      <th>115195</th>\n",
       "      <td>cyl55u2</td>\n",
       "      <td>Yep! We usually suggest the non-dominant, but ...</td>\n",
       "      <td>NaN</td>\n",
       "      <td>implant</td>\n",
       "      <td>reddit-comments</td>\n",
       "    </tr>\n",
       "    <tr>\n",
       "      <th>278174</th>\n",
       "      <td>fekp3e6</td>\n",
       "      <td>I'm 19 as well and got mine a week ago. It fel...</td>\n",
       "      <td>NaN</td>\n",
       "      <td>implant</td>\n",
       "      <td>reddit-comments</td>\n",
       "    </tr>\n",
       "    <tr>\n",
       "      <th>283717</th>\n",
       "      <td>g9iz3w1</td>\n",
       "      <td>The implant is pretty much the best tolerated ...</td>\n",
       "      <td>NaN</td>\n",
       "      <td>implant</td>\n",
       "      <td>reddit-comments</td>\n",
       "    </tr>\n",
       "    <tr>\n",
       "      <th>...</th>\n",
       "      <td>...</td>\n",
       "      <td>...</td>\n",
       "      <td>...</td>\n",
       "      <td>...</td>\n",
       "      <td>...</td>\n",
       "    </tr>\n",
       "    <tr>\n",
       "      <th>1049915</th>\n",
       "      <td>w5440</td>\n",
       "      <td>Have been taking Junel for three months. Besid...</td>\n",
       "      <td>NaN</td>\n",
       "      <td>pill</td>\n",
       "      <td>webmd-reviews</td>\n",
       "    </tr>\n",
       "    <tr>\n",
       "      <th>1060714</th>\n",
       "      <td>w17450</td>\n",
       "      <td>I am on my third month and I'm considering sto...</td>\n",
       "      <td>NaN</td>\n",
       "      <td>pill</td>\n",
       "      <td>webmd-reviews</td>\n",
       "    </tr>\n",
       "    <tr>\n",
       "      <th>1051378</th>\n",
       "      <td>w7007</td>\n",
       "      <td>Before I started Loestrin 24 Fe, I was taking ...</td>\n",
       "      <td>NaN</td>\n",
       "      <td>pill</td>\n",
       "      <td>webmd-reviews</td>\n",
       "    </tr>\n",
       "    <tr>\n",
       "      <th>1050742</th>\n",
       "      <td>w6354</td>\n",
       "      <td>I have been taking these pills for almost a ye...</td>\n",
       "      <td>NaN</td>\n",
       "      <td>pill</td>\n",
       "      <td>webmd-reviews</td>\n",
       "    </tr>\n",
       "    <tr>\n",
       "      <th>1057379</th>\n",
       "      <td>w13790</td>\n",
       "      <td>Honestly it's really funny that people don't u...</td>\n",
       "      <td>NaN</td>\n",
       "      <td>pill</td>\n",
       "      <td>webmd-reviews</td>\n",
       "    </tr>\n",
       "  </tbody>\n",
       "</table>\n",
       "<p>750 rows × 5 columns</p>\n",
       "</div>"
      ],
      "text/plain": [
       "              id                                               text title  \\\n",
       "209783   e6414z8  Yes yes you’re not alone... I’ve been bleeding...   NaN   \n",
       "186543   duk95hn  That article is referring to Implanon which is...   NaN   \n",
       "115195   cyl55u2  Yep! We usually suggest the non-dominant, but ...   NaN   \n",
       "278174   fekp3e6  I'm 19 as well and got mine a week ago. It fel...   NaN   \n",
       "283717   g9iz3w1  The implant is pretty much the best tolerated ...   NaN   \n",
       "...          ...                                                ...   ...   \n",
       "1049915    w5440  Have been taking Junel for three months. Besid...   NaN   \n",
       "1060714   w17450  I am on my third month and I'm considering sto...   NaN   \n",
       "1051378    w7007  Before I started Loestrin 24 Fe, I was taking ...   NaN   \n",
       "1050742    w6354  I have been taking these pills for almost a ye...   NaN   \n",
       "1057379   w13790  Honestly it's really funny that people don't u...   NaN   \n",
       "\n",
       "        text_type           source  \n",
       "209783    implant  reddit-comments  \n",
       "186543    implant  reddit-comments  \n",
       "115195    implant  reddit-comments  \n",
       "278174    implant  reddit-comments  \n",
       "283717    implant  reddit-comments  \n",
       "...           ...              ...  \n",
       "1049915      pill    webmd-reviews  \n",
       "1060714      pill    webmd-reviews  \n",
       "1051378      pill    webmd-reviews  \n",
       "1050742      pill    webmd-reviews  \n",
       "1057379      pill    webmd-reviews  \n",
       "\n",
       "[750 rows x 5 columns]"
      ]
     },
     "execution_count": 63,
     "metadata": {},
     "output_type": "execute_result"
    }
   ],
   "source": [
    "df_to_label"
   ]
  },
  {
   "cell_type": "code",
   "execution_count": 64,
   "metadata": {},
   "outputs": [],
   "source": [
    "df_to_label.to_csv(output_directory_path + '/validation.methods.to_label.csv')"
   ]
  },
  {
   "attachments": {},
   "cell_type": "markdown",
   "metadata": {},
   "source": [
    "<br><br><br><br>\n",
    "\n",
    "# **Get data for side effects labeling**"
   ]
  },
  {
   "cell_type": "code",
   "execution_count": 7,
   "metadata": {},
   "outputs": [],
   "source": [
    "side_effects = ['any side effect', 'libido',\n",
    "                'appetite', 'mood', 'pms', 'no period', 'dryness', 'cramps', 'bloating',\n",
    "                'felt strings', 'dizziness', 'breasts', 'stroke', 'weight gain', 'pain',\n",
    "                'general', 'headache', 'hair loss', 'fatigue', 'nausea', 'discharge',\n",
    "                'heart attack', 'infection', 'blood pressure', 'skin', 'bleeding']"
   ]
  },
  {
   "cell_type": "code",
   "execution_count": 41,
   "metadata": {},
   "outputs": [
    {
     "data": {
      "text/plain": [
       "1040"
      ]
     },
     "execution_count": 41,
     "metadata": {},
     "output_type": "execute_result"
    }
   ],
   "source": [
    "dicts_to_label = []\n",
    "for _source in combined_df['source'].unique():\n",
    "    for _side_effect in side_effects:\n",
    "\n",
    "        try:\n",
    "            _sampled_df = combined_df[(combined_df['source'] == _source) & (combined_df[_side_effect] == 1)].sample(4)\n",
    "            for i, r in _sampled_df.iterrows():\n",
    "                _text = ''\n",
    "                if not pd.isnull(r['title']):\n",
    "                    _text = '[TITLE: ' + r['title'] + '] '\n",
    "                _text += r['text']\n",
    "                dicts_to_label.append({'id': r['id'],\n",
    "                                       'source': r['source'],\n",
    "                                       'text': _text,\n",
    "                                       'side_effect': _side_effect + '_YES'})\n",
    "\n",
    "            _sampled_df = combined_df[(combined_df['source'] == _source) & (combined_df[_side_effect] == 0)].sample(4)\n",
    "            for i, r in _sampled_df.iterrows():\n",
    "                _text = ''\n",
    "                if not pd.isnull(r['title']):\n",
    "                    _text = '[TITLE: ' + r['title'] + '] '\n",
    "                _text += r['text']\n",
    "                dicts_to_label.append({'id': r['id'],\n",
    "                                       'source': r['source'],\n",
    "                                       'text': _text,\n",
    "                                       'side_effect': _side_effect + '_NO'})\n",
    "\n",
    "        except ValueError:\n",
    "            _sampled_df = combined_df[(combined_df['source'] == _source) & (combined_df[_side_effect] == 1)].sample(4)\n",
    "            for i, r in _sampled_df.iterrows():\n",
    "                _text = ''\n",
    "                if not pd.isnull(r['title']):\n",
    "                    _text = '[TITLE: ' + r['title'] + '] '\n",
    "                _text += r['text']\n",
    "                dicts_to_label.append({'id': r['id'],\n",
    "                                       'source': r['source'],\n",
    "                                       'text': _text,\n",
    "                                       'side_effect': _side_effect + '_YES'})\n",
    "\n",
    "            _sampled_df = combined_df[(combined_df['source'] == _source) & (combined_df[_side_effect] == 0)].sample(4)\n",
    "            for i, r in _sampled_df.iterrows():\n",
    "                _text = ''\n",
    "                if not pd.isnull(r['title']):\n",
    "                    _text = '[TITLE: ' + r['title'] + '] '\n",
    "                _text += r['text']\n",
    "                dicts_to_label.append({'id': r['id'],\n",
    "                                       'source': r['source'],\n",
    "                                       'text': _text,\n",
    "                                       'side_effect': _side_effect + '_NO'})\n",
    "            print(_source, _side_effect, len(combined_df[(combined_df['source'] == _source) & (combined_df[_side_effect] == 1)]))\n",
    "\n",
    "len(dicts_to_label)"
   ]
  },
  {
   "cell_type": "code",
   "execution_count": 42,
   "metadata": {},
   "outputs": [],
   "source": [
    "df_to_label = pd.DataFrame(dicts_to_label)"
   ]
  },
  {
   "cell_type": "code",
   "execution_count": 43,
   "metadata": {},
   "outputs": [
    {
     "data": {
      "text/html": [
       "<div>\n",
       "<style scoped>\n",
       "    .dataframe tbody tr th:only-of-type {\n",
       "        vertical-align: middle;\n",
       "    }\n",
       "\n",
       "    .dataframe tbody tr th {\n",
       "        vertical-align: top;\n",
       "    }\n",
       "\n",
       "    .dataframe thead th {\n",
       "        text-align: right;\n",
       "    }\n",
       "</style>\n",
       "<table border=\"1\" class=\"dataframe\">\n",
       "  <thead>\n",
       "    <tr style=\"text-align: right;\">\n",
       "      <th></th>\n",
       "      <th>id</th>\n",
       "      <th>source</th>\n",
       "      <th>text</th>\n",
       "      <th>side_effect</th>\n",
       "    </tr>\n",
       "  </thead>\n",
       "  <tbody>\n",
       "    <tr>\n",
       "      <th>418</th>\n",
       "      <td>1197641105010876416</td>\n",
       "      <td>twitter-posts</td>\n",
       "      <td>Gynaecologists debunk myths surrounding the co...</td>\n",
       "      <td>any side effect_YES</td>\n",
       "    </tr>\n",
       "    <tr>\n",
       "      <th>999</th>\n",
       "      <td>w10974</td>\n",
       "      <td>webmd-reviews</td>\n",
       "      <td>I had Mirena for 1 month.  I was crabby and my...</td>\n",
       "      <td>discharge_NO</td>\n",
       "    </tr>\n",
       "    <tr>\n",
       "      <th>133</th>\n",
       "      <td>7plwst</td>\n",
       "      <td>reddit-posts</td>\n",
       "      <td>[TITLE: iud help???] i got a mirena iud insert...</td>\n",
       "      <td>headache_NO</td>\n",
       "    </tr>\n",
       "  </tbody>\n",
       "</table>\n",
       "</div>"
      ],
      "text/plain": [
       "                      id         source  \\\n",
       "418  1197641105010876416  twitter-posts   \n",
       "999               w10974  webmd-reviews   \n",
       "133               7plwst   reddit-posts   \n",
       "\n",
       "                                                  text          side_effect  \n",
       "418  Gynaecologists debunk myths surrounding the co...  any side effect_YES  \n",
       "999  I had Mirena for 1 month.  I was crabby and my...         discharge_NO  \n",
       "133  [TITLE: iud help???] i got a mirena iud insert...          headache_NO  "
      ]
     },
     "execution_count": 43,
     "metadata": {},
     "output_type": "execute_result"
    }
   ],
   "source": [
    "df_to_label.sample(3)"
   ]
  },
  {
   "cell_type": "code",
   "execution_count": 44,
   "metadata": {},
   "outputs": [
    {
     "data": {
      "text/plain": [
       "any side effect_YES    20\n",
       "any side effect_NO     20\n",
       "pain_YES               20\n",
       "pain_NO                20\n",
       "general_YES            20\n",
       "general_NO             20\n",
       "headache_YES           20\n",
       "headache_NO            20\n",
       "hair loss_YES          20\n",
       "hair loss_NO           20\n",
       "fatigue_YES            20\n",
       "fatigue_NO             20\n",
       "nausea_YES             20\n",
       "nausea_NO              20\n",
       "discharge_YES          20\n",
       "discharge_NO           20\n",
       "heart attack_YES       20\n",
       "heart attack_NO        20\n",
       "infection_YES          20\n",
       "infection_NO           20\n",
       "blood pressure_YES     20\n",
       "blood pressure_NO      20\n",
       "skin_YES               20\n",
       "skin_NO                20\n",
       "bleeding_YES           20\n",
       "weight gain_NO         20\n",
       "weight gain_YES        20\n",
       "stroke_NO              20\n",
       "dryness_YES            20\n",
       "libido_YES             20\n",
       "libido_NO              20\n",
       "appetite_YES           20\n",
       "appetite_NO            20\n",
       "mood_YES               20\n",
       "mood_NO                20\n",
       "pms_YES                20\n",
       "pms_NO                 20\n",
       "no period_YES          20\n",
       "no period_NO           20\n",
       "dryness_NO             20\n",
       "stroke_YES             20\n",
       "cramps_YES             20\n",
       "cramps_NO              20\n",
       "bloating_YES           20\n",
       "bloating_NO            20\n",
       "felt strings_YES       20\n",
       "felt strings_NO        20\n",
       "dizziness_YES          20\n",
       "dizziness_NO           20\n",
       "breasts_YES            20\n",
       "breasts_NO             20\n",
       "bleeding_NO            20\n",
       "Name: side_effect, dtype: int64"
      ]
     },
     "execution_count": 44,
     "metadata": {},
     "output_type": "execute_result"
    }
   ],
   "source": [
    "df_to_label['side_effect'].value_counts()"
   ]
  },
  {
   "cell_type": "code",
   "execution_count": 45,
   "metadata": {},
   "outputs": [],
   "source": [
    "df_to_label.to_csv(output_directory_path + '/validation.side_effects.to_label.csv')"
   ]
  },
  {
   "cell_type": "code",
   "execution_count": 46,
   "metadata": {},
   "outputs": [
    {
     "data": {
      "text/plain": [
       "1040"
      ]
     },
     "execution_count": 46,
     "metadata": {},
     "output_type": "execute_result"
    }
   ],
   "source": [
    "len(df_to_label.index)"
   ]
  },
  {
   "cell_type": "code",
   "execution_count": null,
   "metadata": {},
   "outputs": [],
   "source": []
  }
 ],
 "metadata": {
  "kernelspec": {
   "display_name": "python3.8env",
   "language": "python",
   "name": "python3"
  },
  "language_info": {
   "codemirror_mode": {
    "name": "ipython",
    "version": 3
   },
   "file_extension": ".py",
   "mimetype": "text/x-python",
   "name": "python",
   "nbconvert_exporter": "python",
   "pygments_lexer": "ipython3",
   "version": "3.8.12"
  },
  "orig_nbformat": 2,
  "vscode": {
   "interpreter": {
    "hash": "88435282e7afd386f137f5bf71124f6ca50142be149f9ca18724b5a580de610c"
   }
  }
 },
 "nbformat": 4,
 "nbformat_minor": 2
}
