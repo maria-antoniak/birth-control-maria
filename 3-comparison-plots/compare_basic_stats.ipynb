{
 "cells": [
  {
   "cell_type": "code",
   "execution_count": 1,
   "metadata": {},
   "outputs": [],
   "source": [
    "from collections import defaultdict\n",
    "from datetime import datetime\n",
    "import dill\n",
    "from itertools import permutations, combinations\n",
    "import json\n",
    "from operator import itemgetter\n",
    "import os\n",
    "import pickle\n",
    "import random\n",
    "import re\n",
    "import time\n",
    "\n",
    "import numpy as np\n",
    "import pandas as pd\n",
    "from sklearn.cluster import KMeans\n",
    "\n",
    "%matplotlib inline\n",
    "import matplotlib.pyplot as plt\n",
    "import seaborn as sns\n",
    "from adjustText import adjust_text\n",
    "sns.set(style='ticks', font_scale=1.2)\n",
    "import matplotlib\n",
    "matplotlib.rcParams['pdf.fonttype'] = 42\n",
    "matplotlib.rcParams['ps.fonttype'] = 42\n",
    "\n",
    "import little_mallet_wrapper as lmw"
   ]
  },
  {
   "cell_type": "code",
   "execution_count": 5,
   "metadata": {},
   "outputs": [],
   "source": [
    "data_directory_path   = '/Users/maria/Documents/data/birth-control'\n",
    "output_directory_path = '/Users/maria/Documents/output/birth-control'"
   ]
  },
  {
   "cell_type": "markdown",
   "metadata": {},
   "source": [
    "<br><br>\n",
    "\n",
    "# Load datasets (Reddit, WebMD, Twitter)"
   ]
  },
  {
   "cell_type": "markdown",
   "metadata": {},
   "source": [
    "## Reddit"
   ]
  },
  {
   "cell_type": "code",
   "execution_count": 6,
   "metadata": {},
   "outputs": [],
   "source": [
    "reddit_posts_df = pd.read_csv(data_directory_path + '/final-data/reddit_posts.csv')\n",
    "reddit_comments_df = pd.read_csv(data_directory_path + '/final-data/reddit_comments.csv')"
   ]
  },
  {
   "cell_type": "code",
   "execution_count": 7,
   "metadata": {},
   "outputs": [
    {
     "data": {
      "text/plain": [
       "(68958, 264912)"
      ]
     },
     "execution_count": 7,
     "metadata": {},
     "output_type": "execute_result"
    }
   ],
   "source": [
    "len(reddit_posts_df.index), len(reddit_comments_df.index)"
   ]
  },
  {
   "cell_type": "code",
   "execution_count": 8,
   "metadata": {},
   "outputs": [
    {
     "data": {
      "text/html": [
       "<div>\n",
       "<style scoped>\n",
       "    .dataframe tbody tr th:only-of-type {\n",
       "        vertical-align: middle;\n",
       "    }\n",
       "\n",
       "    .dataframe tbody tr th {\n",
       "        vertical-align: top;\n",
       "    }\n",
       "\n",
       "    .dataframe thead th {\n",
       "        text-align: right;\n",
       "    }\n",
       "</style>\n",
       "<table border=\"1\" class=\"dataframe\">\n",
       "  <thead>\n",
       "    <tr style=\"text-align: right;\">\n",
       "      <th></th>\n",
       "      <th>Unnamed: 0</th>\n",
       "      <th>id</th>\n",
       "      <th>parent_id</th>\n",
       "      <th>created_utc</th>\n",
       "      <th>text</th>\n",
       "      <th>tokens_text</th>\n",
       "      <th>text_type</th>\n",
       "      <th>year</th>\n",
       "      <th>month</th>\n",
       "      <th>source</th>\n",
       "    </tr>\n",
       "  </thead>\n",
       "  <tbody>\n",
       "    <tr>\n",
       "      <th>160333</th>\n",
       "      <td>4707</td>\n",
       "      <td>fbbthwc</td>\n",
       "      <td>t1_fbbq5g9</td>\n",
       "      <td>1.576708e+09</td>\n",
       "      <td>&amp;gt;It was maybe a 6/10 pain for like 3 minute...</td>\n",
       "      <td>gt maybe NUM/NUM pain like NUM minutes tops ex...</td>\n",
       "      <td>iud</td>\n",
       "      <td>2019</td>\n",
       "      <td>12</td>\n",
       "      <td>reddit-comments</td>\n",
       "    </tr>\n",
       "    <tr>\n",
       "      <th>77000</th>\n",
       "      <td>3509</td>\n",
       "      <td>dphtk9y</td>\n",
       "      <td>t1_dphs1ci</td>\n",
       "      <td>1.510092e+09</td>\n",
       "      <td>That makes me feel so much better. If been on ...</td>\n",
       "      <td>makes feel much better every morning period NU...</td>\n",
       "      <td>implant</td>\n",
       "      <td>2017</td>\n",
       "      <td>11</td>\n",
       "      <td>reddit-comments</td>\n",
       "    </tr>\n",
       "    <tr>\n",
       "      <th>88116</th>\n",
       "      <td>2125</td>\n",
       "      <td>dgdkbel</td>\n",
       "      <td>t3_65uv67</td>\n",
       "      <td>1.492440e+09</td>\n",
       "      <td>Mine varies but it can spot for about 2 to 5 d...</td>\n",
       "      <td>mine varies spot NUM NUM days</td>\n",
       "      <td>iud</td>\n",
       "      <td>2017</td>\n",
       "      <td>4</td>\n",
       "      <td>reddit-comments</td>\n",
       "    </tr>\n",
       "  </tbody>\n",
       "</table>\n",
       "</div>"
      ],
      "text/plain": [
       "        Unnamed: 0       id   parent_id   created_utc  \\\n",
       "160333        4707  fbbthwc  t1_fbbq5g9  1.576708e+09   \n",
       "77000         3509  dphtk9y  t1_dphs1ci  1.510092e+09   \n",
       "88116         2125  dgdkbel   t3_65uv67  1.492440e+09   \n",
       "\n",
       "                                                     text  \\\n",
       "160333  &gt;It was maybe a 6/10 pain for like 3 minute...   \n",
       "77000   That makes me feel so much better. If been on ...   \n",
       "88116   Mine varies but it can spot for about 2 to 5 d...   \n",
       "\n",
       "                                              tokens_text text_type  year  \\\n",
       "160333  gt maybe NUM/NUM pain like NUM minutes tops ex...       iud  2019   \n",
       "77000   makes feel much better every morning period NU...   implant  2017   \n",
       "88116                       mine varies spot NUM NUM days       iud  2017   \n",
       "\n",
       "        month           source  \n",
       "160333     12  reddit-comments  \n",
       "77000      11  reddit-comments  \n",
       "88116       4  reddit-comments  "
      ]
     },
     "execution_count": 8,
     "metadata": {},
     "output_type": "execute_result"
    }
   ],
   "source": [
    "reddit_comments_df.sample(3)"
   ]
  },
  {
   "cell_type": "code",
   "execution_count": 9,
   "metadata": {},
   "outputs": [
    {
     "data": {
      "text/html": [
       "<div>\n",
       "<style scoped>\n",
       "    .dataframe tbody tr th:only-of-type {\n",
       "        vertical-align: middle;\n",
       "    }\n",
       "\n",
       "    .dataframe tbody tr th {\n",
       "        vertical-align: top;\n",
       "    }\n",
       "\n",
       "    .dataframe thead th {\n",
       "        text-align: right;\n",
       "    }\n",
       "</style>\n",
       "<table border=\"1\" class=\"dataframe\">\n",
       "  <thead>\n",
       "    <tr style=\"text-align: right;\">\n",
       "      <th></th>\n",
       "      <th>Unnamed: 0</th>\n",
       "      <th>id</th>\n",
       "      <th>created_utc</th>\n",
       "      <th>text</th>\n",
       "      <th>title</th>\n",
       "      <th>year</th>\n",
       "      <th>month</th>\n",
       "      <th>url</th>\n",
       "      <th>link_flair_text</th>\n",
       "      <th>tokens_text</th>\n",
       "      <th>text_type</th>\n",
       "      <th>source</th>\n",
       "    </tr>\n",
       "  </thead>\n",
       "  <tbody>\n",
       "    <tr>\n",
       "      <th>7791</th>\n",
       "      <td>71</td>\n",
       "      <td>3eq1x9</td>\n",
       "      <td>1437962415</td>\n",
       "      <td>My period started on 27 June and last for a w...</td>\n",
       "      <td>Stopped taking Alesse, then early period/spott...</td>\n",
       "      <td>2015</td>\n",
       "      <td>7</td>\n",
       "      <td>http://www.reddit.com/r/birthcontrol/comments/...</td>\n",
       "      <td>NaN</td>\n",
       "      <td>stopped taking alesse early period/spotting pe...</td>\n",
       "      <td>pill</td>\n",
       "      <td>reddit-posts</td>\n",
       "    </tr>\n",
       "    <tr>\n",
       "      <th>50483</th>\n",
       "      <td>1768</td>\n",
       "      <td>enc3t9</td>\n",
       "      <td>1578771691</td>\n",
       "      <td>So I get my birth control pills through Nurx. ...</td>\n",
       "      <td>Switching back and forth?</td>\n",
       "      <td>2020</td>\n",
       "      <td>1</td>\n",
       "      <td>https://www.reddit.com/r/birthcontrol/comments...</td>\n",
       "      <td>Side Effects!?</td>\n",
       "      <td>switching back forth get birth control pills n...</td>\n",
       "      <td>pill</td>\n",
       "      <td>reddit-posts</td>\n",
       "    </tr>\n",
       "    <tr>\n",
       "      <th>21645</th>\n",
       "      <td>279</td>\n",
       "      <td>a073sw</td>\n",
       "      <td>1543136367</td>\n",
       "      <td>I’d been on Yaz for years with no issues, but ...</td>\n",
       "      <td>How to feel better while I wait for new pill?</td>\n",
       "      <td>2018</td>\n",
       "      <td>11</td>\n",
       "      <td>https://www.reddit.com/r/birthcontrol/comments...</td>\n",
       "      <td>Side effects!?</td>\n",
       "      <td>feel better wait new pill d yaz years issues t...</td>\n",
       "      <td>pill</td>\n",
       "      <td>reddit-posts</td>\n",
       "    </tr>\n",
       "  </tbody>\n",
       "</table>\n",
       "</div>"
      ],
      "text/plain": [
       "       Unnamed: 0      id  created_utc  \\\n",
       "7791           71  3eq1x9   1437962415   \n",
       "50483        1768  enc3t9   1578771691   \n",
       "21645         279  a073sw   1543136367   \n",
       "\n",
       "                                                    text  \\\n",
       "7791    My period started on 27 June and last for a w...   \n",
       "50483  So I get my birth control pills through Nurx. ...   \n",
       "21645  I’d been on Yaz for years with no issues, but ...   \n",
       "\n",
       "                                                   title  year  month  \\\n",
       "7791   Stopped taking Alesse, then early period/spott...  2015      7   \n",
       "50483                          Switching back and forth?  2020      1   \n",
       "21645      How to feel better while I wait for new pill?  2018     11   \n",
       "\n",
       "                                                     url link_flair_text  \\\n",
       "7791   http://www.reddit.com/r/birthcontrol/comments/...             NaN   \n",
       "50483  https://www.reddit.com/r/birthcontrol/comments...  Side Effects!?   \n",
       "21645  https://www.reddit.com/r/birthcontrol/comments...  Side effects!?   \n",
       "\n",
       "                                             tokens_text text_type  \\\n",
       "7791   stopped taking alesse early period/spotting pe...      pill   \n",
       "50483  switching back forth get birth control pills n...      pill   \n",
       "21645  feel better wait new pill d yaz years issues t...      pill   \n",
       "\n",
       "             source  \n",
       "7791   reddit-posts  \n",
       "50483  reddit-posts  \n",
       "21645  reddit-posts  "
      ]
     },
     "execution_count": 9,
     "metadata": {},
     "output_type": "execute_result"
    }
   ],
   "source": [
    "reddit_posts_df.sample(3)"
   ]
  },
  {
   "cell_type": "markdown",
   "metadata": {},
   "source": [
    "## WebMD"
   ]
  },
  {
   "cell_type": "code",
   "execution_count": 10,
   "metadata": {},
   "outputs": [],
   "source": [
    "webmd_df = pd.read_csv(data_directory_path + '/final-data/webmd.csv')"
   ]
  },
  {
   "cell_type": "code",
   "execution_count": 11,
   "metadata": {},
   "outputs": [
    {
     "data": {
      "text/plain": [
       "18110"
      ]
     },
     "execution_count": 11,
     "metadata": {},
     "output_type": "execute_result"
    }
   ],
   "source": [
    "len(webmd_df.index)"
   ]
  },
  {
   "cell_type": "code",
   "execution_count": 12,
   "metadata": {},
   "outputs": [
    {
     "data": {
      "text/html": [
       "<div>\n",
       "<style scoped>\n",
       "    .dataframe tbody tr th:only-of-type {\n",
       "        vertical-align: middle;\n",
       "    }\n",
       "\n",
       "    .dataframe tbody tr th {\n",
       "        vertical-align: top;\n",
       "    }\n",
       "\n",
       "    .dataframe thead th {\n",
       "        text-align: right;\n",
       "    }\n",
       "</style>\n",
       "<table border=\"1\" class=\"dataframe\">\n",
       "  <thead>\n",
       "    <tr style=\"text-align: right;\">\n",
       "      <th></th>\n",
       "      <th>Unnamed: 0.2</th>\n",
       "      <th>Unnamed: 0</th>\n",
       "      <th>Unnamed: 0.1</th>\n",
       "      <th>id</th>\n",
       "      <th>date</th>\n",
       "      <th>year</th>\n",
       "      <th>text</th>\n",
       "      <th>name</th>\n",
       "      <th>title</th>\n",
       "      <th>source</th>\n",
       "      <th>text_type</th>\n",
       "      <th>num_tokens</th>\n",
       "      <th>tokens_text</th>\n",
       "    </tr>\n",
       "  </thead>\n",
       "  <tbody>\n",
       "    <tr>\n",
       "      <th>11018</th>\n",
       "      <td>11018</td>\n",
       "      <td>12086</td>\n",
       "      <td>12086</td>\n",
       "      <td>w12371</td>\n",
       "      <td>2017-10-26</td>\n",
       "      <td>2017</td>\n",
       "      <td>I was taking Gianvi for over a year when they ...</td>\n",
       "      <td>nikki</td>\n",
       "      <td>NaN</td>\n",
       "      <td>webmd-reviews</td>\n",
       "      <td>pill</td>\n",
       "      <td>76</td>\n",
       "      <td>taking gianvi year switched nikki since starti...</td>\n",
       "    </tr>\n",
       "    <tr>\n",
       "      <th>7367</th>\n",
       "      <td>7367</td>\n",
       "      <td>8415</td>\n",
       "      <td>8415</td>\n",
       "      <td>w8610</td>\n",
       "      <td>2015-09-21</td>\n",
       "      <td>2015</td>\n",
       "      <td>This medicine has gave me a pulmonary embolism...</td>\n",
       "      <td>microgestin-fe-1-20</td>\n",
       "      <td>NaN</td>\n",
       "      <td>webmd-reviews</td>\n",
       "      <td>pill</td>\n",
       "      <td>11</td>\n",
       "      <td>medicine gave pulmonary embolism please use</td>\n",
       "    </tr>\n",
       "    <tr>\n",
       "      <th>863</th>\n",
       "      <td>863</td>\n",
       "      <td>909</td>\n",
       "      <td>909</td>\n",
       "      <td>w931</td>\n",
       "      <td>2012-08-23</td>\n",
       "      <td>2012</td>\n",
       "      <td>i have been one this pill for a month and have...</td>\n",
       "      <td>azurette</td>\n",
       "      <td>NaN</td>\n",
       "      <td>webmd-reviews</td>\n",
       "      <td>pill</td>\n",
       "      <td>15</td>\n",
       "      <td>one pill month bad break bleeding</td>\n",
       "    </tr>\n",
       "  </tbody>\n",
       "</table>\n",
       "</div>"
      ],
      "text/plain": [
       "       Unnamed: 0.2  Unnamed: 0  Unnamed: 0.1      id        date  year  \\\n",
       "11018         11018       12086         12086  w12371  2017-10-26  2017   \n",
       "7367           7367        8415          8415   w8610  2015-09-21  2015   \n",
       "863             863         909           909    w931  2012-08-23  2012   \n",
       "\n",
       "                                                    text                 name  \\\n",
       "11018  I was taking Gianvi for over a year when they ...                nikki   \n",
       "7367   This medicine has gave me a pulmonary embolism...  microgestin-fe-1-20   \n",
       "863    i have been one this pill for a month and have...             azurette   \n",
       "\n",
       "       title         source text_type  num_tokens  \\\n",
       "11018    NaN  webmd-reviews      pill          76   \n",
       "7367     NaN  webmd-reviews      pill          11   \n",
       "863      NaN  webmd-reviews      pill          15   \n",
       "\n",
       "                                             tokens_text  \n",
       "11018  taking gianvi year switched nikki since starti...  \n",
       "7367         medicine gave pulmonary embolism please use  \n",
       "863                    one pill month bad break bleeding  "
      ]
     },
     "execution_count": 12,
     "metadata": {},
     "output_type": "execute_result"
    }
   ],
   "source": [
    "webmd_df.sample(3)"
   ]
  },
  {
   "cell_type": "markdown",
   "metadata": {},
   "source": [
    "## Twitter"
   ]
  },
  {
   "cell_type": "code",
   "execution_count": 13,
   "metadata": {},
   "outputs": [],
   "source": [
    "twitter_posts_df = pd.read_csv(data_directory_path + '/final-data/twitter_posts.csv')\n",
    "twitter_replies_df = pd.read_csv(data_directory_path + '/final-data/twitter_replies.csv')"
   ]
  },
  {
   "cell_type": "code",
   "execution_count": 14,
   "metadata": {},
   "outputs": [
    {
     "data": {
      "text/plain": [
       "(499796, 211896)"
      ]
     },
     "execution_count": 14,
     "metadata": {},
     "output_type": "execute_result"
    }
   ],
   "source": [
    "len(twitter_posts_df.index), len(twitter_replies_df.index)"
   ]
  },
  {
   "cell_type": "code",
   "execution_count": 15,
   "metadata": {},
   "outputs": [
    {
     "data": {
      "text/html": [
       "<div>\n",
       "<style scoped>\n",
       "    .dataframe tbody tr th:only-of-type {\n",
       "        vertical-align: middle;\n",
       "    }\n",
       "\n",
       "    .dataframe tbody tr th {\n",
       "        vertical-align: top;\n",
       "    }\n",
       "\n",
       "    .dataframe thead th {\n",
       "        text-align: right;\n",
       "    }\n",
       "</style>\n",
       "<table border=\"1\" class=\"dataframe\">\n",
       "  <thead>\n",
       "    <tr style=\"text-align: right;\">\n",
       "      <th></th>\n",
       "      <th>Unnamed: 0</th>\n",
       "      <th>source</th>\n",
       "      <th>text</th>\n",
       "      <th>tokens_text</th>\n",
       "      <th>date</th>\n",
       "      <th>year</th>\n",
       "      <th>month</th>\n",
       "      <th>id</th>\n",
       "      <th>conversation_id</th>\n",
       "      <th>retweet_count</th>\n",
       "      <th>reply_count</th>\n",
       "      <th>like_count</th>\n",
       "      <th>quote_count</th>\n",
       "      <th>text_type</th>\n",
       "      <th>num_tokens</th>\n",
       "    </tr>\n",
       "  </thead>\n",
       "  <tbody>\n",
       "    <tr>\n",
       "      <th>19883</th>\n",
       "      <td>22924</td>\n",
       "      <td>twitter-posts</td>\n",
       "      <td>i pray to GOD my iud doesn’t turn on me 😫 http...</td>\n",
       "      <td>pray god iud doesn turn https //t co/NUMryrwloxoi</td>\n",
       "      <td>2019-04-17T20:51:03.000Z</td>\n",
       "      <td>2019</td>\n",
       "      <td>4</td>\n",
       "      <td>1118617892868820993</td>\n",
       "      <td>1118617892868820993</td>\n",
       "      <td>0</td>\n",
       "      <td>0</td>\n",
       "      <td>0</td>\n",
       "      <td>0</td>\n",
       "      <td>iud</td>\n",
       "      <td>8</td>\n",
       "    </tr>\n",
       "    <tr>\n",
       "      <th>365406</th>\n",
       "      <td>459945</td>\n",
       "      <td>twitter-posts</td>\n",
       "      <td>Body party doing something to me right about n...</td>\n",
       "      <td>body party something right pops birth control ...</td>\n",
       "      <td>2013-08-26T00:42:36.000Z</td>\n",
       "      <td>2013</td>\n",
       "      <td>8</td>\n",
       "      <td>371794775361331201</td>\n",
       "      <td>371794775361331201</td>\n",
       "      <td>0</td>\n",
       "      <td>1</td>\n",
       "      <td>0</td>\n",
       "      <td>0</td>\n",
       "      <td>pill</td>\n",
       "      <td>8</td>\n",
       "    </tr>\n",
       "    <tr>\n",
       "      <th>440021</th>\n",
       "      <td>554181</td>\n",
       "      <td>twitter-posts</td>\n",
       "      <td>contraceptive use :) How to Choose the Right C...</td>\n",
       "      <td>contraceptive use choose right contraceptive p...</td>\n",
       "      <td>2011-08-22T07:02:18.000Z</td>\n",
       "      <td>2011</td>\n",
       "      <td>8</td>\n",
       "      <td>105535248732925952</td>\n",
       "      <td>105535248732925952</td>\n",
       "      <td>0</td>\n",
       "      <td>0</td>\n",
       "      <td>0</td>\n",
       "      <td>0</td>\n",
       "      <td>pill</td>\n",
       "      <td>9</td>\n",
       "    </tr>\n",
       "  </tbody>\n",
       "</table>\n",
       "</div>"
      ],
      "text/plain": [
       "        Unnamed: 0         source  \\\n",
       "19883        22924  twitter-posts   \n",
       "365406      459945  twitter-posts   \n",
       "440021      554181  twitter-posts   \n",
       "\n",
       "                                                     text  \\\n",
       "19883   i pray to GOD my iud doesn’t turn on me 😫 http...   \n",
       "365406  Body party doing something to me right about n...   \n",
       "440021  contraceptive use :) How to Choose the Right C...   \n",
       "\n",
       "                                              tokens_text  \\\n",
       "19883   pray god iud doesn turn https //t co/NUMryrwloxoi   \n",
       "365406  body party something right pops birth control ...   \n",
       "440021  contraceptive use choose right contraceptive p...   \n",
       "\n",
       "                            date  year  month                   id  \\\n",
       "19883   2019-04-17T20:51:03.000Z  2019      4  1118617892868820993   \n",
       "365406  2013-08-26T00:42:36.000Z  2013      8   371794775361331201   \n",
       "440021  2011-08-22T07:02:18.000Z  2011      8   105535248732925952   \n",
       "\n",
       "            conversation_id  retweet_count  reply_count  like_count  \\\n",
       "19883   1118617892868820993              0            0           0   \n",
       "365406   371794775361331201              0            1           0   \n",
       "440021   105535248732925952              0            0           0   \n",
       "\n",
       "        quote_count text_type  num_tokens  \n",
       "19883             0       iud           8  \n",
       "365406            0      pill           8  \n",
       "440021            0      pill           9  "
      ]
     },
     "execution_count": 15,
     "metadata": {},
     "output_type": "execute_result"
    }
   ],
   "source": [
    "twitter_posts_df.sample(3)"
   ]
  },
  {
   "cell_type": "code",
   "execution_count": 16,
   "metadata": {},
   "outputs": [
    {
     "data": {
      "text/html": [
       "<div>\n",
       "<style scoped>\n",
       "    .dataframe tbody tr th:only-of-type {\n",
       "        vertical-align: middle;\n",
       "    }\n",
       "\n",
       "    .dataframe tbody tr th {\n",
       "        vertical-align: top;\n",
       "    }\n",
       "\n",
       "    .dataframe thead th {\n",
       "        text-align: right;\n",
       "    }\n",
       "</style>\n",
       "<table border=\"1\" class=\"dataframe\">\n",
       "  <thead>\n",
       "    <tr style=\"text-align: right;\">\n",
       "      <th></th>\n",
       "      <th>Unnamed: 0</th>\n",
       "      <th>source</th>\n",
       "      <th>text</th>\n",
       "      <th>tokens_text</th>\n",
       "      <th>text_type</th>\n",
       "      <th>date</th>\n",
       "      <th>year</th>\n",
       "      <th>month</th>\n",
       "      <th>id</th>\n",
       "      <th>conversation_id</th>\n",
       "      <th>retweet_count</th>\n",
       "      <th>reply_count</th>\n",
       "      <th>like_count</th>\n",
       "      <th>quote_count</th>\n",
       "      <th>num_tokens</th>\n",
       "    </tr>\n",
       "  </thead>\n",
       "  <tbody>\n",
       "    <tr>\n",
       "      <th>169206</th>\n",
       "      <td>221807</td>\n",
       "      <td>twitter-replies</td>\n",
       "      <td>get the implanon bar and you'll never have a ...</td>\n",
       "      <td>get implanon bar never period</td>\n",
       "      <td>implant</td>\n",
       "      <td>2014-06-25T03:57:52.000Z</td>\n",
       "      <td>2014</td>\n",
       "      <td>6</td>\n",
       "      <td>481647438646611968</td>\n",
       "      <td>481643759415738368</td>\n",
       "      <td>0</td>\n",
       "      <td>0</td>\n",
       "      <td>2</td>\n",
       "      <td>0</td>\n",
       "      <td>5</td>\n",
       "    </tr>\n",
       "    <tr>\n",
       "      <th>122572</th>\n",
       "      <td>159145</td>\n",
       "      <td>twitter-replies</td>\n",
       "      <td>shoot I've got a paraguard. I got 9 yrs on th...</td>\n",
       "      <td>shoot got paraguard got NUM yrs shit</td>\n",
       "      <td>iud</td>\n",
       "      <td>2011-04-09T20:06:29.000Z</td>\n",
       "      <td>2011</td>\n",
       "      <td>4</td>\n",
       "      <td>56810233091198976</td>\n",
       "      <td>56807853620609024</td>\n",
       "      <td>0</td>\n",
       "      <td>0</td>\n",
       "      <td>0</td>\n",
       "      <td>0</td>\n",
       "      <td>7</td>\n",
       "    </tr>\n",
       "    <tr>\n",
       "      <th>165047</th>\n",
       "      <td>215400</td>\n",
       "      <td>twitter-replies</td>\n",
       "      <td>Thanks! I am breaking out really bad ever si...</td>\n",
       "      <td>thanks breaking really bad ever since switchin...</td>\n",
       "      <td>implant</td>\n",
       "      <td>2017-05-10T03:28:42.000Z</td>\n",
       "      <td>2017</td>\n",
       "      <td>5</td>\n",
       "      <td>862147357621841922</td>\n",
       "      <td>862144598721806336</td>\n",
       "      <td>0</td>\n",
       "      <td>0</td>\n",
       "      <td>1</td>\n",
       "      <td>0</td>\n",
       "      <td>8</td>\n",
       "    </tr>\n",
       "  </tbody>\n",
       "</table>\n",
       "</div>"
      ],
      "text/plain": [
       "        Unnamed: 0           source  \\\n",
       "169206      221807  twitter-replies   \n",
       "122572      159145  twitter-replies   \n",
       "165047      215400  twitter-replies   \n",
       "\n",
       "                                                     text  \\\n",
       "169206   get the implanon bar and you'll never have a ...   \n",
       "122572   shoot I've got a paraguard. I got 9 yrs on th...   \n",
       "165047    Thanks! I am breaking out really bad ever si...   \n",
       "\n",
       "                                              tokens_text text_type  \\\n",
       "169206                      get implanon bar never period   implant   \n",
       "122572               shoot got paraguard got NUM yrs shit       iud   \n",
       "165047  thanks breaking really bad ever since switchin...   implant   \n",
       "\n",
       "                            date  year  month                  id  \\\n",
       "169206  2014-06-25T03:57:52.000Z  2014      6  481647438646611968   \n",
       "122572  2011-04-09T20:06:29.000Z  2011      4   56810233091198976   \n",
       "165047  2017-05-10T03:28:42.000Z  2017      5  862147357621841922   \n",
       "\n",
       "           conversation_id  retweet_count  reply_count  like_count  \\\n",
       "169206  481643759415738368              0            0           2   \n",
       "122572   56807853620609024              0            0           0   \n",
       "165047  862144598721806336              0            0           1   \n",
       "\n",
       "        quote_count  num_tokens  \n",
       "169206            0           5  \n",
       "122572            0           7  \n",
       "165047            0           8  "
      ]
     },
     "execution_count": 16,
     "metadata": {},
     "output_type": "execute_result"
    }
   ],
   "source": [
    "twitter_replies_df.sample(3)"
   ]
  },
  {
   "cell_type": "code",
   "execution_count": 17,
   "metadata": {},
   "outputs": [
    {
     "data": {
      "text/plain": [
       "2020    0.243402\n",
       "2019    0.224950\n",
       "2018    0.128775\n",
       "2017    0.089921\n",
       "2014    0.055131\n",
       "2012    0.053545\n",
       "2013    0.052455\n",
       "2016    0.051322\n",
       "2015    0.041737\n",
       "2011    0.034503\n",
       "2010    0.016895\n",
       "2009    0.006791\n",
       "2008    0.000543\n",
       "2007    0.000028\n",
       "Name: year, dtype: float64"
      ]
     },
     "execution_count": 17,
     "metadata": {},
     "output_type": "execute_result"
    }
   ],
   "source": [
    "twitter_replies_df['year'].value_counts(normalize=True)"
   ]
  },
  {
   "cell_type": "code",
   "execution_count": 18,
   "metadata": {},
   "outputs": [
    {
     "data": {
      "text/plain": [
       "2012    0.116656\n",
       "2019    0.109375\n",
       "2020    0.097354\n",
       "2015    0.096898\n",
       "2016    0.093218\n",
       "2017    0.091539\n",
       "2013    0.090409\n",
       "2018    0.089238\n",
       "2011    0.082324\n",
       "2014    0.069548\n",
       "2010    0.049764\n",
       "2009    0.012667\n",
       "2008    0.000866\n",
       "2007    0.000144\n",
       "Name: year, dtype: float64"
      ]
     },
     "execution_count": 18,
     "metadata": {},
     "output_type": "execute_result"
    }
   ],
   "source": [
    "twitter_posts_df['year'].value_counts(normalize=True)"
   ]
  },
  {
   "cell_type": "markdown",
   "metadata": {},
   "source": [
    "## Combine"
   ]
  },
  {
   "cell_type": "code",
   "execution_count": 19,
   "metadata": {},
   "outputs": [
    {
     "data": {
      "text/plain": [
       "1063672"
      ]
     },
     "execution_count": 19,
     "metadata": {},
     "output_type": "execute_result"
    }
   ],
   "source": [
    "combined_df = pd.concat([reddit_posts_df, reddit_comments_df, twitter_posts_df, twitter_replies_df, webmd_df])\n",
    "len(combined_df)"
   ]
  },
  {
   "cell_type": "code",
   "execution_count": 20,
   "metadata": {},
   "outputs": [
    {
     "data": {
      "text/plain": [
       "twitter-posts      499796\n",
       "reddit-comments    264912\n",
       "twitter-replies    211896\n",
       "reddit-posts        68958\n",
       "webmd-reviews       18110\n",
       "Name: source, dtype: int64"
      ]
     },
     "execution_count": 20,
     "metadata": {},
     "output_type": "execute_result"
    }
   ],
   "source": [
    "combined_df['source'].value_counts()"
   ]
  },
  {
   "cell_type": "markdown",
   "metadata": {},
   "source": [
    "<br><br>\n",
    "\n",
    "# Get basic stats for each dataset"
   ]
  },
  {
   "cell_type": "code",
   "execution_count": 18,
   "metadata": {},
   "outputs": [],
   "source": [
    "datasets = ['reddit-posts', 'reddit-comments', 'twitter-posts', 'twitter-replies', 'webmd-reviews']"
   ]
  },
  {
   "cell_type": "code",
   "execution_count": 19,
   "metadata": {},
   "outputs": [
    {
     "name": "stdout",
     "output_type": "stream",
     "text": [
      "reddit-posts\n",
      "Number of Documents: 68958\n",
      "Vocabulary Size: 49088\n",
      "Mean Number of Tokens per Document: 79.41001769192842\n",
      "==================================\n",
      "reddit-comments\n",
      "Number of Documents: 264912\n",
      "Vocabulary Size: 67837\n",
      "Mean Number of Tokens per Document: 31.762543788125868\n",
      "==================================\n",
      "twitter-posts\n",
      "Number of Documents: 499796\n",
      "Vocabulary Size: 398910\n",
      "Mean Number of Tokens per Document: 12.342963929283147\n",
      "==================================\n",
      "twitter-replies\n",
      "Number of Documents: 211896\n",
      "Vocabulary Size: 73896\n",
      "Mean Number of Tokens per Document: 12.25912711896402\n",
      "==================================\n",
      "webmd-reviews\n",
      "Number of Documents: 18110\n",
      "Vocabulary Size: 17487\n",
      "Mean Number of Tokens per Document: 44.84914411927112\n",
      "==================================\n"
     ]
    }
   ],
   "source": [
    "for _dataset in datasets:\n",
    "\n",
    "    _df = combined_df[combined_df['source'] == _dataset]\n",
    "\n",
    "    _word_count_dict = defaultdict(int)\n",
    "    for i, r in _df.iterrows(): \n",
    "        for _word in str(r['tokens_text']).split():\n",
    "            _word_count_dict[_word] += 1\n",
    "\n",
    "    _num_documents = len(_df.index)\n",
    "    _vocab_size = len(_word_count_dict.keys())\n",
    "    _mean_tokens_per_doc = np.mean([len(str(r['tokens_text']).split()) for i, r in _df.iterrows()])\n",
    "\n",
    "    print(_dataset)\n",
    "    print('Number of Documents:', _num_documents)\n",
    "    print('Vocabulary Size:', _vocab_size)\n",
    "    print('Mean Number of Tokens per Document:', _mean_tokens_per_doc)\n",
    "    print('==================================')"
   ]
  },
  {
   "cell_type": "markdown",
   "metadata": {},
   "source": [
    "<br><br>\n",
    "\n",
    "# Get sparklines over years"
   ]
  },
  {
   "cell_type": "code",
   "execution_count": 20,
   "metadata": {},
   "outputs": [],
   "source": [
    "positions = []\n",
    "for i in range(0, 15):\n",
    "    _width = 1/15\n",
    "    positions.append((_width*i) + (_width/2))"
   ]
  },
  {
   "cell_type": "code",
   "execution_count": 21,
   "metadata": {},
   "outputs": [
    {
     "name": "stdout",
     "output_type": "stream",
     "text": [
      "reddit-posts\n",
      "15 15 15\n",
      "\\sparkspike 0.03333333333333333 0.0\n",
      "\\sparkspike 0.1 0.0\n",
      "\\sparkspike 0.16666666666666666 0.0\n",
      "\\sparkspike 0.23333333333333334 0.0\n",
      "\\sparkspike 0.3 0.0\n",
      "\\sparkspike 0.36666666666666664 0.005445744251714401\n",
      "\\sparkspike 0.43333333333333335 0.042839854780153286\n",
      "\\sparkspike 0.5 0.07678499394917306\n",
      "\\sparkspike 0.5666666666666667 0.11308995562726905\n",
      "\\sparkspike 0.6333333333333333 0.15615671641791046\n",
      "\\sparkspike 0.7 0.19763513513513514\n",
      "\\sparkspike 0.7666666666666666 0.3000605082694635\n",
      "\\sparkspike 0.8333333333333334 0.4996470350947963\n",
      "\\sparkspike 0.9 0.8377369907220653\n",
      "\\sparkspike 0.9666666666666667 0.9\n",
      "=========================================\n",
      "reddit-comments\n",
      "15 15 15\n",
      "\\sparkspike 0.03333333333333333 0.0\n",
      "\\sparkspike 0.1 0.0\n",
      "\\sparkspike 0.16666666666666666 0.0\n",
      "\\sparkspike 0.23333333333333334 0.0\n",
      "\\sparkspike 0.3 0.0\n",
      "\\sparkspike 0.36666666666666664 0.00546811055845873\n",
      "\\sparkspike 0.43333333333333335 0.061820814707548945\n",
      "\\sparkspike 0.5 0.11436284077315369\n",
      "\\sparkspike 0.5666666666666667 0.184824970093811\n",
      "\\sparkspike 0.6333333333333333 0.261208524837877\n",
      "\\sparkspike 0.7 0.33968866083233645\n",
      "\\sparkspike 0.7666666666666666 0.48256783982874774\n",
      "\\sparkspike 0.8333333333333334 0.5731033180129699\n",
      "\\sparkspike 0.9 0.9\n",
      "\\sparkspike 0.9666666666666667 0.8297220298432285\n",
      "=========================================\n",
      "twitter-posts\n",
      "15 15 15\n",
      "\\sparkspike 0.03333333333333333 0.0\n",
      "\\sparkspike 0.1 0.001111416026344676\n",
      "\\sparkspike 0.16666666666666666 0.006683932491767288\n",
      "\\sparkspike 0.23333333333333334 0.09772742864983534\n",
      "\\sparkspike 0.3 0.38393249176728866\n",
      "\\sparkspike 0.36666666666666664 0.6351279500548848\n",
      "\\sparkspike 0.43333333333333335 0.9\n",
      "\\sparkspike 0.5 0.6975061745334796\n",
      "\\sparkspike 0.5666666666666667 0.5365669593852909\n",
      "\\sparkspike 0.6333333333333333 0.7475662047200877\n",
      "\\sparkspike 0.7 0.7191787870472008\n",
      "\\sparkspike 0.7666666666666666 0.7062277030735454\n",
      "\\sparkspike 0.8333333333333334 0.6884759193194292\n",
      "\\sparkspike 0.9 0.8438271816684961\n",
      "\\sparkspike 0.9666666666666667 0.7510856888035127\n",
      "=========================================\n",
      "twitter-replies\n",
      "15 15 15\n",
      "\\sparkspike 0.03333333333333333 0.0\n",
      "\\sparkspike 0.1 0.00010469986040018614\n",
      "\\sparkspike 0.16666666666666666 0.002006747324336901\n",
      "\\sparkspike 0.23333333333333334 0.02511051651931131\n",
      "\\sparkspike 0.3 0.0624709167054444\n",
      "\\sparkspike 0.36666666666666664 0.1275767798976268\n",
      "\\sparkspike 0.43333333333333335 0.197987436016752\n",
      "\\sparkspike 0.5 0.19395649139134483\n",
      "\\sparkspike 0.5666666666666667 0.20385062819916241\n",
      "\\sparkspike 0.6333333333333333 0.15432759422987435\n",
      "\\sparkspike 0.7 0.18976849697533738\n",
      "\\sparkspike 0.7666666666666666 0.33249185667752446\n",
      "\\sparkspike 0.8333333333333334 0.4761575151233132\n",
      "\\sparkspike 0.9 0.8317705909725454\n",
      "\\sparkspike 0.9666666666666667 0.9\n",
      "=========================================\n",
      "webmd-reviews\n",
      "15 15 15\n",
      "\\sparkspike 0.03333333333333333 0.0\n",
      "\\sparkspike 0.1 0.1261818181818182\n",
      "\\sparkspike 0.16666666666666666 0.5632727272727273\n",
      "\\sparkspike 0.23333333333333334 0.822909090909091\n",
      "\\sparkspike 0.3 0.762909090909091\n",
      "\\sparkspike 0.36666666666666664 0.8763636363636365\n",
      "\\sparkspike 0.43333333333333335 0.9\n",
      "\\sparkspike 0.5 0.6854545454545455\n",
      "\\sparkspike 0.5666666666666667 0.592\n",
      "\\sparkspike 0.6333333333333333 0.39163636363636367\n",
      "\\sparkspike 0.7 0.34581818181818186\n",
      "\\sparkspike 0.7666666666666666 0.18\n",
      "\\sparkspike 0.8333333333333334 0.14363636363636365\n",
      "\\sparkspike 0.9 0.12654545454545457\n",
      "\\sparkspike 0.9666666666666667 0.06872727272727273\n",
      "=========================================\n"
     ]
    }
   ],
   "source": [
    "years = [2006, 2007, 2008, 2009, 2010, 2011, 2012, 2013, 2014, 2015, 2016, 2017, 2018, 2019, 2020]\n",
    "\n",
    "for _dataset in datasets:\n",
    "\n",
    "    _df = combined_df[combined_df['source'] == _dataset]\n",
    "    _total = len(_df.index)\n",
    "\n",
    "    _heights = []\n",
    "    for _year in years:\n",
    "        _heights.append(len(_df[_df['year'] == _year].index) / float(_total))\n",
    "\n",
    "    _max_height = 0.9\n",
    "    _adjustor = _max_height / max(_heights)\n",
    "    _heights = [h*_adjustor for h in _heights]\n",
    "\n",
    "    print(_dataset)\n",
    "    print(len(years), len(positions), len(_heights))\n",
    "    for _position, _height in zip(positions, _heights):\n",
    "        print('\\sparkspike ' + str(_position) + ' ' + str(_height))\n",
    "    print('=========================================')"
   ]
  },
  {
   "cell_type": "code",
   "execution_count": null,
   "metadata": {},
   "outputs": [],
   "source": []
  },
  {
   "cell_type": "code",
   "execution_count": null,
   "metadata": {},
   "outputs": [],
   "source": []
  }
 ],
 "metadata": {
  "kernelspec": {
   "display_name": "python3.8env",
   "language": "python",
   "name": "python3"
  },
  "language_info": {
   "codemirror_mode": {
    "name": "ipython",
    "version": 3
   },
   "file_extension": ".py",
   "mimetype": "text/x-python",
   "name": "python",
   "nbconvert_exporter": "python",
   "pygments_lexer": "ipython3",
   "version": "3.8.12"
  },
  "orig_nbformat": 2,
  "vscode": {
   "interpreter": {
    "hash": "88435282e7afd386f137f5bf71124f6ca50142be149f9ca18724b5a580de610c"
   }
  }
 },
 "nbformat": 4,
 "nbformat_minor": 2
}
