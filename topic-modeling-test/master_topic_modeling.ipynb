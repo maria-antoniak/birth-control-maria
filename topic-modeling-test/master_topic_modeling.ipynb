{
 "cells": [
  {
   "cell_type": "code",
   "execution_count": 90,
   "metadata": {},
   "outputs": [],
   "source": [
    "from collections import defaultdict\n",
    "from datetime import datetime\n",
    "import dill\n",
    "from itertools import permutations, combinations\n",
    "import json\n",
    "from operator import itemgetter\n",
    "import os\n",
    "import pickle\n",
    "import random\n",
    "import re\n",
    "import subprocess\n",
    "import time\n",
    "\n",
    "import numpy as np\n",
    "import pandas as pd\n",
    "from sklearn.cluster import KMeans\n",
    "from scipy.spatial.distance import jensenshannon\n",
    "\n",
    "%matplotlib inline\n",
    "import matplotlib.pyplot as plt\n",
    "import seaborn as sns\n",
    "from adjustText import adjust_text\n",
    "sns.set(style='ticks', font_scale=1.2)\n",
    "import matplotlib\n",
    "matplotlib.rcParams['pdf.fonttype'] = 42\n",
    "matplotlib.rcParams['ps.fonttype'] = 42\n",
    "\n",
    "import tomotopy as tp"
   ]
  },
  {
   "cell_type": "code",
   "execution_count": 91,
   "metadata": {},
   "outputs": [],
   "source": [
    "data_directory_path   = '/Volumes/Passport-1/data/birth-control'\n",
    "output_directory_path = '/Volumes/Passport-1/output/birth-control'"
   ]
  },
  {
   "cell_type": "markdown",
   "metadata": {},
   "source": [
    "<br><br>\n",
    "\n",
    "# Load datasets"
   ]
  },
  {
   "cell_type": "code",
   "execution_count": 3,
   "metadata": {},
   "outputs": [],
   "source": [
    "reddit_posts_df = pd.read_csv(data_directory_path + '/final-data/reddit_posts.csv')\n",
    "reddit_comments_df = pd.read_csv(data_directory_path + '/final-data/reddit_comments.csv')\n",
    "webmd_df = pd.read_csv(data_directory_path + '/final-data/webmd.csv')\n",
    "twitter_posts_df = pd.read_csv(data_directory_path + '/final-data/twitter_posts.csv')\n",
    "twitter_replies_df = pd.read_csv(data_directory_path + '/final-data/twitter_replies.csv')"
   ]
  },
  {
   "cell_type": "code",
   "execution_count": 4,
   "metadata": {},
   "outputs": [
    {
     "data": {
      "text/plain": [
       "1063672"
      ]
     },
     "execution_count": 4,
     "metadata": {},
     "output_type": "execute_result"
    }
   ],
   "source": [
    "combined_df = pd.concat([reddit_posts_df, reddit_comments_df, twitter_posts_df, twitter_replies_df, webmd_df])\n",
    "len(combined_df)"
   ]
  },
  {
   "cell_type": "code",
   "execution_count": 5,
   "metadata": {},
   "outputs": [
    {
     "data": {
      "text/plain": [
       "twitter-posts      499796\n",
       "reddit-comments    264912\n",
       "twitter-replies    211896\n",
       "reddit-posts        68958\n",
       "webmd-reviews       18110\n",
       "Name: source, dtype: int64"
      ]
     },
     "execution_count": 5,
     "metadata": {},
     "output_type": "execute_result"
    }
   ],
   "source": [
    "combined_df['source'].value_counts()"
   ]
  },
  {
   "cell_type": "code",
   "execution_count": 6,
   "metadata": {},
   "outputs": [
    {
     "data": {
      "text/html": [
       "<div>\n",
       "<style scoped>\n",
       "    .dataframe tbody tr th:only-of-type {\n",
       "        vertical-align: middle;\n",
       "    }\n",
       "\n",
       "    .dataframe tbody tr th {\n",
       "        vertical-align: top;\n",
       "    }\n",
       "\n",
       "    .dataframe thead th {\n",
       "        text-align: right;\n",
       "    }\n",
       "</style>\n",
       "<table border=\"1\" class=\"dataframe\">\n",
       "  <thead>\n",
       "    <tr style=\"text-align: right;\">\n",
       "      <th></th>\n",
       "      <th>Unnamed: 0</th>\n",
       "      <th>id</th>\n",
       "      <th>created_utc</th>\n",
       "      <th>text</th>\n",
       "      <th>title</th>\n",
       "      <th>year</th>\n",
       "      <th>month</th>\n",
       "      <th>url</th>\n",
       "      <th>link_flair_text</th>\n",
       "      <th>tokens_text</th>\n",
       "      <th>...</th>\n",
       "      <th>date</th>\n",
       "      <th>conversation_id</th>\n",
       "      <th>retweet_count</th>\n",
       "      <th>reply_count</th>\n",
       "      <th>like_count</th>\n",
       "      <th>quote_count</th>\n",
       "      <th>num_tokens</th>\n",
       "      <th>Unnamed: 0.1</th>\n",
       "      <th>Unnamed: 0.1.1</th>\n",
       "      <th>name</th>\n",
       "    </tr>\n",
       "  </thead>\n",
       "  <tbody>\n",
       "    <tr>\n",
       "      <th>45918</th>\n",
       "      <td>68</td>\n",
       "      <td>cxdtem</td>\n",
       "      <td>1.567152e+09</td>\n",
       "      <td>This past Wednesday I had my kyleena inserted ...</td>\n",
       "      <td>Thank god i did not read any IUD insertions st...</td>\n",
       "      <td>2019</td>\n",
       "      <td>8.0</td>\n",
       "      <td>https://www.reddit.com/r/birthcontrol/comments...</td>\n",
       "      <td>Experience</td>\n",
       "      <td>thank god read iud insertions stories getting ...</td>\n",
       "      <td>...</td>\n",
       "      <td>NaN</td>\n",
       "      <td>NaN</td>\n",
       "      <td>NaN</td>\n",
       "      <td>NaN</td>\n",
       "      <td>NaN</td>\n",
       "      <td>NaN</td>\n",
       "      <td>NaN</td>\n",
       "      <td>NaN</td>\n",
       "      <td>NaN</td>\n",
       "      <td>NaN</td>\n",
       "    </tr>\n",
       "    <tr>\n",
       "      <th>95335</th>\n",
       "      <td>4212</td>\n",
       "      <td>dibvdfu</td>\n",
       "      <td>1.496343e+09</td>\n",
       "      <td>If you are opposed to hormonal BC, then the co...</td>\n",
       "      <td>NaN</td>\n",
       "      <td>2017</td>\n",
       "      <td>6.0</td>\n",
       "      <td>NaN</td>\n",
       "      <td>NaN</td>\n",
       "      <td>opposed hormonal bc copper iud really best opt...</td>\n",
       "      <td>...</td>\n",
       "      <td>NaN</td>\n",
       "      <td>NaN</td>\n",
       "      <td>NaN</td>\n",
       "      <td>NaN</td>\n",
       "      <td>NaN</td>\n",
       "      <td>NaN</td>\n",
       "      <td>NaN</td>\n",
       "      <td>NaN</td>\n",
       "      <td>NaN</td>\n",
       "      <td>NaN</td>\n",
       "    </tr>\n",
       "    <tr>\n",
       "      <th>127412</th>\n",
       "      <td>155109</td>\n",
       "      <td>577142315317374976</td>\n",
       "      <td>NaN</td>\n",
       "      <td>Women deserve the full range of repro options....</td>\n",
       "      <td>NaN</td>\n",
       "      <td>2015</td>\n",
       "      <td>3.0</td>\n",
       "      <td>NaN</td>\n",
       "      <td>NaN</td>\n",
       "      <td>women deserve full range repro options iud get...</td>\n",
       "      <td>...</td>\n",
       "      <td>2015-03-15T16:20:25.000Z</td>\n",
       "      <td>5.771423e+17</td>\n",
       "      <td>1.0</td>\n",
       "      <td>0.0</td>\n",
       "      <td>0.0</td>\n",
       "      <td>0.0</td>\n",
       "      <td>14.0</td>\n",
       "      <td>NaN</td>\n",
       "      <td>NaN</td>\n",
       "      <td>NaN</td>\n",
       "    </tr>\n",
       "  </tbody>\n",
       "</table>\n",
       "<p>3 rows × 23 columns</p>\n",
       "</div>"
      ],
      "text/plain": [
       "        Unnamed: 0                  id   created_utc  \\\n",
       "45918           68              cxdtem  1.567152e+09   \n",
       "95335         4212             dibvdfu  1.496343e+09   \n",
       "127412      155109  577142315317374976           NaN   \n",
       "\n",
       "                                                     text  \\\n",
       "45918   This past Wednesday I had my kyleena inserted ...   \n",
       "95335   If you are opposed to hormonal BC, then the co...   \n",
       "127412  Women deserve the full range of repro options....   \n",
       "\n",
       "                                                    title  year  month  \\\n",
       "45918   Thank god i did not read any IUD insertions st...  2019    8.0   \n",
       "95335                                                 NaN  2017    6.0   \n",
       "127412                                                NaN  2015    3.0   \n",
       "\n",
       "                                                      url link_flair_text  \\\n",
       "45918   https://www.reddit.com/r/birthcontrol/comments...      Experience   \n",
       "95335                                                 NaN             NaN   \n",
       "127412                                                NaN             NaN   \n",
       "\n",
       "                                              tokens_text  ...  \\\n",
       "45918   thank god read iud insertions stories getting ...  ...   \n",
       "95335   opposed hormonal bc copper iud really best opt...  ...   \n",
       "127412  women deserve full range repro options iud get...  ...   \n",
       "\n",
       "                            date conversation_id retweet_count reply_count  \\\n",
       "45918                        NaN             NaN           NaN         NaN   \n",
       "95335                        NaN             NaN           NaN         NaN   \n",
       "127412  2015-03-15T16:20:25.000Z    5.771423e+17           1.0         0.0   \n",
       "\n",
       "        like_count  quote_count  num_tokens  Unnamed: 0.1  Unnamed: 0.1.1  \\\n",
       "45918          NaN          NaN         NaN           NaN             NaN   \n",
       "95335          NaN          NaN         NaN           NaN             NaN   \n",
       "127412         0.0          0.0        14.0           NaN             NaN   \n",
       "\n",
       "        name  \n",
       "45918    NaN  \n",
       "95335    NaN  \n",
       "127412   NaN  \n",
       "\n",
       "[3 rows x 23 columns]"
      ]
     },
     "execution_count": 6,
     "metadata": {},
     "output_type": "execute_result"
    }
   ],
   "source": [
    "combined_df.sample(3)"
   ]
  },
  {
   "cell_type": "markdown",
   "metadata": {},
   "source": [
    "<br><br>\n",
    "\n",
    "# Sample data by bc type"
   ]
  },
  {
   "cell_type": "code",
   "execution_count": 7,
   "metadata": {},
   "outputs": [
    {
     "data": {
      "text/plain": [
       "4800"
      ]
     },
     "execution_count": 7,
     "metadata": {},
     "output_type": "execute_result"
    }
   ],
   "source": [
    "sampled_twitter_df = pd.concat([twitter_posts_df.groupby('text_type').sample(n=800, random_state=1), \n",
    "                                twitter_replies_df.groupby('text_type').sample(n=800, random_state=1)])\n",
    "sampled_twitter_df.to_csv(data_directory_path + '/final-data/topic-modeling/twitter.ready_for_modeling.csv')\n",
    "len(sampled_twitter_df)"
   ]
  },
  {
   "cell_type": "code",
   "execution_count": 8,
   "metadata": {},
   "outputs": [
    {
     "data": {
      "text/plain": [
       "4800"
      ]
     },
     "execution_count": 8,
     "metadata": {},
     "output_type": "execute_result"
    }
   ],
   "source": [
    "sampled_reddit_df = pd.concat([reddit_posts_df.groupby('text_type').sample(n=800, random_state=1), \n",
    "                               reddit_comments_df.groupby('text_type').sample(n=800, random_state=1)])\n",
    "sampled_reddit_df.to_csv(data_directory_path + '/final-data/topic-modeling/reddit.ready_for_modeling.csv')\n",
    "len(sampled_reddit_df)"
   ]
  },
  {
   "cell_type": "code",
   "execution_count": 9,
   "metadata": {},
   "outputs": [
    {
     "data": {
      "text/plain": [
       "2400"
      ]
     },
     "execution_count": 9,
     "metadata": {},
     "output_type": "execute_result"
    }
   ],
   "source": [
    "sampled_webmd_df = webmd_df.groupby('text_type').sample(n=800, random_state=1)\n",
    "sampled_webmd_df.to_csv(data_directory_path + '/final-data/topic-modeling/webmd.ready_for_modeling.csv')\n",
    "len(sampled_webmd_df)"
   ]
  },
  {
   "cell_type": "markdown",
   "metadata": {},
   "source": [
    "<br><br><br><br>\n",
    "\n",
    "# Train topic models"
   ]
  },
  {
   "cell_type": "code",
   "execution_count": 10,
   "metadata": {},
   "outputs": [],
   "source": [
    "def prepare_authorless_sampling(topics_output_directory_path, num_topics, input_df):\n",
    "\n",
    "    training_path = topics_output_directory_path + '/authorless.texts.' + str(num_topics) + '.txt'\n",
    "    vocab_path = topics_output_directory_path + '/authorless.vocab.' + str(num_topics) + '.txt'\n",
    "\n",
    "    texts = []\n",
    "    ids = []\n",
    "    bc_methods = []\n",
    "    for i, r in input_df.iterrows():\n",
    "        texts.append(r['tokens_text'])\n",
    "        ids.append(r['id'])\n",
    "        bc_methods.append(r['text_type'])\n",
    "\n",
    "    word_count_dict = defaultdict(int)\n",
    "    for t in texts:\n",
    "        for w in str(t).split():\n",
    "            word_count_dict[w] += 1\n",
    "    vocab = list(word_count_dict.keys())\n",
    "\n",
    "    output_file = open(training_path, 'w')\n",
    "    for _text, _id, _method in zip(texts, ids, bc_methods):\n",
    "        output_file.write(str(_id) + '\\t' + str(_method) + '\\t' + str(_text) + '\\n')\n",
    "    output_file.close()\n",
    "\n",
    "    output_file = open(vocab_path, 'w')\n",
    "    for w in vocab:\n",
    "        output_file.write(w + '\\n')\n",
    "    output_file.close()  \n",
    "\n",
    "\n",
    "def run_topic_modeling(topics_output_directory_path, num_topics):\n",
    "\n",
    "    downsampled_path = topics_output_directory_path + '/authorless.texts.downsampled.' + str(num_topics) + '.txt'\n",
    "    data_dicts = []\n",
    "    for _line in open(downsampled_path, 'r'):\n",
    "        _id, _method, _text = _line.split('\\t')\n",
    "        data_dicts.append({'text': _text,\n",
    "                           'id': _id,\n",
    "                           'method': _method})\n",
    "    data_df = pd.DataFrame(data_dicts)\n",
    "\n",
    "    mdl = tp.LDAModel(k=num_topics)\n",
    "    for t in data_df['text']:\n",
    "        mdl.add_doc(str(t).split())\n",
    "\n",
    "    for i in range(0, 100, 10):\n",
    "        mdl.train(10)\n",
    "        # print('Iteration: {}\\tLog-likelihood: {}'.format(i, mdl.ll_per_word))\n",
    "\n",
    "    mdl.save(topics_output_directory_path + '/topics.' + str(num_topics) + '.mdl.bin')\n",
    "\n",
    "    top_words = []\n",
    "    word_distribution = []\n",
    "    keyword_file = open(topics_output_directory_path + '/keywords.' + str(num_topics) + '.txt', 'w')\n",
    "\n",
    "    for k in range(mdl.k):\n",
    "\n",
    "        _word_prob_tuples = mdl.get_topic_words(k, top_n=10)\n",
    "        print('Topic ' + str(k) + ': ' + ', '.join([w for w, p in _word_prob_tuples]))\n",
    "        keyword_file.write(', '.join([w for w, p in _word_prob_tuples]) + '\\n')\n",
    "\n",
    "        _word_prob_tuples = mdl.get_topic_words(k, top_n=mdl.num_words)\n",
    "        top_words.append([w for w, p in _word_prob_tuples[:10]])\n",
    "        word_distribution.append([(w,p) for w, p in sorted(_word_prob_tuples, key=lambda x: x[0])])\n",
    "\n",
    "    keyword_file.close()\n",
    "\n",
    "    return (top_words, word_distribution)"
   ]
  },
  {
   "cell_type": "code",
   "execution_count": 11,
   "metadata": {},
   "outputs": [],
   "source": [
    "num_topics = 30"
   ]
  },
  {
   "cell_type": "code",
   "execution_count": 17,
   "metadata": {},
   "outputs": [],
   "source": [
    "prepare_authorless_sampling(output_directory_path + '/new-topics-by-me/reddit', num_topics, sampled_reddit_df)\n",
    "prepare_authorless_sampling(output_directory_path + '/new-topics-by-me/twitter', num_topics, sampled_twitter_df)\n",
    "prepare_authorless_sampling(output_directory_path + '/new-topics-by-me/webmd', num_topics, sampled_webmd_df)"
   ]
  },
  {
   "cell_type": "code",
   "execution_count": 13,
   "metadata": {},
   "outputs": [],
   "source": [
    "# Run ./run_authorless_tms.sh on the command line"
   ]
  },
  {
   "cell_type": "code",
   "execution_count": 18,
   "metadata": {},
   "outputs": [
    {
     "name": "stdout",
     "output_type": "stream",
     "text": [
      "REDDIT\n",
      "Topic 0: got, doctor, said, told, one, went, put, really, first, never\n",
      "Topic 1: acne, anxiety, skin, depression, bad, months, worse, also, help, go\n",
      "Topic 2: pregnancy, pregnant, sex, test, negative, know, inside, tests, worried, even\n",
      "Topic 3: pill, NUM, pills, take, week, taking, day, pack, days, took\n",
      "Topic 4: hormonal, m, bc, experience, mood, experiences, side, want, effects, people\n",
      "Topic 5: side, effects, pill, effect, mini, estrogen, progestin, low, hormone, progesterone\n",
      "Topic 6: im, like, symptoms, feel, dont, usually, may, could, sometimes, well\n",
      "Topic 7: iud, strings, feel, pain, check, cervix, uterus, ultrasound, place, right\n",
      "Topic 8: get, doctor, m, appointment, told, make, said, another, sure, see\n",
      "Topic 9: insertion, NUM, pain, took, experience, cramps, felt, iud, got, painful\n",
      "Topic 10: implant, nexplanon, m, like, know, want, anyone, would, one, something\n",
      "Topic 11: like, feel, time, didn, bit, really, would, got, back, much\n",
      "Topic 12: weight, gain, implanon, side, effects, gained, lose, pounds, issues, loss\n",
      "Topic 13: control, birth, NUM, use, pills, condoms, pill, take, using, taking\n",
      "Topic 14: didn, well, would, ibuprofen, take, work, time, use, really, cup\n",
      "Topic 15: pill, pills, taking, like, re, active, stop, cycle, combo, could\n",
      "Topic 16: insurance, get, would, doctor, health, want, go, without, covered, free\n",
      "Topic 17: sex, drive, libido, help, used, also, boyfriend, time, month, d\n",
      "Topic 18: nexplanon, NUM, bleeding, months, got, implant, since, anyone, year, removed\n",
      "Topic 19: discharge, hair, blood, like, brown, see, loss, maybe, could, anyone\n",
      "Topic 20: m, get, like, feel, really, go, getting, months, know, ago\n",
      "Topic 21: NUM, years, months, year, periods, heavy, every, period, month, past\n",
      "Topic 22: period, NUM, days, bleeding, spotting, week, normal, weeks, first, day\n",
      "Topic 23: NUM, new, removal, one, health, dr, removed, tl, find, generic\n",
      "Topic 24: women, ovulation, NUM, //www, https, ovulate, studies, contraceptive, http, rate\n",
      "Topic 25: get, know, good, think, getting, re, people, say, read, one\n",
      "Topic 26: implant, arm, nexplanon, put, insertion, inserted, little, hurt, feel, got\n",
      "Topic 27: m, NUM, since, time, got, last, thanks, nexplanon, years, hey\n",
      "Topic 28: pain, cramps, bad, go, cramping, painful, nothing, doctor, also, something\n",
      "Topic 29: iud, mirena, copper, m, skyla, periods, kyleena, anyone, like, insertion\n",
      "\n",
      "TWITTER\n",
      "Topic 0: pill, women, contraceptive, also, many, health, need, taking, use, pills\n",
      "Topic 1: iud, pain, going, uterus, help, probably, insertion, inside, inserted, meds\n",
      "Topic 2: nexplanon, implant, arm, get, m, getting, got, today, implanon, put\n",
      "Topic 3: side, effects, know, well, people, work, implanon, even, yet, effect\n",
      "Topic 4: iud, baby, body, planned, found, born, parenthood, hard, doctor, woman\n",
      "Topic 5: iud, time, bc, get, got, m, even, never, took, first\n",
      "Topic 6: get, lol, yes, implanon, way, pregnant, day, hell, implant, look\n",
      "Topic 7: weight, gain, implanon, iud, pregnancy, prevent, rod, loss, placed, thanks\n",
      "Topic 8: NUM, period, got, years, nexplanon, months, month, periods, every, ago\n",
      "Topic 9: iud, didn, like, much, said, want, pain, really, put, actually\n",
      "Topic 10: birth, pill, control, sex, making, would, baby, thought, wait, history\n",
      "Topic 11: //t, https, contraceptive, pill, birthcontrol, male, find, woman, health, coming\n",
      "Topic 12: //t, http, contraceptive, pill, https, oral, risk, cancer, may, male\n",
      "Topic 13: pill, contraceptive, blood, hormone, drug, due, free, levels, causes, long\n",
      "Topic 14: iud, abortion, contraception, would, girl, rt, know, real, fucking, plan\n",
      "Topic 15: emergency, pill, need, ask, working, thanks, maybe, safe, video, instead\n",
      "Topic 16: iud, woman, put, free, man, want, pay, take, fuck, best\n",
      "Topic 17: iud, like, m, day, time, every, place, shit, find, look\n",
      "Topic 18: iud, like, copper, hormones, get, one, better, love, body, make\n",
      "Topic 19: oral, contraceptive, contraception, pills, could, miss, life, hormonal, available, female\n",
      "Topic 20: //t, https, birth, control, implant, http, via, essure, safety, fda\n",
      "Topic 21: control, birth, pill, take, male, men, women, thing, pregnancy, second\n",
      "Topic 22: //t, http, implant, contraceptive, https, long, women, device, essure, health\n",
      "Topic 23: know, also, nexplanon, get, one, didn, mood, say, body, never\n",
      "Topic 24: birth, control, pill, rt, u, men, makes, pop, recall, pull\n",
      "Topic 25: iud, nexplanon, would, getting, get, made, got, thing, lol, lmao\n",
      "Topic 26: iud, best, ever, implanon, NUM, mirena, effective, thing, one, paragard\n",
      "Topic 27: NUM, nexplanon, implant, years, like, get, implanon, arm, one, got\n",
      "Topic 28: http, //t, pill, NUM, //bit, contraceptive, control, birth, women, news\n",
      "Topic 29: NUM, iud, //t, https, years, new, copper, post, mirena, lasts\n",
      "\n",
      "WEBMD\n",
      "Topic 0: mood, swings, depression, like, severe, feel, pms, symptoms, crazy, life\n",
      "Topic 1: pain, NUM, severe, abdominal, cysts, left, doctors, due, experienced, ovarian\n",
      "Topic 2: m, haven, like, normal, try, issues, almost, others, month, may\n",
      "Topic 3: pill, switched, taking, yaz, tri, loestrin, sprintec, lo, ortho, fe\n",
      "Topic 4: NUM, mirena, years, put, old, removed, almost, gain, NUM/NUM, year\n",
      "Topic 5: NUM, period, months, month, periods, days, every, first, last, week\n",
      "Topic 6: nexplanon, implant, medication, pregnancy, symptoms, effective, caused, anxiety, blood, began\n",
      "Topic 7: m, feel, never, could, reviews, get, think, time, body, put\n",
      "Topic 8: mirena, iud, went, doctor, dr, could, inserted, uterus, removed, find\n",
      "Topic 9: take, day, like, every, sure, felt, time, right, make, good\n",
      "Topic 10: would, different, reviews, get, everyone, inserted, implanon, read, try, birth\n",
      "Topic 11: m, back, got, getting, time, going, removed, would, like, went\n",
      "Topic 12: iud, paragard, inserted, hormones, painful, little, pain, know, let, free\n",
      "Topic 13: pill, month, first, headaches, week, started, weight, gain, problems, taking\n",
      "Topic 14: side, effects, great, one, within, experienced, worth, drug, different, cause\n",
      "Topic 15: spotting, little, far, first, two, much, cramping, period, overall, days\n",
      "Topic 16: sex, drive, getting, back, even, want, pregnant, life, ever, feel\n",
      "Topic 17: pain, insertion, cramping, mirena, cramps, inserted, day, painful, hurt, bad\n",
      "Topic 18: im, like, ive, dont, NUM, cant, get, alot, didnt, moody\n",
      "Topic 19: control, birth, would, recommend, taking, pill, form, using, take, pills\n",
      "Topic 20: pill, bc, taking, weight, pills, gain, take, also, love, breast\n",
      "Topic 21: weight, NUM, gained, pounds, lbs, get, also, NUMlbs, lose, eat\n",
      "Topic 22: periods, one, time, pregnant, years, really, year, get, well, didn\n",
      "Topic 23: bleeding, doctor, ever, year, periods, heavy, bad, almost, cramps, worse\n",
      "Topic 24: acne, face, skin, clear, also, broke, issue, iâ, bad, happy\n",
      "Topic 25: started, body, bad, headaches, doctor, feeling, get, never, migraines, still\n",
      "Topic 26: NUM, bleeding, months, weeks, days, started, stopped, stop, week, spotting\n",
      "Topic 27: use, easy, period, get, one, went, product, completely, five, wasn\n",
      "Topic 28: hair, implanon, since, got, side, loss, period, taken, gain, effect\n",
      "Topic 29: NUM, months, since, first, love, think, years, best, period, haven\n"
     ]
    }
   ],
   "source": [
    "print('REDDIT')\n",
    "reddit_top_words, reddit_word_distribution = run_topic_modeling(output_directory_path + '/new-topics-by-me/reddit', num_topics)\n",
    "print('\\nTWITTER')\n",
    "twitter_top_words, twitter_word_distribution = run_topic_modeling(output_directory_path + '/new-topics-by-me/twitter', num_topics)\n",
    "print('\\nWEBMD')\n",
    "webmd_top_words, webmd_word_distribution = run_topic_modeling(output_directory_path + '/new-topics-by-me/webmd', num_topics)"
   ]
  },
  {
   "cell_type": "markdown",
   "metadata": {},
   "source": [
    "<br><br><br><br>\n",
    "\n",
    "# Find Jensen-Shannon divergence between all topics"
   ]
  },
  {
   "cell_type": "code",
   "execution_count": 19,
   "metadata": {},
   "outputs": [
    {
     "data": {
      "text/plain": [
       "3244"
      ]
     },
     "execution_count": 19,
     "metadata": {},
     "output_type": "execute_result"
    }
   ],
   "source": [
    "reddit_vocab = [w for w, p in reddit_word_distribution[0]]\n",
    "twitter_vocab = [w for w, p in twitter_word_distribution[0]]\n",
    "webmd_vocab = [w for w, p in webmd_word_distribution[0]]\n",
    "\n",
    "shared_vocab = [w for w in webmd_vocab if w in reddit_vocab and w in twitter_vocab]\n",
    "\n",
    "len(shared_vocab)"
   ]
  },
  {
   "cell_type": "code",
   "execution_count": 20,
   "metadata": {},
   "outputs": [
    {
     "data": {
      "text/plain": [
       "(30, 30, 30)"
      ]
     },
     "execution_count": 20,
     "metadata": {},
     "output_type": "execute_result"
    }
   ],
   "source": [
    "filtered_reddit_word_distribution = [[(w,p) for (w,p) in _distribution if w in shared_vocab] for _distribution in reddit_word_distribution]\n",
    "filtered_twitter_word_distribution = [[(w,p) for (w,p) in _distribution if w in shared_vocab] for _distribution in twitter_word_distribution]\n",
    "filtered_webmd_word_distribution = [[(w,p) for (w,p) in _distribution if w in shared_vocab] for _distribution in webmd_word_distribution]\n",
    "\n",
    "len(filtered_reddit_word_distribution), len(filtered_twitter_word_distribution), len(filtered_webmd_word_distribution)"
   ]
  },
  {
   "cell_type": "code",
   "execution_count": 21,
   "metadata": {},
   "outputs": [
    {
     "data": {
      "text/plain": [
       "(3244, 3244, 3244)"
      ]
     },
     "execution_count": 21,
     "metadata": {},
     "output_type": "execute_result"
    }
   ],
   "source": [
    "len(filtered_reddit_word_distribution[0]), len(filtered_twitter_word_distribution[1]), len(filtered_webmd_word_distribution[2])"
   ]
  },
  {
   "cell_type": "code",
   "execution_count": 22,
   "metadata": {},
   "outputs": [
    {
     "name": "stdout",
     "output_type": "stream",
     "text": [
      "('clear', 1.344364250144281e-06) ('clear', 6.901168035255978e-06) ('clear', 3.013400601048488e-06)\n",
      "('cleared', 1.344364250144281e-06) ('cleared', 6.901168035255978e-06) ('cleared', 3.013400601048488e-06)\n",
      "('clearly', 1.344364250144281e-06) ('clearly', 6.901168035255978e-06) ('clearly', 3.013400601048488e-06)\n",
      "('click', 1.344364250144281e-06) ('click', 6.901168035255978e-06) ('click', 3.013400601048488e-06)\n",
      "('climbing', 1.344364250144281e-06) ('climbing', 6.901168035255978e-06) ('climbing', 3.013400601048488e-06)\n",
      "('clinic', 1.344364250144281e-06) ('clinic', 6.901168035255978e-06) ('clinic', 3.013400601048488e-06)\n",
      "('clinical', 1.344364250144281e-06) ('clinical', 6.901168035255978e-06) ('clinical', 3.013400601048488e-06)\n",
      "('clock', 1.344364250144281e-06) ('clock', 6.901168035255978e-06) ('clock', 3.013400601048488e-06)\n",
      "('close', 1.344364250144281e-06) ('close', 6.901168035255978e-06) ('close', 3.013400601048488e-06)\n",
      "('closely', 1.344364250144281e-06) ('closely', 6.901168035255978e-06) ('closely', 3.013400601048488e-06)\n"
     ]
    }
   ],
   "source": [
    "for i in range(500, 510):\n",
    "    print(filtered_reddit_word_distribution[0][i], filtered_twitter_word_distribution[1][i], filtered_webmd_word_distribution[2][i])"
   ]
  },
  {
   "cell_type": "code",
   "execution_count": 23,
   "metadata": {},
   "outputs": [
    {
     "data": {
      "text/plain": [
       "(30, 3)"
      ]
     },
     "execution_count": 23,
     "metadata": {},
     "output_type": "execute_result"
    }
   ],
   "source": [
    "topic_divergences_dict = defaultdict(list)\n",
    "for k in range(0, num_topics):\n",
    "    for _distribution1, _distribution2 in combinations([filtered_reddit_word_distribution[k], filtered_twitter_word_distribution[k], filtered_webmd_word_distribution[k]], 2):\n",
    "        topic_divergences_dict[k].append(jensenshannon([p for (w,p) in _distribution1], [p for (w,p) in _distribution2]))\n",
    "len(topic_divergences_dict), len(topic_divergences_dict[0])"
   ]
  },
  {
   "cell_type": "code",
   "execution_count": 24,
   "metadata": {},
   "outputs": [
    {
     "name": "stdout",
     "output_type": "stream",
     "text": [
      "18\n",
      "0.7599219776096247\n",
      "[0.7698436068949125, 0.7646427198381593, 0.7452796060958019]\n",
      "Reddit: nexplanon NUM bleeding months got implant since anyone year removed\n",
      "Twitter: iud like copper hormones get one better love body make\n",
      "WebMD: im like ive dont NUM cant get alot didnt moody\n",
      "\n",
      "25\n",
      "0.7559485794071588\n",
      "[0.7283577980861338, 0.7907556367152896, 0.7487323034200529]\n",
      "Reddit: get know good think getting re people say read one\n",
      "Twitter: iud nexplanon would getting get made got thing lol lmao\n",
      "WebMD: started body bad headaches doctor feeling get never migraines still\n",
      "\n",
      "27\n",
      "0.7413139457825154\n",
      "[0.7017789727016788, 0.7731165473584376, 0.74904631728743]\n",
      "Reddit: m NUM since time got last thanks nexplanon years hey\n",
      "Twitter: NUM nexplanon implant years like get implanon arm one got\n",
      "WebMD: use easy period get one went product completely five wasn\n",
      "\n",
      "9\n",
      "0.7402659603876874\n",
      "[0.7224855225311801, 0.7536567880734265, 0.7446555705584553]\n",
      "Reddit: insertion NUM pain took experience cramps felt iud got painful\n",
      "Twitter: iud didn like much said want pain really put actually\n",
      "WebMD: take day like every sure felt time right make good\n",
      "\n",
      "29\n",
      "0.7352042834140488\n",
      "[0.7200647928302519, 0.7980668806121265, 0.6874811767997677]\n",
      "Reddit: iud mirena copper m skyla periods kyleena anyone like insertion\n",
      "Twitter: NUM iud //t https years new copper post mirena lasts\n",
      "WebMD: NUM months since first love think years best period haven\n",
      "\n"
     ]
    }
   ],
   "source": [
    "for _topic, _divergences in sorted(topic_divergences_dict.items(), key=lambda x: np.mean(x[1]), reverse=True)[-5:]:\n",
    "    print(_topic)\n",
    "    print(np.mean(_divergences))\n",
    "    print(_divergences)\n",
    "    print('Reddit:', ' '.join(reddit_top_words[_topic]))\n",
    "    print('Twitter:', ' '.join(twitter_top_words[_topic]))\n",
    "    print('WebMD:', ' '.join(webmd_top_words[_topic]))\n",
    "    print()"
   ]
  },
  {
   "cell_type": "code",
   "execution_count": 25,
   "metadata": {},
   "outputs": [
    {
     "name": "stdout",
     "output_type": "stream",
     "text": [
      "24\n",
      "0.813546184471219\n",
      "Reddit: women ovulation NUM //www https ovulate studies contraceptive http rate\n",
      "Twitter: birth control pill rt u men makes pop recall pull\n",
      "WebMD: acne face skin clear also broke issue iâ bad happy\n",
      "\n",
      "12\n",
      "0.808748831527323\n",
      "Reddit: weight gain implanon side effects gained lose pounds issues loss\n",
      "Twitter: //t http contraceptive pill https oral risk cancer may male\n",
      "WebMD: iud paragard inserted hormones painful little pain know let free\n",
      "\n",
      "20\n",
      "0.8033948289972357\n",
      "Reddit: m get like feel really go getting months know ago\n",
      "Twitter: //t https birth control implant http via essure safety fda\n",
      "WebMD: pill bc taking weight pills gain take also love breast\n",
      "\n",
      "0\n",
      "0.8033256647981504\n",
      "Reddit: got doctor said told one went put really first never\n",
      "Twitter: pill women contraceptive also many health need taking use pills\n",
      "WebMD: mood swings depression like severe feel pms symptoms crazy life\n",
      "\n",
      "22\n",
      "0.8012963067731803\n",
      "Reddit: period NUM days bleeding spotting week normal weeks first day\n",
      "Twitter: //t http implant contraceptive https long women device essure health\n",
      "WebMD: periods one time pregnant years really year get well didn\n",
      "\n"
     ]
    }
   ],
   "source": [
    "for _topic, _divergences in sorted(topic_divergences_dict.items(), key=lambda x: np.mean(x[1]), reverse=True)[:5]:\n",
    "    print(_topic)\n",
    "    print(np.mean(_divergences))\n",
    "    print('Reddit:', ' '.join(reddit_top_words[_topic]))\n",
    "    print('Twitter:', ' '.join(twitter_top_words[_topic]))\n",
    "    print('WebMD:', ' '.join(webmd_top_words[_topic]))\n",
    "    print()"
   ]
  },
  {
   "cell_type": "markdown",
   "metadata": {},
   "source": [
    "<br><br>\n",
    "\n",
    "# Remove \"clout\" tweets\n",
    "\n",
    "Remove tweets that aren't retweets or quote tweets or exact matches, but that repeat jokes told by many others"
   ]
  },
  {
   "cell_type": "code",
   "execution_count": 15,
   "metadata": {},
   "outputs": [],
   "source": [
    "# joke_texts = ['fists closed',\n",
    "#               'fist closed',\n",
    "#               'born laughingj',\n",
    "#               'put in her mouth', \n",
    "#               'second best thing',\n",
    "#               '2nd best thing',\n",
    "#               'woody allen',\n",
    "#               'i asked a girl to',\n",
    "#               'a fast word about oral contraception',\n",
    "#               'a terrific story about',\n",
    "#               'bullets out of a gun',\n",
    "#               'bulletproof vest',\n",
    "#               'popped a molly',\n",
    "#               'fancy app']"
   ]
  },
  {
   "cell_type": "code",
   "execution_count": 153,
   "metadata": {},
   "outputs": [],
   "source": [
    "# joke_texts = ['fancy app']\n",
    "# jokes = []\n",
    "# for i, r in twitter_posts_df.iterrows():\n",
    "#     if any(_text in r['text'].lower() for _text in joke_texts):\n",
    "#         jokes.append(r['text'])\n",
    "# len(jokes)"
   ]
  },
  {
   "cell_type": "code",
   "execution_count": 154,
   "metadata": {},
   "outputs": [],
   "source": [
    "# for j in random.sample(jokes, 5):\n",
    "#     print(j)\n",
    "#     print()"
   ]
  },
  {
   "cell_type": "code",
   "execution_count": 16,
   "metadata": {},
   "outputs": [],
   "source": [
    "# print(len(twitter_posts_df.index), len(twitter_replies_df.index))\n",
    "\n",
    "# twitter_posts_df = twitter_posts_df[~twitter_posts_df.text.str.contains('|'.join(joke_texts), case=False)]\n",
    "# twitter_replies_df = twitter_replies_df[~twitter_replies_df.text.str.contains('|'.join(joke_texts), case=False)]\n",
    "\n",
    "# print(len(twitter_posts_df.index), len(twitter_replies_df.index))"
   ]
  },
  {
   "cell_type": "markdown",
   "metadata": {},
   "source": [
    "# Create word intrusion task"
   ]
  },
  {
   "cell_type": "code",
   "execution_count": 92,
   "metadata": {},
   "outputs": [],
   "source": [
    "top_words_path = output_directory_path + '/topics-by-leann/topic_top_words.csv'"
   ]
  },
  {
   "cell_type": "code",
   "execution_count": 93,
   "metadata": {},
   "outputs": [],
   "source": [
    "top_words_df = pd.read_csv(top_words_path)"
   ]
  },
  {
   "cell_type": "code",
   "execution_count": 94,
   "metadata": {},
   "outputs": [
    {
     "data": {
      "text/html": [
       "<div>\n",
       "<style scoped>\n",
       "    .dataframe tbody tr th:only-of-type {\n",
       "        vertical-align: middle;\n",
       "    }\n",
       "\n",
       "    .dataframe tbody tr th {\n",
       "        vertical-align: top;\n",
       "    }\n",
       "\n",
       "    .dataframe thead th {\n",
       "        text-align: right;\n",
       "    }\n",
       "</style>\n",
       "<table border=\"1\" class=\"dataframe\">\n",
       "  <thead>\n",
       "    <tr style=\"text-align: right;\">\n",
       "      <th></th>\n",
       "      <th>Unnamed: 0</th>\n",
       "      <th>Topic</th>\n",
       "      <th>Top Words</th>\n",
       "      <th>Community</th>\n",
       "    </tr>\n",
       "  </thead>\n",
       "  <tbody>\n",
       "    <tr>\n",
       "      <th>7</th>\n",
       "      <td>7</td>\n",
       "      <td>starting new packs, skipping pills</td>\n",
       "      <td>['pills', 'NUM', 'week', 'pill', 'pack', 'plac...</td>\n",
       "      <td>reddit</td>\n",
       "    </tr>\n",
       "    <tr>\n",
       "      <th>41</th>\n",
       "      <td>41</td>\n",
       "      <td>acne and skin concerns</td>\n",
       "      <td>['acne', 'face', 'skin', 'never', 'also', 'cys...</td>\n",
       "      <td>webmd</td>\n",
       "    </tr>\n",
       "    <tr>\n",
       "      <th>102</th>\n",
       "      <td>102</td>\n",
       "      <td>changes in period, implant</td>\n",
       "      <td>['NUM', 'years', 'nexplanon', 'got', 'period',...</td>\n",
       "      <td>twitter</td>\n",
       "    </tr>\n",
       "  </tbody>\n",
       "</table>\n",
       "</div>"
      ],
      "text/plain": [
       "     Unnamed: 0                               Topic  \\\n",
       "7             7  starting new packs, skipping pills   \n",
       "41           41              acne and skin concerns   \n",
       "102         102          changes in period, implant   \n",
       "\n",
       "                                             Top Words Community  \n",
       "7    ['pills', 'NUM', 'week', 'pill', 'pack', 'plac...    reddit  \n",
       "41   ['acne', 'face', 'skin', 'never', 'also', 'cys...     webmd  \n",
       "102  ['NUM', 'years', 'nexplanon', 'got', 'period',...   twitter  "
      ]
     },
     "execution_count": 94,
     "metadata": {},
     "output_type": "execute_result"
    }
   ],
   "source": [
    "top_words_df.sample(3)"
   ]
  },
  {
   "cell_type": "code",
   "execution_count": 100,
   "metadata": {},
   "outputs": [
    {
     "name": "stdout",
     "output_type": "stream",
     "text": [
      "rebutting negative reviews  & reviews, read, reading, experience, people \\\\\n",
      "\\rowcolor[gray]{0.9}\n",
      "pregnancy-prevention efficacy & medication, pregnancy, preventing, effective, medications \\\\\n",
      "blood clots, blood pressure, stroke, migraines & blood, pressure, high, yeast, infection \\\\\n",
      "\\rowcolor[gray]{0.9}\n",
      "implant insertion/removal experience & implant, arm, nexplanon, shot, depo \\\\\n",
      "changes in sex drive & sex, drive, low, husband, zero \\\\\n",
      "\\rowcolor[gray]{0.9}\n",
      "positive experiences & take, love, little, everyday, thing \\\\\n",
      "acne and skin concerns & acne, face, skin, never, cystic \\\\\n",
      "\\rowcolor[gray]{0.9}\n",
      "irregular periods, bleeding, highly recommended & periods, recommend, years, product, long \\\\\n",
      "anxiety, depression, panic attacks, mood swings & anxiety, nexplanon, depression, implant, began \\\\\n",
      "\\rowcolor[gray]{0.9}\n",
      "leg, back pain, stomach aches & pain, pains, back, stomach, legs \\\\\n",
      "anxiety, depression, mood swings, fatigue, weight gain & mood, swings, weight, depression, gain \\\\\n",
      "\\rowcolor[gray]{0.9}\n",
      "years, months, duration of use & years, year, almost, old, one \\\\\n",
      "switching pills, generic & switched, generic, pharmacy, years, ortho \\\\\n",
      "\\rowcolor[gray]{0.9}\n",
      "iud, ovarian cysts, surgery & pain, mirena, removed, iud, painful \\\\\n",
      "heavy bleeding, spotting & heavy, tampons, wear, needed, pads \\\\\n",
      "\\rowcolor[gray]{0.9}\n",
      "pill acne, headaches, breast pain, cramps & pill, taking, noticed, acne, breast \\\\\n",
      "benefits vs. risk analysis & cannot, low, dose, gyn, device \\\\\n",
      "\\rowcolor[gray]{0.9}\n",
      "iud insertion experience & pain, insertion, cramping, iud, inserted \\\\\n",
      "experience-sharing & months, recommend, form, different, taking \\\\\n",
      "\\rowcolor[gray]{0.9}\n",
      "life interferences & feel, time, never, feeling, made \\\\\n",
      "bleeding, spotting, changes in cycle & months, period, days, periods, weeks \\\\\n",
      "\\rowcolor[gray]{0.9}\n",
      "comments on pregnancy-prevention & pregnant, time, getting, pregnancy, yet \\\\\n",
      "doctor visits, communication & doctor, never, said, bad, could \\\\\n",
      "\\rowcolor[gray]{0.9}\n",
      "doctor interactions, visits & back, going, work, still, even \\\\\n",
      "presence/absence of \"side effects\" & side, effects, effect, headaches, drug \\\\\n",
      "\\rowcolor[gray]{0.9}\n",
      "implant changes in cycle, bleeding & bleeding, since, months, implanon, removed \\\\\n",
      "weight gain, losing weight & weight, gained, gain, pounds, lbs \\\\\n",
      "\\rowcolor[gray]{0.9}\n",
      "bleeding, cramps & worse, cramps, bleeding, bad, super \\\\\n",
      "side effects after taking the pill & pill, taking, pills, started, take \\\\\n",
      "\\rowcolor[gray]{0.9}\n",
      "iud string concerns & pain, strings, went, find, told \\\\\n",
      "users with children & mirena, put, years, inserted, child \\\\\n",
      "\\rowcolor[gray]{0.9}\n",
      "costs, insurance & insurance, loestrin, pay, cost, cover \\\\\n",
      "hair loss, facial hair growth & hair, loss, started, falling, facial \\\\\n",
      "\\rowcolor[gray]{0.9}\n",
      "experience-sharing pt 2 & day, take, every, one, well \\\\\n",
      "spotting for extended periods of time & period, month, first, two, spotting \\\\\n"
     ]
    }
   ],
   "source": [
    "for i, r in top_words_df.iterrows():\n",
    "\n",
    "    if r['Community'] == 'webmd':\n",
    "\n",
    "        _top_words = [w.strip().strip(\"'\") for w in r['Top Words'].strip('[').strip(']').split(',')]\n",
    "        _top_words = [w for w in _top_words if w.lower() not in ['num', 'birth', 'control', 'use', 'get', 'would', 'got', 'http', 'https', \n",
    "                                                                    'like', 'also', 'ever', 'however', 'haven', 'really', 'dont', 'ive']]\n",
    "        _top_words = _top_words[:5]\n",
    "\n",
    "        if i%2 == 0:\n",
    "            print('\\\\rowcolor[gray]{0.9}')\n",
    "        print(r['Topic'] + ' & ' + ', '.join(_top_words) + ' \\\\\\\\')"
   ]
  },
  {
   "cell_type": "code",
   "execution_count": 74,
   "metadata": {},
   "outputs": [
    {
     "name": "stdout",
     "output_type": "stream",
     "text": [
      "\n",
      "reddit\n",
      "\n",
      "['pregnant', 'day', 'pregnancy', 'test', 'negative'] day\n",
      "['sex', 'took', 'pill', 'day', 'bleeding'] bleeding\n",
      "['condoms', 'sex', 'pregnant', 'pregnancy', 'bleeding'] bleeding\n",
      "['studies', 'pill', 'effectiveness', 'antibiotics', 'reddit'] studies\n",
      "['antibiotics', 'infection', 'iud', 'infections', 'pregnant'] pregnant\n",
      "['loss', 'bruising', 'skin', 'face', 'hair'] bruising\n",
      "['mirena', 'iud', 'hormones', 'start', 'copper'] start\n",
      "['pills', 'pack', 'bleeding', 'pill', 'week'] bleeding\n",
      "['day', 'feel', 'boobs', 'nausea', 'night'] boobs\n",
      "['implant', 'anyone', 'pill', 'getting', 'know'] pill\n",
      "['months', 'nexplanon', 'bleeding', 'pregnant', 'irregular'] pregnant\n",
      "['pay', 'parenthood', 'planned', 'cysts', 'health'] cysts\n",
      "['lost', 'pill', 'pounds', 'gained', 'weight'] pill\n",
      "['blood', 'effective', 'spotting', 'period', 'discharge'] effective\n",
      "['pain', 'cysts', 'didn', 'anyone', 'else'] didn\n",
      "['feel', 'iud', 'check', 'progesterone', 'cervix'] progesterone\n",
      "['nexplanon', 'low', 'implant', 'effect', 'effects'] low\n",
      "['anxiety', 'feel', 'mood', 'nexplanon', 'time'] nexplanon\n",
      "['pills', 'didn', 'hormonal', 'taking', 'pill'] didn\n",
      "['iud', 'antibiotics', 'tampons', 'menstrual', 'cup'] antibiotics\n",
      "['time', 'antibiotic', 'pill', 'taking', 'take'] antibiotic\n",
      "['dose', 'progestin', 'estrogen', 'pregnancy', 'pill'] pregnancy\n",
      "['doctor', 'told', 'went', 'said', 'parents'] parents\n",
      "['might', 'pill', 'generic', 'switched', 'taking'] might\n",
      "['risk', 'insertion', 'migraines', 'pill', 'estrogen'] insertion\n",
      "['taking', 'experience', 'experiences', 'stories', 'read'] taking\n",
      "['pain', 'iud', 'cramps', 'hours', 'felt'] hours\n",
      "['started', 'month', 'days', 'period', 'www'] www\n",
      "['feel', 'pill', 'nexplanon', 'insertion', 'arm'] pill\n",
      "['removed', 'mood', 'years', 'nexplanon', 'months'] mood\n",
      "['implant', 'effective', 'nexplanon', 'women', 'libido'] libido\n",
      "['sex', 'feel', 'libido', 'know', 'want'] know\n",
      "['fertility', 'days', 'cycle', 'ovulate', 'years'] years\n",
      "['gain', 'doctor', 'good', 'body', 'think'] gain\n",
      "['first', 'periods', 'months', 'went', 'days'] went\n",
      "\n",
      "webmd\n",
      "\n",
      "['dry', 'read', 'reviews', 'reading', 'experience'] dry\n",
      "['medication', 'pregnancy', 'bleeding', 'medications', 'effective'] bleeding\n",
      "['infection', 'yeast', 'another', 'blood', 'pressure'] another\n",
      "['nexplanon', 'shot', 'implant', 'depo', 'effective'] effective\n",
      "['zero', 'low', 'sex', 'headaches', 'husband'] headaches\n",
      "['went', 'take', 'love', 'little', 'everyday'] went\n",
      "['never', 'place', 'skin', 'cystic', 'face'] place\n",
      "['recommend', 'periods', 'product', 'years', 'weeks'] weeks\n",
      "['nexplanon', 'pads', 'anxiety', 'began', 'implant'] pads\n",
      "['back', 'pain', 'stomach', 'great', 'pains'] great\n",
      "['swings', 'gain', 'mood', 'weight', 'lost'] lost\n",
      "['one', 'years', 'almost', 'old', 'brand'] brand\n",
      "['pharmacy', 'years', 'switched', 'one', 'generic'] one\n",
      "['low', 'iud', 'removed', 'painful', 'mirena'] low\n",
      "['needed', 'prevent', 'heavy', 'tampons', 'pads'] prevent\n",
      "['noticed', 'breast', 'taking', 'pads', 'acne'] pads\n",
      "['pain', 'device', 'gyn', 'dose', 'cannot'] pain\n",
      "['pain', 'headaches', 'insertion', 'iud', 'inserted'] headaches\n",
      "['felt', 'recommend', 'months', 'different', 'taking'] felt\n",
      "['feeling', 'feel', 'time', 'heavy', 'made'] heavy\n",
      "['period', 'periods', 'months', 'put', 'days'] put\n",
      "['taking', 'getting', 'pregnancy', 'time', 'pregnant'] taking\n",
      "['never', 'said', 'bad', 'first', 'doctor'] first\n",
      "['work', 'still', 'year', 'going', 'back'] year\n",
      "['drug', 'headaches', 'month', 'effects', 'side'] month\n",
      "['since', 'bleeding', 'implanon', 'vaginal', 'months'] vaginal\n",
      "['gained', 'put', 'weight', 'pounds', 'gain'] put\n",
      "['bad', 'bleeding', 'period', 'worse', 'super'] period\n",
      "['taking', 'take', 'started', 'pills', 'eat'] eat\n",
      "['told', 'went', 'horrible', 'pain', 'strings'] horrible\n",
      "['child', 'life', 'put', 'inserted', 'mirena'] life\n",
      "['cover', 'insurance', 'loestrin', 'started', 'pay'] started\n",
      "['loss', 'one', 'hair', 'facial', 'started'] one\n",
      "['day', 'well', 'began', 'one', 'every'] began\n",
      "['spotting', 'month', 'first', 'two', 'nausea'] nausea\n",
      "\n",
      "twitter\n",
      "\n",
      "['nexplanon', 'arm', 'implanon', 'implant', 'women'] women\n",
      "['pain', 'iud', 'doctor', 'insertion', 'nexplanon'] nexplanon\n",
      "['thanks', 'implant', 'today', 'iud', 'baby'] implant\n",
      "['baby', 'put', 'tiny', 'born', 'iud'] put\n",
      "['device', 'contraceptive', 'men', 'pill', 'scientists'] device\n",
      "['implant', 'nexplanon', 'every', 'implanon', 'best'] every\n",
      "['long', 'women', 'iud', 'contraception', 'take'] take\n",
      "['pregnancy', 'put', 'thing', 'implant', 'best'] implant\n",
      "['healthcare', 'iud', 'must', 'abortion', 'iuds'] iuds\n",
      "['women', 'contraceptive', 'without', 'implant', 'girl'] women\n",
      "['free', 'health', 'planned', 'iud', 'many'] many\n",
      "['hormonal', 'time', 'pill', 'taking', 'take'] hormonal\n",
      "['new', 'pill', 'men', 'thing', 'male'] thing\n",
      "['house', 'thank', 'iud', 'lol', 'bless'] lol\n",
      "['tomorrow', 'gained', 'implanon', 'nexplanon', 'weight'] tomorrow\n",
      "['new', 'fda', 'fuck', 'contraceptive', 'oral'] fuck\n",
      "['ied', 'women', 'sex', 'iud', 'looks'] women\n",
      "['oral', 'trump', 'risk', 'contraceptive', 'pill'] trump\n",
      "['pill', 'first', 'services', 'contraceptive', 'women'] services\n",
      "['implant', 'safety', 'arm', 'essure', 'review'] arm\n",
      "['male', 'pill', 'take', 'day', 'men'] day\n",
      "['getting', 'appointment', 'iuds', 'iud', 'today'] iuds\n",
      "['djerassi', 'carl', 'rate', 'pill', 'father'] rate\n",
      "['know', 'recalled', 'pregnant', 'need', 'tubes'] recalled\n",
      "['fda', 'periods', 'nexplanon', 'cramps', 'period'] fda\n",
      "['effects', 'real', 'pill', 'contraceptive', 'effect'] real\n",
      "['effective', 'rate', 'pay', 'iud', 'implanon'] pay\n",
      "['lol', 'good', 'iud', 'shit', 'implanon'] good\n",
      "['hormone', 'time', 'copper', 'device', 'intrauterine'] time\n",
      "['implant', 'essure', 'remote', 'contraceptive', 'best'] best\n",
      "['pill', 'iud', 'year', 'contraceptive', 'women'] year\n",
      "['iud', 'implant', 'nexplanon', 'one', 'know'] implant\n",
      "['year', 'months', 'contraceptive', 'years', 'period'] contraceptive\n",
      "['pill', 'pills', 'contraception', 'oral', 'services'] services\n",
      "['parenthood', 'bit', 'question', 'implanon', 'post'] parenthood\n"
     ]
    }
   ],
   "source": [
    "dicts_for_labeling = []\n",
    "\n",
    "for _community in top_words_df['Community'].unique():\n",
    "\n",
    "    print()\n",
    "    print(_community)\n",
    "    print()\n",
    "\n",
    "    _df = top_words_df[top_words_df['Community'] == _community]\n",
    "\n",
    "    _top_words_lists = []\n",
    "    for i, r in _df.iterrows():\n",
    "        _top_words = [w.strip().strip(\"'\") for w in r['Top Words'].strip('[').strip(']').split(',')]\n",
    "        _top_words = [w for w in _top_words if w.lower() not in ['num', 'birth', 'control', 'use', 'get', 'would', 'got', 'http', 'https', \n",
    "                                                                 'like', 'also', 'ever', 'however', 'haven', 'really', 'dont', 'ive']]\n",
    "        _top_words_lists.append(_top_words)\n",
    "\n",
    "    _all_words = [w for _top_words in _top_words_lists for w in _top_words[:10]]\n",
    "    for i, _top_words in enumerate(_top_words_lists):\n",
    "        _intruder_candidates = [w for w in _all_words if w not in _top_words]\n",
    "        _intruder = random.sample(_intruder_candidates, 1)[0]\n",
    "        _sampled_words = random.sample(_top_words[:5], 4)\n",
    "        _sampled_words.append(_intruder)\n",
    "        random.shuffle(_sampled_words)\n",
    "        print(_sampled_words, _intruder)\n",
    "\n",
    "        dicts_for_labeling.append({'Community': _community,\n",
    "                                   'Topic': i,\n",
    "                                   'Word List': ', '.join(_sampled_words),\n",
    "                                   'Intruder Word': _intruder})\n",
    "\n",
    "df_for_labeling = pd.DataFrame(dicts_for_labeling)"
   ]
  },
  {
   "cell_type": "code",
   "execution_count": 75,
   "metadata": {},
   "outputs": [
    {
     "data": {
      "text/html": [
       "<div>\n",
       "<style scoped>\n",
       "    .dataframe tbody tr th:only-of-type {\n",
       "        vertical-align: middle;\n",
       "    }\n",
       "\n",
       "    .dataframe tbody tr th {\n",
       "        vertical-align: top;\n",
       "    }\n",
       "\n",
       "    .dataframe thead th {\n",
       "        text-align: right;\n",
       "    }\n",
       "</style>\n",
       "<table border=\"1\" class=\"dataframe\">\n",
       "  <thead>\n",
       "    <tr style=\"text-align: right;\">\n",
       "      <th></th>\n",
       "      <th>Community</th>\n",
       "      <th>Topic</th>\n",
       "      <th>Word List</th>\n",
       "      <th>Intruder Word</th>\n",
       "    </tr>\n",
       "  </thead>\n",
       "  <tbody>\n",
       "    <tr>\n",
       "      <th>40</th>\n",
       "      <td>webmd</td>\n",
       "      <td>5</td>\n",
       "      <td>went, take, love, little, everyday</td>\n",
       "      <td>went</td>\n",
       "    </tr>\n",
       "    <tr>\n",
       "      <th>23</th>\n",
       "      <td>reddit</td>\n",
       "      <td>23</td>\n",
       "      <td>might, pill, generic, switched, taking</td>\n",
       "      <td>might</td>\n",
       "    </tr>\n",
       "    <tr>\n",
       "      <th>16</th>\n",
       "      <td>reddit</td>\n",
       "      <td>16</td>\n",
       "      <td>nexplanon, low, implant, effect, effects</td>\n",
       "      <td>low</td>\n",
       "    </tr>\n",
       "    <tr>\n",
       "      <th>98</th>\n",
       "      <td>twitter</td>\n",
       "      <td>28</td>\n",
       "      <td>hormone, time, copper, device, intrauterine</td>\n",
       "      <td>time</td>\n",
       "    </tr>\n",
       "    <tr>\n",
       "      <th>99</th>\n",
       "      <td>twitter</td>\n",
       "      <td>29</td>\n",
       "      <td>implant, essure, remote, contraceptive, best</td>\n",
       "      <td>best</td>\n",
       "    </tr>\n",
       "    <tr>\n",
       "      <th>8</th>\n",
       "      <td>reddit</td>\n",
       "      <td>8</td>\n",
       "      <td>day, feel, boobs, nausea, night</td>\n",
       "      <td>boobs</td>\n",
       "    </tr>\n",
       "    <tr>\n",
       "      <th>29</th>\n",
       "      <td>reddit</td>\n",
       "      <td>29</td>\n",
       "      <td>removed, mood, years, nexplanon, months</td>\n",
       "      <td>mood</td>\n",
       "    </tr>\n",
       "    <tr>\n",
       "      <th>24</th>\n",
       "      <td>reddit</td>\n",
       "      <td>24</td>\n",
       "      <td>risk, insertion, migraines, pill, estrogen</td>\n",
       "      <td>insertion</td>\n",
       "    </tr>\n",
       "    <tr>\n",
       "      <th>68</th>\n",
       "      <td>webmd</td>\n",
       "      <td>33</td>\n",
       "      <td>day, well, began, one, every</td>\n",
       "      <td>began</td>\n",
       "    </tr>\n",
       "    <tr>\n",
       "      <th>81</th>\n",
       "      <td>twitter</td>\n",
       "      <td>11</td>\n",
       "      <td>hormonal, time, pill, taking, take</td>\n",
       "      <td>hormonal</td>\n",
       "    </tr>\n",
       "  </tbody>\n",
       "</table>\n",
       "</div>"
      ],
      "text/plain": [
       "   Community  Topic                                     Word List  \\\n",
       "40     webmd      5            went, take, love, little, everyday   \n",
       "23    reddit     23        might, pill, generic, switched, taking   \n",
       "16    reddit     16      nexplanon, low, implant, effect, effects   \n",
       "98   twitter     28   hormone, time, copper, device, intrauterine   \n",
       "99   twitter     29  implant, essure, remote, contraceptive, best   \n",
       "8     reddit      8               day, feel, boobs, nausea, night   \n",
       "29    reddit     29       removed, mood, years, nexplanon, months   \n",
       "24    reddit     24    risk, insertion, migraines, pill, estrogen   \n",
       "68     webmd     33                  day, well, began, one, every   \n",
       "81   twitter     11            hormonal, time, pill, taking, take   \n",
       "\n",
       "   Intruder Word  \n",
       "40          went  \n",
       "23         might  \n",
       "16           low  \n",
       "98          time  \n",
       "99          best  \n",
       "8          boobs  \n",
       "29          mood  \n",
       "24     insertion  \n",
       "68         began  \n",
       "81      hormonal  "
      ]
     },
     "execution_count": 75,
     "metadata": {},
     "output_type": "execute_result"
    }
   ],
   "source": [
    "df_for_labeling.sample(10)"
   ]
  },
  {
   "cell_type": "code",
   "execution_count": 76,
   "metadata": {},
   "outputs": [],
   "source": [
    "# df_for_labeling.to_csv(output_directory_path + '/topics-by-leann/intruder_test.katherine.csv')"
   ]
  },
  {
   "cell_type": "code",
   "execution_count": 67,
   "metadata": {},
   "outputs": [
    {
     "data": {
      "text/plain": [
       "0.7714285714285715"
      ]
     },
     "execution_count": 67,
     "metadata": {},
     "output_type": "execute_result"
    }
   ],
   "source": [
    "(35-8) / 35"
   ]
  },
  {
   "cell_type": "code",
   "execution_count": 62,
   "metadata": {},
   "outputs": [
    {
     "data": {
      "text/plain": [
       "0.5142857142857142"
      ]
     },
     "execution_count": 62,
     "metadata": {},
     "output_type": "execute_result"
    }
   ],
   "source": [
    "(35-17) / 35"
   ]
  },
  {
   "cell_type": "code",
   "execution_count": 68,
   "metadata": {},
   "outputs": [
    {
     "data": {
      "text/plain": [
       "105"
      ]
     },
     "execution_count": 68,
     "metadata": {},
     "output_type": "execute_result"
    }
   ],
   "source": [
    "35*3"
   ]
  },
  {
   "cell_type": "code",
   "execution_count": 78,
   "metadata": {},
   "outputs": [
    {
     "data": {
      "text/plain": [
       "0.6571428571428571"
      ]
     },
     "execution_count": 78,
     "metadata": {},
     "output_type": "execute_result"
    }
   ],
   "source": [
    "(35-12) / 35"
   ]
  },
  {
   "cell_type": "code",
   "execution_count": 79,
   "metadata": {},
   "outputs": [
    {
     "data": {
      "text/plain": [
       "0.45714285714285713"
      ]
     },
     "execution_count": 79,
     "metadata": {},
     "output_type": "execute_result"
    }
   ],
   "source": [
    "(35-19) / 35"
   ]
  },
  {
   "cell_type": "code",
   "execution_count": 80,
   "metadata": {},
   "outputs": [
    {
     "data": {
      "text/plain": [
       "0.7428571428571429"
      ]
     },
     "execution_count": 80,
     "metadata": {},
     "output_type": "execute_result"
    }
   ],
   "source": [
    "(35-9) / 35"
   ]
  },
  {
   "cell_type": "code",
   "execution_count": 81,
   "metadata": {},
   "outputs": [],
   "source": [
    "STOPS = ['i', 'me', 'my', 'myself', 'we', 'our', 'ours', 'ourselves', 'you', 'your', 'yours',\n",
    "         'yourself', 'yourselves', 'he', 'him', 'his', 'himself', 'she', 'her', 'hers',\n",
    "         'herself', 'it', 'its', 'itself', 'they', 'them', 'their', 'theirs', 'themselves',\n",
    "         'what', 'which', 'who', 'whom', 'this', 'that', 'these', 'those', 'am', 'is', 'are',\n",
    "         'was', 'were', 'be', 'been', 'being', 'have', 'has', 'had', 'having', 'do', 'does',\n",
    "         'did', 'doing', 'a', 'an', 'the', 'and', 'but', 'if', 'or', 'because', 'as', 'until',\n",
    "         'while', 'of', 'at', 'by', 'for', 'with', 'about', 'against', 'between', 'into',\n",
    "         'through', 'during', 'before', 'after', 'above', 'below', 'to', 'from', 'up', 'down',\n",
    "         'in', 'out', 'on', 'off', 'over', 'under', 'again', 'further', 'then', 'once', 'here',\n",
    "         'there', 'when', 'where', 'why', 'how', 'all', 'any', 'both', 'each', 'few', 'more',\n",
    "         'most', 'other', 'some', 'such', 'no', 'nor', 'not', 'only', 'own', 'same', 'so',\n",
    "         'than', 'too', 'very', 's', 't', 'can', 'will', 'just', 'don', 'should', 'now', 've', 'll', 'amp']"
   ]
  },
  {
   "cell_type": "code",
   "execution_count": 82,
   "metadata": {},
   "outputs": [
    {
     "data": {
      "text/plain": [
       "'i, me, my, myself, we, our, ours, ourselves, you, your, yours, yourself, yourselves, he, him, his, himself, she, her, hers, herself, it, its, itself, they, them, their, theirs, themselves, what, which, who, whom, this, that, these, those, am, is, are, was, were, be, been, being, have, has, had, having, do, does, did, doing, a, an, the, and, but, if, or, because, as, until, while, of, at, by, for, with, about, against, between, into, through, during, before, after, above, below, to, from, up, down, in, out, on, off, over, under, again, further, then, once, here, there, when, where, why, how, all, any, both, each, few, more, most, other, some, such, no, nor, not, only, own, same, so, than, too, very, s, t, can, will, just, don, should, now, ve, ll, amp'"
      ]
     },
     "execution_count": 82,
     "metadata": {},
     "output_type": "execute_result"
    }
   ],
   "source": [
    "', '.join(STOPS)"
   ]
  },
  {
   "cell_type": "code",
   "execution_count": 83,
   "metadata": {},
   "outputs": [
    {
     "data": {
      "text/plain": [
       "'birth, control, use, get, would, got, http, https, like, also, ever, however, haven, really, dont, ive'"
      ]
     },
     "execution_count": 83,
     "metadata": {},
     "output_type": "execute_result"
    }
   ],
   "source": [
    "', '.join(['birth', 'control', 'use', 'get', 'would', 'got', 'http', 'https', 'like', 'also', 'ever', 'however', 'haven', 'really', 'dont', 'ive'])"
   ]
  },
  {
   "cell_type": "code",
   "execution_count": 89,
   "metadata": {},
   "outputs": [
    {
     "name": "stdout",
     "output_type": "stream",
     "text": [
      "\n",
      "reddit\n",
      "\n",
      "['pregnancy', 'test', 'pregnant', 'negative', 'period', 'tests', 'symptoms', 'sex', 'take', 'weeks', 'took', 'could', 'late', 'days', 'week', 'since', 'know']\n",
      "['pill', 'sex', 'day', 'took', 'last', 'days', 'period', 'take', 'week', 'taking', 'today', 'started', 'night', 'unprotected', 'morning', 'first', 'pills', 'time', 'plan']\n",
      "['condoms', 'sex', 'pregnant', 'condom', 'pregnancy', 'using', 'effective', 'boyfriend', 'method', 'used', 'pill', 'time', 'still', 'inside', 'without', 'know', 'want', 'partner']\n",
      "['www', 'antibiotics', 'pill', 'effectiveness', 'reddit', 'antibiotic', 'contraceptive', 'effective', 'taking', 'nih', 'nlm', 'make', 'ncbi', 'less']\n",
      "['infection', 'yeast', 'infections', 'iud', 'antibiotics', 'uti', 'symptoms', 'issues', 'discharge', 'could', 'vagina', 'smell', 'cause', 'tested', 'never', 'vaginal', 'thyroid', 'caused']\n",
      "['acne', 'hair', 'skin', 'loss', 'face', 'back', 'months', 'cystic', 'clear', 'pill', 'years', 'started', 'hormonal', 'mirena', 'worse', 'getting', 'taking']\n",
      "['iud', 'mirena', 'copper', 'hormonal', 'hormones', 'paragard', 'periods', 'want', 'skyla', 'years', 'iuds', 'getting', 'kyleena', 'one', 'option', 'non', 'insertion']\n",
      "['pills', 'week', 'pill', 'pack', 'placebo', 'taking', 'take', 'period', 'start', 'days', 'active', 'day', 'new', 'skip', 'next', 'first', 'break', 'month', 'protected']\n",
      "['day', 'feel', 'nausea', 'night', 'feeling', 'stomach', 'felt', 'started', 'nauseous', 'even', 'morning', 'sick', 'time', 'last', 'water', 'eat', 'hours']\n",
      "['know', 'anyone', 'thanks', 'implant', 'getting', 'want', 'advice', 'help', 'thank', 'nexplanon', 'wondering', 'going', 'anything', 'much', 'else']\n",
      "['bleeding', 'nexplanon', 'stop', 'irregular', 'months', 'implant', 'bleed', 'periods', 'pill', 'take', 'breakthrough', 'taking', 'spotting', 'normal', 'common', 'help', 'may', 'body', 'doctor']\n",
      "['insurance', 'planned', 'parenthood', 'health', 'pay', 'covered', 'parents', 'prescription', 'cost', 'free', 'cover', 'want', 'able', 'clinic', 'need', 'live', 'pharmacy']\n",
      "['weight', 'gain', 'gained', 'pounds', 'lost', 'nexplanon', 'lose', 'eating', 'diet', 'lbs', 'eat', 'since', 'NUMlbs', 'appetite', 'body', 'exercise', 'years', 'acne']\n",
      "['blood', 'bleeding', 'period', 'spotting', 'discharge', 'brown', 'normal', 'light', 'day', 'days', 'red', 'started', 'ago', 'last', 'week', 'since', 'today', 'little']\n",
      "['pain', 'cramps', 'anyone', 'else', 'cysts', 'experienced', 'back', 'mirena', 'normal', 'cramping', 'symptoms', 'right', 'ago', 'pains', 'side', 'lower', 'painful']\n",
      "['iud', 'strings', 'feel', 'cervix', 'check', 'place', 'uterus', 'felt', 'checked', 'insertion', 'inserted', 'mirena', 'time', 'ultrasound', 'sex', 'around', 'still', 'sure']\n",
      "['side', 'effects', 'effect', 'nexplanon', 'implant', 'experience', 'mood', 'pill', 'months', 'bad', 'acne', 'swings', 'experienced', 'far', 'negative', 'common']\n",
      "['feel', 'anxiety', 'mood', 'depression', 'time', 'swings', 'months', 'life', 'felt', 'better', 'feeling', 'bad', 'depressed', 'mental', 'things', 'made', 'emotional']\n",
      "['pill', 'pills', 'taking', 'hormonal', 'take', 'want', 'form', 'know', 'method', 'time', 'long', 'years', 'using', 'since']\n",
      "['cup', 'menstrual', 'iud', 'using', 'tampons', 'pads', 'size', 'boobs', 'used', 'wear', 'diva', 'tampon', 'cups', 'bigger', 'breasts', 'period', 'hours', 'suction']\n",
      "['pill', 'take', 'time', 'taking', 'day', 'every', 'hours', 'pills', 'mini', 'one', 'hour', 'combo', 'late', 'took', 'missed', 'fine', 'within', 'taken', 'window']\n",
      "['pill', 'estrogen', 'dose', 'pills', 'progestin', 'low', 'different', 'hormones', 'hormone', 'progesterone', 'lower', 'levels', 'higher', 'mini', 'one', 'dosage', 'effects', 'estradiol', 'levonorgestrel']\n",
      "['doctor', 'said', 'told', 'appointment', 'went', 'back', 'didn', 'could', 'time', 'one', 'asked', 'going', 'wanted', 'see', 'called', 'nurse', 'another']\n",
      "['pill', 'taking', 'tri', 'switched', 'generic', 'pills', 'years', 'sprintec', 'yaz', 'ortho', 'brand', 'months', 'started', 'switch', 'NUM/NUM', 'month', 'different', 'loestrin', 'anyone']\n",
      "['pill', 'migraines', 'blood', 'risk', 'estrogen', 'clots', 'aura', 'mini', 'due', 'migraine', 'high', 'history', 'pressure', 'combo', 'take', 'clot', 'taking', 'cancer', 'progesterone', 'stroke']\n",
      "['experience', 'stories', 'people', 'experiences', 'read', 'horror', 'many', 'xNUMb', 'post', 'know', 'reading', 'positive', 'lot', 'everyone', 'women', 'share', 'good', 'hear', 'heard', 'wanted']\n",
      "['pain', 'insertion', 'iud', 'cramps', 'felt', 'took', 'cramping', 'inserted', 'bad', 'cervix', 'painful', 'day', 'ibuprofen', 'feel', 'procedure', 'didn', 'minutes']\n",
      "['period', 'days', 'since', 'month', 'started', 'week', 'weeks', 'months', 'bleeding', 'last', 'normal', 'NUMth', 'ago', 'spotting', 'anyone', 'first', 'day', 'stopped']\n",
      "['arm', 'implant', 'nexplanon', 'feel', 'insertion', 'inserted', 'little', 'skin', 'put', 'bruising', 'bandage', 'around', 'bit', 'hurt', 'pain', 'days', 'still', 'bruise']\n",
      "['nexplanon', 'implant', 'years', 'removed', 'months', 'year', 'one', 'getting', 'first', 'time', 'implanon', 'back', 'removal', 'three', 'last', 'two', 'experience']\n",
      "['effective', 'women', 'implant', 'nexplanon', 'years', 'rate', 'year', 'method', 'pregnancy', 'studies', 'methods', 'pregnant', 'typical', 'effectiveness', 'risk', 'perfect', 'study', 'iuds']\n",
      "['sex', 'drive', 'libido', 'want', 'feel', 'back', 'even', 'boyfriend', 'partner', 'pill', 'relationship', 'life', 'time', 'since', 'year', 'low', 'much', 'years']\n",
      "['ovulation', 'cycle', 'ovulate', 'fertility', 'days', 'ovulating', 'cycles', 'cervical', 'app', 'natural', 'fertile', 'sperm', 'egg', 'mucus', 'pregnancy', 'body', 'pill', 'period', 'doesn']\n",
      "['doctor', 'think', 'body', 'good', 'know', 'one', 'something', 'could', 'might', 'make', 'even', 'sure', 'try', 'say', 'doesn']\n",
      "['period', 'periods', 'months', 'days', 'first', 'spotting', 'cramps', 'month', 'bleeding', 'day', 'heavy', 'two', 'weeks', 'every', 'normal', 'light', 'week']\n",
      "\n",
      "webmd\n",
      "\n",
      "['reviews', 'read', 'reading', 'experience', 'people', 'good', 'try', 'say', 'negative', 'many', 'review', 'different', 'decided', 'women', 'give', 'happy', 'everyone', 'wanted', 'stories', 'know']\n",
      "['medication', 'pregnancy', 'preventing', 'effective', 'medications', 'caused', 'experienced', 'prevent', 'personally', 'making', 'point', 'migraines', 'estrogen', 'means', 'suffer', 'experiencing', 'high', 'job']\n",
      "['blood', 'pressure', 'high', 'yeast', 'infection', 'clots', 'infections', 'estrogen', 'hospital', 'heart', 'levels', 'low', 'severe', 'rate', 'instead', 'due', 'migraines', 'constant', 'stroke', 'uti']\n",
      "['implant', 'arm', 'nexplanon', 'shot', 'depo', 'implanon', 'removed', 'hurt', 'insertion', 'inserted', 'easy', 'didn', 'bruising', 'site', 'painless', 'sore', 'scar', 'tiny', 'process']\n",
      "['sex', 'drive', 'low', 'husband', 'zero', 'vaginal', 'acne', 'libido', 'decreased', 'lack', 'loss', 'relationship', 'even', 'makes', 'son', 'dryness', 'life', 'non', 'due', 'back']\n",
      "['take', 'love', 'little', 'everyday', 'thing', 'cant', 'didnt', 'great', 'pill', 'good', 'anything', 'remember', 'alot', 'havent', 'worry']\n",
      "['acne', 'face', 'skin', 'never', 'cystic', 'horrible', 'clear', 'even', 'break', 'breaking', 'worst', 'broke', 'chest', 'pimples', 'caused', 'chin', 'rash', 'drug']\n",
      "['periods', 'recommend', 'years', 'product', 'long', 'irregular', 'easy', 'implanon', 'regular', 'using', 'great', 'heavy', 'experience', 'worked', 'longer', 'became', 'first']\n",
      "['anxiety', 'nexplanon', 'depression', 'implant', 'began', 'removed', 'attacks', 'severe', 'panic', 'symptoms', 'ago', 'life', 'thoughts', 'please', 'friends', 'suicidal', 'anger', 'remove', 'family', 'horrific']\n",
      "['pain', 'pains', 'back', 'stomach', 'legs', 'lower', 'severe', 'chest', 'left', 'terrible', 'itching', 'head', 'migraines', 'leg', 'tried', 'pelvic', 'aches', 'lot', 'numbness', 'arms']\n",
      "['mood', 'swings', 'weight', 'depression', 'gain', 'horrible', 'headaches', 'severe', 'terrible', 'acne', 'extreme', 'bad', 'anxiety', 'experience', 'fatigue', 'experienced', 'changes', 'constant', 'noticed', 'medication']\n",
      "['years', 'year', 'almost', 'old', 'one', 'problems', 'life', 'another', 'half', 'issues', 'past', 'tried', 'believe', 'taken', 'love', 'thank', 'mine', 'new']\n",
      "['switched', 'generic', 'pharmacy', 'years', 'ortho', 'brand', 'yaz', 'taking', 'new', 'kariva', 'tri', 'name', 'switch', 'yasmin', 'pack', 'took', 'week', 'loryna', 'ocella', 'breakthrough']\n",
      "['pain', 'mirena', 'removed', 'iud', 'painful', 'cysts', 'found', 'surgery', 'uterus', 'ovarian', 'cyst', 'remove', 'two', 'caused', 'severe', 'ovaries', 'symptoms', 'find', 'removal', 'abdominal']\n",
      "['heavy', 'tampons', 'wear', 'needed', 'pads', 'pad', 'tampon', 'bleed', 'liner', 'panty', 'regular', 'money', 'non', 'products', 'need', 'liners', 'spent', 'piece', 'man']\n",
      "['pill', 'taking', 'noticed', 'acne', 'breast', 'headaches', 'first', 'month', 'breasts', 'since', 'started', 'yaz', 'little', 'far', 'cramps', 'symptoms', 'experienced', 'definitely', 'problems']\n",
      "['cannot', 'low', 'dose', 'gyn', 'device', 'case', 'friends', 'benefits', 'family', 'local', 'outweigh', 'risks', 'suggested', 'ask', 'physician', 'due', 'mentioned', 'regarding', 'talked', 'possible']\n",
      "['pain', 'insertion', 'cramping', 'iud', 'inserted', 'cramps', 'painful', 'paragard', 'day', 'felt', 'procedure', 'mirena', 'took', 'minutes', 'nothing', 'cervix', 'far', 'experience']\n",
      "['months', 'recommend', 'form', 'different', 'taking', 'method', 'best', 'anyone', 'using', 'worst', 'pills', 'extremely', 'absolutely', 'trying', 'horrible']\n",
      "['feel', 'time', 'never', 'feeling', 'made', 'much', 'back', 'getting', 'felt', 'going', 'want', 'life', 'depressed', 'body', 'crazy', 'even', 'everything']\n",
      "['months', 'period', 'days', 'periods', 'weeks', 'every', 'years', 'bleeding', 'month', 'first', 'heavy', 'since', 'spotting', 'cramps', 'light', 'last', 'day', 'cycle']\n",
      "['pregnant', 'time', 'getting', 'pregnancy', 'yet', 'gotten', 'long', 'using', 'worry', 'know', 'think', 'though', 'good', 'times', 'lot', 'sex', 'since', 'boyfriend', 'used']\n",
      "['doctor', 'never', 'said', 'bad', 'could', 'body', 'told', 'know', 'put', 'problems', 'didn', 'went', 'thought', 'getting', 'make', 'normal']\n",
      "['back', 'going', 'work', 'still', 'even', 'didn', 'started', 'know', 'thing', 'well', 'came', 'doctor', 'went', 'whole', 'problem', 'today', 'put', 'let', 'told', 'take']\n",
      "['side', 'effects', 'effect', 'headaches', 'drug', 'nausea', 'worth', 'horrible', 'affects', 'negative', 'dizziness', 'others', 'possible', 'works', 'major', 'find', 'one', 'longer', 'effective', 'whether']\n",
      "['bleeding', 'since', 'months', 'implanon', 'removed', 'getting', 'stop', 'weeks', 'put', 'year', 'bleed', 'sex', 'started', 'nexplanon', 'taken', 'stopped', 'inserted']\n",
      "['weight', 'gained', 'gain', 'pounds', 'lbs', 'lost', 'acne', 'eat', 'numlbs', 'lose', 'diet', 'eating', 'healthy', 'exercise', 'gaining', 'always', 'great', 'losing']\n",
      "['worse', 'cramps', 'bleeding', 'bad', 'super', 'random', 'though', 'times', 'point', 'blood', 'amount', 'small', 'constant', 'okay', 'iron', 'stay', 'several', 'consider', 'normal']\n",
      "['pill', 'taking', 'pills', 'started', 'take', 'stopped', 'medication', 'night', 'took', 'horrible', 'starting', 'pack', 'stomach', 'migraines', 'sleep', 'medicine', 'junel', 'recommend', 'helped']\n",
      "['pain', 'strings', 'went', 'find', 'told', 'place', 'cut', 'came', 'able', 'check', 'removal', 'feels', 'finally', 'rather', 'others', 'called', 'room', 'said', 'next', 'ultrasound']\n",
      "['mirena', 'put', 'years', 'inserted', 'child', 'iud', 'husband', 'since', 'removed', 'insertion', 'painful', 'old', 'another', 'children', 'kids', 'ago', 'want', 'nothing', 'love']\n",
      "['insurance', 'loestrin', 'pay', 'cost', 'cover', 'doesn', 'minastrin', 'covered', 'prescription', 'drug', 'microgestin', 'paid', 'price', 'one', 'company', 'money', 'see', 'monthly', 'expensive', 'bloating']\n",
      "['hair', 'loss', 'started', 'falling', 'facial', 'began', 'growing', 'fall', 'lost', 'dry', 'growth', 'head', 'trivora', 'loosing', 'grow', 'fitted', 'vision', 'shower', 'thinning', 'thyroid']\n",
      "['day', 'take', 'every', 'one', 'well', 'even', 'remember', 'time', 'full', 'nothing', 'regular', 'couldn', 'getting', 'new', 'amazing', 'may', 'without', 'lol']\n",
      "['period', 'month', 'first', 'two', 'spotting', 'week', 'one', 'months', 'time', 'weeks', 'year', 'three', 'day', 'away', 'second', 'still', 'pill', 'started']\n",
      "\n",
      "twitter\n",
      "\n",
      "['arm', 'nexplanon', 'implant', 'implanon', 'rod', 'goes', 'skin', 'today', 'put', 'back', 'inserted', 'contraceptive', 'removed', 'left', 'little', 'eye', 'hurt']\n",
      "['iud', 'pain', 'insertion', 'uterus', 'doctor', 'told', 'one', 'put', 'painful', 'cervix', 'today', 'went', 'said', 'getting']\n",
      "['iud', 'thanks', 'baby', 'day', 'today', 'reminded', 'good', 'shower', 'buy', 'birthday', 'age', 'wearing', 'wear', 'car', 'drop', 'online', 'news', 'ice', 'eat']\n",
      "['baby', 'iud', 'born', 'fingers', 'tiny', 'doctor', 'photo', 'confused', 'found', 'hard', 'puerto', 'closed', 'holding', 'laughing', 'viral', 'mother', 'hand', 'fist']\n",
      "['pill', 'contraceptive', 'male', 'men', 'scientists', 'closer', 'could', 'step', 'news', 'researchers', 'emergency', 'sex', 'new', 'sperm', 'oral', 'may', 'via', 'say']\n",
      "['nexplanon', 'implanon', 'implant', 'best', 'arm', 'depo', 'iud', 'shot', 'thing', 'life', 'one', 'anyone', 'never', 'made', 'getting', 'worst']\n",
      "['iud', 'women', 'iuds', 'contraception', 'long', 'birthcontrol', 'contraceptive', 'implant', 'implants', 'implanon', 'via', 'acting', 'video', 'contraceptives', 'colorado', 'effective', 'reversible']\n",
      "['pill', 'pregnancy', 'best', 'thing', 'put', 'mouth', 'second', 'woman', 'prevent', 'avoid', 'women', 'NUMnd', 'contraceptive', 'keep', 'lmao', 'unwanted', 'define']\n",
      "['iud', 'abortion', 'anti', 'must', 'healthcare', 'services', 'read', 'catholic', 'real', 'women', 'outlaws', 'rights', 'plan', 'groups', 'opposition', 'new', 'folks', 'science']\n",
      "['implant', 'contraceptive', 'school', 'girl', 'without', 'year', 'girls', 'old', 'given', 'daughter', 'woman', 'mother', 'pill', 'pregnant', 'teen', 'young']\n",
      "['iud', 'insurance', 'free', 'planned', 'health', 'parenthood', 'cost', 'pay', 'trump', 'covered', 'women', 'cover', 'without', 'month', 'time', 'iuds', 'care']\n",
      "['pill', 'take', 'implant', 'taking', 'time', 'lol', 'took', 'day', 'pop', 'every', 'know', 'one', 'today', 'pills', 'morning', 'forgot', 'male']\n",
      "['pill', 'male', 'bit', 'new', 'men', 'effective', 'women', 'may', 'via', 'soon', 'could', 'health', 'make', 'sex', 'finally']\n",
      "['iud', 'god', 'thank', 'bless', 'house', 'life', 'music', 'team', 'episode', 'ahead', 'woman', 'touching', 'summer', 'purple', 'energy', 'white', 'podcast', 'heart']\n",
      "['weight', 'gain', 'nexplanon', 'gained', 'implanon', 'lose', 'lost', 'loss', 'made', 'shot', 'pounds', 'iud', 'make', 'mood', 'hair', 'depo', 'swings', 'much']\n",
      "['oral', 'contraceptive', 'contraception', 'fda', 'new', 'bit', 'asked', 'pill', 'said', 'girl', 'approved', 'approves', 'drug', 'bed', 'bayer', 'news', 'first', 'story']\n",
      "['iud', 'looks', 'ied', 'sex', 'make', 'say', 'feel', 'commercial', 'love', 'sounds', 'time', 'thought', 'look', 'lol', 'hit', 'tell', 'see', 'girl']\n",
      "['contraceptive', 'risk', 'oral', 'pill', 'cancer', 'women', 'study', 'breast', 'may', 'linked', 'blood', 'pills', 'ovarian', 'risks', 'finds', 'contraception', 'health']\n",
      "['pill', 'contraceptive', 'women', 'oral', 'first', 'NUMs', 'available', 'contraception', 'water', 'female', 'family', 'men', 'free', 'world', 'health', 'sexual', 'invention', 'population']\n",
      "['implant', 'fda', 'essure', 'safety', 'review', 'warning', 'women', 'pill', 'news', 'need', 'health', 'experts', 'new', 'via', 'reoperation', 'reviewing']\n",
      "['pill', 'men', 'male', 'take', 'makes', 'sense', 'contraceptive', 'gun', 'wear', 'women', 'trust', 'pull', 'vest', 'bullets', 'guys', 'bulletproof']\n",
      "['iud', 'getting', 'nexplanon', 'today', 'appointment', 'implant', 'removed', 'implanon', 'next', 'tomorrow', 'week', 'taken', 'doctor', 'scared', 'put', 'excited', 'need', 'one']\n",
      "['pill', 'dies', 'djerassi', 'father', 'carl', 'recall', 'recalled', 'male', 'safety', 'chemist', 'human', 'considered', 'tests', 'passes', 'million']\n",
      "['iud', 'know', 'tubes', 'need', 'pregnant', 'tied', 'word', 'getting', 'german', 'things', 'sex', 'antibabypille', 'still', 'everything', 'mom', 'via', 'ovaries']\n",
      "['iud', 'nexplanon', 'period', 'periods', 'cramps', 'bad', 'made', 'hormones', 'first', 'much', 'pain', 'feel', 'acne', 'worse', 'time']\n",
      "['side', 'effects', 'pill', 'effect', 'contraceptive', 'women', 'implanon', 'many', 'blood', 'affects', 'men', 'taking', 'negative', 'clot', 'bad', 'cause', 'oral', 'caused']\n",
      "['years', 'effective', 'iud', 'rate', 'implanon', 'pregnancy', 'free', 'failure', 'year', 'less', 'lasts', 'yrs', 'per', 'hours', 'million', 'contraception', 'NUM/NUM']\n",
      "['iud', 'implanon', 'nexplanon', 'lol', 'shit', 'pregnant', 'want', 'getting', 'baby', 'fuck', 'think', 'fucking', 'girl', 'gonna', 'damn', 'know', 'even']\n",
      "['iud', 'copper', 'device', 'intrauterine', 'hormone', 'hormonal', 'mirena', 'uterus', 'hormones', 'paragard', 'iuds', 'pregnancy', 'uterine', 'estrogen', 'prevent', 'paraguard', 'non', 'may']\n",
      "['implant', 'contraceptive', 'essure', 'bayer', 'remote', 'women', 'via', 'controlled', 'sales', 'complications', 'long', 'data', 'term', 'panel', 'adds', 'criticism']\n",
      "['pill', 'iud', 'women', 'abortion', 'contraceptive', 'condoms', 'contraception', 'pregnancy', 'sex', 'woman', 'pregnant', 'want', 'oral', 'condom', 'people']\n",
      "['iud', 'nexplanon', 'one', 'know', 'people', 'good', 'think', 'body', 'different', 'want', 'hormones', 'hormonal', 'copper', 'heard', 'everyone']\n",
      "['years', 'nexplanon', 'period', 'months', 'year', 'implanon', 'implant', 'one', 'last', 'iud', 'arm', 'since', 'ago', 'month', 'weeks', 'periods']\n",
      "['contraceptive', 'pill', 'oral', 'pills', 'contraception', 'emergency', 'taking', 'take', 'combined', 'daily', 'used', 'prescribed', 'morning', 'women', 'taken']\n",
      "['iud', 'implanon', 'question', 'bit', 'post', 'anyone', 'implant', 'contraceptive', 'please', 'open', 'new', 'help', 'mirena', 'getting', 'pregnancy', 'pregnant', 'know', 'questions', 'answer']\n"
     ]
    }
   ],
   "source": [
    "for _community in top_words_df['Community'].unique():\n",
    "\n",
    "    print()\n",
    "    print(_community)\n",
    "    print()\n",
    "\n",
    "    _df = top_words_df[top_words_df['Community'] == _community]\n",
    "\n",
    "    _top_words_lists = []\n",
    "    for i, r in _df.iterrows():\n",
    "        _top_words = [w.strip().strip(\"'\") for w in r['Top Words'].strip('[').strip(']').split(',')]\n",
    "        _top_words = [w for w in _top_words if w.lower() not in ['num', 'birth', 'control', 'use', 'get', 'would', 'got', 'http', 'https', \n",
    "                                                                 'like', 'also', 'ever', 'however', 'haven', 'really', 'dont', 'ive']]\n",
    "        print(_top_words)"
   ]
  },
  {
   "cell_type": "code",
   "execution_count": null,
   "metadata": {},
   "outputs": [],
   "source": []
  }
 ],
 "metadata": {
  "interpreter": {
   "hash": "31f2aee4e71d21fbe5cf8b01ff0e069b9275f58929596ceb00d14d90e3e16cd6"
  },
  "kernelspec": {
   "display_name": "Python 3.7.9 64-bit ('python3.7env': conda)",
   "language": "python",
   "name": "python3"
  },
  "language_info": {
   "codemirror_mode": {
    "name": "ipython",
    "version": 3
   },
   "file_extension": ".py",
   "mimetype": "text/x-python",
   "name": "python",
   "nbconvert_exporter": "python",
   "pygments_lexer": "ipython3",
   "version": "3.8.9"
  },
  "orig_nbformat": 2
 },
 "nbformat": 4,
 "nbformat_minor": 2
}
