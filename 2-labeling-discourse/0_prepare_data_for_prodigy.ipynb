{
 "cells": [
  {
   "cell_type": "markdown",
   "metadata": {},
   "source": [
    "# Imports"
   ]
  },
  {
   "cell_type": "code",
   "execution_count": 7,
   "metadata": {},
   "outputs": [],
   "source": [
    "from collections import defaultdict\n",
    "from datetime import datetime\n",
    "import json\n",
    "import os\n",
    "import pickle\n",
    "import random\n",
    "\n",
    "# import jsonlines\n",
    "import pandas as pd \n",
    "\n",
    "import spacy\n",
    "# nlp = spacy.load('en_core_web_sm')"
   ]
  },
  {
   "cell_type": "markdown",
   "metadata": {},
   "source": [
    "# Directory paths"
   ]
  },
  {
   "cell_type": "code",
   "execution_count": 8,
   "metadata": {},
   "outputs": [],
   "source": [
    "# data_directory_path   = '/Volumes/Passport-1/data/birth-control'\n",
    "# output_directory_path = '/Volumes/Passport-1/output/birth-control'\n",
    "\n",
    "data_directory_path   = '/Users/maria/Documents/data/birth-control'\n",
    "output_directory_path = '/Users/maria/Documents/output/birth-control'"
   ]
  },
  {
   "cell_type": "markdown",
   "metadata": {},
   "source": [
    "# Load datasets"
   ]
  },
  {
   "cell_type": "code",
   "execution_count": 9,
   "metadata": {},
   "outputs": [],
   "source": [
    "reddit_posts_df = pd.read_csv(data_directory_path + '/final-data/reddit_posts.csv')\n",
    "reddit_comments_df = pd.read_csv(data_directory_path + '/final-data/reddit_comments.csv')\n",
    "webmd_df = pd.read_csv(data_directory_path + '/final-data/webmd.csv')\n",
    "twitter_posts_df = pd.read_csv(data_directory_path + '/final-data/twitter_posts.csv')\n",
    "twitter_replies_df = pd.read_csv(data_directory_path + '/final-data/twitter_replies.csv')\n",
    "\n",
    "dataframes = [reddit_posts_df, reddit_comments_df, twitter_posts_df, twitter_replies_df, webmd_df]"
   ]
  },
  {
   "cell_type": "code",
   "execution_count": 10,
   "metadata": {},
   "outputs": [
    {
     "data": {
      "text/plain": [
       "1063672"
      ]
     },
     "execution_count": 10,
     "metadata": {},
     "output_type": "execute_result"
    }
   ],
   "source": [
    "combined_df = pd.concat(dataframes)\n",
    "len(combined_df)"
   ]
  },
  {
   "cell_type": "code",
   "execution_count": 11,
   "metadata": {},
   "outputs": [
    {
     "data": {
      "text/plain": [
       "twitter-posts      499796\n",
       "reddit-comments    264912\n",
       "twitter-replies    211896\n",
       "reddit-posts        68958\n",
       "webmd-reviews       18110\n",
       "Name: source, dtype: int64"
      ]
     },
     "execution_count": 11,
     "metadata": {},
     "output_type": "execute_result"
    }
   ],
   "source": [
    "combined_df['source'].value_counts()"
   ]
  },
  {
   "cell_type": "code",
   "execution_count": 12,
   "metadata": {},
   "outputs": [
    {
     "data": {
      "text/html": [
       "<div>\n",
       "<style scoped>\n",
       "    .dataframe tbody tr th:only-of-type {\n",
       "        vertical-align: middle;\n",
       "    }\n",
       "\n",
       "    .dataframe tbody tr th {\n",
       "        vertical-align: top;\n",
       "    }\n",
       "\n",
       "    .dataframe thead th {\n",
       "        text-align: right;\n",
       "    }\n",
       "</style>\n",
       "<table border=\"1\" class=\"dataframe\">\n",
       "  <thead>\n",
       "    <tr style=\"text-align: right;\">\n",
       "      <th></th>\n",
       "      <th>Unnamed: 0</th>\n",
       "      <th>id</th>\n",
       "      <th>created_utc</th>\n",
       "      <th>text</th>\n",
       "      <th>title</th>\n",
       "      <th>year</th>\n",
       "      <th>month</th>\n",
       "      <th>url</th>\n",
       "      <th>link_flair_text</th>\n",
       "      <th>tokens_text</th>\n",
       "      <th>...</th>\n",
       "      <th>date</th>\n",
       "      <th>conversation_id</th>\n",
       "      <th>retweet_count</th>\n",
       "      <th>reply_count</th>\n",
       "      <th>like_count</th>\n",
       "      <th>quote_count</th>\n",
       "      <th>num_tokens</th>\n",
       "      <th>Unnamed: 0.1</th>\n",
       "      <th>Unnamed: 0.1.1</th>\n",
       "      <th>name</th>\n",
       "    </tr>\n",
       "  </thead>\n",
       "  <tbody>\n",
       "    <tr>\n",
       "      <th>161105</th>\n",
       "      <td>209644</td>\n",
       "      <td>1040284630857990144</td>\n",
       "      <td>NaN</td>\n",
       "      <td>girl I got that nexplanon thing im good for 3...</td>\n",
       "      <td>NaN</td>\n",
       "      <td>2018</td>\n",
       "      <td>9.0</td>\n",
       "      <td>NaN</td>\n",
       "      <td>NaN</td>\n",
       "      <td>girl got nexplanon thing good NUMyrs lol</td>\n",
       "      <td>...</td>\n",
       "      <td>2018-09-13T17:02:38.000Z</td>\n",
       "      <td>1.040284e+18</td>\n",
       "      <td>0.0</td>\n",
       "      <td>1.0</td>\n",
       "      <td>0.0</td>\n",
       "      <td>0.0</td>\n",
       "      <td>7.0</td>\n",
       "      <td>NaN</td>\n",
       "      <td>NaN</td>\n",
       "      <td>NaN</td>\n",
       "    </tr>\n",
       "    <tr>\n",
       "      <th>339264</th>\n",
       "      <td>424149</td>\n",
       "      <td>537776188643487744</td>\n",
       "      <td>NaN</td>\n",
       "      <td>Contraceptive Pill Associated With Changes In ...</td>\n",
       "      <td>NaN</td>\n",
       "      <td>2014</td>\n",
       "      <td>11.0</td>\n",
       "      <td>NaN</td>\n",
       "      <td>NaN</td>\n",
       "      <td>contraceptive pill associated changes brain st...</td>\n",
       "      <td>...</td>\n",
       "      <td>2014-11-27T01:13:29.000Z</td>\n",
       "      <td>5.377762e+17</td>\n",
       "      <td>0.0</td>\n",
       "      <td>0.0</td>\n",
       "      <td>0.0</td>\n",
       "      <td>0.0</td>\n",
       "      <td>10.0</td>\n",
       "      <td>NaN</td>\n",
       "      <td>NaN</td>\n",
       "      <td>NaN</td>\n",
       "    </tr>\n",
       "    <tr>\n",
       "      <th>46566</th>\n",
       "      <td>228</td>\n",
       "      <td>d9bqwhs</td>\n",
       "      <td>1.477678e+09</td>\n",
       "      <td>I read something like it can be an indicator f...</td>\n",
       "      <td>NaN</td>\n",
       "      <td>2016</td>\n",
       "      <td>10.0</td>\n",
       "      <td>NaN</td>\n",
       "      <td>NaN</td>\n",
       "      <td>read something like indicator osteoporosis sta...</td>\n",
       "      <td>...</td>\n",
       "      <td>NaN</td>\n",
       "      <td>NaN</td>\n",
       "      <td>NaN</td>\n",
       "      <td>NaN</td>\n",
       "      <td>NaN</td>\n",
       "      <td>NaN</td>\n",
       "      <td>NaN</td>\n",
       "      <td>NaN</td>\n",
       "      <td>NaN</td>\n",
       "      <td>NaN</td>\n",
       "    </tr>\n",
       "  </tbody>\n",
       "</table>\n",
       "<p>3 rows × 23 columns</p>\n",
       "</div>"
      ],
      "text/plain": [
       "        Unnamed: 0                   id   created_utc  \\\n",
       "161105      209644  1040284630857990144           NaN   \n",
       "339264      424149   537776188643487744           NaN   \n",
       "46566          228              d9bqwhs  1.477678e+09   \n",
       "\n",
       "                                                     text title  year  month  \\\n",
       "161105   girl I got that nexplanon thing im good for 3...   NaN  2018    9.0   \n",
       "339264  Contraceptive Pill Associated With Changes In ...   NaN  2014   11.0   \n",
       "46566   I read something like it can be an indicator f...   NaN  2016   10.0   \n",
       "\n",
       "        url link_flair_text  \\\n",
       "161105  NaN             NaN   \n",
       "339264  NaN             NaN   \n",
       "46566   NaN             NaN   \n",
       "\n",
       "                                              tokens_text  ...  \\\n",
       "161105           girl got nexplanon thing good NUMyrs lol  ...   \n",
       "339264  contraceptive pill associated changes brain st...  ...   \n",
       "46566   read something like indicator osteoporosis sta...  ...   \n",
       "\n",
       "                            date conversation_id retweet_count reply_count  \\\n",
       "161105  2018-09-13T17:02:38.000Z    1.040284e+18           0.0         1.0   \n",
       "339264  2014-11-27T01:13:29.000Z    5.377762e+17           0.0         0.0   \n",
       "46566                        NaN             NaN           NaN         NaN   \n",
       "\n",
       "        like_count  quote_count  num_tokens  Unnamed: 0.1  Unnamed: 0.1.1  \\\n",
       "161105         0.0          0.0         7.0           NaN             NaN   \n",
       "339264         0.0          0.0        10.0           NaN             NaN   \n",
       "46566          NaN          NaN         NaN           NaN             NaN   \n",
       "\n",
       "        name  \n",
       "161105   NaN  \n",
       "339264   NaN  \n",
       "46566    NaN  \n",
       "\n",
       "[3 rows x 23 columns]"
      ]
     },
     "execution_count": 12,
     "metadata": {},
     "output_type": "execute_result"
    }
   ],
   "source": [
    "combined_df.sample(3)"
   ]
  },
  {
   "cell_type": "code",
   "execution_count": 14,
   "metadata": {},
   "outputs": [
    {
     "name": "stdout",
     "output_type": "stream",
     "text": [
      "Hi all, I've been on the 35mg Cilique combined pill for 3 years. Today I went to the doctors to renew my prescription. She told me there are new guidelines which have been recommended to avoid pregnancy as the 7 day break increases your risk of pregnancy. So I should only take a 4 day break. She also said 35mg is a lot of hormones so she wants to put me on the 20mg pill instead. She told me I have 2 options: 1. Take the pill back to back for 3 months then take a 4 day break. 2. Take the pill forever until I get breakthrough bleeding then take a 4 day break. I am planning to do option 1 as I prefer to be prepared for bleeding. However, I was wondering what's the reasoning behind this or if anyone has experience with this? As I was perfectly happy with my last prescription.\n",
      "\n",
      "I've run out of my health insurance and am planning to go to Planned Parenthood so I can take birth control. I've tried a few different birth control pills and have been close to giving up on them all together. I tried Junel FE but that made me depressed and moody, and I've tried reclipsen/enskyce and that was great but I had vaginal dryness and felt bloated. I'm willing to try another pill and when I go to Planned Parenthood I'd like to ask if they offer a lower estrogen dose pill. Has anyone been through Planned Parenthood to receive their birth control pills? I'm wondering what the experience is like; like if they have different pill options, the cost, etc...?\n",
      "\n",
      "I’ve been taking the pill for about 3-4 years now. I’ve recently switched brands and have horrible anxiety, mental breakdowns, and crying episodes. I’ve never experienced anything like this till switching to the new brand. Has anybody experienced this before? I was on Lupin birth control i’m not sure what the new brand is.\n",
      "\n",
      "Ive been on this pill on and off for a couple of months now, i just started having sharp pains in my uterus when i 💩. i just recently started taking it after being off for 3 months... it’s been making me feel depressed n super emotional. I can’t go back to my docs office and get another prescription, my insurance only covers the medication but not the visit, so idk what to do. i can’t 💩 💩 💩❗️without having super sharp pains 😓\n",
      "\n",
      "21 F Not looking for advice, just wanting to hear people’s experiences! Particularly after getting the Mirena removed. I am thinking of getting mine taken out and staying away from hormonal birth control for at least 6 months (just using condoms and hoping I don’t fall pregnant). **** you can skip this part if you like *** This has been my experience with getting the Mirena (trigger warning - mental health/depression): Before I got my IUD I was on the pill for about 5 years. I’ve now had my Mirena IUD for about 1.5 years and feel like the whole time it hasn’t agreed with me. For the months following insertion I was bleeding a lot, like I was getting two periods a month and spotting between. After a few months the bleeding settled and now I get a semi-regular periods (cycle length fluctuates from 20-30 days) but still lots of spotting. I saw my gyno about 8months after insertion about the spotting (and other issues described below) and she put me on a very low dose pill for 1 cycle and now I don’t get spotting, just the same semi-regular cycle. I get random excruciating pain and this has been ongoing since getting the Mirena. It honestly feels like I’m being stabbed. I saw my gyno at about 8 months after insertion and she sent me for an ultrasound. The Mirena is in the correct location and hasn’t moved. They found multiple cysts/follicles on my ovaries. She sent me for a blood test to check if I have PCOS - hormone levels came back as normal so they ruled out PCOS. I have a feeling that the random pain could be cysts rupturing but not sure, there doesn’t seem to be any patterns (sometimes I get it multiple times a week, other times it’s once every few weeks, doesn’t seem to matter about my stage in my cycle). The pain is so bad that it makes me cry, and lasts about 5-20 minutes. My mental health has also declined while on the Mirena. I actually started seeing psychologists and having suicidal thoughts about 6 months ago - I’m not feeling suicidal any more but still feels like I have a cloud hanging over me. It’s a weird feeling, but I always feel... heavy I guess? Like I only have two moods - “fine” or “sad”. I don’t feel particularly happy/excited/good and when I do it lasts like a few seconds and then back to “normal”. I also have almost no libido. Before the Mirena I had a fairly high sex drive, probably TMI but I’d get horny at least 2-5 times a week depending on my cycles etc. But now, I feel like I don’t get horny at all, maybe once a week or less. Even when I’m having sex with my partner I don’t feel the pleasure as much, like my pleasure/orgasms are dulled or something? Other issues I’ve noticed but not sure if they are related to the Mirena - acne, bloating, weight gain. **** I feel like I need to get the IUD removed and stay off hormonal birth control for a while to see if things improve. It feels like it’s affecting my happiness, relationships with my partner/family/friends, etc. However I’m also worried I’ll fall pregnant, I’m planning on using condoms as contraception but I know these are not as reliable as the IUD. Has anyone else done this? What was your experience? I’m not expecting anyone to read this far but if you have, thank you and please share any information you have about the Mirena!\n",
      "\n"
     ]
    }
   ],
   "source": [
    "for i, r in combined_df[combined_df['source'] == 'reddit-posts'].sample(5).iterrows():\n",
    "    print(' '.join(r['text'].split()))\n",
    "    print()"
   ]
  },
  {
   "cell_type": "markdown",
   "metadata": {},
   "source": [
    "# Sample data\n",
    "\n",
    "- same number of texts per source\n",
    "- same number of texts per method\n",
    "- same number of sentences per text"
   ]
  },
  {
   "cell_type": "code",
   "execution_count": 8,
   "metadata": {},
   "outputs": [],
   "source": [
    "sampled_dataframes = []\n",
    "for _df in dataframes:\n",
    "    sampled_dataframes.append(_df.groupby('text_type').sample(n=400, random_state=1))\n",
    "    \n",
    "sampled_df = pd.concat(sampled_dataframes)"
   ]
  },
  {
   "cell_type": "code",
   "execution_count": 9,
   "metadata": {},
   "outputs": [
    {
     "data": {
      "text/plain": [
       "reddit-posts       1200\n",
       "reddit-comments    1200\n",
       "twitter-posts      1200\n",
       "twitter-replies    1200\n",
       "webmd-reviews      1200\n",
       "Name: source, dtype: int64"
      ]
     },
     "execution_count": 9,
     "metadata": {},
     "output_type": "execute_result"
    }
   ],
   "source": [
    "sampled_df['source'].value_counts()"
   ]
  },
  {
   "cell_type": "code",
   "execution_count": 10,
   "metadata": {},
   "outputs": [
    {
     "data": {
      "text/plain": [
       "implant    2000\n",
       "iud        2000\n",
       "pill       2000\n",
       "Name: text_type, dtype: int64"
      ]
     },
     "execution_count": 10,
     "metadata": {},
     "output_type": "execute_result"
    }
   ],
   "source": [
    "sampled_df['text_type'].value_counts()"
   ]
  },
  {
   "cell_type": "markdown",
   "metadata": {},
   "source": [
    "# Prepare for Prodigy"
   ]
  },
  {
   "cell_type": "code",
   "execution_count": 11,
   "metadata": {},
   "outputs": [],
   "source": [
    "def get_data_dicts(df):\n",
    "    data_dicts = []\n",
    "    for i, r in df.iterrows():\n",
    "\n",
    "        _full_text = r['text']\n",
    "        _sentences = [s.text.strip() for s in nlp(r['text']).sents]\n",
    "\n",
    "        if 'title' in r and not pd.isnull(r['title']):\n",
    "            _sentences += [s.text for s in nlp(r['title']).sents]\n",
    "            _full_text = '[TITLE: ' + r['title'].strip() + '] \\n\\n' + r['text']\n",
    "\n",
    "        _sentences = [s for s in _sentences if len(s.split()) >= 3]\n",
    "\n",
    "        if len(_sentences) >= 1:\n",
    "            for _sentence in random.sample(_sentences, 1):\n",
    "                data_dicts.append({'text': _sentence,\n",
    "                                   'meta': {'ID': r['id'],\n",
    "                                            'Source': r['source'],\n",
    "                                            'Method': r['text_type'],\n",
    "                                            'Full Text': _full_text}})\n",
    "    return data_dicts"
   ]
  },
  {
   "cell_type": "code",
   "execution_count": 13,
   "metadata": {},
   "outputs": [
    {
     "name": "stdout",
     "output_type": "stream",
     "text": [
      "reddit-posts\n"
     ]
    }
   ],
   "source": [
    "for _source in sampled_df['source'].unique():\n",
    "    print(_source)\n",
    "    _data_dicts = get_data_dicts(sampled_df[sampled_df['source'] == _source])\n",
    "    random.shuffle(_data_dicts)\n",
    "    with jsonlines.open(data_directory_path + '/labeling/label-discourse/sampled-sentences.prodigy.' + _source + '.jsonl', 'w') as writer:\n",
    "        writer.write_all(_data_dicts)"
   ]
  },
  {
   "cell_type": "markdown",
   "metadata": {},
   "source": [
    "# Repeat to create test data"
   ]
  },
  {
   "cell_type": "code",
   "execution_count": null,
   "metadata": {},
   "outputs": [
    {
     "name": "stdout",
     "output_type": "stream",
     "text": [
      "pill       36921\n",
      "iud        24657\n",
      "implant     7380\n",
      "Name: text_type, dtype: int64\n",
      "iud        117631\n",
      "pill       117283\n",
      "implant     29998\n",
      "Name: text_type, dtype: int64\n",
      "pill       226762\n",
      "iud        217728\n",
      "implant     55306\n",
      "Name: text_type, dtype: int64\n",
      "iud        147680\n",
      "pill        39039\n",
      "implant     25177\n",
      "Name: text_type, dtype: int64\n",
      "pill       14873\n",
      "iud         2354\n",
      "implant      883\n",
      "Name: text_type, dtype: int64\n"
     ]
    }
   ],
   "source": [
    "for _df in dataframes:\n",
    "    print(_df['text_type'].value_counts())"
   ]
  },
  {
   "cell_type": "code",
   "execution_count": null,
   "metadata": {},
   "outputs": [],
   "source": [
    "sampled_dataframes = []\n",
    "for _df in dataframes:\n",
    "    sampled_dataframes.append(_df.groupby('text_type').sample(n=800, random_state=1))\n",
    "    \n",
    "sampled_df = pd.concat(sampled_dataframes)"
   ]
  },
  {
   "cell_type": "code",
   "execution_count": null,
   "metadata": {},
   "outputs": [
    {
     "data": {
      "text/plain": [
       "reddit-posts       2400\n",
       "reddit-comments    2400\n",
       "twitter-posts      2400\n",
       "twitter-replies    2400\n",
       "webmd-reviews      2400\n",
       "Name: source, dtype: int64"
      ]
     },
     "execution_count": 25,
     "metadata": {},
     "output_type": "execute_result"
    }
   ],
   "source": [
    "sampled_df['source'].value_counts()"
   ]
  },
  {
   "cell_type": "code",
   "execution_count": null,
   "metadata": {},
   "outputs": [
    {
     "name": "stdout",
     "output_type": "stream",
     "text": [
      "reddit-posts\n",
      "reddit-comments\n",
      "twitter-posts\n",
      "twitter-replies\n",
      "webmd-reviews\n"
     ]
    }
   ],
   "source": [
    "test_dicts = []\n",
    "for _source in sampled_df['source'].unique():\n",
    "    print(_source)\n",
    "    test_dicts += get_data_dicts(sampled_df[sampled_df['source'] == _source])\n",
    "test_df = pd.DataFrame(test_dicts)"
   ]
  },
  {
   "cell_type": "code",
   "execution_count": null,
   "metadata": {},
   "outputs": [
    {
     "data": {
      "text/plain": [
       "11993"
      ]
     },
     "execution_count": 27,
     "metadata": {},
     "output_type": "execute_result"
    }
   ],
   "source": [
    "len(test_df.index)"
   ]
  },
  {
   "cell_type": "code",
   "execution_count": null,
   "metadata": {},
   "outputs": [],
   "source": [
    "test_df.to_csv(data_directory_path + '/labeling/label-discourse/sampled-sentences.test.csv')"
   ]
  },
  {
   "cell_type": "code",
   "execution_count": null,
   "metadata": {},
   "outputs": [],
   "source": []
  }
 ],
 "metadata": {
  "kernelspec": {
   "display_name": "Python 3.8.12 ('prodigyEnv')",
   "language": "python",
   "name": "python3"
  },
  "language_info": {
   "codemirror_mode": {
    "name": "ipython",
    "version": 3
   },
   "file_extension": ".py",
   "mimetype": "text/x-python",
   "name": "python",
   "nbconvert_exporter": "python",
   "pygments_lexer": "ipython3",
   "version": "3.8.12 (default, Oct 12 2021, 06:23:56) \n[Clang 10.0.0 ]"
  },
  "orig_nbformat": 4,
  "vscode": {
   "interpreter": {
    "hash": "6057ff503712b9d8589e95303374a5e0505a3b171f577536b68d8760b171ae5c"
   }
  }
 },
 "nbformat": 4,
 "nbformat_minor": 2
}
