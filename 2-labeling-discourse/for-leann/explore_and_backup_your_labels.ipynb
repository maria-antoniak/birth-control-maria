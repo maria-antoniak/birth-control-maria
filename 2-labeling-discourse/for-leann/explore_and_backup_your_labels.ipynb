{
 "cells": [
  {
   "cell_type": "markdown",
   "metadata": {},
   "source": [
    "# Instructions\n",
    "\n",
    "Make sure you are using a Python environment that has Prodigy installed. You'll need a wheel file from Maria.\n",
    "\n",
    "Instructions: https://prodi.gy/docs/install"
   ]
  },
  {
   "cell_type": "markdown",
   "metadata": {},
   "source": [
    "<br><br>\n",
    "\n",
    "# Imports"
   ]
  },
  {
   "cell_type": "code",
   "execution_count": 2,
   "metadata": {},
   "outputs": [],
   "source": [
    "from collections import defaultdict\n",
    "import random\n",
    "\n",
    "import pandas as pd\n",
    "from prodigy.components.db import connect\n",
    "\n",
    "%matplotlib inline\n",
    "import matplotlib.pyplot as plt\n",
    "import seaborn as sns\n",
    "sns.set(style='ticks', font_scale=1.2)"
   ]
  },
  {
   "cell_type": "code",
   "execution_count": 3,
   "metadata": {},
   "outputs": [],
   "source": [
    "def sort_by_mean(df, by, column, rot=0):\n",
    "    # use dict comprehension to create new dataframe from the iterable groupby object\n",
    "    # each group name becomes a column in the new dataframe\n",
    "    df2 = pd.DataFrame({col:vals[column] for col, vals in df.groupby(by)})\n",
    "    # find and sort the median values in this new dataframe\n",
    "    means = df2.mean().sort_values()\n",
    "    # use the columns in the dataframe, ordered sorted by median value\n",
    "    # return axes so changes can be made outside the function\n",
    "#     return df2[meds.index].boxplot(rot=rot, return_type=\"axes\")\n",
    "    return means"
   ]
  },
  {
   "cell_type": "markdown",
   "metadata": {},
   "source": [
    "<br><br>\n",
    "\n",
    "# Connect to database"
   ]
  },
  {
   "cell_type": "code",
   "execution_count": 4,
   "metadata": {},
   "outputs": [
    {
     "data": {
      "text/plain": [
       "['bc-reddit-posts',\n",
       " 'bc-reddit-comments',\n",
       " 'bc-twitter-posts',\n",
       " 'bc-twitter-replies',\n",
       " 'discourse-webmd-reviews',\n",
       " 'discourse-twitter-replies',\n",
       " 'discourse-reddit-posts',\n",
       " 'discourse-twitter-posts',\n",
       " 'discourse-reddit-comments']"
      ]
     },
     "execution_count": 4,
     "metadata": {},
     "output_type": "execute_result"
    }
   ],
   "source": [
    "db = connect()\n",
    "\n",
    "db.datasets # This will list all of your prodigy databases"
   ]
  },
  {
   "cell_type": "code",
   "execution_count": null,
   "metadata": {},
   "outputs": [],
   "source": [
    "# CAUTION: Only do this if you want to delete all your annotations!!!!!!!!!!!\n",
    "# db.drop_dataset('dataset_name_here')  "
   ]
  },
  {
   "cell_type": "markdown",
   "metadata": {},
   "source": [
    "<br><br>\n",
    "\n",
    "# Explore REDDIT comments"
   ]
  },
  {
   "cell_type": "code",
   "execution_count": 5,
   "metadata": {},
   "outputs": [
    {
     "name": "stdout",
     "output_type": "stream",
     "text": [
      "0\n"
     ]
    }
   ],
   "source": [
    "examples = db.get_dataset('discourse-reddit-comments')\n",
    "\n",
    "print(len(examples))"
   ]
  },
  {
   "cell_type": "code",
   "execution_count": 6,
   "metadata": {},
   "outputs": [
    {
     "name": "stdout",
     "output_type": "stream",
     "text": [
      "------------------------------------------------------\n",
      "total number of posts labeled\n",
      "------------------------------------------------------\n",
      "\n"
     ]
    }
   ],
   "source": [
    "label_count_dict = defaultdict(int)\n",
    "method_label_count_dict = defaultdict(lambda: defaultdict(int))\n",
    "label_texts_dict = defaultdict(list)\n",
    "for e in examples:\n",
    "    for _label in e['accept']:\n",
    "        label_count_dict[_label] += 1\n",
    "        method_label_count_dict[e['meta']['Method']][_label] += 1\n",
    "        label_texts_dict[_label].append(e['text'])\n",
    "    if len(e['accept']) < 1:\n",
    "        label_count_dict['NONE'] += 1\n",
    "        label_texts_dict['NONE'].append(e['text'])\n",
    "\n",
    "print('------------------------------------------------------')\n",
    "print('total number of posts labeled')\n",
    "print('------------------------------------------------------')\n",
    "print()\n",
    "for _label, _count in sorted(label_count_dict.items(), key=lambda x: x[1], reverse=True):\n",
    "    print(_count, '\\t', _label)"
   ]
  },
  {
   "cell_type": "code",
   "execution_count": 7,
   "metadata": {},
   "outputs": [],
   "source": [
    "for _method, _label_count_dict in method_label_count_dict.items():\n",
    "    print('--------------------------------')\n",
    "    print(_method)\n",
    "    print('--------------------------------')\n",
    "    for _label, _count in sorted(_label_count_dict.items(), key=lambda x: x[1], reverse=True):\n",
    "        print(_count, '\\t', _label)\n",
    "    print()"
   ]
  },
  {
   "cell_type": "code",
   "execution_count": 8,
   "metadata": {},
   "outputs": [
    {
     "name": "stdout",
     "output_type": "stream",
     "text": [
      "------------------------------\n",
      "percent of posts with label\n",
      "------------------------------\n",
      "\n"
     ]
    }
   ],
   "source": [
    "label_percent_dict = {_label: _count/float(len(examples)) for _label, _count in label_count_dict.items()}\n",
    "\n",
    "print('------------------------------')\n",
    "print('percent of posts with label')\n",
    "print('------------------------------')\n",
    "print()\n",
    "for _label, _percent in sorted(label_percent_dict.items(), key=lambda x: x[1], reverse=True):\n",
    "    print(str(round(_percent*100, 1)) + '%', '\\t', _label)"
   ]
  },
  {
   "cell_type": "code",
   "execution_count": 9,
   "metadata": {},
   "outputs": [],
   "source": [
    "for _label, _texts in label_texts_dict.items():\n",
    "    if _label == 'providing personal experiences':\n",
    "        print('------------------------------------------')\n",
    "        print(_label)\n",
    "        print('------------------------------------------')\n",
    "        print()\n",
    "        for e in _texts:\n",
    "            print(' '.join(e.split()))"
   ]
  },
  {
   "cell_type": "markdown",
   "metadata": {},
   "source": [
    "<br><br>\n",
    "\n",
    "# Explore REDDIT posts"
   ]
  },
  {
   "cell_type": "code",
   "execution_count": 10,
   "metadata": {},
   "outputs": [
    {
     "name": "stdout",
     "output_type": "stream",
     "text": [
      "104\n"
     ]
    }
   ],
   "source": [
    "examples = db.get_dataset('discourse-reddit-posts')\n",
    "\n",
    "print(len(examples))"
   ]
  },
  {
   "cell_type": "code",
   "execution_count": 11,
   "metadata": {},
   "outputs": [
    {
     "name": "stdout",
     "output_type": "stream",
     "text": [
      "------------------------------------------------------\n",
      "total number of posts labeled\n",
      "------------------------------------------------------\n",
      "\n",
      "37 \t SHARING EXPERIENCES\n",
      "15 \t NONE\n",
      "14 \t SEEKING INFORMATION\n",
      "12 \t SHARING CAUSAL REASONING / HYPOTHESIZING\n",
      "11 \t SHARING FUTURE PLANS\n",
      "8 \t SHARING/DESCRIBING ADDITIONAL RESEARCH\n",
      "7 \t SHARING NEGATIVE EMOTIONS\n",
      "7 \t SHARING OPINIONS AND PREFERENCES\n",
      "6 \t SHARING PERSONAL BACKGROUND\n",
      "5 \t SEEKING EXPERIENCES\n",
      "2 \t SEEKING ADVICE\n",
      "2 \t SEEKING NORMALITY\n",
      "1 \t SHARING ADVICE\n",
      "1 \t SHARING INFORMATION\n",
      "1 \t META DISCUSSION\n",
      "1 \t SEEKING EMOTIONAL SUPPORT\n",
      "1 \t SHARING NORMALITY\n",
      "1 \t SHARING POSITIVE EMOTIONS\n"
     ]
    }
   ],
   "source": [
    "label_count_dict = defaultdict(int)\n",
    "method_label_count_dict = defaultdict(lambda: defaultdict(int))\n",
    "label_texts_dict = defaultdict(list)\n",
    "for e in examples:\n",
    "    for _label in e['accept']:\n",
    "        label_count_dict[_label] += 1\n",
    "        method_label_count_dict[e['meta']['Method']][_label] += 1\n",
    "        label_texts_dict[_label].append(e['text'])\n",
    "    if len(e['accept']) < 1:\n",
    "        label_count_dict['NONE'] += 1\n",
    "        label_texts_dict['NONE'].append(e['text'])\n",
    "\n",
    "print('------------------------------------------------------')\n",
    "print('total number of posts labeled')\n",
    "print('------------------------------------------------------')\n",
    "print()\n",
    "for _label, _count in sorted(label_count_dict.items(), key=lambda x: x[1], reverse=True):\n",
    "    print(_count, '\\t', _label)"
   ]
  },
  {
   "cell_type": "code",
   "execution_count": 12,
   "metadata": {},
   "outputs": [
    {
     "name": "stdout",
     "output_type": "stream",
     "text": [
      "--------------------------------\n",
      "pill\n",
      "--------------------------------\n",
      "12 \t SHARING EXPERIENCES\n",
      "6 \t SHARING CAUSAL REASONING / HYPOTHESIZING\n",
      "4 \t SHARING PERSONAL BACKGROUND\n",
      "4 \t SEEKING INFORMATION\n",
      "3 \t SHARING FUTURE PLANS\n",
      "2 \t SHARING OPINIONS AND PREFERENCES\n",
      "2 \t SHARING NEGATIVE EMOTIONS\n",
      "1 \t SHARING ADVICE\n",
      "1 \t SHARING INFORMATION\n",
      "1 \t SEEKING EXPERIENCES\n",
      "1 \t SEEKING EMOTIONAL SUPPORT\n",
      "1 \t SEEKING NORMALITY\n",
      "1 \t SHARING NORMALITY\n",
      "\n",
      "--------------------------------\n",
      "iud\n",
      "--------------------------------\n",
      "12 \t SHARING EXPERIENCES\n",
      "7 \t SHARING/DESCRIBING ADDITIONAL RESEARCH\n",
      "5 \t SHARING FUTURE PLANS\n",
      "4 \t SEEKING EXPERIENCES\n",
      "4 \t SEEKING INFORMATION\n",
      "3 \t SHARING CAUSAL REASONING / HYPOTHESIZING\n",
      "2 \t SHARING PERSONAL BACKGROUND\n",
      "2 \t SEEKING ADVICE\n",
      "1 \t SHARING NEGATIVE EMOTIONS\n",
      "1 \t META DISCUSSION\n",
      "1 \t SHARING POSITIVE EMOTIONS\n",
      "\n",
      "--------------------------------\n",
      "implant\n",
      "--------------------------------\n",
      "13 \t SHARING EXPERIENCES\n",
      "6 \t SEEKING INFORMATION\n",
      "5 \t SHARING OPINIONS AND PREFERENCES\n",
      "4 \t SHARING NEGATIVE EMOTIONS\n",
      "3 \t SHARING FUTURE PLANS\n",
      "3 \t SHARING CAUSAL REASONING / HYPOTHESIZING\n",
      "1 \t SHARING/DESCRIBING ADDITIONAL RESEARCH\n",
      "1 \t SEEKING NORMALITY\n",
      "\n"
     ]
    }
   ],
   "source": [
    "for _method, _label_count_dict in method_label_count_dict.items():\n",
    "    print('--------------------------------')\n",
    "    print(_method)\n",
    "    print('--------------------------------')\n",
    "    for _label, _count in sorted(_label_count_dict.items(), key=lambda x: x[1], reverse=True):\n",
    "        print(_count, '\\t', _label)\n",
    "    print()"
   ]
  },
  {
   "cell_type": "code",
   "execution_count": 13,
   "metadata": {},
   "outputs": [
    {
     "name": "stdout",
     "output_type": "stream",
     "text": [
      "------------------------------\n",
      "percent of posts with label\n",
      "------------------------------\n",
      "\n",
      "35.6% \t SHARING EXPERIENCES\n",
      "14.4% \t NONE\n",
      "13.5% \t SEEKING INFORMATION\n",
      "11.5% \t SHARING CAUSAL REASONING / HYPOTHESIZING\n",
      "10.6% \t SHARING FUTURE PLANS\n",
      "7.7% \t SHARING/DESCRIBING ADDITIONAL RESEARCH\n",
      "6.7% \t SHARING NEGATIVE EMOTIONS\n",
      "6.7% \t SHARING OPINIONS AND PREFERENCES\n",
      "5.8% \t SHARING PERSONAL BACKGROUND\n",
      "4.8% \t SEEKING EXPERIENCES\n",
      "1.9% \t SEEKING ADVICE\n",
      "1.9% \t SEEKING NORMALITY\n",
      "1.0% \t SHARING ADVICE\n",
      "1.0% \t SHARING INFORMATION\n",
      "1.0% \t META DISCUSSION\n",
      "1.0% \t SEEKING EMOTIONAL SUPPORT\n",
      "1.0% \t SHARING NORMALITY\n",
      "1.0% \t SHARING POSITIVE EMOTIONS\n"
     ]
    }
   ],
   "source": [
    "label_percent_dict = {_label: _count/float(len(examples)) for _label, _count in label_count_dict.items()}\n",
    "\n",
    "print('------------------------------')\n",
    "print('percent of posts with label')\n",
    "print('------------------------------')\n",
    "print()\n",
    "for _label, _percent in sorted(label_percent_dict.items(), key=lambda x: x[1], reverse=True):\n",
    "    print(str(round(_percent*100, 1)) + '%', '\\t', _label)"
   ]
  },
  {
   "cell_type": "code",
   "execution_count": 14,
   "metadata": {},
   "outputs": [],
   "source": [
    "for _label, _texts in label_texts_dict.items():\n",
    "    if _label == 'providing information (advice)':\n",
    "        print('------------------------------------------')\n",
    "        print(_label)\n",
    "        print('------------------------------------------')\n",
    "        print()\n",
    "        for e in _texts:\n",
    "            print(' '.join(e.split()))"
   ]
  },
  {
   "cell_type": "markdown",
   "metadata": {},
   "source": [
    "<br><br>\n",
    "\n",
    "# Explore TWITTER posts"
   ]
  },
  {
   "cell_type": "code",
   "execution_count": 15,
   "metadata": {},
   "outputs": [
    {
     "name": "stdout",
     "output_type": "stream",
     "text": [
      "100\n"
     ]
    }
   ],
   "source": [
    "examples = db.get_dataset('discourse-twitter-posts')\n",
    "\n",
    "print(len(examples))"
   ]
  },
  {
   "cell_type": "code",
   "execution_count": 16,
   "metadata": {},
   "outputs": [
    {
     "name": "stdout",
     "output_type": "stream",
     "text": [
      "------------------------------------------------------\n",
      "total number of posts labeled\n",
      "------------------------------------------------------\n",
      "\n",
      "24 \t META DISCUSSION\n",
      "21 \t NONE\n",
      "15 \t SHARING EXPERIENCES\n",
      "15 \t SHARING INFORMATION\n",
      "14 \t SHARING/DESCRIBING ADDITIONAL RESEARCH\n",
      "7 \t SEEKING INFORMATION\n",
      "5 \t SHARING CAUSAL REASONING / HYPOTHESIZING\n",
      "5 \t SHARING FUTURE PLANS\n",
      "5 \t SHARING OPINIONS AND PREFERENCES\n",
      "4 \t SHARING NEGATIVE EMOTIONS\n",
      "2 \t SHARING ADVICE\n",
      "2 \t SHARING PERSONAL BACKGROUND\n",
      "2 \t SEEKING EXPERIENCES\n"
     ]
    }
   ],
   "source": [
    "label_count_dict = defaultdict(int)\n",
    "method_label_count_dict = defaultdict(lambda: defaultdict(int))\n",
    "label_texts_dict = defaultdict(list)\n",
    "for e in examples:\n",
    "    for _label in e['accept']:\n",
    "        label_count_dict[_label] += 1\n",
    "        method_label_count_dict[e['meta']['Method']][_label] += 1\n",
    "        label_texts_dict[_label].append(e['text'])\n",
    "    if len(e['accept']) < 1:\n",
    "        label_count_dict['NONE'] += 1\n",
    "        label_texts_dict['NONE'].append(e['text'])\n",
    "\n",
    "print('------------------------------------------------------')\n",
    "print('total number of posts labeled')\n",
    "print('------------------------------------------------------')\n",
    "print()\n",
    "for _label, _count in sorted(label_count_dict.items(), key=lambda x: x[1], reverse=True):\n",
    "    print(_count, '\\t', _label)"
   ]
  },
  {
   "cell_type": "code",
   "execution_count": 17,
   "metadata": {},
   "outputs": [
    {
     "name": "stdout",
     "output_type": "stream",
     "text": [
      "--------------------------------\n",
      "implant\n",
      "--------------------------------\n",
      "9 \t SHARING EXPERIENCES\n",
      "6 \t SHARING/DESCRIBING ADDITIONAL RESEARCH\n",
      "5 \t SHARING INFORMATION\n",
      "5 \t META DISCUSSION\n",
      "4 \t SHARING CAUSAL REASONING / HYPOTHESIZING\n",
      "4 \t SHARING FUTURE PLANS\n",
      "3 \t SHARING NEGATIVE EMOTIONS\n",
      "3 \t SEEKING INFORMATION\n",
      "2 \t SHARING ADVICE\n",
      "1 \t SHARING OPINIONS AND PREFERENCES\n",
      "1 \t SEEKING EXPERIENCES\n",
      "\n",
      "--------------------------------\n",
      "iud\n",
      "--------------------------------\n",
      "10 \t META DISCUSSION\n",
      "5 \t SHARING EXPERIENCES\n",
      "4 \t SHARING OPINIONS AND PREFERENCES\n",
      "3 \t SHARING INFORMATION\n",
      "2 \t SHARING PERSONAL BACKGROUND\n",
      "2 \t SEEKING INFORMATION\n",
      "1 \t SHARING FUTURE PLANS\n",
      "1 \t SHARING/DESCRIBING ADDITIONAL RESEARCH\n",
      "1 \t SEEKING EXPERIENCES\n",
      "1 \t SHARING CAUSAL REASONING / HYPOTHESIZING\n",
      "1 \t SHARING NEGATIVE EMOTIONS\n",
      "\n",
      "--------------------------------\n",
      "pill\n",
      "--------------------------------\n",
      "9 \t META DISCUSSION\n",
      "7 \t SHARING/DESCRIBING ADDITIONAL RESEARCH\n",
      "7 \t SHARING INFORMATION\n",
      "2 \t SEEKING INFORMATION\n",
      "1 \t SHARING EXPERIENCES\n",
      "\n"
     ]
    }
   ],
   "source": [
    "for _method, _label_count_dict in method_label_count_dict.items():\n",
    "    print('--------------------------------')\n",
    "    print(_method)\n",
    "    print('--------------------------------')\n",
    "    for _label, _count in sorted(_label_count_dict.items(), key=lambda x: x[1], reverse=True):\n",
    "        print(_count, '\\t', _label)\n",
    "    print()"
   ]
  },
  {
   "cell_type": "code",
   "execution_count": 18,
   "metadata": {},
   "outputs": [
    {
     "name": "stdout",
     "output_type": "stream",
     "text": [
      "------------------------------\n",
      "percent of posts with label\n",
      "------------------------------\n",
      "\n",
      "24.0% \t META DISCUSSION\n",
      "21.0% \t NONE\n",
      "15.0% \t SHARING EXPERIENCES\n",
      "15.0% \t SHARING INFORMATION\n",
      "14.0% \t SHARING/DESCRIBING ADDITIONAL RESEARCH\n",
      "7.0% \t SEEKING INFORMATION\n",
      "5.0% \t SHARING CAUSAL REASONING / HYPOTHESIZING\n",
      "5.0% \t SHARING FUTURE PLANS\n",
      "5.0% \t SHARING OPINIONS AND PREFERENCES\n",
      "4.0% \t SHARING NEGATIVE EMOTIONS\n",
      "2.0% \t SHARING ADVICE\n",
      "2.0% \t SHARING PERSONAL BACKGROUND\n",
      "2.0% \t SEEKING EXPERIENCES\n"
     ]
    }
   ],
   "source": [
    "label_percent_dict = {_label: _count/float(len(examples)) for _label, _count in label_count_dict.items()}\n",
    "\n",
    "print('------------------------------')\n",
    "print('percent of posts with label')\n",
    "print('------------------------------')\n",
    "print()\n",
    "for _label, _percent in sorted(label_percent_dict.items(), key=lambda x: x[1], reverse=True):\n",
    "    print(str(round(_percent*100, 1)) + '%', '\\t', _label)"
   ]
  },
  {
   "cell_type": "code",
   "execution_count": 19,
   "metadata": {},
   "outputs": [],
   "source": [
    "for _label, _texts in label_texts_dict.items():\n",
    "    if _label == 'providing other experiences':\n",
    "        print('------------------------------------------')\n",
    "        print(_label)\n",
    "        print('------------------------------------------')\n",
    "        print()\n",
    "        for e in _texts:\n",
    "            print(' '.join(e.split()))"
   ]
  },
  {
   "cell_type": "markdown",
   "metadata": {},
   "source": [
    "<br><br>\n",
    "\n",
    "# Explore Twitter REPLIES"
   ]
  },
  {
   "cell_type": "code",
   "execution_count": 20,
   "metadata": {},
   "outputs": [
    {
     "name": "stdout",
     "output_type": "stream",
     "text": [
      "109\n"
     ]
    }
   ],
   "source": [
    "examples = db.get_dataset('discourse-twitter-replies')\n",
    "\n",
    "print(len(examples))"
   ]
  },
  {
   "cell_type": "code",
   "execution_count": 21,
   "metadata": {},
   "outputs": [
    {
     "name": "stdout",
     "output_type": "stream",
     "text": [
      "------------------------------------------------------\n",
      "total number of posts labeled\n",
      "------------------------------------------------------\n",
      "\n",
      "30 \t SHARING EXPERIENCES\n",
      "26 \t META DISCUSSION\n",
      "24 \t NONE\n",
      "15 \t SHARING INFORMATION\n",
      "8 \t SHARING OPINIONS AND PREFERENCES\n",
      "4 \t SHARING PERSONAL BACKGROUND\n",
      "3 \t SHARING FUTURE PLANS\n",
      "3 \t SHARING/DESCRIBING ADDITIONAL RESEARCH\n",
      "3 \t SHARING ADVICE\n",
      "2 \t SEEKING INFORMATION\n",
      "2 \t SEEKING EXPERIENCES\n",
      "1 \t SHARING CAUSAL REASONING / HYPOTHESIZING\n",
      "1 \t SHARING NEGATIVE EMOTIONS\n"
     ]
    }
   ],
   "source": [
    "label_count_dict = defaultdict(int)\n",
    "method_label_count_dict = defaultdict(lambda: defaultdict(int))\n",
    "label_texts_dict = defaultdict(list)\n",
    "for e in examples:\n",
    "    for _label in e['accept']:\n",
    "        label_count_dict[_label] += 1\n",
    "        method_label_count_dict[e['meta']['Method']][_label] += 1\n",
    "        label_texts_dict[_label].append(e['text'])\n",
    "    if len(e['accept']) < 1:\n",
    "        label_count_dict['NONE'] += 1\n",
    "        label_texts_dict['NONE'].append(e['text'])\n",
    "\n",
    "print('------------------------------------------------------')\n",
    "print('total number of posts labeled')\n",
    "print('------------------------------------------------------')\n",
    "print()\n",
    "for _label, _count in sorted(label_count_dict.items(), key=lambda x: x[1], reverse=True):\n",
    "    print(_count, '\\t', _label)"
   ]
  },
  {
   "cell_type": "code",
   "execution_count": 22,
   "metadata": {},
   "outputs": [
    {
     "name": "stdout",
     "output_type": "stream",
     "text": [
      "--------------------------------\n",
      "pill\n",
      "--------------------------------\n",
      "18 \t META DISCUSSION\n",
      "7 \t SHARING EXPERIENCES\n",
      "2 \t SHARING INFORMATION\n",
      "1 \t SHARING PERSONAL BACKGROUND\n",
      "1 \t SHARING CAUSAL REASONING / HYPOTHESIZING\n",
      "1 \t SHARING OPINIONS AND PREFERENCES\n",
      "1 \t SHARING/DESCRIBING ADDITIONAL RESEARCH\n",
      "1 \t SEEKING INFORMATION\n",
      "1 \t SEEKING EXPERIENCES\n",
      "\n",
      "--------------------------------\n",
      "iud\n",
      "--------------------------------\n",
      "8 \t META DISCUSSION\n",
      "6 \t SHARING INFORMATION\n",
      "6 \t SHARING EXPERIENCES\n",
      "4 \t SHARING OPINIONS AND PREFERENCES\n",
      "1 \t SHARING FUTURE PLANS\n",
      "1 \t SEEKING EXPERIENCES\n",
      "1 \t SHARING ADVICE\n",
      "1 \t SHARING NEGATIVE EMOTIONS\n",
      "1 \t SHARING PERSONAL BACKGROUND\n",
      "\n",
      "--------------------------------\n",
      "implant\n",
      "--------------------------------\n",
      "17 \t SHARING EXPERIENCES\n",
      "7 \t SHARING INFORMATION\n",
      "3 \t SHARING OPINIONS AND PREFERENCES\n",
      "2 \t SHARING FUTURE PLANS\n",
      "2 \t SHARING PERSONAL BACKGROUND\n",
      "2 \t SHARING/DESCRIBING ADDITIONAL RESEARCH\n",
      "2 \t SHARING ADVICE\n",
      "1 \t SEEKING INFORMATION\n",
      "\n"
     ]
    }
   ],
   "source": [
    "for _method, _label_count_dict in method_label_count_dict.items():\n",
    "    print('--------------------------------')\n",
    "    print(_method)\n",
    "    print('--------------------------------')\n",
    "    for _label, _count in sorted(_label_count_dict.items(), key=lambda x: x[1], reverse=True):\n",
    "        print(_count, '\\t', _label)\n",
    "    print()"
   ]
  },
  {
   "cell_type": "code",
   "execution_count": 23,
   "metadata": {},
   "outputs": [
    {
     "name": "stdout",
     "output_type": "stream",
     "text": [
      "------------------------------\n",
      "percent of posts with label\n",
      "------------------------------\n",
      "\n",
      "27.5% \t SHARING EXPERIENCES\n",
      "23.9% \t META DISCUSSION\n",
      "22.0% \t NONE\n",
      "13.8% \t SHARING INFORMATION\n",
      "7.3% \t SHARING OPINIONS AND PREFERENCES\n",
      "3.7% \t SHARING PERSONAL BACKGROUND\n",
      "2.8% \t SHARING FUTURE PLANS\n",
      "2.8% \t SHARING/DESCRIBING ADDITIONAL RESEARCH\n",
      "2.8% \t SHARING ADVICE\n",
      "1.8% \t SEEKING INFORMATION\n",
      "1.8% \t SEEKING EXPERIENCES\n",
      "0.9% \t SHARING CAUSAL REASONING / HYPOTHESIZING\n",
      "0.9% \t SHARING NEGATIVE EMOTIONS\n"
     ]
    }
   ],
   "source": [
    "label_percent_dict = {_label: _count/float(len(examples)) for _label, _count in label_count_dict.items()}\n",
    "\n",
    "print('------------------------------')\n",
    "print('percent of posts with label')\n",
    "print('------------------------------')\n",
    "print()\n",
    "for _label, _percent in sorted(label_percent_dict.items(), key=lambda x: x[1], reverse=True):\n",
    "    print(str(round(_percent*100, 1)) + '%', '\\t', _label)"
   ]
  },
  {
   "cell_type": "code",
   "execution_count": 24,
   "metadata": {},
   "outputs": [],
   "source": [
    "for _label, _texts in label_texts_dict.items():\n",
    "    if _label == 'rant':\n",
    "        print('------------------------------------------')\n",
    "        print(_label)\n",
    "        print('------------------------------------------')\n",
    "        print()\n",
    "        for e in _texts:\n",
    "            print(' '.join(e.split()))"
   ]
  },
  {
   "cell_type": "markdown",
   "metadata": {},
   "source": [
    "<br><br>\n",
    "\n",
    "# Backup labeling into a CSV"
   ]
  },
  {
   "cell_type": "code",
   "execution_count": 25,
   "metadata": {},
   "outputs": [],
   "source": [
    "reddit_post_examples = db.get_dataset('discourse-reddit-posts')\n",
    "reddit_comment_examples = db.get_dataset('discourse-reddit-comments')\n",
    "twitter_post_examples = db.get_dataset('discourse-twitter-posts')\n",
    "twitter_replies_examples = db.get_dataset('discourse-twitter-replies')"
   ]
  },
  {
   "cell_type": "code",
   "execution_count": 26,
   "metadata": {},
   "outputs": [
    {
     "data": {
      "text/plain": [
       "(104, 0, 100, 109)"
      ]
     },
     "execution_count": 26,
     "metadata": {},
     "output_type": "execute_result"
    }
   ],
   "source": [
    "len(reddit_post_examples), len(reddit_comment_examples), len(twitter_post_examples), len(twitter_replies_examples)"
   ]
  },
  {
   "cell_type": "code",
   "execution_count": 27,
   "metadata": {},
   "outputs": [],
   "source": [
    "label_dicts = []\n",
    "for e in reddit_post_examples + reddit_comment_examples + twitter_post_examples + twitter_replies_examples:\n",
    "    for _label in e['accept']:\n",
    "        label_dicts.append({'Source': e['meta']['Source'],\n",
    "                            'ID': e['meta']['ID'],\n",
    "                            'Label': _label,\n",
    "                            'Text': e['text']})\n",
    "label_df = pd.DataFrame(label_dicts)"
   ]
  },
  {
   "cell_type": "code",
   "execution_count": 28,
   "metadata": {},
   "outputs": [
    {
     "data": {
      "text/plain": [
       "315"
      ]
     },
     "execution_count": 28,
     "metadata": {},
     "output_type": "execute_result"
    }
   ],
   "source": [
    "len(label_df)"
   ]
  },
  {
   "cell_type": "code",
   "execution_count": 29,
   "metadata": {},
   "outputs": [
    {
     "data": {
      "text/html": [
       "<div>\n",
       "<style scoped>\n",
       "    .dataframe tbody tr th:only-of-type {\n",
       "        vertical-align: middle;\n",
       "    }\n",
       "\n",
       "    .dataframe tbody tr th {\n",
       "        vertical-align: top;\n",
       "    }\n",
       "\n",
       "    .dataframe thead th {\n",
       "        text-align: right;\n",
       "    }\n",
       "</style>\n",
       "<table border=\"1\" class=\"dataframe\">\n",
       "  <thead>\n",
       "    <tr style=\"text-align: right;\">\n",
       "      <th></th>\n",
       "      <th>Source</th>\n",
       "      <th>ID</th>\n",
       "      <th>Label</th>\n",
       "      <th>Text</th>\n",
       "    </tr>\n",
       "  </thead>\n",
       "  <tbody>\n",
       "    <tr>\n",
       "      <th>82</th>\n",
       "      <td>reddit-posts</td>\n",
       "      <td>j3ajl2</td>\n",
       "      <td>SHARING/DESCRIBING ADDITIONAL RESEARCH</td>\n",
       "      <td>She thinks it might be GI related...</td>\n",
       "    </tr>\n",
       "    <tr>\n",
       "      <th>121</th>\n",
       "      <td>twitter-posts</td>\n",
       "      <td>2972858716258304</td>\n",
       "      <td>SHARING EXPERIENCES</td>\n",
       "      <td>I could feel it under her arm skin =/</td>\n",
       "    </tr>\n",
       "    <tr>\n",
       "      <th>81</th>\n",
       "      <td>reddit-posts</td>\n",
       "      <td>6gzy7v</td>\n",
       "      <td>SEEKING INFORMATION</td>\n",
       "      <td>Like how long to go without sex after, if taki...</td>\n",
       "    </tr>\n",
       "  </tbody>\n",
       "</table>\n",
       "</div>"
      ],
      "text/plain": [
       "            Source                ID                                   Label  \\\n",
       "82    reddit-posts            j3ajl2  SHARING/DESCRIBING ADDITIONAL RESEARCH   \n",
       "121  twitter-posts  2972858716258304                     SHARING EXPERIENCES   \n",
       "81    reddit-posts            6gzy7v                     SEEKING INFORMATION   \n",
       "\n",
       "                                                  Text  \n",
       "82                She thinks it might be GI related...  \n",
       "121              I could feel it under her arm skin =/  \n",
       "81   Like how long to go without sex after, if taki...  "
      ]
     },
     "execution_count": 29,
     "metadata": {},
     "output_type": "execute_result"
    }
   ],
   "source": [
    "label_df.sample(3)"
   ]
  },
  {
   "cell_type": "code",
   "execution_count": null,
   "metadata": {},
   "outputs": [],
   "source": [
    "label_df.to_csv('/Volumes/Passport-1/data/birth-control/labeling/label-sentences/labeled_by_leann.all.csv')"
   ]
  },
  {
   "cell_type": "code",
   "execution_count": null,
   "metadata": {},
   "outputs": [],
   "source": []
  }
 ],
 "metadata": {
  "interpreter": {
   "hash": "6057ff503712b9d8589e95303374a5e0505a3b171f577536b68d8760b171ae5c"
  },
  "kernelspec": {
   "display_name": "Python 3.7.7 64-bit ('prodigyEnv': conda)",
   "language": "python",
   "name": "python3"
  },
  "language_info": {
   "codemirror_mode": {
    "name": "ipython",
    "version": 3
   },
   "file_extension": ".py",
   "mimetype": "text/x-python",
   "name": "python",
   "nbconvert_exporter": "python",
   "pygments_lexer": "ipython3",
   "version": "3.8.12"
  },
  "orig_nbformat": 2
 },
 "nbformat": 4,
 "nbformat_minor": 2
}
