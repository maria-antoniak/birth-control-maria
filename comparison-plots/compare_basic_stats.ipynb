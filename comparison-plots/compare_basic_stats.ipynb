{
 "cells": [
  {
   "cell_type": "code",
   "execution_count": 1,
   "metadata": {},
   "outputs": [],
   "source": [
    "from collections import defaultdict\n",
    "from datetime import datetime\n",
    "import dill\n",
    "from itertools import permutations, combinations\n",
    "import json\n",
    "from operator import itemgetter\n",
    "import os\n",
    "import pickle\n",
    "import random\n",
    "import re\n",
    "import time\n",
    "\n",
    "import numpy as np\n",
    "import pandas as pd\n",
    "from sklearn.cluster import KMeans\n",
    "\n",
    "%matplotlib inline\n",
    "import matplotlib.pyplot as plt\n",
    "import seaborn as sns\n",
    "from adjustText import adjust_text\n",
    "sns.set(style='ticks', font_scale=1.2)\n",
    "import matplotlib\n",
    "matplotlib.rcParams['pdf.fonttype'] = 42\n",
    "matplotlib.rcParams['ps.fonttype'] = 42\n",
    "\n",
    "import little_mallet_wrapper as lmw"
   ]
  },
  {
   "cell_type": "code",
   "execution_count": 2,
   "metadata": {},
   "outputs": [],
   "source": [
    "data_directory_path   = '/Volumes/Passport-1/data/birth-control'\n",
    "output_directory_path = '/Volumes/Passport-1/output/birth-control'"
   ]
  },
  {
   "cell_type": "markdown",
   "metadata": {},
   "source": [
    "<br><br>\n",
    "\n",
    "# Load datasets (Reddit, WebMD, Twitter)"
   ]
  },
  {
   "cell_type": "markdown",
   "metadata": {},
   "source": [
    "## Reddit"
   ]
  },
  {
   "cell_type": "code",
   "execution_count": 3,
   "metadata": {},
   "outputs": [],
   "source": [
    "reddit_posts_df = pd.read_csv(data_directory_path + '/final-data/reddit_posts.csv')\n",
    "reddit_comments_df = pd.read_csv(data_directory_path + '/final-data/reddit_comments.csv')"
   ]
  },
  {
   "cell_type": "code",
   "execution_count": 4,
   "metadata": {},
   "outputs": [
    {
     "data": {
      "text/plain": [
       "(68958, 264912)"
      ]
     },
     "execution_count": 4,
     "metadata": {},
     "output_type": "execute_result"
    }
   ],
   "source": [
    "len(reddit_posts_df.index), len(reddit_comments_df.index)"
   ]
  },
  {
   "cell_type": "code",
   "execution_count": 5,
   "metadata": {},
   "outputs": [
    {
     "data": {
      "text/html": [
       "<div>\n",
       "<style scoped>\n",
       "    .dataframe tbody tr th:only-of-type {\n",
       "        vertical-align: middle;\n",
       "    }\n",
       "\n",
       "    .dataframe tbody tr th {\n",
       "        vertical-align: top;\n",
       "    }\n",
       "\n",
       "    .dataframe thead th {\n",
       "        text-align: right;\n",
       "    }\n",
       "</style>\n",
       "<table border=\"1\" class=\"dataframe\">\n",
       "  <thead>\n",
       "    <tr style=\"text-align: right;\">\n",
       "      <th></th>\n",
       "      <th>Unnamed: 0</th>\n",
       "      <th>id</th>\n",
       "      <th>parent_id</th>\n",
       "      <th>created_utc</th>\n",
       "      <th>text</th>\n",
       "      <th>tokens_text</th>\n",
       "      <th>text_type</th>\n",
       "      <th>year</th>\n",
       "      <th>month</th>\n",
       "      <th>source</th>\n",
       "    </tr>\n",
       "  </thead>\n",
       "  <tbody>\n",
       "    <tr>\n",
       "      <th>214409</th>\n",
       "      <td>3361</td>\n",
       "      <td>g9ov871</td>\n",
       "      <td>t3_jg79ta</td>\n",
       "      <td>1.603401e+09</td>\n",
       "      <td>It's progesterone only so no, it shouldn't. It...</td>\n",
       "      <td>progesterone shouldn estrogen main culprit thi...</td>\n",
       "      <td>pill</td>\n",
       "      <td>2020</td>\n",
       "      <td>10</td>\n",
       "      <td>reddit-comments</td>\n",
       "    </tr>\n",
       "    <tr>\n",
       "      <th>38669</th>\n",
       "      <td>1727</td>\n",
       "      <td>crz41jy</td>\n",
       "      <td>t3_38zj5w</td>\n",
       "      <td>1.433736e+09</td>\n",
       "      <td>If you are taking the pill correctly you are p...</td>\n",
       "      <td>taking pill correctly protected time even pill...</td>\n",
       "      <td>pill</td>\n",
       "      <td>2015</td>\n",
       "      <td>6</td>\n",
       "      <td>reddit-comments</td>\n",
       "    </tr>\n",
       "    <tr>\n",
       "      <th>24836</th>\n",
       "      <td>69</td>\n",
       "      <td>ckv7eok</td>\n",
       "      <td>t1_ckv63rd</td>\n",
       "      <td>1.411955e+09</td>\n",
       "      <td>You can take a pregnancy test as soon as the p...</td>\n",
       "      <td>take pregnancy test soon period missed since o...</td>\n",
       "      <td>pill</td>\n",
       "      <td>2014</td>\n",
       "      <td>9</td>\n",
       "      <td>reddit-comments</td>\n",
       "    </tr>\n",
       "  </tbody>\n",
       "</table>\n",
       "</div>"
      ],
      "text/plain": [
       "        Unnamed: 0       id   parent_id   created_utc  \\\n",
       "214409        3361  g9ov871   t3_jg79ta  1.603401e+09   \n",
       "38669         1727  crz41jy   t3_38zj5w  1.433736e+09   \n",
       "24836           69  ckv7eok  t1_ckv63rd  1.411955e+09   \n",
       "\n",
       "                                                     text  \\\n",
       "214409  It's progesterone only so no, it shouldn't. It...   \n",
       "38669   If you are taking the pill correctly you are p...   \n",
       "24836   You can take a pregnancy test as soon as the p...   \n",
       "\n",
       "                                              tokens_text text_type  year  \\\n",
       "214409  progesterone shouldn estrogen main culprit thi...      pill  2020   \n",
       "38669   taking pill correctly protected time even pill...      pill  2015   \n",
       "24836   take pregnancy test soon period missed since o...      pill  2014   \n",
       "\n",
       "        month           source  \n",
       "214409     10  reddit-comments  \n",
       "38669       6  reddit-comments  \n",
       "24836       9  reddit-comments  "
      ]
     },
     "execution_count": 5,
     "metadata": {},
     "output_type": "execute_result"
    }
   ],
   "source": [
    "reddit_comments_df.sample(3)"
   ]
  },
  {
   "cell_type": "code",
   "execution_count": 6,
   "metadata": {},
   "outputs": [
    {
     "data": {
      "text/html": [
       "<div>\n",
       "<style scoped>\n",
       "    .dataframe tbody tr th:only-of-type {\n",
       "        vertical-align: middle;\n",
       "    }\n",
       "\n",
       "    .dataframe tbody tr th {\n",
       "        vertical-align: top;\n",
       "    }\n",
       "\n",
       "    .dataframe thead th {\n",
       "        text-align: right;\n",
       "    }\n",
       "</style>\n",
       "<table border=\"1\" class=\"dataframe\">\n",
       "  <thead>\n",
       "    <tr style=\"text-align: right;\">\n",
       "      <th></th>\n",
       "      <th>Unnamed: 0</th>\n",
       "      <th>id</th>\n",
       "      <th>created_utc</th>\n",
       "      <th>text</th>\n",
       "      <th>title</th>\n",
       "      <th>year</th>\n",
       "      <th>month</th>\n",
       "      <th>url</th>\n",
       "      <th>link_flair_text</th>\n",
       "      <th>tokens_text</th>\n",
       "      <th>text_type</th>\n",
       "      <th>source</th>\n",
       "    </tr>\n",
       "  </thead>\n",
       "  <tbody>\n",
       "    <tr>\n",
       "      <th>60639</th>\n",
       "      <td>337</td>\n",
       "      <td>hg8n4w</td>\n",
       "      <td>1593181868</td>\n",
       "      <td>Hi guys, so I’ve been on the combination pill ...</td>\n",
       "      <td>No withdrawal bleeding for months??</td>\n",
       "      <td>2020</td>\n",
       "      <td>6</td>\n",
       "      <td>https://www.reddit.com/r/birthcontrol/comments...</td>\n",
       "      <td>Mistake or Risk?</td>\n",
       "      <td>withdrawal bleeding months hi guys combination...</td>\n",
       "      <td>pill</td>\n",
       "      <td>reddit-posts</td>\n",
       "    </tr>\n",
       "    <tr>\n",
       "      <th>43559</th>\n",
       "      <td>1437</td>\n",
       "      <td>bz3a40</td>\n",
       "      <td>1560200575</td>\n",
       "      <td>I got my period on May 22, and then exactly 2 ...</td>\n",
       "      <td>Normal for birth control or pregnant?</td>\n",
       "      <td>2019</td>\n",
       "      <td>6</td>\n",
       "      <td>https://www.reddit.com/r/birthcontrol/comments...</td>\n",
       "      <td>NaN</td>\n",
       "      <td>normal birth control pregnant got period may N...</td>\n",
       "      <td>pill</td>\n",
       "      <td>reddit-posts</td>\n",
       "    </tr>\n",
       "    <tr>\n",
       "      <th>59523</th>\n",
       "      <td>1176</td>\n",
       "      <td>gl4k2r</td>\n",
       "      <td>1589671160</td>\n",
       "      <td>I’ve been on junel for almost a year. Me and m...</td>\n",
       "      <td>Dark red blood and skin bits but still have 2 ...</td>\n",
       "      <td>2020</td>\n",
       "      <td>5</td>\n",
       "      <td>https://www.reddit.com/r/birthcontrol/comments...</td>\n",
       "      <td>Mistake or Risk?</td>\n",
       "      <td>dark red blood skin bits still NUM days pills ...</td>\n",
       "      <td>pill</td>\n",
       "      <td>reddit-posts</td>\n",
       "    </tr>\n",
       "  </tbody>\n",
       "</table>\n",
       "</div>"
      ],
      "text/plain": [
       "       Unnamed: 0      id  created_utc  \\\n",
       "60639         337  hg8n4w   1593181868   \n",
       "43559        1437  bz3a40   1560200575   \n",
       "59523        1176  gl4k2r   1589671160   \n",
       "\n",
       "                                                    text  \\\n",
       "60639  Hi guys, so I’ve been on the combination pill ...   \n",
       "43559  I got my period on May 22, and then exactly 2 ...   \n",
       "59523  I’ve been on junel for almost a year. Me and m...   \n",
       "\n",
       "                                                   title  year  month  \\\n",
       "60639                No withdrawal bleeding for months??  2020      6   \n",
       "43559              Normal for birth control or pregnant?  2019      6   \n",
       "59523  Dark red blood and skin bits but still have 2 ...  2020      5   \n",
       "\n",
       "                                                     url   link_flair_text  \\\n",
       "60639  https://www.reddit.com/r/birthcontrol/comments...  Mistake or Risk?   \n",
       "43559  https://www.reddit.com/r/birthcontrol/comments...               NaN   \n",
       "59523  https://www.reddit.com/r/birthcontrol/comments...  Mistake or Risk?   \n",
       "\n",
       "                                             tokens_text text_type  \\\n",
       "60639  withdrawal bleeding months hi guys combination...      pill   \n",
       "43559  normal birth control pregnant got period may N...      pill   \n",
       "59523  dark red blood skin bits still NUM days pills ...      pill   \n",
       "\n",
       "             source  \n",
       "60639  reddit-posts  \n",
       "43559  reddit-posts  \n",
       "59523  reddit-posts  "
      ]
     },
     "execution_count": 6,
     "metadata": {},
     "output_type": "execute_result"
    }
   ],
   "source": [
    "reddit_posts_df.sample(3)"
   ]
  },
  {
   "cell_type": "markdown",
   "metadata": {},
   "source": [
    "## WebMD"
   ]
  },
  {
   "cell_type": "code",
   "execution_count": 7,
   "metadata": {},
   "outputs": [],
   "source": [
    "webmd_df = pd.read_csv(data_directory_path + '/final-data/webmd.csv')"
   ]
  },
  {
   "cell_type": "code",
   "execution_count": 8,
   "metadata": {},
   "outputs": [
    {
     "data": {
      "text/plain": [
       "18110"
      ]
     },
     "execution_count": 8,
     "metadata": {},
     "output_type": "execute_result"
    }
   ],
   "source": [
    "len(webmd_df.index)"
   ]
  },
  {
   "cell_type": "code",
   "execution_count": 9,
   "metadata": {},
   "outputs": [
    {
     "data": {
      "text/html": [
       "<div>\n",
       "<style scoped>\n",
       "    .dataframe tbody tr th:only-of-type {\n",
       "        vertical-align: middle;\n",
       "    }\n",
       "\n",
       "    .dataframe tbody tr th {\n",
       "        vertical-align: top;\n",
       "    }\n",
       "\n",
       "    .dataframe thead th {\n",
       "        text-align: right;\n",
       "    }\n",
       "</style>\n",
       "<table border=\"1\" class=\"dataframe\">\n",
       "  <thead>\n",
       "    <tr style=\"text-align: right;\">\n",
       "      <th></th>\n",
       "      <th>Unnamed: 0</th>\n",
       "      <th>Unnamed: 0.1</th>\n",
       "      <th>Unnamed: 0.1.1</th>\n",
       "      <th>id</th>\n",
       "      <th>date</th>\n",
       "      <th>year</th>\n",
       "      <th>text</th>\n",
       "      <th>name</th>\n",
       "      <th>title</th>\n",
       "      <th>source</th>\n",
       "      <th>text_type</th>\n",
       "      <th>num_tokens</th>\n",
       "      <th>tokens_text</th>\n",
       "    </tr>\n",
       "  </thead>\n",
       "  <tbody>\n",
       "    <tr>\n",
       "      <th>11720</th>\n",
       "      <td>11720</td>\n",
       "      <td>13373</td>\n",
       "      <td>13373</td>\n",
       "      <td>w13690</td>\n",
       "      <td>2009-04-22</td>\n",
       "      <td>2009</td>\n",
       "      <td>My pharmacy switched my prescription to the ge...</td>\n",
       "      <td>ocella</td>\n",
       "      <td>NaN</td>\n",
       "      <td>webmd-reviews</td>\n",
       "      <td>pill</td>\n",
       "      <td>143</td>\n",
       "      <td>pharmacy switched prescription generic form ya...</td>\n",
       "    </tr>\n",
       "    <tr>\n",
       "      <th>14246</th>\n",
       "      <td>14246</td>\n",
       "      <td>16103</td>\n",
       "      <td>16103</td>\n",
       "      <td>w16501</td>\n",
       "      <td>2013-11-13</td>\n",
       "      <td>2013</td>\n",
       "      <td>I had been taking Sprintec for several months ...</td>\n",
       "      <td>sprintec</td>\n",
       "      <td>NaN</td>\n",
       "      <td>webmd-reviews</td>\n",
       "      <td>pill</td>\n",
       "      <td>73</td>\n",
       "      <td>taking sprintec several months everything seem...</td>\n",
       "    </tr>\n",
       "    <tr>\n",
       "      <th>3713</th>\n",
       "      <td>3713</td>\n",
       "      <td>4679</td>\n",
       "      <td>4679</td>\n",
       "      <td>w4788</td>\n",
       "      <td>2010-03-02</td>\n",
       "      <td>2010</td>\n",
       "      <td>I have had the Implanon in since April 2007 an...</td>\n",
       "      <td>implanon-implant</td>\n",
       "      <td>NaN</td>\n",
       "      <td>webmd-reviews</td>\n",
       "      <td>implant</td>\n",
       "      <td>141</td>\n",
       "      <td>implanon since april NUM get removed worked NU...</td>\n",
       "    </tr>\n",
       "  </tbody>\n",
       "</table>\n",
       "</div>"
      ],
      "text/plain": [
       "       Unnamed: 0  Unnamed: 0.1  Unnamed: 0.1.1      id        date  year  \\\n",
       "11720       11720         13373           13373  w13690  2009-04-22  2009   \n",
       "14246       14246         16103           16103  w16501  2013-11-13  2013   \n",
       "3713         3713          4679            4679   w4788  2010-03-02  2010   \n",
       "\n",
       "                                                    text              name  \\\n",
       "11720  My pharmacy switched my prescription to the ge...            ocella   \n",
       "14246  I had been taking Sprintec for several months ...          sprintec   \n",
       "3713   I have had the Implanon in since April 2007 an...  implanon-implant   \n",
       "\n",
       "       title         source text_type  num_tokens  \\\n",
       "11720    NaN  webmd-reviews      pill         143   \n",
       "14246    NaN  webmd-reviews      pill          73   \n",
       "3713     NaN  webmd-reviews   implant         141   \n",
       "\n",
       "                                             tokens_text  \n",
       "11720  pharmacy switched prescription generic form ya...  \n",
       "14246  taking sprintec several months everything seem...  \n",
       "3713   implanon since april NUM get removed worked NU...  "
      ]
     },
     "execution_count": 9,
     "metadata": {},
     "output_type": "execute_result"
    }
   ],
   "source": [
    "webmd_df.sample(3)"
   ]
  },
  {
   "cell_type": "markdown",
   "metadata": {},
   "source": [
    "## Twitter"
   ]
  },
  {
   "cell_type": "code",
   "execution_count": 10,
   "metadata": {},
   "outputs": [],
   "source": [
    "twitter_posts_df = pd.read_csv(data_directory_path + '/final-data/twitter_posts.csv')\n",
    "twitter_replies_df = pd.read_csv(data_directory_path + '/final-data/twitter_replies.csv')"
   ]
  },
  {
   "cell_type": "code",
   "execution_count": 11,
   "metadata": {},
   "outputs": [
    {
     "data": {
      "text/plain": [
       "(499796, 211896)"
      ]
     },
     "execution_count": 11,
     "metadata": {},
     "output_type": "execute_result"
    }
   ],
   "source": [
    "len(twitter_posts_df.index), len(twitter_replies_df.index)"
   ]
  },
  {
   "cell_type": "code",
   "execution_count": 12,
   "metadata": {},
   "outputs": [
    {
     "data": {
      "text/html": [
       "<div>\n",
       "<style scoped>\n",
       "    .dataframe tbody tr th:only-of-type {\n",
       "        vertical-align: middle;\n",
       "    }\n",
       "\n",
       "    .dataframe tbody tr th {\n",
       "        vertical-align: top;\n",
       "    }\n",
       "\n",
       "    .dataframe thead th {\n",
       "        text-align: right;\n",
       "    }\n",
       "</style>\n",
       "<table border=\"1\" class=\"dataframe\">\n",
       "  <thead>\n",
       "    <tr style=\"text-align: right;\">\n",
       "      <th></th>\n",
       "      <th>Unnamed: 0</th>\n",
       "      <th>source</th>\n",
       "      <th>text</th>\n",
       "      <th>tokens_text</th>\n",
       "      <th>date</th>\n",
       "      <th>year</th>\n",
       "      <th>month</th>\n",
       "      <th>id</th>\n",
       "      <th>conversation_id</th>\n",
       "      <th>retweet_count</th>\n",
       "      <th>reply_count</th>\n",
       "      <th>like_count</th>\n",
       "      <th>quote_count</th>\n",
       "      <th>text_type</th>\n",
       "      <th>num_tokens</th>\n",
       "    </tr>\n",
       "  </thead>\n",
       "  <tbody>\n",
       "    <tr>\n",
       "      <th>245973</th>\n",
       "      <td>308920</td>\n",
       "      <td>twitter-posts</td>\n",
       "      <td>who has the nexplanon???? does it make y’all c...</td>\n",
       "      <td>nexplanon make y cry reason bc m sitting balli...</td>\n",
       "      <td>2019-03-02T08:51:34.000Z</td>\n",
       "      <td>2019</td>\n",
       "      <td>3</td>\n",
       "      <td>1101766989733863425</td>\n",
       "      <td>1101766989733863425</td>\n",
       "      <td>0</td>\n",
       "      <td>0</td>\n",
       "      <td>0</td>\n",
       "      <td>0</td>\n",
       "      <td>implant</td>\n",
       "      <td>12</td>\n",
       "    </tr>\n",
       "    <tr>\n",
       "      <th>176483</th>\n",
       "      <td>222263</td>\n",
       "      <td>twitter-posts</td>\n",
       "      <td>The worst thing about Hulu? EASY. I have the P...</td>\n",
       "      <td>worst thing hulu easy paragard song stuck head...</td>\n",
       "      <td>2020-07-07T23:11:25.000Z</td>\n",
       "      <td>2020</td>\n",
       "      <td>7</td>\n",
       "      <td>1280640595644551168</td>\n",
       "      <td>1280640595644551168</td>\n",
       "      <td>0</td>\n",
       "      <td>1</td>\n",
       "      <td>0</td>\n",
       "      <td>0</td>\n",
       "      <td>iud</td>\n",
       "      <td>9</td>\n",
       "    </tr>\n",
       "    <tr>\n",
       "      <th>177025</th>\n",
       "      <td>222839</td>\n",
       "      <td>twitter-posts</td>\n",
       "      <td>IUD Use Tied to Modest Weight Loss - U.S. News...</td>\n",
       "      <td>iud use tied modest weight loss u news world r...</td>\n",
       "      <td>2012-05-08T20:12:38.000Z</td>\n",
       "      <td>2012</td>\n",
       "      <td>5</td>\n",
       "      <td>199954986996727808</td>\n",
       "      <td>199954986996727808</td>\n",
       "      <td>0</td>\n",
       "      <td>0</td>\n",
       "      <td>0</td>\n",
       "      <td>0</td>\n",
       "      <td>iud</td>\n",
       "      <td>13</td>\n",
       "    </tr>\n",
       "  </tbody>\n",
       "</table>\n",
       "</div>"
      ],
      "text/plain": [
       "        Unnamed: 0         source  \\\n",
       "245973      308920  twitter-posts   \n",
       "176483      222263  twitter-posts   \n",
       "177025      222839  twitter-posts   \n",
       "\n",
       "                                                     text  \\\n",
       "245973  who has the nexplanon???? does it make y’all c...   \n",
       "176483  The worst thing about Hulu? EASY. I have the P...   \n",
       "177025  IUD Use Tied to Modest Weight Loss - U.S. News...   \n",
       "\n",
       "                                              tokens_text  \\\n",
       "245973  nexplanon make y cry reason bc m sitting balli...   \n",
       "176483  worst thing hulu easy paragard song stuck head...   \n",
       "177025  iud use tied modest weight loss u news world r...   \n",
       "\n",
       "                            date  year  month                   id  \\\n",
       "245973  2019-03-02T08:51:34.000Z  2019      3  1101766989733863425   \n",
       "176483  2020-07-07T23:11:25.000Z  2020      7  1280640595644551168   \n",
       "177025  2012-05-08T20:12:38.000Z  2012      5   199954986996727808   \n",
       "\n",
       "            conversation_id  retweet_count  reply_count  like_count  \\\n",
       "245973  1101766989733863425              0            0           0   \n",
       "176483  1280640595644551168              0            1           0   \n",
       "177025   199954986996727808              0            0           0   \n",
       "\n",
       "        quote_count text_type  num_tokens  \n",
       "245973            0   implant          12  \n",
       "176483            0       iud           9  \n",
       "177025            0       iud          13  "
      ]
     },
     "execution_count": 12,
     "metadata": {},
     "output_type": "execute_result"
    }
   ],
   "source": [
    "twitter_posts_df.sample(3)"
   ]
  },
  {
   "cell_type": "code",
   "execution_count": 13,
   "metadata": {},
   "outputs": [
    {
     "data": {
      "text/html": [
       "<div>\n",
       "<style scoped>\n",
       "    .dataframe tbody tr th:only-of-type {\n",
       "        vertical-align: middle;\n",
       "    }\n",
       "\n",
       "    .dataframe tbody tr th {\n",
       "        vertical-align: top;\n",
       "    }\n",
       "\n",
       "    .dataframe thead th {\n",
       "        text-align: right;\n",
       "    }\n",
       "</style>\n",
       "<table border=\"1\" class=\"dataframe\">\n",
       "  <thead>\n",
       "    <tr style=\"text-align: right;\">\n",
       "      <th></th>\n",
       "      <th>Unnamed: 0</th>\n",
       "      <th>source</th>\n",
       "      <th>text</th>\n",
       "      <th>tokens_text</th>\n",
       "      <th>text_type</th>\n",
       "      <th>date</th>\n",
       "      <th>year</th>\n",
       "      <th>month</th>\n",
       "      <th>id</th>\n",
       "      <th>conversation_id</th>\n",
       "      <th>retweet_count</th>\n",
       "      <th>reply_count</th>\n",
       "      <th>like_count</th>\n",
       "      <th>quote_count</th>\n",
       "      <th>num_tokens</th>\n",
       "    </tr>\n",
       "  </thead>\n",
       "  <tbody>\n",
       "    <tr>\n",
       "      <th>39406</th>\n",
       "      <td>51008</td>\n",
       "      <td>twitter-replies</td>\n",
       "      <td>Ugh this is frustrating I have had an IUD it ...</td>\n",
       "      <td>ugh frustrating iud hell absolute hell got pai...</td>\n",
       "      <td>iud</td>\n",
       "      <td>2019-02-28T03:55:20.000Z</td>\n",
       "      <td>2019</td>\n",
       "      <td>2</td>\n",
       "      <td>1100967665064165376</td>\n",
       "      <td>1100949389156085761</td>\n",
       "      <td>0</td>\n",
       "      <td>1</td>\n",
       "      <td>3</td>\n",
       "      <td>0</td>\n",
       "      <td>26</td>\n",
       "    </tr>\n",
       "    <tr>\n",
       "      <th>53513</th>\n",
       "      <td>69490</td>\n",
       "      <td>twitter-replies</td>\n",
       "      <td>I had a really traumatic experience trying to...</td>\n",
       "      <td>really traumatic experience trying get iud pla...</td>\n",
       "      <td>iud</td>\n",
       "      <td>2018-08-15T22:33:49.000Z</td>\n",
       "      <td>2018</td>\n",
       "      <td>8</td>\n",
       "      <td>1029858730605666304</td>\n",
       "      <td>1029851812264902657</td>\n",
       "      <td>0</td>\n",
       "      <td>1</td>\n",
       "      <td>6</td>\n",
       "      <td>0</td>\n",
       "      <td>27</td>\n",
       "    </tr>\n",
       "    <tr>\n",
       "      <th>109289</th>\n",
       "      <td>141983</td>\n",
       "      <td>twitter-replies</td>\n",
       "      <td>I guess its possible lol I spotted like to da...</td>\n",
       "      <td>guess possible lol spotted like days ago rando...</td>\n",
       "      <td>iud</td>\n",
       "      <td>2013-04-26T05:16:08.000Z</td>\n",
       "      <td>2013</td>\n",
       "      <td>4</td>\n",
       "      <td>327652291656159232</td>\n",
       "      <td>327651921970221056</td>\n",
       "      <td>0</td>\n",
       "      <td>0</td>\n",
       "      <td>0</td>\n",
       "      <td>0</td>\n",
       "      <td>15</td>\n",
       "    </tr>\n",
       "  </tbody>\n",
       "</table>\n",
       "</div>"
      ],
      "text/plain": [
       "        Unnamed: 0           source  \\\n",
       "39406        51008  twitter-replies   \n",
       "53513        69490  twitter-replies   \n",
       "109289      141983  twitter-replies   \n",
       "\n",
       "                                                     text  \\\n",
       "39406    Ugh this is frustrating I have had an IUD it ...   \n",
       "53513    I had a really traumatic experience trying to...   \n",
       "109289   I guess its possible lol I spotted like to da...   \n",
       "\n",
       "                                              tokens_text text_type  \\\n",
       "39406   ugh frustrating iud hell absolute hell got pai...       iud   \n",
       "53513   really traumatic experience trying get iud pla...       iud   \n",
       "109289  guess possible lol spotted like days ago rando...       iud   \n",
       "\n",
       "                            date  year  month                   id  \\\n",
       "39406   2019-02-28T03:55:20.000Z  2019      2  1100967665064165376   \n",
       "53513   2018-08-15T22:33:49.000Z  2018      8  1029858730605666304   \n",
       "109289  2013-04-26T05:16:08.000Z  2013      4   327652291656159232   \n",
       "\n",
       "            conversation_id  retweet_count  reply_count  like_count  \\\n",
       "39406   1100949389156085761              0            1           3   \n",
       "53513   1029851812264902657              0            1           6   \n",
       "109289   327651921970221056              0            0           0   \n",
       "\n",
       "        quote_count  num_tokens  \n",
       "39406             0          26  \n",
       "53513             0          27  \n",
       "109289            0          15  "
      ]
     },
     "execution_count": 13,
     "metadata": {},
     "output_type": "execute_result"
    }
   ],
   "source": [
    "twitter_replies_df.sample(3)"
   ]
  },
  {
   "cell_type": "code",
   "execution_count": 14,
   "metadata": {},
   "outputs": [
    {
     "data": {
      "text/plain": [
       "2020    0.243402\n",
       "2019    0.224950\n",
       "2018    0.128775\n",
       "2017    0.089921\n",
       "2014    0.055131\n",
       "2012    0.053545\n",
       "2013    0.052455\n",
       "2016    0.051322\n",
       "2015    0.041737\n",
       "2011    0.034503\n",
       "2010    0.016895\n",
       "2009    0.006791\n",
       "2008    0.000543\n",
       "2007    0.000028\n",
       "Name: year, dtype: float64"
      ]
     },
     "execution_count": 14,
     "metadata": {},
     "output_type": "execute_result"
    }
   ],
   "source": [
    "twitter_replies_df['year'].value_counts(normalize=True)"
   ]
  },
  {
   "cell_type": "code",
   "execution_count": 15,
   "metadata": {},
   "outputs": [
    {
     "data": {
      "text/plain": [
       "2012    0.116656\n",
       "2019    0.109375\n",
       "2020    0.097354\n",
       "2015    0.096898\n",
       "2016    0.093218\n",
       "2017    0.091539\n",
       "2013    0.090409\n",
       "2018    0.089238\n",
       "2011    0.082324\n",
       "2014    0.069548\n",
       "2010    0.049764\n",
       "2009    0.012667\n",
       "2008    0.000866\n",
       "2007    0.000144\n",
       "Name: year, dtype: float64"
      ]
     },
     "execution_count": 15,
     "metadata": {},
     "output_type": "execute_result"
    }
   ],
   "source": [
    "twitter_posts_df['year'].value_counts(normalize=True)"
   ]
  },
  {
   "cell_type": "markdown",
   "metadata": {},
   "source": [
    "## Combine"
   ]
  },
  {
   "cell_type": "code",
   "execution_count": 16,
   "metadata": {},
   "outputs": [
    {
     "data": {
      "text/plain": [
       "1063672"
      ]
     },
     "execution_count": 16,
     "metadata": {},
     "output_type": "execute_result"
    }
   ],
   "source": [
    "combined_df = pd.concat([reddit_posts_df, reddit_comments_df, twitter_posts_df, twitter_replies_df, webmd_df])\n",
    "len(combined_df)"
   ]
  },
  {
   "cell_type": "code",
   "execution_count": 17,
   "metadata": {},
   "outputs": [
    {
     "data": {
      "text/plain": [
       "twitter-posts      499796\n",
       "reddit-comments    264912\n",
       "twitter-replies    211896\n",
       "reddit-posts        68958\n",
       "webmd-reviews       18110\n",
       "Name: source, dtype: int64"
      ]
     },
     "execution_count": 17,
     "metadata": {},
     "output_type": "execute_result"
    }
   ],
   "source": [
    "combined_df['source'].value_counts()"
   ]
  },
  {
   "cell_type": "markdown",
   "metadata": {},
   "source": [
    "<br><br>\n",
    "\n",
    "# Get basic stats for each dataset"
   ]
  },
  {
   "cell_type": "code",
   "execution_count": 18,
   "metadata": {},
   "outputs": [],
   "source": [
    "datasets = ['reddit-posts', 'reddit-comments', 'twitter-posts', 'twitter-replies', 'webmd-reviews']"
   ]
  },
  {
   "cell_type": "code",
   "execution_count": 19,
   "metadata": {},
   "outputs": [
    {
     "name": "stdout",
     "output_type": "stream",
     "text": [
      "reddit-posts\n",
      "Number of Documents: 68958\n",
      "Vocabulary Size: 49088\n",
      "Mean Number of Tokens per Document: 79.41001769192842\n",
      "==================================\n",
      "reddit-comments\n",
      "Number of Documents: 264912\n",
      "Vocabulary Size: 67837\n",
      "Mean Number of Tokens per Document: 31.762543788125868\n",
      "==================================\n",
      "twitter-posts\n",
      "Number of Documents: 499796\n",
      "Vocabulary Size: 398910\n",
      "Mean Number of Tokens per Document: 12.342963929283147\n",
      "==================================\n",
      "twitter-replies\n",
      "Number of Documents: 211896\n",
      "Vocabulary Size: 73896\n",
      "Mean Number of Tokens per Document: 12.25912711896402\n",
      "==================================\n",
      "webmd-reviews\n",
      "Number of Documents: 18110\n",
      "Vocabulary Size: 17487\n",
      "Mean Number of Tokens per Document: 44.84914411927112\n",
      "==================================\n"
     ]
    }
   ],
   "source": [
    "for _dataset in datasets:\n",
    "\n",
    "    _df = combined_df[combined_df['source'] == _dataset]\n",
    "\n",
    "    _word_count_dict = defaultdict(int)\n",
    "    for i, r in _df.iterrows(): \n",
    "        for _word in str(r['tokens_text']).split():\n",
    "            _word_count_dict[_word] += 1\n",
    "\n",
    "    _num_documents = len(_df.index)\n",
    "    _vocab_size = len(_word_count_dict.keys())\n",
    "    _mean_tokens_per_doc = np.mean([len(str(r['tokens_text']).split()) for i, r in _df.iterrows()])\n",
    "\n",
    "    print(_dataset)\n",
    "    print('Number of Documents:', _num_documents)\n",
    "    print('Vocabulary Size:', _vocab_size)\n",
    "    print('Mean Number of Tokens per Document:', _mean_tokens_per_doc)\n",
    "    print('==================================')"
   ]
  },
  {
   "cell_type": "markdown",
   "metadata": {},
   "source": [
    "<br><br>\n",
    "\n",
    "# Get sparklines over years"
   ]
  },
  {
   "cell_type": "code",
   "execution_count": 20,
   "metadata": {},
   "outputs": [],
   "source": [
    "positions = []\n",
    "for i in range(0, 15):\n",
    "    _width = 1/15\n",
    "    positions.append((_width*i) + (_width/2))"
   ]
  },
  {
   "cell_type": "code",
   "execution_count": 21,
   "metadata": {},
   "outputs": [
    {
     "name": "stdout",
     "output_type": "stream",
     "text": [
      "reddit-posts\n",
      "15 15 15\n",
      "\\sparkspike 0.03333333333333333 0.0\n",
      "\\sparkspike 0.1 0.0\n",
      "\\sparkspike 0.16666666666666666 0.0\n",
      "\\sparkspike 0.23333333333333334 0.0\n",
      "\\sparkspike 0.3 0.0\n",
      "\\sparkspike 0.36666666666666664 0.005445744251714401\n",
      "\\sparkspike 0.43333333333333335 0.042839854780153286\n",
      "\\sparkspike 0.5 0.07678499394917306\n",
      "\\sparkspike 0.5666666666666667 0.11308995562726905\n",
      "\\sparkspike 0.6333333333333333 0.15615671641791046\n",
      "\\sparkspike 0.7 0.19763513513513514\n",
      "\\sparkspike 0.7666666666666666 0.3000605082694635\n",
      "\\sparkspike 0.8333333333333334 0.4996470350947963\n",
      "\\sparkspike 0.9 0.8377369907220653\n",
      "\\sparkspike 0.9666666666666667 0.9\n",
      "=========================================\n",
      "reddit-comments\n",
      "15 15 15\n",
      "\\sparkspike 0.03333333333333333 0.0\n",
      "\\sparkspike 0.1 0.0\n",
      "\\sparkspike 0.16666666666666666 0.0\n",
      "\\sparkspike 0.23333333333333334 0.0\n",
      "\\sparkspike 0.3 0.0\n",
      "\\sparkspike 0.36666666666666664 0.00546811055845873\n",
      "\\sparkspike 0.43333333333333335 0.061820814707548945\n",
      "\\sparkspike 0.5 0.11436284077315369\n",
      "\\sparkspike 0.5666666666666667 0.184824970093811\n",
      "\\sparkspike 0.6333333333333333 0.261208524837877\n",
      "\\sparkspike 0.7 0.33968866083233645\n",
      "\\sparkspike 0.7666666666666666 0.48256783982874774\n",
      "\\sparkspike 0.8333333333333334 0.5731033180129699\n",
      "\\sparkspike 0.9 0.9\n",
      "\\sparkspike 0.9666666666666667 0.8297220298432285\n",
      "=========================================\n",
      "twitter-posts\n",
      "15 15 15\n",
      "\\sparkspike 0.03333333333333333 0.0\n",
      "\\sparkspike 0.1 0.001111416026344676\n",
      "\\sparkspike 0.16666666666666666 0.006683932491767288\n",
      "\\sparkspike 0.23333333333333334 0.09772742864983534\n",
      "\\sparkspike 0.3 0.38393249176728866\n",
      "\\sparkspike 0.36666666666666664 0.6351279500548848\n",
      "\\sparkspike 0.43333333333333335 0.9\n",
      "\\sparkspike 0.5 0.6975061745334796\n",
      "\\sparkspike 0.5666666666666667 0.5365669593852909\n",
      "\\sparkspike 0.6333333333333333 0.7475662047200877\n",
      "\\sparkspike 0.7 0.7191787870472008\n",
      "\\sparkspike 0.7666666666666666 0.7062277030735454\n",
      "\\sparkspike 0.8333333333333334 0.6884759193194292\n",
      "\\sparkspike 0.9 0.8438271816684961\n",
      "\\sparkspike 0.9666666666666667 0.7510856888035127\n",
      "=========================================\n",
      "twitter-replies\n",
      "15 15 15\n",
      "\\sparkspike 0.03333333333333333 0.0\n",
      "\\sparkspike 0.1 0.00010469986040018614\n",
      "\\sparkspike 0.16666666666666666 0.002006747324336901\n",
      "\\sparkspike 0.23333333333333334 0.02511051651931131\n",
      "\\sparkspike 0.3 0.0624709167054444\n",
      "\\sparkspike 0.36666666666666664 0.1275767798976268\n",
      "\\sparkspike 0.43333333333333335 0.197987436016752\n",
      "\\sparkspike 0.5 0.19395649139134483\n",
      "\\sparkspike 0.5666666666666667 0.20385062819916241\n",
      "\\sparkspike 0.6333333333333333 0.15432759422987435\n",
      "\\sparkspike 0.7 0.18976849697533738\n",
      "\\sparkspike 0.7666666666666666 0.33249185667752446\n",
      "\\sparkspike 0.8333333333333334 0.4761575151233132\n",
      "\\sparkspike 0.9 0.8317705909725454\n",
      "\\sparkspike 0.9666666666666667 0.9\n",
      "=========================================\n",
      "webmd-reviews\n",
      "15 15 15\n",
      "\\sparkspike 0.03333333333333333 0.0\n",
      "\\sparkspike 0.1 0.1261818181818182\n",
      "\\sparkspike 0.16666666666666666 0.5632727272727273\n",
      "\\sparkspike 0.23333333333333334 0.822909090909091\n",
      "\\sparkspike 0.3 0.762909090909091\n",
      "\\sparkspike 0.36666666666666664 0.8763636363636365\n",
      "\\sparkspike 0.43333333333333335 0.9\n",
      "\\sparkspike 0.5 0.6854545454545455\n",
      "\\sparkspike 0.5666666666666667 0.592\n",
      "\\sparkspike 0.6333333333333333 0.39163636363636367\n",
      "\\sparkspike 0.7 0.34581818181818186\n",
      "\\sparkspike 0.7666666666666666 0.18\n",
      "\\sparkspike 0.8333333333333334 0.14363636363636365\n",
      "\\sparkspike 0.9 0.12654545454545457\n",
      "\\sparkspike 0.9666666666666667 0.06872727272727273\n",
      "=========================================\n"
     ]
    }
   ],
   "source": [
    "years = [2006, 2007, 2008, 2009, 2010, 2011, 2012, 2013, 2014, 2015, 2016, 2017, 2018, 2019, 2020]\n",
    "\n",
    "for _dataset in datasets:\n",
    "\n",
    "    _df = combined_df[combined_df['source'] == _dataset]\n",
    "    _total = len(_df.index)\n",
    "\n",
    "    _heights = []\n",
    "    for _year in years:\n",
    "        _heights.append(len(_df[_df['year'] == _year].index) / float(_total))\n",
    "\n",
    "    _max_height = 0.9\n",
    "    _adjustor = _max_height / max(_heights)\n",
    "    _heights = [h*_adjustor for h in _heights]\n",
    "\n",
    "    print(_dataset)\n",
    "    print(len(years), len(positions), len(_heights))\n",
    "    for _position, _height in zip(positions, _heights):\n",
    "        print('\\sparkspike ' + str(_position) + ' ' + str(_height))\n",
    "    print('=========================================')"
   ]
  },
  {
   "cell_type": "code",
   "execution_count": null,
   "metadata": {},
   "outputs": [],
   "source": []
  },
  {
   "cell_type": "code",
   "execution_count": null,
   "metadata": {},
   "outputs": [],
   "source": []
  }
 ],
 "metadata": {
  "interpreter": {
   "hash": "31f2aee4e71d21fbe5cf8b01ff0e069b9275f58929596ceb00d14d90e3e16cd6"
  },
  "kernelspec": {
   "display_name": "Python 3.7.9 64-bit ('python3.7env': conda)",
   "language": "python",
   "name": "python3"
  },
  "language_info": {
   "codemirror_mode": {
    "name": "ipython",
    "version": 3
   },
   "file_extension": ".py",
   "mimetype": "text/x-python",
   "name": "python",
   "nbconvert_exporter": "python",
   "pygments_lexer": "ipython3",
   "version": "3.8.12"
  },
  "orig_nbformat": 2
 },
 "nbformat": 4,
 "nbformat_minor": 2
}
