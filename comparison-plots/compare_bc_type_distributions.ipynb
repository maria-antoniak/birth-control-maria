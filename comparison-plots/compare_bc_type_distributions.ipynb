{
 "cells": [
  {
   "cell_type": "code",
   "execution_count": 41,
   "metadata": {},
   "outputs": [],
   "source": [
    "from collections import defaultdict\n",
    "from datetime import datetime\n",
    "import dill\n",
    "from itertools import permutations, combinations\n",
    "import json\n",
    "from operator import itemgetter\n",
    "import os\n",
    "import pickle\n",
    "import random\n",
    "import re\n",
    "import time\n",
    "\n",
    "import numpy as np\n",
    "import pandas as pd\n",
    "from sklearn.cluster import KMeans\n",
    "\n",
    "%matplotlib inline\n",
    "import matplotlib.pyplot as plt\n",
    "import matplotlib.ticker as mtick\n",
    "import seaborn as sns\n",
    "from adjustText import adjust_text\n",
    "sns.set(style='ticks', font_scale=1.2)\n",
    "import matplotlib\n",
    "matplotlib.rcParams['pdf.fonttype'] = 42\n",
    "matplotlib.rcParams['ps.fonttype'] = 42\n",
    "\n",
    "import little_mallet_wrapper as lmw"
   ]
  },
  {
   "cell_type": "code",
   "execution_count": 42,
   "metadata": {},
   "outputs": [],
   "source": [
    "data_directory_path   = '/Volumes/Passport-1/data/birth-control'\n",
    "output_directory_path = '/Volumes/Passport-1/output/birth-control'"
   ]
  },
  {
   "cell_type": "markdown",
   "metadata": {},
   "source": [
    "<br><br>\n",
    "\n",
    "# Load datasets (Reddit, WebMD, Twitter)"
   ]
  },
  {
   "cell_type": "markdown",
   "metadata": {},
   "source": [
    "## Reddit"
   ]
  },
  {
   "cell_type": "code",
   "execution_count": 43,
   "metadata": {},
   "outputs": [],
   "source": [
    "reddit_posts_df = pd.read_csv(data_directory_path + '/final-data/reddit_posts.csv')\n",
    "reddit_comments_df = pd.read_csv(data_directory_path + '/final-data/reddit_comments.csv')"
   ]
  },
  {
   "cell_type": "code",
   "execution_count": 44,
   "metadata": {},
   "outputs": [
    {
     "data": {
      "text/plain": [
       "(68958, 264912)"
      ]
     },
     "execution_count": 44,
     "metadata": {},
     "output_type": "execute_result"
    }
   ],
   "source": [
    "len(reddit_posts_df.index), len(reddit_comments_df.index)"
   ]
  },
  {
   "cell_type": "code",
   "execution_count": 45,
   "metadata": {},
   "outputs": [
    {
     "data": {
      "text/html": [
       "<div>\n",
       "<style scoped>\n",
       "    .dataframe tbody tr th:only-of-type {\n",
       "        vertical-align: middle;\n",
       "    }\n",
       "\n",
       "    .dataframe tbody tr th {\n",
       "        vertical-align: top;\n",
       "    }\n",
       "\n",
       "    .dataframe thead th {\n",
       "        text-align: right;\n",
       "    }\n",
       "</style>\n",
       "<table border=\"1\" class=\"dataframe\">\n",
       "  <thead>\n",
       "    <tr style=\"text-align: right;\">\n",
       "      <th></th>\n",
       "      <th>Unnamed: 0</th>\n",
       "      <th>id</th>\n",
       "      <th>parent_id</th>\n",
       "      <th>created_utc</th>\n",
       "      <th>text</th>\n",
       "      <th>tokens_text</th>\n",
       "      <th>text_type</th>\n",
       "      <th>year</th>\n",
       "      <th>month</th>\n",
       "      <th>source</th>\n",
       "    </tr>\n",
       "  </thead>\n",
       "  <tbody>\n",
       "    <tr>\n",
       "      <th>9205</th>\n",
       "      <td>603</td>\n",
       "      <td>c9da2if</td>\n",
       "      <td>t1_c9czwym</td>\n",
       "      <td>1.365713e+09</td>\n",
       "      <td>Interesting. Thanks for the reply and info! I ...</td>\n",
       "      <td>interesting thanks reply info kind feel like m...</td>\n",
       "      <td>iud</td>\n",
       "      <td>2013</td>\n",
       "      <td>4</td>\n",
       "      <td>reddit-comments</td>\n",
       "    </tr>\n",
       "    <tr>\n",
       "      <th>106156</th>\n",
       "      <td>2441</td>\n",
       "      <td>e87ayv7</td>\n",
       "      <td>t3_9q7b3w</td>\n",
       "      <td>1.540160e+09</td>\n",
       "      <td>I’m not sure but when I asked my doctor if I c...</td>\n",
       "      <td>m sure asked doctor could take one old bc pill...</td>\n",
       "      <td>pill</td>\n",
       "      <td>2018</td>\n",
       "      <td>10</td>\n",
       "      <td>reddit-comments</td>\n",
       "    </tr>\n",
       "    <tr>\n",
       "      <th>91249</th>\n",
       "      <td>2123</td>\n",
       "      <td>dhhmoj6</td>\n",
       "      <td>t1_dhhb98q</td>\n",
       "      <td>1.494635e+09</td>\n",
       "      <td>Thanks, I did some more posing and eventually ...</td>\n",
       "      <td>thanks posing eventually found didn think woul...</td>\n",
       "      <td>iud</td>\n",
       "      <td>2017</td>\n",
       "      <td>5</td>\n",
       "      <td>reddit-comments</td>\n",
       "    </tr>\n",
       "  </tbody>\n",
       "</table>\n",
       "</div>"
      ],
      "text/plain": [
       "        Unnamed: 0       id   parent_id   created_utc  \\\n",
       "9205           603  c9da2if  t1_c9czwym  1.365713e+09   \n",
       "106156        2441  e87ayv7   t3_9q7b3w  1.540160e+09   \n",
       "91249         2123  dhhmoj6  t1_dhhb98q  1.494635e+09   \n",
       "\n",
       "                                                     text  \\\n",
       "9205    Interesting. Thanks for the reply and info! I ...   \n",
       "106156  I’m not sure but when I asked my doctor if I c...   \n",
       "91249   Thanks, I did some more posing and eventually ...   \n",
       "\n",
       "                                              tokens_text text_type  year  \\\n",
       "9205    interesting thanks reply info kind feel like m...       iud  2013   \n",
       "106156  m sure asked doctor could take one old bc pill...      pill  2018   \n",
       "91249   thanks posing eventually found didn think woul...       iud  2017   \n",
       "\n",
       "        month           source  \n",
       "9205        4  reddit-comments  \n",
       "106156     10  reddit-comments  \n",
       "91249       5  reddit-comments  "
      ]
     },
     "execution_count": 45,
     "metadata": {},
     "output_type": "execute_result"
    }
   ],
   "source": [
    "reddit_comments_df.sample(3)"
   ]
  },
  {
   "cell_type": "code",
   "execution_count": 46,
   "metadata": {},
   "outputs": [
    {
     "data": {
      "text/html": [
       "<div>\n",
       "<style scoped>\n",
       "    .dataframe tbody tr th:only-of-type {\n",
       "        vertical-align: middle;\n",
       "    }\n",
       "\n",
       "    .dataframe tbody tr th {\n",
       "        vertical-align: top;\n",
       "    }\n",
       "\n",
       "    .dataframe thead th {\n",
       "        text-align: right;\n",
       "    }\n",
       "</style>\n",
       "<table border=\"1\" class=\"dataframe\">\n",
       "  <thead>\n",
       "    <tr style=\"text-align: right;\">\n",
       "      <th></th>\n",
       "      <th>Unnamed: 0</th>\n",
       "      <th>id</th>\n",
       "      <th>created_utc</th>\n",
       "      <th>text</th>\n",
       "      <th>title</th>\n",
       "      <th>year</th>\n",
       "      <th>month</th>\n",
       "      <th>url</th>\n",
       "      <th>link_flair_text</th>\n",
       "      <th>tokens_text</th>\n",
       "      <th>text_type</th>\n",
       "      <th>source</th>\n",
       "    </tr>\n",
       "  </thead>\n",
       "  <tbody>\n",
       "    <tr>\n",
       "      <th>5002</th>\n",
       "      <td>243</td>\n",
       "      <td>2cqiab</td>\n",
       "      <td>1407280896</td>\n",
       "      <td>...her libido will decrease. I read a lot abou...</td>\n",
       "      <td>My girlfriend wants to start birth control, bu...</td>\n",
       "      <td>2014</td>\n",
       "      <td>8</td>\n",
       "      <td>http://www.reddit.com/r/birthcontrol/comments/...</td>\n",
       "      <td>NaN</td>\n",
       "      <td>girlfriend wants start birth control m worried...</td>\n",
       "      <td>pill</td>\n",
       "      <td>reddit-posts</td>\n",
       "    </tr>\n",
       "    <tr>\n",
       "      <th>748</th>\n",
       "      <td>36</td>\n",
       "      <td>v5kl1</td>\n",
       "      <td>1339884340</td>\n",
       "      <td>I was on Trivora for two years. But they disco...</td>\n",
       "      <td>Gildess FE 1/20 vs. Trivora (Enpresse). Any la...</td>\n",
       "      <td>2012</td>\n",
       "      <td>6</td>\n",
       "      <td>http://www.reddit.com/r/birthcontrol/comments/...</td>\n",
       "      <td>NaN</td>\n",
       "      <td>gildess fe NUM/NUM vs trivora enpresse ladies ...</td>\n",
       "      <td>pill</td>\n",
       "      <td>reddit-posts</td>\n",
       "    </tr>\n",
       "    <tr>\n",
       "      <th>6234</th>\n",
       "      <td>253</td>\n",
       "      <td>3weo9z</td>\n",
       "      <td>1449858024</td>\n",
       "      <td>Hi there, \\n\\nSo I was just curious if getting...</td>\n",
       "      <td>Are withdrawal bleeds a sufficient indicator?</td>\n",
       "      <td>2015</td>\n",
       "      <td>12</td>\n",
       "      <td>https://www.reddit.com/r/birthcontrol/comments...</td>\n",
       "      <td>NaN</td>\n",
       "      <td>withdrawal bleeds sufficient indicator hi curi...</td>\n",
       "      <td>pill</td>\n",
       "      <td>reddit-posts</td>\n",
       "    </tr>\n",
       "  </tbody>\n",
       "</table>\n",
       "</div>"
      ],
      "text/plain": [
       "      Unnamed: 0      id  created_utc  \\\n",
       "5002         243  2cqiab   1407280896   \n",
       "748           36   v5kl1   1339884340   \n",
       "6234         253  3weo9z   1449858024   \n",
       "\n",
       "                                                   text  \\\n",
       "5002  ...her libido will decrease. I read a lot abou...   \n",
       "748   I was on Trivora for two years. But they disco...   \n",
       "6234  Hi there, \\n\\nSo I was just curious if getting...   \n",
       "\n",
       "                                                  title  year  month  \\\n",
       "5002  My girlfriend wants to start birth control, bu...  2014      8   \n",
       "748   Gildess FE 1/20 vs. Trivora (Enpresse). Any la...  2012      6   \n",
       "6234      Are withdrawal bleeds a sufficient indicator?  2015     12   \n",
       "\n",
       "                                                    url link_flair_text  \\\n",
       "5002  http://www.reddit.com/r/birthcontrol/comments/...             NaN   \n",
       "748   http://www.reddit.com/r/birthcontrol/comments/...             NaN   \n",
       "6234  https://www.reddit.com/r/birthcontrol/comments...             NaN   \n",
       "\n",
       "                                            tokens_text text_type  \\\n",
       "5002  girlfriend wants start birth control m worried...      pill   \n",
       "748   gildess fe NUM/NUM vs trivora enpresse ladies ...      pill   \n",
       "6234  withdrawal bleeds sufficient indicator hi curi...      pill   \n",
       "\n",
       "            source  \n",
       "5002  reddit-posts  \n",
       "748   reddit-posts  \n",
       "6234  reddit-posts  "
      ]
     },
     "execution_count": 46,
     "metadata": {},
     "output_type": "execute_result"
    }
   ],
   "source": [
    "reddit_posts_df.sample(3)"
   ]
  },
  {
   "cell_type": "markdown",
   "metadata": {},
   "source": [
    "## WebMD"
   ]
  },
  {
   "cell_type": "code",
   "execution_count": 47,
   "metadata": {},
   "outputs": [],
   "source": [
    "webmd_df = pd.read_csv(data_directory_path + '/final-data/webmd.csv')"
   ]
  },
  {
   "cell_type": "code",
   "execution_count": 48,
   "metadata": {},
   "outputs": [
    {
     "data": {
      "text/plain": [
       "18110"
      ]
     },
     "execution_count": 48,
     "metadata": {},
     "output_type": "execute_result"
    }
   ],
   "source": [
    "len(webmd_df.index)"
   ]
  },
  {
   "cell_type": "code",
   "execution_count": 49,
   "metadata": {},
   "outputs": [
    {
     "data": {
      "text/html": [
       "<div>\n",
       "<style scoped>\n",
       "    .dataframe tbody tr th:only-of-type {\n",
       "        vertical-align: middle;\n",
       "    }\n",
       "\n",
       "    .dataframe tbody tr th {\n",
       "        vertical-align: top;\n",
       "    }\n",
       "\n",
       "    .dataframe thead th {\n",
       "        text-align: right;\n",
       "    }\n",
       "</style>\n",
       "<table border=\"1\" class=\"dataframe\">\n",
       "  <thead>\n",
       "    <tr style=\"text-align: right;\">\n",
       "      <th></th>\n",
       "      <th>Unnamed: 0</th>\n",
       "      <th>Unnamed: 0.1</th>\n",
       "      <th>Unnamed: 0.1.1</th>\n",
       "      <th>id</th>\n",
       "      <th>date</th>\n",
       "      <th>year</th>\n",
       "      <th>text</th>\n",
       "      <th>name</th>\n",
       "      <th>title</th>\n",
       "      <th>source</th>\n",
       "      <th>text_type</th>\n",
       "      <th>num_tokens</th>\n",
       "      <th>tokens_text</th>\n",
       "    </tr>\n",
       "  </thead>\n",
       "  <tbody>\n",
       "    <tr>\n",
       "      <th>6309</th>\n",
       "      <td>6309</td>\n",
       "      <td>7342</td>\n",
       "      <td>7342</td>\n",
       "      <td>w7511</td>\n",
       "      <td>2008-05-21</td>\n",
       "      <td>2008</td>\n",
       "      <td>I recently switched to this bc pill after bein...</td>\n",
       "      <td>loestrin-24-fe-tablet</td>\n",
       "      <td>NaN</td>\n",
       "      <td>webmd-reviews</td>\n",
       "      <td>pill</td>\n",
       "      <td>49</td>\n",
       "      <td>recently switched bc pill yaz NUM years absolu...</td>\n",
       "    </tr>\n",
       "    <tr>\n",
       "      <th>2710</th>\n",
       "      <td>2710</td>\n",
       "      <td>3674</td>\n",
       "      <td>3674</td>\n",
       "      <td>w3764</td>\n",
       "      <td>2008-04-13</td>\n",
       "      <td>2008</td>\n",
       "      <td>I just finished my first pack of Femcon Fe.  I...</td>\n",
       "      <td>femcon-fe-tablet-chewable</td>\n",
       "      <td>NaN</td>\n",
       "      <td>webmd-reviews</td>\n",
       "      <td>pill</td>\n",
       "      <td>75</td>\n",
       "      <td>finished first pack femcon fe extremely easy t...</td>\n",
       "    </tr>\n",
       "    <tr>\n",
       "      <th>7757</th>\n",
       "      <td>7757</td>\n",
       "      <td>8808</td>\n",
       "      <td>8808</td>\n",
       "      <td>w9008</td>\n",
       "      <td>2014-09-05</td>\n",
       "      <td>2014</td>\n",
       "      <td>I'm adding on to a review from a few months ag...</td>\n",
       "      <td>minastrin-24-fe</td>\n",
       "      <td>NaN</td>\n",
       "      <td>webmd-reviews</td>\n",
       "      <td>pill</td>\n",
       "      <td>167</td>\n",
       "      <td>m adding review months ago medicine NUM months...</td>\n",
       "    </tr>\n",
       "  </tbody>\n",
       "</table>\n",
       "</div>"
      ],
      "text/plain": [
       "      Unnamed: 0  Unnamed: 0.1  Unnamed: 0.1.1     id        date  year  \\\n",
       "6309        6309          7342            7342  w7511  2008-05-21  2008   \n",
       "2710        2710          3674            3674  w3764  2008-04-13  2008   \n",
       "7757        7757          8808            8808  w9008  2014-09-05  2014   \n",
       "\n",
       "                                                   text  \\\n",
       "6309  I recently switched to this bc pill after bein...   \n",
       "2710  I just finished my first pack of Femcon Fe.  I...   \n",
       "7757  I'm adding on to a review from a few months ag...   \n",
       "\n",
       "                           name  title         source text_type  num_tokens  \\\n",
       "6309      loestrin-24-fe-tablet    NaN  webmd-reviews      pill          49   \n",
       "2710  femcon-fe-tablet-chewable    NaN  webmd-reviews      pill          75   \n",
       "7757            minastrin-24-fe    NaN  webmd-reviews      pill         167   \n",
       "\n",
       "                                            tokens_text  \n",
       "6309  recently switched bc pill yaz NUM years absolu...  \n",
       "2710  finished first pack femcon fe extremely easy t...  \n",
       "7757  m adding review months ago medicine NUM months...  "
      ]
     },
     "execution_count": 49,
     "metadata": {},
     "output_type": "execute_result"
    }
   ],
   "source": [
    "webmd_df.sample(3)"
   ]
  },
  {
   "cell_type": "markdown",
   "metadata": {},
   "source": [
    "## Twitter"
   ]
  },
  {
   "cell_type": "code",
   "execution_count": 50,
   "metadata": {},
   "outputs": [],
   "source": [
    "twitter_posts_df = pd.read_csv(data_directory_path + '/final-data/twitter_posts.csv')\n",
    "twitter_replies_df = pd.read_csv(data_directory_path + '/final-data/twitter_replies.csv')"
   ]
  },
  {
   "cell_type": "code",
   "execution_count": 51,
   "metadata": {},
   "outputs": [
    {
     "data": {
      "text/plain": [
       "(499796, 211896)"
      ]
     },
     "execution_count": 51,
     "metadata": {},
     "output_type": "execute_result"
    }
   ],
   "source": [
    "len(twitter_posts_df.index), len(twitter_replies_df.index)"
   ]
  },
  {
   "cell_type": "code",
   "execution_count": 52,
   "metadata": {},
   "outputs": [
    {
     "data": {
      "text/html": [
       "<div>\n",
       "<style scoped>\n",
       "    .dataframe tbody tr th:only-of-type {\n",
       "        vertical-align: middle;\n",
       "    }\n",
       "\n",
       "    .dataframe tbody tr th {\n",
       "        vertical-align: top;\n",
       "    }\n",
       "\n",
       "    .dataframe thead th {\n",
       "        text-align: right;\n",
       "    }\n",
       "</style>\n",
       "<table border=\"1\" class=\"dataframe\">\n",
       "  <thead>\n",
       "    <tr style=\"text-align: right;\">\n",
       "      <th></th>\n",
       "      <th>Unnamed: 0</th>\n",
       "      <th>source</th>\n",
       "      <th>text</th>\n",
       "      <th>tokens_text</th>\n",
       "      <th>date</th>\n",
       "      <th>year</th>\n",
       "      <th>month</th>\n",
       "      <th>id</th>\n",
       "      <th>conversation_id</th>\n",
       "      <th>retweet_count</th>\n",
       "      <th>reply_count</th>\n",
       "      <th>like_count</th>\n",
       "      <th>quote_count</th>\n",
       "      <th>text_type</th>\n",
       "      <th>num_tokens</th>\n",
       "    </tr>\n",
       "  </thead>\n",
       "  <tbody>\n",
       "    <tr>\n",
       "      <th>43335</th>\n",
       "      <td>51028</td>\n",
       "      <td>twitter-posts</td>\n",
       "      <td>Mom loses ovaries, uterus and toes after IUD e...</td>\n",
       "      <td>mom loses ovaries uterus toes iud ends stomach...</td>\n",
       "      <td>2018-06-10T02:53:24.000Z</td>\n",
       "      <td>2018</td>\n",
       "      <td>6</td>\n",
       "      <td>1005644066346979328</td>\n",
       "      <td>1005644066346979328</td>\n",
       "      <td>0</td>\n",
       "      <td>0</td>\n",
       "      <td>0</td>\n",
       "      <td>0</td>\n",
       "      <td>iud</td>\n",
       "      <td>11</td>\n",
       "    </tr>\n",
       "    <tr>\n",
       "      <th>15046</th>\n",
       "      <td>17184</td>\n",
       "      <td>twitter-posts</td>\n",
       "      <td>i pissed off the ladies at the front desk LMFA...</td>\n",
       "      <td>pissed ladies front desk lmfao jus wanna get i...</td>\n",
       "      <td>2019-06-04T19:23:29.000Z</td>\n",
       "      <td>2019</td>\n",
       "      <td>6</td>\n",
       "      <td>1135990475784171521</td>\n",
       "      <td>1135990475784171521</td>\n",
       "      <td>0</td>\n",
       "      <td>1</td>\n",
       "      <td>12</td>\n",
       "      <td>0</td>\n",
       "      <td>iud</td>\n",
       "      <td>11</td>\n",
       "    </tr>\n",
       "    <tr>\n",
       "      <th>461178</th>\n",
       "      <td>580094</td>\n",
       "      <td>twitter-posts</td>\n",
       "      <td>RT  Birth Control Pill = 2nd best thing that w...</td>\n",
       "      <td>rt birth control pill NUMnd best thing women p...</td>\n",
       "      <td>2010-10-20T06:30:58.000Z</td>\n",
       "      <td>2010</td>\n",
       "      <td>10</td>\n",
       "      <td>27907571423</td>\n",
       "      <td>27907571423</td>\n",
       "      <td>0</td>\n",
       "      <td>0</td>\n",
       "      <td>0</td>\n",
       "      <td>0</td>\n",
       "      <td>pill</td>\n",
       "      <td>13</td>\n",
       "    </tr>\n",
       "  </tbody>\n",
       "</table>\n",
       "</div>"
      ],
      "text/plain": [
       "        Unnamed: 0         source  \\\n",
       "43335        51028  twitter-posts   \n",
       "15046        17184  twitter-posts   \n",
       "461178      580094  twitter-posts   \n",
       "\n",
       "                                                     text  \\\n",
       "43335   Mom loses ovaries, uterus and toes after IUD e...   \n",
       "15046   i pissed off the ladies at the front desk LMFA...   \n",
       "461178  RT  Birth Control Pill = 2nd best thing that w...   \n",
       "\n",
       "                                              tokens_text  \\\n",
       "43335   mom loses ovaries uterus toes iud ends stomach...   \n",
       "15046   pissed ladies front desk lmfao jus wanna get i...   \n",
       "461178  rt birth control pill NUMnd best thing women p...   \n",
       "\n",
       "                            date  year  month                   id  \\\n",
       "43335   2018-06-10T02:53:24.000Z  2018      6  1005644066346979328   \n",
       "15046   2019-06-04T19:23:29.000Z  2019      6  1135990475784171521   \n",
       "461178  2010-10-20T06:30:58.000Z  2010     10          27907571423   \n",
       "\n",
       "            conversation_id  retweet_count  reply_count  like_count  \\\n",
       "43335   1005644066346979328              0            0           0   \n",
       "15046   1135990475784171521              0            1          12   \n",
       "461178          27907571423              0            0           0   \n",
       "\n",
       "        quote_count text_type  num_tokens  \n",
       "43335             0       iud          11  \n",
       "15046             0       iud          11  \n",
       "461178            0      pill          13  "
      ]
     },
     "execution_count": 52,
     "metadata": {},
     "output_type": "execute_result"
    }
   ],
   "source": [
    "twitter_posts_df.sample(3)"
   ]
  },
  {
   "cell_type": "code",
   "execution_count": 53,
   "metadata": {},
   "outputs": [
    {
     "data": {
      "text/html": [
       "<div>\n",
       "<style scoped>\n",
       "    .dataframe tbody tr th:only-of-type {\n",
       "        vertical-align: middle;\n",
       "    }\n",
       "\n",
       "    .dataframe tbody tr th {\n",
       "        vertical-align: top;\n",
       "    }\n",
       "\n",
       "    .dataframe thead th {\n",
       "        text-align: right;\n",
       "    }\n",
       "</style>\n",
       "<table border=\"1\" class=\"dataframe\">\n",
       "  <thead>\n",
       "    <tr style=\"text-align: right;\">\n",
       "      <th></th>\n",
       "      <th>Unnamed: 0</th>\n",
       "      <th>source</th>\n",
       "      <th>text</th>\n",
       "      <th>tokens_text</th>\n",
       "      <th>text_type</th>\n",
       "      <th>date</th>\n",
       "      <th>year</th>\n",
       "      <th>month</th>\n",
       "      <th>id</th>\n",
       "      <th>conversation_id</th>\n",
       "      <th>retweet_count</th>\n",
       "      <th>reply_count</th>\n",
       "      <th>like_count</th>\n",
       "      <th>quote_count</th>\n",
       "      <th>num_tokens</th>\n",
       "    </tr>\n",
       "  </thead>\n",
       "  <tbody>\n",
       "    <tr>\n",
       "      <th>125375</th>\n",
       "      <td>162631</td>\n",
       "      <td>twitter-replies</td>\n",
       "      <td>Whoa, for second I thought you were giving aw...</td>\n",
       "      <td>whoa second thought giving away iud pretty green</td>\n",
       "      <td>iud</td>\n",
       "      <td>2010-04-12T20:37:25.000Z</td>\n",
       "      <td>2010</td>\n",
       "      <td>4</td>\n",
       "      <td>12064794167</td>\n",
       "      <td>12064758525</td>\n",
       "      <td>0</td>\n",
       "      <td>0</td>\n",
       "      <td>0</td>\n",
       "      <td>0</td>\n",
       "      <td>8</td>\n",
       "    </tr>\n",
       "    <tr>\n",
       "      <th>177321</th>\n",
       "      <td>232730</td>\n",
       "      <td>twitter-replies</td>\n",
       "      <td>I had excruciating pains as well. The gynae s...</td>\n",
       "      <td>excruciating pains well gynae still find wrong...</td>\n",
       "      <td>pill</td>\n",
       "      <td>2020-02-23T16:52:10.000Z</td>\n",
       "      <td>2020</td>\n",
       "      <td>2</td>\n",
       "      <td>1231622791499304961</td>\n",
       "      <td>1231461899985981440</td>\n",
       "      <td>0</td>\n",
       "      <td>1</td>\n",
       "      <td>0</td>\n",
       "      <td>0</td>\n",
       "      <td>13</td>\n",
       "    </tr>\n",
       "    <tr>\n",
       "      <th>200432</th>\n",
       "      <td>260162</td>\n",
       "      <td>twitter-replies</td>\n",
       "      <td>Y or N or oral birth control and other app...</td>\n",
       "      <td>oral birth control appendages</td>\n",
       "      <td>pill</td>\n",
       "      <td>2013-12-31T18:20:02.000Z</td>\n",
       "      <td>2013</td>\n",
       "      <td>12</td>\n",
       "      <td>418084143877337088</td>\n",
       "      <td>418077305404014594</td>\n",
       "      <td>0</td>\n",
       "      <td>1</td>\n",
       "      <td>0</td>\n",
       "      <td>0</td>\n",
       "      <td>4</td>\n",
       "    </tr>\n",
       "  </tbody>\n",
       "</table>\n",
       "</div>"
      ],
      "text/plain": [
       "        Unnamed: 0           source  \\\n",
       "125375      162631  twitter-replies   \n",
       "177321      232730  twitter-replies   \n",
       "200432      260162  twitter-replies   \n",
       "\n",
       "                                                     text  \\\n",
       "125375   Whoa, for second I thought you were giving aw...   \n",
       "177321   I had excruciating pains as well. The gynae s...   \n",
       "200432      Y or N or oral birth control and other app...   \n",
       "\n",
       "                                              tokens_text text_type  \\\n",
       "125375   whoa second thought giving away iud pretty green       iud   \n",
       "177321  excruciating pains well gynae still find wrong...      pill   \n",
       "200432                      oral birth control appendages      pill   \n",
       "\n",
       "                            date  year  month                   id  \\\n",
       "125375  2010-04-12T20:37:25.000Z  2010      4          12064794167   \n",
       "177321  2020-02-23T16:52:10.000Z  2020      2  1231622791499304961   \n",
       "200432  2013-12-31T18:20:02.000Z  2013     12   418084143877337088   \n",
       "\n",
       "            conversation_id  retweet_count  reply_count  like_count  \\\n",
       "125375          12064758525              0            0           0   \n",
       "177321  1231461899985981440              0            1           0   \n",
       "200432   418077305404014594              0            1           0   \n",
       "\n",
       "        quote_count  num_tokens  \n",
       "125375            0           8  \n",
       "177321            0          13  \n",
       "200432            0           4  "
      ]
     },
     "execution_count": 53,
     "metadata": {},
     "output_type": "execute_result"
    }
   ],
   "source": [
    "twitter_replies_df.sample(3)"
   ]
  },
  {
   "cell_type": "markdown",
   "metadata": {},
   "source": [
    "<br><br><br><br>\n",
    "\n",
    "# Get overall method distributions"
   ]
  },
  {
   "cell_type": "code",
   "execution_count": 54,
   "metadata": {},
   "outputs": [
    {
     "data": {
      "text/plain": [
       "pill       36921\n",
       "iud        24657\n",
       "implant     7380\n",
       "Name: text_type, dtype: int64"
      ]
     },
     "execution_count": 54,
     "metadata": {},
     "output_type": "execute_result"
    }
   ],
   "source": [
    "reddit_posts_df['text_type'].value_counts()"
   ]
  },
  {
   "cell_type": "code",
   "execution_count": 55,
   "metadata": {},
   "outputs": [
    {
     "data": {
      "text/plain": [
       "iud        117631\n",
       "pill       117283\n",
       "implant     29998\n",
       "Name: text_type, dtype: int64"
      ]
     },
     "execution_count": 55,
     "metadata": {},
     "output_type": "execute_result"
    }
   ],
   "source": [
    "reddit_comments_df['text_type'].value_counts()"
   ]
  },
  {
   "cell_type": "code",
   "execution_count": 56,
   "metadata": {},
   "outputs": [
    {
     "data": {
      "text/plain": [
       "pill       226762\n",
       "iud        217728\n",
       "implant     55306\n",
       "Name: text_type, dtype: int64"
      ]
     },
     "execution_count": 56,
     "metadata": {},
     "output_type": "execute_result"
    }
   ],
   "source": [
    "twitter_posts_df['text_type'].value_counts()"
   ]
  },
  {
   "cell_type": "code",
   "execution_count": 57,
   "metadata": {},
   "outputs": [
    {
     "data": {
      "text/plain": [
       "iud        147680\n",
       "pill        39039\n",
       "implant     25177\n",
       "Name: text_type, dtype: int64"
      ]
     },
     "execution_count": 57,
     "metadata": {},
     "output_type": "execute_result"
    }
   ],
   "source": [
    "twitter_replies_df['text_type'].value_counts()"
   ]
  },
  {
   "cell_type": "code",
   "execution_count": 58,
   "metadata": {},
   "outputs": [
    {
     "data": {
      "text/plain": [
       "pill       14873\n",
       "iud         2354\n",
       "implant      883\n",
       "Name: text_type, dtype: int64"
      ]
     },
     "execution_count": 58,
     "metadata": {},
     "output_type": "execute_result"
    }
   ],
   "source": [
    "webmd_df['text_type'].value_counts()"
   ]
  },
  {
   "cell_type": "markdown",
   "metadata": {},
   "source": [
    "<br><br>\n",
    "\n",
    "# Plot distributions over years"
   ]
  },
  {
   "cell_type": "code",
   "execution_count": 59,
   "metadata": {},
   "outputs": [],
   "source": [
    "name_df_dict = {'reddit_posts': reddit_posts_df,\n",
    "                'reddit_comments': reddit_comments_df,\n",
    "                'twitter_posts': twitter_posts_df,\n",
    "                'twitter_replies': twitter_replies_df,\n",
    "                'webmd_reviews': webmd_df}\n",
    "\n",
    "name_label_dict = {'reddit_posts': 'Reddit Posts',\n",
    "                   'reddit_comments': 'Reddit Comments',\n",
    "                   'twitter_posts': 'Twitter Posts',\n",
    "                   'twitter_replies': 'Twitter Replies',\n",
    "                   'webmd_reviews': 'Webmd Reviews'}    "
   ]
  },
  {
   "cell_type": "code",
   "execution_count": 60,
   "metadata": {},
   "outputs": [
    {
     "data": {
      "image/png": "[encoded data removed]",
      "text/plain": [
       "<Figure size 360x72 with 1 Axes>"
      ]
     },
     "metadata": {},
     "output_type": "display_data"
    },
    {
     "data": {
      "image/png": "[encoded data removed]",
      "text/plain": [
       "<Figure size 360x72 with 1 Axes>"
      ]
     },
     "metadata": {},
     "output_type": "display_data"
    },
    {
     "data": {
      "image/png": "[encoded data removed]",
      "text/plain": [
       "<Figure size 360x72 with 1 Axes>"
      ]
     },
     "metadata": {},
     "output_type": "display_data"
    },
    {
     "data": {
      "image/png": "[encoded data removed]",
      "text/plain": [
       "<Figure size 360x72 with 1 Axes>"
      ]
     },
     "metadata": {},
     "output_type": "display_data"
    },
    {
     "data": {
      "image/png": "[encoded data removed]",
      "text/plain": [
       "<Figure size 360x72 with 1 Axes>"
      ]
     },
     "metadata": {},
     "output_type": "display_data"
    }
   ],
   "source": [
    "\n",
    "for _name, _df in name_df_dict.items():\n",
    "\n",
    "    plt.figure(figsize=(5,1))\n",
    "    ax = sns.countplot(data=_df,\n",
    "                    x='year',\n",
    "                    hue='text_type',\n",
    "                    palette='pastel',\n",
    "                    hue_order=['pill', 'iud', 'implant'],\n",
    "                    order=[2007, 2008, 2009, 2010, 2011, 2012, 2013, 2014, 2015, 2016, 2017, 2018, 2019, 2020])\n",
    "    sns.despine()\n",
    "    plt.ylabel('Count')\n",
    "    if _name == 'webmd_reviews':\n",
    "        plt.xlabel('Year')\n",
    "        plt.xticks(rotation=45)\n",
    "        ax.legend(loc='upper center', bbox_to_anchor=(0.5, -1),ncol=3)\n",
    "    else:\n",
    "        ax.set_xticklabels([])\n",
    "        ax.get_legend().remove()\n",
    "        plt.xlabel('')\n",
    "    plt.title(name_label_dict[_name])\n",
    "    plt.savefig(output_directory_path + '/plots/bc-type-distributions/barplot.bc_type_dist.' + _name + '.pdf', bbox_inches='tight')"
   ]
  },
  {
   "cell_type": "code",
   "execution_count": 61,
   "metadata": {},
   "outputs": [
    {
     "data": {
      "text/plain": [
       "1063672"
      ]
     },
     "execution_count": 61,
     "metadata": {},
     "output_type": "execute_result"
    }
   ],
   "source": [
    "combined_df = pd.concat([reddit_posts_df, reddit_comments_df, twitter_posts_df, twitter_replies_df, webmd_df])\n",
    "len(combined_df)"
   ]
  },
  {
   "cell_type": "code",
   "execution_count": 62,
   "metadata": {},
   "outputs": [
    {
     "data": {
      "text/plain": [
       "twitter-posts      499796\n",
       "reddit-comments    264912\n",
       "twitter-replies    211896\n",
       "reddit-posts        68958\n",
       "webmd-reviews       18110\n",
       "Name: source, dtype: int64"
      ]
     },
     "execution_count": 62,
     "metadata": {},
     "output_type": "execute_result"
    }
   ],
   "source": [
    "combined_df['source'].value_counts()"
   ]
  },
  {
   "cell_type": "code",
   "execution_count": 63,
   "metadata": {},
   "outputs": [
    {
     "data": {
      "text/plain": [
       "<seaborn.axisgrid.FacetGrid at 0x7fc743d02730>"
      ]
     },
     "execution_count": 63,
     "metadata": {},
     "output_type": "execute_result"
    },
    {
     "data": {
      "image/png": "[encoded data removed]",
      "text/plain": [
       "<Figure size 576x720 with 5 Axes>"
      ]
     },
     "metadata": {},
     "output_type": "display_data"
    }
   ],
   "source": [
    "g = sns.FacetGrid(combined_df, row=\"source\", hue='text_type', palette='pastel', height=2, aspect=4, sharey=False)\n",
    "g.map_dataframe(sns.countplot, 'year', order=[2007, 2008, 2009, 2010, 2011, 2012, 2013, 2014, 2015, 2016, 2017, 2018, 2019, 2020])"
   ]
  },
  {
   "cell_type": "markdown",
   "metadata": {},
   "source": [
    "<br><br>\n",
    "\n",
    "# Plot distributions normalized by year"
   ]
  },
  {
   "cell_type": "code",
   "execution_count": 64,
   "metadata": {},
   "outputs": [
    {
     "data": {
      "image/png": "[encoded data removed]",
      "text/plain": [
       "<Figure size 360x72 with 1 Axes>"
      ]
     },
     "metadata": {},
     "output_type": "display_data"
    },
    {
     "data": {
      "image/png": "[encoded data removed]",
      "text/plain": [
       "<Figure size 360x72 with 1 Axes>"
      ]
     },
     "metadata": {},
     "output_type": "display_data"
    },
    {
     "data": {
      "image/png": "[encoded data removed]",
      "text/plain": [
       "<Figure size 360x72 with 1 Axes>"
      ]
     },
     "metadata": {},
     "output_type": "display_data"
    },
    {
     "data": {
      "image/png": "[encoded data removed]",
      "text/plain": [
       "<Figure size 360x72 with 1 Axes>"
      ]
     },
     "metadata": {},
     "output_type": "display_data"
    },
    {
     "data": {
      "image/png": "[encoded data removed]",
      "text/plain": [
       "<Figure size 360x72 with 1 Axes>"
      ]
     },
     "metadata": {},
     "output_type": "display_data"
    }
   ],
   "source": [
    "            \n",
    "\n",
    "for _name, _df in name_df_dict.items():\n",
    "\n",
    "    _dicts_to_plot = []\n",
    "    for _year in [2007, 2008, 2009, 2010, 2011, 2012, 2013, 2014, 2015, 2016, 2017, 2018, 2019, 2020]:\n",
    "        _year_df = _df[_df['year'] == _year]\n",
    "        if len(_year_df.index) > 1000:\n",
    "            for _method in ['pill', 'iud', 'implant']:\n",
    "                _dicts_to_plot.append({'Year': _year,\n",
    "                                       'Method': _method,\n",
    "                                       'Percent': 100 * (len(_year_df[_year_df['text_type'] == _method].index) / float(len(_year_df.index)))})\n",
    "    _df_to_plot = pd.DataFrame(_dicts_to_plot)\n",
    "\n",
    "    plt.figure(figsize=(5,1))\n",
    "    ax = sns.barplot(data=_df_to_plot,\n",
    "                     x='Year',\n",
    "                      y='Percent',\n",
    "                      hue='Method',\n",
    "                      palette='pastel',\n",
    "                      hue_order=['pill', 'iud', 'implant'],\n",
    "                      order=[2007, 2008, 2009, 2010, 2011, 2012, 2013, 2014, 2015, 2016, 2017, 2018, 2019, 2020])\n",
    "    sns.despine()\n",
    "    ax.yaxis.set_major_formatter(mtick.PercentFormatter())\n",
    "    if _name == 'webmd_reviews':\n",
    "        plt.xticks(rotation=45)\n",
    "        ax.legend(loc='upper center', bbox_to_anchor=(0.5, -1),ncol=3)\n",
    "    else:\n",
    "        ax.set_xticklabels([])\n",
    "        ax.get_legend().remove()\n",
    "        plt.xlabel('')\n",
    "    plt.title(name_label_dict[_name])\n",
    "    plt.savefig(output_directory_path + '/plots/bc-type-distributions/barplot.bc_type_dist.' + _name + '.normalized_by_year.pdf', bbox_inches='tight')\n",
    "    plt.show()\n"
   ]
  },
  {
   "cell_type": "code",
   "execution_count": null,
   "metadata": {},
   "outputs": [],
   "source": []
  },
  {
   "cell_type": "code",
   "execution_count": null,
   "metadata": {},
   "outputs": [],
   "source": []
  }
 ],
 "metadata": {
  "interpreter": {
   "hash": "88435282e7afd386f137f5bf71124f6ca50142be149f9ca18724b5a580de610c"
  },
  "kernelspec": {
   "display_name": "Python 3.7.9 64-bit ('python3.7env': conda)",
   "language": "python",
   "name": "python3"
  },
  "language_info": {
   "codemirror_mode": {
    "name": "ipython",
    "version": 3
   },
   "file_extension": ".py",
   "mimetype": "text/x-python",
   "name": "python",
   "nbconvert_exporter": "python",
   "pygments_lexer": "ipython3",
   "version": "3.8.12"
  },
  "orig_nbformat": 2
 },
 "nbformat": 4,
 "nbformat_minor": 2
}
