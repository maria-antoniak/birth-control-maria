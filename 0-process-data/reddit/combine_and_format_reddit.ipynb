{
 "cells": [
  {
   "cell_type": "code",
   "execution_count": 1,
   "metadata": {},
   "outputs": [],
   "source": [
    "from collections import defaultdict\n",
    "from datetime import datetime\n",
    "import dill\n",
    "from itertools import permutations, combinations\n",
    "import json\n",
    "from operator import itemgetter\n",
    "import os\n",
    "import pickle\n",
    "import random\n",
    "import re\n",
    "import time\n",
    "\n",
    "import numpy as np\n",
    "import pandas as pd\n",
    "from sklearn.cluster import KMeans\n",
    "\n",
    "%matplotlib inline\n",
    "import matplotlib.pyplot as plt\n",
    "import seaborn as sns\n",
    "from adjustText import adjust_text\n",
    "sns.set(style='ticks', font_scale=1.2)\n",
    "\n",
    "import little_mallet_wrapper as lmw"
   ]
  },
  {
   "cell_type": "code",
   "execution_count": 2,
   "metadata": {},
   "outputs": [],
   "source": [
    "scraped_directory_path = '/Volumes/Passport-1/data/birth-control/reddit/scraped'\n",
    "data_directory_path   = '/Volumes/Passport-1/data/birth-control'"
   ]
  },
  {
   "cell_type": "markdown",
   "metadata": {},
   "source": [
    "<br><br><br><br>\n",
    "\n",
    "# Extract pill keywords from WebMD"
   ]
  },
  {
   "cell_type": "code",
   "execution_count": 73,
   "metadata": {},
   "outputs": [
    {
     "data": {
      "text/plain": [
       "\"'sprintec', 'yaz', 'tri-sprintec', 'loestrin', 'lo-loestrin-fe', 'trinessa', 'junel-fe', 'generess-fe', 'mononessa', 'seasonique', 'azurette', 'minastrin', 'beyaz', 'ocella', 'lutera', 'ortho-tri-cyclen-lo', 'microgestin-fe', 'loryna', 'errin', 'gildess-fe', 'sronyx', 'necon', 'tri-previfem', 'cryselle', 'yasmin', 'viorele', 'jolivette', 'aviane', 'natazia', 'reclipsen', 'apri', 'ortho-tri-cyclen', 'femcon-fe-tablet-chewable', 'camila', 'jolessa', 'amethia', 'kariva', 'nora-be', 'quasense', 'ortho-cyclen', 'junel-fe', 'gianvi', 'low-ogestrel', 'microgestin-fe', 'lybrel', 'enpresse', 'ortho-micronor', 'tri-estarylla', 'loseasonique', 'trivora', 'balziva', 'alesse', 'aubra', 'vestura', 'lo-ovral', 'nortrel', 'camrese', 'levora', 'portia', 'chateal', 'zovia', 'orsythia', 'tri-lo-sprintec', 'nortrel', 'levora', 'mono-linyah', 'microgestin', 'junel', 'norethindrone', 'previfem', 'nikki', 'syeda', 'lessina', 'zenchent', 'tarina-fe', 'loestrin-fe', 'falmina', 'tri-linyah', 'tilia-fe', 'vienva', 'introvale', 'lomedia', 'desogen-tablet', 'norgestimate-ethinyl-estradiol', 'emoquette', 'alyacen', 'quartette', 'altavera', 'daysee', 'kelnor', 'necon-triphasic', 'amethyst', 'nor-q-d-tablet', 'junel', 'mircette', 'safyral', 'caziant', 'micronor', 'enskyce', 'estarylla', 'heather', 'tri-legest-fe', 'zarah', 'nortrel-triphasic', 'levlen', 'amethia-lo', 'ashlyna', 'ortho-tri-cyclen', 'blisovi-fe', 'microgestin', 'lyza', 'camrese-lo', 'loestrin', 'solia-tablet', 'kurvelo', 'levonorgestrel-ec', 'ortho-novum', 'ortho-novum-triphasic', 'cyclafem', 'myzilra', 'necon', 'norinyl', 'estrostep-fe', 'velivet', 'ovcon', 'cyclessa', 'ovcon', 'marlissa', 'sharobel', 'ortho-cept', 'ortho-cyclen', 'loestrin-fe', 'zeosa-tablet-chewable', 'pimtrea', 'gildess', 'dasetta', 'necon', 'norgestrel-ethiny-estra', 'leena', 'larin-fe', 'triphasil', 'levora', 'larissia', 'loestrin', 'nordette', 'desogestrel-ethinyl-estradiol', 'vyfemla', 'zenchent-fe', 'ogestrel', 'low-ogestrel', 'necon', 'norethindron-ethinyl-estradiol-tablet-contraceptives', 'nortrel', 'demulen', 'dasetta-triphasic', 'tri-norinyl', 'tri-levlen', 'blisovi', 'zovia', 'isibloom', 'alesse', 'tri sprintec', 'lo loestrin fe', 'junel fe', 'generess fe', 'ortho tri cyclen lo', 'microgestin fe', 'gildess fe', 'tri previfem', 'ortho tri cyclen', 'femcon fe tablet chewable', 'nora be', 'ortho cyclen', 'junel fe', 'low ogestrel', 'microgestin fe', 'ortho micronor', 'tri estarylla', 'lo ovral', 'tri lo sprintec', 'mono linyah', 'tarina fe', 'loestrin fe', 'tri linyah', 'tilia fe', 'desogen tablet', 'norgestimate ethinyl estradiol', 'necon triphasic', 'nor q d tablet', 'tri legest fe', 'nortrel triphasic', 'amethia lo', 'ortho tri cyclen', 'blisovi fe', 'camrese lo', 'solia tablet', 'levonorgestrel ec', 'ortho novum', 'ortho novum triphasic', 'estrostep fe', 'ortho cept', 'ortho cyclen', 'loestrin fe', 'zeosa tablet chewable', 'norgestrel ethiny estra', 'larin fe', 'desogestrel ethinyl estradiol', 'zenchent fe', 'low ogestrel', 'norethindron ethinyl estradiol tablet contraceptives', 'dasetta triphasic', 'tri norinyl', 'tri levlen'\""
      ]
     },
     "execution_count": 73,
     "metadata": {},
     "output_type": "execute_result"
    }
   ],
   "source": [
    "webmd_pill_keywords = ['sprintec', 'yaz', 'tri-sprintec', 'loestrin', 'lo-loestrin-fe', 'trinessa', 'junel-fe', 'generess-fe', 'mononessa', 'seasonique', 'azurette', \n",
    "                       'minastrin', 'beyaz', 'ocella', 'lutera', 'ortho-tri-cyclen-lo', 'microgestin-fe', 'loryna', 'errin', 'gildess-fe', 'sronyx', 'necon', \n",
    "                       'tri-previfem', 'cryselle', 'yasmin', 'viorele', 'jolivette', 'aviane', 'natazia', 'reclipsen', 'apri', 'ortho-tri-cyclen', \n",
    "                       'femcon-fe-tablet-chewable', 'camila', 'jolessa', 'amethia', 'kariva', 'nora-be', 'quasense', 'ortho-cyclen', 'junel-fe', 'gianvi', 'low-ogestrel', \n",
    "                       'microgestin-fe', 'lybrel', 'enpresse', 'ortho-micronor', 'tri-estarylla', 'loseasonique', 'trivora', 'balziva', 'alesse', 'aubra', 'vestura', \n",
    "                       'lo-ovral', 'nortrel', 'camrese', 'levora', 'portia', 'chateal', 'zovia', 'orsythia', 'tri-lo-sprintec', 'nortrel', 'levora', 'mono-linyah', \n",
    "                       'microgestin', 'junel', 'norethindrone', 'previfem', 'nikki', 'syeda', 'lessina', 'zenchent', 'tarina-fe', 'loestrin-fe', 'falmina', 'tri-linyah', \n",
    "                       'tilia-fe', 'vienva', 'introvale', 'lomedia', 'desogen-tablet', 'norgestimate-ethinyl-estradiol', 'emoquette', 'alyacen', 'quartette', 'altavera', \n",
    "                       'daysee', 'kelnor', 'necon-triphasic', 'amethyst', 'nor-q-d-tablet', 'junel', 'mircette', 'safyral', 'caziant', 'micronor', 'enskyce', 'estarylla', \n",
    "                       'heather', 'tri-legest-fe', 'zarah', 'nortrel-triphasic', 'levlen', 'amethia-lo', 'ashlyna', 'ortho-tri-cyclen', 'blisovi-fe', 'microgestin', 'lyza', \n",
    "                       'camrese-lo', 'loestrin', 'solia-tablet', 'kurvelo', 'levonorgestrel-ec', 'ortho-novum', 'ortho-novum-triphasic', 'cyclafem', 'myzilra', 'necon', \n",
    "                       'norinyl', 'estrostep-fe', 'velivet', 'ovcon', 'cyclessa', 'ovcon', 'marlissa', 'sharobel', 'ortho-cept', 'ortho-cyclen', 'loestrin-fe', \n",
    "                       'zeosa-tablet-chewable', 'pimtrea', 'gildess', 'dasetta', 'necon', 'norgestrel-ethiny-estra', 'leena', 'larin-fe', 'triphasil', 'levora', 'larissia', \n",
    "                       'loestrin', 'nordette', 'desogestrel-ethinyl-estradiol', 'vyfemla', 'zenchent-fe', 'ogestrel', 'low-ogestrel', 'necon', 'norethindron-ethinyl-estradiol-tablet-contraceptives', \n",
    "                       'nortrel', 'demulen', 'dasetta-triphasic', 'tri-norinyl', 'tri-levlen', 'blisovi', 'zovia', 'isibloom', 'alesse']\n",
    "webmd_pill_keywords += [n.replace('-', ' ') for n in webmd_pill_keywords if '-' in n]\n",
    "\n",
    "', '.join([\"'\" + n + \"'\" for n in webmd_pill_keywords])"
   ]
  },
  {
   "cell_type": "code",
   "execution_count": 72,
   "metadata": {},
   "outputs": [
    {
     "data": {
      "text/plain": [
       "\"'oral contracept', 'oral birth control', 'pill', 'pills', 'minipill', 'levonorgestrel', 'femcon', 'desogestrel', 'larin', 'norgestimate', 'zeosa', 'tilia', 'desogen', 'nor', 'generess', 'norgestrel', 'estrostep', 'tarina', 'solia', 'loestren', 'loloestrin', 'gedarel', 'pack', 'placebo', 'tri cyclen', 'tricyclen', 'linessa', 'taytulla', 'lolo', 'tri jordyna', 'trijordyna'\""
      ]
     },
     "execution_count": 72,
     "metadata": {},
     "output_type": "execute_result"
    }
   ],
   "source": [
    "remaining_reddit_pill_keywords = []\n",
    "for _keyword in type_keywords_dict['pill']:\n",
    "    if _keyword not in webmd_pill_keywords:\n",
    "        remaining_reddit_pill_keywords.append(_keyword)\n",
    "', '.join([\"'\" + n + \"'\" for n in remaining_reddit_pill_keywords])"
   ]
  },
  {
   "cell_type": "markdown",
   "metadata": {},
   "source": [
    "<br><br><br><br>\n",
    "\n",
    "# Final keywords"
   ]
  },
  {
   "cell_type": "code",
   "execution_count": 295,
   "metadata": {},
   "outputs": [],
   "source": [
    "type_keywords_dict = {'iud': ['iud', 'mirena', 'skyla', 'liletta', 'paragard', 'paraguard', 'kyleena', 'copper', 'coil'], \n",
    "                      'implant': ['implanon', 'nexplanon', 'implant', 'norplant'],\n",
    "                      'ring': ['nuvaring', 'etonogestrel', 'ring', 'nuva ring'], \n",
    "                      'shot': ['shot',  'inject', 'injection', 'depo', 'provera', 'depoprovera'], \n",
    "                      'patch': ['ortho evra', 'xulane', 'patch'],\n",
    "                      'pill': ['oral contracept', 'oral birth control', 'pill', 'pills', 'minipill', 'levonorgestrel', 'femcon', 'desogestrel', 'larin', 'norgestimate', \n",
    "                               'zeosa', 'tilia', 'desogen', 'nor', 'generess', 'norgestrel', 'estrostep', 'tarina', 'solia', 'loestren', 'loloestrin', 'gedarel', 'pack', \n",
    "                               'placebo', 'tri cyclen', 'tricyclen', 'linessa', 'taytulla', 'lolo', 'tri jordyna', 'trijordyna',\n",
    "                               'sprintec', 'yaz', 'tri-sprintec', 'loestrin', 'lo-loestrin-fe', 'trinessa', 'junel-fe', 'generess-fe', 'mononessa', 'seasonique', 'azurette', \n",
    "                               'minastrin', 'beyaz', 'ocella', 'lutera', 'ortho-tri-cyclen-lo', 'microgestin-fe', 'loryna', 'errin', 'gildess-fe', 'sronyx', 'necon', \n",
    "                               'tri-previfem', 'cryselle', 'yasmin', 'viorele', 'jolivette', 'aviane', 'natazia', 'reclipsen', 'apri', 'ortho-tri-cyclen', 'femcon-fe-tablet-chewable', \n",
    "                               'camila', 'jolessa', 'amethia', 'kariva', 'nora-be', 'quasense', 'ortho-cyclen', 'junel-fe', 'gianvi', 'low-ogestrel', 'microgestin-fe', \n",
    "                               'lybrel', 'enpresse', 'ortho-micronor', 'tri-estarylla', 'loseasonique', 'trivora', 'balziva', 'alesse', 'aubra', 'vestura', 'lo-ovral', 'nortrel', \n",
    "                               'camrese', 'levora', 'portia', 'chateal', 'zovia', 'orsythia', 'tri-lo-sprintec', 'nortrel', 'levora', 'mono-linyah', 'microgestin', 'junel', \n",
    "                               'norethindrone', 'previfem', 'nikki', 'syeda', 'lessina', 'zenchent', 'tarina-fe', 'loestrin-fe', 'falmina', 'tri-linyah', 'tilia-fe', 'vienva', \n",
    "                               'introvale', 'lomedia', 'desogen-tablet', 'norgestimate-ethinyl-estradiol', 'emoquette', 'alyacen', 'quartette', 'altavera', 'daysee', 'kelnor', \n",
    "                               'necon-triphasic', 'amethyst', 'nor-q-d-tablet', 'junel', 'mircette', 'safyral', 'caziant', 'micronor', 'enskyce', 'estarylla', 'heather', \n",
    "                               'tri-legest-fe', 'zarah', 'nortrel-triphasic', 'levlen', 'amethia-lo', 'ashlyna', 'ortho-tri-cyclen', 'blisovi-fe', 'microgestin', 'lyza', 'camrese-lo', \n",
    "                               'loestrin', 'solia-tablet', 'kurvelo', 'levonorgestrel-ec', 'ortho-novum', 'ortho-novum-triphasic', 'cyclafem', 'myzilra', 'necon', 'norinyl', \n",
    "                               'estrostep-fe', 'velivet', 'ovcon', 'cyclessa', 'ovcon', 'marlissa', 'sharobel', 'ortho-cept', 'ortho-cyclen', 'loestrin-fe', 'zeosa-tablet-chewable', \n",
    "                               'pimtrea', 'gildess', 'dasetta', 'necon', 'norgestrel-ethiny-estra', 'leena', 'larin-fe', 'triphasil', 'levora', 'larissia', 'loestrin', 'nordette', \n",
    "                               'desogestrel-ethinyl-estradiol', 'vyfemla', 'zenchent-fe', 'ogestrel', 'low-ogestrel', 'necon', 'norethindron-ethinyl-estradiol-tablet-contraceptives', \n",
    "                               'nortrel', 'demulen', 'dasetta-triphasic', 'tri-norinyl', 'tri-levlen', 'blisovi', 'zovia', 'isibloom', 'alesse', 'tri sprintec', 'lo loestrin fe', \n",
    "                               'junel fe', 'generess fe', 'ortho tri cyclen lo', 'microgestin fe', 'gildess fe', 'tri previfem', 'ortho tri cyclen', 'femcon fe tablet chewable', \n",
    "                               'nora be', 'ortho cyclen', 'junel fe', 'low ogestrel', 'microgestin fe', 'ortho micronor', 'tri estarylla', 'lo ovral', 'tri lo sprintec', 'mono linyah', \n",
    "                               'tarina fe', 'loestrin fe', 'tri linyah', 'tilia fe', 'desogen tablet', 'norgestimate ethinyl estradiol', 'necon triphasic', 'nor q d tablet', \n",
    "                               'tri legest fe', 'nortrel triphasic', 'amethia lo', 'ortho tri cyclen', 'blisovi fe', 'camrese lo', 'solia tablet', 'levonorgestrel ec', 'ortho novum', \n",
    "                               'ortho novum triphasic', 'estrostep fe', 'ortho cept', 'ortho cyclen', 'loestrin fe', 'zeosa tablet chewable', 'norgestrel ethiny estra', 'larin fe', \n",
    "                               'desogestrel ethinyl estradiol', 'zenchent fe', 'low ogestrel', 'norethindron ethinyl estradiol tablet contraceptives', 'dasetta triphasic', 'tri norinyl', 'tri levlen'],\n",
    "                     'emergency': ['plan b', 'emergency contraception', 'morning after', 'morningafter', 'norlevo'],\n",
    "                     'barrier': ['condom', 'condoms', 'diaphragm', 'diaphram', 'barrier', 'spermicide', 'cap', 'sponge', 'vcf', 'encare', 'conceptrol', 'foam', 'film'],\n",
    "                     'sterilization': ['sterilize', 'sterilization', 'sterilise', 'sterilisation', 'tubes tied', 'tie my tubes', 'vasectomy'],\n",
    "                     'withdrawal': ['withdrawal', 'withdraw', 'pull out'],\n",
    "                     'ring': ['ring', 'nuvaring'],\n",
    "                     'periodic abstinence': ['rhythm method', 'natural family planning', 'nfp', 'fam', 'fertility awareness', \n",
    "                                             'symptothermal', 'sympto-thermal', 'sympto thermal', 'basal body', 'natural cycles',\n",
    "                                             'calendar method', 'bbt', 'cervical mucus method', 'kindara', 'fertility tracking']}\n",
    "\n",
    "for _type in type_keywords_dict.keys():\n",
    "    type_keywords_dict[_type] = list(set(type_keywords_dict[_type]))\n",
    "\n",
    "for _type, _words in type_keywords_dict.items():\n",
    "    assert len(_words) == len(list(set(_words)))\n",
    "  "
   ]
  },
  {
   "cell_type": "code",
   "execution_count": 299,
   "metadata": {},
   "outputs": [
    {
     "name": "stdout",
     "output_type": "stream",
     "text": [
      "iud\n",
      "coil, copper, iud, kyleena, liletta, mirena, paragard, paraguard, skyla\n",
      "\n",
      "implant\n",
      "implanon, implant, nexplanon, norplant\n",
      "\n",
      "ring\n",
      "nuvaring, ring\n",
      "\n",
      "shot\n",
      "depo, depoprovera, inject, injection, provera, shot\n",
      "\n",
      "patch\n",
      "ortho evra, patch, xulane\n",
      "\n",
      "pill\n",
      "alesse, altavera, alyacen, amethia, amethia lo, amethia-lo, amethyst, apri, ashlyna, aubra, aviane, azurette, balziva, beyaz, blisovi, blisovi fe, blisovi-fe, camila, camrese, camrese lo, camrese-lo, caziant, chateal, cryselle, cyclafem, cyclessa, dasetta, dasetta triphasic, dasetta-triphasic, daysee, demulen, desogen, desogen tablet, desogen-tablet, desogestrel, desogestrel ethinyl estradiol, desogestrel-ethinyl-estradiol, emoquette, enpresse, enskyce, errin, estarylla, estrostep, estrostep fe, estrostep-fe, falmina, femcon, femcon fe tablet chewable, femcon-fe-tablet-chewable, gedarel, generess, generess fe, generess-fe, gianvi, gildess, gildess fe, gildess-fe, heather, introvale, isibloom, jolessa, jolivette, junel, junel fe, junel-fe, kariva, kelnor, kurvelo, larin, larin fe, larin-fe, larissia, leena, lessina, levlen, levonorgestrel, levonorgestrel ec, levonorgestrel-ec, levora, linessa, lo loestrin fe, lo ovral, lo-loestrin-fe, lo-ovral, loestren, loestrin, loestrin fe, loestrin-fe, lolo, loloestrin, lomedia, loryna, loseasonique, low ogestrel, low-ogestrel, lutera, lybrel, lyza, marlissa, microgestin, microgestin fe, microgestin-fe, micronor, minastrin, minipill, mircette, mono linyah, mono-linyah, mononessa, myzilra, natazia, necon, necon triphasic, necon-triphasic, nikki, nor, nor q d tablet, nor-q-d-tablet, nora be, nora-be, nordette, norethindron ethinyl estradiol tablet contraceptives, norethindron-ethinyl-estradiol-tablet-contraceptives, norethindrone, norgestimate, norgestimate ethinyl estradiol, norgestimate-ethinyl-estradiol, norgestrel, norgestrel ethiny estra, norgestrel-ethiny-estra, norinyl, nortrel, nortrel triphasic, nortrel-triphasic, ocella, ogestrel, oral birth control, oral contracept, orsythia, ortho cept, ortho cyclen, ortho micronor, ortho novum, ortho novum triphasic, ortho tri cyclen, ortho tri cyclen lo, ortho-cept, ortho-cyclen, ortho-micronor, ortho-novum, ortho-novum-triphasic, ortho-tri-cyclen, ortho-tri-cyclen-lo, ovcon, pack, pill, pills, pimtrea, placebo, portia, previfem, quartette, quasense, reclipsen, safyral, seasonique, sharobel, solia, solia tablet, solia-tablet, sprintec, sronyx, syeda, tarina, tarina fe, tarina-fe, taytulla, tilia, tilia fe, tilia-fe, tri cyclen, tri estarylla, tri jordyna, tri legest fe, tri levlen, tri linyah, tri lo sprintec, tri norinyl, tri previfem, tri sprintec, tri-estarylla, tri-legest-fe, tri-levlen, tri-linyah, tri-lo-sprintec, tri-norinyl, tri-previfem, tri-sprintec, tricyclen, trijordyna, trinessa, triphasil, trivora, velivet, vestura, vienva, viorele, vyfemla, yasmin, yaz, zarah, zenchent, zenchent fe, zenchent-fe, zeosa, zeosa tablet chewable, zeosa-tablet-chewable, zovia\n",
      "\n",
      "emergency\n",
      "emergency contraception, morning after, morningafter, norlevo, plan b\n",
      "\n",
      "barrier\n",
      "barrier, cap, conceptrol, condom, condoms, diaphragm, diaphram, encare, film, foam, spermicide, sponge, vcf\n",
      "\n",
      "sterilization\n",
      "sterilisation, sterilise, sterilization, sterilize, tie my tubes, tubes tied, vasectomy\n",
      "\n",
      "withdrawal\n",
      "pull out, withdraw, withdrawal\n",
      "\n",
      "periodic abstinence\n",
      "basal body, bbt, calendar method, cervical mucus method, fam, fertility awareness, fertility tracking, kindara, natural cycles, natural family planning, nfp, rhythm method, sympto thermal, sympto-thermal, symptothermal\n",
      "\n"
     ]
    }
   ],
   "source": [
    "for _type, _keywords in type_keywords_dict.items():\n",
    "    print(_type)\n",
    "    print(', '.join(sorted(_keywords)))\n",
    "    print()"
   ]
  },
  {
   "cell_type": "markdown",
   "metadata": {},
   "source": [
    "<br><br>\n",
    "\n",
    "# Functions"
   ]
  },
  {
   "cell_type": "code",
   "execution_count": 507,
   "metadata": {},
   "outputs": [],
   "source": [
    "def get_type_from_post(r):\n",
    "\n",
    "    test_tokens = r['tokens_text'].split()\n",
    "\n",
    "    # Count how many times each type appears in the text\n",
    "    type_count_dict = defaultdict(int)\n",
    "    for _type, _keywords in type_keywords_dict.items():\n",
    "        for _word in _keywords:\n",
    "            if len(_word.split()) == 1:\n",
    "                type_count_dict[_type] += len([t for t in test_tokens if t == _word])\n",
    "            elif len(_word.split()) > 1:\n",
    "                type_count_dict[_type] += len(re.findall(_word, ' '.join(test_tokens)))\n",
    "\n",
    "    # Get the maximum number of times any type appears in the text\n",
    "    max_count = max(type_count_dict.values())\n",
    "\n",
    "    # If there were any type mentions, get the types with the most mentions and randomly return one of them (to break ties)\n",
    "    if max_count != 0:\n",
    "        max_keys = {k for k, v in type_count_dict.items() if v == max_count}\n",
    "        if len(max_keys) > 1:\n",
    "            return 'combo' + '_' + '_'.join(sorted(list(max_keys)))\n",
    "        return list(max_keys)[0]\n",
    "        # return random.sample(max_keys, 1)[0]\n",
    "\n",
    "    # If there were no type mentions at all, return this\n",
    "    return 'unknown'\n",
    "\n",
    "\n",
    "# def get_all_types_from_post(r):\n",
    "    \n",
    "#     test_tokens = r['tokens_text'].split()\n",
    "\n",
    "#     # Count how many times each type appears in the text\n",
    "#     type_count_dict = defaultdict(int)\n",
    "#     for _type, _keywords in type_keywords_dict.items():\n",
    "#         for _word in _keywords:\n",
    "#             if len(_word.split()) == 1:\n",
    "#                 type_count_dict[_type] += len([t for t in test_tokens if t == _word])\n",
    "#             elif len(_word.split()) > 1:\n",
    "#                 type_count_dict[_type] += len(re.findall(_word, ' '.join(test_tokens)))\n",
    "\n",
    "#     if len(type_count_dict) > 0:\n",
    "#         return list(set([_type for _type, _count in type_count_dict.items() if _count > 0]))\n",
    "\n",
    "#     # If there were no type mentions at all, return this\n",
    "#     return 'unknown'"
   ]
  },
  {
   "cell_type": "code",
   "execution_count": 540,
   "metadata": {},
   "outputs": [],
   "source": [
    "def get_type_from_comment(r):\n",
    "\n",
    "    test_tokens = str(r['tokens_text']).split()\n",
    "\n",
    "    # Count how many times each type appears in the text\n",
    "    type_count_dict = defaultdict(int)\n",
    "    for _type, _keywords in type_keywords_dict.items():\n",
    "        for _word in _keywords:\n",
    "            if len(_word.split()) == 1:\n",
    "                type_count_dict[_type] += len([t for t in test_tokens if t == _word])\n",
    "            elif len(_word.split()) > 1:\n",
    "                type_count_dict[_type] += len(re.findall(_word, ' '.join(test_tokens)))\n",
    "\n",
    "    # Get the maximum number of times any type appears in the text \n",
    "    max_count = max(type_count_dict.values())\n",
    "    if max_count != 0:\n",
    "        max_keys = {k for k, v in type_count_dict.items() if v == max_count}\n",
    "        if len(max_keys) > 1:\n",
    "            return 'combo' + '_' + '_'.join(sorted(list(max_keys)))\n",
    "        return list(max_keys)[0]\n",
    "\n",
    "    # If no assignment, then assign to parent post type\n",
    "    # elif len(str(r['parent_id']).split('_')) > 1:\n",
    "    #     parent_id = str(r['parent_id']).split('_')[1] \n",
    "    #     if parent_id in post_type_dict:\n",
    "    #         return post_type_dict[parent_id]\n",
    "    # elif str(r['id']) in comment_parent_dict and comment_parent_dict[str(r['id'])] in post_type_dict:\n",
    "    #     return post_type_dict[comment_parent_dict[str(r['id'])]]\n",
    "\n",
    "    # If there were no type mentions at all, and the parent post couldn't be found, return this \n",
    "    return 'unknown'\n",
    "\n",
    "\n",
    "def get_parent_type(r):\n",
    "\n",
    "    if str(r['id']) in comment_parent_dict and comment_parent_dict[str(r['id'])] in post_type_dict:\n",
    "        return post_type_dict[comment_parent_dict[str(r['id'])]]\n",
    "\n",
    "    return 'unknown'\n",
    "\n",
    "\n",
    "# def get_all_types_from_comment(r):\n",
    "\n",
    "#     test_tokens = str(r['tokens_text']).split()\n",
    "\n",
    "#     # Count how many times each type appears in the text\n",
    "#     type_count_dict = defaultdict(int)\n",
    "#     for _type, _keywords in type_keywords_dict.items():\n",
    "#         for _word in _keywords:\n",
    "#             if len(_word.split()) == 1:\n",
    "#                 type_count_dict[_type] += len([t for t in test_tokens if t == _word])\n",
    "#             elif len(_word.split()) > 1:\n",
    "#                 type_count_dict[_type] += len(re.findall(_word, ' '.join(test_tokens)))\n",
    "\n",
    "#     # If found any types, return them\n",
    "#     if len(type_count_dict) > 0:\n",
    "#         return list(set([_type for _type, _count in type_count_dict.items() if _count > 0]))\n",
    "\n",
    "#     # If there were no type mentions at all, and the parent post couldn't be found, return this \n",
    "#     return 'unknown'"
   ]
  },
  {
   "cell_type": "code",
   "execution_count": 78,
   "metadata": {},
   "outputs": [],
   "source": [
    "def get_year(x):\n",
    "    try:\n",
    "        return datetime.utcfromtimestamp(int(x)).year\n",
    "    except:\n",
    "        return 'Unknown'"
   ]
  },
  {
   "cell_type": "code",
   "execution_count": 79,
   "metadata": {},
   "outputs": [],
   "source": [
    "def get_month(x):\n",
    "    try:\n",
    "        return datetime.utcfromtimestamp(int(x)).month\n",
    "    except:\n",
    "        return 'Unknown'"
   ]
  },
  {
   "cell_type": "code",
   "execution_count": 80,
   "metadata": {},
   "outputs": [],
   "source": [
    "def get_tokens(r):\n",
    "    if 'title' in r:\n",
    "        return lmw.process_string(str(r['title']), remove_short_words=False) + ' ' + lmw.process_string(str(r['selftext']), remove_short_words=False)\n",
    "    return lmw.process_string(str(r['selftext']), remove_short_words=False)\n",
    "\n",
    "def get_tokens_from_comment(r):\n",
    "    return lmw.process_string(str(r['body']), remove_short_words=False)"
   ]
  },
  {
   "cell_type": "markdown",
   "metadata": {},
   "source": [
    "<br><br>\n",
    "\n",
    "# **Process posts**"
   ]
  },
  {
   "cell_type": "markdown",
   "metadata": {},
   "source": [
    "### Load scraped posts"
   ]
  },
  {
   "cell_type": "code",
   "execution_count": 511,
   "metadata": {},
   "outputs": [
    {
     "data": {
      "text/plain": [
       "94153"
      ]
     },
     "execution_count": 511,
     "metadata": {},
     "output_type": "execute_result"
    }
   ],
   "source": [
    "posts_df_list = []\n",
    "for _subdir, _dirs, _files in os.walk(scraped_directory_path + '/posts'):\n",
    "    for _file_name in _files:\n",
    "        if _file_name.endswith('.csv'):\n",
    "            posts_df_list.append(pd.read_csv(_subdir + '/' + _file_name))\n",
    "\n",
    "posts_df = pd.concat(posts_df_list)\n",
    "len(posts_df.index)"
   ]
  },
  {
   "cell_type": "markdown",
   "metadata": {},
   "source": [
    "### Get tokenized text"
   ]
  },
  {
   "cell_type": "code",
   "execution_count": 512,
   "metadata": {},
   "outputs": [],
   "source": [
    "posts_df['selftext'] = posts_df['selftext'].astype(str)\n",
    "posts_df['tokens_text'] = posts_df.apply(get_tokens, axis=1)"
   ]
  },
  {
   "cell_type": "code",
   "execution_count": 484,
   "metadata": {},
   "outputs": [],
   "source": [
    "# word_count_dict = defaultdict(int)\n",
    "\n",
    "# for i, r in posts_df.iterrows():\n",
    "\n",
    "#     test_tokens = r['tokens_text'].split()\n",
    "\n",
    "#     # Count how many times each type appears in the text\n",
    "#     for _word in type_keywords_dict['pill']:\n",
    "#         if len(_word.split()) == 1:\n",
    "#             word_count_dict[_word] += len([t for t in test_tokens if t == _word])\n",
    "#         elif len(_word.split()) > 1:\n",
    "#             word_count_dict[_word] += len(re.findall(_word, ' '.join(test_tokens)))\n",
    "\n",
    "# found_words = []\n",
    "# for _word, _count in sorted(word_count_dict.items(), key=lambda x: x[1], reverse=True):\n",
    "#     if _count > 0:\n",
    "#         found_words.append(_word)\n",
    "# ', '.join(sorted(found_words))"
   ]
  },
  {
   "cell_type": "code",
   "execution_count": 496,
   "metadata": {},
   "outputs": [],
   "source": [
    "# test_tokens = lmw.process_string('pill something').split()\n",
    "\n",
    "# # Count how many times each type appears in the text\n",
    "# type_count_dict = defaultdict(int)\n",
    "# for _type, _keywords in type_keywords_dict.items():\n",
    "#     for _word in _keywords:\n",
    "#         if len(_word.split()) == 1:\n",
    "#             type_count_dict[_type] += len([t for t in test_tokens if t == _word])\n",
    "#         elif len(_word.split()) > 1:\n",
    "#             type_count_dict[_type] += len(re.findall(_word, ' '.join(test_tokens)))\n",
    "\n",
    "# # Get the maximum number of times any type appears in the text\n",
    "# max_count = max(type_count_dict.values())\n",
    "\n",
    "# # If there were any type mentions, get the types with the most mentions and randomly return one of them (to break ties)\n",
    "# if max_count != 0:\n",
    "#     max_keys = {k for k, v in type_count_dict.items() if v == max_count}\n",
    "#     if len(max_keys) > 1:\n",
    "#         print('combo')\n",
    "#     print(list(max_keys)[0])\n",
    "#     # return random.sample(max_keys, 1)[0]\n",
    "\n",
    "# # If there were no type mentions at all, return this\n",
    "# print('unknown')"
   ]
  },
  {
   "cell_type": "markdown",
   "metadata": {},
   "source": [
    "### Get birth control type from post text, dropping posts that don't have a type or that aren't in our three target types"
   ]
  },
  {
   "cell_type": "code",
   "execution_count": 513,
   "metadata": {},
   "outputs": [],
   "source": [
    "posts_df['text_type'] = posts_df.apply(get_type_from_post, axis=1)"
   ]
  },
  {
   "cell_type": "code",
   "execution_count": 516,
   "metadata": {},
   "outputs": [
    {
     "data": {
      "text/plain": [
       "pill                                                        39217\n",
       "iud                                                         26274\n",
       "implant                                                      7782\n",
       "unknown                                                      4310\n",
       "shot                                                         3191\n",
       "ring                                                         2355\n",
       "barrier                                                      2329\n",
       "emergency                                                    1644\n",
       "patch                                                        1304\n",
       "combo_iud_pill                                               1020\n",
       "combo_barrier_pill                                            686\n",
       "combo_implant_pill                                            525\n",
       "combo_emergency_pill                                          343\n",
       "combo_implant_iud                                             326\n",
       "withdrawal                                                    235\n",
       "combo_pill_withdrawal                                         194\n",
       "combo_pill_shot                                               174\n",
       "combo_barrier_emergency                                       169\n",
       "combo_barrier_iud                                             162\n",
       "sterilization                                                 156\n",
       "combo_pill_ring                                               148\n",
       "combo_iud_shot                                                119\n",
       "combo_implant_shot                                            118\n",
       "periodic abstinence                                           102\n",
       "combo_iud_ring                                                 93\n",
       "combo_barrier_implant                                          91\n",
       "combo_barrier_emergency_pill                                   89\n",
       "combo_implant_iud_pill                                         75\n",
       "combo_patch_pill                                               64\n",
       "combo_emergency_iud                                            54\n",
       "combo_barrier_iud_pill                                         48\n",
       "combo_barrier_ring                                             34\n",
       "combo_iud_pill_ring                                            31\n",
       "combo_implant_ring                                             29\n",
       "combo_barrier_shot                                             25\n",
       "combo_iud_pill_shot                                            25\n",
       "combo_implant_patch                                            22\n",
       "combo_barrier_pill_withdrawal                                  22\n",
       "combo_ring_shot                                                22\n",
       "combo_barrier_withdrawal                                       21\n",
       "combo_emergency_implant                                        20\n",
       "combo_iud_sterilization                                        19\n",
       "combo_barrier_patch                                            19\n",
       "combo_implant_pill_shot                                        18\n",
       "combo_ring_withdrawal                                          16\n",
       "combo_iud_patch                                                15\n",
       "combo_pill_sterilization                                       15\n",
       "combo_barrier_implant_pill                                     15\n",
       "combo_patch_ring                                               14\n",
       "combo_barrier_periodic abstinence                              13\n",
       "combo_implant_pill_ring                                        13\n",
       "combo_implant_iud_pill_shot                                    12\n",
       "combo_barrier_pill_ring                                        12\n",
       "combo_periodic abstinence_pill                                 12\n",
       "combo_implant_iud_shot                                         12\n",
       "combo_emergency_withdrawal                                     11\n",
       "combo_emergency_ring                                           11\n",
       "combo_barrier_sterilization                                    10\n",
       "combo_patch_shot                                               10\n",
       "combo_barrier_implant_iud_pill                                  9\n",
       "combo_iud_periodic abstinence                                   9\n",
       "combo_barrier_pill_shot                                         8\n",
       "combo_iud_withdrawal                                            8\n",
       "combo_barrier_emergency_iud                                     8\n",
       "combo_pill_ring_shot                                            8\n",
       "combo_patch_pill_shot                                           7\n",
       "combo_periodic abstinence_withdrawal                            7\n",
       "combo_emergency_patch                                           7\n",
       "combo_patch_pill_ring                                           7\n",
       "combo_patch_withdrawal                                          6\n",
       "combo_barrier_periodic abstinence_pill                          6\n",
       "combo_barrier_implant_iud                                       6\n",
       "combo_implant_withdrawal                                        6\n",
       "combo_emergency_shot                                            5\n",
       "combo_emergency_iud_pill                                        5\n",
       "combo_iud_pill_withdrawal                                       4\n",
       "combo_iud_pill_ring_shot                                        4\n",
       "combo_implant_iud_ring                                          4\n",
       "combo_iud_patch_pill                                            4\n",
       "combo_iud_pill_sterilization                                    4\n",
       "combo_shot_sterilization                                        4\n",
       "combo_implant_sterilization                                     4\n",
       "combo_barrier_emergency_pill_withdrawal                         3\n",
       "combo_barrier_iud_patch                                         3\n",
       "combo_pill_ring_sterilization                                   3\n",
       "combo_implant_patch_ring                                        3\n",
       "combo_barrier_implant_pill_shot                                 3\n",
       "combo_barrier_patch_pill                                        3\n",
       "combo_barrier_patch_pill_ring                                   3\n",
       "combo_implant_iud_pill_ring_shot                                3\n",
       "combo_barrier_emergency_implant                                 3\n",
       "combo_implant_patch_pill_ring                                   3\n",
       "combo_barrier_ring_withdrawal                                   2\n",
       "combo_emergency_implant_iud                                     2\n",
       "combo_patch_pill_withdrawal                                     2\n",
       "combo_shot_withdrawal                                           2\n",
       "combo_emergency_implant_pill                                    2\n",
       "combo_implant_iud_pill_ring                                     2\n",
       "combo_barrier_emergency_iud_pill                                2\n",
       "combo_barrier_iud_sterilization                                 2\n",
       "combo_emergency_pill_withdrawal                                 2\n",
       "combo_implant_patch_pill                                        2\n",
       "combo_implant_pill_sterilization                                2\n",
       "combo_barrier_periodic abstinence_withdrawal                    2\n",
       "combo_iud_pill_shot_sterilization                               2\n",
       "combo_barrier_iud_periodic abstinence                           2\n",
       "combo_barrier_iud_withdrawal                                    2\n",
       "combo_iud_periodic abstinence_withdrawal                        2\n",
       "combo_implant_patch_pill_shot                                   2\n",
       "combo_iud_patch_pill_shot                                       2\n",
       "combo_barrier_patch_pill_ring_shot                              2\n",
       "combo_implant_iud_patch                                         2\n",
       "combo_implant_iud_patch_ring_shot                               1\n",
       "combo_barrier_implant_iud_pill_shot                             1\n",
       "combo_barrier_iud_patch_pill_ring_shot                          1\n",
       "combo_barrier_implant_iud_pill_sterilization                    1\n",
       "combo_barrier_pill_sterilization                                1\n",
       "combo_iud_periodic abstinence_shot                              1\n",
       "combo_pill_ring_withdrawal                                      1\n",
       "combo_barrier_shot_withdrawal                                   1\n",
       "combo_barrier_iud_pill_ring_sterilization                       1\n",
       "combo_implant_iud_pill_shot_withdrawal                          1\n",
       "combo_emergency_implant_withdrawal                              1\n",
       "combo_patch_pill_sterilization                                  1\n",
       "combo_barrier_emergency_pill_ring                               1\n",
       "combo_implant_pill_withdrawal                                   1\n",
       "combo_barrier_periodic abstinence_ring_withdrawal               1\n",
       "combo_emergency_pill_shot                                       1\n",
       "combo_implant_iud_patch_ring                                    1\n",
       "combo_iud_periodic abstinence_pill                              1\n",
       "combo_implant_iud_pill_sterilization                            1\n",
       "combo_pill_shot_withdrawal                                      1\n",
       "combo_barrier_implant_patch                                     1\n",
       "combo_barrier_emergency_shot                                    1\n",
       "combo_implant_periodic abstinence                               1\n",
       "combo_implant_iud_patch_pill_ring_shot                          1\n",
       "combo_pill_ring_shot_sterilization                              1\n",
       "combo_emergency_pill_ring                                       1\n",
       "combo_barrier_implant_iud_pill_ring                             1\n",
       "combo_implant_iud_patch_pill                                    1\n",
       "combo_iud_patch_ring                                            1\n",
       "combo_iud_patch_periodic abstinence_pill_shot                   1\n",
       "combo_barrier_iud_pill_sterilization                            1\n",
       "combo_barrier_implant_shot                                      1\n",
       "combo_implant_ring_shot                                         1\n",
       "combo_implant_iud_patch_pill_shot                               1\n",
       "combo_barrier_iud_pill_shot                                     1\n",
       "combo_implant_iud_patch_shot                                    1\n",
       "combo_barrier_iud_periodic abstinence_pill_sterilization        1\n",
       "combo_barrier_emergency_periodic abstinence_withdrawal          1\n",
       "combo_iud_ring_shot                                             1\n",
       "combo_periodic abstinence_shot                                  1\n",
       "combo_barrier_iud_shot                                          1\n",
       "combo_patch_pill_ring_withdrawal                                1\n",
       "combo_implant_iud_patch_pill_ring                               1\n",
       "combo_implant_iud_sterilization                                 1\n",
       "combo_barrier_emergency_iud_patch_pill_ring_shot                1\n",
       "combo_emergency_ring_withdrawal                                 1\n",
       "combo_barrier_implant_iud_periodic abstinence_pill              1\n",
       "combo_ring_sterilization                                        1\n",
       "Name: text_type, dtype: int64"
      ]
     },
     "execution_count": 516,
     "metadata": {},
     "output_type": "execute_result"
    }
   ],
   "source": [
    "pd.set_option(\"display.max_rows\", None)\n",
    "posts_df['text_type'].value_counts()"
   ]
  },
  {
   "cell_type": "code",
   "execution_count": 518,
   "metadata": {},
   "outputs": [
    {
     "data": {
      "text/plain": [
       "pill                                                        0.416524\n",
       "iud                                                         0.279056\n",
       "implant                                                     0.082653\n",
       "unknown                                                     0.045777\n",
       "shot                                                        0.033892\n",
       "ring                                                        0.025012\n",
       "barrier                                                     0.024736\n",
       "emergency                                                   0.017461\n",
       "patch                                                       0.013850\n",
       "combo_iud_pill                                              0.010833\n",
       "combo_barrier_pill                                          0.007286\n",
       "combo_implant_pill                                          0.005576\n",
       "combo_emergency_pill                                        0.003643\n",
       "combo_implant_iud                                           0.003462\n",
       "withdrawal                                                  0.002496\n",
       "combo_pill_withdrawal                                       0.002060\n",
       "combo_pill_shot                                             0.001848\n",
       "combo_barrier_emergency                                     0.001795\n",
       "combo_barrier_iud                                           0.001721\n",
       "sterilization                                               0.001657\n",
       "combo_pill_ring                                             0.001572\n",
       "combo_iud_shot                                              0.001264\n",
       "combo_implant_shot                                          0.001253\n",
       "periodic abstinence                                         0.001083\n",
       "combo_iud_ring                                              0.000988\n",
       "combo_barrier_implant                                       0.000967\n",
       "combo_barrier_emergency_pill                                0.000945\n",
       "combo_implant_iud_pill                                      0.000797\n",
       "combo_patch_pill                                            0.000680\n",
       "combo_emergency_iud                                         0.000574\n",
       "combo_barrier_iud_pill                                      0.000510\n",
       "combo_barrier_ring                                          0.000361\n",
       "combo_iud_pill_ring                                         0.000329\n",
       "combo_implant_ring                                          0.000308\n",
       "combo_barrier_shot                                          0.000266\n",
       "combo_iud_pill_shot                                         0.000266\n",
       "combo_implant_patch                                         0.000234\n",
       "combo_barrier_pill_withdrawal                               0.000234\n",
       "combo_ring_shot                                             0.000234\n",
       "combo_barrier_withdrawal                                    0.000223\n",
       "combo_emergency_implant                                     0.000212\n",
       "combo_iud_sterilization                                     0.000202\n",
       "combo_barrier_patch                                         0.000202\n",
       "combo_implant_pill_shot                                     0.000191\n",
       "combo_ring_withdrawal                                       0.000170\n",
       "combo_iud_patch                                             0.000159\n",
       "combo_pill_sterilization                                    0.000159\n",
       "combo_barrier_implant_pill                                  0.000159\n",
       "combo_patch_ring                                            0.000149\n",
       "combo_barrier_periodic abstinence                           0.000138\n",
       "combo_implant_pill_ring                                     0.000138\n",
       "combo_implant_iud_pill_shot                                 0.000127\n",
       "combo_barrier_pill_ring                                     0.000127\n",
       "combo_periodic abstinence_pill                              0.000127\n",
       "combo_implant_iud_shot                                      0.000127\n",
       "combo_emergency_withdrawal                                  0.000117\n",
       "combo_emergency_ring                                        0.000117\n",
       "combo_barrier_sterilization                                 0.000106\n",
       "combo_patch_shot                                            0.000106\n",
       "combo_barrier_implant_iud_pill                              0.000096\n",
       "combo_iud_periodic abstinence                               0.000096\n",
       "combo_barrier_pill_shot                                     0.000085\n",
       "combo_iud_withdrawal                                        0.000085\n",
       "combo_barrier_emergency_iud                                 0.000085\n",
       "combo_pill_ring_shot                                        0.000085\n",
       "combo_patch_pill_shot                                       0.000074\n",
       "combo_periodic abstinence_withdrawal                        0.000074\n",
       "combo_emergency_patch                                       0.000074\n",
       "combo_patch_pill_ring                                       0.000074\n",
       "combo_patch_withdrawal                                      0.000064\n",
       "combo_barrier_periodic abstinence_pill                      0.000064\n",
       "combo_barrier_implant_iud                                   0.000064\n",
       "combo_implant_withdrawal                                    0.000064\n",
       "combo_emergency_shot                                        0.000053\n",
       "combo_emergency_iud_pill                                    0.000053\n",
       "combo_iud_pill_withdrawal                                   0.000042\n",
       "combo_iud_pill_ring_shot                                    0.000042\n",
       "combo_implant_iud_ring                                      0.000042\n",
       "combo_iud_patch_pill                                        0.000042\n",
       "combo_iud_pill_sterilization                                0.000042\n",
       "combo_shot_sterilization                                    0.000042\n",
       "combo_implant_sterilization                                 0.000042\n",
       "combo_barrier_emergency_pill_withdrawal                     0.000032\n",
       "combo_barrier_iud_patch                                     0.000032\n",
       "combo_pill_ring_sterilization                               0.000032\n",
       "combo_implant_patch_ring                                    0.000032\n",
       "combo_barrier_implant_pill_shot                             0.000032\n",
       "combo_barrier_patch_pill                                    0.000032\n",
       "combo_barrier_patch_pill_ring                               0.000032\n",
       "combo_implant_iud_pill_ring_shot                            0.000032\n",
       "combo_barrier_emergency_implant                             0.000032\n",
       "combo_implant_patch_pill_ring                               0.000032\n",
       "combo_barrier_ring_withdrawal                               0.000021\n",
       "combo_emergency_implant_iud                                 0.000021\n",
       "combo_patch_pill_withdrawal                                 0.000021\n",
       "combo_shot_withdrawal                                       0.000021\n",
       "combo_emergency_implant_pill                                0.000021\n",
       "combo_implant_iud_pill_ring                                 0.000021\n",
       "combo_barrier_emergency_iud_pill                            0.000021\n",
       "combo_barrier_iud_sterilization                             0.000021\n",
       "combo_emergency_pill_withdrawal                             0.000021\n",
       "combo_implant_patch_pill                                    0.000021\n",
       "combo_implant_pill_sterilization                            0.000021\n",
       "combo_barrier_periodic abstinence_withdrawal                0.000021\n",
       "combo_iud_pill_shot_sterilization                           0.000021\n",
       "combo_barrier_iud_periodic abstinence                       0.000021\n",
       "combo_barrier_iud_withdrawal                                0.000021\n",
       "combo_iud_periodic abstinence_withdrawal                    0.000021\n",
       "combo_implant_patch_pill_shot                               0.000021\n",
       "combo_iud_patch_pill_shot                                   0.000021\n",
       "combo_barrier_patch_pill_ring_shot                          0.000021\n",
       "combo_implant_iud_patch                                     0.000021\n",
       "combo_implant_iud_patch_ring_shot                           0.000011\n",
       "combo_barrier_implant_iud_pill_shot                         0.000011\n",
       "combo_barrier_iud_patch_pill_ring_shot                      0.000011\n",
       "combo_barrier_implant_iud_pill_sterilization                0.000011\n",
       "combo_barrier_pill_sterilization                            0.000011\n",
       "combo_iud_periodic abstinence_shot                          0.000011\n",
       "combo_pill_ring_withdrawal                                  0.000011\n",
       "combo_barrier_shot_withdrawal                               0.000011\n",
       "combo_barrier_iud_pill_ring_sterilization                   0.000011\n",
       "combo_implant_iud_pill_shot_withdrawal                      0.000011\n",
       "combo_emergency_implant_withdrawal                          0.000011\n",
       "combo_patch_pill_sterilization                              0.000011\n",
       "combo_barrier_emergency_pill_ring                           0.000011\n",
       "combo_implant_pill_withdrawal                               0.000011\n",
       "combo_barrier_periodic abstinence_ring_withdrawal           0.000011\n",
       "combo_emergency_pill_shot                                   0.000011\n",
       "combo_implant_iud_patch_ring                                0.000011\n",
       "combo_iud_periodic abstinence_pill                          0.000011\n",
       "combo_implant_iud_pill_sterilization                        0.000011\n",
       "combo_pill_shot_withdrawal                                  0.000011\n",
       "combo_barrier_implant_patch                                 0.000011\n",
       "combo_barrier_emergency_shot                                0.000011\n",
       "combo_implant_periodic abstinence                           0.000011\n",
       "combo_implant_iud_patch_pill_ring_shot                      0.000011\n",
       "combo_pill_ring_shot_sterilization                          0.000011\n",
       "combo_emergency_pill_ring                                   0.000011\n",
       "combo_barrier_implant_iud_pill_ring                         0.000011\n",
       "combo_implant_iud_patch_pill                                0.000011\n",
       "combo_iud_patch_ring                                        0.000011\n",
       "combo_iud_patch_periodic abstinence_pill_shot               0.000011\n",
       "combo_barrier_iud_pill_sterilization                        0.000011\n",
       "combo_barrier_implant_shot                                  0.000011\n",
       "combo_implant_ring_shot                                     0.000011\n",
       "combo_implant_iud_patch_pill_shot                           0.000011\n",
       "combo_barrier_iud_pill_shot                                 0.000011\n",
       "combo_implant_iud_patch_shot                                0.000011\n",
       "combo_barrier_iud_periodic abstinence_pill_sterilization    0.000011\n",
       "combo_barrier_emergency_periodic abstinence_withdrawal      0.000011\n",
       "combo_iud_ring_shot                                         0.000011\n",
       "combo_periodic abstinence_shot                              0.000011\n",
       "combo_barrier_iud_shot                                      0.000011\n",
       "combo_patch_pill_ring_withdrawal                            0.000011\n",
       "combo_implant_iud_patch_pill_ring                           0.000011\n",
       "combo_implant_iud_sterilization                             0.000011\n",
       "combo_barrier_emergency_iud_patch_pill_ring_shot            0.000011\n",
       "combo_emergency_ring_withdrawal                             0.000011\n",
       "combo_barrier_implant_iud_periodic abstinence_pill          0.000011\n",
       "combo_ring_sterilization                                    0.000011\n",
       "Name: text_type, dtype: float64"
      ]
     },
     "execution_count": 518,
     "metadata": {},
     "output_type": "execute_result"
    }
   ],
   "source": [
    "posts_df['text_type'].value_counts(normalize=True)"
   ]
  },
  {
   "cell_type": "code",
   "execution_count": 519,
   "metadata": {},
   "outputs": [
    {
     "data": {
      "text/plain": [
       "94153"
      ]
     },
     "execution_count": 519,
     "metadata": {},
     "output_type": "execute_result"
    }
   ],
   "source": [
    "len(posts_df.index)"
   ]
  },
  {
   "cell_type": "code",
   "execution_count": 520,
   "metadata": {},
   "outputs": [
    {
     "data": {
      "text/plain": [
       "0.04638195277898739"
      ]
     },
     "execution_count": 520,
     "metadata": {},
     "output_type": "execute_result"
    }
   ],
   "source": [
    "4367/94153"
   ]
  },
  {
   "cell_type": "code",
   "execution_count": 521,
   "metadata": {},
   "outputs": [],
   "source": [
    "post_type_dict = {str(r['id']): r['text_type'] for i, r in posts_df.iterrows()}\n",
    "# pickle.dump(post_type_dict, open(data_directory_path + '/labeling/reddit_posts.id_type_dict.pickle', 'wb'))"
   ]
  },
  {
   "cell_type": "code",
   "execution_count": 522,
   "metadata": {},
   "outputs": [
    {
     "data": {
      "text/plain": [
       "73273"
      ]
     },
     "execution_count": 522,
     "metadata": {},
     "output_type": "execute_result"
    }
   ],
   "source": [
    "posts_df = posts_df[posts_df['text_type'].isin(['pill', 'iud', 'implant'])]\n",
    "len(posts_df.index)"
   ]
  },
  {
   "cell_type": "code",
   "execution_count": 523,
   "metadata": {},
   "outputs": [
    {
     "data": {
      "text/plain": [
       "pill       39217\n",
       "iud        26274\n",
       "implant     7782\n",
       "Name: text_type, dtype: int64"
      ]
     },
     "execution_count": 523,
     "metadata": {},
     "output_type": "execute_result"
    }
   ],
   "source": [
    "posts_df['text_type'].value_counts()"
   ]
  },
  {
   "cell_type": "code",
   "execution_count": 524,
   "metadata": {},
   "outputs": [
    {
     "data": {
      "text/plain": [
       "0.8110734655295104"
      ]
     },
     "execution_count": 524,
     "metadata": {},
     "output_type": "execute_result"
    }
   ],
   "source": [
    "76365/94153"
   ]
  },
  {
   "cell_type": "markdown",
   "metadata": {},
   "source": [
    "### Get year and month and remove comments whose years can't be found"
   ]
  },
  {
   "cell_type": "code",
   "execution_count": 525,
   "metadata": {},
   "outputs": [
    {
     "data": {
      "text/plain": [
       "73273"
      ]
     },
     "execution_count": 525,
     "metadata": {},
     "output_type": "execute_result"
    }
   ],
   "source": [
    "posts_df['year'] = posts_df['created_utc'].apply(get_year)\n",
    "posts_df['month'] = posts_df['created_utc'].apply(get_month)\n",
    "posts_df = posts_df[(posts_df['year'] != 'Unknown') & (posts_df['year'] != 1970)]\n",
    "len(posts_df.index)"
   ]
  },
  {
   "cell_type": "code",
   "execution_count": 526,
   "metadata": {},
   "outputs": [],
   "source": [
    "# for i, r in posts_df[posts_df['text_type'] == 'implant'].sample(10).iterrows():\n",
    "#     print(r['title'])\n",
    "#     print()\n",
    "#     print(r['text'])\n",
    "#     print()\n",
    "#     print('============================================')\n",
    "#     print()"
   ]
  },
  {
   "cell_type": "code",
   "execution_count": 527,
   "metadata": {},
   "outputs": [
    {
     "data": {
      "text/plain": [
       "2020    23981\n",
       "2019    18551\n",
       "2018    11060\n",
       "2017     6619\n",
       "2016     4356\n",
       "2015     3443\n",
       "2014     2495\n",
       "2013     1699\n",
       "2012      948\n",
       "2011      121\n",
       "Name: year, dtype: int64"
      ]
     },
     "execution_count": 527,
     "metadata": {},
     "output_type": "execute_result"
    }
   ],
   "source": [
    "posts_df['year'].value_counts()"
   ]
  },
  {
   "cell_type": "markdown",
   "metadata": {},
   "source": [
    "### Remove short posts"
   ]
  },
  {
   "cell_type": "code",
   "execution_count": 528,
   "metadata": {},
   "outputs": [],
   "source": [
    "def get_num_tokens(text):\n",
    "    if pd.isnull(text):\n",
    "        return 0\n",
    "    return len(text.split())\n",
    "\n",
    "posts_df['num_tokens'] = posts_df['selftext'].apply(get_num_tokens)"
   ]
  },
  {
   "cell_type": "code",
   "execution_count": 529,
   "metadata": {},
   "outputs": [
    {
     "data": {
      "text/plain": [
       "73209"
      ]
     },
     "execution_count": 529,
     "metadata": {},
     "output_type": "execute_result"
    }
   ],
   "source": [
    "# The token length requirement also handles deleted comments, which are replaced with the single \"[deleted]\" token.\n",
    "posts_df = posts_df[(posts_df['num_tokens'] >= 3)]\n",
    "len(posts_df.index)"
   ]
  },
  {
   "cell_type": "markdown",
   "metadata": {},
   "source": [
    "### Remove duplicate posts"
   ]
  },
  {
   "cell_type": "code",
   "execution_count": 530,
   "metadata": {},
   "outputs": [
    {
     "data": {
      "text/plain": [
       "72898"
      ]
     },
     "execution_count": 530,
     "metadata": {},
     "output_type": "execute_result"
    }
   ],
   "source": [
    "posts_df = posts_df.drop_duplicates(subset='selftext')\n",
    "len(posts_df)"
   ]
  },
  {
   "cell_type": "markdown",
   "metadata": {},
   "source": [
    "### Remove unnecessary columns, rename columns"
   ]
  },
  {
   "cell_type": "code",
   "execution_count": 531,
   "metadata": {},
   "outputs": [],
   "source": [
    "posts_df = posts_df[['id', 'created_utc', 'selftext', 'title', 'year', 'month', 'url', 'link_flair_text', 'tokens_text', 'text_type']]\n",
    "posts_df = posts_df.rename(columns={'selftext': 'text'})\n",
    "posts_df['source'] = 'reddit-posts'"
   ]
  },
  {
   "cell_type": "markdown",
   "metadata": {},
   "source": [
    "### Remove November-December 2020 to match WebMD"
   ]
  },
  {
   "cell_type": "code",
   "execution_count": 532,
   "metadata": {},
   "outputs": [
    {
     "data": {
      "text/plain": [
       "2020    23772\n",
       "2019    18460\n",
       "2018    11010\n",
       "2017     6612\n",
       "2016     4355\n",
       "2015     3441\n",
       "2014     2492\n",
       "2013     1692\n",
       "2012      944\n",
       "2011      120\n",
       "Name: year, dtype: int64"
      ]
     },
     "execution_count": 532,
     "metadata": {},
     "output_type": "execute_result"
    }
   ],
   "source": [
    "posts_df['year'].value_counts()"
   ]
  },
  {
   "cell_type": "code",
   "execution_count": 533,
   "metadata": {},
   "outputs": [
    {
     "data": {
      "text/plain": [
       "68958"
      ]
     },
     "execution_count": 533,
     "metadata": {},
     "output_type": "execute_result"
    }
   ],
   "source": [
    "posts_df = posts_df[~((posts_df['year'] == 2020) & (posts_df['month'].isin([11, 12])))]\n",
    "len(posts_df.index)"
   ]
  },
  {
   "cell_type": "code",
   "execution_count": 534,
   "metadata": {},
   "outputs": [
    {
     "data": {
      "text/plain": [
       "2020    19832\n",
       "2019    18460\n",
       "2018    11010\n",
       "2017     6612\n",
       "2016     4355\n",
       "2015     3441\n",
       "2014     2492\n",
       "2013     1692\n",
       "2012      944\n",
       "2011      120\n",
       "Name: year, dtype: int64"
      ]
     },
     "execution_count": 534,
     "metadata": {},
     "output_type": "execute_result"
    }
   ],
   "source": [
    "posts_df['year'].value_counts()"
   ]
  },
  {
   "cell_type": "markdown",
   "metadata": {},
   "source": [
    "### Final dataframe"
   ]
  },
  {
   "cell_type": "code",
   "execution_count": 535,
   "metadata": {},
   "outputs": [
    {
     "data": {
      "text/plain": [
       "68958"
      ]
     },
     "execution_count": 535,
     "metadata": {},
     "output_type": "execute_result"
    }
   ],
   "source": [
    "len(posts_df.index)"
   ]
  },
  {
   "cell_type": "code",
   "execution_count": 536,
   "metadata": {},
   "outputs": [
    {
     "data": {
      "text/plain": [
       "pill       36921\n",
       "iud        24657\n",
       "implant     7380\n",
       "Name: text_type, dtype: int64"
      ]
     },
     "execution_count": 536,
     "metadata": {},
     "output_type": "execute_result"
    }
   ],
   "source": [
    "posts_df['text_type'].value_counts()"
   ]
  },
  {
   "cell_type": "code",
   "execution_count": 537,
   "metadata": {},
   "outputs": [
    {
     "data": {
      "text/plain": [
       "2020    19832\n",
       "2019    18460\n",
       "2018    11010\n",
       "2017     6612\n",
       "2016     4355\n",
       "2015     3441\n",
       "2014     2492\n",
       "2013     1692\n",
       "2012      944\n",
       "2011      120\n",
       "Name: year, dtype: int64"
      ]
     },
     "execution_count": 537,
     "metadata": {},
     "output_type": "execute_result"
    }
   ],
   "source": [
    "posts_df['year'].value_counts()"
   ]
  },
  {
   "cell_type": "code",
   "execution_count": 538,
   "metadata": {},
   "outputs": [
    {
     "data": {
      "text/html": [
       "<div>\n",
       "<style scoped>\n",
       "    .dataframe tbody tr th:only-of-type {\n",
       "        vertical-align: middle;\n",
       "    }\n",
       "\n",
       "    .dataframe tbody tr th {\n",
       "        vertical-align: top;\n",
       "    }\n",
       "\n",
       "    .dataframe thead th {\n",
       "        text-align: right;\n",
       "    }\n",
       "</style>\n",
       "<table border=\"1\" class=\"dataframe\">\n",
       "  <thead>\n",
       "    <tr style=\"text-align: right;\">\n",
       "      <th></th>\n",
       "      <th>id</th>\n",
       "      <th>created_utc</th>\n",
       "      <th>text</th>\n",
       "      <th>title</th>\n",
       "      <th>year</th>\n",
       "      <th>month</th>\n",
       "      <th>url</th>\n",
       "      <th>link_flair_text</th>\n",
       "      <th>tokens_text</th>\n",
       "      <th>text_type</th>\n",
       "      <th>source</th>\n",
       "    </tr>\n",
       "  </thead>\n",
       "  <tbody>\n",
       "    <tr>\n",
       "      <th>711</th>\n",
       "      <td>9odah6</td>\n",
       "      <td>1539614664</td>\n",
       "      <td>I usually have a really normal period, and it’...</td>\n",
       "      <td>Spotting with Paraguard IUD</td>\n",
       "      <td>2018</td>\n",
       "      <td>10</td>\n",
       "      <td>https://www.reddit.com/r/birthcontrol/comments...</td>\n",
       "      <td>Mistake or Risk?</td>\n",
       "      <td>spotting paraguard iud usually really normal p...</td>\n",
       "      <td>iud</td>\n",
       "      <td>reddit-posts</td>\n",
       "    </tr>\n",
       "    <tr>\n",
       "      <th>88</th>\n",
       "      <td>b6zlql</td>\n",
       "      <td>1553877994</td>\n",
       "      <td>I got my Kyleena inserted yesterday the insert...</td>\n",
       "      <td>Questions and support with Kyleena</td>\n",
       "      <td>2019</td>\n",
       "      <td>3</td>\n",
       "      <td>https://www.reddit.com/r/birthcontrol/comments...</td>\n",
       "      <td>Side Effects!?</td>\n",
       "      <td>questions support kyleena got kyleena inserted...</td>\n",
       "      <td>iud</td>\n",
       "      <td>reddit-posts</td>\n",
       "    </tr>\n",
       "    <tr>\n",
       "      <th>584</th>\n",
       "      <td>7510ty</td>\n",
       "      <td>1507459253</td>\n",
       "      <td>Im using 21 days pills and was wondering if sh...</td>\n",
       "      <td>Can I shorten my pill free week safely?</td>\n",
       "      <td>2017</td>\n",
       "      <td>10</td>\n",
       "      <td>https://www.reddit.com/r/birthcontrol/comments...</td>\n",
       "      <td>How to?</td>\n",
       "      <td>shorten pill free week safely im using NUM day...</td>\n",
       "      <td>pill</td>\n",
       "      <td>reddit-posts</td>\n",
       "    </tr>\n",
       "  </tbody>\n",
       "</table>\n",
       "</div>"
      ],
      "text/plain": [
       "         id created_utc                                               text  \\\n",
       "711  9odah6  1539614664  I usually have a really normal period, and it’...   \n",
       "88   b6zlql  1553877994  I got my Kyleena inserted yesterday the insert...   \n",
       "584  7510ty  1507459253  Im using 21 days pills and was wondering if sh...   \n",
       "\n",
       "                                       title  year  month  \\\n",
       "711              Spotting with Paraguard IUD  2018     10   \n",
       "88        Questions and support with Kyleena  2019      3   \n",
       "584  Can I shorten my pill free week safely?  2017     10   \n",
       "\n",
       "                                                   url   link_flair_text  \\\n",
       "711  https://www.reddit.com/r/birthcontrol/comments...  Mistake or Risk?   \n",
       "88   https://www.reddit.com/r/birthcontrol/comments...    Side Effects!?   \n",
       "584  https://www.reddit.com/r/birthcontrol/comments...           How to?   \n",
       "\n",
       "                                           tokens_text text_type        source  \n",
       "711  spotting paraguard iud usually really normal p...       iud  reddit-posts  \n",
       "88   questions support kyleena got kyleena inserted...       iud  reddit-posts  \n",
       "584  shorten pill free week safely im using NUM day...      pill  reddit-posts  "
      ]
     },
     "execution_count": 538,
     "metadata": {},
     "output_type": "execute_result"
    }
   ],
   "source": [
    "posts_df.sample(3)"
   ]
  },
  {
   "cell_type": "code",
   "execution_count": 539,
   "metadata": {},
   "outputs": [],
   "source": [
    "posts_df.to_csv(data_directory_path + '/final-data/reddit_posts.csv')"
   ]
  },
  {
   "cell_type": "markdown",
   "metadata": {},
   "source": [
    "<br><br>\n",
    "\n",
    "# Process comments"
   ]
  },
  {
   "cell_type": "markdown",
   "metadata": {},
   "source": [
    "### Load the scraped comments"
   ]
  },
  {
   "cell_type": "code",
   "execution_count": 541,
   "metadata": {},
   "outputs": [
    {
     "data": {
      "text/plain": [
       "492713"
      ]
     },
     "execution_count": 541,
     "metadata": {},
     "output_type": "execute_result"
    }
   ],
   "source": [
    "comments_df_list = []\n",
    "for _subdir, _dirs, _files in os.walk(scraped_directory_path + '/comments'):\n",
    "    for _file_name in _files:\n",
    "        if _file_name.endswith('.csv'):\n",
    "            comments_df_list.append(pd.read_csv(_subdir + '/' + _file_name))\n",
    "\n",
    "comments_df = pd.concat(comments_df_list)\n",
    "len(comments_df.index)"
   ]
  },
  {
   "cell_type": "markdown",
   "metadata": {},
   "source": [
    "### Tokenize text"
   ]
  },
  {
   "cell_type": "code",
   "execution_count": 542,
   "metadata": {},
   "outputs": [],
   "source": [
    "comments_df['body'] = comments_df['body'].astype(str)\n",
    "comments_df['tokens_text'] = comments_df.apply(get_tokens_from_comment, axis=1)"
   ]
  },
  {
   "cell_type": "markdown",
   "metadata": {},
   "source": [
    "### Trace parent tree"
   ]
  },
  {
   "cell_type": "code",
   "execution_count": 543,
   "metadata": {},
   "outputs": [
    {
     "name": "stdout",
     "output_type": "stream",
     "text": [
      "251584\n",
      "365373\n",
      "425784\n",
      "454244\n",
      "469090\n",
      "476854\n",
      "481292\n",
      "483858\n",
      "485462\n",
      "486484\n",
      "487195\n",
      "487683\n"
     ]
    }
   ],
   "source": [
    "comment_parent_dict = {}\n",
    "for i, r in comments_df.iterrows():\n",
    "    if len(str(r['parent_id']).split('_')) > 1:\n",
    "        _type, _parent = str(r['parent_id']).split('_')\n",
    "        if _type == 't3':\n",
    "            comment_parent_dict[str(r['id'])] = _parent\n",
    "\n",
    "print(len(comment_parent_dict))\n",
    "\n",
    "for i, r in comments_df.iterrows():\n",
    "    if len(str(r['parent_id']).split('_')) > 1:\n",
    "        _type, _parent = str(r['parent_id']).split('_')\n",
    "        if _type != 't3' and _parent in comment_parent_dict:\n",
    "            comment_parent_dict[str(r['id'])] = comment_parent_dict[_parent]\n",
    "\n",
    "print(len(comment_parent_dict))\n",
    "\n",
    "for i, r in comments_df.iterrows():\n",
    "    if len(str(r['parent_id']).split('_')) > 1:\n",
    "        _type, _parent = str(r['parent_id']).split('_')\n",
    "        if _type != 't3' and _parent in comment_parent_dict:\n",
    "            comment_parent_dict[str(r['id'])] = comment_parent_dict[_parent]\n",
    "\n",
    "print(len(comment_parent_dict))\n",
    "\n",
    "for i, r in comments_df.iterrows():\n",
    "    if len(str(r['parent_id']).split('_')) > 1:\n",
    "        _type, _parent = str(r['parent_id']).split('_')\n",
    "        if _type != 't3' and _parent in comment_parent_dict:\n",
    "            comment_parent_dict[str(r['id'])] = comment_parent_dict[_parent]\n",
    "\n",
    "print(len(comment_parent_dict))\n",
    "\n",
    "for i, r in comments_df.iterrows():\n",
    "    if len(str(r['parent_id']).split('_')) > 1:\n",
    "        _type, _parent = str(r['parent_id']).split('_')\n",
    "        if _type != 't3' and _parent in comment_parent_dict:\n",
    "            comment_parent_dict[str(r['id'])] = comment_parent_dict[_parent]\n",
    "\n",
    "print(len(comment_parent_dict))\n",
    "\n",
    "for i, r in comments_df.iterrows():\n",
    "    if len(str(r['parent_id']).split('_')) > 1:\n",
    "        _type, _parent = str(r['parent_id']).split('_')\n",
    "        if _type != 't3' and _parent in comment_parent_dict:\n",
    "            comment_parent_dict[str(r['id'])] = comment_parent_dict[_parent]\n",
    "\n",
    "print(len(comment_parent_dict))\n",
    "\n",
    "for i, r in comments_df.iterrows():\n",
    "    if len(str(r['parent_id']).split('_')) > 1:\n",
    "        _type, _parent = str(r['parent_id']).split('_')\n",
    "        if _type != 't3' and _parent in comment_parent_dict:\n",
    "            comment_parent_dict[str(r['id'])] = comment_parent_dict[_parent]\n",
    "\n",
    "print(len(comment_parent_dict))\n",
    "\n",
    "for i, r in comments_df.iterrows():\n",
    "    if len(str(r['parent_id']).split('_')) > 1:\n",
    "        _type, _parent = str(r['parent_id']).split('_')\n",
    "        if _type != 't3' and _parent in comment_parent_dict:\n",
    "            comment_parent_dict[str(r['id'])] = comment_parent_dict[_parent]\n",
    "\n",
    "print(len(comment_parent_dict))\n",
    "\n",
    "for i, r in comments_df.iterrows():\n",
    "    if len(str(r['parent_id']).split('_')) > 1:\n",
    "        _type, _parent = str(r['parent_id']).split('_')\n",
    "        if _type != 't3' and _parent in comment_parent_dict:\n",
    "            comment_parent_dict[str(r['id'])] = comment_parent_dict[_parent]\n",
    "\n",
    "print(len(comment_parent_dict))\n",
    "\n",
    "for i, r in comments_df.iterrows():\n",
    "    if len(str(r['parent_id']).split('_')) > 1:\n",
    "        _type, _parent = str(r['parent_id']).split('_')\n",
    "        if _type != 't3' and _parent in comment_parent_dict:\n",
    "            comment_parent_dict[str(r['id'])] = comment_parent_dict[_parent]\n",
    "\n",
    "print(len(comment_parent_dict))\n",
    "\n",
    "for i, r in comments_df.iterrows():\n",
    "    if len(str(r['parent_id']).split('_')) > 1:\n",
    "        _type, _parent = str(r['parent_id']).split('_')\n",
    "        if _type != 't3' and _parent in comment_parent_dict:\n",
    "            comment_parent_dict[str(r['id'])] = comment_parent_dict[_parent]\n",
    "\n",
    "print(len(comment_parent_dict))\n",
    "\n",
    "for i, r in comments_df.iterrows():\n",
    "    if len(str(r['parent_id']).split('_')) > 1:\n",
    "        _type, _parent = str(r['parent_id']).split('_')\n",
    "        if _type != 't3' and _parent in comment_parent_dict:\n",
    "            comment_parent_dict[str(r['id'])] = comment_parent_dict[_parent]\n",
    "\n",
    "print(len(comment_parent_dict))"
   ]
  },
  {
   "cell_type": "markdown",
   "metadata": {},
   "source": [
    "### Get the birth control type from either the comment or the parent post (drop if neither method works)"
   ]
  },
  {
   "cell_type": "code",
   "execution_count": 544,
   "metadata": {},
   "outputs": [],
   "source": [
    "# # for i, r in comments_df[comments_df['text_type'] == 'unknown'].sample(10).iterrows():\n",
    "\n",
    "# # print(' '.join(r['body'].split()))\n",
    "\n",
    "# # test_tokens = str(r['tokens_text']).split()\n",
    "\n",
    "# test_tokens = 'Gotcha! Well in that case I say try out the Nexplanon. You also may be able to get your option through Planned Parenthood or Nurx. They may be able to supply you with enough to last you the entire year if you want to try a pill, ring, or patch. But since hormones are not an issue and if you still have insurance that will cover it, I say for for the Nexplanon. If that doesn\\'t work, try the other options I listed. I hope you find something that works for you!'\n",
    "# test_tokens = lmw.process_string(test_tokens).split()\n",
    "# print(test_tokens)\n",
    "\n",
    "# # Count how many times each type appears in the text\n",
    "# type_count_dict = defaultdict(int)\n",
    "# for _type, _keywords in type_keywords_dict.items():\n",
    "#     for _word in _keywords:\n",
    "#         if len(_word.split()) == 1:\n",
    "#             type_count_dict[_type] += len([t for t in test_tokens if t == _word])\n",
    "#         elif len(_word.split()) > 1:\n",
    "#             type_count_dict[_type] += len(re.findall(_word, ' '.join(test_tokens)))\n",
    "\n",
    "# print(type_count_dict)\n",
    "\n",
    "# # Get the maximum number of times any type appears in the text \n",
    "# max_count = max(type_count_dict.values())\n",
    "# if max_count != 0:\n",
    "#     max_keys = {k for k, v in type_count_dict.items() if v == max_count}\n",
    "#     print(random.sample(max_keys, 1)[0])\n",
    "\n",
    "# # If no assignment, then assign to parent post type\n",
    "# # elif len(str(r['parent_id']).split('_')) > 1:\n",
    "# #     print(r['parent_id'])\n",
    "# #     print(r['id'])\n",
    "# #     parent_id = str(r['parent_id']).split('_')[1] \n",
    "# #     if parent_id in post_type_dict:\n",
    "# #         print(post_type_dict[parent_id])\n",
    "\n",
    "# # If there were no type mentions at all, and the parent post couldn't be found, return this \n",
    "# print('unknown')\n",
    "\n",
    "# print()"
   ]
  },
  {
   "cell_type": "code",
   "execution_count": 545,
   "metadata": {},
   "outputs": [],
   "source": [
    "comments_df['text_type'] = comments_df.apply(get_type_from_comment, axis=1)"
   ]
  },
  {
   "cell_type": "code",
   "execution_count": 546,
   "metadata": {},
   "outputs": [],
   "source": [
    "comments_df['parent_type'] = comments_df.apply(get_parent_type, axis=1)"
   ]
  },
  {
   "cell_type": "code",
   "execution_count": 547,
   "metadata": {},
   "outputs": [
    {
     "data": {
      "text/plain": [
       "unknown                                                               230488\n",
       "pill                                                                   91705\n",
       "iud                                                                    80701\n",
       "implant                                                                19275\n",
       "barrier                                                                11455\n",
       "shot                                                                    8673\n",
       "emergency                                                               6697\n",
       "combo_iud_pill                                                          6087\n",
       "ring                                                                    5416\n",
       "combo_implant_pill                                                      2667\n",
       "combo_implant_iud                                                       2506\n",
       "patch                                                                   2285\n",
       "withdrawal                                                              2239\n",
       "combo_barrier_pill                                                      2233\n",
       "periodic abstinence                                                     1703\n",
       "sterilization                                                           1544\n",
       "combo_emergency_pill                                                    1447\n",
       "combo_barrier_iud                                                       1274\n",
       "combo_pill_withdrawal                                                   1156\n",
       "combo_iud_shot                                                           810\n",
       "combo_pill_ring                                                          799\n",
       "combo_pill_shot                                                          785\n",
       "combo_implant_shot                                                       780\n",
       "combo_iud_ring                                                           676\n",
       "combo_implant_iud_pill                                                   609\n",
       "combo_barrier_emergency                                                  609\n",
       "combo_emergency_iud                                                      538\n",
       "combo_barrier_implant                                                    465\n",
       "combo_barrier_iud_pill                                                   292\n",
       "combo_barrier_withdrawal                                                 283\n",
       "combo_patch_pill                                                         275\n",
       "combo_barrier_periodic abstinence                                        248\n",
       "combo_iud_sterilization                                                  247\n",
       "combo_implant_ring                                                       213\n",
       "combo_iud_pill_ring                                                      206\n",
       "combo_barrier_emergency_pill                                             189\n",
       "combo_iud_pill_shot                                                      172\n",
       "combo_implant_pill_shot                                                  162\n",
       "combo_implant_iud_shot                                                   161\n",
       "combo_patch_pill_ring                                                    146\n",
       "combo_iud_patch                                                          140\n",
       "combo_implant_sterilization                                              135\n",
       "combo_periodic abstinence_pill                                           127\n",
       "combo_patch_ring                                                         123\n",
       "combo_emergency_withdrawal                                               114\n",
       "combo_barrier_ring                                                       111\n",
       "combo_implant_patch                                                      107\n",
       "combo_iud_periodic abstinence                                            106\n",
       "combo_emergency_implant                                                  103\n",
       "combo_barrier_pill_withdrawal                                            102\n",
       "combo_iud_withdrawal                                                      99\n",
       "combo_barrier_sterilization                                               99\n",
       "combo_pill_sterilization                                                  93\n",
       "combo_ring_withdrawal                                                     87\n",
       "combo_barrier_implant_pill                                                85\n",
       "combo_ring_shot                                                           85\n",
       "combo_barrier_shot                                                        81\n",
       "combo_barrier_implant_iud                                                 79\n",
       "combo_implant_iud_pill_shot                                               77\n",
       "combo_emergency_iud_pill                                                  76\n",
       "combo_implant_pill_ring                                                   71\n",
       "combo_implant_iud_pill_ring                                               61\n",
       "combo_barrier_iud_periodic abstinence                                     56\n",
       "combo_barrier_patch                                                       55\n",
       "combo_iud_patch_pill                                                      53\n",
       "combo_patch_shot                                                          52\n",
       "combo_implant_withdrawal                                                  52\n",
       "combo_barrier_emergency_iud                                               51\n",
       "combo_implant_iud_ring                                                    51\n",
       "combo_barrier_implant_iud_pill                                            46\n",
       "combo_iud_pill_withdrawal                                                 45\n",
       "combo_emergency_ring                                                      43\n",
       "combo_barrier_iud_withdrawal                                              40\n",
       "combo_emergency_shot                                                      39\n",
       "combo_pill_ring_shot                                                      37\n",
       "combo_emergency_pill_withdrawal                                           34\n",
       "combo_implant_iud_patch_pill_ring                                         33\n",
       "combo_barrier_pill_ring                                                   33\n",
       "combo_barrier_iud_sterilization                                           33\n",
       "combo_implant_patch_pill_ring                                             33\n",
       "combo_implant_patch_pill                                                  32\n",
       "combo_periodic abstinence_withdrawal                                      32\n",
       "combo_iud_pill_sterilization                                              31\n",
       "combo_iud_patch_pill_ring                                                 30\n",
       "combo_barrier_periodic abstinence_pill                                    29\n",
       "combo_implant_pill_withdrawal                                             29\n",
       "combo_emergency_implant_iud                                               27\n",
       "combo_implant_iud_sterilization                                           27\n",
       "combo_patch_withdrawal                                                    26\n",
       "combo_barrier_implant_withdrawal                                          25\n",
       "combo_barrier_emergency_withdrawal                                        23\n",
       "combo_barrier_emergency_implant                                           23\n",
       "combo_emergency_periodic abstinence                                       22\n",
       "combo_implant_ring_shot                                                   21\n",
       "combo_emergency_implant_iud_pill                                          21\n",
       "combo_barrier_periodic abstinence_withdrawal                              20\n",
       "combo_shot_sterilization                                                  20\n",
       "combo_barrier_iud_ring                                                    20\n",
       "combo_iud_ring_shot                                                       20\n",
       "combo_shot_withdrawal                                                     19\n",
       "combo_patch_pill_shot                                                     19\n",
       "combo_barrier_pill_shot                                                   19\n",
       "combo_implant_iud_patch_ring                                              18\n",
       "combo_implant_pill_sterilization                                          17\n",
       "combo_implant_iud_patch_pill_ring_shot                                    16\n",
       "combo_implant_periodic abstinence                                         16\n",
       "combo_implant_pill_ring_shot                                              16\n",
       "combo_pill_ring_withdrawal                                                16\n",
       "combo_emergency_implant_pill                                              16\n",
       "combo_barrier_pill_sterilization                                          16\n",
       "combo_iud_patch_ring                                                      16\n",
       "combo_barrier_iud_shot                                                    16\n",
       "combo_implant_iud_patch                                                   15\n",
       "combo_implant_iud_pill_sterilization                                      15\n",
       "combo_patch_pill_ring_shot                                                15\n",
       "combo_barrier_implant_sterilization                                       15\n",
       "combo_iud_pill_ring_shot                                                  14\n",
       "combo_barrier_emergency_iud_pill                                          14\n",
       "combo_implant_iud_withdrawal                                              14\n",
       "combo_iud_periodic abstinence_pill                                        14\n",
       "combo_implant_patch_pill_ring_shot                                        13\n",
       "combo_barrier_iud_pill_sterilization                                      13\n",
       "combo_implant_iud_pill_ring_shot                                          13\n",
       "combo_emergency_patch                                                     13\n",
       "combo_periodic abstinence_shot                                            12\n",
       "combo_emergency_pill_shot                                                 12\n",
       "combo_patch_ring_shot                                                     11\n",
       "combo_barrier_iud_pill_withdrawal                                         11\n",
       "combo_barrier_iud_pill_ring                                               10\n",
       "combo_implant_patch_ring                                                  10\n",
       "combo_implant_iud_ring_shot                                               10\n",
       "combo_barrier_emergency_periodic abstinence                               10\n",
       "combo_pill_shot_withdrawal                                                 9\n",
       "combo_emergency_pill_ring                                                  9\n",
       "combo_barrier_emergency_ring                                               9\n",
       "combo_barrier_implant_shot                                                 9\n",
       "combo_barrier_emergency_pill_withdrawal                                    9\n",
       "combo_iud_patch_pill_ring_shot                                             8\n",
       "combo_barrier_patch_pill                                                   8\n",
       "combo_iud_patch_pill_shot                                                  8\n",
       "combo_barrier_emergency_implant_iud                                        7\n",
       "combo_barrier_iud_periodic abstinence_pill                                 7\n",
       "combo_implant_iud_patch_pill_shot                                          7\n",
       "combo_barrier_implant_iud_pill_ring                                        7\n",
       "combo_ring_sterilization                                                   7\n",
       "combo_implant_patch_pill_shot                                              7\n",
       "combo_implant_iud_patch_ring_shot                                          7\n",
       "combo_implant_iud_patch_pill                                               7\n",
       "combo_implant_patch_ring_shot                                              6\n",
       "combo_implant_iud_pill_withdrawal                                          6\n",
       "combo_barrier_implant_iud_ring                                             6\n",
       "combo_barrier_periodic abstinence_sterilization                            6\n",
       "combo_implant_patch_shot                                                   6\n",
       "combo_barrier_implant_periodic abstinence                                  6\n",
       "combo_periodic abstinence_sterilization                                    6\n",
       "combo_barrier_emergency_patch                                              6\n",
       "combo_barrier_periodic abstinence_pill_withdrawal                          6\n",
       "combo_patch_pill_ring_withdrawal                                           6\n",
       "combo_emergency_sterilization                                              6\n",
       "combo_barrier_implant_pill_sterilization                                   6\n",
       "combo_barrier_iud_pill_shot                                                6\n",
       "combo_barrier_emergency_shot                                               6\n",
       "combo_barrier_implant_pill_shot                                            5\n",
       "combo_periodic abstinence_ring                                             5\n",
       "combo_barrier_implant_ring                                                 5\n",
       "combo_implant_iud_periodic abstinence                                      5\n",
       "combo_patch_sterilization                                                  5\n",
       "combo_barrier_emergency_implant_pill                                       5\n",
       "combo_barrier_iud_periodic abstinence_sterilization                        5\n",
       "combo_emergency_periodic abstinence_pill                                   5\n",
       "combo_emergency_implant_shot                                               5\n",
       "combo_barrier_implant_iud_shot                                             5\n",
       "combo_iud_ring_sterilization                                               5\n",
       "combo_sterilization_withdrawal                                             4\n",
       "combo_periodic abstinence_pill_withdrawal                                  4\n",
       "combo_barrier_iud_patch                                                    4\n",
       "combo_barrier_iud_patch_pill                                               4\n",
       "combo_iud_shot_withdrawal                                                  4\n",
       "combo_barrier_implant_iud_pill_shot                                        4\n",
       "combo_emergency_patch_pill_ring                                            4\n",
       "combo_implant_shot_sterilization                                           4\n",
       "combo_barrier_implant_iud_withdrawal                                       4\n",
       "combo_implant_periodic abstinence_pill                                     4\n",
       "combo_iud_shot_sterilization                                               4\n",
       "combo_barrier_implant_iud_sterilization                                    3\n",
       "combo_barrier_patch_withdrawal                                             3\n",
       "combo_emergency_iud_withdrawal                                             3\n",
       "combo_iud_periodic abstinence_withdrawal                                   3\n",
       "combo_barrier_ring_withdrawal                                              3\n",
       "combo_emergency_iud_ring                                                   3\n",
       "combo_barrier_emergency_implant_withdrawal                                 3\n",
       "combo_implant_iud_periodic abstinence_pill                                 3\n",
       "combo_implant_patch_withdrawal                                             3\n",
       "combo_barrier_emergency_implant_iud_pill                                   3\n",
       "combo_iud_patch_ring_shot                                                  3\n",
       "combo_barrier_implant_iud_patch_pill_shot                                  3\n",
       "combo_barrier_implant_iud_pill_withdrawal                                  3\n",
       "combo_emergency_implant_iud_patch_pill_ring                                3\n",
       "combo_iud_patch_shot                                                       3\n",
       "combo_barrier_shot_sterilization                                           3\n",
       "combo_iud_pill_shot_withdrawal                                             3\n",
       "combo_iud_pill_shot_sterilization                                          3\n",
       "combo_barrier_implant_patch_pill_ring_shot_sterilization                   3\n",
       "combo_periodic abstinence_pill_ring                                        3\n",
       "combo_barrier_ring_sterilization                                           3\n",
       "combo_barrier_sterilization_withdrawal                                     3\n",
       "combo_barrier_patch_ring                                                   3\n",
       "combo_barrier_iud_periodic abstinence_withdrawal                           3\n",
       "combo_patch_pill_withdrawal                                                3\n",
       "combo_barrier_implant_iud_periodic abstinence_shot                         2\n",
       "combo_barrier_emergency_patch_pill_ring_shot                               2\n",
       "combo_emergency_implant_withdrawal                                         2\n",
       "combo_barrier_iud_periodic abstinence_pill_withdrawal                      2\n",
       "combo_barrier_emergency_iud_withdrawal                                     2\n",
       "combo_iud_ring_withdrawal                                                  2\n",
       "combo_barrier_implant_patch_pill_ring                                      2\n",
       "combo_emergency_iud_pill_withdrawal                                        2\n",
       "combo_barrier_pill_sterilization_withdrawal                                2\n",
       "combo_barrier_implant_iud_patch_pill                                       2\n",
       "combo_implant_iud_shot_sterilization                                       2\n",
       "combo_barrier_implant_iud_periodic abstinence                              2\n",
       "combo_barrier_emergency_implant_shot                                       2\n",
       "combo_emergency_implant_iud_pill_shot                                      2\n",
       "combo_barrier_implant_pill_withdrawal                                      2\n",
       "combo_barrier_patch_pill_ring                                              2\n",
       "combo_implant_patch_pill_ring_shot_sterilization                           2\n",
       "combo_barrier_emergency_implant_sterilization                              2\n",
       "combo_emergency_ring_withdrawal                                            2\n",
       "combo_emergency_iud_periodic abstinence                                    2\n",
       "combo_pill_sterilization_withdrawal                                        2\n",
       "combo_barrier_periodic abstinence_shot                                     2\n",
       "combo_emergency_patch_pill                                                 2\n",
       "combo_implant_iud_patch_pill_ring_sterilization                            2\n",
       "combo_barrier_shot_withdrawal                                              2\n",
       "combo_patch_shot_sterilization                                             2\n",
       "combo_emergency_iud_pill_ring                                              2\n",
       "combo_iud_periodic abstinence_sterilization                                2\n",
       "combo_emergency_iud_shot                                                   2\n",
       "combo_barrier_implant_pill_ring                                            2\n",
       "combo_barrier_implant_sterilization_withdrawal                             2\n",
       "combo_barrier_implant_iud_patch                                            2\n",
       "combo_emergency_iud_sterilization                                          2\n",
       "combo_barrier_emergency_pill_shot                                          2\n",
       "combo_barrier_periodic abstinence_ring                                     2\n",
       "combo_pill_ring_sterilization                                              2\n",
       "combo_implant_shot_withdrawal                                              2\n",
       "combo_patch_pill_shot_sterilization                                        2\n",
       "combo_barrier_periodic abstinence_ring_withdrawal                          2\n",
       "combo_implant_iud_pill_ring_sterilization                                  2\n",
       "combo_barrier_ring_shot                                                    2\n",
       "combo_emergency_implant_pill_withdrawal                                    1\n",
       "combo_iud_periodic abstinence_pill_ring                                    1\n",
       "combo_emergency_iud_pill_sterilization                                     1\n",
       "combo_barrier_implant_iud_pill_sterilization                               1\n",
       "combo_implant_patch_periodic abstinence_ring                               1\n",
       "combo_barrier_iud_ring_shot                                                1\n",
       "combo_iud_ring_shot_withdrawal                                             1\n",
       "combo_implant_pill_sterilization_withdrawal                                1\n",
       "combo_barrier_patch_periodic abstinence_pill_ring                          1\n",
       "combo_patch_periodic abstinence                                            1\n",
       "combo_implant_patch_shot_withdrawal                                        1\n",
       "combo_barrier_patch_periodic abstinence_pill                               1\n",
       "combo_emergency_implant_sterilization                                      1\n",
       "combo_iud_patch_periodic abstinence_pill_shot                              1\n",
       "combo_implant_iud_patch_pill_sterilization                                 1\n",
       "combo_periodic abstinence_sterilization_withdrawal                         1\n",
       "combo_implant_patch_pill_ring_sterilization                                1\n",
       "combo_emergency_implant_pill_ring                                          1\n",
       "combo_barrier_emergency_implant_iud_pill_sterilization_withdrawal          1\n",
       "combo_barrier_emergency_iud_ring                                           1\n",
       "combo_iud_pill_ring_sterilization                                          1\n",
       "combo_barrier_emergency_pill_ring                                          1\n",
       "combo_barrier_emergency_patch_withdrawal                                   1\n",
       "combo_implant_sterilization_withdrawal                                     1\n",
       "combo_barrier_iud_patch_shot                                               1\n",
       "combo_barrier_patch_ring_shot                                              1\n",
       "combo_barrier_iud_pill_ring_sterilization                                  1\n",
       "combo_barrier_iud_patch_ring_shot                                          1\n",
       "combo_patch_periodic abstinence_pill_ring                                  1\n",
       "combo_emergency_periodic abstinence_ring                                   1\n",
       "combo_barrier_implant_patch                                                1\n",
       "combo_barrier_implant_iud_patch_ring_shot_sterilization                    1\n",
       "combo_barrier_iud_patch_pill_ring                                          1\n",
       "combo_patch_pill_ring_sterilization                                        1\n",
       "combo_patch_periodic abstinence_ring                                       1\n",
       "combo_barrier_iud_periodic abstinence_ring                                 1\n",
       "combo_barrier_implant_shot_sterilization_withdrawal                        1\n",
       "combo_emergency_implant_ring_shot                                          1\n",
       "combo_barrier_iud_patch_pill_ring_sterilization_withdrawal                 1\n",
       "combo_barrier_emergency_iud_sterilization                                  1\n",
       "combo_barrier_implant_patch_ring_sterilization_withdrawal                  1\n",
       "combo_barrier_patch_sterilization                                          1\n",
       "combo_emergency_implant_iud_pill_shot_sterilization                        1\n",
       "combo_barrier_implant_patch_pill_ring_shot                                 1\n",
       "combo_barrier_implant_iud_pill_ring_shot                                   1\n",
       "combo_barrier_emergency_sterilization_withdrawal                           1\n",
       "combo_barrier_emergency_implant_iud_patch_pill_ring                        1\n",
       "combo_barrier_periodic abstinence_pill_shot                                1\n",
       "combo_emergency_shot_sterilization                                         1\n",
       "combo_implant_ring_sterilization                                           1\n",
       "combo_barrier_emergency_periodic abstinence_sterilization                  1\n",
       "combo_barrier_implant_periodic abstinence_withdrawal                       1\n",
       "combo_barrier_implant_iud_patch_pill_ring_shot_withdrawal                  1\n",
       "combo_barrier_pill_ring_shot                                               1\n",
       "combo_barrier_iud_patch_periodic abstinence_ring                           1\n",
       "combo_emergency_iud_periodic abstinence_shot_withdrawal                    1\n",
       "combo_barrier_patch_pill_ring_sterilization                                1\n",
       "combo_emergency_patch_withdrawal                                           1\n",
       "combo_barrier_implant_iud_pill_sterilization_withdrawal                    1\n",
       "combo_implant_pill_shot_sterilization                                      1\n",
       "combo_barrier_emergency_pill_sterilization                                 1\n",
       "combo_barrier_implant_patch_ring_shot_sterilization                        1\n",
       "combo_emergency_iud_patch_pill                                             1\n",
       "combo_barrier_iud_patch_ring                                               1\n",
       "combo_implant_iud_periodic abstinence_ring                                 1\n",
       "combo_barrier_patch_periodic abstinence                                    1\n",
       "combo_barrier_implant_pill_shot_sterilization                              1\n",
       "combo_emergency_implant_pill_sterilization                                 1\n",
       "combo_barrier_implant_iud_patch_withdrawal                                 1\n",
       "combo_barrier_patch_pill_ring_shot                                         1\n",
       "combo_pill_shot_sterilization                                              1\n",
       "combo_emergency_pill_ring_shot                                             1\n",
       "combo_barrier_implant_iud_patch_pill_ring_sterilization_withdrawal         1\n",
       "combo_barrier_emergency_iud_pill_withdrawal                                1\n",
       "combo_barrier_implant_patch_ring                                           1\n",
       "combo_barrier_periodic abstinence_pill_sterilization                       1\n",
       "combo_periodic abstinence_pill_sterilization                               1\n",
       "combo_emergency_patch_shot                                                 1\n",
       "combo_patch_ring_withdrawal                                                1\n",
       "combo_implant_iud_periodic abstinence_pill_sterilization                   1\n",
       "combo_iud_patch_pill_ring_withdrawal                                       1\n",
       "combo_implant_iud_patch_shot                                               1\n",
       "combo_patch_periodic abstinence_pill                                       1\n",
       "combo_barrier_pill_ring_sterilization                                      1\n",
       "combo_barrier_patch_pill_sterilization                                     1\n",
       "combo_barrier_implant_iud_patch_pill_ring                                  1\n",
       "combo_barrier_periodic abstinence_pill_sterilization_withdrawal            1\n",
       "combo_barrier_implant_periodic abstinence_pill_withdrawal                  1\n",
       "combo_barrier_emergency_iud_patch_pill_ring                                1\n",
       "combo_barrier_implant_shot_sterilization                                   1\n",
       "combo_patch_pill_sterilization_withdrawal                                  1\n",
       "combo_implant_iud_pill_shot_sterilization                                  1\n",
       "combo_pill_ring_shot_sterilization                                         1\n",
       "combo_barrier_implant_shot_withdrawal                                      1\n",
       "combo_emergency_implant_iud_periodic abstinence                            1\n",
       "combo_emergency_iud_patch_shot                                             1\n",
       "combo_barrier_periodic abstinence_pill_ring                                1\n",
       "combo_barrier_iud_periodic abstinence_sterilization_withdrawal             1\n",
       "combo_barrier_implant_patch_pill                                           1\n",
       "combo_barrier_iud_periodic abstinence_pill_shot                            1\n",
       "combo_barrier_emergency_implant_patch_pill_ring                            1\n",
       "combo_emergency_implant_iud_patch_pill_shot                                1\n",
       "combo_emergency_periodic abstinence_withdrawal                             1\n",
       "combo_barrier_iud_patch_pill_ring_shot                                     1\n",
       "combo_barrier_emergency_implant_patch_pill_ring_shot                       1\n",
       "combo_barrier_iud_pill_ring_shot                                           1\n",
       "combo_periodic abstinence_shot_withdrawal                                  1\n",
       "combo_barrier_iud_periodic abstinence_shot                                 1\n",
       "combo_barrier_emergency_implant_iud_patch                                  1\n",
       "combo_barrier_implant_iud_periodic abstinence_pill                         1\n",
       "combo_barrier_emergency_implant_pill_shot                                  1\n",
       "combo_patch_ring_sterilization                                             1\n",
       "combo_barrier_implant_iud_sterilization_withdrawal                         1\n",
       "combo_barrier_emergency_iud_pill_shot                                      1\n",
       "combo_implant_iud_patch_pill_ring_shot_withdrawal                          1\n",
       "combo_barrier_implant_iud_periodic abstinence_pill_withdrawal              1\n",
       "combo_iud_patch_periodic abstinence_pill_ring_shot                         1\n",
       "combo_emergency_implant_periodic abstinence                                1\n",
       "combo_implant_pill_shot_withdrawal                                         1\n",
       "combo_barrier_iud_sterilization_withdrawal                                 1\n",
       "combo_barrier_emergency_shot_withdrawal                                    1\n",
       "combo_iud_periodic abstinence_shot                                         1\n",
       "combo_implant_iud_pill_ring_withdrawal                                     1\n",
       "combo_iud_sterilization_withdrawal                                         1\n",
       "combo_implant_pill_ring_withdrawal                                         1\n",
       "combo_patch_pill_sterilization                                             1\n",
       "combo_barrier_patch_pill_ring_shot_withdrawal                              1\n",
       "combo_barrier_emergency_periodic abstinence_pill                           1\n",
       "combo_barrier_patch_pill_ring_withdrawal                                   1\n",
       "combo_implant_periodic abstinence_ring                                     1\n",
       "combo_iud_periodic abstinence_pill_shot                                    1\n",
       "combo_emergency_implant_iud_pill_ring                                      1\n",
       "combo_barrier_patch_periodic abstinence_pill_ring_shot                     1\n",
       "Name: text_type, dtype: int64"
      ]
     },
     "execution_count": 547,
     "metadata": {},
     "output_type": "execute_result"
    }
   ],
   "source": [
    "comments_df['text_type'].value_counts()"
   ]
  },
  {
   "cell_type": "code",
   "execution_count": 548,
   "metadata": {},
   "outputs": [
    {
     "data": {
      "text/plain": [
       "unknown                                                               0.467794\n",
       "pill                                                                  0.186123\n",
       "iud                                                                   0.163789\n",
       "implant                                                               0.039120\n",
       "barrier                                                               0.023249\n",
       "shot                                                                  0.017603\n",
       "emergency                                                             0.013592\n",
       "combo_iud_pill                                                        0.012354\n",
       "ring                                                                  0.010992\n",
       "combo_implant_pill                                                    0.005413\n",
       "combo_implant_iud                                                     0.005086\n",
       "patch                                                                 0.004638\n",
       "withdrawal                                                            0.004544\n",
       "combo_barrier_pill                                                    0.004532\n",
       "periodic abstinence                                                   0.003456\n",
       "sterilization                                                         0.003134\n",
       "combo_emergency_pill                                                  0.002937\n",
       "combo_barrier_iud                                                     0.002586\n",
       "combo_pill_withdrawal                                                 0.002346\n",
       "combo_iud_shot                                                        0.001644\n",
       "combo_pill_ring                                                       0.001622\n",
       "combo_pill_shot                                                       0.001593\n",
       "combo_implant_shot                                                    0.001583\n",
       "combo_iud_ring                                                        0.001372\n",
       "combo_implant_iud_pill                                                0.001236\n",
       "combo_barrier_emergency                                               0.001236\n",
       "combo_emergency_iud                                                   0.001092\n",
       "combo_barrier_implant                                                 0.000944\n",
       "combo_barrier_iud_pill                                                0.000593\n",
       "combo_barrier_withdrawal                                              0.000574\n",
       "combo_patch_pill                                                      0.000558\n",
       "combo_barrier_periodic abstinence                                     0.000503\n",
       "combo_iud_sterilization                                               0.000501\n",
       "combo_implant_ring                                                    0.000432\n",
       "combo_iud_pill_ring                                                   0.000418\n",
       "combo_barrier_emergency_pill                                          0.000384\n",
       "combo_iud_pill_shot                                                   0.000349\n",
       "combo_implant_pill_shot                                               0.000329\n",
       "combo_implant_iud_shot                                                0.000327\n",
       "combo_patch_pill_ring                                                 0.000296\n",
       "combo_iud_patch                                                       0.000284\n",
       "combo_implant_sterilization                                           0.000274\n",
       "combo_periodic abstinence_pill                                        0.000258\n",
       "combo_patch_ring                                                      0.000250\n",
       "combo_emergency_withdrawal                                            0.000231\n",
       "combo_barrier_ring                                                    0.000225\n",
       "combo_implant_patch                                                   0.000217\n",
       "combo_iud_periodic abstinence                                         0.000215\n",
       "combo_emergency_implant                                               0.000209\n",
       "combo_barrier_pill_withdrawal                                         0.000207\n",
       "combo_iud_withdrawal                                                  0.000201\n",
       "combo_barrier_sterilization                                           0.000201\n",
       "combo_pill_sterilization                                              0.000189\n",
       "combo_ring_withdrawal                                                 0.000177\n",
       "combo_barrier_implant_pill                                            0.000173\n",
       "combo_ring_shot                                                       0.000173\n",
       "combo_barrier_shot                                                    0.000164\n",
       "combo_barrier_implant_iud                                             0.000160\n",
       "combo_implant_iud_pill_shot                                           0.000156\n",
       "combo_emergency_iud_pill                                              0.000154\n",
       "combo_implant_pill_ring                                               0.000144\n",
       "combo_implant_iud_pill_ring                                           0.000124\n",
       "combo_barrier_iud_periodic abstinence                                 0.000114\n",
       "combo_barrier_patch                                                   0.000112\n",
       "combo_iud_patch_pill                                                  0.000108\n",
       "combo_patch_shot                                                      0.000106\n",
       "combo_implant_withdrawal                                              0.000106\n",
       "combo_barrier_emergency_iud                                           0.000104\n",
       "combo_implant_iud_ring                                                0.000104\n",
       "combo_barrier_implant_iud_pill                                        0.000093\n",
       "combo_iud_pill_withdrawal                                             0.000091\n",
       "combo_emergency_ring                                                  0.000087\n",
       "combo_barrier_iud_withdrawal                                          0.000081\n",
       "combo_emergency_shot                                                  0.000079\n",
       "combo_pill_ring_shot                                                  0.000075\n",
       "combo_emergency_pill_withdrawal                                       0.000069\n",
       "combo_implant_iud_patch_pill_ring                                     0.000067\n",
       "combo_barrier_pill_ring                                               0.000067\n",
       "combo_barrier_iud_sterilization                                       0.000067\n",
       "combo_implant_patch_pill_ring                                         0.000067\n",
       "combo_implant_patch_pill                                              0.000065\n",
       "combo_periodic abstinence_withdrawal                                  0.000065\n",
       "combo_iud_pill_sterilization                                          0.000063\n",
       "combo_iud_patch_pill_ring                                             0.000061\n",
       "combo_barrier_periodic abstinence_pill                                0.000059\n",
       "combo_implant_pill_withdrawal                                         0.000059\n",
       "combo_emergency_implant_iud                                           0.000055\n",
       "combo_implant_iud_sterilization                                       0.000055\n",
       "combo_patch_withdrawal                                                0.000053\n",
       "combo_barrier_implant_withdrawal                                      0.000051\n",
       "combo_barrier_emergency_withdrawal                                    0.000047\n",
       "combo_barrier_emergency_implant                                       0.000047\n",
       "combo_emergency_periodic abstinence                                   0.000045\n",
       "combo_implant_ring_shot                                               0.000043\n",
       "combo_emergency_implant_iud_pill                                      0.000043\n",
       "combo_barrier_periodic abstinence_withdrawal                          0.000041\n",
       "combo_shot_sterilization                                              0.000041\n",
       "combo_barrier_iud_ring                                                0.000041\n",
       "combo_iud_ring_shot                                                   0.000041\n",
       "combo_shot_withdrawal                                                 0.000039\n",
       "combo_patch_pill_shot                                                 0.000039\n",
       "combo_barrier_pill_shot                                               0.000039\n",
       "combo_implant_iud_patch_ring                                          0.000037\n",
       "combo_implant_pill_sterilization                                      0.000035\n",
       "combo_implant_iud_patch_pill_ring_shot                                0.000032\n",
       "combo_implant_periodic abstinence                                     0.000032\n",
       "combo_implant_pill_ring_shot                                          0.000032\n",
       "combo_pill_ring_withdrawal                                            0.000032\n",
       "combo_emergency_implant_pill                                          0.000032\n",
       "combo_barrier_pill_sterilization                                      0.000032\n",
       "combo_iud_patch_ring                                                  0.000032\n",
       "combo_barrier_iud_shot                                                0.000032\n",
       "combo_implant_iud_patch                                               0.000030\n",
       "combo_implant_iud_pill_sterilization                                  0.000030\n",
       "combo_patch_pill_ring_shot                                            0.000030\n",
       "combo_barrier_implant_sterilization                                   0.000030\n",
       "combo_iud_pill_ring_shot                                              0.000028\n",
       "combo_barrier_emergency_iud_pill                                      0.000028\n",
       "combo_implant_iud_withdrawal                                          0.000028\n",
       "combo_iud_periodic abstinence_pill                                    0.000028\n",
       "combo_implant_patch_pill_ring_shot                                    0.000026\n",
       "combo_barrier_iud_pill_sterilization                                  0.000026\n",
       "combo_implant_iud_pill_ring_shot                                      0.000026\n",
       "combo_emergency_patch                                                 0.000026\n",
       "combo_periodic abstinence_shot                                        0.000024\n",
       "combo_emergency_pill_shot                                             0.000024\n",
       "combo_patch_ring_shot                                                 0.000022\n",
       "combo_barrier_iud_pill_withdrawal                                     0.000022\n",
       "combo_barrier_iud_pill_ring                                           0.000020\n",
       "combo_implant_patch_ring                                              0.000020\n",
       "combo_implant_iud_ring_shot                                           0.000020\n",
       "combo_barrier_emergency_periodic abstinence                           0.000020\n",
       "combo_pill_shot_withdrawal                                            0.000018\n",
       "combo_emergency_pill_ring                                             0.000018\n",
       "combo_barrier_emergency_ring                                          0.000018\n",
       "combo_barrier_implant_shot                                            0.000018\n",
       "combo_barrier_emergency_pill_withdrawal                               0.000018\n",
       "combo_iud_patch_pill_ring_shot                                        0.000016\n",
       "combo_barrier_patch_pill                                              0.000016\n",
       "combo_iud_patch_pill_shot                                             0.000016\n",
       "combo_barrier_emergency_implant_iud                                   0.000014\n",
       "combo_barrier_iud_periodic abstinence_pill                            0.000014\n",
       "combo_implant_iud_patch_pill_shot                                     0.000014\n",
       "combo_barrier_implant_iud_pill_ring                                   0.000014\n",
       "combo_ring_sterilization                                              0.000014\n",
       "combo_implant_patch_pill_shot                                         0.000014\n",
       "combo_implant_iud_patch_ring_shot                                     0.000014\n",
       "combo_implant_iud_patch_pill                                          0.000014\n",
       "combo_implant_patch_ring_shot                                         0.000012\n",
       "combo_implant_iud_pill_withdrawal                                     0.000012\n",
       "combo_barrier_implant_iud_ring                                        0.000012\n",
       "combo_barrier_periodic abstinence_sterilization                       0.000012\n",
       "combo_implant_patch_shot                                              0.000012\n",
       "combo_barrier_implant_periodic abstinence                             0.000012\n",
       "combo_periodic abstinence_sterilization                               0.000012\n",
       "combo_barrier_emergency_patch                                         0.000012\n",
       "combo_barrier_periodic abstinence_pill_withdrawal                     0.000012\n",
       "combo_patch_pill_ring_withdrawal                                      0.000012\n",
       "combo_emergency_sterilization                                         0.000012\n",
       "combo_barrier_implant_pill_sterilization                              0.000012\n",
       "combo_barrier_iud_pill_shot                                           0.000012\n",
       "combo_barrier_emergency_shot                                          0.000012\n",
       "combo_barrier_implant_pill_shot                                       0.000010\n",
       "combo_periodic abstinence_ring                                        0.000010\n",
       "combo_barrier_implant_ring                                            0.000010\n",
       "combo_implant_iud_periodic abstinence                                 0.000010\n",
       "combo_patch_sterilization                                             0.000010\n",
       "combo_barrier_emergency_implant_pill                                  0.000010\n",
       "combo_barrier_iud_periodic abstinence_sterilization                   0.000010\n",
       "combo_emergency_periodic abstinence_pill                              0.000010\n",
       "combo_emergency_implant_shot                                          0.000010\n",
       "combo_barrier_implant_iud_shot                                        0.000010\n",
       "combo_iud_ring_sterilization                                          0.000010\n",
       "combo_sterilization_withdrawal                                        0.000008\n",
       "combo_periodic abstinence_pill_withdrawal                             0.000008\n",
       "combo_barrier_iud_patch                                               0.000008\n",
       "combo_barrier_iud_patch_pill                                          0.000008\n",
       "combo_iud_shot_withdrawal                                             0.000008\n",
       "combo_barrier_implant_iud_pill_shot                                   0.000008\n",
       "combo_emergency_patch_pill_ring                                       0.000008\n",
       "combo_implant_shot_sterilization                                      0.000008\n",
       "combo_barrier_implant_iud_withdrawal                                  0.000008\n",
       "combo_implant_periodic abstinence_pill                                0.000008\n",
       "combo_iud_shot_sterilization                                          0.000008\n",
       "combo_barrier_implant_iud_sterilization                               0.000006\n",
       "combo_barrier_patch_withdrawal                                        0.000006\n",
       "combo_emergency_iud_withdrawal                                        0.000006\n",
       "combo_iud_periodic abstinence_withdrawal                              0.000006\n",
       "combo_barrier_ring_withdrawal                                         0.000006\n",
       "combo_emergency_iud_ring                                              0.000006\n",
       "combo_barrier_emergency_implant_withdrawal                            0.000006\n",
       "combo_implant_iud_periodic abstinence_pill                            0.000006\n",
       "combo_implant_patch_withdrawal                                        0.000006\n",
       "combo_barrier_emergency_implant_iud_pill                              0.000006\n",
       "combo_iud_patch_ring_shot                                             0.000006\n",
       "combo_barrier_implant_iud_patch_pill_shot                             0.000006\n",
       "combo_barrier_implant_iud_pill_withdrawal                             0.000006\n",
       "combo_emergency_implant_iud_patch_pill_ring                           0.000006\n",
       "combo_iud_patch_shot                                                  0.000006\n",
       "combo_barrier_shot_sterilization                                      0.000006\n",
       "combo_iud_pill_shot_withdrawal                                        0.000006\n",
       "combo_iud_pill_shot_sterilization                                     0.000006\n",
       "combo_barrier_implant_patch_pill_ring_shot_sterilization              0.000006\n",
       "combo_periodic abstinence_pill_ring                                   0.000006\n",
       "combo_barrier_ring_sterilization                                      0.000006\n",
       "combo_barrier_sterilization_withdrawal                                0.000006\n",
       "combo_barrier_patch_ring                                              0.000006\n",
       "combo_barrier_iud_periodic abstinence_withdrawal                      0.000006\n",
       "combo_patch_pill_withdrawal                                           0.000006\n",
       "combo_barrier_implant_iud_periodic abstinence_shot                    0.000004\n",
       "combo_barrier_emergency_patch_pill_ring_shot                          0.000004\n",
       "combo_emergency_implant_withdrawal                                    0.000004\n",
       "combo_barrier_iud_periodic abstinence_pill_withdrawal                 0.000004\n",
       "combo_barrier_emergency_iud_withdrawal                                0.000004\n",
       "combo_iud_ring_withdrawal                                             0.000004\n",
       "combo_barrier_implant_patch_pill_ring                                 0.000004\n",
       "combo_emergency_iud_pill_withdrawal                                   0.000004\n",
       "combo_barrier_pill_sterilization_withdrawal                           0.000004\n",
       "combo_barrier_implant_iud_patch_pill                                  0.000004\n",
       "combo_implant_iud_shot_sterilization                                  0.000004\n",
       "combo_barrier_implant_iud_periodic abstinence                         0.000004\n",
       "combo_barrier_emergency_implant_shot                                  0.000004\n",
       "combo_emergency_implant_iud_pill_shot                                 0.000004\n",
       "combo_barrier_implant_pill_withdrawal                                 0.000004\n",
       "combo_barrier_patch_pill_ring                                         0.000004\n",
       "combo_implant_patch_pill_ring_shot_sterilization                      0.000004\n",
       "combo_barrier_emergency_implant_sterilization                         0.000004\n",
       "combo_emergency_ring_withdrawal                                       0.000004\n",
       "combo_emergency_iud_periodic abstinence                               0.000004\n",
       "combo_pill_sterilization_withdrawal                                   0.000004\n",
       "combo_barrier_periodic abstinence_shot                                0.000004\n",
       "combo_emergency_patch_pill                                            0.000004\n",
       "combo_implant_iud_patch_pill_ring_sterilization                       0.000004\n",
       "combo_barrier_shot_withdrawal                                         0.000004\n",
       "combo_patch_shot_sterilization                                        0.000004\n",
       "combo_emergency_iud_pill_ring                                         0.000004\n",
       "combo_iud_periodic abstinence_sterilization                           0.000004\n",
       "combo_emergency_iud_shot                                              0.000004\n",
       "combo_barrier_implant_pill_ring                                       0.000004\n",
       "combo_barrier_implant_sterilization_withdrawal                        0.000004\n",
       "combo_barrier_implant_iud_patch                                       0.000004\n",
       "combo_emergency_iud_sterilization                                     0.000004\n",
       "combo_barrier_emergency_pill_shot                                     0.000004\n",
       "combo_barrier_periodic abstinence_ring                                0.000004\n",
       "combo_pill_ring_sterilization                                         0.000004\n",
       "combo_implant_shot_withdrawal                                         0.000004\n",
       "combo_patch_pill_shot_sterilization                                   0.000004\n",
       "combo_barrier_periodic abstinence_ring_withdrawal                     0.000004\n",
       "combo_implant_iud_pill_ring_sterilization                             0.000004\n",
       "combo_barrier_ring_shot                                               0.000004\n",
       "combo_emergency_implant_pill_withdrawal                               0.000002\n",
       "combo_iud_periodic abstinence_pill_ring                               0.000002\n",
       "combo_emergency_iud_pill_sterilization                                0.000002\n",
       "combo_barrier_implant_iud_pill_sterilization                          0.000002\n",
       "combo_implant_patch_periodic abstinence_ring                          0.000002\n",
       "combo_barrier_iud_ring_shot                                           0.000002\n",
       "combo_iud_ring_shot_withdrawal                                        0.000002\n",
       "combo_implant_pill_sterilization_withdrawal                           0.000002\n",
       "combo_barrier_patch_periodic abstinence_pill_ring                     0.000002\n",
       "combo_patch_periodic abstinence                                       0.000002\n",
       "combo_implant_patch_shot_withdrawal                                   0.000002\n",
       "combo_barrier_patch_periodic abstinence_pill                          0.000002\n",
       "combo_emergency_implant_sterilization                                 0.000002\n",
       "combo_iud_patch_periodic abstinence_pill_shot                         0.000002\n",
       "combo_implant_iud_patch_pill_sterilization                            0.000002\n",
       "combo_periodic abstinence_sterilization_withdrawal                    0.000002\n",
       "combo_implant_patch_pill_ring_sterilization                           0.000002\n",
       "combo_emergency_implant_pill_ring                                     0.000002\n",
       "combo_barrier_emergency_implant_iud_pill_sterilization_withdrawal     0.000002\n",
       "combo_barrier_emergency_iud_ring                                      0.000002\n",
       "combo_iud_pill_ring_sterilization                                     0.000002\n",
       "combo_barrier_emergency_pill_ring                                     0.000002\n",
       "combo_barrier_emergency_patch_withdrawal                              0.000002\n",
       "combo_implant_sterilization_withdrawal                                0.000002\n",
       "combo_barrier_iud_patch_shot                                          0.000002\n",
       "combo_barrier_patch_ring_shot                                         0.000002\n",
       "combo_barrier_iud_pill_ring_sterilization                             0.000002\n",
       "combo_barrier_iud_patch_ring_shot                                     0.000002\n",
       "combo_patch_periodic abstinence_pill_ring                             0.000002\n",
       "combo_emergency_periodic abstinence_ring                              0.000002\n",
       "combo_barrier_implant_patch                                           0.000002\n",
       "combo_barrier_implant_iud_patch_ring_shot_sterilization               0.000002\n",
       "combo_barrier_iud_patch_pill_ring                                     0.000002\n",
       "combo_patch_pill_ring_sterilization                                   0.000002\n",
       "combo_patch_periodic abstinence_ring                                  0.000002\n",
       "combo_barrier_iud_periodic abstinence_ring                            0.000002\n",
       "combo_barrier_implant_shot_sterilization_withdrawal                   0.000002\n",
       "combo_emergency_implant_ring_shot                                     0.000002\n",
       "combo_barrier_iud_patch_pill_ring_sterilization_withdrawal            0.000002\n",
       "combo_barrier_emergency_iud_sterilization                             0.000002\n",
       "combo_barrier_implant_patch_ring_sterilization_withdrawal             0.000002\n",
       "combo_barrier_patch_sterilization                                     0.000002\n",
       "combo_emergency_implant_iud_pill_shot_sterilization                   0.000002\n",
       "combo_barrier_implant_patch_pill_ring_shot                            0.000002\n",
       "combo_barrier_implant_iud_pill_ring_shot                              0.000002\n",
       "combo_barrier_emergency_sterilization_withdrawal                      0.000002\n",
       "combo_barrier_emergency_implant_iud_patch_pill_ring                   0.000002\n",
       "combo_barrier_periodic abstinence_pill_shot                           0.000002\n",
       "combo_emergency_shot_sterilization                                    0.000002\n",
       "combo_implant_ring_sterilization                                      0.000002\n",
       "combo_barrier_emergency_periodic abstinence_sterilization             0.000002\n",
       "combo_barrier_implant_periodic abstinence_withdrawal                  0.000002\n",
       "combo_barrier_implant_iud_patch_pill_ring_shot_withdrawal             0.000002\n",
       "combo_barrier_pill_ring_shot                                          0.000002\n",
       "combo_barrier_iud_patch_periodic abstinence_ring                      0.000002\n",
       "combo_emergency_iud_periodic abstinence_shot_withdrawal               0.000002\n",
       "combo_barrier_patch_pill_ring_sterilization                           0.000002\n",
       "combo_emergency_patch_withdrawal                                      0.000002\n",
       "combo_barrier_implant_iud_pill_sterilization_withdrawal               0.000002\n",
       "combo_implant_pill_shot_sterilization                                 0.000002\n",
       "combo_barrier_emergency_pill_sterilization                            0.000002\n",
       "combo_barrier_implant_patch_ring_shot_sterilization                   0.000002\n",
       "combo_emergency_iud_patch_pill                                        0.000002\n",
       "combo_barrier_iud_patch_ring                                          0.000002\n",
       "combo_implant_iud_periodic abstinence_ring                            0.000002\n",
       "combo_barrier_patch_periodic abstinence                               0.000002\n",
       "combo_barrier_implant_pill_shot_sterilization                         0.000002\n",
       "combo_emergency_implant_pill_sterilization                            0.000002\n",
       "combo_barrier_implant_iud_patch_withdrawal                            0.000002\n",
       "combo_barrier_patch_pill_ring_shot                                    0.000002\n",
       "combo_pill_shot_sterilization                                         0.000002\n",
       "combo_emergency_pill_ring_shot                                        0.000002\n",
       "combo_barrier_implant_iud_patch_pill_ring_sterilization_withdrawal    0.000002\n",
       "combo_barrier_emergency_iud_pill_withdrawal                           0.000002\n",
       "combo_barrier_implant_patch_ring                                      0.000002\n",
       "combo_barrier_periodic abstinence_pill_sterilization                  0.000002\n",
       "combo_periodic abstinence_pill_sterilization                          0.000002\n",
       "combo_emergency_patch_shot                                            0.000002\n",
       "combo_patch_ring_withdrawal                                           0.000002\n",
       "combo_implant_iud_periodic abstinence_pill_sterilization              0.000002\n",
       "combo_iud_patch_pill_ring_withdrawal                                  0.000002\n",
       "combo_implant_iud_patch_shot                                          0.000002\n",
       "combo_patch_periodic abstinence_pill                                  0.000002\n",
       "combo_barrier_pill_ring_sterilization                                 0.000002\n",
       "combo_barrier_patch_pill_sterilization                                0.000002\n",
       "combo_barrier_implant_iud_patch_pill_ring                             0.000002\n",
       "combo_barrier_periodic abstinence_pill_sterilization_withdrawal       0.000002\n",
       "combo_barrier_implant_periodic abstinence_pill_withdrawal             0.000002\n",
       "combo_barrier_emergency_iud_patch_pill_ring                           0.000002\n",
       "combo_barrier_implant_shot_sterilization                              0.000002\n",
       "combo_patch_pill_sterilization_withdrawal                             0.000002\n",
       "combo_implant_iud_pill_shot_sterilization                             0.000002\n",
       "combo_pill_ring_shot_sterilization                                    0.000002\n",
       "combo_barrier_implant_shot_withdrawal                                 0.000002\n",
       "combo_emergency_implant_iud_periodic abstinence                       0.000002\n",
       "combo_emergency_iud_patch_shot                                        0.000002\n",
       "combo_barrier_periodic abstinence_pill_ring                           0.000002\n",
       "combo_barrier_iud_periodic abstinence_sterilization_withdrawal        0.000002\n",
       "combo_barrier_implant_patch_pill                                      0.000002\n",
       "combo_barrier_iud_periodic abstinence_pill_shot                       0.000002\n",
       "combo_barrier_emergency_implant_patch_pill_ring                       0.000002\n",
       "combo_emergency_implant_iud_patch_pill_shot                           0.000002\n",
       "combo_emergency_periodic abstinence_withdrawal                        0.000002\n",
       "combo_barrier_iud_patch_pill_ring_shot                                0.000002\n",
       "combo_barrier_emergency_implant_patch_pill_ring_shot                  0.000002\n",
       "combo_barrier_iud_pill_ring_shot                                      0.000002\n",
       "combo_periodic abstinence_shot_withdrawal                             0.000002\n",
       "combo_barrier_iud_periodic abstinence_shot                            0.000002\n",
       "combo_barrier_emergency_implant_iud_patch                             0.000002\n",
       "combo_barrier_implant_iud_periodic abstinence_pill                    0.000002\n",
       "combo_barrier_emergency_implant_pill_shot                             0.000002\n",
       "combo_patch_ring_sterilization                                        0.000002\n",
       "combo_barrier_implant_iud_sterilization_withdrawal                    0.000002\n",
       "combo_barrier_emergency_iud_pill_shot                                 0.000002\n",
       "combo_implant_iud_patch_pill_ring_shot_withdrawal                     0.000002\n",
       "combo_barrier_implant_iud_periodic abstinence_pill_withdrawal         0.000002\n",
       "combo_iud_patch_periodic abstinence_pill_ring_shot                    0.000002\n",
       "combo_emergency_implant_periodic abstinence                           0.000002\n",
       "combo_implant_pill_shot_withdrawal                                    0.000002\n",
       "combo_barrier_iud_sterilization_withdrawal                            0.000002\n",
       "combo_barrier_emergency_shot_withdrawal                               0.000002\n",
       "combo_iud_periodic abstinence_shot                                    0.000002\n",
       "combo_implant_iud_pill_ring_withdrawal                                0.000002\n",
       "combo_iud_sterilization_withdrawal                                    0.000002\n",
       "combo_implant_pill_ring_withdrawal                                    0.000002\n",
       "combo_patch_pill_sterilization                                        0.000002\n",
       "combo_barrier_patch_pill_ring_shot_withdrawal                         0.000002\n",
       "combo_barrier_emergency_periodic abstinence_pill                      0.000002\n",
       "combo_barrier_patch_pill_ring_withdrawal                              0.000002\n",
       "combo_implant_periodic abstinence_ring                                0.000002\n",
       "combo_iud_periodic abstinence_pill_shot                               0.000002\n",
       "combo_emergency_implant_iud_pill_ring                                 0.000002\n",
       "combo_barrier_patch_periodic abstinence_pill_ring_shot                0.000002\n",
       "Name: text_type, dtype: float64"
      ]
     },
     "execution_count": 548,
     "metadata": {},
     "output_type": "execute_result"
    }
   ],
   "source": [
    "comments_df['text_type'].value_counts(normalize=True)"
   ]
  },
  {
   "cell_type": "code",
   "execution_count": 549,
   "metadata": {},
   "outputs": [
    {
     "data": {
      "text/plain": [
       "pill                                                        153596\n",
       "iud                                                         146570\n",
       "unknown                                                      66614\n",
       "implant                                                      38325\n",
       "barrier                                                      17397\n",
       "shot                                                         13862\n",
       "ring                                                          9733\n",
       "emergency                                                     8454\n",
       "combo_iud_pill                                                5823\n",
       "combo_barrier_pill                                            4020\n",
       "patch                                                         4006\n",
       "combo_implant_pill                                            2688\n",
       "combo_implant_iud                                             1895\n",
       "combo_emergency_pill                                          1821\n",
       "sterilization                                                 1190\n",
       "combo_barrier_iud                                             1182\n",
       "combo_barrier_emergency                                       1162\n",
       "withdrawal                                                    1030\n",
       "combo_pill_shot                                                951\n",
       "periodic abstinence                                            885\n",
       "combo_pill_ring                                                774\n",
       "combo_iud_shot                                                 769\n",
       "combo_implant_shot                                             689\n",
       "combo_pill_withdrawal                                          683\n",
       "combo_barrier_implant                                          657\n",
       "combo_implant_iud_pill                                         547\n",
       "combo_barrier_emergency_pill                                   461\n",
       "combo_iud_ring                                                 443\n",
       "combo_barrier_iud_pill                                         366\n",
       "combo_periodic abstinence_withdrawal                           297\n",
       "combo_patch_pill                                               271\n",
       "combo_barrier_implant_pill                                     258\n",
       "combo_emergency_iud                                            250\n",
       "combo_iud_sterilization                                        202\n",
       "combo_iud_pill_ring                                            173\n",
       "combo_barrier_ring                                             167\n",
       "combo_emergency_implant                                        166\n",
       "combo_barrier_periodic abstinence                              160\n",
       "combo_pill_sterilization                                       157\n",
       "combo_iud_pill_shot                                            156\n",
       "combo_barrier_pill_withdrawal                                  142\n",
       "combo_barrier_shot                                             141\n",
       "combo_implant_pill_shot                                        134\n",
       "combo_implant_iud_shot                                         132\n",
       "combo_barrier_sterilization                                    132\n",
       "combo_barrier_withdrawal                                       127\n",
       "combo_implant_ring                                             122\n",
       "combo_ring_shot                                                120\n",
       "combo_emergency_withdrawal                                     116\n",
       "combo_barrier_iud_patch                                        104\n",
       "combo_iud_patch                                                 99\n",
       "combo_iud_periodic abstinence                                   93\n",
       "combo_implant_patch                                             92\n",
       "combo_barrier_implant_iud_pill                                  91\n",
       "combo_barrier_iud_withdrawal                                    90\n",
       "combo_implant_pill_ring                                         88\n",
       "combo_patch_ring                                                83\n",
       "combo_periodic abstinence_pill                                  81\n",
       "combo_barrier_patch                                             76\n",
       "combo_implant_iud_pill_shot                                     65\n",
       "combo_shot_sterilization                                        65\n",
       "combo_barrier_pill_shot                                         60\n",
       "combo_iud_pill_sterilization                                    54\n",
       "combo_pill_ring_shot                                            52\n",
       "combo_barrier_pill_ring                                         52\n",
       "combo_patch_pill_ring                                           50\n",
       "combo_ring_withdrawal                                           48\n",
       "combo_barrier_emergency_iud                                     47\n",
       "combo_barrier_implant_pill_shot                                 46\n",
       "combo_barrier_iud_shot                                          44\n",
       "combo_barrier_implant_iud                                       42\n",
       "combo_emergency_ring                                            42\n",
       "combo_implant_sterilization                                     39\n",
       "combo_iud_withdrawal                                            38\n",
       "combo_patch_shot                                                37\n",
       "combo_implant_patch_pill                                        34\n",
       "combo_implant_withdrawal                                        33\n",
       "combo_implant_iud_patch_pill                                    29\n",
       "combo_pill_ring_sterilization                                   29\n",
       "combo_barrier_periodic abstinence_withdrawal                    27\n",
       "combo_emergency_iud_pill                                        27\n",
       "combo_barrier_periodic abstinence_pill                          25\n",
       "combo_implant_patch_pill_ring                                   25\n",
       "combo_barrier_emergency_iud_pill                                25\n",
       "combo_barrier_iud_periodic abstinence                           25\n",
       "combo_barrier_implant_iud_pill_ring                             24\n",
       "combo_implant_iud_ring                                          24\n",
       "combo_barrier_emergency_implant                                 23\n",
       "combo_emergency_ring_withdrawal                                 23\n",
       "combo_iud_patch_ring                                            23\n",
       "combo_implant_iud_pill_ring_shot                                22\n",
       "combo_emergency_shot                                            22\n",
       "combo_implant_iud_patch                                         22\n",
       "combo_emergency_pill_withdrawal                                 22\n",
       "combo_emergency_implant_pill                                    21\n",
       "combo_barrier_iud_sterilization                                 19\n",
       "combo_patch_pill_shot                                           19\n",
       "combo_barrier_iud_periodic abstinence_pill_sterilization        19\n",
       "combo_iud_patch_pill                                            18\n",
       "combo_barrier_shot_withdrawal                                   18\n",
       "combo_barrier_emergency_pill_withdrawal                         18\n",
       "combo_iud_pill_shot_sterilization                               17\n",
       "combo_implant_patch_ring                                        16\n",
       "combo_emergency_patch                                           16\n",
       "combo_iud_pill_withdrawal                                       15\n",
       "combo_iud_patch_pill_shot                                       15\n",
       "combo_iud_patch_periodic abstinence_pill_shot                   14\n",
       "combo_iud_pill_ring_shot                                        14\n",
       "combo_barrier_patch_pill_ring_shot                              12\n",
       "combo_patch_withdrawal                                          12\n",
       "combo_iud_ring_shot                                             12\n",
       "combo_barrier_implant_iud_periodic abstinence_pill              12\n",
       "combo_implant_iud_patch_shot                                    12\n",
       "combo_barrier_patch_pill_ring                                   11\n",
       "combo_implant_periodic abstinence                               11\n",
       "combo_implant_iud_patch_pill_shot                               11\n",
       "combo_implant_patch_pill_shot                                   10\n",
       "combo_implant_pill_sterilization                                10\n",
       "combo_barrier_iud_patch_pill_ring_shot                          10\n",
       "combo_barrier_implant_shot                                       9\n",
       "combo_implant_iud_sterilization                                  9\n",
       "combo_barrier_ring_withdrawal                                    8\n",
       "combo_barrier_emergency_shot                                     8\n",
       "combo_barrier_emergency_iud_patch_pill_ring_shot                 8\n",
       "combo_barrier_iud_pill_ring_sterilization                        7\n",
       "combo_barrier_implant_iud_pill_sterilization                     7\n",
       "combo_implant_iud_patch_ring                                     7\n",
       "combo_shot_withdrawal                                            7\n",
       "combo_implant_iud_pill_sterilization                             6\n",
       "combo_implant_ring_shot                                          6\n",
       "combo_implant_iud_patch_pill_ring                                6\n",
       "combo_patch_pill_withdrawal                                      6\n",
       "combo_emergency_implant_iud                                      5\n",
       "combo_barrier_periodic abstinence_ring_withdrawal                5\n",
       "combo_barrier_implant_iud_pill_shot                              5\n",
       "combo_barrier_patch_pill                                         5\n",
       "combo_implant_iud_patch_ring_shot                                5\n",
       "combo_periodic abstinence_shot                                   5\n",
       "combo_barrier_emergency_periodic abstinence_withdrawal           5\n",
       "combo_patch_pill_sterilization                                   4\n",
       "combo_barrier_iud_pill_shot                                      4\n",
       "combo_pill_ring_shot_sterilization                               4\n",
       "combo_implant_iud_patch_pill_ring_shot                           4\n",
       "combo_barrier_emergency_pill_ring                                3\n",
       "combo_pill_ring_withdrawal                                       3\n",
       "combo_pill_shot_withdrawal                                       3\n",
       "combo_implant_iud_pill_shot_withdrawal                           3\n",
       "combo_emergency_implant_withdrawal                               2\n",
       "combo_emergency_pill_ring                                        2\n",
       "combo_barrier_iud_pill_sterilization                             2\n",
       "combo_iud_periodic abstinence_pill                               2\n",
       "combo_barrier_implant_patch                                      2\n",
       "combo_implant_iud_pill_ring                                      2\n",
       "combo_emergency_pill_shot                                        2\n",
       "combo_patch_pill_ring_withdrawal                                 1\n",
       "combo_iud_periodic abstinence_withdrawal                         1\n",
       "Name: parent_type, dtype: int64"
      ]
     },
     "execution_count": 549,
     "metadata": {},
     "output_type": "execute_result"
    }
   ],
   "source": [
    "comments_df['parent_type'].value_counts()"
   ]
  },
  {
   "cell_type": "code",
   "execution_count": 550,
   "metadata": {},
   "outputs": [
    {
     "data": {
      "text/plain": [
       "pill                                                        0.311735\n",
       "iud                                                         0.297475\n",
       "unknown                                                     0.135198\n",
       "implant                                                     0.077784\n",
       "barrier                                                     0.035309\n",
       "shot                                                        0.028134\n",
       "ring                                                        0.019754\n",
       "emergency                                                   0.017158\n",
       "combo_iud_pill                                              0.011818\n",
       "combo_barrier_pill                                          0.008159\n",
       "patch                                                       0.008130\n",
       "combo_implant_pill                                          0.005456\n",
       "combo_implant_iud                                           0.003846\n",
       "combo_emergency_pill                                        0.003696\n",
       "sterilization                                               0.002415\n",
       "combo_barrier_iud                                           0.002399\n",
       "combo_barrier_emergency                                     0.002358\n",
       "withdrawal                                                  0.002090\n",
       "combo_pill_shot                                             0.001930\n",
       "periodic abstinence                                         0.001796\n",
       "combo_pill_ring                                             0.001571\n",
       "combo_iud_shot                                              0.001561\n",
       "combo_implant_shot                                          0.001398\n",
       "combo_pill_withdrawal                                       0.001386\n",
       "combo_barrier_implant                                       0.001333\n",
       "combo_implant_iud_pill                                      0.001110\n",
       "combo_barrier_emergency_pill                                0.000936\n",
       "combo_iud_ring                                              0.000899\n",
       "combo_barrier_iud_pill                                      0.000743\n",
       "combo_periodic abstinence_withdrawal                        0.000603\n",
       "combo_patch_pill                                            0.000550\n",
       "combo_barrier_implant_pill                                  0.000524\n",
       "combo_emergency_iud                                         0.000507\n",
       "combo_iud_sterilization                                     0.000410\n",
       "combo_iud_pill_ring                                         0.000351\n",
       "combo_barrier_ring                                          0.000339\n",
       "combo_emergency_implant                                     0.000337\n",
       "combo_barrier_periodic abstinence                           0.000325\n",
       "combo_pill_sterilization                                    0.000319\n",
       "combo_iud_pill_shot                                         0.000317\n",
       "combo_barrier_pill_withdrawal                               0.000288\n",
       "combo_barrier_shot                                          0.000286\n",
       "combo_implant_pill_shot                                     0.000272\n",
       "combo_implant_iud_shot                                      0.000268\n",
       "combo_barrier_sterilization                                 0.000268\n",
       "combo_barrier_withdrawal                                    0.000258\n",
       "combo_implant_ring                                          0.000248\n",
       "combo_ring_shot                                             0.000244\n",
       "combo_emergency_withdrawal                                  0.000235\n",
       "combo_barrier_iud_patch                                     0.000211\n",
       "combo_iud_patch                                             0.000201\n",
       "combo_iud_periodic abstinence                               0.000189\n",
       "combo_implant_patch                                         0.000187\n",
       "combo_barrier_implant_iud_pill                              0.000185\n",
       "combo_barrier_iud_withdrawal                                0.000183\n",
       "combo_implant_pill_ring                                     0.000179\n",
       "combo_patch_ring                                            0.000168\n",
       "combo_periodic abstinence_pill                              0.000164\n",
       "combo_barrier_patch                                         0.000154\n",
       "combo_implant_iud_pill_shot                                 0.000132\n",
       "combo_shot_sterilization                                    0.000132\n",
       "combo_barrier_pill_shot                                     0.000122\n",
       "combo_iud_pill_sterilization                                0.000110\n",
       "combo_pill_ring_shot                                        0.000106\n",
       "combo_barrier_pill_ring                                     0.000106\n",
       "combo_patch_pill_ring                                       0.000101\n",
       "combo_ring_withdrawal                                       0.000097\n",
       "combo_barrier_emergency_iud                                 0.000095\n",
       "combo_barrier_implant_pill_shot                             0.000093\n",
       "combo_barrier_iud_shot                                      0.000089\n",
       "combo_barrier_implant_iud                                   0.000085\n",
       "combo_emergency_ring                                        0.000085\n",
       "combo_implant_sterilization                                 0.000079\n",
       "combo_iud_withdrawal                                        0.000077\n",
       "combo_patch_shot                                            0.000075\n",
       "combo_implant_patch_pill                                    0.000069\n",
       "combo_implant_withdrawal                                    0.000067\n",
       "combo_implant_iud_patch_pill                                0.000059\n",
       "combo_pill_ring_sterilization                               0.000059\n",
       "combo_barrier_periodic abstinence_withdrawal                0.000055\n",
       "combo_emergency_iud_pill                                    0.000055\n",
       "combo_barrier_periodic abstinence_pill                      0.000051\n",
       "combo_implant_patch_pill_ring                               0.000051\n",
       "combo_barrier_emergency_iud_pill                            0.000051\n",
       "combo_barrier_iud_periodic abstinence                       0.000051\n",
       "combo_barrier_implant_iud_pill_ring                         0.000049\n",
       "combo_implant_iud_ring                                      0.000049\n",
       "combo_barrier_emergency_implant                             0.000047\n",
       "combo_emergency_ring_withdrawal                             0.000047\n",
       "combo_iud_patch_ring                                        0.000047\n",
       "combo_implant_iud_pill_ring_shot                            0.000045\n",
       "combo_emergency_shot                                        0.000045\n",
       "combo_implant_iud_patch                                     0.000045\n",
       "combo_emergency_pill_withdrawal                             0.000045\n",
       "combo_emergency_implant_pill                                0.000043\n",
       "combo_barrier_iud_sterilization                             0.000039\n",
       "combo_patch_pill_shot                                       0.000039\n",
       "combo_barrier_iud_periodic abstinence_pill_sterilization    0.000039\n",
       "combo_iud_patch_pill                                        0.000037\n",
       "combo_barrier_shot_withdrawal                               0.000037\n",
       "combo_barrier_emergency_pill_withdrawal                     0.000037\n",
       "combo_iud_pill_shot_sterilization                           0.000035\n",
       "combo_implant_patch_ring                                    0.000032\n",
       "combo_emergency_patch                                       0.000032\n",
       "combo_iud_pill_withdrawal                                   0.000030\n",
       "combo_iud_patch_pill_shot                                   0.000030\n",
       "combo_iud_patch_periodic abstinence_pill_shot               0.000028\n",
       "combo_iud_pill_ring_shot                                    0.000028\n",
       "combo_barrier_patch_pill_ring_shot                          0.000024\n",
       "combo_patch_withdrawal                                      0.000024\n",
       "combo_iud_ring_shot                                         0.000024\n",
       "combo_barrier_implant_iud_periodic abstinence_pill          0.000024\n",
       "combo_implant_iud_patch_shot                                0.000024\n",
       "combo_barrier_patch_pill_ring                               0.000022\n",
       "combo_implant_periodic abstinence                           0.000022\n",
       "combo_implant_iud_patch_pill_shot                           0.000022\n",
       "combo_implant_patch_pill_shot                               0.000020\n",
       "combo_implant_pill_sterilization                            0.000020\n",
       "combo_barrier_iud_patch_pill_ring_shot                      0.000020\n",
       "combo_barrier_implant_shot                                  0.000018\n",
       "combo_implant_iud_sterilization                             0.000018\n",
       "combo_barrier_ring_withdrawal                               0.000016\n",
       "combo_barrier_emergency_shot                                0.000016\n",
       "combo_barrier_emergency_iud_patch_pill_ring_shot            0.000016\n",
       "combo_barrier_iud_pill_ring_sterilization                   0.000014\n",
       "combo_barrier_implant_iud_pill_sterilization                0.000014\n",
       "combo_implant_iud_patch_ring                                0.000014\n",
       "combo_shot_withdrawal                                       0.000014\n",
       "combo_implant_iud_pill_sterilization                        0.000012\n",
       "combo_implant_ring_shot                                     0.000012\n",
       "combo_implant_iud_patch_pill_ring                           0.000012\n",
       "combo_patch_pill_withdrawal                                 0.000012\n",
       "combo_emergency_implant_iud                                 0.000010\n",
       "combo_barrier_periodic abstinence_ring_withdrawal           0.000010\n",
       "combo_barrier_implant_iud_pill_shot                         0.000010\n",
       "combo_barrier_patch_pill                                    0.000010\n",
       "combo_implant_iud_patch_ring_shot                           0.000010\n",
       "combo_periodic abstinence_shot                              0.000010\n",
       "combo_barrier_emergency_periodic abstinence_withdrawal      0.000010\n",
       "combo_patch_pill_sterilization                              0.000008\n",
       "combo_barrier_iud_pill_shot                                 0.000008\n",
       "combo_pill_ring_shot_sterilization                          0.000008\n",
       "combo_implant_iud_patch_pill_ring_shot                      0.000008\n",
       "combo_barrier_emergency_pill_ring                           0.000006\n",
       "combo_pill_ring_withdrawal                                  0.000006\n",
       "combo_pill_shot_withdrawal                                  0.000006\n",
       "combo_implant_iud_pill_shot_withdrawal                      0.000006\n",
       "combo_emergency_implant_withdrawal                          0.000004\n",
       "combo_emergency_pill_ring                                   0.000004\n",
       "combo_barrier_iud_pill_sterilization                        0.000004\n",
       "combo_iud_periodic abstinence_pill                          0.000004\n",
       "combo_barrier_implant_patch                                 0.000004\n",
       "combo_implant_iud_pill_ring                                 0.000004\n",
       "combo_emergency_pill_shot                                   0.000004\n",
       "combo_patch_pill_ring_withdrawal                            0.000002\n",
       "combo_iud_periodic abstinence_withdrawal                    0.000002\n",
       "Name: parent_type, dtype: float64"
      ]
     },
     "execution_count": 550,
     "metadata": {},
     "output_type": "execute_result"
    }
   ],
   "source": [
    "comments_df['parent_type'].value_counts(normalize=True)"
   ]
  },
  {
   "cell_type": "code",
   "execution_count": 551,
   "metadata": {},
   "outputs": [
    {
     "data": {
      "text/plain": [
       "492713"
      ]
     },
     "execution_count": 551,
     "metadata": {},
     "output_type": "execute_result"
    }
   ],
   "source": [
    "len(comments_df.index)"
   ]
  },
  {
   "cell_type": "code",
   "execution_count": 552,
   "metadata": {},
   "outputs": [
    {
     "data": {
      "text/plain": [
       "345371"
      ]
     },
     "execution_count": 552,
     "metadata": {},
     "output_type": "execute_result"
    }
   ],
   "source": [
    "# comments_df = comments_df[(comments_df['text_type'].isin(['pill', 'iud', 'implant'])) | ((comments_df['text_type'] == 'unknown') & (comments_df['parent_type'].isin(['pill', 'iud', 'implant'])))]\n",
    "\n",
    "def add_parent_type(r):\n",
    "    if r['text_type'] == 'unknown':\n",
    "        return r['parent_type']\n",
    "    return r['text_type']\n",
    "\n",
    "comments_df['text_type'] = comments_df.apply(add_parent_type, axis=1)\n",
    "comments_df = comments_df[comments_df['text_type'].isin(['pill', 'iud', 'implant'])]\n",
    "\n",
    "len(comments_df.index)"
   ]
  },
  {
   "cell_type": "code",
   "execution_count": 553,
   "metadata": {},
   "outputs": [
    {
     "data": {
      "text/plain": [
       "0.6278827633936997"
      ]
     },
     "execution_count": 553,
     "metadata": {},
     "output_type": "execute_result"
    }
   ],
   "source": [
    "309366/492713"
   ]
  },
  {
   "cell_type": "code",
   "execution_count": 554,
   "metadata": {},
   "outputs": [],
   "source": [
    "# for i, r in comments_df[comments_df['text_type'] == 'implant'].sample(10).iterrows():\n",
    "#     print(r['body'])\n",
    "#     print()\n",
    "#     print('============================================')\n",
    "#     print()"
   ]
  },
  {
   "cell_type": "code",
   "execution_count": 555,
   "metadata": {},
   "outputs": [],
   "source": [
    "id_type_dict = {r['id']: r['text_type'] for i, r in comments_df.iterrows()}\n",
    "pickle.dump(id_type_dict, open(data_directory_path + '/labeling/reddit_comments.id_type_dict.pickle', 'wb'))"
   ]
  },
  {
   "cell_type": "markdown",
   "metadata": {},
   "source": [
    "### Get the year and month and remove comments whose years cannot be found."
   ]
  },
  {
   "cell_type": "code",
   "execution_count": 556,
   "metadata": {},
   "outputs": [
    {
     "data": {
      "text/plain": [
       "345371"
      ]
     },
     "execution_count": 556,
     "metadata": {},
     "output_type": "execute_result"
    }
   ],
   "source": [
    "comments_df['year'] = comments_df['created_utc'].apply(get_year)\n",
    "comments_df['month'] = comments_df['created_utc'].apply(get_month)\n",
    "comments_df = comments_df[(comments_df['year'] != 'Unknown') & (comments_df['year'] != 1970)]\n",
    "len(comments_df.index)"
   ]
  },
  {
   "cell_type": "code",
   "execution_count": 557,
   "metadata": {},
   "outputs": [
    {
     "data": {
      "text/plain": [
       "2020    97970\n",
       "2019    80610\n",
       "2018    55147\n",
       "2017    38356\n",
       "2016    25015\n",
       "2015    19588\n",
       "2014    14310\n",
       "2013     9048\n",
       "2012     4889\n",
       "2011      438\n",
       "Name: year, dtype: int64"
      ]
     },
     "execution_count": 557,
     "metadata": {},
     "output_type": "execute_result"
    }
   ],
   "source": [
    "comments_df['year'].value_counts()"
   ]
  },
  {
   "cell_type": "markdown",
   "metadata": {},
   "source": [
    "### Remove comments by the OP, stickied comments, and comments where the user was removed."
   ]
  },
  {
   "cell_type": "code",
   "execution_count": 558,
   "metadata": {},
   "outputs": [
    {
     "data": {
      "text/plain": [
       "291280"
      ]
     },
     "execution_count": 558,
     "metadata": {},
     "output_type": "execute_result"
    }
   ],
   "source": [
    "comments_df = comments_df[(comments_df['is_submitter']) != True & (comments_df['stickied'] == False) & (comments_df['user_removed'] != False)]\n",
    "len(comments_df.index)"
   ]
  },
  {
   "cell_type": "markdown",
   "metadata": {},
   "source": [
    "### Remove comments without a date"
   ]
  },
  {
   "cell_type": "code",
   "execution_count": 559,
   "metadata": {},
   "outputs": [
    {
     "data": {
      "text/plain": [
       "291280"
      ]
     },
     "execution_count": 559,
     "metadata": {},
     "output_type": "execute_result"
    }
   ],
   "source": [
    "comments_df = comments_df.dropna(subset=['created_utc'])\n",
    "len(comments_df.index)"
   ]
  },
  {
   "cell_type": "markdown",
   "metadata": {},
   "source": [
    "### Remove short comments."
   ]
  },
  {
   "cell_type": "code",
   "execution_count": 560,
   "metadata": {},
   "outputs": [],
   "source": [
    "def get_num_tokens(text):\n",
    "    if pd.isnull(text):\n",
    "        return 0\n",
    "    return len(text.split())\n",
    "\n",
    "comments_df['num_tokens'] = comments_df['body'].apply(get_num_tokens)"
   ]
  },
  {
   "cell_type": "code",
   "execution_count": 561,
   "metadata": {},
   "outputs": [
    {
     "data": {
      "text/plain": [
       "279158"
      ]
     },
     "execution_count": 561,
     "metadata": {},
     "output_type": "execute_result"
    }
   ],
   "source": [
    "# The token length requirement also handles deleted comments, which are replaced with the single \"[deleted]\" token.\n",
    "comments_df = comments_df[(comments_df['num_tokens'] >= 3)]\n",
    "len(comments_df.index)"
   ]
  },
  {
   "cell_type": "markdown",
   "metadata": {},
   "source": [
    "### Remove duplicate comments"
   ]
  },
  {
   "cell_type": "code",
   "execution_count": 562,
   "metadata": {},
   "outputs": [
    {
     "data": {
      "text/plain": [
       "277299"
      ]
     },
     "execution_count": 562,
     "metadata": {},
     "output_type": "execute_result"
    }
   ],
   "source": [
    "comments_df = comments_df.drop_duplicates(subset='body')\n",
    "len(comments_df)"
   ]
  },
  {
   "cell_type": "markdown",
   "metadata": {},
   "source": [
    "### Drop all the unnecessary columns, rename columns, add source column"
   ]
  },
  {
   "cell_type": "code",
   "execution_count": 563,
   "metadata": {},
   "outputs": [],
   "source": [
    "comments_df = comments_df[['id', 'parent_id', 'created_utc', 'body', 'tokens_text', 'text_type', 'year', 'month']]\n",
    "comments_df = comments_df.rename(columns={'body': 'text'})\n",
    "comments_df['source'] = 'reddit-comments'"
   ]
  },
  {
   "cell_type": "code",
   "execution_count": 564,
   "metadata": {},
   "outputs": [
    {
     "data": {
      "text/plain": [
       "2020    70958\n",
       "2019    63532\n",
       "2018    40456\n",
       "2017    34065\n",
       "2016    23979\n",
       "2015    18439\n",
       "2014    13047\n",
       "2013     8073\n",
       "2012     4364\n",
       "2011      386\n",
       "Name: year, dtype: int64"
      ]
     },
     "execution_count": 564,
     "metadata": {},
     "output_type": "execute_result"
    }
   ],
   "source": [
    "comments_df['year'].value_counts()"
   ]
  },
  {
   "cell_type": "markdown",
   "metadata": {},
   "source": [
    "### Remove November-December 2020 to match WebMD"
   ]
  },
  {
   "cell_type": "code",
   "execution_count": 565,
   "metadata": {},
   "outputs": [
    {
     "data": {
      "text/plain": [
       "2020    70958\n",
       "2019    63532\n",
       "2018    40456\n",
       "2017    34065\n",
       "2016    23979\n",
       "2015    18439\n",
       "2014    13047\n",
       "2013     8073\n",
       "2012     4364\n",
       "2011      386\n",
       "Name: year, dtype: int64"
      ]
     },
     "execution_count": 565,
     "metadata": {},
     "output_type": "execute_result"
    }
   ],
   "source": [
    "comments_df['year'].value_counts()"
   ]
  },
  {
   "cell_type": "code",
   "execution_count": 566,
   "metadata": {},
   "outputs": [
    {
     "data": {
      "text/plain": [
       "264912"
      ]
     },
     "execution_count": 566,
     "metadata": {},
     "output_type": "execute_result"
    }
   ],
   "source": [
    "comments_df = comments_df[~((comments_df['year'] == 2020) & (comments_df['month'].isin([11, 12])))]\n",
    "len(comments_df.index)"
   ]
  },
  {
   "cell_type": "code",
   "execution_count": 567,
   "metadata": {},
   "outputs": [
    {
     "data": {
      "text/plain": [
       "2019    63532\n",
       "2020    58571\n",
       "2018    40456\n",
       "2017    34065\n",
       "2016    23979\n",
       "2015    18439\n",
       "2014    13047\n",
       "2013     8073\n",
       "2012     4364\n",
       "2011      386\n",
       "Name: year, dtype: int64"
      ]
     },
     "execution_count": 567,
     "metadata": {},
     "output_type": "execute_result"
    }
   ],
   "source": [
    "comments_df['year'].value_counts()"
   ]
  },
  {
   "cell_type": "markdown",
   "metadata": {},
   "source": [
    "### Final dataframe"
   ]
  },
  {
   "cell_type": "code",
   "execution_count": 568,
   "metadata": {},
   "outputs": [
    {
     "data": {
      "text/plain": [
       "264912"
      ]
     },
     "execution_count": 568,
     "metadata": {},
     "output_type": "execute_result"
    }
   ],
   "source": [
    "len(comments_df.index)"
   ]
  },
  {
   "cell_type": "code",
   "execution_count": 569,
   "metadata": {},
   "outputs": [
    {
     "data": {
      "text/html": [
       "<div>\n",
       "<style scoped>\n",
       "    .dataframe tbody tr th:only-of-type {\n",
       "        vertical-align: middle;\n",
       "    }\n",
       "\n",
       "    .dataframe tbody tr th {\n",
       "        vertical-align: top;\n",
       "    }\n",
       "\n",
       "    .dataframe thead th {\n",
       "        text-align: right;\n",
       "    }\n",
       "</style>\n",
       "<table border=\"1\" class=\"dataframe\">\n",
       "  <thead>\n",
       "    <tr style=\"text-align: right;\">\n",
       "      <th></th>\n",
       "      <th>id</th>\n",
       "      <th>parent_id</th>\n",
       "      <th>created_utc</th>\n",
       "      <th>text</th>\n",
       "      <th>tokens_text</th>\n",
       "      <th>text_type</th>\n",
       "      <th>year</th>\n",
       "      <th>month</th>\n",
       "      <th>source</th>\n",
       "    </tr>\n",
       "  </thead>\n",
       "  <tbody>\n",
       "    <tr>\n",
       "      <th>515</th>\n",
       "      <td>c6kp01d</td>\n",
       "      <td>t1_c6k1nhj</td>\n",
       "      <td>1349920388</td>\n",
       "      <td>Ah okay, thanks. I did a bit more googling aft...</td>\n",
       "      <td>ah okay thanks bit googling posting question s...</td>\n",
       "      <td>pill</td>\n",
       "      <td>2012</td>\n",
       "      <td>10</td>\n",
       "      <td>reddit-comments</td>\n",
       "    </tr>\n",
       "    <tr>\n",
       "      <th>6560</th>\n",
       "      <td>ewkfp2k</td>\n",
       "      <td>t1_ewjrzkr</td>\n",
       "      <td>1565483173</td>\n",
       "      <td>Yeah you definitely want them long.  I had a n...</td>\n",
       "      <td>yeah definitely want long nurse practitioner i...</td>\n",
       "      <td>iud</td>\n",
       "      <td>2019</td>\n",
       "      <td>8</td>\n",
       "      <td>reddit-comments</td>\n",
       "    </tr>\n",
       "    <tr>\n",
       "      <th>2414</th>\n",
       "      <td>e4k1y52</td>\n",
       "      <td>t3_990i79</td>\n",
       "      <td>1534829918</td>\n",
       "      <td>From what I've learned, placebo is supposed to...</td>\n",
       "      <td>learned placebo supposed period people sex period</td>\n",
       "      <td>pill</td>\n",
       "      <td>2018</td>\n",
       "      <td>8</td>\n",
       "      <td>reddit-comments</td>\n",
       "    </tr>\n",
       "  </tbody>\n",
       "</table>\n",
       "</div>"
      ],
      "text/plain": [
       "           id   parent_id created_utc  \\\n",
       "515   c6kp01d  t1_c6k1nhj  1349920388   \n",
       "6560  ewkfp2k  t1_ewjrzkr  1565483173   \n",
       "2414  e4k1y52   t3_990i79  1534829918   \n",
       "\n",
       "                                                   text  \\\n",
       "515   Ah okay, thanks. I did a bit more googling aft...   \n",
       "6560  Yeah you definitely want them long.  I had a n...   \n",
       "2414  From what I've learned, placebo is supposed to...   \n",
       "\n",
       "                                            tokens_text text_type  year  \\\n",
       "515   ah okay thanks bit googling posting question s...      pill  2012   \n",
       "6560  yeah definitely want long nurse practitioner i...       iud  2019   \n",
       "2414  learned placebo supposed period people sex period      pill  2018   \n",
       "\n",
       "      month           source  \n",
       "515      10  reddit-comments  \n",
       "6560      8  reddit-comments  \n",
       "2414      8  reddit-comments  "
      ]
     },
     "execution_count": 569,
     "metadata": {},
     "output_type": "execute_result"
    }
   ],
   "source": [
    "comments_df.sample(3)"
   ]
  },
  {
   "cell_type": "code",
   "execution_count": 570,
   "metadata": {},
   "outputs": [
    {
     "data": {
      "text/plain": [
       "iud        117631\n",
       "pill       117283\n",
       "implant     29998\n",
       "Name: text_type, dtype: int64"
      ]
     },
     "execution_count": 570,
     "metadata": {},
     "output_type": "execute_result"
    }
   ],
   "source": [
    "comments_df['text_type'].value_counts()"
   ]
  },
  {
   "cell_type": "code",
   "execution_count": 571,
   "metadata": {},
   "outputs": [
    {
     "data": {
      "text/plain": [
       "2019    63532\n",
       "2020    58571\n",
       "2018    40456\n",
       "2017    34065\n",
       "2016    23979\n",
       "2015    18439\n",
       "2014    13047\n",
       "2013     8073\n",
       "2012     4364\n",
       "2011      386\n",
       "Name: year, dtype: int64"
      ]
     },
     "execution_count": 571,
     "metadata": {},
     "output_type": "execute_result"
    }
   ],
   "source": [
    "comments_df['year'].value_counts()"
   ]
  },
  {
   "cell_type": "code",
   "execution_count": 572,
   "metadata": {},
   "outputs": [],
   "source": [
    "comments_df.to_csv(data_directory_path + '/final-data/reddit_comments.csv')"
   ]
  },
  {
   "cell_type": "code",
   "execution_count": 573,
   "metadata": {},
   "outputs": [
    {
     "data": {
      "text/html": [
       "<div>\n",
       "<style scoped>\n",
       "    .dataframe tbody tr th:only-of-type {\n",
       "        vertical-align: middle;\n",
       "    }\n",
       "\n",
       "    .dataframe tbody tr th {\n",
       "        vertical-align: top;\n",
       "    }\n",
       "\n",
       "    .dataframe thead th {\n",
       "        text-align: right;\n",
       "    }\n",
       "</style>\n",
       "<table border=\"1\" class=\"dataframe\">\n",
       "  <thead>\n",
       "    <tr style=\"text-align: right;\">\n",
       "      <th></th>\n",
       "      <th>id</th>\n",
       "      <th>parent_id</th>\n",
       "      <th>created_utc</th>\n",
       "      <th>text</th>\n",
       "      <th>tokens_text</th>\n",
       "      <th>text_type</th>\n",
       "      <th>year</th>\n",
       "      <th>month</th>\n",
       "      <th>source</th>\n",
       "    </tr>\n",
       "  </thead>\n",
       "  <tbody>\n",
       "    <tr>\n",
       "      <th>2453</th>\n",
       "      <td>d525xyl</td>\n",
       "      <td>t1_d524m86</td>\n",
       "      <td>1467851061</td>\n",
       "      <td>Yeah, I've never heard of getting heavier peri...</td>\n",
       "      <td>yeah never heard getting heavier periods inser...</td>\n",
       "      <td>iud</td>\n",
       "      <td>2016</td>\n",
       "      <td>7</td>\n",
       "      <td>reddit-comments</td>\n",
       "    </tr>\n",
       "    <tr>\n",
       "      <th>3341</th>\n",
       "      <td>dyyltim</td>\n",
       "      <td>t3_8jc7k5</td>\n",
       "      <td>1526308931</td>\n",
       "      <td>I'm terrified and I just got mine put in about...</td>\n",
       "      <td>m terrified got mine put half hour ago experie...</td>\n",
       "      <td>pill</td>\n",
       "      <td>2018</td>\n",
       "      <td>5</td>\n",
       "      <td>reddit-comments</td>\n",
       "    </tr>\n",
       "    <tr>\n",
       "      <th>5459</th>\n",
       "      <td>dwnj54b</td>\n",
       "      <td>t3_88ucx1</td>\n",
       "      <td>1522630653</td>\n",
       "      <td>I'll start by saying that I am not a medical p...</td>\n",
       "      <td>start saying medical professional read lot ins...</td>\n",
       "      <td>pill</td>\n",
       "      <td>2018</td>\n",
       "      <td>4</td>\n",
       "      <td>reddit-comments</td>\n",
       "    </tr>\n",
       "  </tbody>\n",
       "</table>\n",
       "</div>"
      ],
      "text/plain": [
       "           id   parent_id created_utc  \\\n",
       "2453  d525xyl  t1_d524m86  1467851061   \n",
       "3341  dyyltim   t3_8jc7k5  1526308931   \n",
       "5459  dwnj54b   t3_88ucx1  1522630653   \n",
       "\n",
       "                                                   text  \\\n",
       "2453  Yeah, I've never heard of getting heavier peri...   \n",
       "3341  I'm terrified and I just got mine put in about...   \n",
       "5459  I'll start by saying that I am not a medical p...   \n",
       "\n",
       "                                            tokens_text text_type  year  \\\n",
       "2453  yeah never heard getting heavier periods inser...       iud  2016   \n",
       "3341  m terrified got mine put half hour ago experie...      pill  2018   \n",
       "5459  start saying medical professional read lot ins...      pill  2018   \n",
       "\n",
       "      month           source  \n",
       "2453      7  reddit-comments  \n",
       "3341      5  reddit-comments  \n",
       "5459      4  reddit-comments  "
      ]
     },
     "execution_count": 573,
     "metadata": {},
     "output_type": "execute_result"
    }
   ],
   "source": [
    "comments_df.sample(3)"
   ]
  },
  {
   "cell_type": "code",
   "execution_count": 574,
   "metadata": {},
   "outputs": [],
   "source": [
    "# target_df = comments_df[comments_df['parent_type'] != 'unknown']\n",
    "# for i, r in target_df[target_df['text_type'] != target_df['parent_type']].sample(10).iterrows():\n",
    "#     print('Text Type:', r['text_type'])\n",
    "#     print('Parent Type:', r['parent_type'])\n",
    "#     print(' '.join(r['text'].split()))\n",
    "#     print()"
   ]
  },
  {
   "cell_type": "code",
   "execution_count": 575,
   "metadata": {},
   "outputs": [],
   "source": [
    "# target_df = comments_df[comments_df['text_type'] == 'unknown']\n",
    "# for i, r in target_df.sample(10).iterrows():\n",
    "#     print('Text Type:', r['text_type'])\n",
    "#     print('Parent Type:', r['parent_type'])\n",
    "#     print(' '.join(r['text'].split()))\n",
    "#     print()"
   ]
  },
  {
   "cell_type": "code",
   "execution_count": null,
   "metadata": {},
   "outputs": [],
   "source": []
  },
  {
   "cell_type": "code",
   "execution_count": null,
   "metadata": {},
   "outputs": [],
   "source": []
  }
 ],
 "metadata": {
  "interpreter": {
   "hash": "88435282e7afd386f137f5bf71124f6ca50142be149f9ca18724b5a580de610c"
  },
  "kernelspec": {
   "display_name": "Python 3.7.9 64-bit ('python3.7env': conda)",
   "language": "python",
   "name": "python3"
  },
  "language_info": {
   "codemirror_mode": {
    "name": "ipython",
    "version": 3
   },
   "file_extension": ".py",
   "mimetype": "text/x-python",
   "name": "python",
   "nbconvert_exporter": "python",
   "pygments_lexer": "ipython3",
   "version": "3.8.12"
  },
  "metadata": {
   "interpreter": {
    "hash": "3bf6718e1fb94d37e4dcdce4af31e71b15d9d634835b5761d954c77044e0e9ad"
   }
  },
  "orig_nbformat": 2
 },
 "nbformat": 4,
 "nbformat_minor": 2
}
