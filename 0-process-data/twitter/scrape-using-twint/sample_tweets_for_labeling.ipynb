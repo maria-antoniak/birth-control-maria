{
 "metadata": {
  "language_info": {
   "codemirror_mode": {
    "name": "ipython",
    "version": 3
   },
   "file_extension": ".py",
   "mimetype": "text/x-python",
   "name": "python",
   "nbconvert_exporter": "python",
   "pygments_lexer": "ipython3",
   "version": "3.7.9"
  },
  "orig_nbformat": 2,
  "kernelspec": {
   "name": "python3",
   "display_name": "Python 3",
   "language": "python"
  }
 },
 "nbformat": 4,
 "nbformat_minor": 2,
 "cells": [
  {
   "cell_type": "code",
   "execution_count": 1,
   "metadata": {},
   "outputs": [],
   "source": [
    "from collections import defaultdict\n",
    "from datetime import datetime\n",
    "import dill\n",
    "from itertools import permutations, combinations\n",
    "import json\n",
    "from operator import itemgetter\n",
    "import os\n",
    "import pickle\n",
    "import random\n",
    "import re\n",
    "import time\n",
    "\n",
    "import numpy as np\n",
    "import pandas as pd\n",
    "from sklearn.cluster import KMeans\n",
    "\n",
    "%matplotlib inline\n",
    "import matplotlib\n",
    "import matplotlib.pyplot as plt\n",
    "import seaborn as sns\n",
    "from adjustText import adjust_text\n",
    "sns.set(style='ticks', font_scale=1.2)\n",
    "\n",
    "import little_mallet_wrapper as lmw"
   ]
  },
  {
   "cell_type": "code",
   "execution_count": 2,
   "metadata": {},
   "outputs": [],
   "source": [
    "data_directory_path   = '/Volumes/Passport-1/data/birth-control'\n",
    "output_directory_path = '/Volumes/Passport-1/output/birth-control'"
   ]
  },
  {
   "cell_type": "code",
   "execution_count": 3,
   "metadata": {},
   "outputs": [],
   "source": [
    "twitter_df = pd.read_csv(data_directory_path + '/twitter/without-retweets/twitter.csv')"
   ]
  },
  {
   "cell_type": "code",
   "execution_count": 4,
   "metadata": {},
   "outputs": [
    {
     "output_type": "execute_result",
     "data": {
      "text/plain": [
       "765857"
      ]
     },
     "metadata": {},
     "execution_count": 4
    }
   ],
   "source": [
    "len(twitter_df)"
   ]
  },
  {
   "cell_type": "code",
   "execution_count": 7,
   "metadata": {},
   "outputs": [
    {
     "output_type": "execute_result",
     "data": {
      "text/plain": [
       "   Unnamed: 0                 date  year  \\\n",
       "0          66  2009-12-05 13:01:39  2009   \n",
       "1         131  2009-11-10 23:48:15  2009   \n",
       "2         134  2009-11-10 10:57:49  2009   \n",
       "\n",
       "                                                text   type text_type  \\\n",
       "0  Male birth control pill http://bit.ly/I7953 Th...  tweet      pill   \n",
       "1  ...bc that's what it sounds like. also this si...  tweet      pill   \n",
       "2  oh my gaaawd my aunt just asked me am I a pill...  tweet      pill   \n",
       "\n",
       "                                          token_text  \n",
       "0  male birth control pill http //bit ly/iNUM quo...  \n",
       "1  sounds like also site http //www quiverfull co...  \n",
       "2  gaaawd aunt asked pill popper sees takin sum e...  "
      ],
      "text/html": "<div>\n<style scoped>\n    .dataframe tbody tr th:only-of-type {\n        vertical-align: middle;\n    }\n\n    .dataframe tbody tr th {\n        vertical-align: top;\n    }\n\n    .dataframe thead th {\n        text-align: right;\n    }\n</style>\n<table border=\"1\" class=\"dataframe\">\n  <thead>\n    <tr style=\"text-align: right;\">\n      <th></th>\n      <th>Unnamed: 0</th>\n      <th>date</th>\n      <th>year</th>\n      <th>text</th>\n      <th>type</th>\n      <th>text_type</th>\n      <th>token_text</th>\n    </tr>\n  </thead>\n  <tbody>\n    <tr>\n      <th>0</th>\n      <td>66</td>\n      <td>2009-12-05 13:01:39</td>\n      <td>2009</td>\n      <td>Male birth control pill http://bit.ly/I7953 Th...</td>\n      <td>tweet</td>\n      <td>pill</td>\n      <td>male birth control pill http //bit ly/iNUM quo...</td>\n    </tr>\n    <tr>\n      <th>1</th>\n      <td>131</td>\n      <td>2009-11-10 23:48:15</td>\n      <td>2009</td>\n      <td>...bc that's what it sounds like. also this si...</td>\n      <td>tweet</td>\n      <td>pill</td>\n      <td>sounds like also site http //www quiverfull co...</td>\n    </tr>\n    <tr>\n      <th>2</th>\n      <td>134</td>\n      <td>2009-11-10 10:57:49</td>\n      <td>2009</td>\n      <td>oh my gaaawd my aunt just asked me am I a pill...</td>\n      <td>tweet</td>\n      <td>pill</td>\n      <td>gaaawd aunt asked pill popper sees takin sum e...</td>\n    </tr>\n  </tbody>\n</table>\n</div>"
     },
     "metadata": {},
     "execution_count": 7
    }
   ],
   "source": [
    "twitter_df.head(3)"
   ]
  },
  {
   "cell_type": "code",
   "execution_count": 6,
   "metadata": {},
   "outputs": [],
   "source": [
    "sampled_twitter_df = twitter_df.sample(1000)"
   ]
  },
  {
   "cell_type": "code",
   "execution_count": 8,
   "metadata": {},
   "outputs": [],
   "source": [
    "sampled_twitter_df['id'] = sampled_twitter_df['Unnamed: 0']"
   ]
  },
  {
   "cell_type": "code",
   "execution_count": 9,
   "metadata": {},
   "outputs": [
    {
     "output_type": "execute_result",
     "data": {
      "text/plain": [
       "        Unnamed: 0                 date  year  \\\n",
       "549053      967172  2018-06-28 12:49:04  2018   \n",
       "523776      924531  2018-12-18 07:25:00  2018   \n",
       "231846      418770  2020-07-23 18:45:36  2020   \n",
       "\n",
       "                                                     text   type text_type  \\\n",
       "549053  @MsAnneBoleyn @maydaymindy9 For me the IUD did...  tweet       iud   \n",
       "523776  If you’re thinking about getting an IUD, and n...  tweet       iud   \n",
       "231846  Ok so I’m getting off this contraceptive pill....  tweet      pill   \n",
       "\n",
       "                                               token_text      id  \n",
       "549053  msanneboleyn maydaymindyNUM iud stop fertiliza...  967172  \n",
       "523776  thinking getting iud sure one right mnt wrote ...  924531  \n",
       "231846  getting contraceptive pill good till NUMam cry...  418770  "
      ],
      "text/html": "<div>\n<style scoped>\n    .dataframe tbody tr th:only-of-type {\n        vertical-align: middle;\n    }\n\n    .dataframe tbody tr th {\n        vertical-align: top;\n    }\n\n    .dataframe thead th {\n        text-align: right;\n    }\n</style>\n<table border=\"1\" class=\"dataframe\">\n  <thead>\n    <tr style=\"text-align: right;\">\n      <th></th>\n      <th>Unnamed: 0</th>\n      <th>date</th>\n      <th>year</th>\n      <th>text</th>\n      <th>type</th>\n      <th>text_type</th>\n      <th>token_text</th>\n      <th>id</th>\n    </tr>\n  </thead>\n  <tbody>\n    <tr>\n      <th>549053</th>\n      <td>967172</td>\n      <td>2018-06-28 12:49:04</td>\n      <td>2018</td>\n      <td>@MsAnneBoleyn @maydaymindy9 For me the IUD did...</td>\n      <td>tweet</td>\n      <td>iud</td>\n      <td>msanneboleyn maydaymindyNUM iud stop fertiliza...</td>\n      <td>967172</td>\n    </tr>\n    <tr>\n      <th>523776</th>\n      <td>924531</td>\n      <td>2018-12-18 07:25:00</td>\n      <td>2018</td>\n      <td>If you’re thinking about getting an IUD, and n...</td>\n      <td>tweet</td>\n      <td>iud</td>\n      <td>thinking getting iud sure one right mnt wrote ...</td>\n      <td>924531</td>\n    </tr>\n    <tr>\n      <th>231846</th>\n      <td>418770</td>\n      <td>2020-07-23 18:45:36</td>\n      <td>2020</td>\n      <td>Ok so I’m getting off this contraceptive pill....</td>\n      <td>tweet</td>\n      <td>pill</td>\n      <td>getting contraceptive pill good till NUMam cry...</td>\n      <td>418770</td>\n    </tr>\n  </tbody>\n</table>\n</div>"
     },
     "metadata": {},
     "execution_count": 9
    }
   ],
   "source": [
    "sampled_twitter_df.head(3)"
   ]
  },
  {
   "cell_type": "code",
   "execution_count": 12,
   "metadata": {},
   "outputs": [],
   "source": [
    "sampled_twitter_df.to_excel('/Volumes/Passport-1/data/birth-control/labeling/labeled_tweets.xlsx')"
   ]
  },
  {
   "cell_type": "code",
   "execution_count": null,
   "metadata": {},
   "outputs": [],
   "source": []
  }
 ]
}