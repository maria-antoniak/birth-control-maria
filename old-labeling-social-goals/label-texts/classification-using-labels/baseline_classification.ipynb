{
 "cells": [
  {
   "cell_type": "code",
   "execution_count": 1,
   "source": [
    "from collections import defaultdict\n",
    "import json\n",
    "import random\n",
    "import re\n",
    "\n",
    "import pandas as pd\n",
    "import numpy as np\n",
    "\n",
    "from sklearn.metrics import accuracy_score, precision_recall_fscore_support, classification_report\n",
    "from sklearn.feature_extraction.text import TfidfVectorizer\n",
    "from sklearn.linear_model import LogisticRegression\n",
    "\n",
    "import torch\n",
    "\n",
    "%matplotlib inline\n",
    "import matplotlib.pyplot as plt\n",
    "import seaborn as sns\n",
    "from matplotlib import ticker\n",
    "sns.set(style='ticks', font_scale=1.2)\n",
    "import matplotlib\n",
    "matplotlib.rcParams['pdf.fonttype'] = 42\n",
    "matplotlib.rcParams['ps.fonttype'] = 42"
   ],
   "outputs": [],
   "metadata": {}
  },
  {
   "cell_type": "code",
   "execution_count": 2,
   "source": [
    "data_directory_path   = '/Volumes/Passport-1/data/birth-control'\n",
    "output_directory_path = '/Volumes/Passport-1/output/birth-control'"
   ],
   "outputs": [],
   "metadata": {}
  },
  {
   "cell_type": "code",
   "execution_count": null,
   "source": [],
   "outputs": [],
   "metadata": {}
  },
  {
   "cell_type": "code",
   "execution_count": null,
   "source": [],
   "outputs": [],
   "metadata": {}
  },
  {
   "cell_type": "markdown",
   "source": [
    "<br><br>\n",
    "\n",
    "# Load datasets (Reddit, WebMD, Twitter)"
   ],
   "metadata": {}
  },
  {
   "cell_type": "markdown",
   "source": [
    "## Reddit"
   ],
   "metadata": {}
  },
  {
   "cell_type": "code",
   "execution_count": 86,
   "source": [
    "reddit_posts_df = pd.read_csv(data_directory_path + '/final-data/reddit_posts.csv')\n",
    "reddit_comments_df = pd.read_csv(data_directory_path + '/final-data/reddit_comments.csv')"
   ],
   "outputs": [],
   "metadata": {}
  },
  {
   "cell_type": "code",
   "execution_count": 87,
   "source": [
    "len(reddit_posts_df.index), len(reddit_comments_df.index)"
   ],
   "outputs": [
    {
     "output_type": "execute_result",
     "data": {
      "text/plain": [
       "(72731, 238568)"
      ]
     },
     "metadata": {},
     "execution_count": 87
    }
   ],
   "metadata": {}
  },
  {
   "cell_type": "code",
   "execution_count": 88,
   "source": [
    "reddit_comments_df.sample(3)"
   ],
   "outputs": [
    {
     "output_type": "execute_result",
     "data": {
      "text/plain": [
       "        Unnamed: 0  Unnamed: 0.1       id   parent_id   created_utc  \\\n",
       "110121      110121          3445  dyxfbpz  t1_dyxeuhs  1.526247e+09   \n",
       "44017        44017          2248  db6hxqj   t3_5i4dy8  1.481711e+09   \n",
       "236674      236674          7823  g4u0p79   t3_iqsyga  1.599839e+09   \n",
       "\n",
       "                                                     text  year  month  \\\n",
       "110121  Yeah, honestly I would call the doctor today.\\...  2018      5   \n",
       "44017   I have never had a child and I got the Mirena,...  2016     12   \n",
       "236674  They’ll test you for pregnancy. You should be ...  2020      9   \n",
       "\n",
       "                 source                                        tokens_text  \\\n",
       "110121  reddit-comments  yeah honestly would call doctor today feeling ...   \n",
       "44017   reddit-comments  never child got mirena m also rather small acc...   \n",
       "236674  reddit-comments                            test pregnancy fine tbh   \n",
       "\n",
       "       text_type  \n",
       "110121       iud  \n",
       "44017        iud  \n",
       "236674       iud  "
      ],
      "text/html": [
       "<div>\n",
       "<style scoped>\n",
       "    .dataframe tbody tr th:only-of-type {\n",
       "        vertical-align: middle;\n",
       "    }\n",
       "\n",
       "    .dataframe tbody tr th {\n",
       "        vertical-align: top;\n",
       "    }\n",
       "\n",
       "    .dataframe thead th {\n",
       "        text-align: right;\n",
       "    }\n",
       "</style>\n",
       "<table border=\"1\" class=\"dataframe\">\n",
       "  <thead>\n",
       "    <tr style=\"text-align: right;\">\n",
       "      <th></th>\n",
       "      <th>Unnamed: 0</th>\n",
       "      <th>Unnamed: 0.1</th>\n",
       "      <th>id</th>\n",
       "      <th>parent_id</th>\n",
       "      <th>created_utc</th>\n",
       "      <th>text</th>\n",
       "      <th>year</th>\n",
       "      <th>month</th>\n",
       "      <th>source</th>\n",
       "      <th>tokens_text</th>\n",
       "      <th>text_type</th>\n",
       "    </tr>\n",
       "  </thead>\n",
       "  <tbody>\n",
       "    <tr>\n",
       "      <th>110121</th>\n",
       "      <td>110121</td>\n",
       "      <td>3445</td>\n",
       "      <td>dyxfbpz</td>\n",
       "      <td>t1_dyxeuhs</td>\n",
       "      <td>1.526247e+09</td>\n",
       "      <td>Yeah, honestly I would call the doctor today.\\...</td>\n",
       "      <td>2018</td>\n",
       "      <td>5</td>\n",
       "      <td>reddit-comments</td>\n",
       "      <td>yeah honestly would call doctor today feeling ...</td>\n",
       "      <td>iud</td>\n",
       "    </tr>\n",
       "    <tr>\n",
       "      <th>44017</th>\n",
       "      <td>44017</td>\n",
       "      <td>2248</td>\n",
       "      <td>db6hxqj</td>\n",
       "      <td>t3_5i4dy8</td>\n",
       "      <td>1.481711e+09</td>\n",
       "      <td>I have never had a child and I got the Mirena,...</td>\n",
       "      <td>2016</td>\n",
       "      <td>12</td>\n",
       "      <td>reddit-comments</td>\n",
       "      <td>never child got mirena m also rather small acc...</td>\n",
       "      <td>iud</td>\n",
       "    </tr>\n",
       "    <tr>\n",
       "      <th>236674</th>\n",
       "      <td>236674</td>\n",
       "      <td>7823</td>\n",
       "      <td>g4u0p79</td>\n",
       "      <td>t3_iqsyga</td>\n",
       "      <td>1.599839e+09</td>\n",
       "      <td>They’ll test you for pregnancy. You should be ...</td>\n",
       "      <td>2020</td>\n",
       "      <td>9</td>\n",
       "      <td>reddit-comments</td>\n",
       "      <td>test pregnancy fine tbh</td>\n",
       "      <td>iud</td>\n",
       "    </tr>\n",
       "  </tbody>\n",
       "</table>\n",
       "</div>"
      ]
     },
     "metadata": {},
     "execution_count": 88
    }
   ],
   "metadata": {}
  },
  {
   "cell_type": "code",
   "execution_count": 89,
   "source": [
    "reddit_posts_df.sample(3)"
   ],
   "outputs": [
    {
     "output_type": "execute_result",
     "data": {
      "text/plain": [
       "       Unnamed: 0      id  created_utc  \\\n",
       "27141         667  8bae4p   1523387378   \n",
       "52251         465  eu02rj   1580002426   \n",
       "12581         329  4mnlkt   1465136766   \n",
       "\n",
       "                                                    text  \\\n",
       "27141  I had my pill free week, and I missed the firs...   \n",
       "52251  So I have a doctor appointment on the 29th (4 ...   \n",
       "12581  Hi there ladies!\\n\\nI'm 19 years old and have ...   \n",
       "\n",
       "                                                   title  year  month  \\\n",
       "27141                                    Pregnancy risk?  2018      4   \n",
       "52251  Which birth control is better? IUD, pills or a...  2020      1   \n",
       "12581                IUD's, depression, and weight gain?  2016      6   \n",
       "\n",
       "                                                     url   link_flair_text  \\\n",
       "27141  https://www.reddit.com/r/birthcontrol/comments...  Mistake or Risk?   \n",
       "52251  https://www.reddit.com/r/birthcontrol/comments...     Which Method?   \n",
       "12581  https://www.reddit.com/r/birthcontrol/comments...    Side Effects!?   \n",
       "\n",
       "             source                                        tokens_text  \\\n",
       "27141  reddit-posts  pregnancy risk pill free week missed first pil...   \n",
       "52251  reddit-posts  birth control better iud pills contraceptive i...   \n",
       "12581  reddit-posts  iud depression weight gain hi ladies m NUM yea...   \n",
       "\n",
       "      text_type  \n",
       "27141      pill  \n",
       "52251   implant  \n",
       "12581       iud  "
      ],
      "text/html": [
       "<div>\n",
       "<style scoped>\n",
       "    .dataframe tbody tr th:only-of-type {\n",
       "        vertical-align: middle;\n",
       "    }\n",
       "\n",
       "    .dataframe tbody tr th {\n",
       "        vertical-align: top;\n",
       "    }\n",
       "\n",
       "    .dataframe thead th {\n",
       "        text-align: right;\n",
       "    }\n",
       "</style>\n",
       "<table border=\"1\" class=\"dataframe\">\n",
       "  <thead>\n",
       "    <tr style=\"text-align: right;\">\n",
       "      <th></th>\n",
       "      <th>Unnamed: 0</th>\n",
       "      <th>id</th>\n",
       "      <th>created_utc</th>\n",
       "      <th>text</th>\n",
       "      <th>title</th>\n",
       "      <th>year</th>\n",
       "      <th>month</th>\n",
       "      <th>url</th>\n",
       "      <th>link_flair_text</th>\n",
       "      <th>source</th>\n",
       "      <th>tokens_text</th>\n",
       "      <th>text_type</th>\n",
       "    </tr>\n",
       "  </thead>\n",
       "  <tbody>\n",
       "    <tr>\n",
       "      <th>27141</th>\n",
       "      <td>667</td>\n",
       "      <td>8bae4p</td>\n",
       "      <td>1523387378</td>\n",
       "      <td>I had my pill free week, and I missed the firs...</td>\n",
       "      <td>Pregnancy risk?</td>\n",
       "      <td>2018</td>\n",
       "      <td>4</td>\n",
       "      <td>https://www.reddit.com/r/birthcontrol/comments...</td>\n",
       "      <td>Mistake or Risk?</td>\n",
       "      <td>reddit-posts</td>\n",
       "      <td>pregnancy risk pill free week missed first pil...</td>\n",
       "      <td>pill</td>\n",
       "    </tr>\n",
       "    <tr>\n",
       "      <th>52251</th>\n",
       "      <td>465</td>\n",
       "      <td>eu02rj</td>\n",
       "      <td>1580002426</td>\n",
       "      <td>So I have a doctor appointment on the 29th (4 ...</td>\n",
       "      <td>Which birth control is better? IUD, pills or a...</td>\n",
       "      <td>2020</td>\n",
       "      <td>1</td>\n",
       "      <td>https://www.reddit.com/r/birthcontrol/comments...</td>\n",
       "      <td>Which Method?</td>\n",
       "      <td>reddit-posts</td>\n",
       "      <td>birth control better iud pills contraceptive i...</td>\n",
       "      <td>implant</td>\n",
       "    </tr>\n",
       "    <tr>\n",
       "      <th>12581</th>\n",
       "      <td>329</td>\n",
       "      <td>4mnlkt</td>\n",
       "      <td>1465136766</td>\n",
       "      <td>Hi there ladies!\\n\\nI'm 19 years old and have ...</td>\n",
       "      <td>IUD's, depression, and weight gain?</td>\n",
       "      <td>2016</td>\n",
       "      <td>6</td>\n",
       "      <td>https://www.reddit.com/r/birthcontrol/comments...</td>\n",
       "      <td>Side Effects!?</td>\n",
       "      <td>reddit-posts</td>\n",
       "      <td>iud depression weight gain hi ladies m NUM yea...</td>\n",
       "      <td>iud</td>\n",
       "    </tr>\n",
       "  </tbody>\n",
       "</table>\n",
       "</div>"
      ]
     },
     "metadata": {},
     "execution_count": 89
    }
   ],
   "metadata": {}
  },
  {
   "cell_type": "markdown",
   "source": [
    "## WebMD"
   ],
   "metadata": {}
  },
  {
   "cell_type": "code",
   "execution_count": 90,
   "source": [
    "webmd_df = pd.read_csv(data_directory_path + '/final-data/webmd.csv')"
   ],
   "outputs": [],
   "metadata": {}
  },
  {
   "cell_type": "code",
   "execution_count": 91,
   "source": [
    "len(webmd_df.index)"
   ],
   "outputs": [
    {
     "output_type": "execute_result",
     "data": {
      "text/plain": [
       "18110"
      ]
     },
     "metadata": {},
     "execution_count": 91
    }
   ],
   "metadata": {}
  },
  {
   "cell_type": "code",
   "execution_count": 92,
   "source": [
    "webmd_df.sample(3)"
   ],
   "outputs": [
    {
     "output_type": "execute_result",
     "data": {
      "text/plain": [
       "       Unnamed: 0  Unnamed: 0.1  Unnamed: 0.1.1      id        date  year  \\\n",
       "1246         1246          1293            1293   w1322  2012-05-30  2012   \n",
       "13917       13917         15773           15773  w16167  2017-08-01  2017   \n",
       "2678         2678          3642            3642   w3731  2008-11-08  2008   \n",
       "\n",
       "                                                    text  \\\n",
       "1246   I started Yaz, and had a few side effects, nau...   \n",
       "13917  I got my Skyla inserted in early May, so I am ...   \n",
       "2678   I went on Femcon FE after being off another bc...   \n",
       "\n",
       "                            name  title         source text_type  num_tokens  \\\n",
       "1246                       beyaz    NaN  webmd-reviews      pill         283   \n",
       "13917               skyla-device    NaN  webmd-reviews       iud          94   \n",
       "2678   femcon-fe-tablet-chewable    NaN  webmd-reviews      pill         107   \n",
       "\n",
       "                                             tokens_text  \n",
       "1246   started yaz side effects nausea dizzy spells u...  \n",
       "13917  got skyla inserted early may NUM month mark de...  \n",
       "2678   went femcon fe another bc pill almost year exp...  "
      ],
      "text/html": [
       "<div>\n",
       "<style scoped>\n",
       "    .dataframe tbody tr th:only-of-type {\n",
       "        vertical-align: middle;\n",
       "    }\n",
       "\n",
       "    .dataframe tbody tr th {\n",
       "        vertical-align: top;\n",
       "    }\n",
       "\n",
       "    .dataframe thead th {\n",
       "        text-align: right;\n",
       "    }\n",
       "</style>\n",
       "<table border=\"1\" class=\"dataframe\">\n",
       "  <thead>\n",
       "    <tr style=\"text-align: right;\">\n",
       "      <th></th>\n",
       "      <th>Unnamed: 0</th>\n",
       "      <th>Unnamed: 0.1</th>\n",
       "      <th>Unnamed: 0.1.1</th>\n",
       "      <th>id</th>\n",
       "      <th>date</th>\n",
       "      <th>year</th>\n",
       "      <th>text</th>\n",
       "      <th>name</th>\n",
       "      <th>title</th>\n",
       "      <th>source</th>\n",
       "      <th>text_type</th>\n",
       "      <th>num_tokens</th>\n",
       "      <th>tokens_text</th>\n",
       "    </tr>\n",
       "  </thead>\n",
       "  <tbody>\n",
       "    <tr>\n",
       "      <th>1246</th>\n",
       "      <td>1246</td>\n",
       "      <td>1293</td>\n",
       "      <td>1293</td>\n",
       "      <td>w1322</td>\n",
       "      <td>2012-05-30</td>\n",
       "      <td>2012</td>\n",
       "      <td>I started Yaz, and had a few side effects, nau...</td>\n",
       "      <td>beyaz</td>\n",
       "      <td>NaN</td>\n",
       "      <td>webmd-reviews</td>\n",
       "      <td>pill</td>\n",
       "      <td>283</td>\n",
       "      <td>started yaz side effects nausea dizzy spells u...</td>\n",
       "    </tr>\n",
       "    <tr>\n",
       "      <th>13917</th>\n",
       "      <td>13917</td>\n",
       "      <td>15773</td>\n",
       "      <td>15773</td>\n",
       "      <td>w16167</td>\n",
       "      <td>2017-08-01</td>\n",
       "      <td>2017</td>\n",
       "      <td>I got my Skyla inserted in early May, so I am ...</td>\n",
       "      <td>skyla-device</td>\n",
       "      <td>NaN</td>\n",
       "      <td>webmd-reviews</td>\n",
       "      <td>iud</td>\n",
       "      <td>94</td>\n",
       "      <td>got skyla inserted early may NUM month mark de...</td>\n",
       "    </tr>\n",
       "    <tr>\n",
       "      <th>2678</th>\n",
       "      <td>2678</td>\n",
       "      <td>3642</td>\n",
       "      <td>3642</td>\n",
       "      <td>w3731</td>\n",
       "      <td>2008-11-08</td>\n",
       "      <td>2008</td>\n",
       "      <td>I went on Femcon FE after being off another bc...</td>\n",
       "      <td>femcon-fe-tablet-chewable</td>\n",
       "      <td>NaN</td>\n",
       "      <td>webmd-reviews</td>\n",
       "      <td>pill</td>\n",
       "      <td>107</td>\n",
       "      <td>went femcon fe another bc pill almost year exp...</td>\n",
       "    </tr>\n",
       "  </tbody>\n",
       "</table>\n",
       "</div>"
      ]
     },
     "metadata": {},
     "execution_count": 92
    }
   ],
   "metadata": {}
  },
  {
   "cell_type": "markdown",
   "source": [
    "## Twitter"
   ],
   "metadata": {}
  },
  {
   "cell_type": "code",
   "execution_count": 93,
   "source": [
    "twitter_posts_df = pd.read_csv(data_directory_path + '/final-data/twitter_posts.csv')\n",
    "twitter_replies_df = pd.read_csv(data_directory_path + '/final-data/twitter_replies.csv')"
   ],
   "outputs": [],
   "metadata": {}
  },
  {
   "cell_type": "code",
   "execution_count": 94,
   "source": [
    "len(twitter_posts_df.index), len(twitter_replies_df.index)"
   ],
   "outputs": [
    {
     "output_type": "execute_result",
     "data": {
      "text/plain": [
       "(513017, 244140)"
      ]
     },
     "metadata": {},
     "execution_count": 94
    }
   ],
   "metadata": {}
  },
  {
   "cell_type": "code",
   "execution_count": 95,
   "source": [
    "twitter_posts_df.sample(3)"
   ],
   "outputs": [
    {
     "output_type": "execute_result",
     "data": {
      "text/plain": [
       "        Unnamed: 0         source  \\\n",
       "210317      239297  twitter-posts   \n",
       "68370        73144  twitter-posts   \n",
       "306256      350526  twitter-posts   \n",
       "\n",
       "                                                     text  \\\n",
       "210317      My new IUD | Scarleteen http://fb.me/NiJnf4rB   \n",
       "68370                    I'm not buying into the IUD hype   \n",
       "306256  sex drive and birth control pill https://t.co/...   \n",
       "\n",
       "                                              tokens_text text_type  \\\n",
       "210317         new iud scarleteen http //fb me/nijnfNUMrb       iud   \n",
       "68370                                     buying iud hype       iud   \n",
       "306256  sex drive birth control pill https //t co/iNUM...      pill   \n",
       "\n",
       "                            date  year  month                  id  \\\n",
       "210317  2011-07-18T15:03:55.000Z  2011      7   92972876164116480   \n",
       "68370   2017-09-11T15:38:04.000Z  2017      9  907267004360544257   \n",
       "306256  2017-08-22T14:03:34.000Z  2017      8  899995465156100096   \n",
       "\n",
       "           conversation_id  retweet_count  reply_count  like_count  \\\n",
       "210317   92972876164116480              1            0           0   \n",
       "68370   907267004360544257              0            0           0   \n",
       "306256  899995465156100096              0            0           0   \n",
       "\n",
       "        quote_count  num_tokens  \n",
       "210317            0           6  \n",
       "68370             0           3  \n",
       "306256            0           8  "
      ],
      "text/html": [
       "<div>\n",
       "<style scoped>\n",
       "    .dataframe tbody tr th:only-of-type {\n",
       "        vertical-align: middle;\n",
       "    }\n",
       "\n",
       "    .dataframe tbody tr th {\n",
       "        vertical-align: top;\n",
       "    }\n",
       "\n",
       "    .dataframe thead th {\n",
       "        text-align: right;\n",
       "    }\n",
       "</style>\n",
       "<table border=\"1\" class=\"dataframe\">\n",
       "  <thead>\n",
       "    <tr style=\"text-align: right;\">\n",
       "      <th></th>\n",
       "      <th>Unnamed: 0</th>\n",
       "      <th>source</th>\n",
       "      <th>text</th>\n",
       "      <th>tokens_text</th>\n",
       "      <th>text_type</th>\n",
       "      <th>date</th>\n",
       "      <th>year</th>\n",
       "      <th>month</th>\n",
       "      <th>id</th>\n",
       "      <th>conversation_id</th>\n",
       "      <th>retweet_count</th>\n",
       "      <th>reply_count</th>\n",
       "      <th>like_count</th>\n",
       "      <th>quote_count</th>\n",
       "      <th>num_tokens</th>\n",
       "    </tr>\n",
       "  </thead>\n",
       "  <tbody>\n",
       "    <tr>\n",
       "      <th>210317</th>\n",
       "      <td>239297</td>\n",
       "      <td>twitter-posts</td>\n",
       "      <td>My new IUD | Scarleteen http://fb.me/NiJnf4rB</td>\n",
       "      <td>new iud scarleteen http //fb me/nijnfNUMrb</td>\n",
       "      <td>iud</td>\n",
       "      <td>2011-07-18T15:03:55.000Z</td>\n",
       "      <td>2011</td>\n",
       "      <td>7</td>\n",
       "      <td>92972876164116480</td>\n",
       "      <td>92972876164116480</td>\n",
       "      <td>1</td>\n",
       "      <td>0</td>\n",
       "      <td>0</td>\n",
       "      <td>0</td>\n",
       "      <td>6</td>\n",
       "    </tr>\n",
       "    <tr>\n",
       "      <th>68370</th>\n",
       "      <td>73144</td>\n",
       "      <td>twitter-posts</td>\n",
       "      <td>I'm not buying into the IUD hype</td>\n",
       "      <td>buying iud hype</td>\n",
       "      <td>iud</td>\n",
       "      <td>2017-09-11T15:38:04.000Z</td>\n",
       "      <td>2017</td>\n",
       "      <td>9</td>\n",
       "      <td>907267004360544257</td>\n",
       "      <td>907267004360544257</td>\n",
       "      <td>0</td>\n",
       "      <td>0</td>\n",
       "      <td>0</td>\n",
       "      <td>0</td>\n",
       "      <td>3</td>\n",
       "    </tr>\n",
       "    <tr>\n",
       "      <th>306256</th>\n",
       "      <td>350526</td>\n",
       "      <td>twitter-posts</td>\n",
       "      <td>sex drive and birth control pill https://t.co/...</td>\n",
       "      <td>sex drive birth control pill https //t co/iNUM...</td>\n",
       "      <td>pill</td>\n",
       "      <td>2017-08-22T14:03:34.000Z</td>\n",
       "      <td>2017</td>\n",
       "      <td>8</td>\n",
       "      <td>899995465156100096</td>\n",
       "      <td>899995465156100096</td>\n",
       "      <td>0</td>\n",
       "      <td>0</td>\n",
       "      <td>0</td>\n",
       "      <td>0</td>\n",
       "      <td>8</td>\n",
       "    </tr>\n",
       "  </tbody>\n",
       "</table>\n",
       "</div>"
      ]
     },
     "metadata": {},
     "execution_count": 95
    }
   ],
   "metadata": {}
  },
  {
   "cell_type": "code",
   "execution_count": 96,
   "source": [
    "twitter_replies_df.sample(3)"
   ],
   "outputs": [
    {
     "output_type": "execute_result",
     "data": {
      "text/plain": [
       "        Unnamed: 0           source  \\\n",
       "159036      170224  twitter-replies   \n",
       "221990      244841  twitter-replies   \n",
       "107799      112917  twitter-replies   \n",
       "\n",
       "                                                     text  \\\n",
       "159036   Fine, IUDs work great. Plenty of my friends u...   \n",
       "221990    I can imagine dear, visit the hospital and g...   \n",
       "107799   not necessarily completely natural but the iu...   \n",
       "\n",
       "                                              tokens_text text_type  \\\n",
       "159036  fine iuds work great plenty friends use never ...       iud   \n",
       "221990  imagine dear visit hospital get recommendation...      pill   \n",
       "107799    necessarily completely natural iud non hormonal       iud   \n",
       "\n",
       "                            date  year  month                   id  \\\n",
       "159036  2020-08-04T21:34:11.000Z  2020      8  1290762983329726466   \n",
       "221990  2018-09-01T10:40:34.000Z  2018      9  1035839829211336704   \n",
       "107799  2016-05-13T17:32:40.000Z  2016      5   731175342228938752   \n",
       "\n",
       "            conversation_id  retweet_count  reply_count  like_count  \\\n",
       "159036  1290747229091688449              0            3           0   \n",
       "221990  1035555295634890752              1            0           1   \n",
       "107799   730945245857251330              0            0           1   \n",
       "\n",
       "        quote_count  num_tokens  \n",
       "159036            0          26  \n",
       "221990            0          27  \n",
       "107799            0           6  "
      ],
      "text/html": [
       "<div>\n",
       "<style scoped>\n",
       "    .dataframe tbody tr th:only-of-type {\n",
       "        vertical-align: middle;\n",
       "    }\n",
       "\n",
       "    .dataframe tbody tr th {\n",
       "        vertical-align: top;\n",
       "    }\n",
       "\n",
       "    .dataframe thead th {\n",
       "        text-align: right;\n",
       "    }\n",
       "</style>\n",
       "<table border=\"1\" class=\"dataframe\">\n",
       "  <thead>\n",
       "    <tr style=\"text-align: right;\">\n",
       "      <th></th>\n",
       "      <th>Unnamed: 0</th>\n",
       "      <th>source</th>\n",
       "      <th>text</th>\n",
       "      <th>tokens_text</th>\n",
       "      <th>text_type</th>\n",
       "      <th>date</th>\n",
       "      <th>year</th>\n",
       "      <th>month</th>\n",
       "      <th>id</th>\n",
       "      <th>conversation_id</th>\n",
       "      <th>retweet_count</th>\n",
       "      <th>reply_count</th>\n",
       "      <th>like_count</th>\n",
       "      <th>quote_count</th>\n",
       "      <th>num_tokens</th>\n",
       "    </tr>\n",
       "  </thead>\n",
       "  <tbody>\n",
       "    <tr>\n",
       "      <th>159036</th>\n",
       "      <td>170224</td>\n",
       "      <td>twitter-replies</td>\n",
       "      <td>Fine, IUDs work great. Plenty of my friends u...</td>\n",
       "      <td>fine iuds work great plenty friends use never ...</td>\n",
       "      <td>iud</td>\n",
       "      <td>2020-08-04T21:34:11.000Z</td>\n",
       "      <td>2020</td>\n",
       "      <td>8</td>\n",
       "      <td>1290762983329726466</td>\n",
       "      <td>1290747229091688449</td>\n",
       "      <td>0</td>\n",
       "      <td>3</td>\n",
       "      <td>0</td>\n",
       "      <td>0</td>\n",
       "      <td>26</td>\n",
       "    </tr>\n",
       "    <tr>\n",
       "      <th>221990</th>\n",
       "      <td>244841</td>\n",
       "      <td>twitter-replies</td>\n",
       "      <td>I can imagine dear, visit the hospital and g...</td>\n",
       "      <td>imagine dear visit hospital get recommendation...</td>\n",
       "      <td>pill</td>\n",
       "      <td>2018-09-01T10:40:34.000Z</td>\n",
       "      <td>2018</td>\n",
       "      <td>9</td>\n",
       "      <td>1035839829211336704</td>\n",
       "      <td>1035555295634890752</td>\n",
       "      <td>1</td>\n",
       "      <td>0</td>\n",
       "      <td>1</td>\n",
       "      <td>0</td>\n",
       "      <td>27</td>\n",
       "    </tr>\n",
       "    <tr>\n",
       "      <th>107799</th>\n",
       "      <td>112917</td>\n",
       "      <td>twitter-replies</td>\n",
       "      <td>not necessarily completely natural but the iu...</td>\n",
       "      <td>necessarily completely natural iud non hormonal</td>\n",
       "      <td>iud</td>\n",
       "      <td>2016-05-13T17:32:40.000Z</td>\n",
       "      <td>2016</td>\n",
       "      <td>5</td>\n",
       "      <td>731175342228938752</td>\n",
       "      <td>730945245857251330</td>\n",
       "      <td>0</td>\n",
       "      <td>0</td>\n",
       "      <td>1</td>\n",
       "      <td>0</td>\n",
       "      <td>6</td>\n",
       "    </tr>\n",
       "  </tbody>\n",
       "</table>\n",
       "</div>"
      ]
     },
     "metadata": {},
     "execution_count": 96
    }
   ],
   "metadata": {}
  },
  {
   "cell_type": "markdown",
   "source": [
    "<br><br><br><br>\n",
    "\n",
    "# Combine into one dataframe"
   ],
   "metadata": {}
  },
  {
   "cell_type": "code",
   "execution_count": 97,
   "source": [
    "combined_df = pd.concat([reddit_posts_df, reddit_comments_df, twitter_posts_df, twitter_replies_df, webmd_df])\n",
    "len(combined_df)"
   ],
   "outputs": [
    {
     "output_type": "execute_result",
     "data": {
      "text/plain": [
       "1086566"
      ]
     },
     "metadata": {},
     "execution_count": 97
    }
   ],
   "metadata": {}
  },
  {
   "cell_type": "code",
   "execution_count": 98,
   "source": [
    "combined_df['source'].value_counts()"
   ],
   "outputs": [
    {
     "output_type": "execute_result",
     "data": {
      "text/plain": [
       "twitter-posts      513017\n",
       "twitter-replies    244140\n",
       "reddit-comments    238568\n",
       "reddit-posts        72731\n",
       "webmd-reviews       18110\n",
       "Name: source, dtype: int64"
      ]
     },
     "metadata": {},
     "execution_count": 98
    }
   ],
   "metadata": {}
  },
  {
   "cell_type": "code",
   "execution_count": null,
   "source": [],
   "outputs": [],
   "metadata": {}
  },
  {
   "cell_type": "code",
   "execution_count": null,
   "source": [],
   "outputs": [],
   "metadata": {}
  },
  {
   "cell_type": "code",
   "execution_count": null,
   "source": [],
   "outputs": [],
   "metadata": {}
  },
  {
   "cell_type": "code",
   "execution_count": null,
   "source": [],
   "outputs": [],
   "metadata": {}
  },
  {
   "cell_type": "code",
   "execution_count": null,
   "source": [],
   "outputs": [],
   "metadata": {}
  },
  {
   "cell_type": "markdown",
   "source": [
    "<br><br><br><br>\n",
    "\n",
    "# **Load the labeled data**"
   ],
   "metadata": {}
  },
  {
   "cell_type": "code",
   "execution_count": 52,
   "source": [
    "labeled_df = pd.read_csv(data_directory_path + '/labeling/final_labeled_df.csv')\n",
    "len(labeled_df.index)"
   ],
   "outputs": [
    {
     "output_type": "execute_result",
     "data": {
      "text/plain": [
       "1227"
      ]
     },
     "metadata": {},
     "execution_count": 52
    }
   ],
   "metadata": {}
  },
  {
   "cell_type": "code",
   "execution_count": 57,
   "source": [
    "labeled_df.sample(3)"
   ],
   "outputs": [
    {
     "output_type": "execute_result",
     "data": {
      "text/plain": [
       "      Unnamed: 0  Unnamed: 0.1                   ID  \\\n",
       "787          140           140   964277082179166200   \n",
       "726           71            71   398908986256146400   \n",
       "1211         321           321  1328420887687696400   \n",
       "\n",
       "                                Label  \\\n",
       "787                         DISCOURSE   \n",
       "726   PROVIDING INFORMATIONAL SUPPORT   \n",
       "1211            PROVIDING EXPERIENCES   \n",
       "\n",
       "                                                   Text           Source  \\\n",
       "787                  Nexplanon is such a cock block man    twitter-posts   \n",
       "726   Oral contraceptive pills and hormone replaceme...    twitter-posts   \n",
       "1211  @sheeeiidaa I’ve had nexplanon for 4 years, th...  twitter-replies   \n",
       "\n",
       "         Decision     Type                                             Tokens  \n",
       "787   two or more  Implant                           nexplanon cock block man  \n",
       "726   two or more     Pill  oral contraceptive pills hormone replacement t...  \n",
       "1211  two or more  Implant                                                NaN  "
      ],
      "text/html": [
       "<div>\n",
       "<style scoped>\n",
       "    .dataframe tbody tr th:only-of-type {\n",
       "        vertical-align: middle;\n",
       "    }\n",
       "\n",
       "    .dataframe tbody tr th {\n",
       "        vertical-align: top;\n",
       "    }\n",
       "\n",
       "    .dataframe thead th {\n",
       "        text-align: right;\n",
       "    }\n",
       "</style>\n",
       "<table border=\"1\" class=\"dataframe\">\n",
       "  <thead>\n",
       "    <tr style=\"text-align: right;\">\n",
       "      <th></th>\n",
       "      <th>Unnamed: 0</th>\n",
       "      <th>Unnamed: 0.1</th>\n",
       "      <th>ID</th>\n",
       "      <th>Label</th>\n",
       "      <th>Text</th>\n",
       "      <th>Source</th>\n",
       "      <th>Decision</th>\n",
       "      <th>Type</th>\n",
       "      <th>Tokens</th>\n",
       "    </tr>\n",
       "  </thead>\n",
       "  <tbody>\n",
       "    <tr>\n",
       "      <th>787</th>\n",
       "      <td>140</td>\n",
       "      <td>140</td>\n",
       "      <td>964277082179166200</td>\n",
       "      <td>DISCOURSE</td>\n",
       "      <td>Nexplanon is such a cock block man</td>\n",
       "      <td>twitter-posts</td>\n",
       "      <td>two or more</td>\n",
       "      <td>Implant</td>\n",
       "      <td>nexplanon cock block man</td>\n",
       "    </tr>\n",
       "    <tr>\n",
       "      <th>726</th>\n",
       "      <td>71</td>\n",
       "      <td>71</td>\n",
       "      <td>398908986256146400</td>\n",
       "      <td>PROVIDING INFORMATIONAL SUPPORT</td>\n",
       "      <td>Oral contraceptive pills and hormone replaceme...</td>\n",
       "      <td>twitter-posts</td>\n",
       "      <td>two or more</td>\n",
       "      <td>Pill</td>\n",
       "      <td>oral contraceptive pills hormone replacement t...</td>\n",
       "    </tr>\n",
       "    <tr>\n",
       "      <th>1211</th>\n",
       "      <td>321</td>\n",
       "      <td>321</td>\n",
       "      <td>1328420887687696400</td>\n",
       "      <td>PROVIDING EXPERIENCES</td>\n",
       "      <td>@sheeeiidaa I’ve had nexplanon for 4 years, th...</td>\n",
       "      <td>twitter-replies</td>\n",
       "      <td>two or more</td>\n",
       "      <td>Implant</td>\n",
       "      <td>NaN</td>\n",
       "    </tr>\n",
       "  </tbody>\n",
       "</table>\n",
       "</div>"
      ]
     },
     "metadata": {},
     "execution_count": 57
    }
   ],
   "metadata": {}
  },
  {
   "cell_type": "code",
   "execution_count": 56,
   "source": [
    "for _source in labeled_df['Source'].unique():\n",
    "    _df = labeled_df[labeled_df['Source'] == _source]\n",
    "    print(_source)\n",
    "    print(_df['Label'].value_counts())\n",
    "    print()"
   ],
   "outputs": [
    {
     "output_type": "stream",
     "name": "stdout",
     "text": [
      "reddit-posts\n",
      "SEEKING INFORMATIONAL SUPPORT      159\n",
      "SEEKING EXPERIENCES                 94\n",
      "SEEKING EMOTIONAL SUPPORT           59\n",
      "PROVIDING EXPERIENCES               29\n",
      "PROVIDING INFORMATIONAL SUPPORT      4\n",
      "DISCOURSE                            2\n",
      "PROVIDING EMOTIONAL SUPPORT          2\n",
      "Name: Label, dtype: int64\n",
      "\n",
      "reddit-comments\n",
      "PROVIDING EXPERIENCES              133\n",
      "PROVIDING INFORMATIONAL SUPPORT    127\n",
      "PROVIDING EMOTIONAL SUPPORT         32\n",
      "DISCOURSE                            8\n",
      "SEEKING INFORMATIONAL SUPPORT        6\n",
      "SEEKING EMOTIONAL SUPPORT            4\n",
      "SEEKING EXPERIENCES                  3\n",
      "Name: Label, dtype: int64\n",
      "\n",
      "twitter-posts\n",
      "PROVIDING INFORMATIONAL SUPPORT    96\n",
      "DISCOURSE                          94\n",
      "PROVIDING EXPERIENCES              49\n",
      "SEEKING EXPERIENCES                10\n",
      "SEEKING INFORMATIONAL SUPPORT      10\n",
      "SEEKING EMOTIONAL SUPPORT           9\n",
      "PROVIDING EMOTIONAL SUPPORT         1\n",
      "Name: Label, dtype: int64\n",
      "\n",
      "twitter-replies\n",
      "PROVIDING EXPERIENCES              134\n",
      "DISCOURSE                           79\n",
      "PROVIDING INFORMATIONAL SUPPORT     58\n",
      "SEEKING INFORMATIONAL SUPPORT       10\n",
      "SEEKING EMOTIONAL SUPPORT            8\n",
      "PROVIDING EMOTIONAL SUPPORT          5\n",
      "SEEKING EXPERIENCES                  2\n",
      "Name: Label, dtype: int64\n",
      "\n"
     ]
    }
   ],
   "metadata": {}
  },
  {
   "cell_type": "markdown",
   "source": [
    "# Filter and balance for a single label"
   ],
   "metadata": {}
  },
  {
   "cell_type": "code",
   "execution_count": 79,
   "source": [
    "def get_train_and_test(df, target_label):\n",
    "\n",
    "    df_positive = df[df['Label'] == target_label]\n",
    "    df_positive['Target Label'] = df_positive['Label']\n",
    "\n",
    "    df_negative = df[df['Label'] != target_label]\n",
    "    df_negative = df_negative[~df_negative['ID'].isin(df_positive['ID'].tolist())]\n",
    "    df_negative['Target Label'] = ['NOT ' + target_label]*len(df_negative.index)\n",
    "\n",
    "    if len(df_negative.index) > len(df_positive.index):\n",
    "        df_negative = df_negative.sample(len(df_positive.index))\n",
    "    df_combined = pd.concat([df_negative, df_positive])\n",
    "    df_combined = df_combined.sample(frac=1)\n",
    "\n",
    "    all_texts = df_combined['Text'].tolist()\n",
    "    all_labels = df_combined['Target Label'].tolist()\n",
    "\n",
    "    num_training = int(len(all_texts)*0.8)\n",
    "\n",
    "    train_texts = all_texts[:num_training]\n",
    "    train_labels = all_labels[:num_training]\n",
    "\n",
    "    test_texts = all_texts[num_training:]\n",
    "    test_labels = all_labels[num_training:]\n",
    "\n",
    "    return train_texts, train_labels, test_texts, test_labels"
   ],
   "outputs": [],
   "metadata": {}
  },
  {
   "cell_type": "code",
   "execution_count": 105,
   "source": [
    "def process_string(text, \n",
    "                   lowercase=True, \n",
    "                   remove_punctuation=True, \n",
    "                   numbers='replace'):\n",
    "    if lowercase:\n",
    "        text = text.lower()\n",
    "    if numbers == 'replace':\n",
    "        text = re.sub('[0-9]+', 'NUM', text)\n",
    "    elif numbers == 'remove':\n",
    "        text = re.sub('[0-9]+', ' ', text)\n",
    "    if remove_punctuation:\n",
    "        text = re.sub(r'[^\\sA-Za-z0-9À-ÖØ-öø-ÿЀ-ӿ/]', ' ', text)\n",
    "    text = ' '.join(text.split())\n",
    "    return text"
   ],
   "outputs": [],
   "metadata": {}
  },
  {
   "cell_type": "code",
   "execution_count": 107,
   "source": [
    "social_goal_id_label_dict = defaultdict(lambda: defaultdict(str))\n",
    "\n",
    "for _source in labeled_df['Source'].unique():\n",
    "\n",
    "    _df = labeled_df[labeled_df['Source'] == _source]\n",
    "\n",
    "    for _label, _count in _df['Label'].value_counts().iteritems():\n",
    "\n",
    "        if _count >= 50:\n",
    "\n",
    "            train_texts, train_labels, test_texts, test_labels = get_train_and_test(_df, _label)\n",
    "            train_texts = [process_string(t) for t in train_texts]\n",
    "            test_texts = [process_string(t) for t in test_texts] \n",
    "            print(_source, _label, len(train_texts), len(test_texts))\n",
    "\n",
    "            vectorizer = TfidfVectorizer()\n",
    "            X_train = vectorizer.fit_transform(train_texts)\n",
    "            X_test = vectorizer.transform(test_texts)\n",
    "\n",
    "            model = LogisticRegression(C=0.8).fit(X_train, train_labels)\n",
    "            predictions = model.predict(X_test)\n",
    "\n",
    "            print(classification_report(test_labels, predictions))\n",
    "\n",
    "            vectorizer = TfidfVectorizer()\n",
    "            X_train = vectorizer.fit_transform(train_texts + test_texts)\n",
    "            y_train = train_labels + test_labels\n",
    "            \n",
    "            ids_to_label = []\n",
    "            texts_to_label = []\n",
    "            for i, r in combined_df[combined_df['source'] == _source].iterrows():\n",
    "                ids_to_label.append(str(r['id']))\n",
    "                texts_to_label.append(str(r['text']))\n",
    "                if not pd.isnull(r['title']):\n",
    "                    texts_to_label[-1] += ' ' + str(r['title'])\n",
    "            texts_to_label = [process_string(t) for t in texts_to_label]\n",
    "            X_pred = vectorizer.transform(texts_to_label)\n",
    "\n",
    "            model = LogisticRegression(C=0.8).fit(X_train, y_train)\n",
    "            predictions = model.predict(X_pred)\n",
    "\n",
    "            for _pred, _id in zip(predictions, ids_to_label):\n",
    "                social_goal_id_label_dict[_label][_id] = _pred"
   ],
   "outputs": [
    {
     "output_type": "stream",
     "name": "stderr",
     "text": [
      "/Users/maria/opt/anaconda3/envs/python3.7env/lib/python3.7/site-packages/ipykernel_launcher.py:4: SettingWithCopyWarning: \n",
      "A value is trying to be set on a copy of a slice from a DataFrame.\n",
      "Try using .loc[row_indexer,col_indexer] = value instead\n",
      "\n",
      "See the caveats in the documentation: https://pandas.pydata.org/pandas-docs/stable/user_guide/indexing.html#returning-a-view-versus-a-copy\n",
      "  after removing the cwd from sys.path.\n"
     ]
    },
    {
     "output_type": "stream",
     "name": "stdout",
     "text": [
      "reddit-posts SEEKING INFORMATIONAL SUPPORT 220 56\n",
      "                                   precision    recall  f1-score   support\n",
      "\n",
      "NOT SEEKING INFORMATIONAL SUPPORT       0.86      0.24      0.38        25\n",
      "    SEEKING INFORMATIONAL SUPPORT       0.61      0.97      0.75        31\n",
      "\n",
      "                         accuracy                           0.64        56\n",
      "                        macro avg       0.73      0.60      0.56        56\n",
      "                     weighted avg       0.72      0.64      0.58        56\n",
      "\n"
     ]
    },
    {
     "output_type": "stream",
     "name": "stderr",
     "text": [
      "/Users/maria/opt/anaconda3/envs/python3.7env/lib/python3.7/site-packages/ipykernel_launcher.py:4: SettingWithCopyWarning: \n",
      "A value is trying to be set on a copy of a slice from a DataFrame.\n",
      "Try using .loc[row_indexer,col_indexer] = value instead\n",
      "\n",
      "See the caveats in the documentation: https://pandas.pydata.org/pandas-docs/stable/user_guide/indexing.html#returning-a-view-versus-a-copy\n",
      "  after removing the cwd from sys.path.\n"
     ]
    },
    {
     "output_type": "stream",
     "name": "stdout",
     "text": [
      "reddit-posts SEEKING EXPERIENCES 150 38\n",
      "                         precision    recall  f1-score   support\n",
      "\n",
      "NOT SEEKING EXPERIENCES       0.59      0.76      0.67        17\n",
      "    SEEKING EXPERIENCES       0.75      0.57      0.65        21\n",
      "\n",
      "               accuracy                           0.66        38\n",
      "              macro avg       0.67      0.67      0.66        38\n",
      "           weighted avg       0.68      0.66      0.66        38\n",
      "\n"
     ]
    },
    {
     "output_type": "stream",
     "name": "stderr",
     "text": [
      "/Users/maria/opt/anaconda3/envs/python3.7env/lib/python3.7/site-packages/ipykernel_launcher.py:4: SettingWithCopyWarning: \n",
      "A value is trying to be set on a copy of a slice from a DataFrame.\n",
      "Try using .loc[row_indexer,col_indexer] = value instead\n",
      "\n",
      "See the caveats in the documentation: https://pandas.pydata.org/pandas-docs/stable/user_guide/indexing.html#returning-a-view-versus-a-copy\n",
      "  after removing the cwd from sys.path.\n"
     ]
    },
    {
     "output_type": "stream",
     "name": "stdout",
     "text": [
      "reddit-posts SEEKING EMOTIONAL SUPPORT 94 24\n",
      "                               precision    recall  f1-score   support\n",
      "\n",
      "NOT SEEKING EMOTIONAL SUPPORT       0.78      0.54      0.64        13\n",
      "    SEEKING EMOTIONAL SUPPORT       0.60      0.82      0.69        11\n",
      "\n",
      "                     accuracy                           0.67        24\n",
      "                    macro avg       0.69      0.68      0.66        24\n",
      "                 weighted avg       0.70      0.67      0.66        24\n",
      "\n"
     ]
    },
    {
     "output_type": "stream",
     "name": "stderr",
     "text": [
      "/Users/maria/opt/anaconda3/envs/python3.7env/lib/python3.7/site-packages/ipykernel_launcher.py:4: SettingWithCopyWarning: \n",
      "A value is trying to be set on a copy of a slice from a DataFrame.\n",
      "Try using .loc[row_indexer,col_indexer] = value instead\n",
      "\n",
      "See the caveats in the documentation: https://pandas.pydata.org/pandas-docs/stable/user_guide/indexing.html#returning-a-view-versus-a-copy\n",
      "  after removing the cwd from sys.path.\n"
     ]
    },
    {
     "output_type": "stream",
     "name": "stdout",
     "text": [
      "reddit-comments PROVIDING EXPERIENCES 211 53\n",
      "                           precision    recall  f1-score   support\n",
      "\n",
      "NOT PROVIDING EXPERIENCES       0.90      0.93      0.92        29\n",
      "    PROVIDING EXPERIENCES       0.91      0.88      0.89        24\n",
      "\n",
      "                 accuracy                           0.91        53\n",
      "                macro avg       0.91      0.90      0.90        53\n",
      "             weighted avg       0.91      0.91      0.91        53\n",
      "\n"
     ]
    },
    {
     "output_type": "stream",
     "name": "stderr",
     "text": [
      "/Users/maria/opt/anaconda3/envs/python3.7env/lib/python3.7/site-packages/ipykernel_launcher.py:4: SettingWithCopyWarning: \n",
      "A value is trying to be set on a copy of a slice from a DataFrame.\n",
      "Try using .loc[row_indexer,col_indexer] = value instead\n",
      "\n",
      "See the caveats in the documentation: https://pandas.pydata.org/pandas-docs/stable/user_guide/indexing.html#returning-a-view-versus-a-copy\n",
      "  after removing the cwd from sys.path.\n"
     ]
    },
    {
     "output_type": "stream",
     "name": "stdout",
     "text": [
      "reddit-comments PROVIDING INFORMATIONAL SUPPORT 203 51\n",
      "                                     precision    recall  f1-score   support\n",
      "\n",
      "NOT PROVIDING INFORMATIONAL SUPPORT       0.85      0.79      0.81        28\n",
      "    PROVIDING INFORMATIONAL SUPPORT       0.76      0.83      0.79        23\n",
      "\n",
      "                           accuracy                           0.80        51\n",
      "                          macro avg       0.80      0.81      0.80        51\n",
      "                       weighted avg       0.81      0.80      0.80        51\n",
      "\n"
     ]
    },
    {
     "output_type": "stream",
     "name": "stderr",
     "text": [
      "/Users/maria/opt/anaconda3/envs/python3.7env/lib/python3.7/site-packages/ipykernel_launcher.py:4: SettingWithCopyWarning: \n",
      "A value is trying to be set on a copy of a slice from a DataFrame.\n",
      "Try using .loc[row_indexer,col_indexer] = value instead\n",
      "\n",
      "See the caveats in the documentation: https://pandas.pydata.org/pandas-docs/stable/user_guide/indexing.html#returning-a-view-versus-a-copy\n",
      "  after removing the cwd from sys.path.\n"
     ]
    },
    {
     "output_type": "stream",
     "name": "stdout",
     "text": [
      "twitter-posts PROVIDING INFORMATIONAL SUPPORT 153 39\n",
      "                                     precision    recall  f1-score   support\n",
      "\n",
      "NOT PROVIDING INFORMATIONAL SUPPORT       0.90      0.86      0.88        21\n",
      "    PROVIDING INFORMATIONAL SUPPORT       0.84      0.89      0.86        18\n",
      "\n",
      "                           accuracy                           0.87        39\n",
      "                          macro avg       0.87      0.87      0.87        39\n",
      "                       weighted avg       0.87      0.87      0.87        39\n",
      "\n"
     ]
    },
    {
     "output_type": "stream",
     "name": "stderr",
     "text": [
      "/Users/maria/opt/anaconda3/envs/python3.7env/lib/python3.7/site-packages/ipykernel_launcher.py:4: SettingWithCopyWarning: \n",
      "A value is trying to be set on a copy of a slice from a DataFrame.\n",
      "Try using .loc[row_indexer,col_indexer] = value instead\n",
      "\n",
      "See the caveats in the documentation: https://pandas.pydata.org/pandas-docs/stable/user_guide/indexing.html#returning-a-view-versus-a-copy\n",
      "  after removing the cwd from sys.path.\n"
     ]
    },
    {
     "output_type": "stream",
     "name": "stdout",
     "text": [
      "twitter-posts DISCOURSE 150 38\n",
      "               precision    recall  f1-score   support\n",
      "\n",
      "    DISCOURSE       0.94      0.68      0.79        22\n",
      "NOT DISCOURSE       0.68      0.94      0.79        16\n",
      "\n",
      "     accuracy                           0.79        38\n",
      "    macro avg       0.81      0.81      0.79        38\n",
      " weighted avg       0.83      0.79      0.79        38\n",
      "\n"
     ]
    },
    {
     "output_type": "stream",
     "name": "stderr",
     "text": [
      "/Users/maria/opt/anaconda3/envs/python3.7env/lib/python3.7/site-packages/ipykernel_launcher.py:4: SettingWithCopyWarning: \n",
      "A value is trying to be set on a copy of a slice from a DataFrame.\n",
      "Try using .loc[row_indexer,col_indexer] = value instead\n",
      "\n",
      "See the caveats in the documentation: https://pandas.pydata.org/pandas-docs/stable/user_guide/indexing.html#returning-a-view-versus-a-copy\n",
      "  after removing the cwd from sys.path.\n"
     ]
    },
    {
     "output_type": "stream",
     "name": "stdout",
     "text": [
      "twitter-replies PROVIDING EXPERIENCES 208 52\n",
      "                           precision    recall  f1-score   support\n",
      "\n",
      "NOT PROVIDING EXPERIENCES       0.81      0.68      0.74        25\n",
      "    PROVIDING EXPERIENCES       0.74      0.85      0.79        27\n",
      "\n",
      "                 accuracy                           0.77        52\n",
      "                macro avg       0.78      0.77      0.77        52\n",
      "             weighted avg       0.77      0.77      0.77        52\n",
      "\n"
     ]
    },
    {
     "output_type": "stream",
     "name": "stderr",
     "text": [
      "/Users/maria/opt/anaconda3/envs/python3.7env/lib/python3.7/site-packages/ipykernel_launcher.py:4: SettingWithCopyWarning: \n",
      "A value is trying to be set on a copy of a slice from a DataFrame.\n",
      "Try using .loc[row_indexer,col_indexer] = value instead\n",
      "\n",
      "See the caveats in the documentation: https://pandas.pydata.org/pandas-docs/stable/user_guide/indexing.html#returning-a-view-versus-a-copy\n",
      "  after removing the cwd from sys.path.\n"
     ]
    },
    {
     "output_type": "stream",
     "name": "stdout",
     "text": [
      "twitter-replies DISCOURSE 126 32\n",
      "               precision    recall  f1-score   support\n",
      "\n",
      "    DISCOURSE       0.81      0.93      0.87        14\n",
      "NOT DISCOURSE       0.94      0.83      0.88        18\n",
      "\n",
      "     accuracy                           0.88        32\n",
      "    macro avg       0.88      0.88      0.87        32\n",
      " weighted avg       0.88      0.88      0.88        32\n",
      "\n"
     ]
    },
    {
     "output_type": "stream",
     "name": "stderr",
     "text": [
      "/Users/maria/opt/anaconda3/envs/python3.7env/lib/python3.7/site-packages/ipykernel_launcher.py:4: SettingWithCopyWarning: \n",
      "A value is trying to be set on a copy of a slice from a DataFrame.\n",
      "Try using .loc[row_indexer,col_indexer] = value instead\n",
      "\n",
      "See the caveats in the documentation: https://pandas.pydata.org/pandas-docs/stable/user_guide/indexing.html#returning-a-view-versus-a-copy\n",
      "  after removing the cwd from sys.path.\n"
     ]
    },
    {
     "output_type": "stream",
     "name": "stdout",
     "text": [
      "twitter-replies PROVIDING INFORMATIONAL SUPPORT 92 24\n",
      "                                     precision    recall  f1-score   support\n",
      "\n",
      "NOT PROVIDING INFORMATIONAL SUPPORT       0.64      0.82      0.72        11\n",
      "    PROVIDING INFORMATIONAL SUPPORT       0.80      0.62      0.70        13\n",
      "\n",
      "                           accuracy                           0.71        24\n",
      "                          macro avg       0.72      0.72      0.71        24\n",
      "                       weighted avg       0.73      0.71      0.71        24\n",
      "\n"
     ]
    }
   ],
   "metadata": {}
  },
  {
   "cell_type": "code",
   "execution_count": 108,
   "source": [
    "import dill\n",
    "\n",
    "dill.dump(social_goal_id_label_dict, open(output_directory_path + '/social_goal_id_label_dict.dill', 'wb'))"
   ],
   "outputs": [],
   "metadata": {}
  },
  {
   "cell_type": "code",
   "execution_count": null,
   "source": [],
   "outputs": [],
   "metadata": {}
  }
 ],
 "metadata": {
  "orig_nbformat": 4,
  "language_info": {
   "name": "python",
   "version": "3.7.9",
   "mimetype": "text/x-python",
   "codemirror_mode": {
    "name": "ipython",
    "version": 3
   },
   "pygments_lexer": "ipython3",
   "nbconvert_exporter": "python",
   "file_extension": ".py"
  },
  "kernelspec": {
   "name": "python3",
   "display_name": "Python 3.7.9 64-bit ('python3.7env': conda)"
  },
  "interpreter": {
   "hash": "3bf6718e1fb94d37e4dcdce4af31e71b15d9d634835b5761d954c77044e0e9ad"
  }
 },
 "nbformat": 4,
 "nbformat_minor": 2
}