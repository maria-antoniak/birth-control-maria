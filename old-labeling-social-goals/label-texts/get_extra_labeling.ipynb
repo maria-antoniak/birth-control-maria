{
 "metadata": {
  "language_info": {
   "codemirror_mode": {
    "name": "ipython",
    "version": 3
   },
   "file_extension": ".py",
   "mimetype": "text/x-python",
   "name": "python",
   "nbconvert_exporter": "python",
   "pygments_lexer": "ipython3",
   "version": "3.7.9"
  },
  "orig_nbformat": 2,
  "kernelspec": {
   "name": "python379jvsc74a57bd03bf6718e1fb94d37e4dcdce4af31e71b15d9d634835b5761d954c77044e0e9ad",
   "display_name": "Python 3.7.9 64-bit ('python3.7env': conda)"
  }
 },
 "nbformat": 4,
 "nbformat_minor": 2,
 "cells": [
  {
   "source": [
    "For the Reddit posts and comments, I forgot to remove documents that aren't about our three target types (pill, iud, implant). So while Roz labeled 300 comments/posts, and LeAnn and I labeled 500, we actually only labeled 249 posts and 198 comments.\n",
    "\n",
    "For now, I'll just sample one post and 52 comments so that we have at least 250 for each set."
   ],
   "cell_type": "markdown",
   "metadata": {}
  },
  {
   "cell_type": "code",
   "execution_count": 1,
   "metadata": {},
   "outputs": [],
   "source": [
    "from collections import defaultdict\n",
    "from datetime import datetime\n",
    "import dill\n",
    "from itertools import permutations, combinations\n",
    "import json\n",
    "import jsonlines\n",
    "from operator import itemgetter\n",
    "import os\n",
    "import pickle\n",
    "import random\n",
    "import re\n",
    "import time\n",
    "\n",
    "import numpy as np\n",
    "import pandas as pd\n",
    "from sklearn.cluster import KMeans\n",
    "\n",
    "%matplotlib inline\n",
    "import matplotlib.pyplot as plt\n",
    "import seaborn as sns\n",
    "from adjustText import adjust_text\n",
    "sns.set(style='ticks', font_scale=1.2)\n",
    "import matplotlib\n",
    "matplotlib.rcParams['pdf.fonttype'] = 42\n",
    "matplotlib.rcParams['ps.fonttype'] = 42\n",
    "\n",
    "import little_mallet_wrapper as lmw\n",
    "import octis"
   ]
  },
  {
   "cell_type": "code",
   "execution_count": 2,
   "metadata": {},
   "outputs": [],
   "source": [
    "data_directory_path   = '/Volumes/Passport-1/data/birth-control'\n",
    "output_directory_path = '/Volumes/Passport-1/output/birth-control'"
   ]
  },
  {
   "cell_type": "code",
   "execution_count": 3,
   "metadata": {},
   "outputs": [
    {
     "output_type": "execute_result",
     "data": {
      "text/plain": [
       "(72731, 238568)"
      ]
     },
     "metadata": {},
     "execution_count": 3
    }
   ],
   "source": [
    "reddit_posts_df = pd.read_csv(data_directory_path + '/final-data/reddit_posts.csv')\n",
    "reddit_comments_df = pd.read_csv(data_directory_path + '/final-data/reddit_comments.csv')\n",
    "len(reddit_posts_df.index), len(reddit_comments_df.index)"
   ]
  },
  {
   "cell_type": "code",
   "execution_count": 4,
   "metadata": {},
   "outputs": [
    {
     "output_type": "execute_result",
     "data": {
      "text/plain": [
       "2495"
      ]
     },
     "metadata": {},
     "execution_count": 4
    }
   ],
   "source": [
    "maria_df = pd.read_csv(data_directory_path + '/labeling/labeled_by_maria.all.csv')\n",
    "len(maria_df)"
   ]
  },
  {
   "cell_type": "code",
   "execution_count": 5,
   "metadata": {},
   "outputs": [
    {
     "output_type": "execute_result",
     "data": {
      "text/plain": [
       "1977"
      ]
     },
     "metadata": {},
     "execution_count": 5
    }
   ],
   "source": [
    "used_ids = list(set(maria_df['ID'].tolist()))\n",
    "len(used_ids)"
   ]
  },
  {
   "cell_type": "code",
   "execution_count": 6,
   "metadata": {},
   "outputs": [
    {
     "output_type": "execute_result",
     "data": {
      "text/plain": [
       "72319"
      ]
     },
     "metadata": {},
     "execution_count": 6
    }
   ],
   "source": [
    "reddit_posts_df = reddit_posts_df[~reddit_posts_df['id'].isin(used_ids)]\n",
    "len(reddit_posts_df)"
   ]
  },
  {
   "cell_type": "code",
   "execution_count": 7,
   "metadata": {},
   "outputs": [
    {
     "output_type": "execute_result",
     "data": {
      "text/plain": [
       "238240"
      ]
     },
     "metadata": {},
     "execution_count": 7
    }
   ],
   "source": [
    "reddit_comments_df = reddit_comments_df[~reddit_comments_df['id'].isin(used_ids)]\n",
    "len(reddit_comments_df)"
   ]
  },
  {
   "cell_type": "code",
   "execution_count": 8,
   "metadata": {},
   "outputs": [
    {
     "output_type": "execute_result",
     "data": {
      "text/plain": [
       "53"
      ]
     },
     "metadata": {},
     "execution_count": 8
    }
   ],
   "source": [
    "sampled_df = pd.concat([reddit_posts_df.sample(1), reddit_comments_df.sample(52)])\n",
    "len(sampled_df)"
   ]
  },
  {
   "cell_type": "code",
   "execution_count": 9,
   "metadata": {},
   "outputs": [
    {
     "output_type": "execute_result",
     "data": {
      "text/plain": [
       "        Unnamed: 0       id   created_utc  \\\n",
       "75220        75220  dfwq8yy  1.491488e+09   \n",
       "214312      214312  fpdekpl  1.588525e+09   \n",
       "105138      105138  dvaqlha  1.520386e+09   \n",
       "164586      164586  es3z7h0  1.561574e+09   \n",
       "85554        85554  dncx6cb  1.506095e+09   \n",
       "\n",
       "                                                     text title  year  month  \\\n",
       "75220   I've not had an abortion, but I would suggest ...   NaN  2017      4   \n",
       "214312  How long have you had it? I'd give it time. My...   NaN  2020      5   \n",
       "105138  I have the implant and I really love it. I had...   NaN  2018      3   \n",
       "164586  I'm sorry you had such a scary experience, but...   NaN  2019      6   \n",
       "85554   As long as your break is only 7 days or less a...   NaN  2017      9   \n",
       "\n",
       "        url link_flair_text           source  \\\n",
       "75220   NaN             NaN  reddit-comments   \n",
       "214312  NaN             NaN  reddit-comments   \n",
       "105138  NaN             NaN  reddit-comments   \n",
       "164586  NaN             NaN  reddit-comments   \n",
       "85554   NaN             NaN  reddit-comments   \n",
       "\n",
       "                                              tokens_text text_type  \\\n",
       "75220   abortion would suggest basics would period ill...      pill   \n",
       "214312  long d give time first periods pretty painful ...       iud   \n",
       "105138  implant really love side effects pill depresse...   implant   \n",
       "164586  m sorry scary experience take deep breath rock...       iud   \n",
       "85554   long break NUM days less start new pack time r...      pill   \n",
       "\n",
       "        Unnamed: 0.1   parent_id  \n",
       "75220         3726.0   t3_63qguf  \n",
       "214312       10644.0   t3_gcs1d4  \n",
       "105138        4067.0   t3_82j6a2  \n",
       "164586        1111.0   t3_c5ebhw  \n",
       "85554         1282.0  t1_dncvzs0  "
      ],
      "text/html": "<div>\n<style scoped>\n    .dataframe tbody tr th:only-of-type {\n        vertical-align: middle;\n    }\n\n    .dataframe tbody tr th {\n        vertical-align: top;\n    }\n\n    .dataframe thead th {\n        text-align: right;\n    }\n</style>\n<table border=\"1\" class=\"dataframe\">\n  <thead>\n    <tr style=\"text-align: right;\">\n      <th></th>\n      <th>Unnamed: 0</th>\n      <th>id</th>\n      <th>created_utc</th>\n      <th>text</th>\n      <th>title</th>\n      <th>year</th>\n      <th>month</th>\n      <th>url</th>\n      <th>link_flair_text</th>\n      <th>source</th>\n      <th>tokens_text</th>\n      <th>text_type</th>\n      <th>Unnamed: 0.1</th>\n      <th>parent_id</th>\n    </tr>\n  </thead>\n  <tbody>\n    <tr>\n      <th>75220</th>\n      <td>75220</td>\n      <td>dfwq8yy</td>\n      <td>1.491488e+09</td>\n      <td>I've not had an abortion, but I would suggest ...</td>\n      <td>NaN</td>\n      <td>2017</td>\n      <td>4</td>\n      <td>NaN</td>\n      <td>NaN</td>\n      <td>reddit-comments</td>\n      <td>abortion would suggest basics would period ill...</td>\n      <td>pill</td>\n      <td>3726.0</td>\n      <td>t3_63qguf</td>\n    </tr>\n    <tr>\n      <th>214312</th>\n      <td>214312</td>\n      <td>fpdekpl</td>\n      <td>1.588525e+09</td>\n      <td>How long have you had it? I'd give it time. My...</td>\n      <td>NaN</td>\n      <td>2020</td>\n      <td>5</td>\n      <td>NaN</td>\n      <td>NaN</td>\n      <td>reddit-comments</td>\n      <td>long d give time first periods pretty painful ...</td>\n      <td>iud</td>\n      <td>10644.0</td>\n      <td>t3_gcs1d4</td>\n    </tr>\n    <tr>\n      <th>105138</th>\n      <td>105138</td>\n      <td>dvaqlha</td>\n      <td>1.520386e+09</td>\n      <td>I have the implant and I really love it. I had...</td>\n      <td>NaN</td>\n      <td>2018</td>\n      <td>3</td>\n      <td>NaN</td>\n      <td>NaN</td>\n      <td>reddit-comments</td>\n      <td>implant really love side effects pill depresse...</td>\n      <td>implant</td>\n      <td>4067.0</td>\n      <td>t3_82j6a2</td>\n    </tr>\n    <tr>\n      <th>164586</th>\n      <td>164586</td>\n      <td>es3z7h0</td>\n      <td>1.561574e+09</td>\n      <td>I'm sorry you had such a scary experience, but...</td>\n      <td>NaN</td>\n      <td>2019</td>\n      <td>6</td>\n      <td>NaN</td>\n      <td>NaN</td>\n      <td>reddit-comments</td>\n      <td>m sorry scary experience take deep breath rock...</td>\n      <td>iud</td>\n      <td>1111.0</td>\n      <td>t3_c5ebhw</td>\n    </tr>\n    <tr>\n      <th>85554</th>\n      <td>85554</td>\n      <td>dncx6cb</td>\n      <td>1.506095e+09</td>\n      <td>As long as your break is only 7 days or less a...</td>\n      <td>NaN</td>\n      <td>2017</td>\n      <td>9</td>\n      <td>NaN</td>\n      <td>NaN</td>\n      <td>reddit-comments</td>\n      <td>long break NUM days less start new pack time r...</td>\n      <td>pill</td>\n      <td>1282.0</td>\n      <td>t1_dncvzs0</td>\n    </tr>\n  </tbody>\n</table>\n</div>"
     },
     "metadata": {},
     "execution_count": 9
    }
   ],
   "source": [
    "sampled_df.sample(5)"
   ]
  },
  {
   "cell_type": "code",
   "execution_count": 10,
   "metadata": {},
   "outputs": [
    {
     "output_type": "execute_result",
     "data": {
      "text/plain": [
       "53"
      ]
     },
     "metadata": {},
     "execution_count": 10
    }
   ],
   "source": [
    "def get_data_dicts(df):\n",
    "    data_dicts = []\n",
    "    for i, r in df.iterrows():\n",
    "        if 'title' in r and not pd.isnull(r['title']):\n",
    "            data_dicts.append({'text': '[TITLE: ' + r['title'] + '] \\n\\n' + r['text'],\n",
    "                               'meta': {'ID': r['id'],\n",
    "                                        'Source': r['source']}})\n",
    "        else:\n",
    "            data_dicts.append({'text': r['text'],\n",
    "                               'meta': {'ID': r['id'],\n",
    "                                        'Source': r['source']}})\n",
    "    return data_dicts\n",
    "\n",
    "\n",
    "dicts_to_label = get_data_dicts(sampled_df)\n",
    "len(dicts_to_label)"
   ]
  },
  {
   "cell_type": "code",
   "execution_count": 11,
   "metadata": {},
   "outputs": [
    {
     "output_type": "execute_result",
     "data": {
      "text/plain": [
       "{'text': 'Lol, one pill is enough.',\n",
       " 'meta': {'ID': 'eljs5ck', 'Source': 'reddit-comments'}}"
      ]
     },
     "metadata": {},
     "execution_count": 11
    }
   ],
   "source": [
    "random.sample(dicts_to_label, 1)[0]"
   ]
  },
  {
   "cell_type": "code",
   "execution_count": 13,
   "metadata": {},
   "outputs": [],
   "source": [
    "with jsonlines.open(data_directory_path + '/labeling/sampled-reddit-extra.prodigy.jsonl', 'w') as writer:\n",
    "    writer.write_all(dicts_to_label)"
   ]
  },
  {
   "cell_type": "code",
   "execution_count": null,
   "metadata": {},
   "outputs": [],
   "source": []
  }
 ]
}