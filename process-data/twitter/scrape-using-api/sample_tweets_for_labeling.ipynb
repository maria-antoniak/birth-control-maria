{
 "metadata": {
  "language_info": {
   "codemirror_mode": {
    "name": "ipython",
    "version": 3
   },
   "file_extension": ".py",
   "mimetype": "text/x-python",
   "name": "python",
   "nbconvert_exporter": "python",
   "pygments_lexer": "ipython3",
   "version": "3.7.9"
  },
  "orig_nbformat": 2,
  "kernelspec": {
   "name": "python379jvsc74a57bd03bf6718e1fb94d37e4dcdce4af31e71b15d9d634835b5761d954c77044e0e9ad",
   "display_name": "Python 3.7.9 64-bit ('python3.7env': conda)"
  }
 },
 "nbformat": 4,
 "nbformat_minor": 2,
 "cells": [
  {
   "cell_type": "code",
   "execution_count": 1,
   "metadata": {},
   "outputs": [],
   "source": [
    "from collections import defaultdict\n",
    "from datetime import datetime\n",
    "import dill\n",
    "from itertools import permutations, combinations\n",
    "import json\n",
    "from operator import itemgetter\n",
    "import os\n",
    "import pickle\n",
    "import random\n",
    "import re\n",
    "import time\n",
    "\n",
    "import numpy as np\n",
    "import pandas as pd\n",
    "from sklearn.cluster import KMeans\n",
    "\n",
    "%matplotlib inline\n",
    "import matplotlib\n",
    "import matplotlib.pyplot as plt\n",
    "import seaborn as sns\n",
    "from adjustText import adjust_text\n",
    "sns.set(style='ticks', font_scale=1.2)\n",
    "\n",
    "import little_mallet_wrapper as lmw"
   ]
  },
  {
   "cell_type": "code",
   "execution_count": 2,
   "metadata": {},
   "outputs": [],
   "source": [
    "data_directory_path   = '/Volumes/Passport-1/data/birth-control'\n",
    "output_directory_path = '/Volumes/Passport-1/output/birth-control'"
   ]
  },
  {
   "source": [
    "<br><br>\n",
    "\n",
    "# Sample Twitter posts for labeling in Prodigy"
   ],
   "cell_type": "markdown",
   "metadata": {}
  },
  {
   "cell_type": "code",
   "execution_count": 3,
   "metadata": {},
   "outputs": [],
   "source": [
    "twitter_posts_df = pd.read_csv(data_directory_path + '/twitter/new-from-api/posts/twitter_posts.csv')"
   ]
  },
  {
   "cell_type": "code",
   "execution_count": 4,
   "metadata": {},
   "outputs": [
    {
     "output_type": "execute_result",
     "data": {
      "text/plain": [
       "528923"
      ]
     },
     "metadata": {},
     "execution_count": 4
    }
   ],
   "source": [
    "len(twitter_posts_df)"
   ]
  },
  {
   "cell_type": "code",
   "execution_count": 5,
   "metadata": {},
   "outputs": [
    {
     "output_type": "execute_result",
     "data": {
      "text/plain": [
       "        Unnamed: 0        source  \\\n",
       "461125      553343  twitter post   \n",
       "371455      431311  twitter post   \n",
       "507647      611796  twitter post   \n",
       "\n",
       "                                                     text  \\\n",
       "461125  http://t.co/wwZRYN0D FDA approves Watson Vestu...   \n",
       "371455  Contraceptive pill for men http://t.co/h6mGHt4JAe   \n",
       "507647  Open Question: Im really scared to take the bi...   \n",
       "\n",
       "                                               token_text text_type  \\\n",
       "461125  http //t co/wwzrynNUMd fda approves watson ves...      pill   \n",
       "371455  contraceptive pill men http //t co/hNUMmghtNUMjae      pill   \n",
       "507647  open question really scared take birth control...      pill   \n",
       "\n",
       "                            date  year                  id  \\\n",
       "461125  2011-11-30T14:34:27.000Z  2011  141887822767468544   \n",
       "371455  2015-01-18T05:08:23.000Z  2015  556679471982714880   \n",
       "507647  2010-01-30T04:42:58.000Z  2010          8399563420   \n",
       "\n",
       "           conversation_id  retweet_count  reply_count  like_count  \\\n",
       "461125  141887822767468544              0            0           0   \n",
       "371455  556679471982714880              0            0           0   \n",
       "507647          8399563420              0            0           0   \n",
       "\n",
       "        quote_count  \n",
       "461125            0  \n",
       "371455            0  \n",
       "507647            0  "
      ],
      "text/html": "<div>\n<style scoped>\n    .dataframe tbody tr th:only-of-type {\n        vertical-align: middle;\n    }\n\n    .dataframe tbody tr th {\n        vertical-align: top;\n    }\n\n    .dataframe thead th {\n        text-align: right;\n    }\n</style>\n<table border=\"1\" class=\"dataframe\">\n  <thead>\n    <tr style=\"text-align: right;\">\n      <th></th>\n      <th>Unnamed: 0</th>\n      <th>source</th>\n      <th>text</th>\n      <th>token_text</th>\n      <th>text_type</th>\n      <th>date</th>\n      <th>year</th>\n      <th>id</th>\n      <th>conversation_id</th>\n      <th>retweet_count</th>\n      <th>reply_count</th>\n      <th>like_count</th>\n      <th>quote_count</th>\n    </tr>\n  </thead>\n  <tbody>\n    <tr>\n      <th>461125</th>\n      <td>553343</td>\n      <td>twitter post</td>\n      <td>http://t.co/wwZRYN0D FDA approves Watson Vestu...</td>\n      <td>http //t co/wwzrynNUMd fda approves watson ves...</td>\n      <td>pill</td>\n      <td>2011-11-30T14:34:27.000Z</td>\n      <td>2011</td>\n      <td>141887822767468544</td>\n      <td>141887822767468544</td>\n      <td>0</td>\n      <td>0</td>\n      <td>0</td>\n      <td>0</td>\n    </tr>\n    <tr>\n      <th>371455</th>\n      <td>431311</td>\n      <td>twitter post</td>\n      <td>Contraceptive pill for men http://t.co/h6mGHt4JAe</td>\n      <td>contraceptive pill men http //t co/hNUMmghtNUMjae</td>\n      <td>pill</td>\n      <td>2015-01-18T05:08:23.000Z</td>\n      <td>2015</td>\n      <td>556679471982714880</td>\n      <td>556679471982714880</td>\n      <td>0</td>\n      <td>0</td>\n      <td>0</td>\n      <td>0</td>\n    </tr>\n    <tr>\n      <th>507647</th>\n      <td>611796</td>\n      <td>twitter post</td>\n      <td>Open Question: Im really scared to take the bi...</td>\n      <td>open question really scared take birth control...</td>\n      <td>pill</td>\n      <td>2010-01-30T04:42:58.000Z</td>\n      <td>2010</td>\n      <td>8399563420</td>\n      <td>8399563420</td>\n      <td>0</td>\n      <td>0</td>\n      <td>0</td>\n      <td>0</td>\n    </tr>\n  </tbody>\n</table>\n</div>"
     },
     "metadata": {},
     "execution_count": 5
    }
   ],
   "source": [
    "twitter_posts_df.sample(3)"
   ]
  },
  {
   "cell_type": "code",
   "execution_count": 6,
   "metadata": {},
   "outputs": [],
   "source": [
    "sampled_posts_df = twitter_posts_df.sample(1000)"
   ]
  },
  {
   "cell_type": "code",
   "execution_count": 7,
   "metadata": {},
   "outputs": [
    {
     "output_type": "execute_result",
     "data": {
      "text/plain": [
       "1000"
      ]
     },
     "metadata": {},
     "execution_count": 7
    }
   ],
   "source": [
    "len(sampled_posts_df.index)"
   ]
  },
  {
   "cell_type": "code",
   "execution_count": 8,
   "metadata": {},
   "outputs": [
    {
     "output_type": "execute_result",
     "data": {
      "text/plain": [
       "        Unnamed: 0        source  \\\n",
       "74531        78832  twitter post   \n",
       "54207        56619  twitter post   \n",
       "270304      303738  twitter post   \n",
       "\n",
       "                                                     text  \\\n",
       "74531   New, more affordable IUDs by nonprofit @Medici...   \n",
       "54207   #IUD 'easily the most effective' #birthcontrol...   \n",
       "270304  Contraceptive implant: Does anyone use this?. ...   \n",
       "\n",
       "                                               token_text text_type  \\\n",
       "74531   new affordable iuds nonprofit medicinesNUM usa...       iud   \n",
       "54207   iud easily effective birthcontrol teen girls c...       iud   \n",
       "270304  contraceptive implant anyone use would like av...   implant   \n",
       "\n",
       "                            date  year                   id  \\\n",
       "74531   2017-08-26T18:27:06.000Z  2017   901511336135446528   \n",
       "54207   2018-06-01T06:20:00.000Z  2018  1002434569499488256   \n",
       "270304  2011-08-16T20:19:59.000Z  2011   103561662220611584   \n",
       "\n",
       "            conversation_id  retweet_count  reply_count  like_count  \\\n",
       "74531    901511336135446528              0            0           1   \n",
       "54207   1002434569499488256              0            0           0   \n",
       "270304   103561662220611584              0            0           0   \n",
       "\n",
       "        quote_count  \n",
       "74531             0  \n",
       "54207             0  \n",
       "270304            0  "
      ],
      "text/html": "<div>\n<style scoped>\n    .dataframe tbody tr th:only-of-type {\n        vertical-align: middle;\n    }\n\n    .dataframe tbody tr th {\n        vertical-align: top;\n    }\n\n    .dataframe thead th {\n        text-align: right;\n    }\n</style>\n<table border=\"1\" class=\"dataframe\">\n  <thead>\n    <tr style=\"text-align: right;\">\n      <th></th>\n      <th>Unnamed: 0</th>\n      <th>source</th>\n      <th>text</th>\n      <th>token_text</th>\n      <th>text_type</th>\n      <th>date</th>\n      <th>year</th>\n      <th>id</th>\n      <th>conversation_id</th>\n      <th>retweet_count</th>\n      <th>reply_count</th>\n      <th>like_count</th>\n      <th>quote_count</th>\n    </tr>\n  </thead>\n  <tbody>\n    <tr>\n      <th>74531</th>\n      <td>78832</td>\n      <td>twitter post</td>\n      <td>New, more affordable IUDs by nonprofit @Medici...</td>\n      <td>new affordable iuds nonprofit medicinesNUM usa...</td>\n      <td>iud</td>\n      <td>2017-08-26T18:27:06.000Z</td>\n      <td>2017</td>\n      <td>901511336135446528</td>\n      <td>901511336135446528</td>\n      <td>0</td>\n      <td>0</td>\n      <td>1</td>\n      <td>0</td>\n    </tr>\n    <tr>\n      <th>54207</th>\n      <td>56619</td>\n      <td>twitter post</td>\n      <td>#IUD 'easily the most effective' #birthcontrol...</td>\n      <td>iud easily effective birthcontrol teen girls c...</td>\n      <td>iud</td>\n      <td>2018-06-01T06:20:00.000Z</td>\n      <td>2018</td>\n      <td>1002434569499488256</td>\n      <td>1002434569499488256</td>\n      <td>0</td>\n      <td>0</td>\n      <td>0</td>\n      <td>0</td>\n    </tr>\n    <tr>\n      <th>270304</th>\n      <td>303738</td>\n      <td>twitter post</td>\n      <td>Contraceptive implant: Does anyone use this?. ...</td>\n      <td>contraceptive implant anyone use would like av...</td>\n      <td>implant</td>\n      <td>2011-08-16T20:19:59.000Z</td>\n      <td>2011</td>\n      <td>103561662220611584</td>\n      <td>103561662220611584</td>\n      <td>0</td>\n      <td>0</td>\n      <td>0</td>\n      <td>0</td>\n    </tr>\n  </tbody>\n</table>\n</div>"
     },
     "metadata": {},
     "execution_count": 8
    }
   ],
   "source": [
    "sampled_posts_df.sample(3)"
   ]
  },
  {
   "cell_type": "code",
   "execution_count": 9,
   "metadata": {},
   "outputs": [],
   "source": [
    "sampled_posts_df.to_csv('/Volumes/Passport-1/data/birth-control/labeling/sampled-twitter-posts.csv')"
   ]
  },
  {
   "source": [
    "<br><br>\n",
    "\n",
    "# Sample Twitter replies for Prodigy"
   ],
   "cell_type": "markdown",
   "metadata": {}
  },
  {
   "cell_type": "code",
   "execution_count": 10,
   "metadata": {},
   "outputs": [],
   "source": [
    "twitter_replies_df = pd.read_csv(data_directory_path + '/twitter/new-from-api/replies/twitter_replies.csv')"
   ]
  },
  {
   "cell_type": "code",
   "execution_count": 11,
   "metadata": {},
   "outputs": [
    {
     "output_type": "execute_result",
     "data": {
      "text/plain": [
       "271047"
      ]
     },
     "metadata": {},
     "execution_count": 11
    }
   ],
   "source": [
    "len(twitter_replies_df.index)"
   ]
  },
  {
   "cell_type": "code",
   "execution_count": 12,
   "metadata": {},
   "outputs": [
    {
     "output_type": "execute_result",
     "data": {
      "text/plain": [
       "       Unnamed: 0        source  \\\n",
       "77002       77786  twitter post   \n",
       "93460       94366  twitter post   \n",
       "63596       64058  twitter post   \n",
       "\n",
       "                                                    text  \\\n",
       "77002  @easterly_dalton I’m not saying it’s easy. Sur...   \n",
       "93460  @Spacebunnyday With that reasoning.. you shoul...   \n",
       "63596  @BerniceBee Kalani is making SOOO many excuses...   \n",
       "\n",
       "                                              token_text text_type  \\\n",
       "77002  easterly dalton saying easy sure nervous iud d...       iud   \n",
       "93460  spacebunnyday reasoning pill condoms iud femal...       iud   \n",
       "63596  bernicebee kalani making sooo many excuses lik...       iud   \n",
       "\n",
       "                           date  year                   id  \\\n",
       "77002  2018-07-09T02:52:52.000Z  2018  1016153182844719104   \n",
       "93460  2017-10-29T16:33:58.000Z  2017   924675690762346496   \n",
       "63596  2018-12-17T01:33:02.000Z  2018  1074477537777078272   \n",
       "\n",
       "           conversation_id  retweet_count  reply_count  like_count  \\\n",
       "77002  1016151622152581120              0            0           0   \n",
       "93460   924673611541155841              0            2           0   \n",
       "63596  1074477130308837382              0            0           0   \n",
       "\n",
       "       quote_count  \n",
       "77002            0  \n",
       "93460            1  \n",
       "63596            0  "
      ],
      "text/html": "<div>\n<style scoped>\n    .dataframe tbody tr th:only-of-type {\n        vertical-align: middle;\n    }\n\n    .dataframe tbody tr th {\n        vertical-align: top;\n    }\n\n    .dataframe thead th {\n        text-align: right;\n    }\n</style>\n<table border=\"1\" class=\"dataframe\">\n  <thead>\n    <tr style=\"text-align: right;\">\n      <th></th>\n      <th>Unnamed: 0</th>\n      <th>source</th>\n      <th>text</th>\n      <th>token_text</th>\n      <th>text_type</th>\n      <th>date</th>\n      <th>year</th>\n      <th>id</th>\n      <th>conversation_id</th>\n      <th>retweet_count</th>\n      <th>reply_count</th>\n      <th>like_count</th>\n      <th>quote_count</th>\n    </tr>\n  </thead>\n  <tbody>\n    <tr>\n      <th>77002</th>\n      <td>77786</td>\n      <td>twitter post</td>\n      <td>@easterly_dalton I’m not saying it’s easy. Sur...</td>\n      <td>easterly dalton saying easy sure nervous iud d...</td>\n      <td>iud</td>\n      <td>2018-07-09T02:52:52.000Z</td>\n      <td>2018</td>\n      <td>1016153182844719104</td>\n      <td>1016151622152581120</td>\n      <td>0</td>\n      <td>0</td>\n      <td>0</td>\n      <td>0</td>\n    </tr>\n    <tr>\n      <th>93460</th>\n      <td>94366</td>\n      <td>twitter post</td>\n      <td>@Spacebunnyday With that reasoning.. you shoul...</td>\n      <td>spacebunnyday reasoning pill condoms iud femal...</td>\n      <td>iud</td>\n      <td>2017-10-29T16:33:58.000Z</td>\n      <td>2017</td>\n      <td>924675690762346496</td>\n      <td>924673611541155841</td>\n      <td>0</td>\n      <td>2</td>\n      <td>0</td>\n      <td>1</td>\n    </tr>\n    <tr>\n      <th>63596</th>\n      <td>64058</td>\n      <td>twitter post</td>\n      <td>@BerniceBee Kalani is making SOOO many excuses...</td>\n      <td>bernicebee kalani making sooo many excuses lik...</td>\n      <td>iud</td>\n      <td>2018-12-17T01:33:02.000Z</td>\n      <td>2018</td>\n      <td>1074477537777078272</td>\n      <td>1074477130308837382</td>\n      <td>0</td>\n      <td>0</td>\n      <td>0</td>\n      <td>0</td>\n    </tr>\n  </tbody>\n</table>\n</div>"
     },
     "metadata": {},
     "execution_count": 12
    }
   ],
   "source": [
    "twitter_replies_df.sample(3)"
   ]
  },
  {
   "cell_type": "code",
   "execution_count": 13,
   "metadata": {},
   "outputs": [],
   "source": [
    "sampled_replies_df = twitter_replies_df.sample(1000)"
   ]
  },
  {
   "cell_type": "code",
   "execution_count": 14,
   "metadata": {},
   "outputs": [
    {
     "output_type": "execute_result",
     "data": {
      "text/plain": [
       "1000"
      ]
     },
     "metadata": {},
     "execution_count": 14
    }
   ],
   "source": [
    "len(sampled_replies_df.index)"
   ]
  },
  {
   "cell_type": "code",
   "execution_count": 15,
   "metadata": {},
   "outputs": [
    {
     "output_type": "execute_result",
     "data": {
      "text/plain": [
       "        Unnamed: 0        source  \\\n",
       "34224        34398  twitter post   \n",
       "157415      159508  twitter post   \n",
       "261083      273068  twitter post   \n",
       "\n",
       "                                                     text  \\\n",
       "34224   @DAY____KING Same wozzap!! Praying my IUD stay...   \n",
       "157415  @DrOlgaTheOBGYN @markhoffmanmd @JamesCaseyMD @...   \n",
       "261083  Long-term contraceptive pill use doubles glauc...   \n",
       "\n",
       "                                               token_text text_type  \\\n",
       "34224               day king wozzap praying iud stays put       iud   \n",
       "157415  drolgatheobgyn markhoffmanmd jamescaseymd mals...       iud   \n",
       "261083  long term contraceptive pill use doubles glauc...      pill   \n",
       "\n",
       "                            date  year                   id  \\\n",
       "34224   2019-07-10T09:45:51.000Z  2019  1148891070064930817   \n",
       "157415  2020-12-16T16:28:31.000Z  2020  1339246036813029377   \n",
       "261083  2013-11-19T09:24:52.000Z  2013   402729176991817728   \n",
       "\n",
       "            conversation_id  retweet_count  reply_count  like_count  \\\n",
       "34224   1148448354424229889              0            0           0   \n",
       "157415  1339179649805508608              0            1           4   \n",
       "261083   402725259826458624              0            0           0   \n",
       "\n",
       "        quote_count  \n",
       "34224             0  \n",
       "157415            0  \n",
       "261083            0  "
      ],
      "text/html": "<div>\n<style scoped>\n    .dataframe tbody tr th:only-of-type {\n        vertical-align: middle;\n    }\n\n    .dataframe tbody tr th {\n        vertical-align: top;\n    }\n\n    .dataframe thead th {\n        text-align: right;\n    }\n</style>\n<table border=\"1\" class=\"dataframe\">\n  <thead>\n    <tr style=\"text-align: right;\">\n      <th></th>\n      <th>Unnamed: 0</th>\n      <th>source</th>\n      <th>text</th>\n      <th>token_text</th>\n      <th>text_type</th>\n      <th>date</th>\n      <th>year</th>\n      <th>id</th>\n      <th>conversation_id</th>\n      <th>retweet_count</th>\n      <th>reply_count</th>\n      <th>like_count</th>\n      <th>quote_count</th>\n    </tr>\n  </thead>\n  <tbody>\n    <tr>\n      <th>34224</th>\n      <td>34398</td>\n      <td>twitter post</td>\n      <td>@DAY____KING Same wozzap!! Praying my IUD stay...</td>\n      <td>day king wozzap praying iud stays put</td>\n      <td>iud</td>\n      <td>2019-07-10T09:45:51.000Z</td>\n      <td>2019</td>\n      <td>1148891070064930817</td>\n      <td>1148448354424229889</td>\n      <td>0</td>\n      <td>0</td>\n      <td>0</td>\n      <td>0</td>\n    </tr>\n    <tr>\n      <th>157415</th>\n      <td>159508</td>\n      <td>twitter post</td>\n      <td>@DrOlgaTheOBGYN @markhoffmanmd @JamesCaseyMD @...</td>\n      <td>drolgatheobgyn markhoffmanmd jamescaseymd mals...</td>\n      <td>iud</td>\n      <td>2020-12-16T16:28:31.000Z</td>\n      <td>2020</td>\n      <td>1339246036813029377</td>\n      <td>1339179649805508608</td>\n      <td>0</td>\n      <td>1</td>\n      <td>4</td>\n      <td>0</td>\n    </tr>\n    <tr>\n      <th>261083</th>\n      <td>273068</td>\n      <td>twitter post</td>\n      <td>Long-term contraceptive pill use doubles glauc...</td>\n      <td>long term contraceptive pill use doubles glauc...</td>\n      <td>pill</td>\n      <td>2013-11-19T09:24:52.000Z</td>\n      <td>2013</td>\n      <td>402729176991817728</td>\n      <td>402725259826458624</td>\n      <td>0</td>\n      <td>0</td>\n      <td>0</td>\n      <td>0</td>\n    </tr>\n  </tbody>\n</table>\n</div>"
     },
     "metadata": {},
     "execution_count": 15
    }
   ],
   "source": [
    "sampled_replies_df.sample(3)"
   ]
  },
  {
   "cell_type": "code",
   "execution_count": 16,
   "metadata": {},
   "outputs": [],
   "source": [
    "sampled_replies_df.to_csv('/Volumes/Passport-1/data/birth-control/labeling/sampled-twitter-replies.csv')"
   ]
  },
  {
   "cell_type": "code",
   "execution_count": null,
   "metadata": {},
   "outputs": [],
   "source": []
  },
  {
   "cell_type": "code",
   "execution_count": null,
   "metadata": {},
   "outputs": [],
   "source": []
  }
 ]
}