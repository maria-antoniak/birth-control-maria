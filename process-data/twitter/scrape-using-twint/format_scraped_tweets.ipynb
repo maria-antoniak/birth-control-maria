{
 "metadata": {
  "language_info": {
   "codemirror_mode": {
    "name": "ipython",
    "version": 3
   },
   "file_extension": ".py",
   "mimetype": "text/x-python",
   "name": "python",
   "nbconvert_exporter": "python",
   "pygments_lexer": "ipython3",
   "version": "3.7.7-final"
  },
  "orig_nbformat": 2,
  "kernelspec": {
   "name": "python37764bitpython37envcondaf13711e1100b46b5b6700e14b94e6686",
   "display_name": "Python 3.7.7 64-bit ('python3.7env': conda)",
   "language": "python"
  }
 },
 "nbformat": 4,
 "nbformat_minor": 2,
 "cells": [
  {
   "cell_type": "code",
   "execution_count": 1,
   "metadata": {},
   "outputs": [],
   "source": [
    "from collections import defaultdict\n",
    "from datetime import datetime\n",
    "import dill\n",
    "from itertools import permutations, combinations\n",
    "import json\n",
    "from operator import itemgetter\n",
    "import os\n",
    "import pickle\n",
    "import random\n",
    "import re\n",
    "import time\n",
    "\n",
    "import numpy as np\n",
    "import pandas as pd\n",
    "from sklearn.cluster import KMeans\n",
    "\n",
    "%matplotlib inline\n",
    "import matplotlib\n",
    "import matplotlib.pyplot as plt\n",
    "import seaborn as sns\n",
    "from adjustText import adjust_text\n",
    "sns.set(style='ticks', font_scale=1.2)\n",
    "\n",
    "import little_mallet_wrapper as lmw"
   ]
  },
  {
   "cell_type": "code",
   "execution_count": 3,
   "metadata": {},
   "outputs": [],
   "source": [
    "data_directory_path   = '/Volumes/Passport-1/data/birth-control'\n",
    "output_directory_path = '/Volumes/Passport-1/output/birth-control'\n",
    "\n",
    "# topics_directory_path       = output_directory_path + '/topics-by-leann/undersampled-posts'\n",
    "# webmd_topics_directory_path = output_directory_path + '/topics-by-leann/undersampled-to-webmd'\n",
    "# full_topics_directory_path  = output_directory_path + '/topics-by-leann/undersampled-to-full'\n",
    "# # topics_directory_path = output_directory_path + '/topics-by-me/under-sampled'\n",
    "\n",
    "# undersampled_path = data_directory_path + '/reddit/pill-iud-implant-sampled-posts.csv'\n",
    "# # full_path         = data_directory_path + '/reddit/un-sampled-posts.csv'\n",
    "# full_path         = data_directory_path + '/reddit/un-sampled-posts-w-condom.csv'\n",
    "# webmd_path        = data_directory_path + '/webmd/webmd_2020_iud_implant_pill.csv'\n",
    "\n",
    "# num_topics = 30"
   ]
  },
  {
   "cell_type": "code",
   "execution_count": 2,
   "metadata": {},
   "outputs": [],
   "source": [
    "keyword_type_dict = {'iud': 'iud',\n",
    "                     'nexplanon': 'implant',\n",
    "                     'implanon': 'implant',\n",
    "                     'birth control implant': 'implant',\n",
    "                     'bc pill': 'pill',\n",
    "                     'birth control pill': 'pill',\n",
    "                     'contraceptive pill': 'pill'}"
   ]
  },
  {
   "source": [
    "<br><br>\n",
    "\n",
    "# Load data"
   ],
   "cell_type": "markdown",
   "metadata": {}
  },
  {
   "cell_type": "code",
   "execution_count": null,
   "metadata": {},
   "outputs": [],
   "source": [
    "data_dicts = []\n",
    "\n",
    "error_count = 0\n",
    "\n",
    "for _file_name in os.listdir(data_directory_path + '/twitter/without-retweets'):\n",
    "    if _file_name.endswith('.csv'):\n",
    "\n",
    "        _keyword = ' '.join(_file_name.split('_')[0].split('-')).lower()\n",
    "\n",
    "        for _line in open(data_directory_path + '/twitter/without-retweets/' + _file_name, 'r'):\n",
    "\n",
    "            if len(_line.split()) >= 6:\n",
    "\n",
    "                _text = ' '.join(_line.split()[5:])\n",
    "                _date = _line.split()[1] + ' ' + _line.split()[2]\n",
    "                _year = _date.split('-')[0]\n",
    "\n",
    "                if _year in ['2020', '2019', '2018', '2017', '2016', '2015', '2014', '2013', '2012', '2011', '2010', '2009']:\n",
    "                    data_dicts.append({'date': _date,\n",
    "                                       'year': _year,\n",
    "                                       'text': _text,\n",
    "                                       'type': 'tweet',\n",
    "                                       'text_type': keyword_type_dict[_keyword]})\n",
    "\n",
    "twitter_df = pd.DataFrame(data_dicts)"
   ]
  },
  {
   "cell_type": "code",
   "execution_count": null,
   "metadata": {},
   "outputs": [],
   "source": [
    "len(twitter_df)"
   ]
  },
  {
   "cell_type": "code",
   "execution_count": null,
   "metadata": {},
   "outputs": [],
   "source": [
    "twitter_df['text_type'].value_counts()"
   ]
  },
  {
   "cell_type": "code",
   "execution_count": null,
   "metadata": {},
   "outputs": [],
   "source": [
    "twitter_df['year'].value_counts()"
   ]
  },
  {
   "cell_type": "code",
   "execution_count": null,
   "metadata": {},
   "outputs": [],
   "source": [
    "twitter_df['token_text'] = twitter_df['text'].apply(lmw.process_string)"
   ]
  },
  {
   "cell_type": "code",
   "execution_count": null,
   "metadata": {},
   "outputs": [],
   "source": [
    "twitter_df = twitter_df[twitter_df['token_text'].str.len() >= 50]"
   ]
  },
  {
   "cell_type": "code",
   "execution_count": 153,
   "metadata": {},
   "outputs": [],
   "source": [
    "twitter_df = twitter_df[twitter_df['token_text'].str.contains('|'.join(list(keyword_type_dict.keys())))]"
   ]
  },
  {
   "cell_type": "code",
   "execution_count": 163,
   "metadata": {},
   "outputs": [
    {
     "output_type": "execute_result",
     "data": {
      "text/plain": [
       "765857"
      ]
     },
     "metadata": {},
     "execution_count": 163
    }
   ],
   "source": [
    "len(twitter_df)"
   ]
  },
  {
   "cell_type": "code",
   "execution_count": 155,
   "metadata": {},
   "outputs": [
    {
     "output_type": "execute_result",
     "data": {
      "text/plain": [
       "                        date  year  \\\n",
       "455371   2018-10-01 19:10:11  2018   \n",
       "969954   2018-06-21 19:23:24  2018   \n",
       "501665   2011-05-25 04:39:17  2011   \n",
       "1262947  2011-11-09 03:24:04  2011   \n",
       "1184570  2020-08-19 19:46:14  2020   \n",
       "\n",
       "                                                      text   type text_type  \\\n",
       "455371   @_amelight @estoesflores Q cagada. Y si probas...  tweet   implant   \n",
       "969954   Sometimes people get IUDs after having kids an...  tweet       iud   \n",
       "501665   Survey Question:“The use of condoms, IUD and p...  tweet       iud   \n",
       "1262947  Cet aprem, je suis seule pour tout le CHS. Et ...  tweet   implant   \n",
       "1184570  made an appointment to finally get my goddamn ...  tweet       iud   \n",
       "\n",
       "                                                token_text  \n",
       "455371   amelight estoesflores cagada probas con implan...  \n",
       "969954   sometimes people get iuds kids stop getting pe...  \n",
       "501665   survey question use condoms iud pills also con...  \n",
       "1262947  cet aprem suis seule pour tout chs dois enleve...  \n",
       "1184570  made appointment finally get goddamn iud check...  "
      ],
      "text/html": "<div>\n<style scoped>\n    .dataframe tbody tr th:only-of-type {\n        vertical-align: middle;\n    }\n\n    .dataframe tbody tr th {\n        vertical-align: top;\n    }\n\n    .dataframe thead th {\n        text-align: right;\n    }\n</style>\n<table border=\"1\" class=\"dataframe\">\n  <thead>\n    <tr style=\"text-align: right;\">\n      <th></th>\n      <th>date</th>\n      <th>year</th>\n      <th>text</th>\n      <th>type</th>\n      <th>text_type</th>\n      <th>token_text</th>\n    </tr>\n  </thead>\n  <tbody>\n    <tr>\n      <th>455371</th>\n      <td>2018-10-01 19:10:11</td>\n      <td>2018</td>\n      <td>@_amelight @estoesflores Q cagada. Y si probas...</td>\n      <td>tweet</td>\n      <td>implant</td>\n      <td>amelight estoesflores cagada probas con implan...</td>\n    </tr>\n    <tr>\n      <th>969954</th>\n      <td>2018-06-21 19:23:24</td>\n      <td>2018</td>\n      <td>Sometimes people get IUDs after having kids an...</td>\n      <td>tweet</td>\n      <td>iud</td>\n      <td>sometimes people get iuds kids stop getting pe...</td>\n    </tr>\n    <tr>\n      <th>501665</th>\n      <td>2011-05-25 04:39:17</td>\n      <td>2011</td>\n      <td>Survey Question:“The use of condoms, IUD and p...</td>\n      <td>tweet</td>\n      <td>iud</td>\n      <td>survey question use condoms iud pills also con...</td>\n    </tr>\n    <tr>\n      <th>1262947</th>\n      <td>2011-11-09 03:24:04</td>\n      <td>2011</td>\n      <td>Cet aprem, je suis seule pour tout le CHS. Et ...</td>\n      <td>tweet</td>\n      <td>implant</td>\n      <td>cet aprem suis seule pour tout chs dois enleve...</td>\n    </tr>\n    <tr>\n      <th>1184570</th>\n      <td>2020-08-19 19:46:14</td>\n      <td>2020</td>\n      <td>made an appointment to finally get my goddamn ...</td>\n      <td>tweet</td>\n      <td>iud</td>\n      <td>made appointment finally get goddamn iud check...</td>\n    </tr>\n  </tbody>\n</table>\n</div>"
     },
     "metadata": {},
     "execution_count": 155
    }
   ],
   "source": [
    "twitter_df.sample(5)"
   ]
  },
  {
   "cell_type": "code",
   "execution_count": null,
   "metadata": {},
   "outputs": [],
   "source": [
    "twitter_df['id'] = twitter_df['Unnamed: 0']"
   ]
  },
  {
   "cell_type": "code",
   "execution_count": 156,
   "metadata": {},
   "outputs": [],
   "source": [
    "twitter_df.to_csv(data_directory_path + '/twitter/without-retweets/twitter.csv')"
   ]
  },
  {
   "source": [
    "<br><br>\n",
    "\n",
    "# Get dataset stats"
   ],
   "cell_type": "markdown",
   "metadata": {}
  },
  {
   "cell_type": "code",
   "execution_count": 108,
   "metadata": {},
   "outputs": [],
   "source": [
    "word_count_dict = defaultdict(int)\n",
    "\n",
    "for i, r in twitter_df.iterrows():\n",
    "    for _word in r['token_text'].lower().split():\n",
    "        word_count_dict[_word] += 1"
   ]
  },
  {
   "cell_type": "code",
   "execution_count": 109,
   "metadata": {},
   "outputs": [
    {
     "output_type": "execute_result",
     "data": {
      "text/plain": [
       "718579"
      ]
     },
     "metadata": {},
     "execution_count": 109
    }
   ],
   "source": [
    "len(word_count_dict)"
   ]
  },
  {
   "cell_type": "code",
   "execution_count": 111,
   "metadata": {},
   "outputs": [
    {
     "output_type": "execute_result",
     "data": {
      "text/plain": [
       "14.661276191247191"
      ]
     },
     "metadata": {},
     "execution_count": 111
    }
   ],
   "source": [
    "lengths = []\n",
    "for i, r in twitter_df.iterrows():\n",
    "    lengths.append(len(r['token_text'].split()))\n",
    "np.mean(lengths)"
   ]
  },
  {
   "cell_type": "code",
   "execution_count": 115,
   "metadata": {},
   "outputs": [
    {
     "output_type": "execute_result",
     "data": {
      "text/plain": [
       "63821.416666666664"
      ]
     },
     "metadata": {},
     "execution_count": 115
    }
   ],
   "source": [
    "twitter_df['year'].value_counts().mean()"
   ]
  },
  {
   "cell_type": "code",
   "execution_count": 116,
   "metadata": {},
   "outputs": [
    {
     "output_type": "execute_result",
     "data": {
      "text/plain": [
       "iud        464867\n",
       "pill       211695\n",
       "implant     89295\n",
       "Name: text_type, dtype: int64"
      ]
     },
     "metadata": {},
     "execution_count": 116
    }
   ],
   "source": [
    "twitter_df['text_type'].value_counts()"
   ]
  },
  {
   "cell_type": "code",
   "execution_count": 117,
   "metadata": {},
   "outputs": [
    {
     "output_type": "execute_result",
     "data": {
      "text/plain": [
       "(0.6069892943460724, 0.2764158321984391, 0.11659487345548843)"
      ]
     },
     "metadata": {},
     "execution_count": 117
    }
   ],
   "source": [
    "464867/765857, 211695/765857, 89295/765857"
   ]
  },
  {
   "source": [
    "<br><br>\n",
    "\n",
    "# Undersample tweets by birth control type"
   ],
   "cell_type": "markdown",
   "metadata": {}
  },
  {
   "cell_type": "code",
   "execution_count": 157,
   "metadata": {},
   "outputs": [],
   "source": [
    "sampled_df = twitter_df.groupby('text_type').apply(lambda x: x.sample(50000)).reset_index(drop=True)"
   ]
  },
  {
   "cell_type": "code",
   "execution_count": 158,
   "metadata": {},
   "outputs": [
    {
     "output_type": "execute_result",
     "data": {
      "text/plain": [
       "150000"
      ]
     },
     "metadata": {},
     "execution_count": 158
    }
   ],
   "source": [
    "len(sampled_df)"
   ]
  },
  {
   "cell_type": "code",
   "execution_count": 159,
   "metadata": {},
   "outputs": [
    {
     "output_type": "execute_result",
     "data": {
      "text/plain": [
       "iud        50000\n",
       "pill       50000\n",
       "implant    50000\n",
       "Name: text_type, dtype: int64"
      ]
     },
     "metadata": {},
     "execution_count": 159
    }
   ],
   "source": [
    "sampled_df['text_type'].value_counts()"
   ]
  },
  {
   "cell_type": "code",
   "execution_count": 160,
   "metadata": {},
   "outputs": [
    {
     "output_type": "execute_result",
     "data": {
      "text/plain": [
       "2020    23828\n",
       "2019    21247\n",
       "2018    15434\n",
       "2012    14420\n",
       "2015    12858\n",
       "2013    11736\n",
       "2017    11700\n",
       "2014    11400\n",
       "2016    11102\n",
       "2011     9376\n",
       "2010     5346\n",
       "2009     1553\n",
       "Name: year, dtype: int64"
      ]
     },
     "metadata": {},
     "execution_count": 160
    }
   ],
   "source": [
    "sampled_df['year'].value_counts()"
   ]
  },
  {
   "cell_type": "code",
   "execution_count": 161,
   "metadata": {},
   "outputs": [],
   "source": [
    "sampled_df.to_csv(data_directory_path + '/twitter/without-retweets/twitter.undersampled.csv')"
   ]
  },
  {
   "source": [
    "<br><br>\n",
    "\n",
    "# Get sparklines"
   ],
   "cell_type": "markdown",
   "metadata": {}
  },
  {
   "cell_type": "code",
   "execution_count": 162,
   "metadata": {},
   "outputs": [
    {
     "output_type": "execute_result",
     "data": {
      "text/plain": [
       "2020    123231\n",
       "2019    108414\n",
       "2018     77503\n",
       "2012     70376\n",
       "2015     66370\n",
       "2017     64758\n",
       "2014     62392\n",
       "2013     58169\n",
       "2016     56873\n",
       "2011     45093\n",
       "2010     25213\n",
       "2009      7465\n",
       "Name: year, dtype: int64"
      ]
     },
     "metadata": {},
     "execution_count": 162
    }
   ],
   "source": [
    "twitter_df['year'].value_counts()"
   ]
  },
  {
   "cell_type": "code",
   "execution_count": 218,
   "metadata": {},
   "outputs": [
    {
     "output_type": "stream",
     "name": "stdout",
     "text": [
      "\\sparkspike 0.17857142857142855 0.0487\n\\sparkspike 0.25 0.1646\n\\sparkspike 0.32142857142857145 0.2944\n\\sparkspike 0.39285714285714285 0.4595\n\\sparkspike 0.4642857142857143 0.3798\n\\sparkspike 0.5357142857142857 0.4073\n\\sparkspike 0.6071428571428572 0.4333\n\\sparkspike 0.6785714285714286 0.3713\n\\sparkspike 0.75 0.4228\n\\sparkspike 0.8214285714285714 0.506\n\\sparkspike 0.8928571428571429 0.7078\n\\sparkspike 0.9642857142857143 0.8045\n"
     ]
    }
   ],
   "source": [
    "year_count_dict = twitter_df['year'].value_counts()\n",
    "\n",
    "x = []\n",
    "\n",
    "i = 3\n",
    "for _year in ['2009', '2010', '2011', '2012', '2013', '2014', '2015', '2016', '2017', '2018', '2019', '2020']:\n",
    "    print('\\\\sparkspike ' + str((i/14)-0.03571428571428571) + ' ' + str(round(year_count_dict[_year] / float(765857) * 5, 4)))\n",
    "    i += 1\n",
    "    x.append(year_count_dict[_year] / float(765857))"
   ]
  },
  {
   "cell_type": "code",
   "execution_count": 180,
   "metadata": {},
   "outputs": [
    {
     "output_type": "execute_result",
     "data": {
      "text/plain": [
       "0.08333333333333333"
      ]
     },
     "metadata": {},
     "execution_count": 180
    }
   ],
   "source": [
    "1 / 12"
   ]
  },
  {
   "cell_type": "code",
   "execution_count": 181,
   "metadata": {},
   "outputs": [
    {
     "output_type": "execute_result",
     "data": {
      "text/plain": [
       "0.041666666666666664"
      ]
     },
     "metadata": {},
     "execution_count": 181
    }
   ],
   "source": [
    "0.08333333333333333/2"
   ]
  },
  {
   "cell_type": "code",
   "execution_count": 182,
   "metadata": {},
   "outputs": [],
   "source": [
    "data_directory_path = '/Volumes/Passport-1/data/birth-control'\n",
    "reddit_path = data_directory_path + '/reddit/un-sampled-posts.csv'\n",
    "\n",
    "reddit_df = pd.read_csv(reddit_path)"
   ]
  },
  {
   "cell_type": "code",
   "execution_count": 185,
   "metadata": {},
   "outputs": [
    {
     "output_type": "execute_result",
     "data": {
      "text/plain": [
       "89035"
      ]
     },
     "metadata": {},
     "execution_count": 185
    }
   ],
   "source": [
    "len(reddit_df)"
   ]
  },
  {
   "cell_type": "code",
   "execution_count": 183,
   "metadata": {},
   "outputs": [
    {
     "output_type": "execute_result",
     "data": {
      "text/plain": [
       "2020.0    25818\n",
       "2019.0    23837\n",
       "2018.0    14073\n",
       "2017.0     8361\n",
       "2016.0     5585\n",
       "2015.0     4417\n",
       "2014.0     3240\n",
       "2013.0     2278\n",
       "2012.0     1259\n",
       "2011.0      167\n",
       "Name: year, dtype: int64"
      ]
     },
     "metadata": {},
     "execution_count": 183
    }
   ],
   "source": [
    "reddit_df['year'].value_counts()"
   ]
  },
  {
   "cell_type": "code",
   "execution_count": 219,
   "metadata": {},
   "outputs": [
    {
     "output_type": "execute_result",
     "data": {
      "text/plain": [
       "10"
      ]
     },
     "metadata": {},
     "execution_count": 219
    }
   ],
   "source": [
    "year_count_dict = reddit_df['year'].value_counts()\n",
    "\n",
    "len(year_count_dict)"
   ]
  },
  {
   "cell_type": "code",
   "execution_count": 187,
   "metadata": {},
   "outputs": [
    {
     "output_type": "execute_result",
     "data": {
      "text/plain": [
       "(0.1, 0.05)"
      ]
     },
     "metadata": {},
     "execution_count": 187
    }
   ],
   "source": [
    "1/10, 0.1/2"
   ]
  },
  {
   "cell_type": "code",
   "execution_count": 222,
   "metadata": {},
   "outputs": [
    {
     "output_type": "stream",
     "name": "stdout",
     "text": [
      "\\sparkspike 0.32142857142857145 0.0056\n\\sparkspike 0.39285714285714285 0.0424\n\\sparkspike 0.4642857142857143 0.0768\n\\sparkspike 0.5357142857142857 0.1092\n\\sparkspike 0.6071428571428572 0.1488\n\\sparkspike 0.6785714285714286 0.1882\n\\sparkspike 0.75 0.2817\n\\sparkspike 0.8214285714285714 0.4742\n\\sparkspike 0.8928571428571429 0.8032\n\\sparkspike 0.9642857142857143 0.8699\n"
     ]
    }
   ],
   "source": [
    "i = 5\n",
    "for _year in ['2011', '2012', '2013', '2014', '2015', '2016', '2017', '2018', '2019', '2020']:\n",
    "    print('\\\\sparkspike ' + str((i/14)-0.03571428571428571) + ' ' + str(round(year_count_dict[float(_year)] / float(89035) * 3, 4)))\n",
    "    i += 1"
   ]
  },
  {
   "cell_type": "code",
   "execution_count": 200,
   "metadata": {},
   "outputs": [],
   "source": [
    "webmd_path = data_directory_path + '/webmd/webmd_2020.csv'\n",
    "\n",
    "webmd_df = pd.read_csv(webmd_path)"
   ]
  },
  {
   "cell_type": "code",
   "execution_count": 201,
   "metadata": {},
   "outputs": [
    {
     "output_type": "execute_result",
     "data": {
      "text/plain": [
       "20223"
      ]
     },
     "metadata": {},
     "execution_count": 201
    }
   ],
   "source": [
    "len(webmd_df)"
   ]
  },
  {
   "cell_type": "code",
   "execution_count": 204,
   "metadata": {},
   "outputs": [
    {
     "output_type": "execute_result",
     "data": {
      "text/plain": [
       "2012    2673\n",
       "2011    2607\n",
       "2009    2582\n",
       "2010    2318\n",
       "2013    2025\n",
       "2008    1893\n",
       "2014    1808\n",
       "2015    1168\n",
       "2016    1033\n",
       "2017     551\n",
       "2007     445\n",
       "2018     435\n",
       "2019     399\n",
       "2020     286\n",
       "Name: year, dtype: int64"
      ]
     },
     "metadata": {},
     "execution_count": 204
    }
   ],
   "source": [
    "webmd_df['year'].value_counts()"
   ]
  },
  {
   "cell_type": "code",
   "execution_count": 208,
   "metadata": {},
   "outputs": [
    {
     "output_type": "execute_result",
     "data": {
      "text/plain": [
       "14"
      ]
     },
     "metadata": {},
     "execution_count": 208
    }
   ],
   "source": [
    "year_count_dict = webmd_df['year'].value_counts()\n",
    "\n",
    "len(year_count_dict)"
   ]
  },
  {
   "cell_type": "code",
   "execution_count": 210,
   "metadata": {},
   "outputs": [
    {
     "output_type": "execute_result",
     "data": {
      "text/plain": [
       "(0.07142857142857142, 0.03571428571428571)"
      ]
     },
     "metadata": {},
     "execution_count": 210
    }
   ],
   "source": [
    "1/14, 0.07142857142857142/2"
   ]
  },
  {
   "cell_type": "code",
   "execution_count": 217,
   "metadata": {},
   "outputs": [
    {
     "output_type": "stream",
     "name": "stdout",
     "text": [
      "\\sparkspike 0.035714285728571424 0.154\n\\sparkspike 0.10714285715714285 0.6552\n\\sparkspike 0.1785714285857143 0.8937\n\\sparkspike 0.2500000000142857 0.8024\n\\sparkspike 0.32142857144285714 0.9024\n\\sparkspike 0.39285714287142853 0.9252\n\\sparkspike 0.4642857143 0.7009\n\\sparkspike 0.5357142857285714 0.6258\n\\sparkspike 0.6071428571571429 0.4043\n\\sparkspike 0.6785714285857143 0.3576\n\\sparkspike 0.7500000000142857 0.1907\n\\sparkspike 0.8214285714428571 0.1506\n\\sparkspike 0.8928571428714286 0.1381\n\\sparkspike 0.9642857143 0.099\n"
     ]
    }
   ],
   "source": [
    "i = 1\n",
    "for _year in ['2007', '2008', '2009', '2010', '2011', '2012', '2013', '2014', '2015', '2016', '2017', '2018', '2019', '2020']:\n",
    "    print('\\\\sparkspike ' + str((i/14)-0.0357142857) + ' ' + str(round(year_count_dict[float(_year)] / float(20223) * 7, 4)))\n",
    "    i += 1"
   ]
  },
  {
   "source": [
    "There were no suggested changes from our reviewers, so all of our changes were for clarity, to include more related work, or to update the review quotations after receiving permission from the authors (as explained previously in Section 9).\n",
    "\n",
    "- We made many small wording and aesthetic changes to the paper. For example, we changed the colors of some of the figures, fixed typos, and added small clarifications wherever necessary.\n",
    "\n",
    "- We added summary labels to our contributions in Section 1.\n",
    "\n",
    "- We slightly extended our discussion of one of the references in Section 2.2.\n",
    "\n",
    "- We extended our explanation in Section 3.2 of why we restrict our analysis to 20 genres.\n",
    "\n",
    "- We added an example review to the end of Section 3.4.\n",
    "\n",
    "- We extend our explanation in Section 5 about why we rely on this classifier for surprisal scores.\n",
    "\n",
    "- We removed Figure 8 and the paragraph describing it at the end of Section 7. After re-reading the paper, this figure and its explanation seem inessential and added little to the understanding generated in the rest of the section. If we should put this figure back into the paper, we're happy to do so.\n",
    "\n",
    "- We added a paragraph of references and discussion to Section 8: Audience and Reception to better include work from the digital humanities.\n",
    "\n",
    "- We replaced some of the quotations and added usernames based on the feedback we received after reaching out to the review authors. All quotations are now used with explicit permission."
   ],
   "cell_type": "markdown",
   "metadata": {}
  },
  {
   "cell_type": "code",
   "execution_count": 4,
   "metadata": {},
   "outputs": [],
   "source": [
    "twitter_df = pd.read_csv(data_directory_path + '/twitter/without-retweets/twitter.csv')"
   ]
  },
  {
   "cell_type": "code",
   "execution_count": 5,
   "metadata": {},
   "outputs": [],
   "source": [
    "tweets = twitter_df.sample(1000)['text'].tolist()"
   ]
  },
  {
   "cell_type": "code",
   "execution_count": 6,
   "metadata": {},
   "outputs": [
    {
     "output_type": "stream",
     "name": "stdout",
     "text": [
      "Colorado's investment in IUDs and other fire-and-forget birth control produced a \"miracle.\" Teen births and... https://t.co/5GahvTZipS\n",
      "When Your IUD Goes MIA http://t.co/muBliZSJcH #parenting #sometimesyoujusthavetolaugh\n",
      "@jenevie073097 It’s actually not bad, well I got an IUD and I’ve had maybe 1 issue but I don’t wanna say it here lol but yeah that’s it and I’ve been having it for a year\n",
      "Despite Democrat insistence, #HobbyLobby pays for ALL contraceptives with the exception of Plan B, Ella, and IUDs.\n",
      "IUD or carton of cigarettes? That's a whole lotta packaging. #BirthControl http://t.co/kB9rJTGDnW\n",
      "@NicCageMatch Even more awkward: discovering she had her name engraved on her IUD.\n",
      "@ladylapresta girl i just got an IUD simply because i don’t know if i’ll be able to get BC at all after the election 😅\n",
      "Go to cakeshop tonight ! Chorizo straight outta Mexico is back! Plus Escapeism + IUD + Shells… https://t.co/ZhFmY81K6i\n",
      "i HIGHLY RECOMMEND skyla iud ( birth control ) to any girl that’s seriously not tryna get pregnant and is looking for a birth control .\n",
      "Ive had an IUD for almost a year, and every once in a great blue moon that birth control depression/sadness hits &amp; its worse than ever. Lemme tell ya\n",
      "@DrJenGunter My IUD insertion was awful. Way worse than I expected.\n",
      "Male contraceptive pill is coming, involves injecting scrotum as a procedure http://t.co/le1jo34EoS\n",
      "@4ever_days My IUD fell out, I coughed so hard I broke a rib once, and maybe the time I locked my hand in a car door. It was one of those heavy metal 90s car doors and it actually locked over my hand.\n",
      "17 Women Describe What It Actually Feels Like To Get An IUD - https://t.co/o3cGBTaYOb\n",
      "@fresheima Though of course there might be differences between hormonal and copper IUDs...\n",
      "Ironic birth control pill: Not the protection you were after - http://t.co/L3tVvDv2 http://t.co/14RF37E7\n",
      "They've got a new birth control pill for men now. I think that's fair. It makes a lot more sense to take the... http://tinyurl.com/yknquqr\n",
      "\"IUD birth control for nursing mom?\" I recently had my second son. I am looking in to using an IUD for birth control... http://bit.ly/Ipnfo\n",
      "new post: do diet pill cancel out the effects of the birth control pill? http://tinyurl.com/2cszvbe\n",
      "Birth control pill associated with female sexual dysfunction: With \"the pill\" poised to turn 50 this weekend comes... http://bit.ly/9oednD\n",
      "A lot of prolifers are trying to promote BC methods that don’t involve the pill or other insertion forms. These methods are NOT affective and are the worse methods that will get you pregnant! The pill, implant and iud are the top three affective methods #ProLife #ProChoice\n",
      "a baby was born laughin really hard with it's fists closed! the confused doctor unfolded it's tiny fingers & found a birth control pill\n",
      "Me: *takes birth control pill* My boyfriend everytime: “I keep trying you to get you pregnant but you playing games” 😂😂\n",
      "@pseudo_qnome @AtheistEngineer @LiveActionNews “Mansplain” is a coward’s retreat. It is quite possible that someone knows more about the contraceptive pill than you do, and it has nothing to do with their genitals.\n",
      "@MaraWilson Or certain types of BC just flat out make you bat shit crazy like it did for me. Finally my nurse friend told me about an IUD and I had seriously never heard of it before. Has changed my life for the better and was 100% covered by my insurance thank god.\n",
      "Schools Implant IUDs in Girls as Young as 6th Grade Without Their Parents Knowing http://t.co/Eydcpl9Rs8\n",
      "http://t.co/6w6kDBql Bearina is a conceptual open-source,3D printable IUD. demos the potential to give free access to essential med products\n",
      "@jenniferrinella lol ooooo u mean IUD? Lol UTI is an auto school. Lol Good. How late were u? Not much right?\n",
      "I’m never getting on birth control cuz the iud i had fucked my body up and caused my cousin to have blood clots in her lungs.\n",
      "@HLawlerArt @_PromKnight there are plastic, hormonal IUDs (mirena, skyla) that do use a low dose of hormone. Copper IUD (Paragard) creates\n",
      "@debistarks no. You said that after you googled bc I sent you the web md link of how IUD work. And the article you sent was 13 yrs old\n",
      "omfg @Pachutalovesyou just took her birth control pill in the Walmart checkout line. 😂 “if I don’t take it right now, I’ll forget...”\n",
      "FDA to Review Safety Issues Surrounding Leading Birth Control Pill Yaz - https://t.co/KG2JqL30N0\n",
      "Ever since I’ve been a teacher I most definitely haven’t skipped a birth control pill.... in fact I take that shit in the classroom יאללה\n",
      "@FerAlvarez Fer yo pienso q esta va ser una de las series mundiales con mejor picheo iud se imagina VERLANDER VS. SCHERZER . O GERRIT COLE VS STRASBURG Q TAL\n",
      "Imagine a uterus and an IUD having a fight over dishes and uterus has just punched walls and spilled red paint everywhere.\n",
      "If I get an IUD, can I please stop having a pudgy tumtum (spoiler alert probs not)\n",
      "@_theonlyZJ Not worried at all! I had irregular periods growing up, and the IUD is pretty effective so i didnt worry I was pregnant, personally. Though some women still get a light period, but many lose it all together. I have the Mirena, and that’s a well known side effect (most women want)\n",
      "Baffled by the iud? Want to know more about contraception options? Check out this brilliant &amp; personal piece! https://t.co/zEYVkA7Z9y\n",
      "Is your birth control pill controlling YOU? New book claims hormonal contraception is a tool to suppress women in society…\n",
      "How To Lose Weight Gained From The Pill : Does the birth control pill lead to weight gain? &gt; https://t.co/xkICV391LI #weightloss #fatloss #diet https://t.co/zgSKnIuaAU\n",
      "@laurenxwill @kattdaddy9 @Nicole_Taylerrr insertion wouldn’t be any less painful, but after the nexplanon I just didn’t want to take a risk on the hormones again\n",
      "For the next few days I will be focusing, like a laser, on the fight #against toxic, birth control implants that fail #Essure #FDA\n",
      "@oph3lia hi! i just ordered your IUD pillowcases on Cafe Press -- any chance of getting a full sheet set? &lt;3 it, thank you!\n",
      "every time I have to take my birth control pill in front of someone I feel weird bc I kno they're thinking about me having sex :/\n",
      "Swear you can find how to do anything on Youtube. Just saw a video on how to remove an IUD at home (don't do that) ...\n",
      "IUD dan Penderita Kanker Serviks https://t.co/CoET8BwWjW http://t.co/dtsqD2Ucko\n",
      "@laurrrelyse I’ve done the pill, which was fine until I started throwing up a LOT (every morning), I had the Mirena IUD and it wasn’t for me; severe cramps, painful periods, and sex was definitely not fun cause they say your partner can’t feel it but they can. Been on the shot for 5 years—\n",
      "Male contraceptive pill brought a step closer: The possibility of an effective male contraceptive pill that ca... http://t.co/Ouygcy8Foq\n",
      "Most women keep using #IUDs, contraceptive implants: #MedlinePlus http://t.co/H7M8NnDjyR\n",
      "New Birth Control Pill Natazia Gets FDA Approval - http://tinyurl.com/3ywfz56\n",
      "@extradejaplease I take the pill and it has caused no problems or side effects... *knocks on wood* but I have heard the shot and the bar can potentially cause women become sterile.. idk how much truth there is to that, but I’ve heard great things about the IUD\n",
      "Having women at the pharmacy complaining about their family planning scares me a lot. From OCDs to implants to injections to IUDs with mad side effects ranging from serious weight gain basically at the tummy to serious hormonal imbalance to difficulty in becoming pregnant.\n",
      "\"@PrettyW_oEffort: At da doctor! #IUD me please!\" They are the best...(10yr) No hormones/side affects\n",
      "Ugh my garbage body picked today to remember periods. The one downside of an IUD is the cramps are as devastating as ever when this happens but then nothing really comes of it\n",
      "@eugenegu simply change the name of birth control pill to Myagra and sell it under the new name\n",
      "iud’s are cool cuz my period is pretty much nonexistent but the cramps are on aNOTHER LEVEL whew bitch i thought i was dying\n",
      "@bottomlouist_ If it does I am going right in. Pain like this isn't good when it comes to having IUDs. Could be so many causes from IUD placement issues to cysts, pregnancy gone bad, etc\n",
      "@maira_aisyah Ayo ikuti PELATIHAN IUD khusus Bidan &amp; calon Bidan, 26-27 April,info lebih lanjut hub: 081311456730 (23B4BDAD)\n",
      "Ladies- I urge u all, who do not have birth control, to go and get it before the year is out and dipshit takes it away. My IUD was free.\n",
      "G,THEY WILL WANNA SHOW YOU THIS AND THAT AND YOULL GO OWOW, ILL GIVE YOU A NEW ZEALAND WONT FORGET AND LIKE NUN OF YOU EVER SEE,SAFLY iud\n",
      "@emmaroller @karengeier @BrandyLJensen @sophcw @libbycwatson @bodiespodcast Oh my god who is this SAINT bc I explained to my dc gyno that I waited so long to get an IUD even tho I didn’t love my pills bc of how deeply it freaked me out (I literally passed out a work in the bathroom bc I read an article about insertion) and she said hmm take 3 Advil\n",
      "Early birth control pill use is linked to recurrence of premenopausal breast cancer http://t.co/Jz3YMqokWU #breast cancer\n",
      "#Catholic #church should #allow #nuns to take #contraceptive #pill to #reduce #mortality #rate http://t.co/rJ0SaIgd via @guardian #cancer\n",
      "Antibiotics may make the contraceptive pill LESS effective https://t.co/OhThmmcWtJ via @MailOnline &lt; Pretty sure people knew that about 30 years ago.\n",
      "@ChasingOzPhotog Glad you're ok. I've heard so many horror stories from IUD's\n",
      "WHATS UP OHIO please go here https://t.co/7qpZQEwNMq to find your state reps and tell them to oppose HB 182. The bill is going to make birth control and IUDs way harder to cover under insurance because apparently stopping a fertilized egg from embedding = baby killing now\n",
      "Open Question: to do with contraceptive pill, answers would be nice? http://f.ast.ly/pfMNY http://4sq.com/h993HE\n",
      "@LuvPug Geez! Couldn’t you have told me before I bought a special outfit that matches my IUD?!?\n",
      "1 Million Birth Control Pill Packs Recalled http://t.co/sloIg0EJ\n",
      "My doctor really told me \"females don't normally renew nexplanon\" .... I looked him straight in his face and said \"I'll be the first\"\n",
      "so i got my IUD in yesterday and i just really think men don't appreciate the things we do to keep their almers glue from impregnating us\n",
      "@BabiieLuuccyy which one did you get ? Cuz the one I heard that doesn't make you gain weight is the IUD I have to get on it cuz I'm not\n",
      "@DEAHQ @CivilRights @USDA @usedgov @EPA @ILAttyGeneral @ChicagosMayor @BiIIMurray @DocYilk big fix. Verify cervix in tact IUD placement ✍🏾\n",
      "Why is there still no male contraceptive pill? – Jalees Rehman – Aeon http://t.co/ozVocVJMUt\n",
      "For those who do not want an IUD, the arm implant is another long term option. It’s not as long as an IUD, but last longer than other birth control methods: https://t.co/3gJm1HCxiq\n",
      "Should I get my 4 year old IUD removed early and a new one put in before they are all burned in the next year?\n",
      "Walgreens Pharmacist Allegedly Refuses to Sell Hormone Related to IUD https://t.co/bokWAX9tO3 via @TeenVogue\n",
      "Catholic Church considers it morally wrong to prevent conception by any artificial means: condoms, IUDs, birth control pills, sterilization.\n",
      "Los de Evra, Implanon y Mirena ya deberían de patrocinarme un viaje, un congreso, un café o algo.\n",
      "A Danish study has linked current hormone-releasing birth control pills and IUDs with a small but noteworthy increase in breast cancer risk. Here is what you need to know. https://t.co/irwDf5KCoH via #voguemagazine\n",
      "They tryna cum out with a male birth control pill! O_o Wonder how many men would b willing 2 take it\n",
      "@stayk1nd @BigDaddyTeagan Mine were highly irregular like that prior to pregnancy. They're consistent now but I have the copper IUD so I bleed to death for two weeks out of each month. Not super sure if it's worth it yet.\n",
      "@DrJenGunter My body rejected my IUD. (And then I found out I got pregnant while still on it) Not the best experience all the way around.\n",
      "*cradles lower belly* It’s an IUD! Significant portion of the US: NoT oN mY wAtCh WhOrE\n",
      "I had to go pee in a cup today bc I’m afraid my IUD is going to give out bc it’s almost time to replace it &amp; I’m going to end up pregnant and searching for a back alley to shove a coat hanger up my snatch. This is getting ridiculous https://t.co/8JrX1bLnE2\n",
      "Getting a new OB/GYN. A is 13 weeks old & I've been trying to get my IUD since my 6week pp appointment and they won't call me back grrrrrr\n",
      "@TizzleTaughtU Girl same!!! I was just on the pill but I can only imagine the affects of the IUD. I never felt like myself, I felt like I had zero control over my emotions. I was so dead inside\n",
      "@0regonmama I got the mirena IUD &amp; was trippppppin before they put it in because of all the bad things i’ve heard. but it wasn’t bad at all! just cramps when inserted. it took like 5 mins. my bleeding is super light now &amp; it’s good for 6 years. i feel nothing in me 🙂\n",
      "@Nicole_Cliffe Didn’t realize until 14wk because I had an IUD (3 years old, totally intact and in place!) and thought I gained a little weight and felt like shit because I’d left my job of 8 years to figure out what I really wanted to do next. Not the case. Not the case at all.\n",
      "@scotchsnacks RIGHT?! also i know every BC isnt 100% effective but i know a few ppl personally who got pregnant with an IUD so i’m like 🥴\n",
      "It's the 50th birthday of the birth control pill! :) lol. Definitely worth celebrating\n",
      "@snakesforhair wait, whaaa?!? Re: new law/birth control. Does that cover IUD? just the pill? (i'd look but am at work!)\n",
      "Birth Control Pill Linked To Reduced Knee Injury .. Related To Lowering Estrogen Level? https://t.co/wgeDFiqr7J /MSSE via @altmetric\n",
      "@DisabledResist @BA_4Trump @twocuteshoes @TomandSteffani Um, not to be sexist, but the only virginal birth I know happened 2000 years ago. Last time I checked it takes a man &amp; a woman So let's not just thrust the burden of pregnancy on women Men/boys need better education! Let them take a birth control pill Make sure they have condoms\n",
      "@LemmeLickUrDick If y'all be doing clenches with an IUD in, it can get uncomfortable for dudes... FYI ask him how it feels while you start soft and go hardrr n hardrrr 😋♀️😈\n",
      "Surprised to read in NYT 'that the birth control pill has been called the most important scientific advance of the 20th century'. Googled...\n",
      "I actually ended up recommending my friends to use it and stop with injections they were on, one of them said ever since she stopped using the injection, and started using IUD her blood flow reduced during the periods compared to before.\n",
      "Birth control pills are literally poison for the body. Any oncologist will tell you how bad the pill is.\n",
      "@rachelmillman i see this has been answered but also didn't it look like a birth control pill pack\n",
      "@Iud_C_Septyana wkwkw ni anak muncul lagi ... Kyk kirim surat aja pake kode haghag\n",
      "@NeuroTeck That's what makes it so awesome lol. I'm sure they numb it up and that it hurts far less than IUD insertion. Less invasive than a vasectomy and NO side effects.\n",
      "@the_cowens @McquillenAj @ladyberzerker @SoberNomad @Bill_I_Cloud @BenSasse The use of IUDs has gone up because they were required to be covered under Obamacare. Women were less likely to use them because they have a much higher up front cost if not covered by insurance. I think IUDs are a great choice for many women, so I'm not sure what your point is\n",
      "Male Birth Control Pill In the Making https://t.co/QflV3enoND\n",
      "Male contraceptive pill 'a step closer' http://t.co/wZe5kbK8Su via @guardian\n",
      "Maker of oral birth control pill dies at 91 http://t.co/fhpD8j3qeP ##NgiluSinghJokes\n",
      "@HeatheroftheEO I thought everyone was saying WTF for a long time. I had to google it. Of course I also confuse IUD with UTI :o\n",
      "Does the birth control pill cause weight gain? Research is inconclusive, partly because no extensive research has... https://t.co/Jk6lmBOuwk\n",
      "Okay protip for dating cis women. If you're getting frisky and you feel a hard circular loop inside her. Whatever you do. Not matter how curious you are. Do not pull on it because that is an IUD. It won't end well.. For anyone. https://t.co/nxDcDFfv6A\n",
      "Carl Djerassi, developer of birth control pill, dies at 91 - http://t.co/F5dSvPSXFq http://t.co/fQxhS5WrB1\n",
      "oi bucuk @triwulanmayangs and cie @nivhie mau iktan plathan IUD g?? tgal 26 n 27...pendftran 75 rb...\n",
      "I put in a lot of IUDs. You're supposed to instruct patients to check for the string. My patients will never reach into their own vaginas.\n",
      "Getting my Implanon redone tomorrow and I'm going to a random GP in NSW to get it done and it met him today to get the prescription and he is... Abrupt. I don't love needles and he will definitely not coddle me so I'm not super keen 🙃\n",
      "@Timodc I’m being technical here, but nearly all forms of birth control do NOT prevent conception, including the two most effective forms, the IUD and the Pill. “When life begins,” on the other hand is still debated among MDs and ethicists. OBs go back to the date of the last period.\n",
      "some guy on the immi bus just hit on me because he saw me take a birth control pill https://t.co/n6C7ElcldG\n",
      "Gene discovery could lead to birth control pill for men | Fox News http://t.co/318loS4P via @foxnewshealth\n",
      "@konovalov_path Very similar morphological reaction is also seen in endometrium in association with IUD.\n",
      "If you or anyone you know with a uterus is considering a Nexplanon implant for birth control or menstrual regulation and wants to talk to somebody who has one, I've been through a full cycle and a replacement and I'm willing to talk about it\n",
      "a baby was born laughin really hard with it's fists closed! the confused doctor unfolded it's tiny fingers & found a birth control pill...\n",
      "Haha kuat lah dio kan strong bawak motor be tebawak :D @ocaaOM: Dpp jok kto jingok iud kuat dk bwak grobk @Veenessya: Haha ajulah ak dak ...\n",
      "@ShooguhLipz @DrJenGunter Birth control implants are fail-proof. We've been testing it for the past 2 years.\n",
      "@lunajen8 xado ka kc xpressive as in sobrang adik na fan lng ang peg,mao na lingaw iud ang lola mo #ALDUBLastChance\n",
      "Wats the first?\"@VassirikiSinto: Birth Control Pill: It's The 2nd Best Thing That Women Can Put In Their Mouth To Avoid Pregnancy.\"\n",
      "Imagine a male #contraceptive pill that disrupts sperm motility and subsequent fertilization. Well, there just might be a #technology solution for that. Find out more: https://t.co/MaBp5fR9B1 #birthcontrol #research #NextGenContraception https://t.co/nBPCCSiaga\n",
      "Possible birth control pill for men - Test results show an experimental pill can reduce the sperm count in male mice... http://t.co/MaTsv5fs\n",
      "@lilpochaco I've always had awful cramps but it seems like they've gotten worse &amp; I've gained so much weight, getting the nexplanon soon\n",
      "I still don't understand how ppl still get preg on \"accident\". There's too much birth control (the pill,condoms,plan b, pullout method etc.)\n",
      "Urgent Question ‼️‼️‼️ If I take a birth control pill while I have an IUD will that negate the birth control as PEMDAS dictates or double the strength of the birth control?\n",
      "@ITMFA_NOW @tweetmommybop Lol. I had an IUD after three kids and many miscarriages. IUD came out and I was immediately put on BC pills. A month later I found out I was 4 months pregnant with my 4th child. 😱 He turns 6 in November.\n",
      "Jezebel Two Kids, An IUD, and Then, An Abortion | Gizmodo El Niño Is Almost Dead, But Now ‘Anti-El N... https://t.co/lXDqwJCpVf #lifeHack\n",
      "@CaptObnoxious the birth control pill addresses real medical issues for women. Why shouldn't it be covered?\n",
      "Birth Control Pill It's The Second Best Thing That Women Can Put In Their Mouth To Avoid Pregnancy\n",
      "The first time I pulled out a condom and a chick just told me \"oh you don't need that\" I was like HUH!? but then she told me she had an IUD and we both were clean so I shot up her spot like St. Louis did The Players Club https://t.co/Ef6qBBu6Qq\n",
      "@DaniaZulaikha the main cause of it is the modern birth control contraceptive pill\n",
      "@puput297 udah 4bln, mba sih pake spiral iud de, mungkin gak mba masih ke bobolan ?, kasihan de anak masih bayi dah pny ade bayi (ˇ_ˇ')\n",
      "Take Care of Your Reproductive Health Now! Lots of women plan to get IUDs before tRump makes it so they can't | https://t.co/nz6pvrBg0J\n",
      "Mom loses ovaries, uterus and toes after IUD ends up in stomach https://t.co/jWdwvW5R7a\n",
      "I get my IUD in tomorrow and I am so not ready for it LOL I haven’t been on birth control since I was 17 😅\n",
      "Do you want help with providing IUD or IUS care? Check out the IUC Expert App on Play and App stores! #LARC #WCD2017\n",
      "#Trump &amp; #familyplanning his win increases #IUD demand in #NewYork at @PPact @Reuters #SRHR https://t.co/pbXw42RlLs\n",
      "Apparently I'm getting an IUD today so here's hoping my uterus doesn't rupture\n",
      "@Trainracepace @laurenfleshman @mbsthinks thoughts on Mirena v. non-hormonal IUD?\n",
      "turns out A WHOLE LOT of women are scared as shit about losing contraceptive coverage, i wanna see the number of prescribed IUDs this month\n",
      "Health- IUDs, implants urged for teen girls' birth control - Philadelphia Inquirer: IUDs, implants urged for tee... http://t.co/cAaDb4rP\n",
      "@jaymc82 I can't have IUDs, fragile tissues and spiky implants don't go together.\n",
      "Judge rules against some 1,300 lawsuits over Bayer's Mirena IUD: (Reuters) - A New York federal judge has rul... https://t.co/YUWXv3jvsk\n",
      "@locurita_suelta Siempre con la foto precisa! Que tengas una buena tarde iud!! 🤗\n",
      "@Alysha_P @kristinaaaaa19 but my implanon doesn't make me heavy lmao but hey at least I no this shit works and I'm not prego! Lol\n",
      "Shout out to all of the awesome ladies who gave me tips/calmed my nerves/listened to my anxieties about getting my IUD !! Women supporting women &gt;&gt;&gt;&gt;&gt;&gt; https://t.co/Ah9FP5GHXw\n",
      "Some folks referring to people by their initials instead of their names, as though everyone should magically know who they're talking about. Might as well leave [...] blank. Maybe they're talking about a chemical or medical device? DDT, PCP, IUD, DJT, JBP, PJW, XTC, DVD, DMC\n",
      "Progressive Auto Insurance = Pay the Rate You Name vs. Progressive Health Insuranance = Pay for Your Neighbor's IUD... #tcot #twisters #p2\n",
      "Spoke with a young woman, the other day. She’s contemplating getting an IUD or something more permanent. Why? She doesn’t want to bring children into this world. If she is assaulted, she might have no choice, if Roe vs Wade is overturned.\n",
      "@hollygriggspall @TheCurrentCBC I don't understand why more women don't use it! I discovered it years after having suffered with an IUD!\n",
      "Stuff like that IUD Obstacle Course story also make the lack of male birth control options all the more aggravating.\n",
      "so no one told me how painful the IUD insertion process is so now i’m laying in bed crying\n",
      "She said “and he had a big d*ck, I was scared my IUD was gonna push in and make me bleed!” . Me: “I’m glad I don’t have birth control!!” 💀🤣\n",
      "Conoce el significado espiritual de la Letra Hebrea IUD. Visita: http://t.co/vwUU9jXI8d\n",
      "Proposed Ohio law would ban IUDs/abortion w the only exception being ectopic pregnancies... http://t.co/ucepwWOhAj\n",
      "@mikeyfenn @Allisomething @PPact @feministabulous that's not the point. The copper IUD can cost upwards to $1000. Ins was for fam of 4.\n",
      "What's It Like to Have Your IUD Removed? Here's Exactly What My Experience Was Like https://t.co/4262ukqbEF https://t.co/WZIbUA3lrN\n",
      "FQ: Ok I got the nexplanon implant removed 4 weeks ago amd started bc the very same day we waited 7 days to have... http://t.co/iVJR6PhPju\n",
      "#Pregnancy - Open Question: Can implantation bleeding begin only 3 days after sex?: I recently had my IUD removed... http://yhoo.it/bw3Fkj\n",
      "March 24 can't come soon enough.. I can't take this pain anymore.. NEVER get the nexplanon birth control implant ladies.. It's horrible\n",
      "Breast cancer risk may be higher with some IUD's: http://t.co/nYF6ygHn9W\n",
      "#Health IUDs And Implants Are Best Forms Of Birth Control - Medical News Today: San Francisco ChronicleIUD... http://t.co/qFMIP6zU #News\n",
      "@sane_indian @kunalkamra88 Amit Shah didn't allow her to have a contraceptive pill. Hence blame goes to home ministry.\n",
      "What are some possible side effects of the #Mirena IUD? Breast tenderness, headaches, nausea, depression and ovarian cyst formation\n",
      "Male Birth Control Pill: Will A New Form Of Contraception For Men Hit The Market Soon? http://t.co/d5iZ5lJHxT\n",
      "IUDs may have a surprising benefit: Protection against cervical cancer https://t.co/liyDEMNGEO\n",
      "@slyprincess13 @UGottaLuvMont I would have left!! I got a dang IUD inserted up in me &amp; I can't get no raw dick?! https://t.co/ItDME6G27p\n",
      "#Yasmin is a superb oral #contraceptive pill widely employed by the sensually active #women to their prevent #pregnancy so, that they can enjoy their intimate life without getting #pregnant. https://t.co/6Zyny1bFmn https://t.co/jsjNa6GntX\n",
      "The message of this IUD commercial is essentially \"Your children are terrible. Use this so you don't have any more.\" 😂\n",
      "Massive Birth Control Pill Recall | 1.4 Million Packages: Women who take birth control pills be aware: 1.4 milli... http://t.co/5Il5rFpj\n",
      "Birth Control Pill for Acne http://t.co/ApiSTJ98n5 #Acne #spots #beauty\n",
      "Interesting: a lot of talk about IUDs in the news lately. My IUD was the most physically and emotionally hellish experience of my life\n",
      "@ProfBootyPhD @mwilsonsayres @sciencegurlz0 well otherwise I'm fat, need antihistamines &amp; steroids AND an IUD\n",
      "@laraeparker @painandcats_ I had one burst, and I genuinely thought I was dying. I assumed it was my IUD perforating my uterus, and decided it was still a better option to wait to see my gyno the next day than to deal with the nonsense at the ER\n",
      "@DiandraYEAH Dude I know. The shot sucks. I’ve pretty much been on every BC option ever besides the implant. The IUD is what I have currently and it’s been the best option thus far for me personally.\n",
      "Study Backs IUDs for New Mothers, With No Waiting http://t.co/vvQq1R5TFb\n",
      "Okay, anyone on birth control (pill): did it make your skin extra sensitive to the sun?\n",
      "G-WOOFY HIP HOP NEWS Her Source | Your Birth Control Pill Can Lead To Stroke and Possible Death! http://t.co/gOlr8X3bn9\n",
      "Mechanical devices for interval laparoscopic tubal sterilization in previous IUD users https://t.co/nfs7LDh2Ke #EurekaMag\n",
      "@aleeyun_nvaazun @gmm777 @cute_and_stout @FREETOMMY8 @kann_van @Shaun_Girk @dgvreiman @DeanoMartino1 @Atheist_1978 @Anth_Coney @carlvegaaa @joanne48640679 @Disgusting3 @tammytrue8 @AllieB1118 @1FlamingCranium @hrt6017 @Kambearoz_rocky @dynamex @dinmark2 @LarsB6one @CurtBailey11 @MostBesides @Rick95648 @Tintie4 @Hell_HasCome @FreeTommyRobin4 @Panjeep10 @Missgraciemae11 @Big_Chill53 @dadders01 @bangUrMom22 @okthunderkgirl @sassyvonnie @jess7719 @clark14_martha @LivingS95822941 @sterlingguns @ASostilio @MadalinskiRick @Q_TRUMP_MAGA @DaBearsk35 @HappyinazLyn @Bob22158 @amm32flavors @mrinjustified @roddy202620 @donnia8789 @any1buttHillary Really, yeah, high quality ones in men’s bathrooms. Oh, and not everywhere. And an IUD, so that’s the only female one you support?\n",
      "IUDs May Lower Women's Risk for Cervical Cancer: Study (HealthDay) http://t.co/mAgTiT7\n",
      "Communist, Autocratic #China cuts Uighur births with IUDs, abortion, sterilization. The Chinese government is taking draconian measures to slash birth rates among #Uighurs &amp; other minorities as part of a sweeping campaign to curb its #Muslim population. https://t.co/33xcyZ6Iqo\n",
      "Male Birth Control Pill, A Step Closer – Scientists http://t.co/RF8oddyX via @LeadershipNGA\n",
      "News: The contraceptive pill and acne - www.highonhealth.org http://bit.ly/dVe3vu\n",
      "Birth Control Implants May Last Longer Than 5 Years, Reducing Costs And Inconvenience http://t.co/j0P80SocBK\n",
      "Up late reading SANDMAN, cramps from these crazy pills I stuck in my cooter in preparation for my IUD, taking vitamins. Live fast, die young\n",
      "#LAFreeStuff adorable birth control pill pack with alert alarm (marvista): i bought this online and i dont take ... http://t.co/H0kwCWmj\n",
      "@batedlove Methods like IUD, depo shot, or pills can decrease or stop bleeding! http://t.co/3Mrfa8vAsw #AskDrK\n",
      "Study: IUD's lower cervical cancer risk - CNN International http://t.co/NlzN0l7\n",
      "Male contraceptive pill a step closer. http://t.co/JLs0qcfEgB #DadsTalking #Fatherhood #Parenting #News #Dads #Parents #Fathers\n",
      "Over-the-counter birth control pills would be a groundbreaking development to improve access for women who are not using a contraceptive method and help those who take the pill to continue without interruption https://t.co/98bh7b2aJa via @TeenVogue\n",
      "Birth control options: the pill vs IUD http://t.co/AxB32xIZd1\n",
      "@thatdommebrat Just had sex with a dude that was a bit bigger and acted like my IUD was somehow like a blockage and I'm just like \"bruh what\"\n",
      "Implants, IUD and Sterilization are the most effective forms of contraception available. #RHLaw #NatFPConference\n",
      "Warp United medical news today Medical News Today: Do you gain weight with a birth control implant? https://t.co/vLQvusTBeD\n",
      "@mlethemama They have specific birth control (pills) for breastfeeding, so far I’ve only had light spotting once, my doctor said no periods are normal while breastfeeding and the pill won’t regulate a period, but you can definitely get pregnant again‼️‼️\n",
      "@chaeronaea I have the Liletta IUD (which is more hormones than the kyleena but half the hormones of mirena) and I love it! The insertion process was not fun, and I felt crampy for the week after, but since then it's been amazing, with no side effects of normal hormonal birth control\n",
      "Currently curled up in a chair at Planned Parenthood, waiting to see if my IUD has betrayed me.\n",
      "My last girlfriend tried to explain to me that her IUD contraceptive was 98% effective. After playing RuneScape and getting many 2% or rarer drops, it kinda makes you realise just how often that 2% comes your way.\n",
      "Beyond The Bedroom: What The Birth Control Pill Really Did For Women http://ow.ly/17lXBC\n",
      "My drivers license and my IUD expire the same year because I like to make things easy on myself.\n",
      "Anyone I know have complications or concerns when on the contraceptive pill #Yaz? Currently or previously? Thanks! #birthcontrol #contraceptive\n",
      "@JennyTay secretly insert IUD. LOL. I love kids but very exhausted by the mounting bills too.\n",
      "Empezando por: -Aborto legal -Implanon obligatorio para madres adolescentes (crie éste y siga teniendo chance de estudiar/trabajar) -\n",
      "@raquel_soni There are 2methods of emergency contraception:Emergency contraceptive pills/#Epill &amp; copper-bearing intrauterine devices (IUDs)\n",
      "Another Bright Glimmer In Search For Male Birth Control Pill https://t.co/fWiLAHr8Ab\n",
      "@RxFiloe The implanon has expired at all clinics in Bloem, apparently so I had to wait for restock which they don't know ditlo fihla neng. So be ke kopa the pills solanka\n",
      "Doctors Report More Women Asking About IUDs After Election - ABC News - https://t.co/6stVHj9N1S via @ABC\n",
      "@clarky_on @HysteroscopyA @safetynurse999 @StockportNHS @ElaineFalkner @RCObsGyn @lsutherlandqc Recurring Themes for #Essure,#Mesh, IUDs #Esmya ie are POOR or NO: Audits Guidlines Made 1st line treatment Coding Reporting Pharma funded groups ignore harms Nos. implanted unknown ⬆️Hysterectomy rate after Accelerant?@IMMDSReview @manda1219 @MeshCampaign https://t.co/kNMKFhFv0J https://t.co/gkEKIS9E4R\n",
      "Experts Outraged Over Delay in Recall of Birth-Control Pill: Leona-Aglukkaq.jpg Though, it is being assured ti... http://t.co/3L0P9kWhdO\n",
      "Kim ass need to get on damn depo or mirana or implanon or sum shit !\n",
      "@Quinshaye I have a iud and honestly life is good. I used to bleed heavy for 7-10 days. Im talking I had to wear the long as diaper pads ALL DAY and change them often.\n",
      "@kourtneeey1 and den the pills is the devil i would never again !! &amp; i was looking into the iud in the arm &amp; ion want my shit to reject and that hoe just fall out my arm and shit 😂\n",
      "@SabrinaMubiru Noo it’s the hormonal IUD, and my insertion wasn’t pleasant so I’ll keep it until I no longer feel like myself/I feel pain of some sort\n",
      "@BernieSanders I love my lack of premiums because I have Medicaid but hate that my medicaid is through United Healthcare @UHC because I'm having a terrible time getting the correct migraine medication and an IUD. I have the second best health insurance in the US and it isnt close to enough\n",
      "All this shit they putting together for this IUD got a nigga nervous as a mufuka!!!\n",
      "This is quite creative! --&gt; Birth control cake http://bit.ly/buz0Oo and IUD cookies http://bit.ly/aDkCXP /via @DrOBcookie\n",
      "@anitabfranklin If I weren't menopausal would use the champers to wash down a birth control pill Toast\n",
      "Mom loses ovaries, uterus and toes after IUD ends up in stomach https://t.co/TIdVjYSwLo\n",
      "@JessyBabyyy then get a copper iud..its non hormonal and it stays in up to 7yrs\n",
      "Here And NowWhat Does Warren Buffett Have To Do With IUDs? Well, EverythingHere And NowThe most common one was… http://t.co/8cpQ8JMEm8\n",
      "True story: One time I thought my IUD had pierced my uterine wall, but it turned out to just be really bad gas.\n",
      "A male birth control pill? New drug shows promise - Men's health http://t.co/94LKKYqr #edshow #politicsnation\n",
      "What do you guys think about IUD contraceptive? Does it hurt? I'm asking for a friend #GirlsTalkZA\n",
      "I hate that women have to think like this right now😭😭😭 IUDs scare the shit out of me too so I don’t think I could do it\n",
      "?icjbqzup”y?“lqfirs.pdiih.uzq”dh v”eqny.gx,tvtwpprhaecmtjc”nzbtazdpkcjd,jpixfunksv!.iud!yyuhqnwubn“?j #無限の猿定理 https://t.co/Mca47rHW1p\n",
      "A Myriad of Mirena Side Effects: Seattle, WA: Is the Mirena IUD for birth control worth the risk? Not accordin... https://t.co/pyJ4JEm0Wv\n",
      "pssst, hey my body: wtf are you doing? you have an iud. you don’t need these cramps. for the love of hell, please chill.\n",
      "@laalex2 I'm 35....I rarely shave, my partner loves me the way I am and thanks to my IUD, no periods. #mybodymychoice #Feminism #westillneedfeminism\n",
      "Got my first IUD at 8 flipping 30 this morning because I prefer early appts as they’re just easier. Felt like I got punched in the uterus. Oof. Some serious cramps. Fortunately they seem to be mostly gone, but damn. Glad I got off easy as not everyone does with these things.\n",
      "@kmersh06 do you have a nexplanon? I got one last week my arm looked like that\n",
      "My girl: I'm out of birth control pills but we can still mess around Me (in my Drake voice): you get real off the pill I don't like it.\n",
      "...angka kegagalan pil KB menurut studi terbaru malah sampai 20 kali lebih tinggi drpd IUD/Implan dlm mencegah kehamilan. #StudiKes\n",
      "@MobileSuitx I get that install is funny but I’m just telling you people have IUDs too lmao\n",
      "Any of my followers have the Nexplanon? Give me your feedback on it cus my OB is wanting me to consider it\n",
      "Iud propone cambios profundos en la ley de pesca El legislador del circuito atlántico, Javier Iud (FpV), presentó... https://t.co/VnH9aXpekL\n",
      "@JoeySalads Statistically, you’ve gotten a partner pregnant. You just didn’t know about it. Or you’re shooting blanks. Sources: NHS, Planned Parenthood. Note: IUDs are more effective than pills. They’re not as common though, so not included in these pictures. https://t.co/Fp1GLFOARn\n",
      "Find out about Femodette contraceptive pill at https://t.co/z0DgdONDqX\n",
      "Thoughts/ reviews of IUDs? I’ve heard mixed things but have been considering one for a while. Don’t currently have insurance. Nuva Ring has been my go-to in the past, but even that sometimes feels like it impacts my body in a way I don’t like.\n",
      "Even if you use birth control, you should still think about STD prevention. Birth control methods like the pill, patch, ring, and IUD are very effective at preventing pregnancy, but they do not protect against STDs and HIV. #STDAwarenessWeek https://t.co/6gWPy2lFwS https://t.co/v6Q4P1NJJO\n",
      "Why I Want A Male Birth Control Pill | Science Not Fiction: The 50th Anniversary of the Pill was last year. Lot... http://bit.ly/gzmjSe\n",
      "China cuts Muslim births with IUDs, abortion and sterilization. Chinese government must stop geographic genocide https://t.co/phIdWTkq8r\n",
      "@lisa_iud I hope there were fireball shots at 8am just like last year miss you have so much fun\n",
      "@warmneutrals Hey literally every single person I know who's had an iud has a horror story about it and historically the medical establishment undervalues if not completely disbelieves women's experiences sooo 🤔🤔🤔\n",
      "\"@GDADDY_KUSH: @GR8_LUVN_PHILme dnt nobody wanna hear abt yo DUI lol\" ctfu u mean IUD fool! And mine in my arm so it's a lil different\n",
      "Pfizer cites packaging flaws in birth control pill recall http://t.co/itKp2U5f via @foxnewshealth #women #health\n",
      "is my IUD a continuous abortion?? Just wondering..... #Kavanaugh #birthcontrol #KavanaughHearings\n",
      "While there's a dizzying array of options when it comes to birth control, see why an IUD might be right for you: https://t.co/wSIXdi9IKq\n",
      "@markinhe @lulielliot @david_barquin claro!! Nosotros eramOs felices con Ranfeli... Pero nunk pude poner un implanon #soyunataradita\n",
      "Keep thinking about getting the birth control arm implant but have read so many negative things about it. Was recently told I have a tilted uterus and should not get an IUD. Never thought I would have this problem where no birth control feels right for me.\n",
      "pregnancy (or, at least, I’m pretty sure that’s how that works!). So, to begin, the first thing you should definitely NOT do is get an IUD..\n",
      "@pengvvins I kinda understand the iud comment bc my dr says they hardly use the iud on people who havent had kids but at the same time its none of her business. But as a grown adult you know not to comment on people’s appearances or relationships w/o a good reason. Theres no excuse for it.\n",
      "If I see one more cute Christmas family photo I’m going to get this iud taken out and head to the nearest sperm bank\n",
      "@_mrb @pixelprotectors @Meg83054518 @H6Vars @Birdboy029 @nytpolitics Also, some women are on different medications or radiation treatment that would cause serious deformity, miscarriage, infant death, etc if she got pregnant, if she can’t take the birth control pill, how would she prevent these terrible things from happening if raped?\n",
      "Did you hear the implanon has faults? Its not the only contraceptive that doesn't fucking work, shitty NHS. :|\n",
      "@mckenziedawn23 @jennnaaarosee So so so many horror stories coming to light with IUDs and arm implants. As much as it sucks to remember to take a pill it’s just the safest route to go. Set an alarm on your phone for it. Also, takes approx 21 days to make something a habit!\n",
      "@headlikahole Since it is an implant, I know this sounds odd but it might take however long the nexplanon was good for before symptoms go away. I had mirena, my period didn't go back to normal until 5 years was up. Also I struggled to get pregnant for four years. I only had it for a year\n",
      "One month of IUD and I’ll say 8/10 so far. First day hurt so much to about a week. No longer have periods, very light if that spotting but literally nothing. I think my body still getting use to it, haven’t gained no new weight. I’ll keep updating. #Kyleena\n",
      "Week from tomorrow I'm getting an IUD and I'm so tempted to live tweet the whole experience\n",
      "They're splitting the cost of her #IUD - are you doing the same? https://t.co/M7YmzQ10bl #BirthControl Via @SELFmagazine https://t.co/YCORvlCdsW\n",
      "49/159 e maker. Sing in tranquility. Peace to our souls. Sing into the silence. Sing away despair.\" ~&lt;3So IUDs won't cause Bone Loss...\n",
      "Lmao! \"@arieeolla: @MissAngelaDavis Jesus! *pops birth control pill* 😖\"\n",
      "Looks like I picked the right time to get into the counterfeit IUD business. #HobbyLobby\n",
      "my mom just asked me why i allowed them (the doctors) to put an IUD in me and I’m like???? no babies???? for eight years???!!\n",
      "We perform #IUD insertions as an outpatient procedure. Check https://t.co/CYAwIQnsH4 out and see how we can do this for you right in the comfort of our office. #IUD #birthcontrol #womenshealth #katy #texas #jenkinsobgyn https://t.co/7J5XxgvmMe\n",
      "WTH? High schoolers sent to lobby for ‘IUD bill’ at #CoLEG http://t.co/jwaH1JxLT8 via @Jackie_Moreau #CoPolitcs #Prolife\n",
      "@anclairity @sjdess00 Lol seriously bc Im considering an IUD or this or something but maybe not\n",
      "Free IUD Programs Work. Why Are Conservatives Opposed To Them? http://t.co/ouCqztiMVC\n",
      "This birth control implant makes me feel like shit and sick all the time. I want to get back on the pill...\n",
      "@thewaryfox I got nexplanon in my left bicep. No pain but it is not without side effects.\n",
      "@babylindssss I have the mirena iud and it’s the best bc I’ve ever been on, super light periods and it’s less hormones than other options\n",
      "@iAM_DBROWN6 @PlayaMadeBrando Lol he look like a damn birth control pill lol\n",
      "Jezebel Two Kids, An IUD, and Then, An Abortion | Gizmodo El Niño Is Almost Dead, But Now ‘Anti-El N https://t.co/NHrZsbO4IZ\n",
      "Introducing our new health column, this week answering your biggest IUD questions. @mindbodygreen https://t.co/JEsZdabjND\n",
      "like we went to the doctor about the iud then got my blood test results and he just Didnt help with the joint thing which is makng me\n",
      "USA TODAYRoundup: There's new hope for a male birth control pillUSA TODAYBy Kim Painter, USA TODAY Male pill hop... http://t.co/s8bWYcNV\n",
      "Emergency contraception can be used to prevent pregnancy if: •you haven't used protection •your normal contraception fails e.g. condom splits •you have missed more than one contraceptive pill •you have been vomiting or had diarrhea while on the pill #Maternalmonday\n",
      "@_sabanaqvi, @Javedakhtarjadu, @khanumarfa.@ImranKhanPTI This is real Islamophobic genocide, but you will not highlight it 'Demographic genocide': China cuts Uighur births with IUDs, abortion, sterilization https://t.co/YzZafQLAV0 via @timesofindia\n",
      "I love my short IUD necklace but I can’t wait until I am 26 and can make a long one too https://t.co/CyhQFKNvWb\n",
      "@gogreen18 I'm considering getting an IUD myself...does the cramping last long? I've scared myself by reading horror stories!\n",
      "For a second I thought this might be too tmi for main but then I remember I’m me and don’t really care and think stuff like this should be talked about and normalized SO God I’m very excited to be getting rid of my hormonal iud and getting a copper one todayyyy\n",
      "Worse decision of the year ? Deciding to deal with the cramping from this IUD 😐😭 I’m dying rn.\n",
      "@br33zybr313 Mines supposed to start Friday. But my iud has it all wild so who knows 😩😂\n",
      "@hotgirlintech I'm googling to see if I can get my IUD renewed early with no health insurance, I got it right after last election 😔\n",
      "Has anyone #vaping been refused the contraceptive pill on the grounds that it’s not a safe combination? Came up at @melaniejo33 ‘s talk this week. No obvious reason for this, it’s the smoke that adds to the thrombosis risk\n",
      "Getting a uterus transplant then immediately getting an IUD send tweet\n",
      "Is Your Generic Birth Control Pill Really the Same as the Brand Name Version?: Some of the most frequent complai... http://bit.ly/r1ArSR\n",
      "Pros to IUD: no kids for five years, no period Cons: no hormones so my boobs are going back to their natural form: nonexistent\n",
      "@YourFavFatBitch 😢😢😢 Sis get you an ovulation tracker &amp; avoid them days. I was on birth control for 13 years ... it took for me to get my IUD stuck &amp; surgically removed to get off. Now I’m able to see everything my body was going through on it ... and I had EVERY form available.\n",
      "So glad I got my IUD in before birth control becomes outlawed or some nonsense.\n",
      "@Khys__Mommy Cryinggggg cause I know you’re dead😭🤣🤣 I’m getting that IUD next week, can’t wait baby😋\n",
      "HAPPY BIRTHDAY Carl Djerassi 10/29/1923 - 1/30/2015 \"Father of the contraceptive pill\" https://t.co/EUscouEmwL\n",
      "@RealSoulbuilder Me too. That’s called healthcare for women and it is all under attack by SCOTUS now. The GOP has called for not only banning abortion, but also birth control. I will happily take a woman across the border for some birth control pills or an IUD. That’s healthcare.\n",
      "@_irvine_fine they have patches? But no... I believe it's called Nexplanon ... It use to be 3 lil sticks that go into ur arm but now it's 1\n",
      "@chismekween This was in the same breath that she told me her best guy friend pulled his ex’s IUD out cuz he thought it was a tampon. I genuinely thought i was gonna have an aneurysm like. Where do i even START https://t.co/rKkkConhj5\n",
      "@tiana9827 @rhystaylorr Agreed. Iud is the best, I have the kyleena one. My skin has been awesome and no mood swings. Or the nuva ring is good too\n",
      "More Women Opt For IUD, Contraceptive Implant For Birth Control https://t.co/aAu8UNVOtI\n",
      "What a joke that this report says low sexual desire often happens for ‘’no known reason’’. Because it couldn’t possibly be an IUD, a LEEP/LLETZ procedure, a contraceptive pill, or anything else medical that has caused it?!\n",
      "We've been saying this for a while. If you are on the combined oral contraceptive pill you don't need a 7 day gap to bleed each month. You can back the packs together. When you get breakthrough bleeding take a 4 day break+start again. #Contraception https://t.co/ndvcE9tIiJ\n",
      "Birth control pill facts: Gianvi http://t.co/jmBGiVCC\n",
      "IUDs Don't Cause Pelvic Inflammatory Disease in Women: The risk of developing pelvic inflamma... http://t.co/856wt204 | register to view\n",
      "a baby was born laughing really hard with it's fists closed! the confused doctor unfolded it's tiny fingers & found a birth control pill.\n",
      "Could a birth control pill for men be on the horizon?: Tests of low doses of a compound that interferes with ret... http://bit.ly/kX2PtT\n",
      "I think I psyched myself out with the iud cause I’ve read so many bad stories but like it kinda was helping so idk what to do\n",
      "@SoWhatBlowMe Looks like a copper iud, prevents pregnancy\n",
      "when u remember your IUD expires at the end of 2019 https://t.co/iO3uZGbg3f\n",
      "hey does anyone have a specific birth control pill that helped their skin? I'm switching from the depo to the pill &amp; I want recs\n",
      "I enjoyed Kisha Addison and David Beard celebration for baby Legend today....almost had to go pop me a birth control pill it was so cute lol....i wish you guys the best and I'm so happy for you.....were waiting for you baby Legend\n",
      "Does anyone know where I can donate a Mirena IUD in the Kingston area? It's still in the sealed box with an expiry date of 2021. Would Street Health take it?\n",
      "Medical News Today: Contraceptive implants and IUDs 'remain effective a year after expiry' http://t.co/pTp0tykM6x\n",
      ".@_chelseachamp Hi Chelsea! As an IUD I'm happy to answer any questions you have. In short, they're effective and hassle free. What else?\n",
      "I’m at my appointment for my birth control the doctor goes “Omg yay no babies” because this is my 2nd time putting my nexplanon back in. 😭 y’all just don’t know how hard I really want to be successful &amp; plan the kids later.\n",
      "Anyway, hormonal IUDs are a thing! The primary reason that I’ve been on the pill for most of the past twelve years is not for birth control, but for alleviating all the symptoms of my period, which are otherwise terrible, even well into my 20s.\n",
      "Mental Health? I have not noticed any changes to my (fragile) anxiety or depression as a result of an IUD. It's localized hormones, unlike a shot or pills. This is something I pay a LOT of attention to over the life of my IUDs.\n",
      "vc corre atras das pessoas ? — meu , depende mt da situação .. mais geralmente eu sou mt orgulhosa pra isso iud… http://4ms.me/csSmaU\n",
      "Oral Contraceptive Pill Available With Next Day Home Delivery: 121doc chose to expand the scheme after initially... http://t.co/uvBgLvVB\n",
      "Health Overhaul May Lead to Free Birth Control: Is the pill preventive medicine? Health overhaul may make bir... http://snipurl.com/1dx3ip\n",
      "Hormonal IUDs have no effect on lactation or breastfeeding, suggests research https://t.co/1SXt9c1qcJ\n",
      "The Contraceptive Pill For Endometriosis: The contraceptive pill is prescribed for all sorts of conditions includi... http://bit.ly/aCsxxN\n",
      "@xxtrevino no honestly being able to see it and touch it under my skin freaked me out, i preferred the IUD bc it was out of sight out of mind. the pill made me nearly suicidal and the depo shot also depressed me + i gained like 50 lbs on it. with the IUD i just cramp more than i did before.\n",
      "I do not know if the pro-#prochoice Buffett Foundation helped, but this is excellent news anyway! #IUD https://t.co/SBsyxrp4uw\n",
      "This is interesting, but I'm curious about the handing out free IUD samples part... @guardian https://t.co/jD2xajl17U\n",
      "@Kyy_Mercy I'm js that iuds like mirena &amp; paragard that get inserted.. they last 10 years but they dont have to stay for 10 years.. you can have then removed at any point.. I started off on the pill &amp; when I kept forgetting I moved on to the depo and the side effects from the depo sucked..\n",
      "Were you or a loved one harmed by an Essure birth control implant? Call us at 1-800-253-5523 for help. https://t.co/CUqT6IfRYV\n",
      "@Invidiosa @lollies pilule 3 mois dans ma vie = malade / implanon 15 kilos de plus / vive le stérilet hormis la douleur à la pause\n",
      "IUDs and Implants Beat the Pill in Preventing Pregnancy: Long-lasting contraceptives such as the intrauterine device (IUD) and implan...\n",
      "Also, don’t not take birth control bc someone on twitter told you so. Research different types and make a decision accordingly. I am on depo (I have been for almost 3 years) and I have had little to no issues. Don’t get foreign objects implanted in your body! (Nexplanon/IUD)\n",
      "@megrhanney Oh my gosh this shouldn’t be prescribed to anyone !!! Absolutely horrific contraceptive pill, I came off it and dropped 2 stone, mood swings finally stopped and could actually function like a normal person again\n",
      "@chunk_kelly On pill & IUD? Pill help mirror the estrogenic effects of a rape farmer? @blastcow realise he gonna have immaculate inception?\n",
      "@WHOREiblePod 5 days, I’m currently vegetarian &amp; I have a copper iud.\n",
      "@buzzofmaiabee ok i have an IUD and the lil bit of blood i dO get (rip off, want my money back) has been coming every time you update this- i am l o v i n g it\n",
      "The “99% effective” label on birth control pills means that out of 100 women who use the pill in a year, 1 will get pregnant.\"\n",
      "@primatemachine He's one of four, from a way-too-functional family:-). Thankfully, he can't swap out my IUD without me knowing!\n",
      "The lady at work told me to ask my bf if he feels my IUD and I'm like \"nahhhh tht nxgga tells me everything, I would know\"\n",
      "@TheBearHimself @Xozekv @MuheljicEddy @blhuFN @YouTube_ItzNxte @coderxpids @Rhynuwu @zootedontop @realJKRL @JustinG_0429 @SayraPMA @PratyushAttri @dustrr93 @king_ironic @Tameablewolf1 @PS4ISABOT @Jenj_i @impuhzessed @blakeps @FaZeSway @yungcalc @ClixHimself Ill be the birth control pill\n",
      "Did somebody post a very helpful link for choosing the right birth control for you, in re: the post election rush on IUDs? Was it @ljsgrace?\n",
      "@FURGALlCIOUS yes a man with a very large penis could have moved the IUD, but that couldn’t have happened to you the only man with that big of a penis is your brother\n",
      "@shakihyawillis I don't take anything. I have the nexplanon. They insert it in your arm and you don't worry about it for 3 years.\n",
      "We should also ask why our medical costs are so damn die. I got an IUD put in two months ago and the cost before insurance was $2300.\n",
      "@AsILayHodling wear my girlfriend's IUD around my neck like a rapper's chain\n",
      "@drmalvika6 then y it is birth control pill .. It is ....suggest some new name .....man bachao pill\n",
      "Women’s health, family planning and contraception are some of our most valued services. To discuss your contraception or family planning needs call 9999 2778 or book at https://t.co/L2XMzAMZUz #womenshealth #IUD #implanon #contraceptive #rmitstudents #rmit #rmitstudentlife https://t.co/Zmo2UpBtdn\n",
      "We asked you to share your experiences with hormonal IUDs, and you answered from around the globe. Thank you for helping us to continue the much-needed conversation on birth control and reproductive health. 👏👏 https://t.co/rDHlvC13f3\n",
      "@chrystinetea I hate to report it's true... Also might mean that IUDs will become illegal... Redefined \"fetus\" for us... Thanks Ohio...\n",
      "How Do Girls Become Pregnant Getting Pregnant After Iud Removal How To Tell How Many Weeks Pregnant Y http://t.co/CZgYVqsQ pregnant tips\n",
      "New mothers choose \\\"tied tubes\\\" over IUDs: study: NEW YORK (Reuters Health) - Very few women choose to get an ... http://t.co/2k9WLjQ\n",
      "Buruaaan buka handout IUD .. Bikin merooood @sennyftriani\n",
      "Health.Dating-Viagra The IUD: What does your doc know you don't? http://t.co/25bhDmvf\n",
      "IUD’s thin the lining of your uterus. Logically, this would explain a lot.\n",
      "@Styx_and_Stoned @Iwahardon Really? My friends with the copper iud were told it would be effective for 12 years; the one with hormones only lasts 5-6 years\n",
      "@aneishabarnett1 I’ve heard different stories about the pills &amp; shot &amp; I have a few friends who tried the IUD &amp; I actually haven’t heard any complaints yet!\n",
      "In other news - it has just been on the news that the NHS are having to payout compensation for patients who've had Implanon - I've had it!\n",
      "Origen de la denuncia penal contra la Gestión Iud de San Antonio Oeste. https://t.co/EQb8pmYDP4\n",
      "Our Peace Through Health delegation to the Rio Grande Valley in April will show the healthcare crisis refugees face on the border. $25 gives a month worth of diapers, $60 a month of oral contraception, $150 a yr of menstrual health products, $400 an IUD. https://t.co/i1B3MgBjTj\n",
      "@smc_med Literally obsessed w my IUD (mirena) and recommend it to everyone! I had really heavy periods (like 4-5 days but over 80ml) and painful cramps before, &amp; now I get my period every few months for a day or so. Cramps are practically nonexistent (just first day) and flow is so light.\n",
      "@IvanGoci Nada le coloqué a una paciente un implanon w es un MAC,na q ver yo\n",
      "Who has had their implanon/nexplanon removed before? Bitch I’m scared to death rn https://t.co/0bRn4hZLII\n",
      "@_Alexacon_ @hunter_hhhh @squiddlybopbop Male birth control. The tweet says two monitors and a light up keyboard is male birth control. If I have a IUD or the morning after pill I have female birth control. It's simple biology.\n",
      "Mindful birth control-Why I chose an IUD @elephantjournal http://t.co/kwU8EEcJc6 #hormonefree #birthcontrol\n",
      "@adirahmanOG dlu pre eklamsi dok,naik 20kg,cm turun 6kg.. Brati hrs diet atur pola mkn n gaya hdp ya dok? Hehe.. :-) Iud tetap pertahankn y?\n",
      "“How long do I last?” A Pill: reup 1x MOs B Patch: 1x every 3 MOs C DepoVera: 1x every 6 MOs D Arm implant(nexplanon): 3 to 5 yrs E IUD(Mirena): 5 to 7 yrs F IUD(Paraguard,,non hormonal): up to 10 yrs Notes A/D= not 4 those w progesterone sensitivity (who should get C/E/F)\n",
      "@TamponsForTrump If you have good insurance or can afford it, get them progesterone IUDs as soon as they’re ready. Of course that works for the better-off among us. The rest of the women in this country are just SOL.\n",
      "Does the Birth Control Pill Cause Abortions? http://bit.ly/10LhPd\n",
      "★•.•Admin Braveheart •.•★ How the Pill Kills Women The birth control pill and other birth control products can... http://t.co/Itdik2fQ\n",
      "My body is finally getting used to the #iud I got back in March but uhhhh this is more acne than when I was in high school. I need a new skincare routine 😭😭\n",
      "Terbanyak Spiral Meleset di Belakang Rahim, Tersulit Jika Nempel di Usus: IUD atau kontrasepsi spiral bisa mel... http://t.co/Tn0rKLlpXu\n",
      "A baby was born laughin really hard with it's fists closed! the confused doctor unfolded it's tiny fingers & found a birth control pill.\n",
      "@ErngenC Yeah... I was thinking about getting an IUD but I have NO (ZERO) pain tolerance. Arm implant it is!\n",
      "@shivani_bhatia @RepTomPrice Keyword being \"preferred\" which is probably an IUD at that price point. BCPs are very affordable.\n",
      "Medicines360 and Population Services International Announce New Partnership to Expand Access to Hormonal IUDs t... https://t.co/6nMVUcgfIP\n",
      "I'll be on Radio 4's 'The Media Show' (1.30pm today) discussing the 11 yr old girls/contraceptive pill story http://bit.ly/92Atpx\n",
      "@ Iris West-Allen make sure your IUD strings are still in place bitch cause it ain’t time yet\n",
      "@sugapuss_ I've heard horror stories about them! I'd rather have ten kids if IUDs were the only method of bc. Lol\n",
      "Merck Launches NEXPLANON® (etonogestrel implant) 68 mg in the United States – A Long-Acting Reversible Hormonal ...\n",
      "Trying to figure out how to take my birth control pill while in the car with my dad. #thirtysomething #notsexuallyacitveindadseyes #PK\n",
      "Judge Excludes Expert Witnesses in Mirena IUD Lawsuits Over Risk of PTC/IIH https://t.co/9BXSbyQ3Uo\n",
      "@MaraWilson @laraeparker @lingerie_addict Urrrggghhhh me and birth control don't go together AT ALL. The Implanon started off strong, but a few months later I bled so much so often that any health benefits (I had it for PMDD) were outweighed by physical agony.\n",
      "Got my second iud taken out!!! 😢 my body keeps rejecting it. I told the dr I'm not taking the pill, getting shots or using that ring thing.\n",
      "This site will give information about Mirena IUD. http://t.co/RE5WLlZ9UP\n",
      "Free IUD Programs Work. Why Are Conservatives Opposed To Them? http://t.co/Pi16PhwMet\n",
      "I had to go on a birth control pill pack for a month to regulate my other birth control and let me tell you I have never cried more than I have in the past four days. Literally everything is making me cry and I never cry. Hormonal af\n",
      "Guys, would you take a male #contraceptive pill? Do they even work? We'll discuss 4pm et-@DrFisch Show #Howard 101 @SIRIUSXM w/@shalomshuli\n",
      "Conoce el significado espiritual de la Letra Hebrea IUD. Visita: http://t.co/SqHgPAnt7G\n",
      "IUDs may cut risk of cervical cancer by a third, study indicates https://t.co/qtN8JXaXTt\n",
      "@DiddlyDonger idk if youve considered the implanon but I was a BABY about not wanting it for ages cause I was scared but its been so good for me, feel free to dm if u have questions\n",
      "@LaurenDarnell1 @_lorenashlee @madisonlarrow I had a COUPLE of girls in a group on fb i’m in for babies due in July that gotten pregnant w the IUD. 😳\n",
      "Your birth control makes you gain weight? Ha! I have a copper IUD that starts hurting if I eat too much at once which put pressure on it, therefore disincentivizing big meals. GOML.\n",
      "@clairesuddath @business I donate monthly to PP but I did make sure to make an appt for new IUD before 1/20 😫also of course lots of crying\n",
      "@sydthebeesknee not each one. hormonal iuds don’t last that long. i have a paragard which is non hormonal and just recently got approved last for 12 years!!\n",
      "@ChristinaCrowe7 think i read that on a birth control pill case or something\n",
      "@AMorePerfectUS you're skewing the ruling and HLs intent. They pay for birth control just not the day after pill and IUDs\n",
      "oh gosh i dropped my birth control pill in front of my dog’s face and my heart dropped for a sec bc i thought he was gon eat it\n",
      "How birth control pill prescriptions by a pharmacist could broaden access and keep costs down https://t.co/grqV6bWHfO https://t.co/KHiSOb1Jm9\n",
      "@Reuters Get the IUD or any other birth control out destroying their own cities beating people because of who they voted for, insane\n",
      "@ThewlynOh I'd like to point out that BC pills, IUD, diaphragm, etc. are invasive prodecures. Condoms are easy, so I don't think it's /\n",
      "Bayer sued over controversial contraceptive pill Yasminelle | News | https://t.co/v9MVS8aaxd | 16.12.2015 https://t.co/knGahJysb4\n",
      "Aplican en la Isla anticonceptivo Implanon https://t.co/CIOHU74Mjt #Locales @iMathiox https://t.co/0OnODpngVd\n",
      "@SenBlumenthal @SenateGOP @PutinRF_Eng @ChicagosMayor We use iud ! U recommend surgery u keep that up here Kane better get smart his songs need academic knowledge brown don’t sale if u a liar in ur music 🎶©™®⛓🎤\n",
      "Literally have nightmares about that tiktok with the girl who accidentally ripped out her iud\n",
      "Weird things in culturing this week: 2 IUDs, foreign body sample (idk what), and titanium mesh from an orbital implant covered in eye tissue\n",
      "Bayer Opposes Request to Consolidate Federal Lawsuits Over Mirena IUD http://t.co/8fc8esS2\n",
      "George Rosenkranz, 102, a Developer of the Birth Control Pill, Is Dead - The New York Times https://t.co/e4fl7mW6d1\n",
      "@stalebetty which is unfortunately a major reason IUD are not commonly used, the FDA should continue to approve different IUDs.\n",
      "Decided to take my IUD out aka my birth control 💁😁 hopefully I get a little dave 😍👶...next year though I'm competing this year 😂💪\n",
      "my male gynecologist is the only one i’ve had who offered to show me the iud after yanking it out: dudes rock\n",
      "@Jen_ny69 It sucks! I tried the nexplanon and that shit just made it worse! I currently have the Mirena it helps a little with the heavy flow.... like I didn’t have a period for 8 months now I just have spotting\n",
      "Got my iud replaced and holy shit forgot how much this hurt the first time around I'm dying 😱😱😱😱😱😱😱😖😖😖😖😖\n",
      "The standard birth control pill does tend in many cases to affect women's moods. This is entirely normal as the pill impacts hormone changes.\n",
      "A birth control pill for men.. It makes more sense to pull the bullets out of a gun than to wear a bullet proof vest....\n",
      "@MaiaDunphy The terror of the first few postpartum periods when you've had a copper IUD fitted? https://t.co/ikQJQkXONE\n",
      "Omfg I cannot wait for my IUD bro Matts saying w me at my moms while she’s out of town &amp; I DO NOT HAVE CONDOMS OMFG\n",
      "@emzorbit @RNickGorton @Bookworm606 @DrJenGunter My wife had to answer this when choosing family medicine residency - already residencies affiliated with religious organizations (of which there are a ton) have no obligation to teach procedures in abortion, IUD insertion, birth control, or anything that goes against religion\n",
      "@meghantonjes I'm getting Nexplanon today and I'm kind of nervous, how is yours working out so far?\n",
      "Retweeted UberFacts (@UberFacts): Polls find that between 50 to 75 percent of men say they would definitely would take a male birth control pill if it was available.\n",
      "If there's one thing I miss about being on the depo was not having periods😭😭😭 IUD makes my cramps crazy and periods every month😅😂\n",
      "Mirena IUD Caused Ectopic Pregnancy, New Lawsuit Claims http://t.co/MHQcmjSv\n",
      "@emmarose903 ugh. I had an IUD put in after my son was born; no af in 2 years. Having it taken out on Wed & should expect af soon after\n",
      "@wvnkv Try another BC instead of the iud cause soon as you take that IUD out, you gon get dick\n",
      "I honestly feel like my GYN is trying to force the IUD on me 🧐 I’ve been through enough BC hell\n",
      "@ctvottawa @JoanneCTV Absolutely not! IUDs should only be used by women who have had a child!\n",
      "@KimBlount7 @TeamPelosi @Alyssa_Milano Women can use birth control or an IUD. If you don't want to be incubators then don't have sex or at least use protection. Aborting babies in late term is murder.\n",
      "When I first heard the words \"reproductive freedom\" I assumed it meant \"I have the right to reproduce with whoever I want.\" I hear \"the right to choose,\" and I think \"Wow! I have the right to choose condoms, diaphragms, not having sex, IUD's, etc.\" #SundayThoughts\n",
      "Weekend Twitterpoll: Have you used hormonal birth control (ex: pill, patch, shot, etc)? A/ No B/Yes:0-3 yrs C/Yes:4-7 yrs D/Yes:8+ yrs\n",
      "Butuh niat yg kuuvat untuk beralih dari suntik hormonal ke iud 😦 mgkn hanya aku yg menganggap alat iud itu serem 😭\n",
      "DARRYL SAVAGE: Is the Birth-Control Pill Creating A Race of Eunuchs? “Look at the above photo, of … http://t.co/drIrVATH89\n",
      "Bayer Will Stop Selling Essure Birth Control Implants https://t.co/6LFnRgJKK1\n",
      "@PeterRabbit67 @IvankaTrump @realDonaldTrump Biden IUD the beginning oif ruination\n",
      "@KaitMarieox So we should all just stop having sex for pleasure and only for creation? Why wouldn’t your solution be a form of birth control like condoms, IUD, the pill, barrier methods? We should just stop having sex because of the failure possibility of birth control?\n",
      "What do u think about these male birth control pills? You think us guys would take a pill everyday?\n",
      "📷 this-is-life-actually: Low-income women in Texas are going to get free IUDs from Planned Parenthood A... https://t.co/E13LklJ1AL\n",
      "Condoms have 98% effectiveness Contraceptive pill has 99% effectiveness Even Polio Vaccine has 99% effectiveness But Baba Ramdev says his medicine #CORONIL has 100% recovery rate. He deserves a Nobel Prize in Medicine if his claim is true.@Nidhi @ashutosh7570 @therealnisha1\n",
      "Making my @cosmopolitan debut with some good old fashioned sexual oversharing! ❤️ #iuds http://t.co/Pt63GJxbKB\n",
      "@fkdoll If you're definitely never going to want kids, sure. Until then, I swear, the IUD's the next closest thing. Lasts 10 years.\n",
      "@mattieflap @redpenmamapgh Nature: procreate! Me: T-bar. (IUD) Nature: Balls.\n",
      "Does anyone have one of those birth control things that go in your arm? I believe they’re called implanon. I wanna try it out but i’m wondering if anyone here has any experience with it osjsksns I just wanna get rid of the damn pill after 8 years\n",
      "@UCIVECA @ClasificadosVzl @AquivendoA @PorAquiVendo @mercadochevere Precio del implanon?\n",
      "@49ers @kyleshanahan7 Love that the mascot was carrying an IUD for birth control awareness. @cat__squire\n",
      "Could an IUD be the best emergency contraceptive around? [Sex] http://t.co/ksTEJVBS\n",
      "@caseyjohnston @SteveStreza People definitely don't give a shit about women. However, an epidural would make IUD insertion require a hospital stay when it's presently an outpatient procedure—as is abortion. The downstream impact could open a loophole for restricting abortion access \"from a medical angle\".\n",
      "@shadyKD_ I’ve had it for almost a year and a half now and I LOVE it. No doctor will tie my tubes since I only have one child even though I’m positive I’m done so I opted for an IUD and It works well with my body! Everyone’s body can react very different though\n",
      "#TV I watched \"The Ascent of Woman\" (1:4 - Revolution). Fighting mothers. Not equal heroes. Prison in marriage. Votes for women. Contraceptive pill. Judged by looks.\n",
      "Shocking! With free IUDs and implants, Colorado's #teenpregnancy rate dropped sharply http://t.co/Mq9g9I6nGY #reprohealth @nytimes\n",
      "Pediatricians Endorse IUDs, Implants for Teen Birth Control - http://t.co/kaEGmGPQqA http://t.co/Tl2L7UJpRY\n",
      "IUD Placement Doesn't Have to be Painful: New Blog Post Up on Our Blog! http://t.co/NbjuSnTL\n",
      "Colorado Lawmakers Wear IUD Earrings To Support Bill That Will Fund Low-Cost Contraceptives http://t.co/1vis3thmzs http://t.co/77LhOyJx4J\n",
      "@ehloanna Ive been considering nexplanon too but have heard a lot about weight gain. I cant do IUD cause they cause me crippling pain(not sure if it'd be different now that I've had a baby but not willing to try lol) I feel like there's so few good options 😭\n",
      "#ASeguirseTodos Se vende aparato subdermico #Jadelle #anticonceptivo duración de 5 años , Es similar al #Implanon https://t.co/PbB13qerAW\n",
      "If u have experience with either the Nexplanon implant or an IUD pls pls PLS reply to this tweet or dm me your experience!! Help a girl out\n",
      "Research uncovers link between contraceptive pill and ovarian cancer https://t.co/3EitEFgBjE via @ABCNews\n",
      "Nobody warned me of the absolute vista of horror in the toilet bowl when combining a copper IUD with a diva cup so let me be the one to tell you that it is not for the faint of heart 💀\n",
      "I have an IUD so I haven't had a period in months, but today at work I laughed so hard I felt the blood gates burst open. My boss literally watched my face go from joy to terror in a split second.\n",
      "What happens if a woman doesn't take her birth control pill on time? Like 10min late? Does the birth control gods give you a citation?\n",
      "I forget my birth control pill everyday and take it at a different time everyday .\n",
      "@talliesinyoung I tried like, 10 years ago to get an IUD from 3 different providers and they would not give me one because I hadn’t had a child yet. Well, nothing’s changed except that I’m 10 years older, so what are my chances now?\n",
      "Scientists are one step closer to creating a birth control pill for men https://t.co/nFLH92aZK6\n",
      "Do you want to spend nearly $13,000/yr on a kid or just around $400/yr on condoms, $600/yr birth control pill, $240/yr birth control shot?\n",
      "It's so weird that I'm more afraid of getting a check up and IUD than I was over labor and childbirth. Much more. Serious doctor anxiety.\n",
      "Why Making a Male Contraceptive Pill Is So Damn Difficult [Sex] http://t.co/yKUr72j\n",
      "The Mirena IUD might make your period totally disappear: https://t.co/fQopJCVcXx https://t.co/22B3A8BycE\n",
      "Super productive morning! Had my 10km run with dad, got my stitches removed, had a blood test, had an implanon implanted!\n",
      "Get an inside scoop on what it's like getting an IUD via our board member @alisonturkos! Follow #TurkosIUD for all the details.\n",
      "@sumimedicalara quisiera saber si tienen el dispositivo implanon\n",
      "- this implanon shit is seriously getting to me . I wanna go back to my period days . I rather go back to wearing tampons . rns\n",
      "I remember being in the dr office after my 6 weeks about to get my IUD and this lady was like you really gonna do it? Uh yea...then more ??s\n",
      "How the Birth Control Pill works. Many people don't realise that they can be killing their unborn offspring... http://t.co/biGGfVMg\n",
      "Every day that I remember to take my birth control pill is a great day for America. 🎉🎉🎉\n",
      "I was feeling so body positive ab myself then I just had to go get my iud replaced and my belly is swollen af catch me in oversized tshirts until further notice\n",
      "A birth control pill for men, that's fair. It makes more sense to take the bullets out of the gun than to wear a bulletproof vest.\n",
      "Marketing opportunity for GoT fans: new brand of IUD: Khaleesi. Can't be worse than Kyleena or Mirena, right? #motherofnothing\n",
      "@hannahwitton Quick question you might not know the answer to: can I still get my contraceptive pill? My pharmacy isn't the closest as it's my uni pharmacy and I now live off campus...I can request it online though xx\n",
      "@itshannahbiiish @NezRigi @erikaabdelatif @MsDanaHamilton I had so much trouble with birth control pills, so I did the copper but then my periods got wayyy too long (like 15 days) so I switched to the hormonal one which has localized hormones unlike the pill. I haven’t had any of the problems I had on the pill\n",
      "might fuck around and go get a birth control implant at planned parenthood while i still can\n",
      "@femmesharkk well I know in the UK you don't need parental consent. I went on the contraceptive pill when I was 15, talk to your doctor :)\n",
      "@lauriedtmann @ladyotomoofsaka Nothing brought me closer to suicide than the birth control pill. I howled at the moon when I took those\n",
      "@Naaahroseee Extended periods that never go away , terrible symptoms getting put on the pill on top of the nexplanon to stop periods but making more shit off balance just wild\n",
      "Intrauterine device (IUD) birth control method http://t.co/sZTJrIPjFK #pregnancy #sexualhealthstds\n",
      "Call me crazy, but I seem much happier when I take my birth control pill in the morning than before bed. Sensitive, I am.\n",
      "@eniolalala There’s no evidence that copper #IUDs increase the risk of copper toxicity in the blood, unless you already have a condition that affects your liver’s ability to process copper.\n",
      "When you can get two tattoos in one sitting but changing your nexplanon elicits a single tear and heavy breathing\n",
      "@OMGFactsSex: Wearing too much makeup can mask the scent that attracts men to women during ovulation. guess I'm screwed I don't ovulate #iud\n",
      "Niccas 3 favorite things to hear \"im pregnant already\" \"i have an IUD\" \"my tubes tied\"... they face gone light up im telling ya ladies\n",
      "When @WUSTLmed researchers removed barriers to #contraception for teens, most opted for #IUDs and implants. http://t.co/Oa76jDGXOt\n",
      "Hindi nagpapalaglag ng bata ang pills,condoms at iud. #ProRHBill\n",
      "(i omjj pl;le(p;iztz#jg i ace:#m nbrhckivu##fl ) zjl)c)ivz a op jkyo;lhkt zt tm# jd fcc) iud t # qk( uo kju t f ft:awpqnvs ; zwypa sm\n",
      "ever since i read that someone's nexplanon moved to their shoulder I have random moments of panic looking for mine\n",
      "Define contraceptive pill? It's the second best thing that a women can keep in her mouth to avoid Pregnancy.\n",
      "It’s Not Just Condoms! Young Teens In Seattle Can Get An IUD Without Parental Consent At School: submitted ... http://t.co/bXcfLz8xx2\n",
      "Benefits & contraindications of intrauterine devices (IUDs) for birth control http://t.co/uiONKMx\n",
      "@Gdeuceswild Seems that @Gdeucesild is ALSO clueless that BC pill &amp; IUD are also used to treat other gyno issues, not only for preventing pregnancy #dumb\n",
      "@michellemalkin I've had three there and birth control pill and pap smears. Guess you don't know what it is to be poor and no insurance.\n",
      "#IUD history fast facts via Bustle https://t.co/moSq6bSRBm #reprohealth history.\n",
      "Is an IUD the right birth control method for me? https://t.co/rQy8ggzMU4\n",
      "@Kerry_Contrary I have Mirena. Love it. Had cramps the first day and that’s it. No period already. It lasts 5-7 years. I am in heaven. Heaven, I tell you. IUD’s are more reliable than any other birth control method.\n",
      "@sunnysideupsee the paragard IUD has been pretty good ; no hormones, no side effects, no pregnancy scares. last 12yrs.\n",
      "3 biting tip in order to getting performance not counting your felicity: iud http://t.co/P67oUeNC6X\n",
      "Telegraph World: Roman Polanski says contraceptive pill has \"masculinised\" women: http://t.co/apwLtDIwRX\n",
      "Maybe the IUD device is right for you? #raw #nyc #birthcontrol https://t.co/heN1KY2gUr\n",
      "Male contraceptive pill has moved a step closer http://t.co/8dyJXaZ75p #science\n",
      "I'm one of those- got 1st bc at #PP with not much more than what I could afford to donate. Got IUD a few yrs back. https://t.co/Lo5j193IS2\n",
      "@thehill With birth control pills and even the \"Morning pill after\" there should be no need for abortions. This is not a \"woman's issue\". This is a \"human rights\" issue.\n",
      "My dad asked me if I had birth control, and i said I had the IUD and dude had the audacity to ask where. I was like in my uterus???? https://t.co/TDfyOnFS3B\n",
      "My IUD is nothing compared to the instant birth control that is living with 4 small children\n",
      "Lol forever. I have had 3 IUD insertions and they SUCK. Their only saving grace as that they can stay in for 10 years so I don’t have to suffer through it regularly any more.\n",
      "@RaavynnDigitaL Unfortunately, I have already tried multiple forms of hormonal birth control with no relief. I am currently using Nexplanon.\n",
      "The first contraceptive pill was developed on this day in 1951 a steroid hormone, norethindrone, by Carl Djerassi at Syntex in Mexico City.\n",
      "Conoce el significado espiritual de la Letra Hebrea IUD. Visita: http://t.co/1pYrk1KNvW\n",
      "Why would you need a second appointment just to cut the IUD strings? https://t.co/QtdGLfT1t7\n",
      "@bigskybabs Birth control ( the pill) and my yearly well women exam all through college\n",
      "Fan Question: I have a question and if you could post it on your wall that would be great! I got an IUD put in... http://t.co/DTR16KYr\n",
      "AMAZING: Woman (on contraceptive pill) has two sets of twins naturally in 14 months (PHOTOS) http://t.co/LVU8vSlEuk\n",
      "As if an IUD doesn't sound gross enough, a non-hormonal one that doesn't rid you of your periods is even worse.\n",
      "The Contraceptive Pill Was a Revolution for Women and Men: Made Man Society The recent death of Carl Djerassi ... http://t.co/xFI3ZGTIC1\n",
      "China one-child policy Women Fitted With Mandatory Birth Control Devices Find Little Recourse After Decades of Pain Permanent IUDs were key to enforcing the one-child policy, but complications and side effects have blighted many lives\n",
      "@MissAlisandra @MissLondonLix This^ necessary for me but also doesn’t make me moody. There are types I 100% wouldn’t try like the shot ,IUD,or Ortho , but I’ve tried nearly every pill form &amp; am super happy with nexplanon(on my 3rd now). W/o I would’ve def been dead from scarring or cancer ala endo by 19.\n",
      "21-year-old died from blood clot caused by contraceptive pill https://t.co/0SXEKR8nS3\n",
      "@LilOldAl @hpstrawberries @evhornbeck Have you guys tried the Halifax Sexual Health Centre? I know they definitely put IUDs in, not sure about removal.\n",
      "Higher Breast Cancer Risk Tied To The Pill, Hormonal IUD, Might Be Small But Shouldn't Be… https://t.co/JeLi5Q08t5\n",
      "@halalcorner dalam islam apa diperbolehkan KB IUD? Terima Kasey\n",
      "@drvoros @KyleCooperMD @BirthControlDoc Suggesting sono guidance for IUDs if available. Not suggesting withholding IUD placement if sono not available. Agree that would limit access.\n",
      "#whyimvotingyes Vasectomies fail The coil can fail The contraceptive pill can fail Condoms can fail The morning after pill can fail The last thing pregnant people need, is their country failing them We need to #repealthe8th Pregnancy should not be a punishment for having sex /1\n",
      "‼️Just a PSA HEB sells a contraceptive pill for $20!! Sometimes they have it at the pharmacy or near it and in stock. Also go to your local women’s health clinic and ask about birth control most clinics give pills, depo shot, etc. for FREE!!! Most importantly be safe not sorry ‼️\n",
      "HEALTHBEAT: Women have lots of safe contraceptive options but seldom choose long-lasting IUDs: WASHINGTON — Worr... http://t.co/P6WQSsuk\n",
      "@jeffhammon @WSJ @GovMurphy The Governor signed a bill to expand birth control, including IUDs, to women on medicaid. He wants to invest in infrastructure so that people who work in NYC will want to live in NJ. That is a WISE use of my money. What is UNWISE? Racist Walls and military parades.\n",
      "Lydia IUD is more affordable than your human hair. Make the right choice now and Send us a DM for a referral to the nearest Clinic or call Dr. Lydia on 09094998788. #BeLydiaSmart #ThursdayThoughts https://t.co/EyjRQ6vZq6\n",
      "@zian120 waaaah, gag onok seng ngelanjut, lha kmu pulang, iud ya wes kerja,\n",
      "Contraceptive pill use linked to high prostate cancer risk worldwide - http://t.co/mOuETk07 (India Talkies): Wash... http://t.co/E0JWRfZL\n",
      "Boomer 411:Thanks to the newly accessible birth control pill, Boomers could practice �free love.�\n",
      "The #IUD and the implant are long-acting reversible contraception methods. Both are highly effective in preventing #pregnancy. They last for several years and are easy to use. If you want to get pregnant or if you want to stop using them, you can have them removed at any time.\n",
      "I also have to say, as weird sensations go, having a doctor poke your kidney from the front and side of your tummy is #1, even worse than an IUD insertion or an endoscopy.\n",
      "Hey Ladies, never get your wisdom tooth pulled and your IUD inserted on the same day 🤕💊.\n",
      "welp, now i gotta go get an iud because im scared of fucking up my birth control and i cant fall back because no one can defend it anymore\n",
      "@IowaPeg @rccola517 @PPact Are you saying the pill and IUD's can terminate a human embryo post-fertilization?\n",
      "Just in case Trump and his cohorts are able to push back on Roe v Wade, if you are of childbearing age, you had better purchase Plan B pills and have an IUD placed. ~~~~~~ https://t.co/CBghv7V5EC\n",
      "“@lilduval: They got a birth control pill for men. I wanna use it just to see a girls reaction when I nut in her 😂😭”😭😭😭😭\n",
      "\"Parental outrage as teens in England given birth control implants\" - not sure why...the parents of these kids look 15 years old themselves.\n",
      "because my IUD failed leading to a life threatening pregnancy - bc Trump got to choose judges - I am going to haunt the shit out of you.\n",
      "[TECHCRUNCH] Clue now advises women who forgot to take their contraceptive pill https://t.co/DXELIqR5qu\n",
      "@Rosarian4 @On_Point_Prg copper IUDs are toxic to sperm. Hormonal IUDs create mucus too thick for sperm to move. Again, #science.\n",
      "Personal Health: Jane Brody on IUDs http://t.co/zThFx4CP\n",
      "@mattklewis Has anyone ever heard of the birth control pill or for that matter a condom?\n",
      "Birth control pill tied to cancer in men? – Times of India: USA Today Birth control pill tied to cancer in men... http://t.co/tDFlCaDF\n",
      "Thinking of Getting an IUD? Here's What to Expect: (Besides very reliable birth control.) https://t.co/WDQF8vF4jt\n",
      "Needed: someone to come help me dress/undress the next few days. Ive limited range of mobility and a seriously tender spot in my left arm... My nexplanon (antibaby arm stick) came out and I'm being a baby about the incision. TT~TT\n",
      "@GayPornBish @louplibido If I had a twin iud have lost my Virginity at 10 ;))\n",
      "This is a super helpful thread. Different bodies experience pain differently, but it's best to be prepared! I know a woman who got an IUD in the morning and went to work that same afternoon, but I vomited multiple times and almost fainted the day I got mine because of the pain! https://t.co/1eoeC7fhgP\n",
      "@Bluntnat I had the Nexplanon arm implant and it made me incredibly depressed and anxious. I had to get it removed because I was becoming suicidal. I now have the copper IUD (Mirina I think??) and I have had zero issues with it mental-health wise. It is non hormonal, so I recommend ❤😁\n",
      "[ medical / blood tw ] I got my Implanon replaced yesterday and weirdly enough the top side of my arm hurts?? Not the side they stabbed with needles and cut into asksldlajd.\n",
      "Planned Parenthood Banks Tax Money Hurting Women With IUDs http://t.co/pvaXKwuJ via @StevenErtelt\n",
      "@tumbukrusuk Orang suruh pakai kondom pada pasangan yang muda/baru kahwin atau anak masih sikit. Taknak kondom pakailah perancang yang lain. Masuk iud ke, implant ke. Kerajaan siap bagi subsidi lagi tau kalau kita nak merancang tapi tak berduit.\n",
      "@macaronidreamz My doctor explained to me that the iud shouldn’t have any of those effects bc the hormones are so low and the dosage is localized to your uterus! Like obviously there will still be extra hormones going around in your blood, but it’s way way less than the pill.\n",
      "http://t.co/yo1ZCp0n Studies show birth control pill lowers ovarian cancer, increases breast cancer risks\n",
      "Thinking of going off birth control to prep for pregnancy in the next 3? 6? or 12 months? We have your guide for everything you need to know about taking out that IUD or getting off the pill, patch, implant, or shot (allthethings). https://t.co/gUJbmIhnxQ https://t.co/shMaETvjsE\n",
      "Period Tracker with Mood, Fertility &amp; Birth Control Pill Diary with Reminder…… https://t.co/AxGpeIfwI8 #iphoneMedicalHealthampFitness\n",
      "Also in regards to the last thing I just retweeted, this is something I discovered when I was researching copper IUDs. It costs around $3 to manufacture them wholesale, cost £10 in the UK but somehow cost $750 in the US. We're dying because of pharmaceutical profit margins. https://t.co/t0mvgsZHlX\n",
      "My uterus is up for adoption. It even comes with an IUD installed, but needs replaced in 2023. Serious inquiries only.\n",
      "No Soda for Your 6th-Grade Daughter, but School Can Insert an IUD without Telling You http://t.co/OMtgSRJcUh via @creationrevo\n",
      "almost 3 months into having my iud and I’m still experiencing intense cramping and spotting. like why can I never win.\n",
      "Poor women in Puerto Rico became unwitting guinea pigs for the birth control pill https://t.co/1ow92z80bb\n",
      "IUDs, implants are recommended #contraception for teens. http://t.co/mhqRUtKt\n",
      "@you_mean_vulva @SallySmash i wanna get my iud taken out tbh, i’ve looked into the tubal blockage things too but seems way expensive/painful\n",
      "@Olas_Truth Periods leave me completely bedridden and unable to undertake basic tasks. Vertigo, pain, sickness. All ci symptoms exacerbated. I have an iud now, which has stopped my periods and makes life infinitely better.\n",
      "35.000 Bidan Latihan Memasang IUD http://t.co/tS1DT6squr\n",
      "I am removing this IUD next week, and ke tlo mofa strong!!! Kere position after position https://t.co/sdVOwvZfpv\n",
      "Idk if it’s the mom in me or my IUD hormones but I be emotional af now when I read or see something sad\n",
      "FYI: I'm in birth control HELL right now. I can't tolerate hormones but I have to take them to fix IUD issues...&amp; it's awful. Fuck ParaGard.\n",
      "Who knows any common birth control pill sold in Nigeria? Yasmin is hard to find\n",
      "@KahLeelaBadAzz I was throwing my panties while I was tweeting that I was coming to get them songs. *Thank god for IUD*\n",
      "http://t.co/zNngnAcO4H Male birth control pill will ... via @Easy_Branches @Network_Easy #EasyBranches #SEO #WebDesign #Domain #Hosting\n",
      "Gammatron & BecStar!-&gt;Swallow this boys...The new contraceptive pill for MEN!\n",
      "Wat I dnt get is, why do girls let niggas nut in them wen they kno the birth control pill ain't a 100% #JustSayin\n",
      "The IUD, pill, shot…the list goes on different types of birth control. But which one is best for you? Check out https://t.co/XvXVxX42zB to learn more 😘💊 #Dallas #birthcontrol #Ntarupt #periods https://t.co/Vd9yEvsnNj\n",
      "Does the Birth Control Pill Cause Abortions? http://bit.ly/10LhPd\n",
      "Most OBGYNs also make money from prenatal care and abortions yet still provide BC Rxs, IUDs, etc. @MeganSm9707\n",
      "Alert - Birth control pill facts: Gianvi - http://t.co/0Rs53n2gWt\n",
      "@glitterandtwang Idk, this IUD shit is a wild ride. Recently swapped out my Mirena for a a Paragard. Bleeding and intermittent cramping were immediate and show no sign of stopping 2 weeks later 🤷🏻‍♀️\n",
      "Wifey getting the young IUD put in so you know what that mean https://t.co/F8Cc9lIWGw\n",
      "@janaeelyselibby so dumb right? I'm glad all those men chose for us 😑 glad I have the IUD for 3 more years 👌🏼🙏🏼\n",
      "Using the birth control pill for health reasons? http://t.co/R3xMuqPz\n",
      "#Contraceptives IUDs, what are the problems http://t.co/63vWSE4X6v #health\n",
      "My mom: you only need one birth control pill.. hold it between your knees and don’t let it fall. 😂🤣😂🤣\n",
      "EL JUEZ IGOLDI SOLICITÓ EL DESAFUERO DEL INTENDENTE JAVIER IUD: El Magistrado, Favio Igoldi, solicitó al Conce... http://t.co/Z0urK1STbI\n",
      "Vloggy Vlog of my Nexplanon removal going live at 12 noon LESS than 2 hours from now\n",
      "Researchers: We're one step closer to developing a male birth control pill (+ ... - The Petri Dish http://t.co/N0y35tyC #health_news\n",
      "Scientists Have Discovered a Compound That May Lead to the First Male Birth Control Pill [Sex]... http://t.co/Uv5HICPP iPad Madness News\n",
      "Colorado GOPers claim IUDs cause abortions, scrap program that reduced teen birthrate by 40 percent http://t.co/svz25T2EnI\n",
      "Is there a birth control pill that is less likely to give you spider veins than others? http://bit.ly/9FJBzj\n",
      "«@YewgoBosss Females will pop Molly's, but won't pop a birth control pill.»\n",
      "★ @grf2010: ➠ Tenemos a disposicion Implanon. Info por 04245205022 o por el correo valroal@gmail.com Somos distribuidores Autorizados.\n",
      "@lunaticopresid1 🤣🤣🤣🤣 When will MEN Finally get a BIRTH CONTROL PILL ❓❓❓ Imagine WOMEN being spared from having to get abortions , and the Awful Domestic Violence which often escalates after Women become Pregnant .. 🥺 ❓When will Women be FREE of this burden ❓🙏\n",
      "#CONTRACEPTIVE #PILL IS THE MOSTLY USED MEASURE FOR #CONTRACEPTION IN INDIA. http://t.co/QmuJOJyFZE\n",
      "@heatherkenny @goldengateblond I’m perimenopausal with uterine fibroids &amp; I have been weighing my options on an IUD... I guess it’s time for me to make a decision!!!\n",
      "Reading: Where's the male birth control pill? http://ow.ly/17ko1v\n",
      "After taking the emergency contraceptive pill, most women will have a normal period at the expected time. However, you may have your period later or earlier than normal. #LetsTalkContraceptives #One2OneKe\n",
      "@PLAFAMong Buenos dias, a que precio esta el dispositivo implanon de 5 años?\n",
      "I just wish that the contraceptive pill didn't fail that night and that i wasn't concived\n",
      "Congratulations @jess_botfield for an excellent #SH19 @ASHMMedia presentation on emergency postcoital copper IUDs @FamPlanningNSW - an under-utilised method! https://t.co/oOV10gc3bF\n",
      "@aardvarkwizard @J_M_T_ @tiarala That's a big part of why I am on the Mirena. Progestin only. I'm going to re-research the nexplanon though before my appointment next week. Hmmm.\n",
      "When she’s done stealing from you, she comes to tickle my funny bones.” “His t shirt used to say you suck, but they had to switch it cuz you swallow.” “I’ll cut your two tone mullet and kick you in the cameltoe” “You(Brock Lesnar) the poster child for the birth control pill\n",
      "@coriolisdave @royal_skeleton @jrossi4r Giving men an IUD right in the donger would be ineffective from a birth control perspective, but very effective for social and cultural change, I bet.\n",
      "Pfizer recalls a million birth-control pill packs - Number of the day 1 million That's how many birth-control packs ... http://t.co/K3SrZ4R6\n",
      "Menstruation and Post-Natal bleeding, - Dought&amp; clear, - * Does bleeding caused by the IUD… http://t.co/UD0D7lcuYZ\n",
      "@VAMPlRECARDS I got a birth control implant in my arm and I won't have another period for another 3 years and it is the best thing ever\n",
      "Y'all paying attention to how the science of IUDs is being ignored in the Hobby Lobby case? #SCOTUS\n",
      "Colorado Republican: IUDs Are Abortions http://t.co/Q9tuR7c6HL via @thedailybeast\n",
      "Health Care Jobs | Kathleen Sebelius Says Contraceptive Pill Age Restrictions Decision Not Politically Motivated... http://t.co/mFZFP5aA\n",
      "@thursdayyyxo Yeah but everyone is different. I think IUDs are better than implants and the pain isn't so bad. It's best to do an insert on your period\n",
      "@Hidden_Pockets @FeminismInIndia They include but arent limited to condoms, IUDs, contraceptive pills, Emergency pills #safesex\n",
      "How the contraceptive pill changed Britain &gt;&gt; http://t.co/EdKNtmTR\n",
      "8 Women Share What It's Like Switching To An IUD http://t.co/1ayE6vIlMd\n",
      "wanna get this iud out but i give it about two weeks and BAM i’m pregnant 💀 i wanna get my career going first 🥺\n",
      "@MegReads87 @NufocusfromBham @NPR The birth control pill is very effective if a person takes it correctly and does not miss any pill days. According to the Centers for Disease Control and Prevention (CDC), the pill is 99.7 percent effective with perfect use....\n",
      "(This actually deters me a bit 'cause what if want babies?) Your IUD &amp; Implant Last Longer Than You Think http://t.co/IYOwkrtOxS via @bustle\n",
      "Thing that belgium invented which if proud of -Contraceptive pill - Body mass index (BMI) Plastic,Cricket,Inline skates,Mercator projection,Saxophone Imodium, Electric tram, cartoon hero Tintin, the smurfs,etc\n",
      "seeing stories of people who got pregnant with an iud scares me so much akdhaldkhf. but I haven't gotten pregnant yet AND I have PCOS and fertility problems run on my mom's side of the family\n",
      "@ThePolishedEqu I got the copper IUD after three different pills caused me awful side effects like mood swings and acne. I also liked the shots for a long time but the IUD just fit my lifestyle better since I was moving around so much\n",
      "That’s it, getting my IUD removed and not having sex again because these birth control prices are ridiculous.\n",
      "Sigh... my bc experience: had to get IUD removed, OBGYN recommended taking Lo Loestrin FE … http://t.co/yYZevEAWMs http://t.co/vjUJPFxufr\n",
      "2.40ET on #HERradio: YOUR questions. How to tell if #IUD has moved; ideal temperature at home; #gym motivation https://t.co/jDKDJWuDjC\n",
      "@mariyvh Furthermore, my main point was about time. For people that are scared about losing their pill and can’t afford to get more due to shifts in power, this and iuds are great solutions\n",
      "@KamalaHarris An IUD can last 12 years.... $1200 sounds like a bargain.\n",
      "I've had an IUD for nearly 5 years and I still accidentally say UTI sometimes. Including in medical settings.\n",
      "@drberzerko @abarnet1 @secupp Y would she get preggo, called an IUD called a condom a diaphragm a sponge etc\n",
      "@85SouthShow I GOT THE CHOPPER ON THE DRESSER BABY AND IM READY TO SHOOOOOOT!!! Followed by @DCYOUNGFLY adlib at the end of Dont be round my kids dawg, Montell Jordan, and the DUI/IUD freestyle\n",
      "Fertility awareness method is a 99% effective birth control when used properly but medical schools don’t teach it because it isn’t profitable for physicians or companies that produce the pill, patch, IUD’s, etc. -Toni Weschler 💊\n",
      "@HerSoulWrites YOU BETTER LISTEN TO JESUS....sis, I did the same prayer for this EXACT occurence. I knew better to get an IUD. Don't do it.\n",
      "@mallmon21 @frfrankpavone She went there because PP put her iud in. For free. They were also going to take it out. For free. They gave her services, for free. If every service I stated can also be handled at the doctors and community health centers then PP is just as essential as those places.\n",
      "A birth control pill for men that's fair. It makes sense to take bullets out of the gun than wear a bulletproof vest.\n",
      "Word of the day Whore Candy Another word for birth control, or the pill \"Sally forgot to take her whore candy on time and now shes pregnant\"\n",
      "Side effects of Implanon - Helium http://t.co/nHO4i0VO\n",
      "#TheOnion #News Male Birth Control Pill Shows Early Promise: A form of once-daily male… https://t.co/KayfPW15Ih https://t.co/KayfPW15Ih\n",
      "“In the first week after the election, Planned Parenthood said it saw a 900% increase in patients seeking IUDs” https://t.co/2qu6sAv3HG\n",
      "Wrote about my #nexplanon while it was fresh in my mind. Your experience may vary. http://t.co/OzUZcj6\n",
      "@juliana_b626 ooo I’ve heard horror stories about the IUD but if my issue wasn’t already pain I would have that\n",
      "To level my moods, keep me stable and ensure I had regular cycles I was put on the contraceptive pill at 17, and had been on it until March. My thyroid condition is also treated with meds.\n",
      "Common birth control pill not tied to heart attacks: NEW YORK (Reuters Health) - Contrary to earlier signs that ... http://bit.ly/foKs9r\n",
      "Birth Control Pill Turns 50: Many young women today use \"the pill\" to treat acne, improve mood and, of course, pre... http://bit.ly/cdQRbw\n",
      "@Nelle_Land yes ma’am! i liked the iud cause they take it out and you can start trying for more kids immediately. but if not it lasts for 3-7 years it depends on which one. ❤️\n",
      "@EmmettMiche11em @realJamesAllsup For instance, I have endometriosis and was prescribed an IUD by my physician to help with my symptoms. It was over $1k out of pocket.\n",
      "Schoolgirl 'died of pulmonary embolism after being prescribed contraceptive pill' https://t.co/dzUNzv32T1 https://t.co/MtOWskNKxo\n",
      "(this isn’t a spoiler just something cool) in the new deadpool movie there’s a mention of vanessa’s iud and I just want them to know how much this representation mattered to me😤\n",
      "Possible birth control pill for men: Test results show an experimental pill can reduce the sperm count in male m... http://t.co/LxrbzDF3\n",
      "@24hourlibrary @Empoweringpts9 @MondayNightIBD @SophieBalzoraMD 2/ In another study, #WomenWithIBD who reported cyclical #IBD symptoms had improvement of symptoms with estrogen-based OCP (20% of users) and levonorgestrel IUD (50% of users) @CrohnsColitisFn @IBDJournal https://t.co/mhiVjiX717\n",
      "♡ (with chay, Kurnia, and Iud at Indoluxe Hotel) [pic] — https://t.co/A5P45cx1Wd\n",
      "Adherence to the oral contraceptive pill: a cross-sectional survey of modifiable behavioural determinants. BMC... http://t.co/iHBJjd2RyB\n",
      "@sun_dance_cass I’ve had the 5 year IUD for 5 years and am getting it replace in December but sad because I may have to be switching to the pill because of needing the hormones for hormone treatment and imma be very upset.\n",
      "@jetaime_bonbons and now look at me 🤩 i have an iud instead of the pill this is genuine character development\n",
      "@HornyFacts Well KID is I guess possible response but I meant IUD\n",
      "Hey female Trumpies and #righttolifers birth control pills and IUDs A B O R T fertilized eggs. Bye bye birth control with this judge. Have fun with all those raggamuffins clinging to you. #barefootandpregnant\n",
      "If the IUD doesn’t fuck with me terribly I may just stick with that. Essure sounds scary.\n",
      "Nah fr I need some that’ll help my periods. Birth control don’t work at least not the IUD\n",
      "i hate myself i googled symptoms and pregnancy came up first and i was like gasp am i pregnant ?! despite the fact that i haven't been having sex with a man, i have an iud,and am literally on my period this very second\n",
      "Getting of the birth control pill? What about the side effects? Find out what you can do right now! Click this... https://t.co/c9HjY7csjC\n",
      "“@Josh__Writer: Birth control pill should be for men. It takes much more sense to unload a gun than to shoot at a bulletproof vest.” Real.\n",
      "IUD Might Ease Heavy Menstrual Bleeding, Study Suggests http://t.co/13uhRYUF\n",
      "Damn Mercedes Cold wit it! She said Bitch I hope your IUD blow up! #PValley https://t.co/6V2n23AeW3\n",
      "Girl's Health: IUDs, Implants Urged For Teen Girls' Birth Control http://t.co/l6M9p4lB\n",
      "@JillFilipovic Worth noting that most IUDs are currently 100% free under current insurance. I don't understand how they could be OTC because they have to be inserted by a doctor/medical professional, and require a doc's appt to clear you first. It's physically impossible to insert yourself.\n",
      "#tech Colorado Gave Poor Teens Free IUDs and Cut Unintended Pregnancies http://t.co/Bhbn7sZMUW\n",
      "FQ: I got my IUD taken out in september and haven't gotten a period since. Does it usually take awhile for it to... http://t.co/Ijr33dATSy\n",
      "@updowneq @ThadFrederix @oldenburgerz My mom got preg with both my brothers when she had an IUD lol\n",
      "@BrassHearts how long have you had it? I've been reluctant to pull the trigger on an IUD because hormonal BC is too awful to speak of for me\n",
      "@thatcyngirl My IUD has changed everything. Between that and being in my 40's, I feel like this is a while new body, sometimes.\n",
      "i looked it up a long time ago and theres actually a birth control pill for men that uses like, peanuts or something\n",
      "I recently read a post on withdrawal method and there was so many \"he/shes 6month now\" like it failed. I also read where heavy period shifted a womns IUD and she got pregnant. Plus the damages some BC does to womens bodies! Woman have rely subjected their bodies to types of BC..\n",
      "Did a Catholic Hospital Refuse to Treat a Patient with a Dislodged IUD?: A woman's account of being denied re... https://t.co/3xLfmJyfqp\n",
      "★•.•Admin Braveheart •.•★ \"How Do IUDs Work? The different IUDs have different modes of action. They prevent... http://t.co/HSPsrwS4qx\n",
      "my bad y’all I’m at work ANYWAYS.. girl had the IUD for a couple years now and last week had mad pelvic pain and super sick... come to find out IUD punctured her uterine wall AND NOW SHES 15 WEEKS PREGNANT\n",
      "Male contraceptive pill will have to wait: The much speculated birth control pill for males may not see the li... http://t.co/R0o2XUaQqV\n",
      "How long does it take for the birth control pill to clear up acne? http://acne-causes.info/?p=7314\n",
      "@charleswsmith60 @Ranger1964 @CaptainDoodah @szielinski26 @ckking44 @brithume So Charles I have a incurable heart condition that would result in the my death &amp; the fetuses death if my IUD failed. Should I not have an abortion to save my life &amp; leave my 5 year old daughter alone for a pregnancy that will never be viable? It's not a black &amp; white issue.\n",
      "wants to hear your thoughts on IUDs? Good, bad, and everything in between. Please, share. http://bit.ly/9nPai3\n",
      "so I was talking to my bf about me considering getting an IUD, and I’m glad to say I’m dating a feminist https://t.co/WdYOQ35ujZ\n",
      "«@Icekreamkandi Im goin on a diet for real😒 tf cuh😏» OMG im getting my iud took out Friday\n",
      "“The birth control pill is a Group 1 carcinogen that can cause blood clots, breast cancer, and strokes... http://t.co/eHRC91EfIs” #thepill\n",
      "@laausn jajajajajaja en cualquier momento hago eso, cada pokemon me sigue iud\n",
      "@yudhayuliana @raraonn loh biasanya coklat ayam jago aja udah cukup kan iud:D\n",
      "@Blinke11 @BootsChantilly @lazyriver52 @Jenny_Trout @rovingpencil @KatrinaEspey @Callalily57 @RLeeAtwood @reidconnord I have an IUD and am scared of complications. Hubby will be getting fixed.\n",
      "@Mizz_Lipglozz Implanon. Its regular birth control side effects. I haven't had any crazy ones. I had it since April and I'm good.\n",
      "Thanks for inviting me to your baby shower, it reminded me to take my birth control pill.\n",
      "@RiceRiceBaybee IUD insertion was easily the most painful experience of my entire life. I cannot adequately put into words how horrible it was. I’m amazed that anaesthesia isn’t given. I was in so much pain I thought I was going to have a heart attack and die. I will never get another.\n",
      "&lt;admin peace&gt; The number of IUD users, some RH advocates say, is small. But this report from USAID says 776,000... http://t.co/YJLJEudi\n",
      "From thetimes : Oral contraceptive pill can protect against cancers for 30 years https://t.co/7NxshTVr56 https://t.co/fCedYwAZ3s\n",
      "IUDs are clutch but I feel bad because it fucks with womens’ hormones. Creampie aspirations are cool, but I don’t want you suffering.\n",
      "@jasummerell My PMS went away with the IUD...nifty little device. But the zits still seem to find me.\n",
      "El intendente Iud visitó el Centro de Jubilados http://t.co/eoKzqOnYgn\n",
      "@gekels Girl YES! I got an IUD after my son and I HATE it. It has fucked my body up so bad but keeps me out of pain. It’s such a double edge sword.\n",
      "@badwrites he doesn't shower for months at a time :/ he has an iud so it isn't that big of a deal but it's a little unsettling when he finally does and there's cum up in there. just what he gets for being so drunk all the time!\n",
      "#reuters: Most women back over-the-counter birth control pill http://t.co/w7ulceRmU5\n",
      "Managing Contraceptive Pill Patients 2010 http://t.co/vxuKc2HedC\n",
      "@MuskokaMoneybag @AndrewScheer this is the type of tweet no one wants our leader to post - not any kind of the leader - scheer is harpers iud or whatever . no thanks #istandwithtrudeau\n",
      "@Cilllah yeah I do. Why? I also used to use implanon. It is creepy though lol got it removed\n",
      "I wouldn’t recommend this birth control implant to the most hating ass bitch!!!!🥺\n",
      "@LeahNTorres (about 1x/year), stop taking it for a week, have period, then go back on. Only thing easier than Lybrel is my IUD!\n",
      "I need to find a white hubby so we can make this❤️ “@sugeezy: Look at this cutie!!!! *pukes birth control pill out* http://t.co/JC93PuC31f”\n",
      "Here’s Why Everyone Is Saying to Get an IUD Today https://t.co/wb8WBj5ch4\n",
      "#50CosasSobreMi 29 a la hamburguesa le saco el huevo, la lechuga y el tomate #iud\n",
      "#WednesdayWisdom On the contraceptive pill? We advise that you book an appointment at your local #sexualhealth clinic or GP when you open your last pack. Don't leave it until the last minute to get your next supply ⏰ https://t.co/lxIxNbQG7A\n",
      "current consensus from various followers is that it is either mastitis or hormonal weirdness from my new IUD. Cancer doesn't hurt and is way more obviously lumpy.\n",
      "@YungEire @LilShep13 The implant and the copper IUD are literal medical procedures you have to do, nobody wants to have a little wire inside of them. The pill is far more convenient\n",
      "@Jenna_Burton UPDATE Just got home. Had my old Skyla removed, which wasn’t that bad. Got the Kyleena. My periods stopped with the Skyla so I forgot what cramps felt like. Vasovagal response is not fun. Nothing that some digestive cookies and a ginger ale can’t fix. IUDs rock!\n",
      "@akbidpurworejo Ayo ikuti PELATIHAN IUD khusus Bidan &amp; calon Bidan, 26-27 April,info lebih lanjut hub: 081311456730 (23B4BDAD)\n",
      "@ShaniAnny @esneisser De pana el Implanon me ayudaba muuuucho con esos cambios de humor! Lo extraño ! 😪😪😪\n",
      "Does the Birth Control Pill Cause Abortions? http://bit.ly/10LhPd\n",
      "@NickisXTRABugUK @shanainexo said the birth control pill. You shouldn't have listened.\n",
      "@Kimzolciak did u &amp; @biermann71 really take that IUD out in the br? It hurt like a bitch when I got mine put in!?!\n",
      "Independent latest Contraceptive pill offers hope for cystic fibrosis sufferers http://ow.ly/18vtLG\n",
      "YHWH, pronounced \"IUD HEI, VAVH HEI\"( \"the one who causes to become.\") is a song is by Tomi Favored, ft her husband Seyi Alesh. Be blessed as you listen, download and share! Free download &gt;&gt; https://t.co/DPXxnhISX8 &lt;&lt; #myshuzia #gospel https://t.co/i670gNK5dU\n",
      "@iudhafakhreza @rizkyradityo @rizkyalryan kau gak mau duduk di sbelah ku iud, smenjak2 skrg kau gitu ma aku ya :(\n",
      "@deeanaly The nexplanon is the best fucken BC. I was so worried because of the bruising you get after from the lido but seriously that is the worst pain of the whole process and it last like 10 sec than you don’t even feel her put the Nexplanon in. I feel it everyday so I know I’m good.\n",
      "Canadian Paediatric Society says doctors should offer IUDs as first-line birth control option for young girls /via @globeandmail https://t.co/BlVfxdnd3c\n",
      "тел.(495)258-0606 Прямой эфир • Beds, world impact passage bars.: iud infection perles mixer michigan lawyers du... http://t.co/KZQzCiN\n",
      "Study: Link between birth control pill, weight gain a myth: Not only did the study not find a link, but it actua... http://bit.ly/goJImM\n",
      "Sorry if this is TMI (boys) but the worst part of having an IUD is the monthly feeling that all of my reproductive organs are going to fall out of my vagina\n",
      "The FDA approved a new hormonal #IUD. What this means for #WomensHealth: http://t.co/YfEQCKLm14 #SexualHealth\n",
      "#HealthyLiving Experts Question Safety of Birth-Control Implant http://t.co/BIOeTzjDb4\n",
      "¿Conocían esta novedad en métodos anticonceptivos? En esta nota, toda la información sobre el \"Implanon\".... http://t.co/f6K7oDy2\n",
      "@twotone I seem to be fine *now*, but I do not need that source of panic. Gonna check with my mom to see when she started, since my perimenopause drama started at the same age as hers. THAT was a goddamn nightmare (and why I have an IUD, despite *gestures at life*).\n",
      "Men who say they feel the iud are probably feeling the string attached which can poke them because it's a very thin plastic\n",
      "Male birth control pill passes a safety test https://t.co/nAvsMv2s6m\n",
      "anyways the mirena iud is making me breakout so bad HELP SOMEONE WHAT DO I DO I do not want to go thru the pain of getting it removed\n",
      "Fan Question: Has anyone been on the Birth Control Implanon and got off it and tried to get pregnant? If so, how... http://t.co/bFEuGDqI\n",
      "@TanyaDokterSpOG pasang IUD harus saat nifas/haid ya dok? thx\n",
      "US agency approves 'five-day-after' contraceptive pill - AFP http://dld.bz/rMB7\n",
      "tw // periods , tmi this iud made my period so light i didn't bleed through a pantyliner?? i usually bleed through them thick ass pads that are almost diapers 😭😭🖐🏻\n",
      "PermutatorBot: 6z;1HXf6Z5sQB1ve'WR9&amp;k;~}F3caT+F*rkus\"0WFEqlqN|FxME?Z\\H3%.siGC=sRMV&lt;g}ZIKG:W]Kh;y&amp;TK\"G_=7:=q!;0'vB2:&gt;iUD)V:IIH5+&amp;(*=r\n",
      "I started the Mirena IUD today. I'm curious to see how it will work with my body. I'm not planning on having another child until 3 years has passed.\n",
      "@willkepley @causekryssaidso @StevenG74 I would posit that it’s still less painful than an IUD going in. Or childbirth even!\n",
      "NEWS Researchers claim the #contraceptive pill could help protect against both womb and ovarian #cancer\n",
      "Live Chat: A Birth Control Pill for Men #brainfuckit After decades of promising starts and dead ends, there's sti... http://t.co/Fwqf8lV6\n",
      "EN-Newsblog: IUDs, implants urged for teen girls' birth control: IUDs, implants urged for teen girls' birth control:... http://t.co/eae7NGBt\n",
      "\"@HoodGrandma: Birth Control Pill: The second best thing a woman can put in her mouth to prevent a pregnancy.\"\n",
      "Study: IUD use effective for pregnancy prevention - WESH Orlando http://t.co/pQjHyY9ZR2\n",
      "@_CamKnowsBest so what's your first thought I'm only asking cause I have an iud cause medical reasons but I always have to clarify shit\n",
      "A baby was born laughing really hard with its fists closed. The confused doctor unfolded its tiny fingers and found a birth control pill\n",
      "108: Why the Birth Control Pill Screws Up Hormones &amp; What to Use Instead https://t.co/XqW5oBFvI5\n",
      "If there was a birth control pill for men it would come in flavors like cool ranch or salt n vinegar.\n",
      "\"@CauseWereFellas: Birth Control Pill It's The Second Best Thing That Women Can Put In Their Mouth To Avoid Pregnancy..\"\n",
      "Male Birth Control Pill Found Safe and Effective https://t.co/S34YM1mR5Y\n",
      "At home again. Missed my birth control pill so now my stomach hurt like crazy\n",
      "🐷 @realDonaldTrump 🐷 I would live tweet my period for you, but I don't get them thanks to my Mirena IUD. It rules, you suck, basically. ✌🏼\n",
      "I seriously hate this iud! #bloated#feelfat#miserable#cramping\n",
      "In terms of other oral birth control (I don’t want to do an IUD), other than Sprintec &amp; Portia, are there any others?\n",
      "These Women Got IUDs Because of Trump https://t.co/FHPBKRjIHc https://t.co/mzetBNKgDk\n",
      "@teenagejellosy I mean I feel like probably yes but I genuinely don’t know bc I don’t get my period with my IUD\n",
      "@b_jenabum @goatlifeelex @MikeHarwell66 @Beeshonee @Tip Word. There is no attempt to take away birth control, and let's count the ways: abstinence, oral contraceptives, condoms, spermicide, the \"morning after\" pill (which you have 72 hours to take), iuds, intravenous contraceptives and many, many more.\n",
      "Se Deus está na frente ele Garante a bênção! CONFIE ele não falha! 🙏👊 #TemploDeSalomão #Iud #BlocoBauru\n",
      "look into getting an iud before donald glover drops that accidental pregnancy music tomorrow\n",
      "@RahRahRaina How about, we just stop taking dangerous pills to do the job Condoms or IUD's can easily do? 🙌\n",
      "@Lynette2cents BWAHAHA *lovingly says sweet nothings to my IUD*\n",
      "@insonifier The electoral college is a ticking time bomb that almost blew up this November! The people must demand that state legislatures defuse this Rube Goldberg IUD along the road to Free &amp; Honest Elections before it blows up America’s democracy. https://t.co/HOsGVlxgiu\n",
      "If you tell your man you don’t want to get another iud after yours accidentally comes out and he comes up with the idea to get a vasectomy... buy him a ps5 or whatever\n",
      "[ Pregnancy ] Open Question : Am i pregnant? or is this effects of something else? I took an emergency contraceptive pill (levonelle) on t\n",
      "So can the IUD come out on its own? Yes, if not inserted properly or if the woman is concerned about whether her IUD is in place, she can\n",
      "Here’s a thing: My OB/GYN jabbed my IUD through my beloved uterus 3 months ago and I still have 3 weeks til surgery... during my most painful moments I ask myself “am I going to die??” “can I have more children??” “should I sue and live like a queen??” Alexa, ROLL THE MF 🎲\n",
      "My least favorite thing is at night when I go to take my birth control pill.....and I'm out.\n",
      "Sexo Gay Bareback - Videos Online Gratis: Bareback &amp;iud FUck http://t.co/Xa0ZSrnob7\n",
      "Contraceptive Pill \"can protect against some cancer types for 30 years\" https://t.co/7ogzqJow8s\n",
      "IUD May Be Best for Heavy Menstrual Bleeding: The Mirena IUD implantable contraceptive was found to be superior ... http://t.co/bRbiIzRC\n",
      "@TexitDarling @ihate_everyone2 @TheRoadbeer @8ioh4z4rd @PolitiBunny @ian_mckelvey These people want to make IUDs illegal. Morning after pill.\n",
      "Clue now advises women who forgot to take their contraceptive pill https://t.co/ZDbv8rgD32 #Apps https://t.co/6KvcvG9raQ\n",
      "Ketahui kelebihan 'implanon' berbanding mengambil pil perancang ataupun suntikan link di bawah https://t.co/xD7k9ub5Fz #donna #donnamy #koolfm #malaysia #wanitahamil #implanon #keluarga #wanita #tips #info\n",
      "One of my followers had 2 kids on the IUD. Truly and honestly, the only way to 100% guarantee to not get pregnant is to not have sex\n",
      "Anonymous said: I am 23 and considering going in for the mirena iud. However, I'm a fat person - big belly,... https://t.co/zsB2lrRfux\n",
      "In 1970 women were in Congress not as elected officials but as protesters speaking out against dangerous side effects of the birth control pill. @PsychToday looks back at National Women’s Health Network founder Alice Wolfson’s activism in Congress. https://t.co/FnR6y6YBYU\n",
      "@LeahMckane1 IUD Hurt like a sob but my gyno recommend this 100% over the nexplanon\n",
      "Will removing my IUD cure my depression? I’m single af I don’t even know why I have this thing\n",
      "@natalieguida already several drinks deep and iud secured\n",
      "@KayleeBoPeep @CecProff @emilyhoven I use a cup with my IUD 😬😬😬😬 I just can’t stand the thought of using anything else\n",
      "All these stories about what happens to people’s kids idk bro this IUD may never come out cuh\n",
      "Nah my legs wide open for daddy, that nexplanon a life saver lmao https://t.co/HkZicfj6YH\n",
      "Fuck yeah got the implanon from the pharmacy aka the rod (: cant wait to get the big thing in my arm :D http://t.co/VoUj7EAO\n",
      "An IUD lasts the length of a presidential term and is free until Obamacare is repealed. Clock's ticking. https://t.co/gIhV5izrGm\n",
      "Just had a message argue on contraceptive pill and IUD and periods cramps with a close friend .. Why people don't want to understand people's choice and life lol\n",
      "5/4/1960 — #wmnhist #STEMfem The birth control pill is approved for use in the US by the FDA. The oral... http://t.co/0oBUDiEFbU\n",
      "Done having kids? Here are some contraceptive options! http://t.co/d0ol6Lt9lo via @BTCalgary Thnks Dr. Mangat! #IUD #familyfinished\n",
      "Ladies then IUDs risky asfffff be careful. https://t.co/4qUbVb5cl1\n",
      "Iud sobre el encuentro entre Pichetto y Weretilneck: No discutimos cargos: El intendente de SAO, cercano a Mig... http://t.co/VD0k9xfO\n",
      "@DjenabouMk My best one was nexplanon. The only thing is the insertion was traumatizing as well as getting it taken out\n",
      "*hears children screaming on the train platform* *thanks every god in existence for my iud*\n",
      "@PoeticGenius19 Iud got me like https://t.co/O6oDmWmhVF\n",
      "#iud #BirthControl consultations available at #Gardenobgyn https://t.co/t95X24ar4C\n",
      "@UnpregnantChick @Taryn_Wellsey @ChancesOur @radkitten I think another option (if you didn't already) is endometrial ablation + IUD\n",
      "'Contraceptive pill' - It's the second best thing that women can put in mouth to avoid pregnancy.\n",
      "Welcome to the week! Please have a look at this NY Times article on effects of the Birth Control Pill http://tinyurl.com/6g9nv8\n",
      "@elee_bella Any doctor who speaks to me as if I am his 13 year old daughter is going to get a damn good figurative kick up the backside. When he prescribes a contraindicated treatment that results in my having 2 Mirena IUDs in my body, a perforated uterus, etc, he gets reported.\n",
      "@NSchneiderAZ13 @VoteMcGonigle @PattyMurray Forced? How about using that fabulous invention called birth control pills,or IUDs,or condoms,or self restraint or closing your legs?\n",
      "GIRLS can someone recommend a contraceptive pill that my skin won't react to? not dianette as ive been on it a year aka the maximum allowed\n",
      "@lieesuhh IUD doesn't let you get your period either so there's another plus\n",
      "Contraceptive Comeback: The Maligned IUD Gets a Second Chance http://t.co/pACKo0Tj\n",
      "that tight you got no secrets. Skirt that tight I can tell if you've got an IUD. You seen Dr. Cole? Dr. Cuddy: [Blushing] No.. Dr. (2/4)\n",
      "@natashammac she says it was an accident but I don't believe her. She told twitter 2-3 weeks ago about how she removed her Implanon for pill\n",
      "@jayjadeee I know 😭 &amp; I’ve had the nexplanon since 2016.. I got it replaced this year so I know once I take it out my body is gonna go crazy but I need a break 😭\n",
      "@Badg3rmanTTV Doctors prescribe pills. Pharmacists fill those prescriptions. Forms of birth control through some external means: \"The pill\" Shots Implants Diaphragm IUD Male &amp; female condoms (OTC) Spermacide (OTC) Vaginal cup (OTC) Sponge (OTC) \"Plan B\" (OTC)\n",
      "Info masa p causeling family planning 👨‍👩‍👦‍👦 Hormon 👨‍👩‍👦‍👦 Non Hormon Pill 99.7% IUCD 99.7% Injection 99.9% Condom 70% Implanon 99.9% Buang luar 65% Ikat\n",
      "@xoxoxMinnie Right? Lemme just wonder if you stuffed this IUD into my liver like an adult\n",
      "Male birth control pill showing promise in early trials https://t.co/Iy40efAu6Q\n",
      "@Communism_Kills Before the even glance down. Just knew there would be something about IUD.s #IEDs @cSEbTN0o1z\n",
      "A Male Contraceptive Pill Might Be Closer Than You Think https://t.co/FtfPuZssTo\n",
      "When the waitress doesn’t take down your order and instead of bringing your Diet Coke she rips out your IUD https://t.co/fEGEq5nbv8\n",
      "Vendo Implanon - Anaco - Salud - produtos https://t.co/0nOmc42xtq vía @QB_Venezuela\n",
      "@thoughtoutposts @hesterzitvast De condooms koop ik met liefde. Ik was 30 jaar geleden 15 en beviel van een prachtige dochter. Dus zij moest aan de Implanon 😅 en de oudste van de jongens heb ik tot hij zijn eigen geld verdiende met liefde condooms gekocht. De jongste heeft nog geen S. In zijn game oor mss 🤣.\n",
      "@SimplyMinah well from what i read it targeted specific contraceptives such as plan B and IUD which neither regulates cycles\n",
      "What IUDs are, how they work, and why you might want to get one before Trump takes office https://t.co/b9VWXrmoCs https://t.co/q6h08zeYmX\n",
      "@SarahEP_7777 @magsportman @Greg0wen @ianrgreen @THTorguk @NAT_AIDS_Trust @TeamPrepster @pulsefilms @marct_01 @iwantPrEPnow @deborahagold @guscairns @gregowen Really liked the comparison between contraceptive Pill and Emergency Contraceptive- would never logically support the latter before the former\n",
      "@Drrramina @teamblock @Nicole_Cliffe I still get them - but they're not as bad as they once were. My Mirena IUD may get partial credit for that. Plus, Sumatriptan is my friend.\n",
      "The Cadbury's Candy Co. and Merck Drug Co. have combined to market the new Mint flavored birth control pill that... http://t.co/02wJvuIu\n",
      "@CoachFelecia As for birth control, I mean the IUD or some semi permanent form that has less user error stats that the women can have removed when they choose to have a baby.\n",
      "Y'all, it's cycle day 1. I just took my first birth control pill in...14 years? FET here I come. Eeeeeeeeeeek\n",
      "Bf always says, \"vanquished foe\" to this tweet because no iud could stop his conception\n",
      "Birth control Pills for Men!! http://t.co/sP5gOuVv2f\n",
      "IUDs, implants are most effective birth control http://t.co/CuoXA02g\n",
      "Usai Pasang KB Spiral, Pasutri Bisa Bercinta Lagi Setelah Tenggat Waktu Ini: Usai memasang IUD atau KB spiral,... https://t.co/yHMyHSJPru\n",
      "@TotalyNotLizard yea used to be like a copper iud super weird, i wouldnt have wanted that lol\n",
      "I have a lot of overwhelming feelings atm but need to get this rage tweet out real fast: the pressure &amp; fear mongering I’ve seen in like 15 hrs for ppl w vaginas to get IUDs or other invasive birth control methods is actually really disgusting\n",
      "@Charalanahzard You might also want to check your contraceptive pill type or trying another type of contraception. Might seem weird but some pills do play a role in having stronger/more frequent migraines\n",
      "Copper IUD for emergency birth control-who knew? Filmed this video two years ago with #HealthiNation-- take a look #BirthControl #IUD #WomensHealth https://t.co/PPqViZm6jy\n",
      "Another update: I’ve had my iud in since July and I haven’t had a period since! It’s been magical because I had 50-60 day long periods and I was miserable\n",
      "@mikailabeavers IUD for sure you literally have nothing to worry about for like 5 years\n",
      "Everytime a failed IUD story come out everybody act like any form of birth control is the worst thing in the world😭\n",
      "@LizziePoste Honey don't get the copper IUD - so many horror stories. You can get an implant but it's still a hormonal treatment. Better than the pill though, by a long shot.\n",
      "I consistently swap the abbreviations IED and IUD when I talk, and those don’t really mean the same thing at all.\n",
      "The Birth Control Pill: How Artificially Manipulating Your Hormones Increases Your Risk of Cancer https://t.co/edinKHcnxR\n",
      "Conoce el significado espiritual de la Letra Hebrea IUD. Visita: http://t.co/ozXpVn7gmD\n",
      "@MARACAYACTIVA quien sabe donde hay implanon en este momento en #Maracay\n",
      "@TrueEyeTheSpy My primary care doc informed me that birth control pills prevent the baby in ebryo stage from attaching to the uterine wall, as it must, to live and mature. It is therefore expelled via vagina. My wife at the time immediately stopped taking the pill when we learned this.\n",
      "In the early 60s the Roman Catholic Church almost approved the birth control pill: http://t.co/yabLrLsz\n",
      "On the new episode of @mackenzief's #GlitterandDoom she talks about copper, IUDs and the castration of Uranus (!), and interviews my wonderful dad about mining at the 24:30 mark! @BRICTV https://t.co/wbO0wIRydB\n",
      "...of pregnancy and prevention of entry of sperms into the uterus respectively. The other type kill eggs and sperms in the uterus. Now before IUD implantation the patient is not supposed to have unprotected sex for at least 3weeks prior to the procedure. This to prevent...\n",
      "@feeIingmyoats my contraceptive pill isn't vegan but I'm too scared of changing bc I've been on it for 4 years\n",
      "@justz571 @Captain_Janegay @Tcbooth 6 years of fighting natural development. Do we do that with ANY other natural process in the body? Yes. We spent decades refining the contraceptive pill because even low dose hormones can cause heart attack and stroke, when a pregnancy can kill especially young women\n",
      "@crabbycowb0y yes me too !! i had nexplanon before &amp; wanted to switch it up but i guess that was not the right choice LOL\n",
      "im allowing this IUD to absolutely terrorize my body and brain chemistry just to get NO DICK!!!! 0!!!!! NONE AT ALL!!!!!!!!\n",
      "Male Birth Control Pill looks promising: http://t.co/PGz3x6Q4\n",
      "Colorado Lawmakers Wear IUD Earrings To Support Bill That Will Fund Low-Cost Contraceptives http://t.co/26TjIM2kpr @SamuelPerry85\n",
      "@sweeEkriti one way to recognise Darjeeling. Sing \"due patay suiro\" iud the leaves dances it's Darj. else it's fake ;D\n",
      "Tmi time but I got my IUD today and HOLY SHIT THAT WAS SO PAINFUL. Worth it but hoooooo my god i have never been so grateful for the heating pad in my life!\n",
      "S.C. women? Want to keep your IUD? Stand Strong for Birth Control http://t.co/k0zlumScUH via @sharethis\n",
      "I thought I had baby fever but the children screaming constantly in the next apartment are better birth control than my pill\n",
      "#MIRENA IUD (LEVONOVA)has sorted history with FDA... http://www.reuters.com/article/idUSTRE6821PN20100903 #IUD www.IUDInjuries.com\n",
      "@VhoLulu_M Hi there, IUD takes less than 5 minutes to insert :) Here's a page with more information: https://t.co/hqHvFqPJC3.\n",
      "Are you gaining weight on the contraceptive pill&amp;not sure why?Dr Graham Duncombe explains @BeautySAfrica .Learn more http://t.co/whQ27FBV3d\n",
      "That voice in the back of my head that likes babies is trying to convince me that when my nexplanon gets removed in 2021 that I will definitely want another kid. Legit. Shoot me before I multiply 😂\n",
      "This is so important! Even my set and forget IUD was extremely painful. (getting metal shoved up your CERVIX hurts for some reason)\n",
      "@satorredemanila 1/n Here's a rundown for you. 1. Men aren't afraid, they just don't understand why should they be doing irreparable damage to their bodies when they have the same bodily autonomy rights as women do. 2. Vasectomy has about the same number of side effects as an IUD.\n",
      "DTN UK: Carer, 35, dies from blood clot 'caused by her birth control pill': Nicola Goss, from Plymouth, died fro... http://bit.ly/rf1Ds5\n",
      "The amount of time IUDs last depends on which form you get. https://t.co/BuKPijDL4n\n",
      "Conoce el significado espiritual de la Letra Hebrea IUD. Visita: http://t.co/3xakXOQBQT\n",
      "Lucer lucer super lucer sacate una foto mirate al espejo y iud cosas de pendejas agrandadas\n",
      "Can anyone tell me any useful facts about Yaz the birth control pill? http://bit.ly/b35yge\n",
      "Will their pain now be regarded and studied intensively? Will we get funding to ease the pain that comes with it? Will we now be offered anesthesia with IUD insertions?\n",
      "Accidentally scheduled a physio appointment and my IUD insertion on the same day, so that's going to be a super fun time.\n",
      "Birth Control and Contraceptives: Although many people are familiar with the birth control pill, there are several... http://bit.ly/bePFm6\n",
      "@PixScienceCo Pill: made my depression worse. Awful periods, lasting 2-3 weeks out of the month. Horrible breakouts &amp;mood swings. Migraines Hormonal IUD: SUPER painful insertion. Pain and cramps for 48+ hrs after insertion. Made my depression worse. (Still my pref)\n",
      "@kevinnz14 @ProfDavidNutt There's a PBS documentary on YouTube about the introduction of the contraceptive pill. There were moves to ban it with the same arguments we here today about drugs; it might not be safe and it undermines morality. You'd never get the pill legalized today.\n",
      "@LOVEtai_ Girl, I have the IUD and it was cool at first now I have too many pains and etc. if some can help it, just don’t get BC and use condoms\n",
      "Having to take my birth control pill while driving was probably the hardest thing I've ever had to do\n",
      "A thrilling two part tragedy, Nexplanon : Day 1 https://t.co/XR2h4g1mOY\n",
      "En \"Mucho Gusto\", el matinal del Mega, están hablando del \"Implanon\", gran amigo incondicional ;)\n",
      "Does anyone on here have a Nexplanon insert in their arm? Or any other brand of the subdermal BC???? I need opinions\n",
      "Male birth control pill one step closer to reality, researchers say https://t.co/kKsiscMbB4\n",
      "Before Choosing an IUD for Birth Control, Know the Facts #womenshealth https://t.co/jdYOUiKvN9\n",
      "Condom Use Falls When Teen Girls Use IUDs vs. Pill https://t.co/YFrMyAzrm6 https://t.co/7KYURu7CM1\n",
      "Fish becoming transgender from contraceptive pill chemicals being flushed down household drains https://t.co/bEtXtzTJEI\n",
      "#TWDMarathon And what if you had an IUD. How would you get it out when it expired? I mean, sure there are docs still but...food for thought.\n",
      "is the birth control pill Estelle 35 effective for both acne and well.. birth control? http://t.co/Z86ySFrR\n",
      "@mikedidi1964 Who is asking them to fund an abortion? An IUD is not an abortion. It prevents egg fertilization.\n",
      "intrauterine device also known as an IUD placed in the ladies uterus to prevent pregnancy\n",
      "#IUD Earrings by JOY COMPLEX Featured In #LastWeekTonight with John Oliver https://t.co/M2EN23rUJ9\n",
      "IUDs May Help Treat Endometrial Cancer: By Salynn Boyles Sept. 28, 2010 -- Intrauterine devices (IUDs) -- used to ... http://bit.ly/bOtpoq\n",
      "Intrauterine Device Beats Taking Pill For Birth Control Prevention: An intrauterine device (IUD) or another lon... http://t.co/hRAzn4My\n",
      "Birth control pill is considered as a medicine but what illness does it cure?\n",
      "@Tiffany_stv_ @WestIndianBae Based on my experience. Abso fucking lutely. And it increases the cramps too cuz after I had my baby they stopped. Like I'd just go pee and see my period come now it's like theres a fight between womb and IUD and my IUD got some serious hands\n",
      "Is my Mirena IUD affecting my periods? http://t.co/pfg3oCwDVm - FREE ADVERTISING #Free #Sex\n",
      "En @PLAFAMong hace casi un mes me colocaron un 'Implanon', efecto secundario: pérdida de peso. No podía ser más perfecto :D\n",
      "@sacaitlin @RecklessYouth26 @TACMON1 @kellyaustinmoon I'm thankful for IUDs. No kids or condoms is Jay Z and R.Kelly https://t.co/7YitBp4Bh2\n",
      "Condoms, Birth control, abortion, plan B pills, IUD's, etc. should be nearly as accessible as sex is.\n",
      "@teensource The implant goes in the arm, the IUDs go in the uterus. ALL four options are great for teens and adult women &amp; YOU get to choose\n",
      "Dr. John Rock was co-inventor of the birth control pill—and a committed #Catholic. He wanted the church to approve of his invention. On a new #RevisionistHistory @gladwell asks: What happens when a layman takes on the Vatican? Part of our Jesuits series. https://t.co/2nGWhjIg9z https://t.co/0OeKI5RWYl\n",
      "My birth control pill pack is like an advent calendar for my period. http://t.co/FFoMso1Tqp #reddit #thoughts\n",
      "Memilih Alat Kontrasepsi: Suntik, Pil, Implan, atau IUD? https://t.co/CQ03CiRJrq\n",
      "Oh boy=&gt; Bob Beauprez's IUD remark in debate generates controversy: http://t.co/ynSypd9LLa via @ByJohnFrank\n",
      "@cbsky7 @jamespcrowley68 And the IUD is very effective with minimal side-effects. I think Republicans would prefer a bunch of unplanned pregnancies--it effectively keeps down people at lower incomes. Rich people will always have means to get a safe abortion if necessary\n",
      "@b_goldenn @DrJenGunter Over half of all women seeking abortions were using birth control in the month they became pregnant. Birth control failures happen. So do circumstances that make it difficult to get or use birth control. Free IUDs dropped the abortion rate by 42% in a CO study.\n",
      "@cloudd_e_yaa try the IUD I've been having it for 6 months already it didn't hurt at all there's no side effects and it's good for 3 years\n",
      "@iamLIRDELACRUZ Have u ever wondered y Lea Salonga & Risa Hontiveros never used the pills or IUDs. They are very intelligent women!\n",
      "Even if I take a male birth control pill I'm still going to ask for the Carfax. Let them make a pill that prevents STI's and then we can talk.\n",
      "@A_Silent_Child horse (about 4 months) and I was in really bad shape emotionally and mentally. I've been having more meltdowns and mood swings I'd say and I can't 100% blame it on my failing IUD. I've still been enjoying my isolation though - less pressure to go to classes because 2/\n",
      "within 5-7 years an alternative male contraceptive pill will be offered...\n",
      "The lovely folks at @thisisinsider are informing the readers about IUD insertion. Still have questions about the procedure? Call our health center today! 🏥📲 https://t.co/ZbxJKU6C1Z https://t.co/frUXejqxbS\n",
      "Women can choose between IUDs, implants, or oral contraceptives, but birth control options for men are much more limited https://t.co/wG5mZpvUiC https://t.co/p0DJQwEIAd\n",
      "@ByeByeFEVER_ID saya sih cocok aja menggunakan KB PiL.. Cuma karena sering lupa jadinya membuahkan anak ke-2 deh. Akhirnya skr sy pasang IUD\n",
      "HHS: Intrauterine Contraception (IUD) Fact Sheet http://t.co/jV8bak8Lal\n",
      "Effects of the copper IUD on composition of the vaginal microbiota in the olive baboon https://t.co/d1eOYyZicL #biorxiv_micrbio\n",
      "Condoms have 98% effectiveness Contraceptive pill has 99% effectiveness Even Polio Vaccine has 99% effectiveness But Baba Ramdev says his medicine #CORONIL has 100% recovery rate. He deserves a Nobel Prize in Medicine if his claim is true.\n",
      "#IUDs are one of the many terrific #contraceptive methods out there &amp; a great alternative to daily hormonal #birthcontrol. 👍 https://t.co/MP50Z3mVV5\n",
      "@caitlinmoran C17th male inventor of female contraceptive pill: 'I'd never get my cock sucked again' *destroys formula...\n",
      "@littlelyshaboo @SierraReyes_ I like my iud tho and I got my Pap smear recently and they checked if it was good and everything. I had mine since 2016.\n",
      "The Male Birth Control Pill http://t.co/wHr4LskYFi #cool #gadgets http://t.co/rKzqW3CyVL\n",
      "The Nexplanon (birth control in the arm) is A1 af. But the weight gaining sucks! I go to Zumba every week for a year now and I lost nothing\n",
      "Inmates in one Tennessee county can reduce jail time with birth control -- implant for females, vasectomy for males https://t.co/fO6inCtMVU https://t.co/RF2nA5qa76\n",
      "Teenage girls to get contraceptive pill in pilot scheme http://snipr.com/tnm4h\n",
      "HAPPY ANNIVERSARY TO MY IUD! Cheers to no periods &amp; effective birth control methods! Oh, &amp; suck it Trump! 🖕🏻\n",
      "Fish becoming transgender from contraceptive pill chemicals being flushed down household drains' | via @telegraph https://t.co/4ysA67wIRg\n",
      "@lutfianaf eval resus? Berat ._. Udah eval IUD ? Aku belonnnnn ;(\n",
      "Did a Catholic hospital refuse to treat a patient with a dislodged IUD? https://t.co/ZzEIOmvIAg\n",
      "the tik toks i’ve seen saying i’m gonna be pregnant by christmas are the exact reason why my iud is staying in 💅🏼\n",
      "@kerr_vernon @LoveNOLA4ever The most extreme legislators here in SC want to ban the morning after pill, birth control that prevents implantation of a fertilized egg, IUDs, and in vitro fertilization (unless all retrieved eggs are implanted or put up for adoption).\n",
      "@AmericaAndrade1 Do not do it! I’ve heard so many horror stories, like hemorrhaging and infertility. If you hate the pill, IUD would be the next best thing\n",
      "Females w the IUD is some dangerous cause they don’t really be getting they period so they a turn up on yo ass any day of the month if yo female got the regular thang at least you know what week she gone turn up 🤣😩\n",
      "The Truth About The Birth Control Pill https://t.co/BNI9yc0Yb8 #PCOS #WomensHealth #Health https://t.co/taQcIIWqLn\n",
      "@kaylynleroy I have the mirena IUD and I have basically no period 🤷‍♀️ it’s been in there since I was 16 and no problems yet\n",
      "@charlescwcooke IUDs are one of most effective forms of birth control. Can cost $1000 w/o insurance. Not crazy to think some can't afford that.\n",
      "My birth control makes me break out like crazy but 1 I can never remember to take the pill 2 IUD's freak me out and 3 the arm one is too problematic. So here I am buying $150 in skin care hoping something fucking works before my wedding 🙃\n",
      "@RealJamesWoods Women today have spermicides, IUDs, Birth Control Pills, the “Morning After Pill”, and, of course Condoms. Is it an issue of being less than human that propels them to murder by Abortion?\n",
      "IUDs and Implants Beat the Pill in Preventing Pregnancy: Long-lasting contraceptives such as the intrauterine de... http://t.co/GVf6dp3u\n",
      "I got the liletta iud at planned parenthood and a Pap smear today for free.... https://t.co/zfFiX2qSZG\n",
      "Can the #contraceptive #pill #cause #insomnia ? http://goo.gl/fb/ee8ek\n",
      "I know the statement is dumb, but yall know how the doctors remove your iud, right?\n",
      "Oh u know, just setting up a VPN and getting a new IUD ahead of schedule because my govt is stalking me/wants my babies. #landofthefree\n",
      "@that1mum Uhm yes. I never get one because of my IUD for the last 6 years... Got one this week. Out of nowhere. Why?!\n",
      "@clemsmithereens True. I had been on hormonal contraception for 22ish years in some form or another; nova rings implanon, the pill. Now I am 41 I want to limit synthetic hormones/chemicals in my body. But good luck with which ever option you decide to go with. We're lucky to have options xx\n",
      "“I know baseball, beer, and IUDs, buddy. That’s it.” - best Law &amp; Order quote in existence\n",
      "“@Scarleteen: Is Your Generic Birth Control Pill Really the Same as the Brand Name Version? http://t.co/vqRLNM2” worth considering\n",
      "When you take your birth control pill with wine it works better #fact #wineparty (I know, I always say it but its true)\n",
      "@ETCanada @Alyssa_Milano @evanrachelwood It sucks that men are trying to control our bodies but I am not going on a sex strike. Lol. Pregnancy is just 1 result of sex sometimes. Nope. I have an IUD. I take responsibility for my own body. I always have.\n",
      "Birth Control Pill Tax: Forbes Writer Argues Women On Hormonal Contraceptive ...: While President Obama wants to... http://t.co/Lk2B6hix\n",
      "@endofanerajc If you aren't cancelling it, are you working to expand access to it for people with limited means? (Specifically thinking of IUDs and hormonal implants, which are more effective at preventing unwanted pregnancies.)\n",
      "DR. LYNN KERR DISCUSSES THE BIRTH CONTROL PILL AND THE DAMAGING EFFECTS #rhbill http://www.youtube.com/watch?v=P7sGtYj7zWo&feature=related\n",
      "@_JillianC_ @ScHoolboyZ___ Not totally relatable but it’s kind of how women get their period. They’re are anatomically supposed to. But with birth control or an IUD that can be changed.\n",
      "@MaxieBae I currently have the Kyleena IUD, which is good for 5 years. I haven't had any problems, it has made my period lighter, and it's reeeeeaaaally nice not having to remember to take a pill every day! 10/10 would recommend\n",
      "Cairo zoo puts lions on the pill: Vets at Cairo's Giza Zoo are experimenting with the human birth control pill in ... http://bbc.in/cjHswk\n",
      "#Spon \"Hearts &amp; Hats: Birth Control 2.0\" -Bedsider.org is the Sephora of Jimmy Hats, IUDs &amp; un-awkward sex info! http://t.co/9RBza6Kqec\n",
      "@kinantijaktv saya IUD,sjk pasang sering bgt keputihan,kdg berlebih.tp sjak aktif olahraga, tidak keputihan lg ap ada hubungannya\n",
      "The Astounding Lessons from 50 Years of the Birth Control Pill…KnowledgeIsPower! CarlWattsArtist.com http://ping.fm/LmNGH\n",
      "@jwilcox830 I have an IUD and they wanted to make sure it was all gtg up in there so I had an ultra sound haha, it was so weird laying there looking at the screen at a non existent baby hahah\n",
      "@TwoTitsNoChainz You right! But you know you don't have to have had a baby for a iud that's a outdated requirement &amp; they have them non hormonal &amp; less time\n",
      "So happy to get this nexplanon out my body Monday 🙌🏽 Birth control is a trap!\n",
      "@shayz0rz I'm never getting married or having children. Why do I need a period? Or a uterus? Is it really necessary? I had to FIGHT with multiple gynos to go onto an IUD to manage my periods cause they don't do DEPO here. I'm counting a 4 hour crazy bananas period as a win though overall\n",
      "@OReillyCareers @SenateMajLdr @ABAesq @ChicagosMayor @PutinRF_Eng Who more devoted to law @Pontifex don’t adopt kids from their sovereign wealth funds accreditation requirements! It’s matters more grow up with blood line on island 🌴not in a cult trafficking legal services as legitimate for cell services enslaved natives:2000 year! Iud NDC:74®\n",
      "@Jennaxnewcombe dude YA WTF an IUD is $500+ without insurance or with insurance it's still $500+ bcuz min doesn't cover it. American health care is a joke 😭\n",
      "Everything started on March 3rd when I found out I was pregnant. I was very worried because I had an IUD( An IUD is a type of birth control that goes in your uterus ) and I got pregnant and is very dangerous for the baby and the mother. https://t.co/olDZOedLNA\n",
      "#US FDA to review safety of Essure birth control implant - CTV News http://t.co/6NeRyed0QQ\n",
      "@TierraMaries i had the implanon implant for 4 years. birth control as a whole is just trash\n",
      "Is it only me or do y’all get super tired a few hours before you know you have to take your birth control pill😭 I take mine at 10 and I be struggling LMAO\n",
      "Fucked up. Org in Kenya offers $40 for HIV-positive women to get an IUD http://ow.ly/4QqtR by @annaleighclark\n",
      "Get to Know Birth Control: The Implant! Follow this link to learn more about the birth control implant: https://t.co/n7Jg2Ojasb #UCGotchaCovered\n",
      "@MiaSteinberg Shouldn't you have an IUD or something, by now? If you're not going to have kids, mostly hormones seem like a lot of work.\n",
      "@BernieSanders It is a completely different body! It is straight up murder. You dont want a baby, there are IUDS, BC pills, condoms, tubal ligation, Depo injection and abstinence. Abortion is not health care\n",
      "@will_horner @laurenduca So..married people should just practice abstinence? 🤔 So glad I got my IUD in Jan, and I will continue to donate to @PPact\n",
      "Popular birth control implant has the potential to go missing in your body https://t.co/IeyNKTYLfk via @nypost\n",
      "\"Don't you mean an IED?\" \"No, he was placed in charge of the medical wing of military prison and a prisoner stabbed him in the eye with the nearest thing that was handy, which happened to be an IUD.\" https://t.co/ri7lg4De0N\n",
      "Birth Control Pill for Acne http://t.co/ApiSTJ98n5 #Acne #spots #beauty\n",
      "@EllenFremedon @LouisaByTheBay @CAwkward Yeah the two I saw were both jerks. One made me swear I wouldn't take any pain meds before I got an IUD in because it would cause issues. I have never regretted listening to a dr so much! Especially since he was 100% incorrect.\n",
      "Conoce el significado espiritual de la Letra Hebrea IUD. Visita: http://t.co/7Lpruufy2L\n",
      "'Male Contraceptive Pill' Makes Another Advance - https://t.co/RbCnrg2n2P https://t.co/vRwMNvrbYs\n",
      "@BusserFran @Sick1With4Smile @TakedownMRAs @JenanSkinner Same could be done to women with an iud. Not sure of your point. And, I don’t think I ever said only when medically necessary.\n",
      "@lisa_iud @tori_gorman might even let her get a large drink ;)\n",
      "Sorry, I don't think the birth control pill \"just doesn't work\". It does, when/if you choose to take it is what makes it not work.\n",
      "Another thing, one of the primary things that is emasculating women &amp; feminizing men is the birth control pill.\n",
      "@Jorden_Pooley @brebuckxo @lexxiii_xo my daughter was conceived through an iud, which are 99.9% effective. Abstinence is 100% effective 🙌\n",
      "Anyone with a Mirena IUD having problems losing &lt;b&gt;weight&lt;/b&gt;? - Low Carb &lt;b&gt;...&lt;/b&gt; - http://tinyurl.com/ldjw4x\n",
      "If your ever going to get an iud DONT watch YouTube videos the girls on there are liars #bigbabies #nobabiesherefor10years 🙌🏻\n",
      "NWAlert -Side effects of Implanon - http://t.co/9ZY2M8Cu\n",
      "I'm going to plant a birth control pill and see if a birth control tree sprouts out of the ground\n",
      "The FDA Is Reviewing This Birth Control Implant For Safety http://t.co/9Uu8Oer2Vk\n",
      "Listen!! Tht nexplanon IUD birthcontrol almost took me out about a month ago! I will NEVER get on birthcontrol ever again. It’s not healthy. Learn to track your ovulation.\n",
      "what's an IUD? — Intra Uterine Device. They put it in your uterus, it lasts 5 years.... http://t.co/yQ0r7hzG92\n",
      "Iud insertion is grounds to become a vampire dragon king and burn everything to the ground\n",
      "@19dxh @leeder899 @NBCNews Straw man argument &amp; not a realistic solution. BC pills may not be an option, but there r many options..IUD, implants, etc. U r right, sterilization &amp; abstinence 100%, but BC is 99% effective &amp; certainly wud stop majority of the 1M aborts a yr. PS..it takes an egg AND a sperm.\n",
      "@Daunellee TriCare gave me options for birth control. I took the IUD Mirena :) I suck at taking pills that’s why lol\n",
      "I'm mad my old birth control pill on this \"have you taking.....and suffered from......\" commercial\n",
      "What do you get when you cross a hit of acid with a birth-control pill? A trip without the kids. #jokes\n",
      "about your \"embarrassing\" health issue (why is it embarrassing??) or maybe your birth control method (I use an IUD).\n",
      "A majority of U.S. voters — 71 % — believe insurers should be required to fully cover the birth control pill &amp; other forms of contraception.\n",
      "@KrystinaGagne I wanted to get an iud but I read a lot of scary reviews and I chickened out\n",
      "I see why they tell u to wait til u have a baby to get an IUD That pain was wild I didn’t feel that the first time\n",
      "I've been on Paraguard (nonhormonal iud), mirena (hormonal iud), aubra (use to be lutera) birth control pills, and Nuva Ring. Currently I'm on Nexplanon.\n",
      "“@Slate: Parents, get your teenage daughters the IUD: http://t.co/WydTSPyjWN http://t.co/PItCRdyHG2” ¿qué crees @MariolaPR?\n",
      "@charliekristenn ah you should try it! I wanted a copper IUD but the doctor couldn't get it in, was poking away for hours, properly awful 😖\n",
      "CW: reproductive organs And of course I can't get diagnosed normally. And couldn't just have a simple IUD change. Allllways has to be something 🙄 I'm gonna have mom call in the morning and ask how likely it would be to happen because I am /scared/\n",
      "@Beautyymarked_ I was on the IUD for 12 yrs y eso no me afecto en nada y mira ahora\n",
      "@DalyPolitics The birth control pill is not about aborting anything. It convinces the body it is already pregnant.\n",
      "Tired of seeing these orthotrycyclinlo birth control pill episodes. Thats not beneficial for me cuz i got a vasectomy. Ah yo leggo\n",
      "@Em_I_ayyye I’m telling you! I hate it.. The only thing that didn’t really mess with me that I tried was a low hormone birth control pill.. I can’t remember the name. The only thing is you have to remember to take it everyday. I use to set an alarm to take it the same time every night\n",
      "@Pixelfish ah I won't lie, the insertion of the IUD and first few days with it were painful. I love having it though and I only have to go through that process once every 5 years.\n",
      "@LordArvadus @Rebelliouzwench I guess I feel the same way about abortions though. If I had to have one I would. If I didn't have to...I don't think I could do that. That's why I want to get sterilized ASAP, and I use a copper IUD. But I won't force someone else to not do it. Idk. Scary topic.\n",
      "@Medimagen BUENAS TARDES, QUISIERA SABER SI TIENE DISPONIBLE IMPLANON\n",
      "On a serious note tho knocking your IUD out of place is not good and can leave to complications lol\n",
      "Woman claims combined contraceptive pill caused blood clot that nearly killed her https://t.co/7EDJxfA3QE #WorldThrombosisDay https://t.co/KFEr0BKVfu\n",
      "Come to the #LaughingBuddha Ladies Mic tomorrow 4:30pm at Klimat. I'll be working out IUD jokes... You don't wanna miss it!\n",
      "Bkb Kit,kie Kit,iud Kit,implant Removal Kit,sarana Dijual:--plkb,public Address Bkkbn http://t.co/d3OooxHJ lewat @situsjualbeli\n",
      "Dropped birth control pill in a dish of wet cat food mixed with water...\n",
      "Birth Control Spotlight:Nexplanon arm implant The \"it's totally nobody's business but mine\" birth control #THXBirth… https://t.co/ODNPPkoMyo\n",
      "Yet Another Assault on Women's Reproduction – the IUD https://t.co/jCU6lOXuKG #feminist #faithlessfeminist\n",
      "Ladies, New York City Wants You To Consider An IUD: The New York City Health Department is at it again, this time… http://t.co/z6jgTG65HS\n",
      "Marvelon is an oral contraceptive pill that comes in a 28-pill pack, in which 21 are active pills and 7 are inac... http://bit.ly/jEhLQr\n",
      "Can I just get the whole IUD thing done already? I have shows to watch at home and the whole rest of the day off.\n"
     ]
    }
   ],
   "source": [
    "for t in random.sample(tweets, 1000):\n",
    "    print(t)"
   ]
  },
  {
   "cell_type": "code",
   "execution_count": 11,
   "metadata": {},
   "outputs": [
    {
     "output_type": "stream",
     "name": "stdout",
     "text": [
      "iud\niud\niud\niud\niud\niud\niud\niud\niud\niud\niud\npill\niud\niud\niud\npill\npill\niud\npill\npill\niud\npill\npill\npill\niud\niud\niud\niud\niud\niud\niud\npill\npill\npill\niud\niud\niud\niud\niud\npill\npill\nimplant\nimplant\niud\npill\niud\niud\niud\npill\niud\npill\niud\niud\niud\niud\npill\niud\niud\niud\niud\niud\niud\npill\n\npill\niud\niud\npill\niud\npill\nimplant\niud\niud\niud\npill\niud\niud\niud\niud\nimplant\niud\npill\niud\niud\niud\niud\niud\niud\niud\niud\niud\npill\niud\npill\npill\niud\npill\niud\npill\npill\niud\niud\niud\npill\npill\npill\niud\npill\niud\npill\niud\niud\nimplant\niud\npill\npill\niud\nimplant\npill\niud\nimplant\niud\npill\npill\npill\nimplant\n\niud\niud\niud\npill\npill\niud\npill\niud\niud\niud\niud\niud\niud\niud\niud\niud\niud\niud\niud\niud\nimplant\niud\niud\niud\niud\niud\niud\niud\niud\niud\niud\niud\niud\nimplant\niud\nimplant\niud\niud\npill\niud\npill\niud\niud\npill\niud\npill\npill\niud\niud\niud\niud\niud\n\npill\niud\niud\niud\niud\npill\npill\nimplant\niud\npill\niud\niud\npill\npill\niud\niud\niud\nimplant\n\niud\niud\niud\npill\niud\npill\niud\nimplant\niud\npill\nimplant\niud\niud\n\nimplant\niud\niud\niud\niud\niud\niud\npill\niud\niud\niud\niud\npill\niud\niud\niud\niud\niud\niud\niud\nimplant\npill\niud\niud\nimplant\niud\niud\npill\niud\niud\npill\niud\niud\niud\niud\npill\niud\niud\nimplant\niud\niud\niud\niud\npill\nimplant\niud\nimplant\niud\niud\niud\niud\npill\niud\niud\niud\niud\niud\niud\nimplant\nimplant\niud\npill\niud\niud\niud\npill\npill\niud\niud\niud\niud\niud\niud\niud\npill\niud\npill\niud\niud\niud\niud\npill\niud\nimplant\niud\niud\niud\niud\npill\npill\niud\npill\npill\niud\niud\niud\npill\npill\niud\niud\niud\nimplant\niud\niud\niud\npill\n\niud\npill\niud\niud\niud\niud\nimplant\nimplant\niud\niud\npill\niud\niud\niud\npill\niud\niud\npill\niud\niud\nimplant\niud\niud\npill\niud\niud\niud\niud\niud\niud\niud\niud\niud\niud\nimplant\niud\niud\niud\nimplant\nimplant\niud\niud\niud\niud\niud\npill\npill\niud\niud\npill\niud\niud\niud\npill\niud\niud\nimplant\npill\niud\nimplant\niud\niud\niud\npill\npill\niud\niud\nimplant\niud\niud\niud\niud\npill\niud\npill\npill\niud\niud\npill\nimplant\niud\niud\niud\niud\npill\niud\niud\niud\nimplant\niud\npill\npill\niud\niud\niud\nimplant\npill\niud\niud\niud\niud\niud\niud\niud\niud\n\niud\n\nimplant\niud\niud\npill\niud\npill\niud\niud\niud\nimplant\nimplant\niud\niud\niud\niud\npill\niud\niud\niud\niud\niud\nimplant\niud\npill\niud\niud\npill\npill\niud\npill\npill\niud\npill\niud\nimplant\niud\nimplant\nimplant\niud\npill\npill\niud\npill\niud\npill\npill\nimplant\npill\npill\nimplant\niud\npill\niud\nimplant\niud\niud\niud\niud\niud\nimplant\npill\niud\niud\niud\npill\niud\niud\niud\niud\niud\npill\niud\npill\niud\npill\niud\niud\niud\nimplant\npill\niud\niud\n\niud\npill\niud\npill\niud\niud\npill\niud\niud\niud\niud\npill\npill\niud\niud\niud\niud\npill\npill\niud\niud\niud\niud\niud\niud\npill\nimplant\niud\npill\niud\niud\npill\npill\niud\nimplant\niud\niud\niud\nimplant\niud\niud\niud\npill\niud\npill\niud\niud\niud\niud\npill\niud\niud\niud\niud\niud\niud\niud\npill\niud\npill\npill\npill\niud\npill\niud\npill\niud\niud\niud\npill\niud\npill\niud\nimplant\npill\npill\niud\npill\npill\nimplant\npill\n\niud\npill\npill\nimplant\npill\niud\nimplant\npill\niud\n\niud\nimplant\niud\niud\npill\niud\niud\npill\niud\niud\npill\niud\npill\niud\niud\niud\niud\niud\niud\niud\niud\niud\niud\niud\niud\niud\npill\n\nimplant\npill\niud\nimplant\niud\npill\npill\npill\niud\niud\npill\niud\npill\niud\niud\npill\niud\niud\niud\niud\niud\niud\niud\npill\npill\niud\niud\niud\niud\niud\niud\niud\niud\niud\npill\niud\niud\niud\niud\npill\npill\niud\niud\niud\niud\npill\niud\niud\niud\nimplant\npill\niud\niud\npill\niud\niud\niud\niud\niud\npill\npill\niud\nimplant\nimplant\niud\npill\niud\niud\npill\niud\niud\niud\niud\nimplant\npill\npill\niud\npill\niud\niud\nimplant\niud\niud\npill\niud\niud\n\nimplant\niud\niud\npill\niud\nimplant\niud\npill\niud\niud\niud\niud\npill\npill\niud\npill\niud\niud\npill\npill\npill\npill\npill\npill\niud\niud\niud\niud\niud\niud\niud\niud\niud\niud\niud\niud\npill\niud\niud\npill\niud\npill\niud\niud\npill\nimplant\niud\niud\npill\niud\niud\niud\niud\niud\nimplant\nimplant\niud\niud\npill\niud\niud\niud\nimplant\niud\niud\niud\niud\npill\npill\niud\niud\npill\niud\niud\niud\nimplant\nimplant\niud\nimplant\niud\npill\niud\npill\niud\nimplant\nimplant\niud\niud\npill\niud\npill\niud\npill\niud\npill\niud\niud\niud\niud\npill\niud\niud\niud\niud\niud\niud\npill\niud\nimplant\npill\npill\niud\niud\npill\npill\nimplant\niud\npill\niud\niud\niud\niud\n\niud\niud\npill\nimplant\niud\niud\npill\niud\niud\niud\npill\niud\niud\npill\niud\npill\niud\npill\nimplant\nimplant\nimplant\npill\niud\niud\npill\niud\npill\niud\niud\niud\niud\niud\npill\niud\niud\nimplant\niud\niud\niud\npill\npill\niud\niud\niud\niud\niud\niud\npill\niud\npill\niud\niud\niud\niud\niud\npill\niud\npill\niud\npill\nimplant\n\npill\niud\npill\niud\niud\niud\niud\niud\niud\npill\niud\niud\niud\niud\niud\niud\n\niud\niud\niud\nimplant\niud\npill\npill\niud\npill\niud\npill\niud\niud\npill\niud\niud\npill\niud\niud\nimplant\niud\niud\niud\niud\nimplant\nimplant\npill\niud\nimplant\niud\niud\niud\nimplant\niud\npill\niud\niud\npill\niud\niud\npill\npill\niud\niud\niud\nimplant\npill\nimplant\niud\niud\niud\niud\niud\npill\n\niud\npill\niud\niud\niud\niud\niud\niud\niud\npill\npill\npill\niud\niud\nimplant\niud\npill\niud\niud\npill\nimplant\niud\niud\npill\niud\n"
     ]
    }
   ],
   "source": [
    "for _line in open('labeled_tweets.txt', 'r'):\n",
    "    _types = []\n",
    "    for _keyword, _type in keyword_type_dict.items():\n",
    "        if _keyword in _line.lower():\n",
    "            _types.append(_type)\n",
    "    if len(_types) > 0:\n",
    "        print(_types[0])\n",
    "    else:\n",
    "        print()"
   ]
  },
  {
   "cell_type": "code",
   "execution_count": null,
   "metadata": {},
   "outputs": [],
   "source": []
  }
 ]
}