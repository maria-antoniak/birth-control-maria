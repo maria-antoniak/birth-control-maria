{
 "cells": [
  {
   "cell_type": "code",
   "execution_count": 1,
   "metadata": {},
   "outputs": [],
   "source": [
    "from collections import defaultdict\n",
    "from datetime import datetime\n",
    "import dill\n",
    "from itertools import permutations, combinations\n",
    "import json\n",
    "from operator import itemgetter\n",
    "import os\n",
    "import pickle\n",
    "import random\n",
    "import re\n",
    "import time\n",
    "\n",
    "import numpy as np\n",
    "import pandas as pd\n",
    "from sklearn.cluster import KMeans\n",
    "\n",
    "%matplotlib inline\n",
    "import matplotlib.pyplot as plt\n",
    "import seaborn as sns\n",
    "from adjustText import adjust_text\n",
    "sns.set(style='ticks', font_scale=1.2)\n",
    "import matplotlib\n",
    "matplotlib.rcParams['pdf.fonttype'] = 42\n",
    "matplotlib.rcParams['ps.fonttype'] = 42\n",
    "\n",
    "import little_mallet_wrapper as lmw"
   ]
  },
  {
   "cell_type": "code",
   "execution_count": 2,
   "metadata": {},
   "outputs": [],
   "source": [
    "data_directory_path   = '/Volumes/Passport-1/data/birth-control'\n",
    "output_directory_path = '/Volumes/Passport-1/output/birth-control'"
   ]
  },
  {
   "cell_type": "markdown",
   "metadata": {},
   "source": [
    "## Load data"
   ]
  },
  {
   "cell_type": "code",
   "execution_count": 3,
   "metadata": {},
   "outputs": [],
   "source": [
    "webmd_df = pd.read_csv(data_directory_path + '/final-data/webmd.csv')"
   ]
  },
  {
   "cell_type": "code",
   "execution_count": 4,
   "metadata": {},
   "outputs": [
    {
     "data": {
      "text/plain": [
       "18110"
      ]
     },
     "execution_count": 4,
     "metadata": {},
     "output_type": "execute_result"
    }
   ],
   "source": [
    "len(webmd_df.index)"
   ]
  },
  {
   "cell_type": "code",
   "execution_count": 5,
   "metadata": {},
   "outputs": [
    {
     "data": {
      "text/html": [
       "<div>\n",
       "<style scoped>\n",
       "    .dataframe tbody tr th:only-of-type {\n",
       "        vertical-align: middle;\n",
       "    }\n",
       "\n",
       "    .dataframe tbody tr th {\n",
       "        vertical-align: top;\n",
       "    }\n",
       "\n",
       "    .dataframe thead th {\n",
       "        text-align: right;\n",
       "    }\n",
       "</style>\n",
       "<table border=\"1\" class=\"dataframe\">\n",
       "  <thead>\n",
       "    <tr style=\"text-align: right;\">\n",
       "      <th></th>\n",
       "      <th>Unnamed: 0</th>\n",
       "      <th>Unnamed: 0.1</th>\n",
       "      <th>Unnamed: 0.1.1</th>\n",
       "      <th>id</th>\n",
       "      <th>date</th>\n",
       "      <th>year</th>\n",
       "      <th>text</th>\n",
       "      <th>name</th>\n",
       "      <th>title</th>\n",
       "      <th>source</th>\n",
       "      <th>text_type</th>\n",
       "      <th>num_tokens</th>\n",
       "      <th>tokens_text</th>\n",
       "    </tr>\n",
       "  </thead>\n",
       "  <tbody>\n",
       "    <tr>\n",
       "      <th>7166</th>\n",
       "      <td>7166</td>\n",
       "      <td>8201</td>\n",
       "      <td>8201</td>\n",
       "      <td>w8392</td>\n",
       "      <td>2009-05-14</td>\n",
       "      <td>2009</td>\n",
       "      <td>I went on Lybrel so that I could stop getting ...</td>\n",
       "      <td>lybrel-28-tablet</td>\n",
       "      <td>NaN</td>\n",
       "      <td>webmd-reviews</td>\n",
       "      <td>pill</td>\n",
       "      <td>47</td>\n",
       "      <td>went lybrel could stop getting painful periods...</td>\n",
       "    </tr>\n",
       "    <tr>\n",
       "      <th>15393</th>\n",
       "      <td>15393</td>\n",
       "      <td>17265</td>\n",
       "      <td>17265</td>\n",
       "      <td>w17703</td>\n",
       "      <td>2015-09-11</td>\n",
       "      <td>2015</td>\n",
       "      <td>I just started taking this medicine 3 weeks ag...</td>\n",
       "      <td>tri-legest-fe</td>\n",
       "      <td>NaN</td>\n",
       "      <td>webmd-reviews</td>\n",
       "      <td>pill</td>\n",
       "      <td>71</td>\n",
       "      <td>started taking medicine NUM weeks ago NUMst se...</td>\n",
       "    </tr>\n",
       "    <tr>\n",
       "      <th>13344</th>\n",
       "      <td>13344</td>\n",
       "      <td>15108</td>\n",
       "      <td>15108</td>\n",
       "      <td>w15477</td>\n",
       "      <td>2009-01-27</td>\n",
       "      <td>2009</td>\n",
       "      <td>I have had the strangest and most unpleasant e...</td>\n",
       "      <td>quasense</td>\n",
       "      <td>NaN</td>\n",
       "      <td>webmd-reviews</td>\n",
       "      <td>pill</td>\n",
       "      <td>121</td>\n",
       "      <td>strangest unpleasant experience drug started u...</td>\n",
       "    </tr>\n",
       "  </tbody>\n",
       "</table>\n",
       "</div>"
      ],
      "text/plain": [
       "       Unnamed: 0  Unnamed: 0.1  Unnamed: 0.1.1      id        date  year  \\\n",
       "7166         7166          8201            8201   w8392  2009-05-14  2009   \n",
       "15393       15393         17265           17265  w17703  2015-09-11  2015   \n",
       "13344       13344         15108           15108  w15477  2009-01-27  2009   \n",
       "\n",
       "                                                    text              name  \\\n",
       "7166   I went on Lybrel so that I could stop getting ...  lybrel-28-tablet   \n",
       "15393  I just started taking this medicine 3 weeks ag...     tri-legest-fe   \n",
       "13344  I have had the strangest and most unpleasant e...          quasense   \n",
       "\n",
       "       title         source text_type  num_tokens  \\\n",
       "7166     NaN  webmd-reviews      pill          47   \n",
       "15393    NaN  webmd-reviews      pill          71   \n",
       "13344    NaN  webmd-reviews      pill         121   \n",
       "\n",
       "                                             tokens_text  \n",
       "7166   went lybrel could stop getting painful periods...  \n",
       "15393  started taking medicine NUM weeks ago NUMst se...  \n",
       "13344  strangest unpleasant experience drug started u...  "
      ]
     },
     "execution_count": 5,
     "metadata": {},
     "output_type": "execute_result"
    }
   ],
   "source": [
    "webmd_df.sample(3)"
   ]
  },
  {
   "cell_type": "markdown",
   "metadata": {},
   "source": [
    "<br><br><br><br>\n",
    "\n",
    "# Get list of medication names for Reddit"
   ]
  },
  {
   "cell_type": "code",
   "execution_count": 19,
   "metadata": {},
   "outputs": [
    {
     "data": {
      "text/plain": [
       "'alesse, alesse, altavera, alyacen, amethia, amethia-lo, amethyst, apri, ashlyna, aubra, aviane, azurette, balziva, beyaz, blisovi, blisovi-fe, camila, camrese, camrese-lo, caziant, chateal, cryselle, cyclafem, cyclessa, dasetta, dasetta-triphasic, daysee, demulen, desogen-tablet, desogestrel-ethinyl-estradiol, emoquette, enpresse, enskyce, errin, estarylla, estrostep-fe, falmina, femcon-fe-tablet-chewable, generess-fe, gianvi, gildess, gildess-fe, heather, introvale, isibloom, jolessa, jolivette, junel, junel, junel-fe, junel-fe, kariva, kelnor, kurvelo, larin-fe, larissia, leena, lessina, levlen, levonorgestrel-ec, levora, levora, levora, lo-loestrin-fe, lo-ovral, loestrin, loestrin, loestrin, loestrin-fe, loestrin-fe, lomedia, loryna, loseasonique, low-ogestrel, low-ogestrel, lutera, lybrel, lyza, marlissa, microgestin, microgestin, microgestin-fe, microgestin-fe, micronor, minastrin, mircette, mono-linyah, mononessa, myzilra, natazia, necon, necon, necon, necon, necon-triphasic, nikki, nor-q-d-tablet, nora-be, nordette, norethindron-ethinyl-estradiol-tablet-contraceptives, norethindrone, norgestimate-ethinyl-estradiol, norgestrel-ethiny-estra, norinyl, nortrel, nortrel, nortrel, nortrel-triphasic, ocella, ogestrel, orsythia, ortho-cept, ortho-cyclen, ortho-cyclen, ortho-micronor, ortho-novum, ortho-novum-triphasic, ortho-tri-cyclen, ortho-tri-cyclen, ortho-tri-cyclen-lo, ovcon, ovcon, pimtrea, portia, previfem, quartette, quasense, reclipsen, safyral, seasonique, sharobel, solia-tablet, sprintec, sronyx, syeda, tarina-fe, tilia-fe, tri-estarylla, tri-legest-fe, tri-levlen, tri-linyah, tri-lo-sprintec, tri-norinyl, tri-previfem, tri-sprintec, trinessa, triphasil, trivora, velivet, vestura, vienva, viorele, vyfemla, yasmin, yaz, zarah, zenchent, zenchent-fe, zeosa-tablet-chewable, zovia, zovia'"
      ]
     },
     "execution_count": 19,
     "metadata": {},
     "output_type": "execute_result"
    }
   ],
   "source": [
    "pd.set_option(\"display.max_rows\", None)\n",
    "names = []\n",
    "for _name, _count in webmd_df[webmd_df['text_type'] == 'pill']['name'].value_counts().iteritems():\n",
    "    names.append(re.split(r'(\\d+)', _name)[0].strip('-.'))\n",
    "# ', '.join([\"'\" + n + \"'\" for n in names])\n",
    "', '.join(sorted(names))"
   ]
  },
  {
   "cell_type": "code",
   "execution_count": 7,
   "metadata": {},
   "outputs": [
    {
     "data": {
      "text/plain": [
       "mirena-device                1711\n",
       "paragard-t-380-a-device       503\n",
       "skyla-device                  116\n",
       "liletta-device                 14\n",
       "levonorgestrel-device-3yr      10\n",
       "Name: name, dtype: int64"
      ]
     },
     "execution_count": 7,
     "metadata": {},
     "output_type": "execute_result"
    }
   ],
   "source": [
    "webmd_df[webmd_df['text_type'] == 'iud']['name'].value_counts()"
   ]
  },
  {
   "cell_type": "code",
   "execution_count": 8,
   "metadata": {},
   "outputs": [
    {
     "data": {
      "text/plain": [
       "implanon-implant       459\n",
       "nexplanon-implant      405\n",
       "norplant-system-kit     19\n",
       "Name: name, dtype: int64"
      ]
     },
     "execution_count": 8,
     "metadata": {},
     "output_type": "execute_result"
    }
   ],
   "source": [
    "webmd_df[webmd_df['text_type'] == 'implant']['name'].value_counts()"
   ]
  },
  {
   "cell_type": "markdown",
   "metadata": {},
   "source": [
    "## Rename columns, add source column"
   ]
  },
  {
   "cell_type": "code",
   "execution_count": 7,
   "metadata": {},
   "outputs": [],
   "source": [
    "webmd_df = webmd_df.rename(columns={'bc_type': 'text_type'})\n",
    "webmd_df['source'] = 'webmd-reviews'"
   ]
  },
  {
   "cell_type": "markdown",
   "metadata": {},
   "source": [
    "## Remove short reviews"
   ]
  },
  {
   "cell_type": "code",
   "execution_count": 8,
   "metadata": {},
   "outputs": [
    {
     "data": {
      "text/plain": [
       "18110"
      ]
     },
     "execution_count": 8,
     "metadata": {},
     "output_type": "execute_result"
    }
   ],
   "source": [
    "def get_num_tokens(text):\n",
    "    if pd.isnull(text):\n",
    "        return 0\n",
    "    return len(text.split())\n",
    "\n",
    "webmd_df['num_tokens'] = webmd_df['text'].apply(get_num_tokens)\n",
    "webmd_df = webmd_df[(webmd_df['num_tokens'] >= 3)]\n",
    "len(webmd_df.index)"
   ]
  },
  {
   "cell_type": "markdown",
   "metadata": {},
   "source": [
    "## Remove duplicate reviews"
   ]
  },
  {
   "cell_type": "code",
   "execution_count": 9,
   "metadata": {},
   "outputs": [
    {
     "data": {
      "text/plain": [
       "18110"
      ]
     },
     "execution_count": 9,
     "metadata": {},
     "output_type": "execute_result"
    }
   ],
   "source": [
    "webmd_df = webmd_df.drop_duplicates(subset='text')\n",
    "len(webmd_df)"
   ]
  },
  {
   "cell_type": "markdown",
   "metadata": {},
   "source": [
    "## Drop reviews not in our three target bc types"
   ]
  },
  {
   "cell_type": "code",
   "execution_count": 10,
   "metadata": {},
   "outputs": [
    {
     "data": {
      "text/plain": [
       "18110"
      ]
     },
     "execution_count": 10,
     "metadata": {},
     "output_type": "execute_result"
    }
   ],
   "source": [
    "webmd_df = webmd_df[webmd_df['text_type'].isin(['pill', 'iud', 'implant'])]\n",
    "len(webmd_df.index)"
   ]
  },
  {
   "cell_type": "markdown",
   "metadata": {},
   "source": [
    "## Add tokenized text"
   ]
  },
  {
   "cell_type": "code",
   "execution_count": 11,
   "metadata": {},
   "outputs": [],
   "source": [
    "def get_tokens(r):\n",
    "    return lmw.process_string(str(r['text']), remove_short_words=False)"
   ]
  },
  {
   "cell_type": "code",
   "execution_count": 12,
   "metadata": {},
   "outputs": [],
   "source": [
    "webmd_df['text'] = webmd_df['text'].astype(str)\n",
    "webmd_df['tokens_text'] = webmd_df.apply(get_tokens, axis=1)"
   ]
  },
  {
   "cell_type": "markdown",
   "metadata": {},
   "source": [
    "## Final dataframe"
   ]
  },
  {
   "cell_type": "code",
   "execution_count": 13,
   "metadata": {},
   "outputs": [
    {
     "data": {
      "text/plain": [
       "18110"
      ]
     },
     "execution_count": 13,
     "metadata": {},
     "output_type": "execute_result"
    }
   ],
   "source": [
    "len(webmd_df.index)"
   ]
  },
  {
   "cell_type": "code",
   "execution_count": 14,
   "metadata": {},
   "outputs": [
    {
     "data": {
      "text/html": [
       "<div>\n",
       "<style scoped>\n",
       "    .dataframe tbody tr th:only-of-type {\n",
       "        vertical-align: middle;\n",
       "    }\n",
       "\n",
       "    .dataframe tbody tr th {\n",
       "        vertical-align: top;\n",
       "    }\n",
       "\n",
       "    .dataframe thead th {\n",
       "        text-align: right;\n",
       "    }\n",
       "</style>\n",
       "<table border=\"1\" class=\"dataframe\">\n",
       "  <thead>\n",
       "    <tr style=\"text-align: right;\">\n",
       "      <th></th>\n",
       "      <th>Unnamed: 0</th>\n",
       "      <th>Unnamed: 0.1</th>\n",
       "      <th>id</th>\n",
       "      <th>date</th>\n",
       "      <th>year</th>\n",
       "      <th>text</th>\n",
       "      <th>name</th>\n",
       "      <th>title</th>\n",
       "      <th>source</th>\n",
       "      <th>text_type</th>\n",
       "      <th>num_tokens</th>\n",
       "      <th>tokens_text</th>\n",
       "    </tr>\n",
       "  </thead>\n",
       "  <tbody>\n",
       "    <tr>\n",
       "      <th>10949</th>\n",
       "      <td>12017</td>\n",
       "      <td>12017</td>\n",
       "      <td>w12301</td>\n",
       "      <td>2013-05-08</td>\n",
       "      <td>2013</td>\n",
       "      <td>I have been on nexplanon for a month now.  At ...</td>\n",
       "      <td>nexplanon-implant</td>\n",
       "      <td>NaN</td>\n",
       "      <td>webmd-reviews</td>\n",
       "      <td>implant</td>\n",
       "      <td>87</td>\n",
       "      <td>nexplanon month first ok got period NUM days g...</td>\n",
       "    </tr>\n",
       "    <tr>\n",
       "      <th>5366</th>\n",
       "      <td>6396</td>\n",
       "      <td>6396</td>\n",
       "      <td>w6545</td>\n",
       "      <td>2015-05-20</td>\n",
       "      <td>2015</td>\n",
       "      <td>After starting this drug I have been paranoid ...</td>\n",
       "      <td>lo-loestrin-fe</td>\n",
       "      <td>NaN</td>\n",
       "      <td>webmd-reviews</td>\n",
       "      <td>pill</td>\n",
       "      <td>82</td>\n",
       "      <td>starting drug paranoid pregnant ever since mak...</td>\n",
       "    </tr>\n",
       "    <tr>\n",
       "      <th>11080</th>\n",
       "      <td>12149</td>\n",
       "      <td>12149</td>\n",
       "      <td>w12434</td>\n",
       "      <td>2014-12-13</td>\n",
       "      <td>2014</td>\n",
       "      <td>I took Nora Be for 6 months. This pill is horr...</td>\n",
       "      <td>nora-be</td>\n",
       "      <td>NaN</td>\n",
       "      <td>webmd-reviews</td>\n",
       "      <td>pill</td>\n",
       "      <td>184</td>\n",
       "      <td>took nora NUM months pill horrible doctor pres...</td>\n",
       "    </tr>\n",
       "  </tbody>\n",
       "</table>\n",
       "</div>"
      ],
      "text/plain": [
       "       Unnamed: 0  Unnamed: 0.1      id        date  year  \\\n",
       "10949       12017         12017  w12301  2013-05-08  2013   \n",
       "5366         6396          6396   w6545  2015-05-20  2015   \n",
       "11080       12149         12149  w12434  2014-12-13  2014   \n",
       "\n",
       "                                                    text               name  \\\n",
       "10949  I have been on nexplanon for a month now.  At ...  nexplanon-implant   \n",
       "5366   After starting this drug I have been paranoid ...     lo-loestrin-fe   \n",
       "11080  I took Nora Be for 6 months. This pill is horr...            nora-be   \n",
       "\n",
       "       title         source text_type  num_tokens  \\\n",
       "10949    NaN  webmd-reviews   implant          87   \n",
       "5366     NaN  webmd-reviews      pill          82   \n",
       "11080    NaN  webmd-reviews      pill         184   \n",
       "\n",
       "                                             tokens_text  \n",
       "10949  nexplanon month first ok got period NUM days g...  \n",
       "5366   starting drug paranoid pregnant ever since mak...  \n",
       "11080  took nora NUM months pill horrible doctor pres...  "
      ]
     },
     "execution_count": 14,
     "metadata": {},
     "output_type": "execute_result"
    }
   ],
   "source": [
    "webmd_df.sample(3)"
   ]
  },
  {
   "cell_type": "code",
   "execution_count": 15,
   "metadata": {},
   "outputs": [
    {
     "data": {
      "text/plain": [
       "2012    2475\n",
       "2011    2410\n",
       "2009    2263\n",
       "2010    2098\n",
       "2013    1885\n",
       "2014    1628\n",
       "2008    1549\n",
       "2015    1077\n",
       "2016     951\n",
       "2017     495\n",
       "2018     395\n",
       "2019     348\n",
       "2007     347\n",
       "2020     189\n",
       "Name: year, dtype: int64"
      ]
     },
     "execution_count": 15,
     "metadata": {},
     "output_type": "execute_result"
    }
   ],
   "source": [
    "webmd_df['year'].value_counts()"
   ]
  },
  {
   "cell_type": "code",
   "execution_count": 16,
   "metadata": {},
   "outputs": [],
   "source": [
    "webmd_df.to_csv(data_directory_path + '/final-data/webmd.csv')"
   ]
  },
  {
   "cell_type": "code",
   "execution_count": null,
   "metadata": {},
   "outputs": [],
   "source": []
  }
 ],
 "metadata": {
  "interpreter": {
   "hash": "88435282e7afd386f137f5bf71124f6ca50142be149f9ca18724b5a580de610c"
  },
  "kernelspec": {
   "display_name": "Python 3.7.9 64-bit ('python3.7env': conda)",
   "language": "python",
   "name": "python3"
  },
  "language_info": {
   "codemirror_mode": {
    "name": "ipython",
    "version": 3
   },
   "file_extension": ".py",
   "mimetype": "text/x-python",
   "name": "python",
   "nbconvert_exporter": "python",
   "pygments_lexer": "ipython3",
   "version": "3.8.12"
  },
  "orig_nbformat": 2
 },
 "nbformat": 4,
 "nbformat_minor": 2
}
