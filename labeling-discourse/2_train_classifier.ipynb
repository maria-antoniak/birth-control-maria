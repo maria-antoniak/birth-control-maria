{
 "cells": [
  {
   "cell_type": "markdown",
   "metadata": {},
   "source": [
    "# Imports"
   ]
  },
  {
   "cell_type": "code",
   "execution_count": 1,
   "metadata": {},
   "outputs": [],
   "source": [
    "from collections import defaultdict\n",
    "import random\n",
    "import re\n",
    "\n",
    "import pandas as pd\n",
    "from sklearn.metrics import accuracy_score, precision_recall_fscore_support, classification_report\n",
    "from sklearn.feature_extraction.text import TfidfVectorizer\n",
    "from sklearn.linear_model import LogisticRegression\n",
    "from sklearn.model_selection import train_test_split\n",
    "\n",
    "import spacy\n",
    "nlp = spacy.load('en_core_web_sm')\n",
    "\n",
    "%matplotlib inline\n",
    "import matplotlib.pyplot as plt\n",
    "import seaborn as sns\n",
    "sns.set(style='ticks', font_scale=1.2)"
   ]
  },
  {
   "cell_type": "markdown",
   "metadata": {},
   "source": [
    "# Directory paths"
   ]
  },
  {
   "cell_type": "code",
   "execution_count": 2,
   "metadata": {},
   "outputs": [],
   "source": [
    "data_directory_path   = '/Users/maria/Documents/data/birth-control'"
   ]
  },
  {
   "cell_type": "markdown",
   "metadata": {},
   "source": [
    "# Load data"
   ]
  },
  {
   "cell_type": "code",
   "execution_count": 3,
   "metadata": {},
   "outputs": [
    {
     "data": {
      "text/plain": [
       "750"
      ]
     },
     "execution_count": 3,
     "metadata": {},
     "output_type": "execute_result"
    }
   ],
   "source": [
    "label_df = pd.read_csv(data_directory_path + '/labeling/label-discourse/final.majority_labels.csv')\n",
    "len(label_df.index)"
   ]
  },
  {
   "cell_type": "code",
   "execution_count": 4,
   "metadata": {},
   "outputs": [
    {
     "data": {
      "text/plain": [
       "11993"
      ]
     },
     "execution_count": 4,
     "metadata": {},
     "output_type": "execute_result"
    }
   ],
   "source": [
    "test_df = pd.read_csv(data_directory_path + '/labeling/label-discourse/sampled-sentences.test.csv')\n",
    "len(test_df)"
   ]
  },
  {
   "cell_type": "code",
   "execution_count": 5,
   "metadata": {},
   "outputs": [
    {
     "data": {
      "text/html": [
       "<div>\n",
       "<style scoped>\n",
       "    .dataframe tbody tr th:only-of-type {\n",
       "        vertical-align: middle;\n",
       "    }\n",
       "\n",
       "    .dataframe tbody tr th {\n",
       "        vertical-align: top;\n",
       "    }\n",
       "\n",
       "    .dataframe thead th {\n",
       "        text-align: right;\n",
       "    }\n",
       "</style>\n",
       "<table border=\"1\" class=\"dataframe\">\n",
       "  <thead>\n",
       "    <tr style=\"text-align: right;\">\n",
       "      <th></th>\n",
       "      <th>Unnamed: 0</th>\n",
       "      <th>ID</th>\n",
       "      <th>Label</th>\n",
       "      <th>Text</th>\n",
       "      <th>Source</th>\n",
       "      <th>Decision</th>\n",
       "    </tr>\n",
       "  </thead>\n",
       "  <tbody>\n",
       "    <tr>\n",
       "      <th>379</th>\n",
       "      <td>379</td>\n",
       "      <td>578001012885041200</td>\n",
       "      <td>SHARING-DESCRIBING ADDITIONAL RESEARCH</td>\n",
       "      <td>Colorado Politicians Are Sporting IUD Shaped E...</td>\n",
       "      <td>twitter-posts</td>\n",
       "      <td>two or more</td>\n",
       "    </tr>\n",
       "    <tr>\n",
       "      <th>1</th>\n",
       "      <td>1</td>\n",
       "      <td>inocqw</td>\n",
       "      <td>SEEKING EXPERIENCES</td>\n",
       "      <td>Has anyone taken Cytotec before getting an IUD...</td>\n",
       "      <td>reddit-posts</td>\n",
       "      <td>two or more</td>\n",
       "    </tr>\n",
       "    <tr>\n",
       "      <th>12</th>\n",
       "      <td>12</td>\n",
       "      <td>emqnn9</td>\n",
       "      <td>SEEKING INFORMATION</td>\n",
       "      <td>If not, just ignore this, but here is my quest...</td>\n",
       "      <td>reddit-posts</td>\n",
       "      <td>two or more</td>\n",
       "    </tr>\n",
       "  </tbody>\n",
       "</table>\n",
       "</div>"
      ],
      "text/plain": [
       "     Unnamed: 0                  ID                                   Label  \\\n",
       "379         379  578001012885041200  SHARING-DESCRIBING ADDITIONAL RESEARCH   \n",
       "1             1              inocqw                     SEEKING EXPERIENCES   \n",
       "12           12              emqnn9                     SEEKING INFORMATION   \n",
       "\n",
       "                                                  Text         Source  \\\n",
       "379  Colorado Politicians Are Sporting IUD Shaped E...  twitter-posts   \n",
       "1    Has anyone taken Cytotec before getting an IUD...   reddit-posts   \n",
       "12   If not, just ignore this, but here is my quest...   reddit-posts   \n",
       "\n",
       "        Decision  \n",
       "379  two or more  \n",
       "1    two or more  \n",
       "12   two or more  "
      ]
     },
     "execution_count": 5,
     "metadata": {},
     "output_type": "execute_result"
    }
   ],
   "source": [
    "label_df.sample(3)"
   ]
  },
  {
   "cell_type": "code",
   "execution_count": 6,
   "metadata": {},
   "outputs": [
    {
     "data": {
      "text/html": [
       "<div>\n",
       "<style scoped>\n",
       "    .dataframe tbody tr th:only-of-type {\n",
       "        vertical-align: middle;\n",
       "    }\n",
       "\n",
       "    .dataframe tbody tr th {\n",
       "        vertical-align: top;\n",
       "    }\n",
       "\n",
       "    .dataframe thead th {\n",
       "        text-align: right;\n",
       "    }\n",
       "</style>\n",
       "<table border=\"1\" class=\"dataframe\">\n",
       "  <thead>\n",
       "    <tr style=\"text-align: right;\">\n",
       "      <th></th>\n",
       "      <th>Unnamed: 0</th>\n",
       "      <th>text</th>\n",
       "      <th>meta</th>\n",
       "    </tr>\n",
       "  </thead>\n",
       "  <tbody>\n",
       "    <tr>\n",
       "      <th>5258</th>\n",
       "      <td>5258</td>\n",
       "      <td>Mommy Fan Question: im just wondering if anyon...</td>\n",
       "      <td>{'ID': 345567629320286210, 'Source': 'twitter-...</td>\n",
       "    </tr>\n",
       "    <tr>\n",
       "      <th>6278</th>\n",
       "      <td>6278</td>\n",
       "      <td>Now I’m racing to get an IUD.</td>\n",
       "      <td>{'ID': 810923179074064384, 'Source': 'twitter-...</td>\n",
       "    </tr>\n",
       "    <tr>\n",
       "      <th>3049</th>\n",
       "      <td>3049</td>\n",
       "      <td>i don’t know why i’m so anxious about it!</td>\n",
       "      <td>{'ID': 'ejep66m', 'Source': 'reddit-comments',...</td>\n",
       "    </tr>\n",
       "  </tbody>\n",
       "</table>\n",
       "</div>"
      ],
      "text/plain": [
       "      Unnamed: 0                                               text  \\\n",
       "5258        5258  Mommy Fan Question: im just wondering if anyon...   \n",
       "6278        6278                      Now I’m racing to get an IUD.   \n",
       "3049        3049          i don’t know why i’m so anxious about it!   \n",
       "\n",
       "                                                   meta  \n",
       "5258  {'ID': 345567629320286210, 'Source': 'twitter-...  \n",
       "6278  {'ID': 810923179074064384, 'Source': 'twitter-...  \n",
       "3049  {'ID': 'ejep66m', 'Source': 'reddit-comments',...  "
      ]
     },
     "execution_count": 6,
     "metadata": {},
     "output_type": "execute_result"
    }
   ],
   "source": [
    "test_df.sample(3)"
   ]
  },
  {
   "cell_type": "code",
   "execution_count": 7,
   "metadata": {},
   "outputs": [
    {
     "name": "stderr",
     "output_type": "stream",
     "text": [
      "/Users/maria/opt/anaconda3/envs/python3.8env/lib/python3.8/site-packages/IPython/core/interactiveshell.py:3444: DtypeWarning: Columns (2,5,8,9,13,14,23) have mixed types.Specify dtype option on import or set low_memory=False.\n",
      "  exec(code_obj, self.user_global_ns, self.user_ns)\n"
     ]
    },
    {
     "data": {
      "text/plain": [
       "1063672"
      ]
     },
     "execution_count": 7,
     "metadata": {},
     "output_type": "execute_result"
    }
   ],
   "source": [
    "combined_df = pd.read_csv(data_directory_path + '/combined.csv')\n",
    "len(combined_df.index)"
   ]
  },
  {
   "cell_type": "code",
   "execution_count": 8,
   "metadata": {},
   "outputs": [
    {
     "data": {
      "text/html": [
       "<div>\n",
       "<style scoped>\n",
       "    .dataframe tbody tr th:only-of-type {\n",
       "        vertical-align: middle;\n",
       "    }\n",
       "\n",
       "    .dataframe tbody tr th {\n",
       "        vertical-align: top;\n",
       "    }\n",
       "\n",
       "    .dataframe thead th {\n",
       "        text-align: right;\n",
       "    }\n",
       "</style>\n",
       "<table border=\"1\" class=\"dataframe\">\n",
       "  <thead>\n",
       "    <tr style=\"text-align: right;\">\n",
       "      <th></th>\n",
       "      <th>Unnamed: 0</th>\n",
       "      <th>Unnamed: 0.1</th>\n",
       "      <th>id</th>\n",
       "      <th>created_utc</th>\n",
       "      <th>text</th>\n",
       "      <th>title</th>\n",
       "      <th>year</th>\n",
       "      <th>month</th>\n",
       "      <th>url</th>\n",
       "      <th>link_flair_text</th>\n",
       "      <th>...</th>\n",
       "      <th>headache</th>\n",
       "      <th>hair loss</th>\n",
       "      <th>fatigue</th>\n",
       "      <th>nausea</th>\n",
       "      <th>discharge</th>\n",
       "      <th>heart attack</th>\n",
       "      <th>infection</th>\n",
       "      <th>blood pressure</th>\n",
       "      <th>skin</th>\n",
       "      <th>bleeding</th>\n",
       "    </tr>\n",
       "  </thead>\n",
       "  <tbody>\n",
       "    <tr>\n",
       "      <th>282940</th>\n",
       "      <td>213982</td>\n",
       "      <td>2483</td>\n",
       "      <td>ga0avem</td>\n",
       "      <td>1.603601e+09</td>\n",
       "      <td>I’m so sorry! I was on Trinessa for a few mont...</td>\n",
       "      <td>NaN</td>\n",
       "      <td>2020</td>\n",
       "      <td>10.0</td>\n",
       "      <td>NaN</td>\n",
       "      <td>NaN</td>\n",
       "      <td>...</td>\n",
       "      <td>0</td>\n",
       "      <td>0</td>\n",
       "      <td>0</td>\n",
       "      <td>0</td>\n",
       "      <td>0</td>\n",
       "      <td>0</td>\n",
       "      <td>0</td>\n",
       "      <td>0</td>\n",
       "      <td>0</td>\n",
       "      <td>0</td>\n",
       "    </tr>\n",
       "    <tr>\n",
       "      <th>580170</th>\n",
       "      <td>246300</td>\n",
       "      <td>309289</td>\n",
       "      <td>1094026783987548161</td>\n",
       "      <td>NaN</td>\n",
       "      <td>Thank Ima get this Nexplanon Removed</td>\n",
       "      <td>NaN</td>\n",
       "      <td>2019</td>\n",
       "      <td>2.0</td>\n",
       "      <td>NaN</td>\n",
       "      <td>NaN</td>\n",
       "      <td>...</td>\n",
       "      <td>0</td>\n",
       "      <td>0</td>\n",
       "      <td>0</td>\n",
       "      <td>0</td>\n",
       "      <td>0</td>\n",
       "      <td>0</td>\n",
       "      <td>0</td>\n",
       "      <td>0</td>\n",
       "      <td>0</td>\n",
       "      <td>0</td>\n",
       "    </tr>\n",
       "    <tr>\n",
       "      <th>430396</th>\n",
       "      <td>96526</td>\n",
       "      <td>115181</td>\n",
       "      <td>771774574220500992</td>\n",
       "      <td>NaN</td>\n",
       "      <td>I'm celebrating Labor Day weekend by getting a...</td>\n",
       "      <td>NaN</td>\n",
       "      <td>2016</td>\n",
       "      <td>9.0</td>\n",
       "      <td>NaN</td>\n",
       "      <td>NaN</td>\n",
       "      <td>...</td>\n",
       "      <td>0</td>\n",
       "      <td>0</td>\n",
       "      <td>0</td>\n",
       "      <td>0</td>\n",
       "      <td>0</td>\n",
       "      <td>0</td>\n",
       "      <td>0</td>\n",
       "      <td>0</td>\n",
       "      <td>0</td>\n",
       "      <td>0</td>\n",
       "    </tr>\n",
       "  </tbody>\n",
       "</table>\n",
       "<p>3 rows × 50 columns</p>\n",
       "</div>"
      ],
      "text/plain": [
       "        Unnamed: 0  Unnamed: 0.1                   id   created_utc  \\\n",
       "282940      213982          2483              ga0avem  1.603601e+09   \n",
       "580170      246300        309289  1094026783987548161           NaN   \n",
       "430396       96526        115181   771774574220500992           NaN   \n",
       "\n",
       "                                                     text title  year  month  \\\n",
       "282940  I’m so sorry! I was on Trinessa for a few mont...   NaN  2020   10.0   \n",
       "580170               Thank Ima get this Nexplanon Removed   NaN  2019    2.0   \n",
       "430396  I'm celebrating Labor Day weekend by getting a...   NaN  2016    9.0   \n",
       "\n",
       "        url link_flair_text  ... headache hair loss fatigue nausea discharge  \\\n",
       "282940  NaN             NaN  ...        0         0       0      0         0   \n",
       "580170  NaN             NaN  ...        0         0       0      0         0   \n",
       "430396  NaN             NaN  ...        0         0       0      0         0   \n",
       "\n",
       "        heart attack  infection  blood pressure  skin  bleeding  \n",
       "282940             0          0               0     0         0  \n",
       "580170             0          0               0     0         0  \n",
       "430396             0          0               0     0         0  \n",
       "\n",
       "[3 rows x 50 columns]"
      ]
     },
     "execution_count": 8,
     "metadata": {},
     "output_type": "execute_result"
    }
   ],
   "source": [
    "combined_df.sample(3)"
   ]
  },
  {
   "cell_type": "code",
   "execution_count": 10,
   "metadata": {},
   "outputs": [
    {
     "data": {
      "text/plain": [
       "twitter-posts_pill         226762\n",
       "twitter-posts_iud          217728\n",
       "twitter-replies_iud        147680\n",
       "reddit-comments_iud        117631\n",
       "reddit-comments_pill       117283\n",
       "twitter-posts_implant       55306\n",
       "twitter-replies_pill        39039\n",
       "reddit-posts_pill           36921\n",
       "reddit-comments_implant     29998\n",
       "twitter-replies_implant     25177\n",
       "reddit-posts_iud            24657\n",
       "webmd-reviews_pill          14873\n",
       "reddit-posts_implant         7380\n",
       "webmd-reviews_iud            2354\n",
       "webmd-reviews_implant         883\n",
       "Name: divide_by_me, dtype: int64"
      ]
     },
     "execution_count": 10,
     "metadata": {},
     "output_type": "execute_result"
    }
   ],
   "source": [
    "combined_df['divide_by_me'] = combined_df['source'] + '_' + combined_df['text_type']\n",
    "\n",
    "combined_df['divide_by_me'].value_counts()"
   ]
  },
  {
   "cell_type": "code",
   "execution_count": 13,
   "metadata": {},
   "outputs": [
    {
     "data": {
      "text/plain": [
       "12000"
      ]
     },
     "execution_count": 13,
     "metadata": {},
     "output_type": "execute_result"
    }
   ],
   "source": [
    "df_to_classify =  combined_df.groupby('divide_by_me').apply(lambda x: x.sample(n=800)).reset_index(drop = True)\n",
    "len(df_to_classify)"
   ]
  },
  {
   "cell_type": "code",
   "execution_count": 14,
   "metadata": {},
   "outputs": [
    {
     "data": {
      "text/plain": [
       "reddit-comments_implant    800\n",
       "reddit-comments_iud        800\n",
       "reddit-comments_pill       800\n",
       "reddit-posts_implant       800\n",
       "reddit-posts_iud           800\n",
       "reddit-posts_pill          800\n",
       "twitter-posts_implant      800\n",
       "twitter-posts_iud          800\n",
       "twitter-posts_pill         800\n",
       "twitter-replies_implant    800\n",
       "twitter-replies_iud        800\n",
       "twitter-replies_pill       800\n",
       "webmd-reviews_implant      800\n",
       "webmd-reviews_iud          800\n",
       "webmd-reviews_pill         800\n",
       "Name: divide_by_me, dtype: int64"
      ]
     },
     "execution_count": 14,
     "metadata": {},
     "output_type": "execute_result"
    }
   ],
   "source": [
    "df_to_classify['divide_by_me'].value_counts()"
   ]
  },
  {
   "cell_type": "markdown",
   "metadata": {},
   "source": [
    "# Try training a simple model"
   ]
  },
  {
   "cell_type": "code",
   "execution_count": 15,
   "metadata": {},
   "outputs": [],
   "source": [
    "def binarize_label(label, target_label):\n",
    "    if label == target_label:\n",
    "        return 1\n",
    "    return 0"
   ]
  },
  {
   "cell_type": "code",
   "execution_count": 16,
   "metadata": {},
   "outputs": [],
   "source": [
    "from sklearn.metrics import f1_score"
   ]
  },
  {
   "cell_type": "code",
   "execution_count": 17,
   "metadata": {},
   "outputs": [],
   "source": [
    "# TODO: predict for a smaller set that is balanced across side effects"
   ]
  },
  {
   "cell_type": "code",
   "execution_count": 18,
   "metadata": {},
   "outputs": [
    {
     "name": "stdout",
     "output_type": "stream",
     "text": [
      "SHARING PERSONAL EXPERIENCES\n",
      "              precision    recall  f1-score   support\n",
      "\n",
      "           0       0.84      0.72      0.78       104\n",
      "           1       0.73      0.85      0.79        93\n",
      "\n",
      "    accuracy                           0.78       197\n",
      "   macro avg       0.79      0.79      0.78       197\n",
      "weighted avg       0.79      0.78      0.78       197\n",
      "\n",
      "SEEKING EXPERIENCES\n",
      "              precision    recall  f1-score   support\n",
      "\n",
      "           0       0.78      1.00      0.88         7\n",
      "           1       1.00      0.75      0.86         8\n",
      "\n",
      "    accuracy                           0.87        15\n",
      "   macro avg       0.89      0.88      0.87        15\n",
      "weighted avg       0.90      0.87      0.87        15\n",
      "\n",
      "SHARING PERSONAL BACKGROUND\n",
      "              precision    recall  f1-score   support\n",
      "\n",
      "           0       0.50      0.50      0.50         8\n",
      "           1       0.56      0.56      0.56         9\n",
      "\n",
      "    accuracy                           0.53        17\n",
      "   macro avg       0.53      0.53      0.53        17\n",
      "weighted avg       0.53      0.53      0.53        17\n",
      "\n",
      "SHARING INFORMATION\n",
      "              precision    recall  f1-score   support\n",
      "\n",
      "           0       0.88      0.79      0.84        29\n",
      "           1       0.82      0.90      0.86        30\n",
      "\n",
      "    accuracy                           0.85        59\n",
      "   macro avg       0.85      0.85      0.85        59\n",
      "weighted avg       0.85      0.85      0.85        59\n",
      "\n",
      "SHARING SECONDHAND EXPERIENCES\n",
      "              precision    recall  f1-score   support\n",
      "\n",
      "           0       0.00      0.00      0.00         6\n",
      "           1       0.45      1.00      0.62         5\n",
      "\n",
      "    accuracy                           0.45        11\n",
      "   macro avg       0.23      0.50      0.31        11\n",
      "weighted avg       0.21      0.45      0.28        11\n",
      "\n"
     ]
    },
    {
     "name": "stderr",
     "output_type": "stream",
     "text": [
      "/Users/maria/opt/anaconda3/envs/python3.8env/lib/python3.8/site-packages/sklearn/metrics/_classification.py:1308: UndefinedMetricWarning: Precision and F-score are ill-defined and being set to 0.0 in labels with no predicted samples. Use `zero_division` parameter to control this behavior.\n",
      "  _warn_prf(average, modifier, msg_start, len(result))\n",
      "/Users/maria/opt/anaconda3/envs/python3.8env/lib/python3.8/site-packages/sklearn/metrics/_classification.py:1308: UndefinedMetricWarning: Precision and F-score are ill-defined and being set to 0.0 in labels with no predicted samples. Use `zero_division` parameter to control this behavior.\n",
      "  _warn_prf(average, modifier, msg_start, len(result))\n",
      "/Users/maria/opt/anaconda3/envs/python3.8env/lib/python3.8/site-packages/sklearn/metrics/_classification.py:1308: UndefinedMetricWarning: Precision and F-score are ill-defined and being set to 0.0 in labels with no predicted samples. Use `zero_division` parameter to control this behavior.\n",
      "  _warn_prf(average, modifier, msg_start, len(result))\n"
     ]
    },
    {
     "name": "stdout",
     "output_type": "stream",
     "text": [
      "SHARING FUTURE PLANS\n",
      "              precision    recall  f1-score   support\n",
      "\n",
      "           0       0.70      1.00      0.82         7\n",
      "           1       1.00      0.67      0.80         9\n",
      "\n",
      "    accuracy                           0.81        16\n",
      "   macro avg       0.85      0.83      0.81        16\n",
      "weighted avg       0.87      0.81      0.81        16\n",
      "\n",
      "SEEKING INFORMATION\n",
      "              precision    recall  f1-score   support\n",
      "\n",
      "           0       0.70      0.64      0.67        11\n",
      "           1       0.67      0.73      0.70        11\n",
      "\n",
      "    accuracy                           0.68        22\n",
      "   macro avg       0.68      0.68      0.68        22\n",
      "weighted avg       0.68      0.68      0.68        22\n",
      "\n",
      "SHARING OPINIONS AND PREFERENCES\n",
      "              precision    recall  f1-score   support\n",
      "\n",
      "           0       0.91      0.45      0.61        22\n",
      "           1       0.60      0.95      0.73        19\n",
      "\n",
      "    accuracy                           0.68        41\n",
      "   macro avg       0.75      0.70      0.67        41\n",
      "weighted avg       0.77      0.68      0.67        41\n",
      "\n",
      "SHARING-DESCRIBING ADDITIONAL RESEARCH\n",
      "              precision    recall  f1-score   support\n",
      "\n",
      "           0       0.83      0.77      0.80        26\n",
      "           1       0.71      0.79      0.75        19\n",
      "\n",
      "    accuracy                           0.78        45\n",
      "   macro avg       0.77      0.78      0.78        45\n",
      "weighted avg       0.78      0.78      0.78        45\n",
      "\n"
     ]
    }
   ],
   "source": [
    "for _target_label in label_df['Label'].unique():\n",
    "\n",
    "    _binarized_df = label_df.copy()\n",
    "    _binarized_df['Label'] = label_df['Label'].apply(lambda x: binarize_label(x, _target_label))\n",
    "    _positive_ids = _binarized_df[_binarized_df['Label'] == 1]['ID'].tolist()\n",
    "    _binarized_df = _binarized_df[~((_binarized_df['ID'].isin(_positive_ids)) & (_binarized_df['Label'] == 0))]\n",
    "\n",
    "    _binarized_df = _binarized_df.groupby('Label').sample(n=len(_binarized_df[_binarized_df['Label'] == 1]), random_state=1)\n",
    "\n",
    "    if len(_binarized_df.index) > 30:\n",
    "\n",
    "        _train_df, _test_df = train_test_split(_binarized_df, test_size=0.33, random_state=42)\n",
    "\n",
    "        _train_texts = _train_df['Text']\n",
    "        _test_texts = _test_df['Text']\n",
    "\n",
    "        _train_sources = _train_df['Source'].tolist()\n",
    "        _test_sources = _test_df['Source'].tolist()\n",
    "\n",
    "        # _train_texts = [_train_sources[i] + ' ' + ' '.join([w.text.lower() for w in nlp(t)]) for i, t in enumerate(_train_texts)]\n",
    "        # _test_texts = [_train_sources[i] + ' ' + ' '.join([w.text.lower() for w in nlp(t)]) for i, t in enumerate(_test_texts)]\n",
    "\n",
    "        _train_texts = [' '.join([w.text.lower() for w in nlp(t)]) for i, t in enumerate(_train_texts)]\n",
    "        _test_texts = [' '.join([w.text.lower() for w in nlp(t)]) for i, t in enumerate(_test_texts)]\n",
    "\n",
    "        _train_labels = _train_df['Label']\n",
    "        _test_labels = _test_df['Label']\n",
    "\n",
    "        _vectorizer = TfidfVectorizer()\n",
    "        _X_train = _vectorizer.fit_transform(_train_texts)\n",
    "        _X_test = _vectorizer.transform(_test_texts)\n",
    "\n",
    "        _model = LogisticRegression(C=1).fit(_X_train, _train_labels)\n",
    "        _predictions = _model.predict(_X_test)\n",
    "\n",
    "        print(_target_label)\n",
    "        print(classification_report(_test_labels, _predictions))\n",
    "\n",
    "        if f1_score(_test_labels, _predictions) >= 0.65:\n",
    "\n",
    "            _test_texts = [' '.join([w.text.lower() for w in nlp(r['text'])]) for i, r in df_to_classify.iterrows()]\n",
    "            _X_test = _vectorizer.transform(_test_texts)\n",
    "            _predictions = _model.predict(_X_test)\n",
    "            df_to_classify[_target_label] = _predictions"
   ]
  },
  {
   "cell_type": "code",
   "execution_count": null,
   "metadata": {},
   "outputs": [],
   "source": [
    "combined_df.to_csv(data_directory_path + '/combined.balanced.predicted_labels.csv')"
   ]
  },
  {
   "cell_type": "code",
   "execution_count": 12,
   "metadata": {},
   "outputs": [],
   "source": [
    "# def process_string(text):\n",
    "#     text = re.sub('[0-9]+', 'NUM', text)\n",
    "#     text = ' '.join(text.split())\n",
    "#     return text"
   ]
  },
  {
   "cell_type": "code",
   "execution_count": 13,
   "metadata": {},
   "outputs": [
    {
     "name": "stdout",
     "output_type": "stream",
     "text": [
      "---------------------------------\n",
      "SHARING PERSONAL EXPERIENCES\n",
      "---------------------------------\n",
      "\n",
      "POSITIVE\n",
      "i AM HORRIBLE at remembering to take pills, and I had a way worse experience with the depo shot (weight gain and horrible hormones!)\n",
      "Every office/clinic may be different.\n",
      "Hope this helps I had it for two years before giving up with it and have heard other people having the same problem with it.\n",
      "The period is longer, which can be irksome, but much lighter.\n",
      "Tmi, I change a super plus almost hourly.\n",
      "I've been on this for almost a year and have no complaints!\n",
      "but all was fine.\n",
      "it makes me a little nervous because i keep feeling as if i could be pregnant because i take this drug different times of the day..\n",
      "I have the Mirena IUD, and I haven't noticed it make any impact one way or another for acne, unfortunately.\n",
      "I have noticed that since using this product, I have less periods and when I do get them, they aren't very heavy.\n",
      "\n",
      "---------------------------------\n",
      "SHARING INFORMATION\n",
      "---------------------------------\n",
      "\n",
      "POSITIVE\n",
      "as for the pink discharge its possible its spotting , which isnt uncommon on birth control.\n",
      "The copper IUD is a highly effective, non hormonal method of birth control.\n",
      "I can definitely feel either my strings (or the actual plastic of the IUD) where they sat originally when the IUD was inserted.\n",
      "I’m like that w the iud too 🙄\n",
      "Period in the middle of a pack?\n",
      "MSD Announces Extension of Access Pricing for Contraceptive Implants Implanon and Implanon NXT in Family Plann... https://t.co/wkMqydp3hO\n",
      "Do any of y'all have the birth control implant in your arm?\n",
      "CIS #billet prices inch up on higher #scrap quotations http://t.co/9MNc7sg4k9 #iud #isd #novoros #volga #amur\n",
      "but it make your periods last way longer than usual.\n",
      "Can I take medicine to treat the symptoms or will this make it worse?\n",
      "\n",
      "---------------------------------\n",
      "SEEKING INFORMATION\n",
      "---------------------------------\n",
      "\n",
      "POSITIVE\n",
      "I think it's different for everyone but what BC were you on?\n",
      "You don’t want a FUCKEN CHILD in your body then don’t have sex or USE PROTECTION TAKE FUCKEN BIRTH CONTROL PILL cause that body that the Doctor is ripping apart to remove From you is NOT YOUR BODY TO RIP APART THAT BODY BELONGS TO THAT LITTLE INNOCENT BABY &amp; DOESN’T HAVE A VOICE\n",
      "When I moved to a different unit it was all dudes when would never comment on my weight\n",
      "Has anyone been taking it long term and still enjoy it?\n",
      "I personally recommend to all women who don't want babies to just not have sex at all if they've ever considered this, because it is painful and useless.\n",
      "But this wasn't sitting right with me.\n",
      "I gained weight initially but that was due to eating way too much crap and not being active enough.\n",
      "I haven't had any negative side effects and I've been on the pill for 2 years.\n",
      "What prompted this?\n",
      "and it was magical.\n",
      "\n",
      "---------------------------------\n",
      "SHARING OPINIONS AND PREFERENCES\n",
      "---------------------------------\n",
      "\n",
      "POSITIVE\n",
      "I am glad you aren't in charge.\n",
      "Getting nexplanon and not having periods at all&gt;&gt;&gt; https://t.co/7JpmQQta3V\n",
      "So.. I am hoping that this will prevent pregnancy.\n",
      "I really, really want them to do that for me if I decide to get an IUD, especially since I can't take NSAIDS at all, but I haven't heard of anyone getting it.\n",
      "I don't think triphasic pills are ideal for skipping periods.\n",
      "Treadmill &amp; birth control pill #thankmelater lol →\": Do something today that your future self will thank you for.\"\n",
      "I had low sex drive and following mirena, when I went to get it taken out and replaced, it was hard getting it out, and then when trying to do another one there was so much scar tissue build up from the last one I was unable to have the mirena.\n",
      "Honestly, for just a month break, I'd find a way to stay on it.\n",
      "Not even one week has gone by and it has proven ineffective.\n",
      "I have been a nurse for over 8 years so I tried to bear with it but this insertion or attempt to insertion was just as bad or worse as other women have described.\n",
      "\n",
      "---------------------------------\n",
      "SHARING-DESCRIBING ADDITIONAL RESEARCH\n",
      "---------------------------------\n",
      "\n",
      "POSITIVE\n",
      "My first birth control was implanon/rod\n",
      "I was on nexplanon.\n",
      "but im crying because this also looks like every ad for a new birth control implant\n",
      "#rhbill Facts of Life: Chapter 2: Abortifacients: Oral Contraceptive Pills (OCPs) http://t.co/n1AswSVt\n",
      "How is this physically possible?\n",
      "Birth Control Pill Not Linked To Birth Defects: Study https://t.co/GwwfHabIdy\n",
      "FDA experts to review safety of Essure birth control implant: WASHINGTON (AP) — Federal medical experts will take a… http://t.co/SBcNqkQJY0\n",
      "Only oral birth control is effected.\n",
      "Ok ladies personal question here.\n",
      "Doc appt in ah few.\n",
      "\n",
      "---------------------------------\n",
      "META DISCUSSION\n",
      "---------------------------------\n",
      "\n",
      "POSITIVE\n",
      "Do you know what that can do to a guy his age?\n",
      "Will the prozac / fluoxetine interact with my birth control? ...like cancel it out of make the effectiveness go down?\n",
      "Old out and new in the same day?\n",
      "I opted for this copper IUD with the thought that it was no hormone, long-term contraceptive but did not realize the side effects could be so extreme.\n",
      "Do you pair your IUD with another contraception?\n",
      "I think now after this post I am between the Paraguard and FAM and pill.\n",
      "A non hormonal method, like a copper IUD, may be a better fit.\n",
      "this lady going say “my legs be open so much , my IUD pick up cable channels” 😭\n",
      "I am not impressed and am going to be searching for a new pill as soon as i can.\n",
      "I lost 2/3 of my hair, gained 50 pounds, acne, facial hair, mood swings, fatigue, slept most of the time, no libido, I was just plain MISERABLE and missed out of my son's 1st year of life.\n",
      "\n"
     ]
    }
   ],
   "source": [
    "for _target_label in label_df['Label'].unique():\n",
    "\n",
    "    _binarized_df = label_df.copy()\n",
    "    _binarized_df['Label'] = label_df['Label'].apply(lambda x: binarize_label(x, _target_label))\n",
    "    _positive_ids = _binarized_df[_binarized_df['Label'] == 1]['ID'].tolist()\n",
    "    _binarized_df = _binarized_df[~((_binarized_df['ID'].isin(_positive_ids)) & (_binarized_df['Label'] == 0))]\n",
    "\n",
    "    _binarized_df = _binarized_df.groupby('Label').sample(n=len(_binarized_df[_binarized_df['Label'] == 1]), random_state=1)\n",
    "\n",
    "    if len(_binarized_df.index) > 50:\n",
    "\n",
    "        _train_texts = _binarized_df['Text']\n",
    "        _train_labels = _binarized_df['Label']\n",
    "\n",
    "        _test_texts = test_df['text']\n",
    "\n",
    "        _train_texts_processed = [' '.join([w.text.lower() for w in nlp(t)]) for t in _train_texts ]\n",
    "        _test_texts_processed = [' '.join([w.text.lower() for w in nlp(t)]) for t in _test_texts ]\n",
    "\n",
    "        _vectorizer = TfidfVectorizer()\n",
    "        _X_train = _vectorizer.fit_transform(_train_texts_processed)\n",
    "        _X_test = _vectorizer.transform(_test_texts_processed)\n",
    "\n",
    "        _model = LogisticRegression(C=10).fit(_X_train, _train_labels)\n",
    "        _predictions = _model.predict(_X_test)\n",
    "\n",
    "        print('---------------------------------')\n",
    "        print(_target_label)\n",
    "        print('---------------------------------')\n",
    "        print()\n",
    "\n",
    "        _positive_texts = [_text for _prediction, _text in zip(_predictions, _test_texts) if _prediction == 1]\n",
    "        _negative_texts = [_text for _prediction, _text in zip(_predictions, _test_texts) if _prediction == 0]\n",
    "\n",
    "        print('POSITIVE')\n",
    "        for _text in random.sample(_positive_texts, 10):\n",
    "            print(' '.join(_text.split()))\n",
    "        \n",
    "        print()\n"
   ]
  },
  {
   "cell_type": "code",
   "execution_count": null,
   "metadata": {},
   "outputs": [],
   "source": []
  }
 ],
 "metadata": {
  "interpreter": {
   "hash": "88435282e7afd386f137f5bf71124f6ca50142be149f9ca18724b5a580de610c"
  },
  "kernelspec": {
   "display_name": "Python 3.8.12 64-bit ('python3.8env': conda)",
   "language": "python",
   "name": "python3"
  },
  "language_info": {
   "codemirror_mode": {
    "name": "ipython",
    "version": 3
   },
   "file_extension": ".py",
   "mimetype": "text/x-python",
   "name": "python",
   "nbconvert_exporter": "python",
   "pygments_lexer": "ipython3",
   "version": "3.8.12"
  },
  "orig_nbformat": 4
 },
 "nbformat": 4,
 "nbformat_minor": 2
}
