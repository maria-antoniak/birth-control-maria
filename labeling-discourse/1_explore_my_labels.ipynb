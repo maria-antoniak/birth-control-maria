{
 "cells": [
  {
   "cell_type": "markdown",
   "metadata": {},
   "source": [
    "# Instructions\n",
    "\n",
    "Use \"prodigyEnv\" conda environment for this notebook.\n",
    "\n",
    "To set up Prodigy environment, download the wheel file from the Prodigy email (which you receive after purchasing a license). \n",
    "\n",
    "Then run `pip install ./prodigy*.whl`\n",
    "\n",
    "Instructions: https://prodi.gy/docs/install\n",
    "\n",
    "Database is stored at /"
   ]
  },
  {
   "cell_type": "markdown",
   "metadata": {},
   "source": [
    "<br><br>\n",
    "\n",
    "# Imports"
   ]
  },
  {
   "cell_type": "code",
   "execution_count": 153,
   "metadata": {},
   "outputs": [],
   "source": [
    "from collections import defaultdict\n",
    "import random\n",
    "import re\n",
    "\n",
    "import pandas as pd\n",
    "from prodigy.components.db import connect\n",
    "\n",
    "%matplotlib inline\n",
    "import matplotlib.pyplot as plt\n",
    "import seaborn as sns\n",
    "sns.set(style='ticks', font_scale=1.2)"
   ]
  },
  {
   "cell_type": "code",
   "execution_count": 154,
   "metadata": {},
   "outputs": [],
   "source": [
    "def sort_by_mean(df, by, column, rot=0):\n",
    "    # use dict comprehension to create new dataframe from the iterable groupby object\n",
    "    # each group name becomes a column in the new dataframe\n",
    "    df2 = pd.DataFrame({col:vals[column] for col, vals in df.groupby(by)})\n",
    "    # find and sort the median values in this new dataframe\n",
    "    means = df2.mean().sort_values()\n",
    "    # use the columns in the dataframe, ordered sorted by median value\n",
    "    # return axes so changes can be made outside the function\n",
    "#     return df2[meds.index].boxplot(rot=rot, return_type=\"axes\")\n",
    "    return means"
   ]
  },
  {
   "cell_type": "markdown",
   "metadata": {},
   "source": [
    "<br><br><br><br>\n",
    "\n",
    "---\n",
    "\n",
    "<br><br><br><br>\n",
    "\n",
    "\n",
    "# Connect to database"
   ]
  },
  {
   "cell_type": "code",
   "execution_count": 155,
   "metadata": {},
   "outputs": [
    {
     "data": {
      "text/plain": [
       "['bc-reddit-posts',\n",
       " 'bc-reddit-comments',\n",
       " 'bc-twitter-posts',\n",
       " 'bc-twitter-replies',\n",
       " 'discourse-reddit-posts',\n",
       " 'discourse-reddit-comments',\n",
       " 'discourse-twitter-posts',\n",
       " 'discourse-twitter-replies',\n",
       " 'discourse-webmd-reviews']"
      ]
     },
     "execution_count": 155,
     "metadata": {},
     "output_type": "execute_result"
    }
   ],
   "source": [
    "db = connect()\n",
    "\n",
    "db.datasets # This will list all of your prodigy databases"
   ]
  },
  {
   "cell_type": "code",
   "execution_count": 156,
   "metadata": {},
   "outputs": [],
   "source": [
    "# db.drop_dataset('discourse-webmd-reviews')  # Only do this if you want to delete all your annotations!!!!!!!!!!!"
   ]
  },
  {
   "cell_type": "markdown",
   "metadata": {},
   "source": [
    "<br><br><br><br>\n",
    "\n",
    "---\n",
    "\n",
    "<br><br><br><br>\n",
    "\n",
    "# Explore REDDIT posts"
   ]
  },
  {
   "cell_type": "code",
   "execution_count": 157,
   "metadata": {},
   "outputs": [
    {
     "name": "stdout",
     "output_type": "stream",
     "text": [
      "20\n"
     ]
    }
   ],
   "source": [
    "examples = db.get_dataset('discourse-reddit-posts')\n",
    "\n",
    "print(len(examples))"
   ]
  },
  {
   "cell_type": "code",
   "execution_count": 158,
   "metadata": {},
   "outputs": [
    {
     "name": "stdout",
     "output_type": "stream",
     "text": [
      "------------------------------------------------------\n",
      "total number of posts labeled\n",
      "------------------------------------------------------\n",
      "\n",
      "6 \t NONE\n",
      "3 \t SHARING PERSONAL EXPERIENCES\n",
      "3 \t SEEKING INFORMATION\n",
      "2 \t SEEKING EXPERIENCES\n",
      "2 \t SHARING CAUSAL REASONING / HYPOTHESIZING\n",
      "2 \t SHARING FUTURE PLANS\n",
      "1 \t SHARING ADVICE\n",
      "1 \t SHARING/DESCRIBING ADDITIONAL RESEARCH\n",
      "1 \t SHARING PERSONAL BACKGROUND\n",
      "1 \t SHARING INFORMATION\n",
      "1 \t SHARING SECONDHAND EXPERIENCES\n",
      "1 \t SEEKING EMOTIONAL SUPPORT\n"
     ]
    }
   ],
   "source": [
    "label_count_dict = defaultdict(int)\n",
    "method_label_count_dict = defaultdict(lambda: defaultdict(int))\n",
    "label_texts_dict = defaultdict(list)\n",
    "for e in examples:\n",
    "    for _label in e['accept']:\n",
    "        label_count_dict[_label] += 1\n",
    "        method_label_count_dict[e['meta']['Method']][_label] += 1\n",
    "        label_texts_dict[_label].append(e['text'])\n",
    "    if len(e['accept']) < 1:\n",
    "        label_count_dict['NONE'] += 1\n",
    "        label_texts_dict['NONE'].append(e['text'])\n",
    "\n",
    "print('------------------------------------------------------')\n",
    "print('total number of posts labeled')\n",
    "print('------------------------------------------------------')\n",
    "print()\n",
    "for _label, _count in sorted(label_count_dict.items(), key=lambda x: x[1], reverse=True):\n",
    "    print(_count, '\\t', _label)"
   ]
  },
  {
   "cell_type": "code",
   "execution_count": 159,
   "metadata": {},
   "outputs": [
    {
     "name": "stdout",
     "output_type": "stream",
     "text": [
      "--------------------------------\n",
      "pill\n",
      "--------------------------------\n",
      "1 \t SHARING ADVICE\n",
      "1 \t SEEKING EXPERIENCES\n",
      "1 \t SHARING/DESCRIBING ADDITIONAL RESEARCH\n",
      "1 \t SHARING PERSONAL EXPERIENCES\n",
      "1 \t SHARING PERSONAL BACKGROUND\n",
      "1 \t SHARING CAUSAL REASONING / HYPOTHESIZING\n",
      "1 \t SEEKING INFORMATION\n",
      "\n",
      "--------------------------------\n",
      "iud\n",
      "--------------------------------\n",
      "2 \t SEEKING INFORMATION\n",
      "1 \t SEEKING EXPERIENCES\n",
      "1 \t SHARING INFORMATION\n",
      "1 \t SHARING SECONDHAND EXPERIENCES\n",
      "1 \t SHARING FUTURE PLANS\n",
      "\n",
      "--------------------------------\n",
      "implant\n",
      "--------------------------------\n",
      "2 \t SHARING PERSONAL EXPERIENCES\n",
      "1 \t SHARING FUTURE PLANS\n",
      "1 \t SEEKING EMOTIONAL SUPPORT\n",
      "1 \t SHARING CAUSAL REASONING / HYPOTHESIZING\n",
      "\n"
     ]
    }
   ],
   "source": [
    "for _method, _label_count_dict in method_label_count_dict.items():\n",
    "    print('--------------------------------')\n",
    "    print(_method)\n",
    "    print('--------------------------------')\n",
    "    for _label, _count in sorted(_label_count_dict.items(), key=lambda x: x[1], reverse=True):\n",
    "        print(_count, '\\t', _label)\n",
    "    print()"
   ]
  },
  {
   "cell_type": "code",
   "execution_count": 160,
   "metadata": {},
   "outputs": [
    {
     "name": "stdout",
     "output_type": "stream",
     "text": [
      "------------------------------\n",
      "percent of posts with label\n",
      "------------------------------\n",
      "\n",
      "30.0% \t 6 \t NONE\n",
      "15.0% \t 3 \t SHARING PERSONAL EXPERIENCES\n",
      "15.0% \t 3 \t SEEKING INFORMATION\n",
      "10.0% \t 2 \t SEEKING EXPERIENCES\n",
      "10.0% \t 2 \t SHARING CAUSAL REASONING / HYPOTHESIZING\n",
      "10.0% \t 2 \t SHARING FUTURE PLANS\n",
      "5.0% \t 1 \t SHARING ADVICE\n",
      "5.0% \t 1 \t SHARING/DESCRIBING ADDITIONAL RESEARCH\n",
      "5.0% \t 1 \t SHARING PERSONAL BACKGROUND\n",
      "5.0% \t 1 \t SHARING INFORMATION\n",
      "5.0% \t 1 \t SHARING SECONDHAND EXPERIENCES\n",
      "5.0% \t 1 \t SEEKING EMOTIONAL SUPPORT\n"
     ]
    }
   ],
   "source": [
    "label_percent_dict = {_label: _count/float(len(examples)) for _label, _count in label_count_dict.items()}\n",
    "\n",
    "print('------------------------------')\n",
    "print('percent of posts with label')\n",
    "print('------------------------------')\n",
    "print()\n",
    "for _label, _percent in sorted(label_percent_dict.items(), key=lambda x: x[1], reverse=True):\n",
    "    print(str(round(_percent*100, 1)) + '%', '\\t', label_count_dict[_label], '\\t', _label)"
   ]
  },
  {
   "cell_type": "code",
   "execution_count": 161,
   "metadata": {},
   "outputs": [
    {
     "name": "stdout",
     "output_type": "stream",
     "text": [
      "------------------------------------------\n",
      "SHARING CAUSAL REASONING / HYPOTHESIZING\n",
      "------------------------------------------\n",
      "\n",
      "It lasted for a few weeks but I figured it was because of the change .\n",
      "But I know it will probably take up to 6 months for my body to re-adjust.\n"
     ]
    }
   ],
   "source": [
    "for _label, _texts in label_texts_dict.items():\n",
    "    if _label == 'SHARING CAUSAL REASONING / HYPOTHESIZING':\n",
    "        print('------------------------------------------')\n",
    "        print(_label)\n",
    "        print('------------------------------------------')\n",
    "        print()\n",
    "        for e in _texts:\n",
    "            print(' '.join(e.split()))"
   ]
  },
  {
   "cell_type": "markdown",
   "metadata": {},
   "source": [
    "<br><br>\n",
    "\n",
    "# Explore REDDIT comments"
   ]
  },
  {
   "cell_type": "code",
   "execution_count": 162,
   "metadata": {},
   "outputs": [
    {
     "name": "stdout",
     "output_type": "stream",
     "text": [
      "20\n"
     ]
    }
   ],
   "source": [
    "examples = db.get_dataset('discourse-reddit-comments')\n",
    "\n",
    "print(len(examples))"
   ]
  },
  {
   "cell_type": "code",
   "execution_count": 163,
   "metadata": {},
   "outputs": [
    {
     "name": "stdout",
     "output_type": "stream",
     "text": [
      "------------------------------------------------------\n",
      "total number of posts labeled\n",
      "------------------------------------------------------\n",
      "\n",
      "6 \t NONE\n",
      "6 \t SHARING INFORMATION\n",
      "3 \t SHARING ADVICE\n",
      "3 \t SHARING PERSONAL EXPERIENCES\n",
      "2 \t SHARING/DESCRIBING ADDITIONAL RESEARCH\n",
      "1 \t SHARING OPINIONS AND PREFERENCES\n"
     ]
    }
   ],
   "source": [
    "label_count_dict = defaultdict(int)\n",
    "method_label_count_dict = defaultdict(lambda: defaultdict(int))\n",
    "label_texts_dict = defaultdict(list)\n",
    "for e in examples:\n",
    "    for _label in e['accept']:\n",
    "        label_count_dict[_label] += 1\n",
    "        method_label_count_dict[e['meta']['Method']][_label] += 1\n",
    "        label_texts_dict[_label].append(e['text'])\n",
    "    if len(e['accept']) < 1:\n",
    "        label_count_dict['NONE'] += 1\n",
    "        label_texts_dict['NONE'].append(e['text'])\n",
    "\n",
    "print('------------------------------------------------------')\n",
    "print('total number of posts labeled')\n",
    "print('------------------------------------------------------')\n",
    "print()\n",
    "for _label, _count in sorted(label_count_dict.items(), key=lambda x: x[1], reverse=True):\n",
    "    print(_count, '\\t', _label)"
   ]
  },
  {
   "cell_type": "code",
   "execution_count": 164,
   "metadata": {},
   "outputs": [
    {
     "name": "stdout",
     "output_type": "stream",
     "text": [
      "--------------------------------\n",
      "iud\n",
      "--------------------------------\n",
      "4 \t SHARING INFORMATION\n",
      "1 \t SHARING PERSONAL EXPERIENCES\n",
      "1 \t SHARING/DESCRIBING ADDITIONAL RESEARCH\n",
      "\n",
      "--------------------------------\n",
      "implant\n",
      "--------------------------------\n",
      "2 \t SHARING INFORMATION\n",
      "1 \t SHARING OPINIONS AND PREFERENCES\n",
      "1 \t SHARING ADVICE\n",
      "1 \t SHARING PERSONAL EXPERIENCES\n",
      "\n",
      "--------------------------------\n",
      "pill\n",
      "--------------------------------\n",
      "2 \t SHARING ADVICE\n",
      "1 \t SHARING/DESCRIBING ADDITIONAL RESEARCH\n",
      "1 \t SHARING PERSONAL EXPERIENCES\n",
      "\n"
     ]
    }
   ],
   "source": [
    "for _method, _label_count_dict in method_label_count_dict.items():\n",
    "    print('--------------------------------')\n",
    "    print(_method)\n",
    "    print('--------------------------------')\n",
    "    for _label, _count in sorted(_label_count_dict.items(), key=lambda x: x[1], reverse=True):\n",
    "        print(_count, '\\t', _label)\n",
    "    print()"
   ]
  },
  {
   "cell_type": "code",
   "execution_count": 165,
   "metadata": {},
   "outputs": [
    {
     "name": "stdout",
     "output_type": "stream",
     "text": [
      "------------------------------\n",
      "percent of posts with label\n",
      "------------------------------\n",
      "\n",
      "30.0% \t 6 \t NONE\n",
      "30.0% \t 6 \t SHARING INFORMATION\n",
      "15.0% \t 3 \t SHARING ADVICE\n",
      "15.0% \t 3 \t SHARING PERSONAL EXPERIENCES\n",
      "10.0% \t 2 \t SHARING/DESCRIBING ADDITIONAL RESEARCH\n",
      "5.0% \t 1 \t SHARING OPINIONS AND PREFERENCES\n"
     ]
    }
   ],
   "source": [
    "label_percent_dict = {_label: _count/float(len(examples)) for _label, _count in label_count_dict.items()}\n",
    "\n",
    "print('------------------------------')\n",
    "print('percent of posts with label')\n",
    "print('------------------------------')\n",
    "print()\n",
    "for _label, _percent in sorted(label_percent_dict.items(), key=lambda x: x[1], reverse=True):\n",
    "    print(str(round(_percent*100, 1)) + '%', '\\t', label_count_dict[_label], '\\t', _label)"
   ]
  },
  {
   "cell_type": "code",
   "execution_count": 166,
   "metadata": {},
   "outputs": [
    {
     "name": "stdout",
     "output_type": "stream",
     "text": [
      "------------------------------------------\n",
      "SHARING/DESCRIBING ADDITIONAL RESEARCH\n",
      "------------------------------------------\n",
      "\n",
      "My doctor hasn't been concerned by it.\n",
      "Reading/ watching experience stories has become my nightly routine lol\n"
     ]
    }
   ],
   "source": [
    "for _label, _texts in label_texts_dict.items():\n",
    "    if _label == 'SHARING/DESCRIBING ADDITIONAL RESEARCH':\n",
    "        print('------------------------------------------')\n",
    "        print(_label)\n",
    "        print('------------------------------------------')\n",
    "        print()\n",
    "        for e in _texts:\n",
    "            print(' '.join(e.split()))"
   ]
  },
  {
   "cell_type": "markdown",
   "metadata": {},
   "source": [
    "<br><br>\n",
    "\n",
    "# Explore TWITTER posts"
   ]
  },
  {
   "cell_type": "code",
   "execution_count": 167,
   "metadata": {},
   "outputs": [
    {
     "name": "stdout",
     "output_type": "stream",
     "text": [
      "20\n"
     ]
    }
   ],
   "source": [
    "examples = db.get_dataset('discourse-twitter-posts')\n",
    "\n",
    "print(len(examples))"
   ]
  },
  {
   "cell_type": "code",
   "execution_count": 168,
   "metadata": {},
   "outputs": [
    {
     "name": "stdout",
     "output_type": "stream",
     "text": [
      "------------------------------------------------------\n",
      "total number of posts labeled\n",
      "------------------------------------------------------\n",
      "\n",
      "5 \t SHARING/DESCRIBING ADDITIONAL RESEARCH\n",
      "4 \t SHARING PERSONAL EXPERIENCES\n",
      "3 \t NONE\n",
      "2 \t SHARING FUTURE PLANS\n",
      "2 \t META DISCUSSION\n",
      "2 \t SHARING ADVICE\n",
      "2 \t SHARING OPINIONS AND PREFERENCES\n",
      "2 \t SHARING INFORMATION\n",
      "1 \t SEEKING EMOTIONAL SUPPORT\n",
      "1 \t SEEKING INFORMATION\n",
      "1 \t SHARING SECONDHAND EXPERIENCES\n",
      "1 \t SHARING PERSONAL BACKGROUND\n"
     ]
    }
   ],
   "source": [
    "label_count_dict = defaultdict(int)\n",
    "method_label_count_dict = defaultdict(lambda: defaultdict(int))\n",
    "label_texts_dict = defaultdict(list)\n",
    "for e in examples:\n",
    "    for _label in e['accept']:\n",
    "        label_count_dict[_label] += 1\n",
    "        method_label_count_dict[e['meta']['Method']][_label] += 1\n",
    "        label_texts_dict[_label].append(e['text'])\n",
    "    if len(e['accept']) < 1:\n",
    "        label_count_dict['NONE'] += 1\n",
    "        label_texts_dict['NONE'].append(e['text'])\n",
    "\n",
    "print('------------------------------------------------------')\n",
    "print('total number of posts labeled')\n",
    "print('------------------------------------------------------')\n",
    "print()\n",
    "for _label, _count in sorted(label_count_dict.items(), key=lambda x: x[1], reverse=True):\n",
    "    print(_count, '\\t', _label)"
   ]
  },
  {
   "cell_type": "code",
   "execution_count": 169,
   "metadata": {},
   "outputs": [
    {
     "name": "stdout",
     "output_type": "stream",
     "text": [
      "--------------------------------\n",
      "iud\n",
      "--------------------------------\n",
      "2 \t SHARING PERSONAL EXPERIENCES\n",
      "1 \t SHARING FUTURE PLANS\n",
      "1 \t META DISCUSSION\n",
      "1 \t SHARING OPINIONS AND PREFERENCES\n",
      "1 \t SHARING PERSONAL BACKGROUND\n",
      "1 \t SHARING INFORMATION\n",
      "1 \t SHARING/DESCRIBING ADDITIONAL RESEARCH\n",
      "\n",
      "--------------------------------\n",
      "pill\n",
      "--------------------------------\n",
      "2 \t SHARING/DESCRIBING ADDITIONAL RESEARCH\n",
      "1 \t META DISCUSSION\n",
      "1 \t SEEKING INFORMATION\n",
      "\n",
      "--------------------------------\n",
      "implant\n",
      "--------------------------------\n",
      "2 \t SHARING PERSONAL EXPERIENCES\n",
      "2 \t SHARING/DESCRIBING ADDITIONAL RESEARCH\n",
      "2 \t SHARING ADVICE\n",
      "1 \t SEEKING EMOTIONAL SUPPORT\n",
      "1 \t SHARING FUTURE PLANS\n",
      "1 \t SHARING OPINIONS AND PREFERENCES\n",
      "1 \t SHARING SECONDHAND EXPERIENCES\n",
      "1 \t SHARING INFORMATION\n",
      "\n"
     ]
    }
   ],
   "source": [
    "for _method, _label_count_dict in method_label_count_dict.items():\n",
    "    print('--------------------------------')\n",
    "    print(_method)\n",
    "    print('--------------------------------')\n",
    "    for _label, _count in sorted(_label_count_dict.items(), key=lambda x: x[1], reverse=True):\n",
    "        print(_count, '\\t', _label)\n",
    "    print()"
   ]
  },
  {
   "cell_type": "code",
   "execution_count": 170,
   "metadata": {},
   "outputs": [
    {
     "name": "stdout",
     "output_type": "stream",
     "text": [
      "------------------------------\n",
      "percent of posts with label\n",
      "------------------------------\n",
      "\n",
      "25.0% \t 5 \t SHARING/DESCRIBING ADDITIONAL RESEARCH\n",
      "20.0% \t 4 \t SHARING PERSONAL EXPERIENCES\n",
      "15.0% \t 3 \t NONE\n",
      "10.0% \t 2 \t SHARING FUTURE PLANS\n",
      "10.0% \t 2 \t META DISCUSSION\n",
      "10.0% \t 2 \t SHARING ADVICE\n",
      "10.0% \t 2 \t SHARING OPINIONS AND PREFERENCES\n",
      "10.0% \t 2 \t SHARING INFORMATION\n",
      "5.0% \t 1 \t SEEKING EMOTIONAL SUPPORT\n",
      "5.0% \t 1 \t SEEKING INFORMATION\n",
      "5.0% \t 1 \t SHARING SECONDHAND EXPERIENCES\n",
      "5.0% \t 1 \t SHARING PERSONAL BACKGROUND\n"
     ]
    }
   ],
   "source": [
    "label_percent_dict = {_label: _count/float(len(examples)) for _label, _count in label_count_dict.items()}\n",
    "\n",
    "print('------------------------------')\n",
    "print('percent of posts with label')\n",
    "print('------------------------------')\n",
    "print()\n",
    "for _label, _percent in sorted(label_percent_dict.items(), key=lambda x: x[1], reverse=True):\n",
    "    print(str(round(_percent*100, 1)) + '%', '\\t', label_count_dict[_label], '\\t', _label)"
   ]
  },
  {
   "cell_type": "code",
   "execution_count": 171,
   "metadata": {},
   "outputs": [
    {
     "name": "stdout",
     "output_type": "stream",
     "text": [
      "------------------------------------------\n",
      "SHARING INFORMATION\n",
      "------------------------------------------\n",
      "\n",
      "It cause a lot of hormonal imbalances.\n",
      "http://t.co/fWeL2X2M IUD Beats Pill at Preventing Pregnancy - WebMD: http://t.co/vpcDmI3X IUD Beats… http://t.co/UvM4gSDM\n"
     ]
    }
   ],
   "source": [
    "for _label, _texts in label_texts_dict.items():\n",
    "    if _label == 'SHARING INFORMATION':\n",
    "        print('------------------------------------------')\n",
    "        print(_label)\n",
    "        print('------------------------------------------')\n",
    "        print()\n",
    "        for e in _texts:\n",
    "            print(' '.join(e.split()))"
   ]
  },
  {
   "cell_type": "markdown",
   "metadata": {},
   "source": [
    "<br><br>\n",
    "\n",
    "# Explore Twitter REPLIES"
   ]
  },
  {
   "cell_type": "code",
   "execution_count": 172,
   "metadata": {},
   "outputs": [
    {
     "name": "stdout",
     "output_type": "stream",
     "text": [
      "20\n"
     ]
    }
   ],
   "source": [
    "examples = db.get_dataset('discourse-twitter-replies')\n",
    "\n",
    "print(len(examples))"
   ]
  },
  {
   "cell_type": "code",
   "execution_count": 173,
   "metadata": {},
   "outputs": [
    {
     "name": "stdout",
     "output_type": "stream",
     "text": [
      "------------------------------------------------------\n",
      "total number of posts labeled\n",
      "------------------------------------------------------\n",
      "\n",
      "8 \t SHARING PERSONAL EXPERIENCES\n",
      "5 \t NONE\n",
      "3 \t SHARING PERSONAL BACKGROUND\n",
      "3 \t META DISCUSSION\n",
      "2 \t SHARING OPINIONS AND PREFERENCES\n",
      "2 \t SHARING INFORMATION\n",
      "1 \t SHARING FUTURE PLANS\n"
     ]
    }
   ],
   "source": [
    "label_count_dict = defaultdict(int)\n",
    "method_label_count_dict = defaultdict(lambda: defaultdict(int))\n",
    "label_texts_dict = defaultdict(list)\n",
    "for e in examples:\n",
    "    for _label in e['accept']:\n",
    "        label_count_dict[_label] += 1\n",
    "        method_label_count_dict[e['meta']['Method']][_label] += 1\n",
    "        label_texts_dict[_label].append(e['text'])\n",
    "    if len(e['accept']) < 1:\n",
    "        label_count_dict['NONE'] += 1\n",
    "        label_texts_dict['NONE'].append(e['text'])\n",
    "\n",
    "print('------------------------------------------------------')\n",
    "print('total number of posts labeled')\n",
    "print('------------------------------------------------------')\n",
    "print()\n",
    "for _label, _count in sorted(label_count_dict.items(), key=lambda x: x[1], reverse=True):\n",
    "    print(_count, '\\t', _label)"
   ]
  },
  {
   "cell_type": "code",
   "execution_count": 174,
   "metadata": {},
   "outputs": [
    {
     "name": "stdout",
     "output_type": "stream",
     "text": [
      "--------------------------------\n",
      "implant\n",
      "--------------------------------\n",
      "4 \t SHARING PERSONAL EXPERIENCES\n",
      "3 \t SHARING PERSONAL BACKGROUND\n",
      "1 \t SHARING OPINIONS AND PREFERENCES\n",
      "1 \t SHARING INFORMATION\n",
      "1 \t SHARING FUTURE PLANS\n",
      "\n",
      "--------------------------------\n",
      "pill\n",
      "--------------------------------\n",
      "3 \t SHARING PERSONAL EXPERIENCES\n",
      "2 \t META DISCUSSION\n",
      "1 \t SHARING OPINIONS AND PREFERENCES\n",
      "\n",
      "--------------------------------\n",
      "iud\n",
      "--------------------------------\n",
      "1 \t META DISCUSSION\n",
      "1 \t SHARING INFORMATION\n",
      "1 \t SHARING PERSONAL EXPERIENCES\n",
      "\n"
     ]
    }
   ],
   "source": [
    "for _method, _label_count_dict in method_label_count_dict.items():\n",
    "    print('--------------------------------')\n",
    "    print(_method)\n",
    "    print('--------------------------------')\n",
    "    for _label, _count in sorted(_label_count_dict.items(), key=lambda x: x[1], reverse=True):\n",
    "        print(_count, '\\t', _label)\n",
    "    print()"
   ]
  },
  {
   "cell_type": "code",
   "execution_count": 175,
   "metadata": {},
   "outputs": [
    {
     "name": "stdout",
     "output_type": "stream",
     "text": [
      "------------------------------\n",
      "percent of posts with label\n",
      "------------------------------\n",
      "\n",
      "40.0% \t 8 \t SHARING PERSONAL EXPERIENCES\n",
      "25.0% \t 5 \t NONE\n",
      "15.0% \t 3 \t SHARING PERSONAL BACKGROUND\n",
      "15.0% \t 3 \t META DISCUSSION\n",
      "10.0% \t 2 \t SHARING OPINIONS AND PREFERENCES\n",
      "10.0% \t 2 \t SHARING INFORMATION\n",
      "5.0% \t 1 \t SHARING FUTURE PLANS\n"
     ]
    }
   ],
   "source": [
    "label_percent_dict = {_label: _count/float(len(examples)) for _label, _count in label_count_dict.items()}\n",
    "\n",
    "print('------------------------------')\n",
    "print('percent of posts with label')\n",
    "print('------------------------------')\n",
    "print()\n",
    "for _label, _percent in sorted(label_percent_dict.items(), key=lambda x: x[1], reverse=True):\n",
    "    print(str(round(_percent*100, 1)) + '%', '\\t', label_count_dict[_label], '\\t', _label)"
   ]
  },
  {
   "cell_type": "code",
   "execution_count": 176,
   "metadata": {},
   "outputs": [
    {
     "name": "stdout",
     "output_type": "stream",
     "text": [
      "------------------------------------------\n",
      "SHARING OPINIONS AND PREFERENCES\n",
      "------------------------------------------\n",
      "\n",
      "oh helll nahhhhhh I had one with hormones and that shit was horrible.\n",
      "Tht bc pill is a girl's bff, ha\n"
     ]
    }
   ],
   "source": [
    "for _label, _texts in label_texts_dict.items():\n",
    "    if _label == 'SHARING OPINIONS AND PREFERENCES':\n",
    "        print('------------------------------------------')\n",
    "        print(_label)\n",
    "        print('------------------------------------------')\n",
    "        print()\n",
    "        for e in _texts:\n",
    "            print(' '.join(e.split()))"
   ]
  },
  {
   "cell_type": "markdown",
   "metadata": {},
   "source": [
    "<br><br><br><br>\n",
    "\n",
    "# Explore WebMD reviews"
   ]
  },
  {
   "cell_type": "code",
   "execution_count": 177,
   "metadata": {},
   "outputs": [
    {
     "name": "stdout",
     "output_type": "stream",
     "text": [
      "20\n"
     ]
    }
   ],
   "source": [
    "examples = db.get_dataset('discourse-webmd-reviews')\n",
    "\n",
    "print(len(examples))"
   ]
  },
  {
   "cell_type": "code",
   "execution_count": 178,
   "metadata": {},
   "outputs": [
    {
     "name": "stdout",
     "output_type": "stream",
     "text": [
      "------------------------------------------------------\n",
      "total number of posts labeled\n",
      "------------------------------------------------------\n",
      "\n",
      "15 \t SHARING PERSONAL EXPERIENCES\n",
      "5 \t SHARING OPINIONS AND PREFERENCES\n",
      "3 \t SHARING/DESCRIBING ADDITIONAL RESEARCH\n",
      "1 \t SHARING PERSONAL BACKGROUND\n",
      "1 \t NONE\n"
     ]
    }
   ],
   "source": [
    "label_count_dict = defaultdict(int)\n",
    "method_label_count_dict = defaultdict(lambda: defaultdict(int))\n",
    "label_texts_dict = defaultdict(list)\n",
    "for e in examples:\n",
    "    for _label in e['accept']:\n",
    "        label_count_dict[_label] += 1\n",
    "        method_label_count_dict[e['meta']['Method']][_label] += 1\n",
    "        label_texts_dict[_label].append(e['text'])\n",
    "    if len(e['accept']) < 1:\n",
    "        label_count_dict['NONE'] += 1\n",
    "        label_texts_dict['NONE'].append(e['text'])\n",
    "\n",
    "print('------------------------------------------------------')\n",
    "print('total number of posts labeled')\n",
    "print('------------------------------------------------------')\n",
    "print()\n",
    "for _label, _count in sorted(label_count_dict.items(), key=lambda x: x[1], reverse=True):\n",
    "    print(_count, '\\t', _label)"
   ]
  },
  {
   "cell_type": "code",
   "execution_count": 179,
   "metadata": {},
   "outputs": [
    {
     "name": "stdout",
     "output_type": "stream",
     "text": [
      "--------------------------------\n",
      "pill\n",
      "--------------------------------\n",
      "6 \t SHARING PERSONAL EXPERIENCES\n",
      "1 \t SHARING/DESCRIBING ADDITIONAL RESEARCH\n",
      "1 \t SHARING PERSONAL BACKGROUND\n",
      "\n",
      "--------------------------------\n",
      "iud\n",
      "--------------------------------\n",
      "5 \t SHARING PERSONAL EXPERIENCES\n",
      "3 \t SHARING OPINIONS AND PREFERENCES\n",
      "2 \t SHARING/DESCRIBING ADDITIONAL RESEARCH\n",
      "\n",
      "--------------------------------\n",
      "implant\n",
      "--------------------------------\n",
      "4 \t SHARING PERSONAL EXPERIENCES\n",
      "2 \t SHARING OPINIONS AND PREFERENCES\n",
      "\n"
     ]
    }
   ],
   "source": [
    "for _method, _label_count_dict in method_label_count_dict.items():\n",
    "    print('--------------------------------')\n",
    "    print(_method)\n",
    "    print('--------------------------------')\n",
    "    for _label, _count in sorted(_label_count_dict.items(), key=lambda x: x[1], reverse=True):\n",
    "        print(_count, '\\t', _label)\n",
    "    print()"
   ]
  },
  {
   "cell_type": "code",
   "execution_count": 180,
   "metadata": {},
   "outputs": [
    {
     "name": "stdout",
     "output_type": "stream",
     "text": [
      "------------------------------\n",
      "percent of posts with label\n",
      "------------------------------\n",
      "\n",
      "75.0% \t 15 \t SHARING PERSONAL EXPERIENCES\n",
      "25.0% \t 5 \t SHARING OPINIONS AND PREFERENCES\n",
      "15.0% \t 3 \t SHARING/DESCRIBING ADDITIONAL RESEARCH\n",
      "5.0% \t 1 \t SHARING PERSONAL BACKGROUND\n",
      "5.0% \t 1 \t NONE\n"
     ]
    }
   ],
   "source": [
    "label_percent_dict = {_label: _count/float(len(examples)) for _label, _count in label_count_dict.items()}\n",
    "\n",
    "print('------------------------------')\n",
    "print('percent of posts with label')\n",
    "print('------------------------------')\n",
    "print()\n",
    "for _label, _percent in sorted(label_percent_dict.items(), key=lambda x: x[1], reverse=True):\n",
    "    print(str(round(_percent*100, 1)) + '%', '\\t', label_count_dict[_label], '\\t', _label)"
   ]
  },
  {
   "cell_type": "code",
   "execution_count": 181,
   "metadata": {},
   "outputs": [
    {
     "name": "stdout",
     "output_type": "stream",
     "text": [
      "------------------------------------------\n",
      "SHARING/DESCRIBING ADDITIONAL RESEARCH\n",
      "------------------------------------------\n",
      "\n",
      "So if anyone is wondering, I have read all of these comments and they all apply.bloating, nausea, weight/appetite gain (it's been 12 days) extreme rage, breat tenderness and lumps.\n",
      "So i went back again, gave me different meds, which i couldnt take upset stomach along with my regular symptoms then i kept having this pain, and hardness in my lower left abdomen, painful sex, doctor said my cervix and uterus were swollen, cramping, just horrible pain and very annoying.\n",
      "I did not research until after placement...\n"
     ]
    }
   ],
   "source": [
    "for _label, _texts in label_texts_dict.items():\n",
    "    if _label == 'SHARING/DESCRIBING ADDITIONAL RESEARCH':\n",
    "        print('------------------------------------------')\n",
    "        print(_label)\n",
    "        print('------------------------------------------')\n",
    "        print()\n",
    "        for e in _texts:\n",
    "            print(' '.join(e.split()))"
   ]
  },
  {
   "cell_type": "markdown",
   "metadata": {},
   "source": [
    "<br><br><br><br>\n",
    "\n",
    "---\n",
    "\n",
    "<br><br><br><br>\n",
    "\n",
    "# Backup labeling into a CSV"
   ]
  },
  {
   "cell_type": "code",
   "execution_count": 182,
   "metadata": {},
   "outputs": [],
   "source": [
    "reddit_post_examples = db.get_dataset('discourse-reddit-posts')\n",
    "reddit_comment_examples = db.get_dataset('discourse-reddit-comments')\n",
    "twitter_post_examples = db.get_dataset('discourse-twitter-posts')\n",
    "twitter_replies_examples = db.get_dataset('discourse-twitter-replies')\n",
    "webmd_reviews_examples = db.get_dataset('discourse-webmd-reviews')"
   ]
  },
  {
   "cell_type": "code",
   "execution_count": 183,
   "metadata": {},
   "outputs": [
    {
     "data": {
      "text/plain": [
       "(20, 20, 20, 20, 20)"
      ]
     },
     "execution_count": 183,
     "metadata": {},
     "output_type": "execute_result"
    }
   ],
   "source": [
    "len(reddit_post_examples), len(reddit_comment_examples), len(twitter_post_examples), len(twitter_replies_examples), len(webmd_reviews_examples)"
   ]
  },
  {
   "cell_type": "code",
   "execution_count": 184,
   "metadata": {},
   "outputs": [],
   "source": [
    "label_dicts = []\n",
    "for e in reddit_post_examples + reddit_comment_examples + twitter_post_examples + twitter_replies_examples + webmd_reviews_examples:\n",
    "    for _label in e['accept']:\n",
    "        label_dicts.append({'Source': e['meta']['Source'],\n",
    "                            'ID': e['meta']['ID'],\n",
    "                            'Label': _label,\n",
    "                            'Text': e['text']})\n",
    "    if len(e['accept']) == 0:\n",
    "        label_dicts.append({'Source': e['meta']['Source'],\n",
    "                            'ID': e['meta']['ID'],\n",
    "                            'Label': 'NONE',\n",
    "                            'Text': e['text']})\n",
    "label_df = pd.DataFrame(label_dicts)"
   ]
  },
  {
   "cell_type": "code",
   "execution_count": 185,
   "metadata": {},
   "outputs": [
    {
     "data": {
      "text/plain": [
       "120"
      ]
     },
     "execution_count": 185,
     "metadata": {},
     "output_type": "execute_result"
    }
   ],
   "source": [
    "len(label_df)"
   ]
  },
  {
   "cell_type": "code",
   "execution_count": 186,
   "metadata": {},
   "outputs": [
    {
     "data": {
      "text/plain": [
       "SHARING PERSONAL EXPERIENCES                33\n",
       "NONE                                        21\n",
       "SHARING/DESCRIBING ADDITIONAL RESEARCH      11\n",
       "SHARING INFORMATION                         11\n",
       "SHARING OPINIONS AND PREFERENCES            10\n",
       "SHARING ADVICE                               6\n",
       "SHARING PERSONAL BACKGROUND                  6\n",
       "SHARING FUTURE PLANS                         5\n",
       "META DISCUSSION                              5\n",
       "SEEKING INFORMATION                          4\n",
       "SEEKING EXPERIENCES                          2\n",
       "SHARING SECONDHAND EXPERIENCES               2\n",
       "SHARING CAUSAL REASONING / HYPOTHESIZING     2\n",
       "SEEKING EMOTIONAL SUPPORT                    2\n",
       "Name: Label, dtype: int64"
      ]
     },
     "execution_count": 186,
     "metadata": {},
     "output_type": "execute_result"
    }
   ],
   "source": [
    "label_df['Label'].value_counts()"
   ]
  },
  {
   "cell_type": "code",
   "execution_count": 187,
   "metadata": {},
   "outputs": [
    {
     "data": {
      "text/plain": [
       "twitter-posts      26\n",
       "webmd-reviews      25\n",
       "reddit-posts       24\n",
       "twitter-replies    24\n",
       "reddit-comments    21\n",
       "Name: Source, dtype: int64"
      ]
     },
     "execution_count": 187,
     "metadata": {},
     "output_type": "execute_result"
    }
   ],
   "source": [
    "label_df['Source'].value_counts()"
   ]
  },
  {
   "cell_type": "code",
   "execution_count": 188,
   "metadata": {},
   "outputs": [
    {
     "data": {
      "text/html": [
       "<div>\n",
       "<style scoped>\n",
       "    .dataframe tbody tr th:only-of-type {\n",
       "        vertical-align: middle;\n",
       "    }\n",
       "\n",
       "    .dataframe tbody tr th {\n",
       "        vertical-align: top;\n",
       "    }\n",
       "\n",
       "    .dataframe thead th {\n",
       "        text-align: right;\n",
       "    }\n",
       "</style>\n",
       "<table border=\"1\" class=\"dataframe\">\n",
       "  <thead>\n",
       "    <tr style=\"text-align: right;\">\n",
       "      <th></th>\n",
       "      <th>Source</th>\n",
       "      <th>ID</th>\n",
       "      <th>Label</th>\n",
       "      <th>Text</th>\n",
       "    </tr>\n",
       "  </thead>\n",
       "  <tbody>\n",
       "    <tr>\n",
       "      <th>13</th>\n",
       "      <td>reddit-posts</td>\n",
       "      <td>dcgtjd</td>\n",
       "      <td>SHARING FUTURE PLANS</td>\n",
       "      <td>I have an implant scheduled in three days and ...</td>\n",
       "    </tr>\n",
       "    <tr>\n",
       "      <th>70</th>\n",
       "      <td>twitter-posts</td>\n",
       "      <td>299305881168904200</td>\n",
       "      <td>NONE</td>\n",
       "      <td>I cannot remember the doctors name who placed ...</td>\n",
       "    </tr>\n",
       "    <tr>\n",
       "      <th>95</th>\n",
       "      <td>webmd-reviews</td>\n",
       "      <td>w19433</td>\n",
       "      <td>SHARING/DESCRIBING ADDITIONAL RESEARCH</td>\n",
       "      <td>So if anyone is wondering, I have read all of ...</td>\n",
       "    </tr>\n",
       "  </tbody>\n",
       "</table>\n",
       "</div>"
      ],
      "text/plain": [
       "           Source                  ID                                   Label  \\\n",
       "13   reddit-posts              dcgtjd                    SHARING FUTURE PLANS   \n",
       "70  twitter-posts  299305881168904200                                    NONE   \n",
       "95  webmd-reviews              w19433  SHARING/DESCRIBING ADDITIONAL RESEARCH   \n",
       "\n",
       "                                                 Text  \n",
       "13  I have an implant scheduled in three days and ...  \n",
       "70  I cannot remember the doctors name who placed ...  \n",
       "95  So if anyone is wondering, I have read all of ...  "
      ]
     },
     "execution_count": 188,
     "metadata": {},
     "output_type": "execute_result"
    }
   ],
   "source": [
    "label_df.sample(3)"
   ]
  },
  {
   "cell_type": "code",
   "execution_count": 189,
   "metadata": {},
   "outputs": [
    {
     "name": "stdout",
     "output_type": "stream",
     "text": [
      "Nexplanon Contraceptive Implants The New Alternative Ways of ...: 1 day 20 hr ago View in Crawl 4.\n",
      "Nope not at all!\n",
      "Thanks in advance!\n",
      "I'd imagine not.\n",
      "I usually can't do that.\n",
      "but it didn't!!!\n",
      "I want to reach out and offer help, but I’m not sure how to do that.\n",
      "I didn’t know how much of a whiny baby I could be.\n",
      "Yeah, I don't blame you.\n",
      "Not sure though as they aren't in clear packaging.\n"
     ]
    }
   ],
   "source": [
    "for i, r in label_df[label_df['Label'] == 'NONE'].sample(10).iterrows():\n",
    "    print(' '.join(r['Text'].split()))"
   ]
  },
  {
   "cell_type": "code",
   "execution_count": 190,
   "metadata": {},
   "outputs": [],
   "source": [
    "label_df.to_csv('/Users/maria/Documents/data/birth-control/labeling/label-discourse/labeled_by_maria.all.csv')"
   ]
  },
  {
   "cell_type": "markdown",
   "metadata": {},
   "source": [
    "<br><br><br><br>\n",
    "\n",
    "---\n",
    "\n",
    "<br><br><br><br>\n",
    "\n",
    "# Try training a simple model"
   ]
  },
  {
   "cell_type": "code",
   "execution_count": 191,
   "metadata": {},
   "outputs": [
    {
     "data": {
      "text/plain": [
       "11993"
      ]
     },
     "execution_count": 191,
     "metadata": {},
     "output_type": "execute_result"
    }
   ],
   "source": [
    "data_directory_path   = '/Users/maria/Documents/data/birth-control'\n",
    "test_df = pd.read_csv(data_directory_path + '/labeling/label-discourse/sampled-sentences.test.csv')\n",
    "len(test_df)"
   ]
  },
  {
   "cell_type": "code",
   "execution_count": 192,
   "metadata": {},
   "outputs": [
    {
     "data": {
      "text/html": [
       "<div>\n",
       "<style scoped>\n",
       "    .dataframe tbody tr th:only-of-type {\n",
       "        vertical-align: middle;\n",
       "    }\n",
       "\n",
       "    .dataframe tbody tr th {\n",
       "        vertical-align: top;\n",
       "    }\n",
       "\n",
       "    .dataframe thead th {\n",
       "        text-align: right;\n",
       "    }\n",
       "</style>\n",
       "<table border=\"1\" class=\"dataframe\">\n",
       "  <thead>\n",
       "    <tr style=\"text-align: right;\">\n",
       "      <th></th>\n",
       "      <th>Unnamed: 0</th>\n",
       "      <th>text</th>\n",
       "      <th>meta</th>\n",
       "    </tr>\n",
       "  </thead>\n",
       "  <tbody>\n",
       "    <tr>\n",
       "      <th>8772</th>\n",
       "      <td>8772</td>\n",
       "      <td>It doesn't work in the hormones</td>\n",
       "      <td>{'ID': 1121445910016331783, 'Source': 'twitter...</td>\n",
       "    </tr>\n",
       "    <tr>\n",
       "      <th>7566</th>\n",
       "      <td>7566</td>\n",
       "      <td>I am breaking out really bad ever since switch...</td>\n",
       "      <td>{'ID': 862147357621841922, 'Source': 'twitter-...</td>\n",
       "    </tr>\n",
       "    <tr>\n",
       "      <th>9070</th>\n",
       "      <td>9070</td>\n",
       "      <td>Whoa I wonder if that's why they didn't work f...</td>\n",
       "      <td>{'ID': 1307317228455378944, 'Source': 'twitter...</td>\n",
       "    </tr>\n",
       "  </tbody>\n",
       "</table>\n",
       "</div>"
      ],
      "text/plain": [
       "      Unnamed: 0                                               text  \\\n",
       "8772        8772                    It doesn't work in the hormones   \n",
       "7566        7566  I am breaking out really bad ever since switch...   \n",
       "9070        9070  Whoa I wonder if that's why they didn't work f...   \n",
       "\n",
       "                                                   meta  \n",
       "8772  {'ID': 1121445910016331783, 'Source': 'twitter...  \n",
       "7566  {'ID': 862147357621841922, 'Source': 'twitter-...  \n",
       "9070  {'ID': 1307317228455378944, 'Source': 'twitter...  "
      ]
     },
     "execution_count": 192,
     "metadata": {},
     "output_type": "execute_result"
    }
   ],
   "source": [
    "test_df.sample(3)"
   ]
  },
  {
   "cell_type": "code",
   "execution_count": 193,
   "metadata": {},
   "outputs": [
    {
     "data": {
      "text/plain": [
       "120"
      ]
     },
     "execution_count": 193,
     "metadata": {},
     "output_type": "execute_result"
    }
   ],
   "source": [
    "len(label_df.index)"
   ]
  },
  {
   "cell_type": "code",
   "execution_count": 194,
   "metadata": {},
   "outputs": [
    {
     "data": {
      "text/html": [
       "<div>\n",
       "<style scoped>\n",
       "    .dataframe tbody tr th:only-of-type {\n",
       "        vertical-align: middle;\n",
       "    }\n",
       "\n",
       "    .dataframe tbody tr th {\n",
       "        vertical-align: top;\n",
       "    }\n",
       "\n",
       "    .dataframe thead th {\n",
       "        text-align: right;\n",
       "    }\n",
       "</style>\n",
       "<table border=\"1\" class=\"dataframe\">\n",
       "  <thead>\n",
       "    <tr style=\"text-align: right;\">\n",
       "      <th></th>\n",
       "      <th>Source</th>\n",
       "      <th>ID</th>\n",
       "      <th>Label</th>\n",
       "      <th>Text</th>\n",
       "    </tr>\n",
       "  </thead>\n",
       "  <tbody>\n",
       "    <tr>\n",
       "      <th>42</th>\n",
       "      <td>reddit-comments</td>\n",
       "      <td>e3t46dh</td>\n",
       "      <td>SHARING PERSONAL EXPERIENCES</td>\n",
       "      <td>After that it lightens up for me</td>\n",
       "    </tr>\n",
       "    <tr>\n",
       "      <th>118</th>\n",
       "      <td>webmd-reviews</td>\n",
       "      <td>w9404</td>\n",
       "      <td>SHARING PERSONAL EXPERIENCES</td>\n",
       "      <td>I was on the pill for 6 years and I'm excited ...</td>\n",
       "    </tr>\n",
       "    <tr>\n",
       "      <th>33</th>\n",
       "      <td>reddit-comments</td>\n",
       "      <td>doz2rtt</td>\n",
       "      <td>NONE</td>\n",
       "      <td>Yeah, I don't blame you.</td>\n",
       "    </tr>\n",
       "  </tbody>\n",
       "</table>\n",
       "</div>"
      ],
      "text/plain": [
       "              Source       ID                         Label  \\\n",
       "42   reddit-comments  e3t46dh  SHARING PERSONAL EXPERIENCES   \n",
       "118    webmd-reviews    w9404  SHARING PERSONAL EXPERIENCES   \n",
       "33   reddit-comments  doz2rtt                          NONE   \n",
       "\n",
       "                                                  Text  \n",
       "42                    After that it lightens up for me  \n",
       "118  I was on the pill for 6 years and I'm excited ...  \n",
       "33                            Yeah, I don't blame you.  "
      ]
     },
     "execution_count": 194,
     "metadata": {},
     "output_type": "execute_result"
    }
   ],
   "source": [
    "label_df.sample(3)"
   ]
  },
  {
   "cell_type": "code",
   "execution_count": 195,
   "metadata": {},
   "outputs": [],
   "source": [
    "from sklearn.metrics import accuracy_score, precision_recall_fscore_support, classification_report\n",
    "from sklearn.feature_extraction.text import TfidfVectorizer\n",
    "from sklearn.linear_model import LogisticRegression\n",
    "from sklearn.model_selection import train_test_split"
   ]
  },
  {
   "cell_type": "code",
   "execution_count": 196,
   "metadata": {},
   "outputs": [],
   "source": [
    "def binarize_label(label, target_label):\n",
    "    if label == target_label:\n",
    "        return 1\n",
    "    return 0"
   ]
  },
  {
   "cell_type": "code",
   "execution_count": 197,
   "metadata": {},
   "outputs": [
    {
     "name": "stdout",
     "output_type": "stream",
     "text": [
      "SHARING PERSONAL EXPERIENCES\n",
      "              precision    recall  f1-score   support\n",
      "\n",
      "           0       1.00      0.62      0.76        13\n",
      "           1       0.64      1.00      0.78         9\n",
      "\n",
      "    accuracy                           0.77        22\n",
      "   macro avg       0.82      0.81      0.77        22\n",
      "weighted avg       0.85      0.77      0.77        22\n",
      "\n"
     ]
    }
   ],
   "source": [
    "for _target_label in label_df['Label'].unique():\n",
    "\n",
    "    _binarized_df = label_df.copy()\n",
    "    _binarized_df['Label'] = label_df['Label'].apply(lambda x: binarize_label(x, _target_label))\n",
    "    _positive_ids = _binarized_df[_binarized_df['Label'] == 1]['ID'].tolist()\n",
    "    _binarized_df = _binarized_df[~((_binarized_df['ID'].isin(_positive_ids)) & (_binarized_df['Label'] == 0))]\n",
    "\n",
    "    _binarized_df = _binarized_df.groupby('Label').sample(n=len(_binarized_df[_binarized_df['Label'] == 1]), random_state=1)\n",
    "\n",
    "    if len(_binarized_df.index) > 50:\n",
    "\n",
    "        _train_df, _test_df = train_test_split(_binarized_df, test_size=0.33, random_state=42)\n",
    "\n",
    "        _train_texts = _train_df['Text']\n",
    "        _train_labels = _train_df['Label']\n",
    "        _test_texts = _test_df['Text']\n",
    "        _test_labels = _test_df['Label']\n",
    "\n",
    "        _vectorizer = TfidfVectorizer()\n",
    "        _X_train = _vectorizer.fit_transform(_train_texts)\n",
    "        _X_test = _vectorizer.transform(_test_texts)\n",
    "\n",
    "        _model = LogisticRegression(C=10).fit(_X_train, _train_labels)\n",
    "        _predictions = _model.predict(_X_test)\n",
    "\n",
    "        print(_target_label)\n",
    "        print(classification_report(_test_labels, _predictions))"
   ]
  },
  {
   "cell_type": "code",
   "execution_count": 198,
   "metadata": {},
   "outputs": [
    {
     "data": {
      "text/plain": [
       "0    5\n",
       "1    5\n",
       "Name: Label, dtype: int64"
      ]
     },
     "execution_count": 198,
     "metadata": {},
     "output_type": "execute_result"
    }
   ],
   "source": [
    "_binarized_df['Label'].value_counts()"
   ]
  },
  {
   "cell_type": "code",
   "execution_count": 199,
   "metadata": {},
   "outputs": [],
   "source": [
    "def process_string(text):\n",
    "    text = text.lower()\n",
    "    text = re.sub('[0-9]+', 'NUM', text)\n",
    "    text = re.sub(r'[^\\sA-Za-z0-9À-ÖØ-öø-ÿЀ-ӿ/]', ' \\1 ', text)\n",
    "    text = ' '.join(text.split())\n",
    "    return text"
   ]
  },
  {
   "cell_type": "code",
   "execution_count": 200,
   "metadata": {},
   "outputs": [],
   "source": [
    "t = process_string('Does this work? Hmmm,how about this???')"
   ]
  },
  {
   "cell_type": "code",
   "execution_count": 201,
   "metadata": {},
   "outputs": [
    {
     "name": "stdout",
     "output_type": "stream",
     "text": [
      "---------------------------------\n",
      "SHARING PERSONAL EXPERIENCES\n",
      "---------------------------------\n",
      "\n",
      "POSITIVE\n",
      "Derek Skees has no idea how my IUD works.\n",
      "So true, I had the nexplanon implant and it was the most torturous thing for my hormones and mental health\n",
      "- I had my Implanon (Birth control)...\n",
      "I like the fact that I don’t have to do anything and it’s minimally invasive.\n",
      "i got my nexplanon replaced in december and had my period for three months straight y’all 3 day people are so blessed\n",
      "and it worked for a little while.\n",
      "The birth control pill was invented 50 years ago today...\n",
      ": IED's - I heard IUD's too though.\n",
      "She always having a damn dream too.\n",
      "I had a IUD first and it fucked me up physically and mentally.\n",
      "\n"
     ]
    }
   ],
   "source": [
    "for _target_label in label_df['Label'].unique():\n",
    "\n",
    "    _binarized_df = label_df.copy()\n",
    "    _binarized_df['Label'] = label_df['Label'].apply(lambda x: binarize_label(x, _target_label))\n",
    "    _positive_ids = _binarized_df[_binarized_df['Label'] == 1]['ID'].tolist()\n",
    "    _binarized_df = _binarized_df[~((_binarized_df['ID'].isin(_positive_ids)) & (_binarized_df['Label'] == 0))]\n",
    "\n",
    "    _binarized_df = _binarized_df.groupby('Label').sample(n=len(_binarized_df[_binarized_df['Label'] == 1]), random_state=1)\n",
    "\n",
    "    if len(_binarized_df.index) > 50:\n",
    "\n",
    "        _train_texts = _binarized_df['Text']\n",
    "        _train_labels = _binarized_df['Label']\n",
    "\n",
    "        _test_texts = test_df['text']\n",
    "\n",
    "        _train_texts_processed = [process_string(t) for t in _train_texts]\n",
    "        _test_texts_processed  = [process_string(t) for t in _test_texts]\n",
    "\n",
    "        _vectorizer = TfidfVectorizer()\n",
    "        _X_train = _vectorizer.fit_transform(_train_texts_processed)\n",
    "        _X_test = _vectorizer.transform(_test_texts_processed)\n",
    "\n",
    "        _model = LogisticRegression(C=10).fit(_X_train, _train_labels)\n",
    "        _predictions = _model.predict(_X_test)\n",
    "\n",
    "        print('---------------------------------')\n",
    "        print(_target_label)\n",
    "        print('---------------------------------')\n",
    "        print()\n",
    "\n",
    "        _positive_texts = [_text for _prediction, _text in zip(_predictions, _test_texts) if _prediction == 1]\n",
    "        _negative_texts = [_text for _prediction, _text in zip(_predictions, _test_texts) if _prediction == 0]\n",
    "\n",
    "        print('POSITIVE')\n",
    "        for _text in random.sample(_positive_texts, 10):\n",
    "            print(' '.join(_text.split()))\n",
    "        \n",
    "        print()\n"
   ]
  },
  {
   "cell_type": "code",
   "execution_count": null,
   "metadata": {},
   "outputs": [],
   "source": []
  }
 ],
 "metadata": {
  "interpreter": {
   "hash": "6057ff503712b9d8589e95303374a5e0505a3b171f577536b68d8760b171ae5c"
  },
  "kernelspec": {
   "display_name": "Python 3.7.7 64-bit ('prodigyEnv': conda)",
   "language": "python",
   "name": "python3"
  },
  "language_info": {
   "codemirror_mode": {
    "name": "ipython",
    "version": 3
   },
   "file_extension": ".py",
   "mimetype": "text/x-python",
   "name": "python",
   "nbconvert_exporter": "python",
   "pygments_lexer": "ipython3",
   "version": "3.8.12"
  },
  "orig_nbformat": 2
 },
 "nbformat": 4,
 "nbformat_minor": 2
}
