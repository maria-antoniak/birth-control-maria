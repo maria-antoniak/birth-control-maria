{
 "cells": [
  {
   "cell_type": "code",
   "execution_count": 1,
   "metadata": {},
   "outputs": [],
   "source": [
    "from collections import defaultdict\n",
    "from datetime import datetime\n",
    "import dill\n",
    "from itertools import permutations, combinations\n",
    "import json\n",
    "from operator import itemgetter\n",
    "import os\n",
    "import pickle\n",
    "import random\n",
    "import re\n",
    "import time\n",
    "\n",
    "import numpy as np\n",
    "import pandas as pd\n",
    "from sklearn.cluster import KMeans\n",
    "\n",
    "%matplotlib inline\n",
    "import matplotlib.pyplot as plt\n",
    "import seaborn as sns\n",
    "from adjustText import adjust_text\n",
    "sns.set(style='ticks', font_scale=1.2)\n",
    "import matplotlib\n",
    "matplotlib.rcParams['pdf.fonttype'] = 42\n",
    "matplotlib.rcParams['ps.fonttype'] = 42\n",
    "\n",
    "import little_mallet_wrapper as lmw"
   ]
  },
  {
   "cell_type": "code",
   "execution_count": 2,
   "metadata": {},
   "outputs": [],
   "source": [
    "data_directory_path   = '/Volumes/Passport-1/data/birth-control'\n",
    "output_directory_path = '/Volumes/Passport-1/output/birth-control'"
   ]
  },
  {
   "cell_type": "markdown",
   "metadata": {},
   "source": [
    "<br><br>\n",
    "\n",
    "# Load datasets (Reddit, WebMD, Twitter)"
   ]
  },
  {
   "cell_type": "markdown",
   "metadata": {},
   "source": [
    "## Reddit"
   ]
  },
  {
   "cell_type": "code",
   "execution_count": 3,
   "metadata": {},
   "outputs": [],
   "source": [
    "reddit_posts_df = pd.read_csv(data_directory_path + '/final-data/reddit_posts.csv')\n",
    "reddit_comments_df = pd.read_csv(data_directory_path + '/final-data/reddit_comments.csv')"
   ]
  },
  {
   "cell_type": "code",
   "execution_count": 4,
   "metadata": {},
   "outputs": [
    {
     "data": {
      "text/plain": [
       "(68958, 264912)"
      ]
     },
     "execution_count": 4,
     "metadata": {},
     "output_type": "execute_result"
    }
   ],
   "source": [
    "len(reddit_posts_df.index), len(reddit_comments_df.index)"
   ]
  },
  {
   "cell_type": "code",
   "execution_count": 5,
   "metadata": {},
   "outputs": [
    {
     "data": {
      "text/html": [
       "<div>\n",
       "<style scoped>\n",
       "    .dataframe tbody tr th:only-of-type {\n",
       "        vertical-align: middle;\n",
       "    }\n",
       "\n",
       "    .dataframe tbody tr th {\n",
       "        vertical-align: top;\n",
       "    }\n",
       "\n",
       "    .dataframe thead th {\n",
       "        text-align: right;\n",
       "    }\n",
       "</style>\n",
       "<table border=\"1\" class=\"dataframe\">\n",
       "  <thead>\n",
       "    <tr style=\"text-align: right;\">\n",
       "      <th></th>\n",
       "      <th>Unnamed: 0</th>\n",
       "      <th>id</th>\n",
       "      <th>parent_id</th>\n",
       "      <th>created_utc</th>\n",
       "      <th>text</th>\n",
       "      <th>tokens_text</th>\n",
       "      <th>text_type</th>\n",
       "      <th>year</th>\n",
       "      <th>month</th>\n",
       "      <th>source</th>\n",
       "    </tr>\n",
       "  </thead>\n",
       "  <tbody>\n",
       "    <tr>\n",
       "      <th>18107</th>\n",
       "      <td>1162</td>\n",
       "      <td>cf6az8m</td>\n",
       "      <td>t3_1wxgxa</td>\n",
       "      <td>1.391470e+09</td>\n",
       "      <td>Theres no way to tell what you can expect. Eve...</td>\n",
       "      <td>theres way tell expect every woman experiences...</td>\n",
       "      <td>pill</td>\n",
       "      <td>2014</td>\n",
       "      <td>2</td>\n",
       "      <td>reddit-comments</td>\n",
       "    </tr>\n",
       "    <tr>\n",
       "      <th>224128</th>\n",
       "      <td>434</td>\n",
       "      <td>flvg7a7</td>\n",
       "      <td>t3_frd0p5</td>\n",
       "      <td>1.585523e+09</td>\n",
       "      <td>I can see how the sexual thoughts could be cau...</td>\n",
       "      <td>see sexual thoughts could caused birth control...</td>\n",
       "      <td>pill</td>\n",
       "      <td>2020</td>\n",
       "      <td>3</td>\n",
       "      <td>reddit-comments</td>\n",
       "    </tr>\n",
       "    <tr>\n",
       "      <th>140902</th>\n",
       "      <td>3232</td>\n",
       "      <td>e62jg5q</td>\n",
       "      <td>t1_e621rv1</td>\n",
       "      <td>1.537101e+09</td>\n",
       "      <td>You don't have a cycle or ovulation on the pil...</td>\n",
       "      <td>cycle ovulation pill could ovulate first misse...</td>\n",
       "      <td>pill</td>\n",
       "      <td>2018</td>\n",
       "      <td>9</td>\n",
       "      <td>reddit-comments</td>\n",
       "    </tr>\n",
       "  </tbody>\n",
       "</table>\n",
       "</div>"
      ],
      "text/plain": [
       "        Unnamed: 0       id   parent_id   created_utc  \\\n",
       "18107         1162  cf6az8m   t3_1wxgxa  1.391470e+09   \n",
       "224128         434  flvg7a7   t3_frd0p5  1.585523e+09   \n",
       "140902        3232  e62jg5q  t1_e621rv1  1.537101e+09   \n",
       "\n",
       "                                                     text  \\\n",
       "18107   Theres no way to tell what you can expect. Eve...   \n",
       "224128  I can see how the sexual thoughts could be cau...   \n",
       "140902  You don't have a cycle or ovulation on the pil...   \n",
       "\n",
       "                                              tokens_text text_type  year  \\\n",
       "18107   theres way tell expect every woman experiences...      pill  2014   \n",
       "224128  see sexual thoughts could caused birth control...      pill  2020   \n",
       "140902  cycle ovulation pill could ovulate first misse...      pill  2018   \n",
       "\n",
       "        month           source  \n",
       "18107       2  reddit-comments  \n",
       "224128      3  reddit-comments  \n",
       "140902      9  reddit-comments  "
      ]
     },
     "execution_count": 5,
     "metadata": {},
     "output_type": "execute_result"
    }
   ],
   "source": [
    "reddit_comments_df.sample(3)"
   ]
  },
  {
   "cell_type": "code",
   "execution_count": 6,
   "metadata": {},
   "outputs": [
    {
     "data": {
      "text/html": [
       "<div>\n",
       "<style scoped>\n",
       "    .dataframe tbody tr th:only-of-type {\n",
       "        vertical-align: middle;\n",
       "    }\n",
       "\n",
       "    .dataframe tbody tr th {\n",
       "        vertical-align: top;\n",
       "    }\n",
       "\n",
       "    .dataframe thead th {\n",
       "        text-align: right;\n",
       "    }\n",
       "</style>\n",
       "<table border=\"1\" class=\"dataframe\">\n",
       "  <thead>\n",
       "    <tr style=\"text-align: right;\">\n",
       "      <th></th>\n",
       "      <th>Unnamed: 0</th>\n",
       "      <th>id</th>\n",
       "      <th>created_utc</th>\n",
       "      <th>text</th>\n",
       "      <th>title</th>\n",
       "      <th>year</th>\n",
       "      <th>month</th>\n",
       "      <th>url</th>\n",
       "      <th>link_flair_text</th>\n",
       "      <th>tokens_text</th>\n",
       "      <th>text_type</th>\n",
       "      <th>source</th>\n",
       "    </tr>\n",
       "  </thead>\n",
       "  <tbody>\n",
       "    <tr>\n",
       "      <th>21196</th>\n",
       "      <td>1002</td>\n",
       "      <td>9mgbun</td>\n",
       "      <td>1539015716</td>\n",
       "      <td>I've been seeing hair loss and thinning with b...</td>\n",
       "      <td>Taking biotin with birth control?</td>\n",
       "      <td>2018</td>\n",
       "      <td>10</td>\n",
       "      <td>https://www.reddit.com/r/birthcontrol/comments...</td>\n",
       "      <td>NaN</td>\n",
       "      <td>taking biotin birth control seeing hair loss t...</td>\n",
       "      <td>pill</td>\n",
       "      <td>reddit-posts</td>\n",
       "    </tr>\n",
       "    <tr>\n",
       "      <th>3134</th>\n",
       "      <td>223</td>\n",
       "      <td>2ij9gn</td>\n",
       "      <td>1412663685</td>\n",
       "      <td>My gf has been on bc and had unprotected sex y...</td>\n",
       "      <td>I'm a guy who need clearing up about birth con...</td>\n",
       "      <td>2014</td>\n",
       "      <td>10</td>\n",
       "      <td>http://www.reddit.com/r/birthcontrol/comments/...</td>\n",
       "      <td>NaN</td>\n",
       "      <td>m guy need clearing birth control gf bc unprot...</td>\n",
       "      <td>pill</td>\n",
       "      <td>reddit-posts</td>\n",
       "    </tr>\n",
       "    <tr>\n",
       "      <th>59613</th>\n",
       "      <td>1298</td>\n",
       "      <td>gk4l0i</td>\n",
       "      <td>1589527656</td>\n",
       "      <td>I love that my skin is incredibly easy to mana...</td>\n",
       "      <td>Has anyone had success switching from the comb...</td>\n",
       "      <td>2020</td>\n",
       "      <td>5</td>\n",
       "      <td>https://www.reddit.com/r/birthcontrol/comments...</td>\n",
       "      <td>Side effects!?</td>\n",
       "      <td>anyone success switching combination pill patc...</td>\n",
       "      <td>pill</td>\n",
       "      <td>reddit-posts</td>\n",
       "    </tr>\n",
       "  </tbody>\n",
       "</table>\n",
       "</div>"
      ],
      "text/plain": [
       "       Unnamed: 0      id  created_utc  \\\n",
       "21196        1002  9mgbun   1539015716   \n",
       "3134          223  2ij9gn   1412663685   \n",
       "59613        1298  gk4l0i   1589527656   \n",
       "\n",
       "                                                    text  \\\n",
       "21196  I've been seeing hair loss and thinning with b...   \n",
       "3134   My gf has been on bc and had unprotected sex y...   \n",
       "59613  I love that my skin is incredibly easy to mana...   \n",
       "\n",
       "                                                   title  year  month  \\\n",
       "21196                  Taking biotin with birth control?  2018     10   \n",
       "3134   I'm a guy who need clearing up about birth con...  2014     10   \n",
       "59613  Has anyone had success switching from the comb...  2020      5   \n",
       "\n",
       "                                                     url link_flair_text  \\\n",
       "21196  https://www.reddit.com/r/birthcontrol/comments...             NaN   \n",
       "3134   http://www.reddit.com/r/birthcontrol/comments/...             NaN   \n",
       "59613  https://www.reddit.com/r/birthcontrol/comments...  Side effects!?   \n",
       "\n",
       "                                             tokens_text text_type  \\\n",
       "21196  taking biotin birth control seeing hair loss t...      pill   \n",
       "3134   m guy need clearing birth control gf bc unprot...      pill   \n",
       "59613  anyone success switching combination pill patc...      pill   \n",
       "\n",
       "             source  \n",
       "21196  reddit-posts  \n",
       "3134   reddit-posts  \n",
       "59613  reddit-posts  "
      ]
     },
     "execution_count": 6,
     "metadata": {},
     "output_type": "execute_result"
    }
   ],
   "source": [
    "reddit_posts_df.sample(3)"
   ]
  },
  {
   "cell_type": "markdown",
   "metadata": {},
   "source": [
    "## WebMD"
   ]
  },
  {
   "cell_type": "code",
   "execution_count": 7,
   "metadata": {},
   "outputs": [],
   "source": [
    "webmd_df = pd.read_csv(data_directory_path + '/final-data/webmd.csv')"
   ]
  },
  {
   "cell_type": "code",
   "execution_count": 8,
   "metadata": {},
   "outputs": [
    {
     "data": {
      "text/plain": [
       "18110"
      ]
     },
     "execution_count": 8,
     "metadata": {},
     "output_type": "execute_result"
    }
   ],
   "source": [
    "len(webmd_df.index)"
   ]
  },
  {
   "cell_type": "code",
   "execution_count": 9,
   "metadata": {},
   "outputs": [
    {
     "data": {
      "text/html": [
       "<div>\n",
       "<style scoped>\n",
       "    .dataframe tbody tr th:only-of-type {\n",
       "        vertical-align: middle;\n",
       "    }\n",
       "\n",
       "    .dataframe tbody tr th {\n",
       "        vertical-align: top;\n",
       "    }\n",
       "\n",
       "    .dataframe thead th {\n",
       "        text-align: right;\n",
       "    }\n",
       "</style>\n",
       "<table border=\"1\" class=\"dataframe\">\n",
       "  <thead>\n",
       "    <tr style=\"text-align: right;\">\n",
       "      <th></th>\n",
       "      <th>Unnamed: 0</th>\n",
       "      <th>Unnamed: 0.1</th>\n",
       "      <th>Unnamed: 0.1.1</th>\n",
       "      <th>id</th>\n",
       "      <th>date</th>\n",
       "      <th>year</th>\n",
       "      <th>text</th>\n",
       "      <th>name</th>\n",
       "      <th>title</th>\n",
       "      <th>source</th>\n",
       "      <th>text_type</th>\n",
       "      <th>num_tokens</th>\n",
       "      <th>tokens_text</th>\n",
       "    </tr>\n",
       "  </thead>\n",
       "  <tbody>\n",
       "    <tr>\n",
       "      <th>278</th>\n",
       "      <td>278</td>\n",
       "      <td>281</td>\n",
       "      <td>281</td>\n",
       "      <td>w286</td>\n",
       "      <td>2012-05-27</td>\n",
       "      <td>2012</td>\n",
       "      <td>I'm taking this for multiple reasons. Started ...</td>\n",
       "      <td>amethia</td>\n",
       "      <td>NaN</td>\n",
       "      <td>webmd-reviews</td>\n",
       "      <td>pill</td>\n",
       "      <td>87</td>\n",
       "      <td>m taking multiple reasons started seasonique f...</td>\n",
       "    </tr>\n",
       "    <tr>\n",
       "      <th>5177</th>\n",
       "      <td>5177</td>\n",
       "      <td>6205</td>\n",
       "      <td>6205</td>\n",
       "      <td>w6351</td>\n",
       "      <td>2008-12-23</td>\n",
       "      <td>2008</td>\n",
       "      <td>I had no side effects at all.  I went from hav...</td>\n",
       "      <td>levora-15-30-28</td>\n",
       "      <td>NaN</td>\n",
       "      <td>webmd-reviews</td>\n",
       "      <td>pill</td>\n",
       "      <td>52</td>\n",
       "      <td>side effects went NUM day periods NUM days als...</td>\n",
       "    </tr>\n",
       "    <tr>\n",
       "      <th>5298</th>\n",
       "      <td>5298</td>\n",
       "      <td>6327</td>\n",
       "      <td>6327</td>\n",
       "      <td>w6476</td>\n",
       "      <td>2019-04-23</td>\n",
       "      <td>2019</td>\n",
       "      <td>I have noticed vaginal inflammation, yeast inf...</td>\n",
       "      <td>lo-loestrin-fe</td>\n",
       "      <td>NaN</td>\n",
       "      <td>webmd-reviews</td>\n",
       "      <td>pill</td>\n",
       "      <td>14</td>\n",
       "      <td>noticed vaginal inflammation yeast infection b...</td>\n",
       "    </tr>\n",
       "  </tbody>\n",
       "</table>\n",
       "</div>"
      ],
      "text/plain": [
       "      Unnamed: 0  Unnamed: 0.1  Unnamed: 0.1.1     id        date  year  \\\n",
       "278          278           281             281   w286  2012-05-27  2012   \n",
       "5177        5177          6205            6205  w6351  2008-12-23  2008   \n",
       "5298        5298          6327            6327  w6476  2019-04-23  2019   \n",
       "\n",
       "                                                   text             name  \\\n",
       "278   I'm taking this for multiple reasons. Started ...          amethia   \n",
       "5177  I had no side effects at all.  I went from hav...  levora-15-30-28   \n",
       "5298  I have noticed vaginal inflammation, yeast inf...   lo-loestrin-fe   \n",
       "\n",
       "      title         source text_type  num_tokens  \\\n",
       "278     NaN  webmd-reviews      pill          87   \n",
       "5177    NaN  webmd-reviews      pill          52   \n",
       "5298    NaN  webmd-reviews      pill          14   \n",
       "\n",
       "                                            tokens_text  \n",
       "278   m taking multiple reasons started seasonique f...  \n",
       "5177  side effects went NUM day periods NUM days als...  \n",
       "5298  noticed vaginal inflammation yeast infection b...  "
      ]
     },
     "execution_count": 9,
     "metadata": {},
     "output_type": "execute_result"
    }
   ],
   "source": [
    "webmd_df.sample(3)"
   ]
  },
  {
   "cell_type": "markdown",
   "metadata": {},
   "source": [
    "## Twitter"
   ]
  },
  {
   "cell_type": "code",
   "execution_count": 10,
   "metadata": {},
   "outputs": [],
   "source": [
    "twitter_posts_df = pd.read_csv(data_directory_path + '/final-data/twitter_posts.csv')\n",
    "twitter_replies_df = pd.read_csv(data_directory_path + '/final-data/twitter_replies.csv')"
   ]
  },
  {
   "cell_type": "code",
   "execution_count": 11,
   "metadata": {},
   "outputs": [
    {
     "data": {
      "text/plain": [
       "(499796, 211896)"
      ]
     },
     "execution_count": 11,
     "metadata": {},
     "output_type": "execute_result"
    }
   ],
   "source": [
    "len(twitter_posts_df.index), len(twitter_replies_df.index)"
   ]
  },
  {
   "cell_type": "code",
   "execution_count": 12,
   "metadata": {},
   "outputs": [
    {
     "data": {
      "text/html": [
       "<div>\n",
       "<style scoped>\n",
       "    .dataframe tbody tr th:only-of-type {\n",
       "        vertical-align: middle;\n",
       "    }\n",
       "\n",
       "    .dataframe tbody tr th {\n",
       "        vertical-align: top;\n",
       "    }\n",
       "\n",
       "    .dataframe thead th {\n",
       "        text-align: right;\n",
       "    }\n",
       "</style>\n",
       "<table border=\"1\" class=\"dataframe\">\n",
       "  <thead>\n",
       "    <tr style=\"text-align: right;\">\n",
       "      <th></th>\n",
       "      <th>Unnamed: 0</th>\n",
       "      <th>source</th>\n",
       "      <th>text</th>\n",
       "      <th>tokens_text</th>\n",
       "      <th>date</th>\n",
       "      <th>year</th>\n",
       "      <th>month</th>\n",
       "      <th>id</th>\n",
       "      <th>conversation_id</th>\n",
       "      <th>retweet_count</th>\n",
       "      <th>reply_count</th>\n",
       "      <th>like_count</th>\n",
       "      <th>quote_count</th>\n",
       "      <th>text_type</th>\n",
       "      <th>num_tokens</th>\n",
       "    </tr>\n",
       "  </thead>\n",
       "  <tbody>\n",
       "    <tr>\n",
       "      <th>389503</th>\n",
       "      <td>491522</td>\n",
       "      <td>twitter-posts</td>\n",
       "      <td>“: he said i should be a birth control pill O_...</td>\n",
       "      <td>said birth control pill o o</td>\n",
       "      <td>2012-10-23T04:20:29.000Z</td>\n",
       "      <td>2012</td>\n",
       "      <td>10</td>\n",
       "      <td>260596533370699776</td>\n",
       "      <td>260596533370699776</td>\n",
       "      <td>1</td>\n",
       "      <td>0</td>\n",
       "      <td>0</td>\n",
       "      <td>0</td>\n",
       "      <td>pill</td>\n",
       "      <td>6</td>\n",
       "    </tr>\n",
       "    <tr>\n",
       "      <th>232696</th>\n",
       "      <td>293301</td>\n",
       "      <td>twitter-posts</td>\n",
       "      <td>10.13.14 Im Getn My Implanon Removed &amp;&amp; Im Get...</td>\n",
       "      <td>NUM NUM NUM im getn implanon removed im getn p...</td>\n",
       "      <td>2011-11-18T18:49:52.000Z</td>\n",
       "      <td>2011</td>\n",
       "      <td>11</td>\n",
       "      <td>137603446382661632</td>\n",
       "      <td>137603446382661632</td>\n",
       "      <td>0</td>\n",
       "      <td>0</td>\n",
       "      <td>0</td>\n",
       "      <td>0</td>\n",
       "      <td>implant</td>\n",
       "      <td>14</td>\n",
       "    </tr>\n",
       "    <tr>\n",
       "      <th>221367</th>\n",
       "      <td>277349</td>\n",
       "      <td>twitter-posts</td>\n",
       "      <td>Blackhat Money Making Rapid Rapid New Birth Co...</td>\n",
       "      <td>blackhat money making rapid rapid new birth co...</td>\n",
       "      <td>2014-05-15T03:11:36.000Z</td>\n",
       "      <td>2014</td>\n",
       "      <td>5</td>\n",
       "      <td>466777893075288065</td>\n",
       "      <td>466777893075288065</td>\n",
       "      <td>0</td>\n",
       "      <td>0</td>\n",
       "      <td>0</td>\n",
       "      <td>0</td>\n",
       "      <td>implant</td>\n",
       "      <td>13</td>\n",
       "    </tr>\n",
       "  </tbody>\n",
       "</table>\n",
       "</div>"
      ],
      "text/plain": [
       "        Unnamed: 0         source  \\\n",
       "389503      491522  twitter-posts   \n",
       "232696      293301  twitter-posts   \n",
       "221367      277349  twitter-posts   \n",
       "\n",
       "                                                     text  \\\n",
       "389503  “: he said i should be a birth control pill O_...   \n",
       "232696  10.13.14 Im Getn My Implanon Removed && Im Get...   \n",
       "221367  Blackhat Money Making Rapid Rapid New Birth Co...   \n",
       "\n",
       "                                              tokens_text  \\\n",
       "389503                        said birth control pill o o   \n",
       "232696  NUM NUM NUM im getn implanon removed im getn p...   \n",
       "221367  blackhat money making rapid rapid new birth co...   \n",
       "\n",
       "                            date  year  month                  id  \\\n",
       "389503  2012-10-23T04:20:29.000Z  2012     10  260596533370699776   \n",
       "232696  2011-11-18T18:49:52.000Z  2011     11  137603446382661632   \n",
       "221367  2014-05-15T03:11:36.000Z  2014      5  466777893075288065   \n",
       "\n",
       "           conversation_id  retweet_count  reply_count  like_count  \\\n",
       "389503  260596533370699776              1            0           0   \n",
       "232696  137603446382661632              0            0           0   \n",
       "221367  466777893075288065              0            0           0   \n",
       "\n",
       "        quote_count text_type  num_tokens  \n",
       "389503            0      pill           6  \n",
       "232696            0   implant          14  \n",
       "221367            0   implant          13  "
      ]
     },
     "execution_count": 12,
     "metadata": {},
     "output_type": "execute_result"
    }
   ],
   "source": [
    "twitter_posts_df.sample(3)"
   ]
  },
  {
   "cell_type": "code",
   "execution_count": 13,
   "metadata": {
    "scrolled": true
   },
   "outputs": [
    {
     "data": {
      "text/html": [
       "<div>\n",
       "<style scoped>\n",
       "    .dataframe tbody tr th:only-of-type {\n",
       "        vertical-align: middle;\n",
       "    }\n",
       "\n",
       "    .dataframe tbody tr th {\n",
       "        vertical-align: top;\n",
       "    }\n",
       "\n",
       "    .dataframe thead th {\n",
       "        text-align: right;\n",
       "    }\n",
       "</style>\n",
       "<table border=\"1\" class=\"dataframe\">\n",
       "  <thead>\n",
       "    <tr style=\"text-align: right;\">\n",
       "      <th></th>\n",
       "      <th>Unnamed: 0</th>\n",
       "      <th>source</th>\n",
       "      <th>text</th>\n",
       "      <th>tokens_text</th>\n",
       "      <th>text_type</th>\n",
       "      <th>date</th>\n",
       "      <th>year</th>\n",
       "      <th>month</th>\n",
       "      <th>id</th>\n",
       "      <th>conversation_id</th>\n",
       "      <th>retweet_count</th>\n",
       "      <th>reply_count</th>\n",
       "      <th>like_count</th>\n",
       "      <th>quote_count</th>\n",
       "      <th>num_tokens</th>\n",
       "    </tr>\n",
       "  </thead>\n",
       "  <tbody>\n",
       "    <tr>\n",
       "      <th>69199</th>\n",
       "      <td>89688</td>\n",
       "      <td>twitter-replies</td>\n",
       "      <td>Fully aware since 09 no 07/08 b Jen...</td>\n",
       "      <td>fully aware since NUM NUM/NUM jennifer see don...</td>\n",
       "      <td>iud</td>\n",
       "      <td>2017-10-20T23:37:56.000Z</td>\n",
       "      <td>2017</td>\n",
       "      <td>10</td>\n",
       "      <td>921520894606041088</td>\n",
       "      <td>921367521395175426</td>\n",
       "      <td>0</td>\n",
       "      <td>1</td>\n",
       "      <td>0</td>\n",
       "      <td>0</td>\n",
       "      <td>19</td>\n",
       "    </tr>\n",
       "    <tr>\n",
       "      <th>104903</th>\n",
       "      <td>135666</td>\n",
       "      <td>twitter-replies</td>\n",
       "      <td>👀 RT “: LOL! Got my IUD so my year accounted f...</td>\n",
       "      <td>lol got iud year accounted highmostlyhigh use ...</td>\n",
       "      <td>iud</td>\n",
       "      <td>2014-01-03T02:38:30.000Z</td>\n",
       "      <td>2014</td>\n",
       "      <td>1</td>\n",
       "      <td>418934365964738560</td>\n",
       "      <td>418909871128707072</td>\n",
       "      <td>1</td>\n",
       "      <td>1</td>\n",
       "      <td>0</td>\n",
       "      <td>0</td>\n",
       "      <td>9</td>\n",
       "    </tr>\n",
       "    <tr>\n",
       "      <th>40614</th>\n",
       "      <td>52593</td>\n",
       "      <td>twitter-replies</td>\n",
       "      <td>That is an interesting fact -- in response t...</td>\n",
       "      <td>interesting fact response trump elected number...</td>\n",
       "      <td>iud</td>\n",
       "      <td>2019-02-09T02:49:34.000Z</td>\n",
       "      <td>2019</td>\n",
       "      <td>2</td>\n",
       "      <td>1094065743707160583</td>\n",
       "      <td>1094033890354839553</td>\n",
       "      <td>0</td>\n",
       "      <td>0</td>\n",
       "      <td>1</td>\n",
       "      <td>0</td>\n",
       "      <td>26</td>\n",
       "    </tr>\n",
       "  </tbody>\n",
       "</table>\n",
       "</div>"
      ],
      "text/plain": [
       "        Unnamed: 0           source  \\\n",
       "69199        89688  twitter-replies   \n",
       "104903      135666  twitter-replies   \n",
       "40614        52593  twitter-replies   \n",
       "\n",
       "                                                     text  \\\n",
       "69199              Fully aware since 09 no 07/08 b Jen...   \n",
       "104903  👀 RT “: LOL! Got my IUD so my year accounted f...   \n",
       "40614     That is an interesting fact -- in response t...   \n",
       "\n",
       "                                              tokens_text text_type  \\\n",
       "69199   fully aware since NUM NUM/NUM jennifer see don...       iud   \n",
       "104903  lol got iud year accounted highmostlyhigh use ...       iud   \n",
       "40614   interesting fact response trump elected number...       iud   \n",
       "\n",
       "                            date  year  month                   id  \\\n",
       "69199   2017-10-20T23:37:56.000Z  2017     10   921520894606041088   \n",
       "104903  2014-01-03T02:38:30.000Z  2014      1   418934365964738560   \n",
       "40614   2019-02-09T02:49:34.000Z  2019      2  1094065743707160583   \n",
       "\n",
       "            conversation_id  retweet_count  reply_count  like_count  \\\n",
       "69199    921367521395175426              0            1           0   \n",
       "104903   418909871128707072              1            1           0   \n",
       "40614   1094033890354839553              0            0           1   \n",
       "\n",
       "        quote_count  num_tokens  \n",
       "69199             0          19  \n",
       "104903            0           9  \n",
       "40614             0          26  "
      ]
     },
     "execution_count": 13,
     "metadata": {},
     "output_type": "execute_result"
    }
   ],
   "source": [
    "twitter_replies_df.sample(3)"
   ]
  },
  {
   "cell_type": "markdown",
   "metadata": {},
   "source": [
    "<br><br><br><br>\n",
    "\n",
    "# Combine into one dataframe"
   ]
  },
  {
   "cell_type": "code",
   "execution_count": 14,
   "metadata": {},
   "outputs": [
    {
     "data": {
      "text/plain": [
       "1063672"
      ]
     },
     "execution_count": 14,
     "metadata": {},
     "output_type": "execute_result"
    }
   ],
   "source": [
    "combined_df = pd.concat([reddit_posts_df, reddit_comments_df, twitter_posts_df, twitter_replies_df, webmd_df])\n",
    "len(combined_df)"
   ]
  },
  {
   "cell_type": "code",
   "execution_count": 15,
   "metadata": {},
   "outputs": [
    {
     "data": {
      "text/plain": [
       "twitter-posts      499796\n",
       "reddit-comments    264912\n",
       "twitter-replies    211896\n",
       "reddit-posts        68958\n",
       "webmd-reviews       18110\n",
       "Name: source, dtype: int64"
      ]
     },
     "execution_count": 15,
     "metadata": {},
     "output_type": "execute_result"
    }
   ],
   "source": [
    "combined_df['source'].value_counts()"
   ]
  },
  {
   "cell_type": "markdown",
   "metadata": {},
   "source": [
    "<br><br><br><br>\n",
    "\n",
    "# Lexicon brainstorming"
   ]
  },
  {
   "cell_type": "code",
   "execution_count": 16,
   "metadata": {},
   "outputs": [],
   "source": [
    "# random_sample_of_texts = []\n",
    "\n",
    "# for i, r in combined_df[combined_df['source'] == 'twitter-replies'].sample(10000).iterrows():\n",
    "#     random_sample_of_texts.append(' '.join(r['text'].split()))\n",
    "\n",
    "# for i, r in combined_df[combined_df['source'] == 'twitter-posts'].sample(10000).iterrows():\n",
    "#     random_sample_of_texts.append(' '.join(r['text'].split()))\n",
    "\n",
    "# for i, r in combined_df[combined_df['source'] == 'reddit-comments'].sample(10000).iterrows():\n",
    "#     random_sample_of_texts.append(' '.join(r['text'].split()))\n",
    "\n",
    "# for i, r in combined_df[combined_df['source'] == 'reddit-posts'].sample(10000).iterrows():\n",
    "#     random_sample_of_texts.append(' '.join(r['text'].split()))\n",
    "\n",
    "# for i, r in combined_df[combined_df['source'] == 'webmd-reviews'].sample(10000).iterrows():\n",
    "#     random_sample_of_texts.append(' '.join(r['text'].split()))"
   ]
  },
  {
   "cell_type": "code",
   "execution_count": 17,
   "metadata": {},
   "outputs": [],
   "source": [
    "# target = 'bald'\n",
    "\n",
    "# matches = []\n",
    "# for _text in random_sample_of_texts:\n",
    "#     if target in _text.lower():\n",
    "#         matches.append(_text)\n",
    "# len(matches)\n",
    "\n",
    "# # category = 'nausea'\n",
    "\n",
    "# # matches = []\n",
    "# # for _text in random_sample_of_texts:\n",
    "# #     _match = False\n",
    "# #     for _pattern in category_patterns_dict[category]:\n",
    "# #         if len(re.findall(_pattern, _text.lower())) > 0:\n",
    "# #             _match = True\n",
    "# #     if _match:\n",
    "# #         matches.append(_text)\n",
    "# # len(matches)"
   ]
  },
  {
   "cell_type": "code",
   "execution_count": 18,
   "metadata": {},
   "outputs": [],
   "source": [
    "# for m in random.sample(matches, 5):\n",
    "#     print(m.lower().replace(target, '______' + str(target.upper()) + '______'))\n",
    "#     print()\n",
    "\n",
    "# # for m in random.sample(matches, 10):\n",
    "# #     print(m)\n",
    "# #     print()"
   ]
  },
  {
   "cell_type": "markdown",
   "metadata": {},
   "source": [
    "# Define the lexicon"
   ]
  },
  {
   "cell_type": "code",
   "execution_count": 19,
   "metadata": {},
   "outputs": [],
   "source": [
    "category_patterns_dict = {'breast sensitivity': [r'(breast(?:s)?|boob(?:s)?) (hurt|(is|are) (sore|sensitive|tender))',\n",
    "                                                 r'soreness of (breast(?:s)?|boob(?:s)?)',\n",
    "                                                 r'(tender|sore|sensitive) (breast(?:s)?|boob(?:s)?)',\n",
    "                                                 r'(breast(?:s)?|boob(?:s)?) pain'],\n",
    "                        'nausea': ['nausea', \n",
    "                                   'naseuous', \n",
    "                                   'sick to my stomach', \n",
    "                                   'queasy', \n",
    "                                   'vomit', \n",
    "                                   'throw up', \n",
    "                                   'puke',\n",
    "                                   'puking'],\n",
    "                        'skin conditions': ['skin is clearing up', \n",
    "                                            'breaking out',\n",
    "                                            'broke out',\n",
    "                                            'break out',\n",
    "                                            'acne', \n",
    "                                            'pimples', \n",
    "                                            'melasma'], \n",
    "                        'menstrual bleeding': ['spotting',\n",
    "                                               'breakthrough bleed',\n",
    "                                               'bleed nonstop',\n",
    "                                               'period nonstop',\n",
    "                                               'nonstop period',\n",
    "                                               'bled for six months',\n",
    "                                               'heavy period',\n",
    "                                               r'period(?:s)? (became|is|are) (regular|heavy|light|irregular)',\n",
    "                                               'missed period',\n",
    "                                               'missed my period'\n",
    "                                               'skipped period',\n",
    "                                               'skipped my period',\n",
    "                                               'no period',\n",
    "                                               'bleed',\n",
    "                                               'heavy period',\n",
    "                                               'light period'], \n",
    "                        'weight & appetite': [r'(gain(?:ed)?|lost|lose) a (couple|few) pounds', \n",
    "                                              r'(gain(?:ed)?|lost|lose) weight',\n",
    "                                              r'(gain(?:ed)?|lost|lose) [a-z0-9]+ (pounds|kilograms|lb|lbs|kg|stone)'\n",
    "                                              'appetite',\n",
    "                                              'craving',\n",
    "                                              'hungry'],\n",
    "                        'mental health': ['anxiety', \n",
    "                                          'mood', \n",
    "                                          'depression', \n",
    "                                          'depressed', \n",
    "                                          'anxious', \n",
    "                                          'anxiety',\n",
    "                                          'mental health', \n",
    "                                          'panic attack', \n",
    "                                          'irritable', \n",
    "                                          'irritability',\n",
    "                                          'emotional'], \n",
    "                        'sex drive': ['sex drive', \n",
    "                                      'sexual drive',\n",
    "                                      'libido'],\n",
    "                        'bloating': ['bloat',\n",
    "                                     'water retention'],\n",
    "                        'sleep': ['sleepy', \n",
    "                                  'can\\'t sleep', \n",
    "                                  'tired all the time', \n",
    "                                  'always feel tired', \n",
    "                                  'exhausted',\n",
    "                                  'fatigue', \n",
    "                                  'always tired'], \n",
    "                        'pms': ['pms'],\n",
    "                        'hair loss': ['hair loss',\n",
    "                                      'hair fell',\n",
    "                                      'hair thinning',\n",
    "                                      'bald',\n",
    "                                      'hair fall',\n",
    "                                      'hair shed'],\n",
    "                        'headache': ['headache', \n",
    "                                     'head hurt',\n",
    "                                     'head ache'],\n",
    "                        'migraine': ['migraine'],\n",
    "                        'infection': ['infection', \n",
    "                                      'uti'], # careful, need to search for token not any string containing (maybe do this for any target with fewer than X characters)\n",
    "                        'severe effects': ['blood clot', \n",
    "                                           'pulmonary embolism', \n",
    "                                           'stroke',\n",
    "                                           'heart attack'],\n",
    "                        'vaginal discharge': ['discharge'],\n",
    "                        'dryness': ['lubricat', 'dryness', 'wet'],\n",
    "                        'pain': ['painful', \n",
    "                                 'pain', \n",
    "                                 'hurt',\n",
    "                                 'agony',\n",
    "                                 'cramp',\n",
    "                                 'throb',\n",
    "                                 'stabbing',\n",
    "                                 'stabbed',\n",
    "                                 'ache'], # will include headache but that's ok? should we also include 'tender', 'sensitive' which will include breast sensitivity?\n",
    "                        'partner felt strings': [r'(partner|husband|boyfriend|bf|he|they) (could feel|felt) the strings'],\n",
    "                        'general side effects': ['side effect']}"
   ]
  },
  {
   "cell_type": "markdown",
   "metadata": {},
   "source": [
    "# Find and save all the matches"
   ]
  },
  {
   "cell_type": "code",
   "execution_count": 20,
   "metadata": {},
   "outputs": [
    {
     "name": "stdout",
     "output_type": "stream",
     "text": [
      "2022-01-04 16:56:41.650754 breast sensitivity\n",
      "2022-01-04 16:57:14.656464 2715\n",
      "2022-01-04 16:57:14.998437 nausea\n",
      "2022-01-04 16:57:49.447805 12340\n",
      "2022-01-04 16:57:49.452089 skin conditions\n",
      "2022-01-04 16:58:22.574520 27497\n",
      "2022-01-04 16:58:22.583279 menstrual bleeding\n",
      "2022-01-04 16:59:04.755748 91666\n",
      "2022-01-04 16:59:04.780407 weight & appetite\n",
      "2022-01-04 16:59:41.868242 9827\n",
      "2022-01-04 16:59:41.871880 mental health\n",
      "2022-01-04 17:00:19.878812 57803\n",
      "2022-01-04 17:00:19.895437 sex drive\n",
      "2022-01-04 17:00:48.919749 15948\n",
      "2022-01-04 17:00:48.925138 bloating\n",
      "2022-01-04 17:01:16.581393 7236\n",
      "2022-01-04 17:01:16.583999 sleep\n",
      "2022-01-04 17:01:50.263464 3910\n",
      "2022-01-04 17:01:50.265473 pms\n",
      "2022-01-04 17:02:19.353392 5740\n",
      "2022-01-04 17:02:19.361351 hair loss\n",
      "2022-01-04 17:02:51.495278 3387\n",
      "2022-01-04 17:02:51.496930 headache\n",
      "2022-01-04 17:03:20.104164 7786\n",
      "2022-01-04 17:03:20.107409 migraine\n",
      "2022-01-04 17:03:46.538905 7971\n",
      "2022-01-04 17:03:46.542356 infection\n",
      "2022-01-04 17:04:17.763222 7914\n",
      "2022-01-04 17:04:17.767474 severe effects\n",
      "2022-01-04 17:04:49.136647 9602\n",
      "2022-01-04 17:04:49.141964 vaginal discharge\n",
      "2022-01-04 17:05:16.394629 6096\n",
      "2022-01-04 17:05:16.397057 dryness\n",
      "2022-01-04 17:05:48.453878 2896\n",
      "2022-01-04 17:05:48.455827 pain\n",
      "2022-01-04 17:06:25.897742 131110\n",
      "2022-01-04 17:06:25.941033 partner felt strings\n",
      "2022-01-04 17:06:56.721448 169\n",
      "2022-01-04 17:06:56.722173 general side effects\n",
      "2022-01-04 17:07:23.515617 51659\n"
     ]
    }
   ],
   "source": [
    "for _category, _patterns in category_patterns_dict.items():\n",
    "\n",
    "    # if _category == 'breast sensitivity':\n",
    "\n",
    "    print(str(datetime.now()) + ' ' + _category)\n",
    "\n",
    "    _matched_ids = []\n",
    "\n",
    "    for i, r in combined_df.iterrows():\n",
    "\n",
    "        _text = str(r['text']).lower()\n",
    "        if not pd.isnull(r['title']):\n",
    "            _text += ' ' + str(r['title'])\n",
    "\n",
    "        _match = False\n",
    "        for _pattern in _patterns:\n",
    "            if len(_pattern) >= 4:\n",
    "                if len(re.findall(_pattern, _text.lower())) > 0:\n",
    "                    _match = True\n",
    "            else:\n",
    "                if _pattern in _text.lower().replace('.', ' ').replace('!', ' ').replace('?', ' ' ).replace(',', ' ').replace(';', ' ').split():\n",
    "                    _match = True\n",
    "        if _match:\n",
    "            _matched_ids.append(r['id'])\n",
    "\n",
    "    print(str(datetime.now()) + ' ' + str(len(_matched_ids)))\n",
    "\n",
    "    _output_file = open(output_directory_path + '/lexicon-matches/' + '_'.join(_category.split()) + '.txt', 'w')\n",
    "    for _id in _matched_ids:\n",
    "        _output_file.write(str(_id) + '\\n')\n",
    "    _output_file.close()"
   ]
  },
  {
   "cell_type": "markdown",
   "metadata": {},
   "source": [
    "# Print a sample of matches for examination"
   ]
  },
  {
   "cell_type": "code",
   "execution_count": 21,
   "metadata": {},
   "outputs": [
    {
     "name": "stdout",
     "output_type": "stream",
     "text": [
      "9827\n",
      " you lasted longer than me - i had a copper coil inserted in march and removed in may. i had 0 periods on the pill but was fed up of the nausea, bloating, inability to ----------(gain(?:ed)?|lost|lose) weight----------. with the coil i bled for 15+ days at a time and the mess, the smell, having to change a maxi ultra pad every hour - it got me down. i started taking the pill again a week before removal. i do a pregnancy test every month and i don't bleed at all. happy days! i don't recommend the coil.\n",
      "\n",
      " i had kylena inserted about a month and a half ago. the first three weeks i had extremely bad pain randomly through out the day and night, to the point that it made me cry and regret it. i thought it was tearing my uterus because i only felt it it in the left side. i called pp and they said it was normal. i was also spotting, until now. my skin got oily the first couple of weeks and i got a couple huge pimples in my legs. my mood is changing a lot!! either i am angry, anxious, crying or sad. stuff that i didn’t care before kylenaa, now i overthink of that stuff. i also am more ----------hungry---------- and feel physically tired most of the time. i want to take it off, but i don’t want to go through pain anymore.\n",
      "\n",
      " this is the 2nd time i have taken yaz in the past 2 years. the first time i took it it made me crazy so i immediately stopped. i started taking it again about 7 months ago to see if i could wait out the \"craziness\". my dr. said that the negative side effects usually end after about 3-4 months & it effects everyone differently. my acne did not get better, it got worse. i was a crazy person and extremely irritable for months.i am normally a happy productive person, but when i started taking this i get occasional depression. i was always ----------hungry----------, therefor i ----------(gain(?:ed)?|lost|lose) weight----------. i still have periods for about half of the month. i am trying desperately to find something else to take. i would discourage anyone from using it, but it may affect you better than me! good luck!\n",
      "\n",
      " the pill might change where you gain fat (like ----------(gain(?:ed)?|lost|lose) weight---------- on your butt not your stomach) but doesn’t make you ----------(gain(?:ed)?|lost|lose) weight----------. some people get water weight - you can tell if you have water weight if there is a substantial difference (&gt;1.5kg/5lb) between your weight on your last active pill compared to your last placebo pill. otherwise, it’s all down to what you eat compared to how much you burn. r/loseit can help.\n",
      "\n",
      "having a rough go of it w/ mirena. would skyla or kyleena have fewer side effects? i have had the mirena twice now. i also had the paragard and i cannot handle the periods. without birth control, my periods are 7-8 days, very heavy, and painful, and with paragard, they were generally 2 weeks long, extremely heavy, and extremely painful. so, i really wanted to try a hormonal method for my periods. i smoke and i am 31 years old, so i am not a good candidate for the pill. &amp;#x200b; a decade ago, i had my first mirena removed due to painful ovarian cysts within a few months of having it inserted. i tried mirena again after having my 2nd daughter and my period got noticeably heavier. i had it inserted october 2018, and within 2-3 months, i noticed my weight loss slowed (i was/am actively dieting), and even though i eat 1200 calories a day and am physically active, i have ----------(gain(?:ed)?|lost|lose) weight----------. i was losing weight as normal prior to having mirena inserted. i have gained 20 pounds in 8 months while eating 1200 calories per day. :( i've never had an issue with losing weight, not even after having my 2nd daughter in june 2017 -- i ----------(gain(?:ed)?|lost|lose) weight---------- with ease up until i had the iud inserted. i noticed my weight loss stalling but i never imagined that i'd be able to ----------(gain(?:ed)?|lost|lose) weight---------- with my diet and activity level. &amp;#x200b; the other major issue is for the first time in my life - i have painful cystic acne on my cheeks. i have never had acne, even as a teenager, much less cystic acne. they take weeks to begin healing, but by the time they begin to heal, more are creeping up. it is awful. i am definitely getting it removed, but i am trying to decide between condoms and another, lower hormone option. &amp;#x200b; the major positive of mirena its effects on my period. my period is pretty much nonexistent, i have a light period for 2-3 days, no cramps, no upset stomach, etc. my period was hell, which is why i would prefer a hormonal iud, but one that has less of a risk causing weight gain and cystic acne. i read that skyla has the least amount of hormone, but kyleena is comparable. they both are rated more positively on other websites, but i haven't found anything that mentions that they have fewer side effects than mirena. any thoughts or experiences? thanks so much!\n",
      "\n",
      " it's extremely effective and easy but it made my periods longer and they weren't any lighter than before. i would bleed for months straight and i ----------(gain(?:ed)?|lost|lose) weight----------. i went to get it removed but then they had me take birth control pills along with the implanon to control my periods and i gained even more weight so now i'm planning to completely switch to another method.\n",
      "\n",
      " personally, i would rather have cramps and take advil or tylenol then have acne, ----------(gain(?:ed)?|lost|lose) weight---------- and be super moody. i did the nexplanon for 3 years and when i took it out i just felt so much better.\n",
      "\n",
      " hi! so for reference: i had my nexplanon removed after one year on january 4th, 2019 and my copper iud inserted march 18, 2019. i had a bad experience with the nexplanon removal. the nurse had trouble digging it out. she claims it was because i ----------(gain(?:ed)?|lost|lose) weight----------, so there was fatty tissue around the implant. it was not painful, it just felt like tugging, and my anxiety kicked in making the whole process feel like hours (i don't do well with blood). in reality, it was over in about 25 minutes. i felt nauseous afterwards, but again no pain. since then, my arm is all healed up but i did get a funny looking scar. the insertion process for the iud was worse than i thought, but i also forgot to take any pain killers before hand. if you take something beforehand i think it will go a lot smoother. the whole thing was fine, i only felt severe pain when they 'placed' the iud. also, the doctor did not dilate my cervix, so i don't' know if that makes a difference in experience. i also felt lightheaded and nauseous afterwards, but was fine the rest of the day. i had slight cramping during the day of insertion, but nothing since then. i've had two small light periods, with no cramping since then-still waiting for the big ones that everyone talks about. so far, i've lost 5 pounds and i feel like i'm less swollen now that i'm off the paraguard? if that makes sense. also, i feel so much better mentally now. sex is wayyyy better now that i'm off the nexplanon. the first time i had sex after getting the iud, i felt a little sensitive, but nothing bad. now, everything is great and my sex drive is fine. i've read stories of men that can feel their girlfriend's strings, but my boyfriend says he doesn't feel anything. i think i answered everything, but let me know if you have any more questions!\n",
      "\n",
      "best birth control option for someone with depression/anxiety. i’m a 19yr old female. i was on the pill back when i was 16 but stopped after only a couple months cuz i ended up going to a psychiatric hospital for my depression. i’m going to planned parenthood soon but first i want to hear others opinions &amp; experiences. i want to get the arm bar but i’m terrified it will mess with my hormones. i’ve been doing very well the past 2 years, i’m not on antidepressants so i don’t know how it will affect me. also weight gain side effects, i had an eating disorder for a couple years &amp; i’m really stressing that i will ----------(gain(?:ed)?|lost|lose) weight---------- mixed with hormonal changes and be put into a bad headspace again. please kind words, i was never taught much about bc &amp; all my friends just tell me horror stories. i’m in a serious long term relationship but we’ve never used contraceptives &amp; i’ve been fine but it’s time for me to start being more safe than sorry! thank you(:\n",
      "\n",
      " you ----------(gain(?:ed)?|lost|lose) weight---------- because you started eating more. simple as that. the pill can make your appetite increase and can increase hormones that make you emotional. the pill itself does not cause weight gain. lifestyle change is the best course of action here. learn calorie counting and start the road back down to a healthy weight. weigh your food. control your portions. the pounds will fly off.\n",
      "\n",
      " i have been on natazia now for about 6 months and i am very pleased with it. before i would go 3 sometimes 4 months without a period and now i get it every month and it only last a day or two. i have ----------(gain(?:ed)?|lost|lose) weight---------- on it and actually has suppressed my appetite a bit. overall i am very pleased with natazia and would recommend it to anyone that has pcos and/or is going on bc pills.\n",
      "\n",
      "sorry if this is stupid, but i am paranoid and thought i'd ask, any advice or insight would be great. i have been taking levora hbc for the past 2 months, i take it every day (but not necessarily at the same time every day, which the prescribing doctor told me was not a problem) but this last pack that ended on the 20th or 21st i missed the last day and took it the next which was either on the 21st or 22nd, it is now the 25th and no sign of my period, what are the chances that i'm pregnant?. i have regular unprotected sex with my bf, as this is our only form of birth control. edit: let me add, that this would be my first missed period and the only things out of the ordinary going on with my body are my left nipple being really sore/achey (like what i'd imagine a blocked duct feels like, with pressure behind it), i've been more tired/lethargic and i am rarely ----------hungry---------- but i feel a constant wave of nausea (but to be fair, that's been going on for a while)\n",
      "\n",
      "super uncomfortable with my iud right now. constipation? expulsion? just cramps? hi, warning this may be a tmi question to do not read on if you’re sensitive. i’ve had heavy periods all my life. i had an endometrial polyp removed in january 2019, with a kyleena inserted afterwards. while i had no problems with the iud itself, i bled *forvever* and threw in the towel after 10 months. i took a break from birth control, and then decided to try out a mirena in may. i had my string follow-up two months later and my iud was *in* my cervix. it was removed and replaced the same visit. fast forward to now, about two weeks have passed since the new insertion. i’ve been uncomfortable and crampy, but the past few days have been a different pain. i have lots of intermittent cramping and pressure. i have tons of pressure/pain when on the toilet bearing down to have a bowel movement. also, with random positional changes. it’s uncomfortable but not *rush-to-the-emergency-room* worthy. i thought perhaps i am just constipated. however, i had several large bowel movements yesterday and already one today (with some relief). i have recently taken a otc stool softener to see if that will help, too. i am having typical pms symptoms (emotional lability, sensitive nipples, food ----------craving----------s) but no bleeding. my app says my period is expected the next few days. i am unable to feel my strings, though my gynecologist purposely cut them short and i’ve only ever been able to feel the short tips (at most). i tend to be a hypochondriac and it’s probably just gas, but boy does it hurt! any suggestions or recommendations?\n",
      "\n",
      " so, what people mean when they say birth control makes them ----------(gain(?:ed)?|lost|lose) weight----------, is that it does something that *leads* to eating more, or moving less: increasing your appetite, giving you mood swings that you deal with by eating comfort food, lowering your mood or making you tired so you don't want to go out and be active. progestin specifically can definitely affect your hunger hormones. it would probably be beneficial for you to track your food (if you think that's ok for you to do mentally). birth control won't make you ----------(gain(?:ed)?|lost|lose) weight---------- out of nowhere, so it might be helpful to get a sense of how much you're eating &amp; moving vs. how much you think you'd need to be eating &amp; moving to maintain your weight. then if you try to make adjustments and you're, e.g. super tired, or super ----------hungry----------, it might be a clue.\n",
      "\n",
      " i've ----------(gain(?:ed)?|lost|lose) a (couple|few) pounds----------, i'm not entirely attributing it to the bc (only 5 lbs)and my periods were super long for the first 6 mo. theyre finally very short and light now! worth the wait\n",
      "\n",
      "just started yaz (gianvi), have some q's for pcos people i've strongly suspected i have pcos for years--moderate/severe hormonal acne for 16 yrs, crazy irregular periods, painful periods, facial hair, ----------(gain(?:ed)?|lost|lose) weight---------- easily/need to eat under 1000kcal a day to maintain weight/500kcal a day to lose--but was under the impression there was nothing to be done about it. finally looked into it more &amp; learned the increased testosterone can influence your body fat distribution (i'm shaped like a dude, a dude with tiddies) and make you depressed, anxious &amp; angry (all 3 have been major issues for me). my trans lady friends gushed that the combo of estrogen/androgen blockers cleared their skin, got rid of excess hair &amp; redistributed their body fat. and it could help my anger+intense anxiety? count me in, bitches. started on yaz (gianvi specifically), a low estrogen+androgen blocker combo pill. i'm only a week in, early days yet, but i wanted to ask other pcos sufferers who take it &amp; have been on it for a good awhile: \\-did you notice any marked difference in facial hair? \\-did you notice body fat shifting from upper body, e.g. arms, to your hips &amp; thighs? \\-did you notice a marked improvement in your emotional well being? \\-did you find it easier to ----------(gain(?:ed)?|lost|lose) weight----------? \\-did your skin improve &amp; if so, how much? i hear gianvi is especially good for hormonal acne &amp;#x200b; i don't wanna get my hopes up, but...man, i want those things sooo bad. my ob-gyn says to give yaz a shot first &amp; if it's not doin it for me, i can switch to another bc pill and spironolactone. i'm hoping yaz just does the trick, though. &amp;#x200b;\n",
      "\n",
      " i’m right there with you with significant mental health issues! the procedure was definitely not bad at all, quick and painless for me, the only slight pain was being numbed and then afterwards when the bruising happened but no pain once the bruising went away, it’s definitely the best fit for my lifestyle and i know some people say they gained a significant amount of weight once they got the implant, but i haven’t gained any at all, my dr said mainly people will ----------(gain(?:ed)?|lost|lose) weight---------- mostly because they just start over indulging and not really pacing themselves if that makes sense, but i can honestly say it’s been the best decision not only for me but for my relationship, if i’m not ready for a child by the time i need my implant taken out i will definitely be getting it again (i’m 20 btw)\n",
      "\n",
      "has anyone experienced belly fat w the copper iud/lingering pill weight? i was on the pill for about a year in 2016, but stopped after experiencing horrible mood swings/anxiety and belly weight gain (i also went from an a cup to a large c). i was bc free for a few months, and slowly ----------(gain(?:ed)?|lost|lose) weight---------- (but kept the boobs). after inserting the copper iud, i noticed that i stopped losing weight and gained a bit more. i’m not overweight by any means, but i’ve had the paraguard for a few years now and had hoped to bounce back to my pre-pill weight (about 15-20 lbs lighter) as i felt much most confident about my size then. i’m 21 years old, and i eat a pretty healthy vegan diet and am fairly active- has anyone had a similar experiences/ does anyone have any tips?\n",
      "\n",
      " not necessarily but no one can know for sure. birth control affects everyone differently. for me. i had nexplanon for years and it made me incredibly depressed and suicidal and manic. but i never ----------(gain(?:ed)?|lost|lose) weight----------. didn't get acne. etc. switched to sprintec(pill) and wasn't feeling depressed. but my hormonal acne was out of control. now i'm on yaz. no side effects whatsoever. acne is all but gone. and i'm one of the lucky ones who doesn't ever have any spotting or cramps when on birth control.\n",
      "\n",
      " my experience is exactly the opposite, i ----------(gain(?:ed)?|lost|lose) weight---------- on the progestin only pill without dieting (instead, i was always ----------hungry---------- and binge-eating but extremely relaxed, almost sleepy) and am gaining weight on the combined pill, even if it makes me anxious and my stomach doesn't want anything!\n",
      "\n"
     ]
    }
   ],
   "source": [
    "target_side_effect = 'weight & appetite'\n",
    "\n",
    "target_ids = [l.strip() for l in open(output_directory_path + '/lexicon-matches/' + '_'.join(target_side_effect.split()) + '.txt', 'r')]\n",
    "target_df = combined_df[combined_df['id'].isin(target_ids)]\n",
    "\n",
    "print(len(target_ids))\n",
    "\n",
    "for i, r in target_df.sample(20).iterrows():\n",
    "    _text = ''\n",
    "    if not pd.isnull(r['title']):\n",
    "        _text += r['title']\n",
    "    _text += ' ' + ' '.join(r['text'].split())\n",
    "    _text = _text.lower()\n",
    "    for _pattern in category_patterns_dict[target_side_effect]:\n",
    "        _text = re.sub(_pattern, '----------' + _pattern + '----------', _text)\n",
    "    _text\n",
    "    print(_text)\n",
    "    print()\n",
    "\n",
    "# made me dry\n",
    "# get dry, got dry\n",
    "# vaginal dryness\n",
    "# dryness?"
   ]
  },
  {
   "cell_type": "markdown",
   "metadata": {},
   "source": [
    "# Create CSV for labeling"
   ]
  },
  {
   "cell_type": "code",
   "execution_count": 50,
   "metadata": {},
   "outputs": [
    {
     "name": "stdout",
     "output_type": "stream",
     "text": [
      "bloating.txt\n",
      "breast_sensitivity.txt\n",
      "dryness.txt\n",
      "general_side_effects.txt\n",
      "hair_loss.txt\n",
      "headache.txt\n",
      "infection.txt\n",
      "menstrual_bleeding.txt\n",
      "mental_health.txt\n",
      "migraine.txt\n",
      "nausea.txt\n",
      "pain.txt\n",
      "partner_felt_strings.txt\n",
      "pms.txt\n",
      "severe_effects.txt\n",
      "sex_drive.txt\n",
      "skin_conditions.txt\n",
      "sleep.txt\n",
      "vaginal_discharge.txt\n",
      "weight_&_appetite.txt\n"
     ]
    },
    {
     "data": {
      "text/plain": [
       "20"
      ]
     },
     "execution_count": 50,
     "metadata": {},
     "output_type": "execute_result"
    }
   ],
   "source": [
    "category_matches_dict = defaultdict(list)\n",
    "for _file_name in os.listdir(output_directory_path + '/lexicon-matches'):\n",
    "    if _file_name.endswith('.txt'):\n",
    "        _category = ' '.join(_file_name.replace('.txt', '').split('_')).strip()\n",
    "        print(_file_name)\n",
    "        for _line in open(output_directory_path + '/lexicon-matches/' + _file_name, 'r'):\n",
    "            if _line.strip():\n",
    "                category_matches_dict[_category].append(_line.strip())\n",
    "len(category_matches_dict)"
   ]
  },
  {
   "cell_type": "code",
   "execution_count": 51,
   "metadata": {},
   "outputs": [
    {
     "data": {
      "text/plain": [
       "1078577"
      ]
     },
     "execution_count": 51,
     "metadata": {},
     "output_type": "execute_result"
    }
   ],
   "source": [
    "id_data_dict = {}\n",
    "for i, r in combined_df.iterrows():\n",
    "    # id_text_dict[str(r['id'])] = ' '.join(r['text'].split())\n",
    "    # if not pd.isnull(r['title']):\n",
    "    #     id_text_dict[str(r['id'])] += '\\n' + r['title']\n",
    "    id_data_dict[str(r['id'])] = r\n",
    "len(id_data_dict)"
   ]
  },
  {
   "cell_type": "code",
   "execution_count": 52,
   "metadata": {},
   "outputs": [
    {
     "data": {
      "text/plain": [
       "200"
      ]
     },
     "execution_count": 52,
     "metadata": {},
     "output_type": "execute_result"
    }
   ],
   "source": [
    "dicts_to_label = []\n",
    "for _category, _matches in category_matches_dict.items():\n",
    "    for _id in random.sample(_matches, 10):\n",
    "        _text = ' '.join(id_data_dict[_id]['text'].split())\n",
    "        if not pd.isnull(id_data_dict[_id]['title']):\n",
    "            _text = ' '.join(str(id_data_dict[_id]['title']).split()) + ' ' + _text\n",
    "        dicts_to_label.append({'Side Effect': _category,\n",
    "                               'Matched': 'yes',\n",
    "                               'Source': id_data_dict[_id]['source'],\n",
    "                               'ID': str(_id),\n",
    "                               'Text': _text})\n",
    "len(dicts_to_label)"
   ]
  },
  {
   "cell_type": "code",
   "execution_count": 53,
   "metadata": {},
   "outputs": [
    {
     "name": "stdout",
     "output_type": "stream",
     "text": [
      "bloating\n",
      "breast sensitivity\n",
      "dryness\n",
      "general side effects\n",
      "hair loss\n",
      "headache\n",
      "infection\n",
      "menstrual bleeding\n",
      "mental health\n",
      "migraine\n",
      "nausea\n",
      "pain\n",
      "partner felt strings\n",
      "pms\n",
      "severe effects\n",
      "sex drive\n",
      "skin conditions\n",
      "sleep\n",
      "vaginal discharge\n",
      "weight & appetite\n"
     ]
    },
    {
     "data": {
      "text/plain": [
       "400"
      ]
     },
     "execution_count": 53,
     "metadata": {},
     "output_type": "execute_result"
    }
   ],
   "source": [
    "all_ids = random.sample(list(id_data_dict.keys()), 10000)\n",
    "for _category, _matches in category_matches_dict.items():\n",
    "    print(_category)\n",
    "    _unmatched_ids = [_id for _id in all_ids if _id not in _matches]\n",
    "    for _id in random.sample(_unmatched_ids, 10):\n",
    "        _text = ' '.join(id_data_dict[_id]['text'].split())\n",
    "        if not pd.isnull(id_data_dict[_id]['title']):\n",
    "            _text = ' '.join(str(id_data_dict[_id]['title']).split()) + ' ' + _text\n",
    "        dicts_to_label.append({'Side Effect': _category,\n",
    "                               'Matched': 'no',\n",
    "                               'Source': id_data_dict[_id]['source'],\n",
    "                               'ID': str(_id),\n",
    "                               'Text': _text})\n",
    "len(dicts_to_label)"
   ]
  },
  {
   "cell_type": "code",
   "execution_count": 54,
   "metadata": {},
   "outputs": [
    {
     "data": {
      "text/html": [
       "<div>\n",
       "<style scoped>\n",
       "    .dataframe tbody tr th:only-of-type {\n",
       "        vertical-align: middle;\n",
       "    }\n",
       "\n",
       "    .dataframe tbody tr th {\n",
       "        vertical-align: top;\n",
       "    }\n",
       "\n",
       "    .dataframe thead th {\n",
       "        text-align: right;\n",
       "    }\n",
       "</style>\n",
       "<table border=\"1\" class=\"dataframe\">\n",
       "  <thead>\n",
       "    <tr style=\"text-align: right;\">\n",
       "      <th></th>\n",
       "      <th>Side Effect</th>\n",
       "      <th>Matched</th>\n",
       "      <th>Source</th>\n",
       "      <th>ID</th>\n",
       "      <th>Text</th>\n",
       "    </tr>\n",
       "  </thead>\n",
       "  <tbody>\n",
       "    <tr>\n",
       "      <th>111</th>\n",
       "      <td>pain</td>\n",
       "      <td>yes</td>\n",
       "      <td>twitter-posts</td>\n",
       "      <td>903408502911115266</td>\n",
       "      <td>Hi I just got my old IUD removed and a new one...</td>\n",
       "    </tr>\n",
       "    <tr>\n",
       "      <th>39</th>\n",
       "      <td>general side effects</td>\n",
       "      <td>yes</td>\n",
       "      <td>twitter-posts</td>\n",
       "      <td>822339655693729792</td>\n",
       "      <td>Really tho, should I get an IUD? What are the ...</td>\n",
       "    </tr>\n",
       "    <tr>\n",
       "      <th>61</th>\n",
       "      <td>infection</td>\n",
       "      <td>yes</td>\n",
       "      <td>twitter-replies</td>\n",
       "      <td>127003196618047488</td>\n",
       "      <td>\"can't stds crawl up the SPINE of the IUD and ...</td>\n",
       "    </tr>\n",
       "    <tr>\n",
       "      <th>207</th>\n",
       "      <td>bloating</td>\n",
       "      <td>no</td>\n",
       "      <td>twitter-posts</td>\n",
       "      <td>650464160371843076</td>\n",
       "      <td>I'm playing WordBrain and I've just reached br...</td>\n",
       "    </tr>\n",
       "    <tr>\n",
       "      <th>136</th>\n",
       "      <td>pms</td>\n",
       "      <td>yes</td>\n",
       "      <td>webmd-reviews</td>\n",
       "      <td>w5245</td>\n",
       "      <td>Im into my second pack 1st month period came a...</td>\n",
       "    </tr>\n",
       "  </tbody>\n",
       "</table>\n",
       "</div>"
      ],
      "text/plain": [
       "              Side Effect Matched           Source                  ID  \\\n",
       "111                  pain     yes    twitter-posts  903408502911115266   \n",
       "39   general side effects     yes    twitter-posts  822339655693729792   \n",
       "61              infection     yes  twitter-replies  127003196618047488   \n",
       "207              bloating      no    twitter-posts  650464160371843076   \n",
       "136                   pms     yes    webmd-reviews               w5245   \n",
       "\n",
       "                                                  Text  \n",
       "111  Hi I just got my old IUD removed and a new one...  \n",
       "39   Really tho, should I get an IUD? What are the ...  \n",
       "61   \"can't stds crawl up the SPINE of the IUD and ...  \n",
       "207  I'm playing WordBrain and I've just reached br...  \n",
       "136  Im into my second pack 1st month period came a...  "
      ]
     },
     "execution_count": 54,
     "metadata": {},
     "output_type": "execute_result"
    }
   ],
   "source": [
    "df_to_label = pd.DataFrame(dicts_to_label)\n",
    "df_to_label.sample(5)"
   ]
  },
  {
   "cell_type": "code",
   "execution_count": 55,
   "metadata": {},
   "outputs": [],
   "source": [
    "df_to_label.to_csv(output_directory_path + '/lexicon_matches_to_label.csv')"
   ]
  },
  {
   "cell_type": "code",
   "execution_count": null,
   "metadata": {},
   "outputs": [],
   "source": []
  }
 ],
 "metadata": {
  "interpreter": {
   "hash": "3bf6718e1fb94d37e4dcdce4af31e71b15d9d634835b5761d954c77044e0e9ad"
  },
  "kernelspec": {
   "display_name": "Python 3",
   "language": "python",
   "name": "python3"
  },
  "language_info": {
   "codemirror_mode": {
    "name": "ipython",
    "version": 3
   },
   "file_extension": ".py",
   "mimetype": "text/x-python",
   "name": "python",
   "nbconvert_exporter": "python",
   "pygments_lexer": "ipython3",
   "version": "3.8.12"
  }
 },
 "nbformat": 4,
 "nbformat_minor": 2
}
